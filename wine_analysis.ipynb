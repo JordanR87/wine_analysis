{
 "cells": [
  {
   "cell_type": "markdown",
   "metadata": {},
   "source": [
    "### Importing Data and Packages\n",
    "#### Pandas for data manipulation and Plotly for visualisation. Each graph produced can be interactively zoomed on.\n",
    "\n",
    "#### The data imported has been cleaned in Microsoft Excel. Because of the small size of the dataset, it was quicker to clean in to two CSVs with data that I considered relevant, as well two transformations of data in the first sheet, that is the both the average list price and the market price of a given wine, minus the benchmark trade price. Rows from the first sheet of data has rows where Null values for prices exist, omitted.\n",
    "\n",
    "#### The first sheet of data is called prices whilst the second sheet of data that contains wine scores, is called scores. Both of these sheets of data have had the \"LWIN_11\" calculated for each row of data. The two sheets will be merged to form a complete dataframe called \"merge\". This reduces the list to 142 wines of different producers and vintages. 2000 wines are omitted from this analysis as they were not present in the second dataset.\n"
   ]
  },
  {
   "cell_type": "code",
   "execution_count": 132,
   "metadata": {},
   "outputs": [],
   "source": [
    "import pandas as pd\n",
    "import plotly.express as px\n",
    "\n",
    "prices = pd.read_csv(\"https://raw.githubusercontent.com/JordanR87/wine_analysis/main/wine_prices.csv\")\n",
    "scores = pd.read_csv(\"https://raw.githubusercontent.com/JordanR87/wine_analysis/main/wine_scores.csv\", encoding='latin1')"
   ]
  },
  {
   "cell_type": "code",
   "execution_count": 133,
   "metadata": {},
   "outputs": [],
   "source": [
    "prices = prices.drop_duplicates(subset =\"lwin_11\")\n",
    "scores = scores.drop_duplicates(subset = \"lwin_11\")"
   ]
  },
  {
   "cell_type": "code",
   "execution_count": 134,
   "metadata": {},
   "outputs": [],
   "source": [
    "merge = pd.merge(prices, scores, on='lwin_11')"
   ]
  },
  {
   "cell_type": "code",
   "execution_count": 137,
   "metadata": {},
   "outputs": [
    {
     "data": {
      "text/html": [
       "<div>\n",
       "<style scoped>\n",
       "    .dataframe tbody tr th:only-of-type {\n",
       "        vertical-align: middle;\n",
       "    }\n",
       "\n",
       "    .dataframe tbody tr th {\n",
       "        vertical-align: top;\n",
       "    }\n",
       "\n",
       "    .dataframe thead th {\n",
       "        text-align: right;\n",
       "    }\n",
       "</style>\n",
       "<table border=\"1\" class=\"dataframe\">\n",
       "  <thead>\n",
       "    <tr style=\"text-align: right;\">\n",
       "      <th></th>\n",
       "      <th>marketPrice</th>\n",
       "      <th>marketPriceDate</th>\n",
       "      <th>averageListPrice</th>\n",
       "      <th>averageListQty</th>\n",
       "      <th>benchmarkTradePrice</th>\n",
       "      <th>mk_price_minus_bmk_price</th>\n",
       "      <th>list_price_minus_bmk_price</th>\n",
       "      <th>benchmarkTradeDate</th>\n",
       "      <th>wineName</th>\n",
       "      <th>region</th>\n",
       "      <th>vintage_x</th>\n",
       "      <th>importdate</th>\n",
       "      <th>lwin_11</th>\n",
       "      <th>lwin_7</th>\n",
       "      <th>vintage_y</th>\n",
       "      <th>location_name</th>\n",
       "      <th>color</th>\n",
       "      <th>maturity</th>\n",
       "      <th>type</th>\n",
       "      <th>variety</th>\n",
       "      <th>critic_fullname</th>\n",
       "      <th>score</th>\n",
       "      <th>drink_year_min</th>\n",
       "      <th>drink_year_max</th>\n",
       "      <th>score_date</th>\n",
       "      <th>lwin</th>\n",
       "    </tr>\n",
       "  </thead>\n",
       "  <tbody>\n",
       "    <tr>\n",
       "      <th>0</th>\n",
       "      <td>1480</td>\n",
       "      <td>03/05/2021</td>\n",
       "      <td>1618</td>\n",
       "      <td>73</td>\n",
       "      <td>1356</td>\n",
       "      <td>124</td>\n",
       "      <td>262</td>\n",
       "      <td>20/04/2021</td>\n",
       "      <td>Gaja, Barbaresco</td>\n",
       "      <td>Piedmont</td>\n",
       "      <td>2017</td>\n",
       "      <td>10/05/2021</td>\n",
       "      <td>10996052017</td>\n",
       "      <td>1099605</td>\n",
       "      <td>2017</td>\n",
       "      <td>Barbaresco</td>\n",
       "      <td>Red</td>\n",
       "      <td>Young</td>\n",
       "      <td>Table</td>\n",
       "      <td>Nebbiolo</td>\n",
       "      <td>Monica Larner</td>\n",
       "      <td>95.0</td>\n",
       "      <td>2023.0</td>\n",
       "      <td>2045.0</td>\n",
       "      <td>23/07/2020</td>\n",
       "      <td>1099605</td>\n",
       "    </tr>\n",
       "    <tr>\n",
       "      <th>1</th>\n",
       "      <td>1110</td>\n",
       "      <td>04/05/2021</td>\n",
       "      <td>1181</td>\n",
       "      <td>12</td>\n",
       "      <td>1204</td>\n",
       "      <td>-94</td>\n",
       "      <td>-23</td>\n",
       "      <td>03/05/2021</td>\n",
       "      <td>Tignanello, Toscana</td>\n",
       "      <td>Tuscany</td>\n",
       "      <td>2015</td>\n",
       "      <td>10/05/2021</td>\n",
       "      <td>10953912015</td>\n",
       "      <td>1095391</td>\n",
       "      <td>2015</td>\n",
       "      <td>Toscana</td>\n",
       "      <td>Red</td>\n",
       "      <td>Early</td>\n",
       "      <td>Table</td>\n",
       "      <td>Proprietary Blend</td>\n",
       "      <td>Monica Larner</td>\n",
       "      <td>96.0</td>\n",
       "      <td>2019.0</td>\n",
       "      <td>2040.0</td>\n",
       "      <td>06/09/2018</td>\n",
       "      <td>1095391</td>\n",
       "    </tr>\n",
       "    <tr>\n",
       "      <th>2</th>\n",
       "      <td>3910</td>\n",
       "      <td>07/05/2021</td>\n",
       "      <td>4793</td>\n",
       "      <td>77</td>\n",
       "      <td>3800</td>\n",
       "      <td>110</td>\n",
       "      <td>993</td>\n",
       "      <td>07/04/2021</td>\n",
       "      <td>Chateau Margaux Premier Cru Classe, Margaux</td>\n",
       "      <td>Bordeaux</td>\n",
       "      <td>2006</td>\n",
       "      <td>10/05/2021</td>\n",
       "      <td>10127812006</td>\n",
       "      <td>1012781</td>\n",
       "      <td>2006</td>\n",
       "      <td>Margaux</td>\n",
       "      <td>Red</td>\n",
       "      <td>Mature</td>\n",
       "      <td>Table</td>\n",
       "      <td>Proprietary Blend</td>\n",
       "      <td>Neal Martin</td>\n",
       "      <td>94.0</td>\n",
       "      <td>2016.0</td>\n",
       "      <td>2030.0</td>\n",
       "      <td>29/05/2016</td>\n",
       "      <td>1012781</td>\n",
       "    </tr>\n",
       "  </tbody>\n",
       "</table>\n",
       "</div>"
      ],
      "text/plain": [
       "   marketPrice marketPriceDate  averageListPrice  averageListQty  \\\n",
       "0         1480      03/05/2021              1618              73   \n",
       "1         1110      04/05/2021              1181              12   \n",
       "2         3910      07/05/2021              4793              77   \n",
       "\n",
       "   benchmarkTradePrice  mk_price_minus_bmk_price  list_price_minus_bmk_price  \\\n",
       "0                 1356                       124                         262   \n",
       "1                 1204                       -94                         -23   \n",
       "2                 3800                       110                         993   \n",
       "\n",
       "  benchmarkTradeDate                                     wineName    region  \\\n",
       "0         20/04/2021                             Gaja, Barbaresco  Piedmont   \n",
       "1         03/05/2021                          Tignanello, Toscana   Tuscany   \n",
       "2         07/04/2021  Chateau Margaux Premier Cru Classe, Margaux  Bordeaux   \n",
       "\n",
       "   vintage_x  importdate      lwin_11   lwin_7  vintage_y location_name color  \\\n",
       "0       2017  10/05/2021  10996052017  1099605       2017    Barbaresco   Red   \n",
       "1       2015  10/05/2021  10953912015  1095391       2015       Toscana   Red   \n",
       "2       2006  10/05/2021  10127812006  1012781       2006       Margaux   Red   \n",
       "\n",
       "  maturity   type            variety critic_fullname  score  drink_year_min  \\\n",
       "0    Young  Table           Nebbiolo   Monica Larner   95.0          2023.0   \n",
       "1    Early  Table  Proprietary Blend   Monica Larner   96.0          2019.0   \n",
       "2   Mature  Table  Proprietary Blend     Neal Martin   94.0          2016.0   \n",
       "\n",
       "   drink_year_max  score_date     lwin  \n",
       "0          2045.0  23/07/2020  1099605  \n",
       "1          2040.0  06/09/2018  1095391  \n",
       "2          2030.0  29/05/2016  1012781  "
      ]
     },
     "execution_count": 137,
     "metadata": {},
     "output_type": "execute_result"
    }
   ],
   "source": [
    "#pd.set_option('display.max_rows', None)\n",
    "#pd.set_option('display.max_columns', None)\n",
    "merge.head(3)"
   ]
  },
  {
   "cell_type": "markdown",
   "metadata": {},
   "source": [
    "### Producers and Vintages\n",
    "#### The following three graphs show information with respect to producers, vintages, mean benchmark price and the mean difference between market price and benchmark price (increase in price).\n",
    "\n",
    "#### The first graph illustrates the timeseries of each Producers wines in terms of calculated increase in price. We can see the \"bad years for each the wine producers in terms of the decrease in market price against the benchmark price. 2011 and 2015 were consistently bad years for two of the Burgundy Producers.\n",
    "#### The second graph illustrates benchmark trade price against the increase in price. This is colored by producer and sized by \"market price\".\n",
    "#### The third graph shows the scores of wines against grouped mean data, spefically the mean increase of price. Datapoints are colored to producer and sized by \"market price\".\n",
    "\n",
    "\n",
    "#### We can see there are three stand out producers in terms of market price, benchmark price and the amount of increase in price between these two variables. These three producers are where the higher returns are made, but also are the most expensive to buy.\n",
    "#### There is also a small cluster of three producers in the third graph that are consistently scoring around 95.5. One producer from St Emillion and one in Margaux. These wines all happen to be the next three biggest wines in mean market price.\n"
   ]
  },
  {
   "cell_type": "code",
   "execution_count": 6,
   "metadata": {},
   "outputs": [],
   "source": [
    "name_vintage = merge.groupby([\"wineName\", \"vintage_x\"]).sum().reset_index()"
   ]
  },
  {
   "cell_type": "code",
   "execution_count": 7,
   "metadata": {},
   "outputs": [],
   "source": [
    "name_mean =  merge.groupby([\"wineName\"]).mean().reset_index()\n",
    "name_std = merge.groupby([\"wineName\"]).std().reset_index()"
   ]
  },
  {
   "cell_type": "code",
   "execution_count": 120,
   "metadata": {},
   "outputs": [
    {
     "data": {
      "application/vnd.plotly.v1+json": {
       "config": {
        "plotlyServerURL": "https://plot.ly"
       },
       "data": [
        {
         "hovertemplate": "wineName=Chateau Angelus Premier Grand Cru Classe A, Saint-Emilion Grand Cru<br>vintage_x=%{x}<br>mk_price_minus_bmk_price=%{y}<extra></extra>",
         "legendgroup": "Chateau Angelus Premier Grand Cru Classe A, Saint-Emilion Grand Cru",
         "line": {
          "color": "#636efa",
          "dash": "solid"
         },
         "mode": "lines",
         "name": "Chateau Angelus Premier Grand Cru Classe A, Saint-Emilion Grand Cru",
         "orientation": "v",
         "showlegend": true,
         "type": "scatter",
         "x": [
          2012,
          2013,
          2014,
          2015,
          2016,
          2017,
          2018,
          2019
         ],
         "xaxis": "x",
         "y": [
          195,
          300,
          100,
          80,
          116,
          272,
          24,
          359
         ],
         "yaxis": "y"
        },
        {
         "hovertemplate": "wineName=Chateau Angelus Premier Grand Cru Classe B, Saint-Emilion Grand Cru<br>vintage_x=%{x}<br>mk_price_minus_bmk_price=%{y}<extra></extra>",
         "legendgroup": "Chateau Angelus Premier Grand Cru Classe B, Saint-Emilion Grand Cru",
         "line": {
          "color": "#EF553B",
          "dash": "solid"
         },
         "mode": "lines",
         "name": "Chateau Angelus Premier Grand Cru Classe B, Saint-Emilion Grand Cru",
         "orientation": "v",
         "showlegend": true,
         "type": "scatter",
         "x": [
          2001,
          2002,
          2003,
          2004,
          2005,
          2006,
          2007,
          2008,
          2009,
          2010,
          2011
         ],
         "xaxis": "x",
         "y": [
          499,
          363,
          145,
          442,
          -125,
          250,
          190,
          245,
          295,
          50,
          590
         ],
         "yaxis": "y"
        },
        {
         "hovertemplate": "wineName=Chateau Batailley 5eme Cru Classe, Pauillac<br>vintage_x=%{x}<br>mk_price_minus_bmk_price=%{y}<extra></extra>",
         "legendgroup": "Chateau Batailley 5eme Cru Classe, Pauillac",
         "line": {
          "color": "#00cc96",
          "dash": "solid"
         },
         "mode": "lines",
         "name": "Chateau Batailley 5eme Cru Classe, Pauillac",
         "orientation": "v",
         "showlegend": true,
         "type": "scatter",
         "x": [
          2001,
          2002,
          2003,
          2004,
          2005,
          2006,
          2007,
          2008,
          2009,
          2010,
          2011,
          2012,
          2013,
          2014,
          2015,
          2016,
          2018
         ],
         "xaxis": "x",
         "y": [
          3,
          230,
          130,
          225,
          80,
          -112,
          110,
          68,
          -14,
          -4,
          100,
          45,
          -4,
          26,
          184,
          117,
          51
         ],
         "yaxis": "y"
        },
        {
         "hovertemplate": "wineName=Chateau Calon Segur 3eme Cru Classe, Saint-Estephe<br>vintage_x=%{x}<br>mk_price_minus_bmk_price=%{y}<extra></extra>",
         "legendgroup": "Chateau Calon Segur 3eme Cru Classe, Saint-Estephe",
         "line": {
          "color": "#ab63fa",
          "dash": "solid"
         },
         "mode": "lines",
         "name": "Chateau Calon Segur 3eme Cru Classe, Saint-Estephe",
         "orientation": "v",
         "showlegend": true,
         "type": "scatter",
         "x": [
          2001,
          2002,
          2003,
          2004,
          2005,
          2006,
          2007,
          2008,
          2009,
          2010,
          2011,
          2012,
          2013,
          2014,
          2015,
          2016,
          2017,
          2018,
          2019
         ],
         "xaxis": "x",
         "y": [
          102,
          165,
          100,
          55,
          12,
          37,
          155,
          59,
          -51,
          0,
          -40,
          85,
          98,
          -4,
          -10,
          34,
          -22,
          90,
          108
         ],
         "yaxis": "y"
        },
        {
         "hovertemplate": "wineName=Chateau Margaux Premier Cru Classe, Margaux<br>vintage_x=%{x}<br>mk_price_minus_bmk_price=%{y}<extra></extra>",
         "legendgroup": "Chateau Margaux Premier Cru Classe, Margaux",
         "line": {
          "color": "#FFA15A",
          "dash": "solid"
         },
         "mode": "lines",
         "name": "Chateau Margaux Premier Cru Classe, Margaux",
         "orientation": "v",
         "showlegend": true,
         "type": "scatter",
         "x": [
          2001,
          2002,
          2003,
          2004,
          2005,
          2006,
          2007,
          2008,
          2009,
          2010,
          2011,
          2012,
          2013,
          2014,
          2015,
          2016,
          2017,
          2018,
          2019
         ],
         "xaxis": "x",
         "y": [
          0,
          216,
          50,
          -290,
          134,
          110,
          35,
          40,
          -256,
          328,
          68,
          240,
          180,
          240,
          656,
          177,
          0,
          265,
          660
         ],
         "yaxis": "y"
        },
        {
         "hovertemplate": "wineName=Domaine Denis Mortet, Chambertin Grand Cru<br>vintage_x=%{x}<br>mk_price_minus_bmk_price=%{y}<extra></extra>",
         "legendgroup": "Domaine Denis Mortet, Chambertin Grand Cru",
         "line": {
          "color": "#19d3f3",
          "dash": "solid"
         },
         "mode": "lines",
         "name": "Domaine Denis Mortet, Chambertin Grand Cru",
         "orientation": "v",
         "showlegend": true,
         "type": "scatter",
         "x": [
          2013,
          2014,
          2017
         ],
         "xaxis": "x",
         "y": [
          6650,
          1200,
          726
         ],
         "yaxis": "y"
        },
        {
         "hovertemplate": "wineName=Domaine Leflaive, Chevalier-Montrachet Grand Cru<br>vintage_x=%{x}<br>mk_price_minus_bmk_price=%{y}<extra></extra>",
         "legendgroup": "Domaine Leflaive, Chevalier-Montrachet Grand Cru",
         "line": {
          "color": "#FF6692",
          "dash": "solid"
         },
         "mode": "lines",
         "name": "Domaine Leflaive, Chevalier-Montrachet Grand Cru",
         "orientation": "v",
         "showlegend": true,
         "type": "scatter",
         "x": [
          2001,
          2003,
          2005,
          2006,
          2007,
          2008,
          2009,
          2010,
          2011,
          2012,
          2013,
          2014,
          2015,
          2016,
          2017,
          2018
         ],
         "xaxis": "x",
         "y": [
          -728,
          5070,
          495,
          2632,
          2700,
          3600,
          1640,
          2440,
          -500,
          1860,
          1200,
          1950,
          -1504,
          782,
          1026,
          470
         ],
         "yaxis": "y"
        },
        {
         "hovertemplate": "wineName=Gaja, Barbaresco<br>vintage_x=%{x}<br>mk_price_minus_bmk_price=%{y}<extra></extra>",
         "legendgroup": "Gaja, Barbaresco",
         "line": {
          "color": "#B6E880",
          "dash": "solid"
         },
         "mode": "lines",
         "name": "Gaja, Barbaresco",
         "orientation": "v",
         "showlegend": true,
         "type": "scatter",
         "x": [
          2001,
          2003,
          2004,
          2005,
          2006,
          2007,
          2008,
          2009,
          2010,
          2011,
          2012,
          2013,
          2014,
          2015,
          2016,
          2017
         ],
         "xaxis": "x",
         "y": [
          280,
          451,
          70,
          670,
          318,
          500,
          425,
          859,
          360,
          -2,
          250,
          124,
          -1,
          90,
          92,
          124
         ],
         "yaxis": "y"
        },
        {
         "hovertemplate": "wineName=Jacques-Frederic Mugnier, Chambolle-Musigny Premier Cru, Les Amoureuses<br>vintage_x=%{x}<br>mk_price_minus_bmk_price=%{y}<extra></extra>",
         "legendgroup": "Jacques-Frederic Mugnier, Chambolle-Musigny Premier Cru, Les Amoureuses",
         "line": {
          "color": "#FF97FF",
          "dash": "solid"
         },
         "mode": "lines",
         "name": "Jacques-Frederic Mugnier, Chambolle-Musigny Premier Cru, Les Amoureuses",
         "orientation": "v",
         "showlegend": true,
         "type": "scatter",
         "x": [
          2011,
          2012,
          2014,
          2015,
          2017
         ],
         "xaxis": "x",
         "y": [
          -448,
          10642,
          2520,
          -3984,
          4000
         ],
         "yaxis": "y"
        },
        {
         "hovertemplate": "wineName=Tignanello, Toscana<br>vintage_x=%{x}<br>mk_price_minus_bmk_price=%{y}<extra></extra>",
         "legendgroup": "Tignanello, Toscana",
         "line": {
          "color": "#FECB52",
          "dash": "solid"
         },
         "mode": "lines",
         "name": "Tignanello, Toscana",
         "orientation": "v",
         "showlegend": true,
         "type": "scatter",
         "x": [
          2001,
          2003,
          2004,
          2005,
          2006,
          2007,
          2008,
          2009,
          2010,
          2011,
          2012,
          2013,
          2014,
          2015,
          2016,
          2017,
          2018
         ],
         "xaxis": "x",
         "y": [
          322,
          363,
          498,
          258,
          170,
          100,
          90,
          -48,
          156,
          98,
          110,
          140,
          150,
          -94,
          118,
          57,
          -50
         ],
         "yaxis": "y"
        },
        {
         "hovertemplate": "wineName=Tua Rita, Giusto di Notri, Toscana<br>vintage_x=%{x}<br>mk_price_minus_bmk_price=%{y}<extra></extra>",
         "legendgroup": "Tua Rita, Giusto di Notri, Toscana",
         "line": {
          "color": "#636efa",
          "dash": "solid"
         },
         "mode": "lines",
         "name": "Tua Rita, Giusto di Notri, Toscana",
         "orientation": "v",
         "showlegend": true,
         "type": "scatter",
         "x": [
          2004,
          2006,
          2007,
          2008,
          2011,
          2012,
          2013,
          2015,
          2016,
          2017,
          2018
         ],
         "xaxis": "x",
         "y": [
          223,
          270,
          240,
          60,
          78,
          192,
          -4,
          87,
          40,
          167,
          100
         ],
         "yaxis": "y"
        }
       ],
       "layout": {
        "legend": {
         "title": {
          "text": "wineName"
         },
         "tracegroupgap": 0
        },
        "margin": {
         "t": 60
        },
        "template": {
         "data": {
          "bar": [
           {
            "error_x": {
             "color": "#2a3f5f"
            },
            "error_y": {
             "color": "#2a3f5f"
            },
            "marker": {
             "line": {
              "color": "#E5ECF6",
              "width": 0.5
             }
            },
            "type": "bar"
           }
          ],
          "barpolar": [
           {
            "marker": {
             "line": {
              "color": "#E5ECF6",
              "width": 0.5
             }
            },
            "type": "barpolar"
           }
          ],
          "carpet": [
           {
            "aaxis": {
             "endlinecolor": "#2a3f5f",
             "gridcolor": "white",
             "linecolor": "white",
             "minorgridcolor": "white",
             "startlinecolor": "#2a3f5f"
            },
            "baxis": {
             "endlinecolor": "#2a3f5f",
             "gridcolor": "white",
             "linecolor": "white",
             "minorgridcolor": "white",
             "startlinecolor": "#2a3f5f"
            },
            "type": "carpet"
           }
          ],
          "choropleth": [
           {
            "colorbar": {
             "outlinewidth": 0,
             "ticks": ""
            },
            "type": "choropleth"
           }
          ],
          "contour": [
           {
            "colorbar": {
             "outlinewidth": 0,
             "ticks": ""
            },
            "colorscale": [
             [
              0,
              "#0d0887"
             ],
             [
              0.1111111111111111,
              "#46039f"
             ],
             [
              0.2222222222222222,
              "#7201a8"
             ],
             [
              0.3333333333333333,
              "#9c179e"
             ],
             [
              0.4444444444444444,
              "#bd3786"
             ],
             [
              0.5555555555555556,
              "#d8576b"
             ],
             [
              0.6666666666666666,
              "#ed7953"
             ],
             [
              0.7777777777777778,
              "#fb9f3a"
             ],
             [
              0.8888888888888888,
              "#fdca26"
             ],
             [
              1,
              "#f0f921"
             ]
            ],
            "type": "contour"
           }
          ],
          "contourcarpet": [
           {
            "colorbar": {
             "outlinewidth": 0,
             "ticks": ""
            },
            "type": "contourcarpet"
           }
          ],
          "heatmap": [
           {
            "colorbar": {
             "outlinewidth": 0,
             "ticks": ""
            },
            "colorscale": [
             [
              0,
              "#0d0887"
             ],
             [
              0.1111111111111111,
              "#46039f"
             ],
             [
              0.2222222222222222,
              "#7201a8"
             ],
             [
              0.3333333333333333,
              "#9c179e"
             ],
             [
              0.4444444444444444,
              "#bd3786"
             ],
             [
              0.5555555555555556,
              "#d8576b"
             ],
             [
              0.6666666666666666,
              "#ed7953"
             ],
             [
              0.7777777777777778,
              "#fb9f3a"
             ],
             [
              0.8888888888888888,
              "#fdca26"
             ],
             [
              1,
              "#f0f921"
             ]
            ],
            "type": "heatmap"
           }
          ],
          "heatmapgl": [
           {
            "colorbar": {
             "outlinewidth": 0,
             "ticks": ""
            },
            "colorscale": [
             [
              0,
              "#0d0887"
             ],
             [
              0.1111111111111111,
              "#46039f"
             ],
             [
              0.2222222222222222,
              "#7201a8"
             ],
             [
              0.3333333333333333,
              "#9c179e"
             ],
             [
              0.4444444444444444,
              "#bd3786"
             ],
             [
              0.5555555555555556,
              "#d8576b"
             ],
             [
              0.6666666666666666,
              "#ed7953"
             ],
             [
              0.7777777777777778,
              "#fb9f3a"
             ],
             [
              0.8888888888888888,
              "#fdca26"
             ],
             [
              1,
              "#f0f921"
             ]
            ],
            "type": "heatmapgl"
           }
          ],
          "histogram": [
           {
            "marker": {
             "colorbar": {
              "outlinewidth": 0,
              "ticks": ""
             }
            },
            "type": "histogram"
           }
          ],
          "histogram2d": [
           {
            "colorbar": {
             "outlinewidth": 0,
             "ticks": ""
            },
            "colorscale": [
             [
              0,
              "#0d0887"
             ],
             [
              0.1111111111111111,
              "#46039f"
             ],
             [
              0.2222222222222222,
              "#7201a8"
             ],
             [
              0.3333333333333333,
              "#9c179e"
             ],
             [
              0.4444444444444444,
              "#bd3786"
             ],
             [
              0.5555555555555556,
              "#d8576b"
             ],
             [
              0.6666666666666666,
              "#ed7953"
             ],
             [
              0.7777777777777778,
              "#fb9f3a"
             ],
             [
              0.8888888888888888,
              "#fdca26"
             ],
             [
              1,
              "#f0f921"
             ]
            ],
            "type": "histogram2d"
           }
          ],
          "histogram2dcontour": [
           {
            "colorbar": {
             "outlinewidth": 0,
             "ticks": ""
            },
            "colorscale": [
             [
              0,
              "#0d0887"
             ],
             [
              0.1111111111111111,
              "#46039f"
             ],
             [
              0.2222222222222222,
              "#7201a8"
             ],
             [
              0.3333333333333333,
              "#9c179e"
             ],
             [
              0.4444444444444444,
              "#bd3786"
             ],
             [
              0.5555555555555556,
              "#d8576b"
             ],
             [
              0.6666666666666666,
              "#ed7953"
             ],
             [
              0.7777777777777778,
              "#fb9f3a"
             ],
             [
              0.8888888888888888,
              "#fdca26"
             ],
             [
              1,
              "#f0f921"
             ]
            ],
            "type": "histogram2dcontour"
           }
          ],
          "mesh3d": [
           {
            "colorbar": {
             "outlinewidth": 0,
             "ticks": ""
            },
            "type": "mesh3d"
           }
          ],
          "parcoords": [
           {
            "line": {
             "colorbar": {
              "outlinewidth": 0,
              "ticks": ""
             }
            },
            "type": "parcoords"
           }
          ],
          "pie": [
           {
            "automargin": true,
            "type": "pie"
           }
          ],
          "scatter": [
           {
            "marker": {
             "colorbar": {
              "outlinewidth": 0,
              "ticks": ""
             }
            },
            "type": "scatter"
           }
          ],
          "scatter3d": [
           {
            "line": {
             "colorbar": {
              "outlinewidth": 0,
              "ticks": ""
             }
            },
            "marker": {
             "colorbar": {
              "outlinewidth": 0,
              "ticks": ""
             }
            },
            "type": "scatter3d"
           }
          ],
          "scattercarpet": [
           {
            "marker": {
             "colorbar": {
              "outlinewidth": 0,
              "ticks": ""
             }
            },
            "type": "scattercarpet"
           }
          ],
          "scattergeo": [
           {
            "marker": {
             "colorbar": {
              "outlinewidth": 0,
              "ticks": ""
             }
            },
            "type": "scattergeo"
           }
          ],
          "scattergl": [
           {
            "marker": {
             "colorbar": {
              "outlinewidth": 0,
              "ticks": ""
             }
            },
            "type": "scattergl"
           }
          ],
          "scattermapbox": [
           {
            "marker": {
             "colorbar": {
              "outlinewidth": 0,
              "ticks": ""
             }
            },
            "type": "scattermapbox"
           }
          ],
          "scatterpolar": [
           {
            "marker": {
             "colorbar": {
              "outlinewidth": 0,
              "ticks": ""
             }
            },
            "type": "scatterpolar"
           }
          ],
          "scatterpolargl": [
           {
            "marker": {
             "colorbar": {
              "outlinewidth": 0,
              "ticks": ""
             }
            },
            "type": "scatterpolargl"
           }
          ],
          "scatterternary": [
           {
            "marker": {
             "colorbar": {
              "outlinewidth": 0,
              "ticks": ""
             }
            },
            "type": "scatterternary"
           }
          ],
          "surface": [
           {
            "colorbar": {
             "outlinewidth": 0,
             "ticks": ""
            },
            "colorscale": [
             [
              0,
              "#0d0887"
             ],
             [
              0.1111111111111111,
              "#46039f"
             ],
             [
              0.2222222222222222,
              "#7201a8"
             ],
             [
              0.3333333333333333,
              "#9c179e"
             ],
             [
              0.4444444444444444,
              "#bd3786"
             ],
             [
              0.5555555555555556,
              "#d8576b"
             ],
             [
              0.6666666666666666,
              "#ed7953"
             ],
             [
              0.7777777777777778,
              "#fb9f3a"
             ],
             [
              0.8888888888888888,
              "#fdca26"
             ],
             [
              1,
              "#f0f921"
             ]
            ],
            "type": "surface"
           }
          ],
          "table": [
           {
            "cells": {
             "fill": {
              "color": "#EBF0F8"
             },
             "line": {
              "color": "white"
             }
            },
            "header": {
             "fill": {
              "color": "#C8D4E3"
             },
             "line": {
              "color": "white"
             }
            },
            "type": "table"
           }
          ]
         },
         "layout": {
          "annotationdefaults": {
           "arrowcolor": "#2a3f5f",
           "arrowhead": 0,
           "arrowwidth": 1
          },
          "autotypenumbers": "strict",
          "coloraxis": {
           "colorbar": {
            "outlinewidth": 0,
            "ticks": ""
           }
          },
          "colorscale": {
           "diverging": [
            [
             0,
             "#8e0152"
            ],
            [
             0.1,
             "#c51b7d"
            ],
            [
             0.2,
             "#de77ae"
            ],
            [
             0.3,
             "#f1b6da"
            ],
            [
             0.4,
             "#fde0ef"
            ],
            [
             0.5,
             "#f7f7f7"
            ],
            [
             0.6,
             "#e6f5d0"
            ],
            [
             0.7,
             "#b8e186"
            ],
            [
             0.8,
             "#7fbc41"
            ],
            [
             0.9,
             "#4d9221"
            ],
            [
             1,
             "#276419"
            ]
           ],
           "sequential": [
            [
             0,
             "#0d0887"
            ],
            [
             0.1111111111111111,
             "#46039f"
            ],
            [
             0.2222222222222222,
             "#7201a8"
            ],
            [
             0.3333333333333333,
             "#9c179e"
            ],
            [
             0.4444444444444444,
             "#bd3786"
            ],
            [
             0.5555555555555556,
             "#d8576b"
            ],
            [
             0.6666666666666666,
             "#ed7953"
            ],
            [
             0.7777777777777778,
             "#fb9f3a"
            ],
            [
             0.8888888888888888,
             "#fdca26"
            ],
            [
             1,
             "#f0f921"
            ]
           ],
           "sequentialminus": [
            [
             0,
             "#0d0887"
            ],
            [
             0.1111111111111111,
             "#46039f"
            ],
            [
             0.2222222222222222,
             "#7201a8"
            ],
            [
             0.3333333333333333,
             "#9c179e"
            ],
            [
             0.4444444444444444,
             "#bd3786"
            ],
            [
             0.5555555555555556,
             "#d8576b"
            ],
            [
             0.6666666666666666,
             "#ed7953"
            ],
            [
             0.7777777777777778,
             "#fb9f3a"
            ],
            [
             0.8888888888888888,
             "#fdca26"
            ],
            [
             1,
             "#f0f921"
            ]
           ]
          },
          "colorway": [
           "#636efa",
           "#EF553B",
           "#00cc96",
           "#ab63fa",
           "#FFA15A",
           "#19d3f3",
           "#FF6692",
           "#B6E880",
           "#FF97FF",
           "#FECB52"
          ],
          "font": {
           "color": "#2a3f5f"
          },
          "geo": {
           "bgcolor": "white",
           "lakecolor": "white",
           "landcolor": "#E5ECF6",
           "showlakes": true,
           "showland": true,
           "subunitcolor": "white"
          },
          "hoverlabel": {
           "align": "left"
          },
          "hovermode": "closest",
          "mapbox": {
           "style": "light"
          },
          "paper_bgcolor": "white",
          "plot_bgcolor": "#E5ECF6",
          "polar": {
           "angularaxis": {
            "gridcolor": "white",
            "linecolor": "white",
            "ticks": ""
           },
           "bgcolor": "#E5ECF6",
           "radialaxis": {
            "gridcolor": "white",
            "linecolor": "white",
            "ticks": ""
           }
          },
          "scene": {
           "xaxis": {
            "backgroundcolor": "#E5ECF6",
            "gridcolor": "white",
            "gridwidth": 2,
            "linecolor": "white",
            "showbackground": true,
            "ticks": "",
            "zerolinecolor": "white"
           },
           "yaxis": {
            "backgroundcolor": "#E5ECF6",
            "gridcolor": "white",
            "gridwidth": 2,
            "linecolor": "white",
            "showbackground": true,
            "ticks": "",
            "zerolinecolor": "white"
           },
           "zaxis": {
            "backgroundcolor": "#E5ECF6",
            "gridcolor": "white",
            "gridwidth": 2,
            "linecolor": "white",
            "showbackground": true,
            "ticks": "",
            "zerolinecolor": "white"
           }
          },
          "shapedefaults": {
           "line": {
            "color": "#2a3f5f"
           }
          },
          "ternary": {
           "aaxis": {
            "gridcolor": "white",
            "linecolor": "white",
            "ticks": ""
           },
           "baxis": {
            "gridcolor": "white",
            "linecolor": "white",
            "ticks": ""
           },
           "bgcolor": "#E5ECF6",
           "caxis": {
            "gridcolor": "white",
            "linecolor": "white",
            "ticks": ""
           }
          },
          "title": {
           "x": 0.05
          },
          "xaxis": {
           "automargin": true,
           "gridcolor": "white",
           "linecolor": "white",
           "ticks": "",
           "title": {
            "standoff": 15
           },
           "zerolinecolor": "white",
           "zerolinewidth": 2
          },
          "yaxis": {
           "automargin": true,
           "gridcolor": "white",
           "linecolor": "white",
           "ticks": "",
           "title": {
            "standoff": 15
           },
           "zerolinecolor": "white",
           "zerolinewidth": 2
          }
         }
        },
        "xaxis": {
         "anchor": "y",
         "domain": [
          0,
          1
         ],
         "title": {
          "text": "vintage_x"
         }
        },
        "yaxis": {
         "anchor": "x",
         "domain": [
          0,
          1
         ],
         "title": {
          "text": "mk_price_minus_bmk_price"
         }
        }
       }
      },
      "text/html": [
       "<div>                            <div id=\"654c987a-70d6-470c-9d60-7fcc32c64a54\" class=\"plotly-graph-div\" style=\"height:525px; width:100%;\"></div>            <script type=\"text/javascript\">                require([\"plotly\"], function(Plotly) {                    window.PLOTLYENV=window.PLOTLYENV || {};                                    if (document.getElementById(\"654c987a-70d6-470c-9d60-7fcc32c64a54\")) {                    Plotly.newPlot(                        \"654c987a-70d6-470c-9d60-7fcc32c64a54\",                        [{\"hovertemplate\": \"wineName=Chateau Angelus Premier Grand Cru Classe A, Saint-Emilion Grand Cru<br>vintage_x=%{x}<br>mk_price_minus_bmk_price=%{y}<extra></extra>\", \"legendgroup\": \"Chateau Angelus Premier Grand Cru Classe A, Saint-Emilion Grand Cru\", \"line\": {\"color\": \"#636efa\", \"dash\": \"solid\"}, \"mode\": \"lines\", \"name\": \"Chateau Angelus Premier Grand Cru Classe A, Saint-Emilion Grand Cru\", \"orientation\": \"v\", \"showlegend\": true, \"type\": \"scatter\", \"x\": [2012, 2013, 2014, 2015, 2016, 2017, 2018, 2019], \"xaxis\": \"x\", \"y\": [195, 300, 100, 80, 116, 272, 24, 359], \"yaxis\": \"y\"}, {\"hovertemplate\": \"wineName=Chateau Angelus Premier Grand Cru Classe B, Saint-Emilion Grand Cru<br>vintage_x=%{x}<br>mk_price_minus_bmk_price=%{y}<extra></extra>\", \"legendgroup\": \"Chateau Angelus Premier Grand Cru Classe B, Saint-Emilion Grand Cru\", \"line\": {\"color\": \"#EF553B\", \"dash\": \"solid\"}, \"mode\": \"lines\", \"name\": \"Chateau Angelus Premier Grand Cru Classe B, Saint-Emilion Grand Cru\", \"orientation\": \"v\", \"showlegend\": true, \"type\": \"scatter\", \"x\": [2001, 2002, 2003, 2004, 2005, 2006, 2007, 2008, 2009, 2010, 2011], \"xaxis\": \"x\", \"y\": [499, 363, 145, 442, -125, 250, 190, 245, 295, 50, 590], \"yaxis\": \"y\"}, {\"hovertemplate\": \"wineName=Chateau Batailley 5eme Cru Classe, Pauillac<br>vintage_x=%{x}<br>mk_price_minus_bmk_price=%{y}<extra></extra>\", \"legendgroup\": \"Chateau Batailley 5eme Cru Classe, Pauillac\", \"line\": {\"color\": \"#00cc96\", \"dash\": \"solid\"}, \"mode\": \"lines\", \"name\": \"Chateau Batailley 5eme Cru Classe, Pauillac\", \"orientation\": \"v\", \"showlegend\": true, \"type\": \"scatter\", \"x\": [2001, 2002, 2003, 2004, 2005, 2006, 2007, 2008, 2009, 2010, 2011, 2012, 2013, 2014, 2015, 2016, 2018], \"xaxis\": \"x\", \"y\": [3, 230, 130, 225, 80, -112, 110, 68, -14, -4, 100, 45, -4, 26, 184, 117, 51], \"yaxis\": \"y\"}, {\"hovertemplate\": \"wineName=Chateau Calon Segur 3eme Cru Classe, Saint-Estephe<br>vintage_x=%{x}<br>mk_price_minus_bmk_price=%{y}<extra></extra>\", \"legendgroup\": \"Chateau Calon Segur 3eme Cru Classe, Saint-Estephe\", \"line\": {\"color\": \"#ab63fa\", \"dash\": \"solid\"}, \"mode\": \"lines\", \"name\": \"Chateau Calon Segur 3eme Cru Classe, Saint-Estephe\", \"orientation\": \"v\", \"showlegend\": true, \"type\": \"scatter\", \"x\": [2001, 2002, 2003, 2004, 2005, 2006, 2007, 2008, 2009, 2010, 2011, 2012, 2013, 2014, 2015, 2016, 2017, 2018, 2019], \"xaxis\": \"x\", \"y\": [102, 165, 100, 55, 12, 37, 155, 59, -51, 0, -40, 85, 98, -4, -10, 34, -22, 90, 108], \"yaxis\": \"y\"}, {\"hovertemplate\": \"wineName=Chateau Margaux Premier Cru Classe, Margaux<br>vintage_x=%{x}<br>mk_price_minus_bmk_price=%{y}<extra></extra>\", \"legendgroup\": \"Chateau Margaux Premier Cru Classe, Margaux\", \"line\": {\"color\": \"#FFA15A\", \"dash\": \"solid\"}, \"mode\": \"lines\", \"name\": \"Chateau Margaux Premier Cru Classe, Margaux\", \"orientation\": \"v\", \"showlegend\": true, \"type\": \"scatter\", \"x\": [2001, 2002, 2003, 2004, 2005, 2006, 2007, 2008, 2009, 2010, 2011, 2012, 2013, 2014, 2015, 2016, 2017, 2018, 2019], \"xaxis\": \"x\", \"y\": [0, 216, 50, -290, 134, 110, 35, 40, -256, 328, 68, 240, 180, 240, 656, 177, 0, 265, 660], \"yaxis\": \"y\"}, {\"hovertemplate\": \"wineName=Domaine Denis Mortet, Chambertin Grand Cru<br>vintage_x=%{x}<br>mk_price_minus_bmk_price=%{y}<extra></extra>\", \"legendgroup\": \"Domaine Denis Mortet, Chambertin Grand Cru\", \"line\": {\"color\": \"#19d3f3\", \"dash\": \"solid\"}, \"mode\": \"lines\", \"name\": \"Domaine Denis Mortet, Chambertin Grand Cru\", \"orientation\": \"v\", \"showlegend\": true, \"type\": \"scatter\", \"x\": [2013, 2014, 2017], \"xaxis\": \"x\", \"y\": [6650, 1200, 726], \"yaxis\": \"y\"}, {\"hovertemplate\": \"wineName=Domaine Leflaive, Chevalier-Montrachet Grand Cru<br>vintage_x=%{x}<br>mk_price_minus_bmk_price=%{y}<extra></extra>\", \"legendgroup\": \"Domaine Leflaive, Chevalier-Montrachet Grand Cru\", \"line\": {\"color\": \"#FF6692\", \"dash\": \"solid\"}, \"mode\": \"lines\", \"name\": \"Domaine Leflaive, Chevalier-Montrachet Grand Cru\", \"orientation\": \"v\", \"showlegend\": true, \"type\": \"scatter\", \"x\": [2001, 2003, 2005, 2006, 2007, 2008, 2009, 2010, 2011, 2012, 2013, 2014, 2015, 2016, 2017, 2018], \"xaxis\": \"x\", \"y\": [-728, 5070, 495, 2632, 2700, 3600, 1640, 2440, -500, 1860, 1200, 1950, -1504, 782, 1026, 470], \"yaxis\": \"y\"}, {\"hovertemplate\": \"wineName=Gaja, Barbaresco<br>vintage_x=%{x}<br>mk_price_minus_bmk_price=%{y}<extra></extra>\", \"legendgroup\": \"Gaja, Barbaresco\", \"line\": {\"color\": \"#B6E880\", \"dash\": \"solid\"}, \"mode\": \"lines\", \"name\": \"Gaja, Barbaresco\", \"orientation\": \"v\", \"showlegend\": true, \"type\": \"scatter\", \"x\": [2001, 2003, 2004, 2005, 2006, 2007, 2008, 2009, 2010, 2011, 2012, 2013, 2014, 2015, 2016, 2017], \"xaxis\": \"x\", \"y\": [280, 451, 70, 670, 318, 500, 425, 859, 360, -2, 250, 124, -1, 90, 92, 124], \"yaxis\": \"y\"}, {\"hovertemplate\": \"wineName=Jacques-Frederic Mugnier, Chambolle-Musigny Premier Cru, Les Amoureuses<br>vintage_x=%{x}<br>mk_price_minus_bmk_price=%{y}<extra></extra>\", \"legendgroup\": \"Jacques-Frederic Mugnier, Chambolle-Musigny Premier Cru, Les Amoureuses\", \"line\": {\"color\": \"#FF97FF\", \"dash\": \"solid\"}, \"mode\": \"lines\", \"name\": \"Jacques-Frederic Mugnier, Chambolle-Musigny Premier Cru, Les Amoureuses\", \"orientation\": \"v\", \"showlegend\": true, \"type\": \"scatter\", \"x\": [2011, 2012, 2014, 2015, 2017], \"xaxis\": \"x\", \"y\": [-448, 10642, 2520, -3984, 4000], \"yaxis\": \"y\"}, {\"hovertemplate\": \"wineName=Tignanello, Toscana<br>vintage_x=%{x}<br>mk_price_minus_bmk_price=%{y}<extra></extra>\", \"legendgroup\": \"Tignanello, Toscana\", \"line\": {\"color\": \"#FECB52\", \"dash\": \"solid\"}, \"mode\": \"lines\", \"name\": \"Tignanello, Toscana\", \"orientation\": \"v\", \"showlegend\": true, \"type\": \"scatter\", \"x\": [2001, 2003, 2004, 2005, 2006, 2007, 2008, 2009, 2010, 2011, 2012, 2013, 2014, 2015, 2016, 2017, 2018], \"xaxis\": \"x\", \"y\": [322, 363, 498, 258, 170, 100, 90, -48, 156, 98, 110, 140, 150, -94, 118, 57, -50], \"yaxis\": \"y\"}, {\"hovertemplate\": \"wineName=Tua Rita, Giusto di Notri, Toscana<br>vintage_x=%{x}<br>mk_price_minus_bmk_price=%{y}<extra></extra>\", \"legendgroup\": \"Tua Rita, Giusto di Notri, Toscana\", \"line\": {\"color\": \"#636efa\", \"dash\": \"solid\"}, \"mode\": \"lines\", \"name\": \"Tua Rita, Giusto di Notri, Toscana\", \"orientation\": \"v\", \"showlegend\": true, \"type\": \"scatter\", \"x\": [2004, 2006, 2007, 2008, 2011, 2012, 2013, 2015, 2016, 2017, 2018], \"xaxis\": \"x\", \"y\": [223, 270, 240, 60, 78, 192, -4, 87, 40, 167, 100], \"yaxis\": \"y\"}],                        {\"legend\": {\"title\": {\"text\": \"wineName\"}, \"tracegroupgap\": 0}, \"margin\": {\"t\": 60}, \"template\": {\"data\": {\"bar\": [{\"error_x\": {\"color\": \"#2a3f5f\"}, \"error_y\": {\"color\": \"#2a3f5f\"}, \"marker\": {\"line\": {\"color\": \"#E5ECF6\", \"width\": 0.5}}, \"type\": \"bar\"}], \"barpolar\": [{\"marker\": {\"line\": {\"color\": \"#E5ECF6\", \"width\": 0.5}}, \"type\": \"barpolar\"}], \"carpet\": [{\"aaxis\": {\"endlinecolor\": \"#2a3f5f\", \"gridcolor\": \"white\", \"linecolor\": \"white\", \"minorgridcolor\": \"white\", \"startlinecolor\": \"#2a3f5f\"}, \"baxis\": {\"endlinecolor\": \"#2a3f5f\", \"gridcolor\": \"white\", \"linecolor\": \"white\", \"minorgridcolor\": \"white\", \"startlinecolor\": \"#2a3f5f\"}, \"type\": \"carpet\"}], \"choropleth\": [{\"colorbar\": {\"outlinewidth\": 0, \"ticks\": \"\"}, \"type\": \"choropleth\"}], \"contour\": [{\"colorbar\": {\"outlinewidth\": 0, \"ticks\": \"\"}, \"colorscale\": [[0.0, \"#0d0887\"], [0.1111111111111111, \"#46039f\"], [0.2222222222222222, \"#7201a8\"], [0.3333333333333333, \"#9c179e\"], [0.4444444444444444, \"#bd3786\"], [0.5555555555555556, \"#d8576b\"], [0.6666666666666666, \"#ed7953\"], [0.7777777777777778, \"#fb9f3a\"], [0.8888888888888888, \"#fdca26\"], [1.0, \"#f0f921\"]], \"type\": \"contour\"}], \"contourcarpet\": [{\"colorbar\": {\"outlinewidth\": 0, \"ticks\": \"\"}, \"type\": \"contourcarpet\"}], \"heatmap\": [{\"colorbar\": {\"outlinewidth\": 0, \"ticks\": \"\"}, \"colorscale\": [[0.0, \"#0d0887\"], [0.1111111111111111, \"#46039f\"], [0.2222222222222222, \"#7201a8\"], [0.3333333333333333, \"#9c179e\"], [0.4444444444444444, \"#bd3786\"], [0.5555555555555556, \"#d8576b\"], [0.6666666666666666, \"#ed7953\"], [0.7777777777777778, \"#fb9f3a\"], [0.8888888888888888, \"#fdca26\"], [1.0, \"#f0f921\"]], \"type\": \"heatmap\"}], \"heatmapgl\": [{\"colorbar\": {\"outlinewidth\": 0, \"ticks\": \"\"}, \"colorscale\": [[0.0, \"#0d0887\"], [0.1111111111111111, \"#46039f\"], [0.2222222222222222, \"#7201a8\"], [0.3333333333333333, \"#9c179e\"], [0.4444444444444444, \"#bd3786\"], [0.5555555555555556, \"#d8576b\"], [0.6666666666666666, \"#ed7953\"], [0.7777777777777778, \"#fb9f3a\"], [0.8888888888888888, \"#fdca26\"], [1.0, \"#f0f921\"]], \"type\": \"heatmapgl\"}], \"histogram\": [{\"marker\": {\"colorbar\": {\"outlinewidth\": 0, \"ticks\": \"\"}}, \"type\": \"histogram\"}], \"histogram2d\": [{\"colorbar\": {\"outlinewidth\": 0, \"ticks\": \"\"}, \"colorscale\": [[0.0, \"#0d0887\"], [0.1111111111111111, \"#46039f\"], [0.2222222222222222, \"#7201a8\"], [0.3333333333333333, \"#9c179e\"], [0.4444444444444444, \"#bd3786\"], [0.5555555555555556, \"#d8576b\"], [0.6666666666666666, \"#ed7953\"], [0.7777777777777778, \"#fb9f3a\"], [0.8888888888888888, \"#fdca26\"], [1.0, \"#f0f921\"]], \"type\": \"histogram2d\"}], \"histogram2dcontour\": [{\"colorbar\": {\"outlinewidth\": 0, \"ticks\": \"\"}, \"colorscale\": [[0.0, \"#0d0887\"], [0.1111111111111111, \"#46039f\"], [0.2222222222222222, \"#7201a8\"], [0.3333333333333333, \"#9c179e\"], [0.4444444444444444, \"#bd3786\"], [0.5555555555555556, \"#d8576b\"], [0.6666666666666666, \"#ed7953\"], [0.7777777777777778, \"#fb9f3a\"], [0.8888888888888888, \"#fdca26\"], [1.0, \"#f0f921\"]], \"type\": \"histogram2dcontour\"}], \"mesh3d\": [{\"colorbar\": {\"outlinewidth\": 0, \"ticks\": \"\"}, \"type\": \"mesh3d\"}], \"parcoords\": [{\"line\": {\"colorbar\": {\"outlinewidth\": 0, \"ticks\": \"\"}}, \"type\": \"parcoords\"}], \"pie\": [{\"automargin\": true, \"type\": \"pie\"}], \"scatter\": [{\"marker\": {\"colorbar\": {\"outlinewidth\": 0, \"ticks\": \"\"}}, \"type\": \"scatter\"}], \"scatter3d\": [{\"line\": {\"colorbar\": {\"outlinewidth\": 0, \"ticks\": \"\"}}, \"marker\": {\"colorbar\": {\"outlinewidth\": 0, \"ticks\": \"\"}}, \"type\": \"scatter3d\"}], \"scattercarpet\": [{\"marker\": {\"colorbar\": {\"outlinewidth\": 0, \"ticks\": \"\"}}, \"type\": \"scattercarpet\"}], \"scattergeo\": [{\"marker\": {\"colorbar\": {\"outlinewidth\": 0, \"ticks\": \"\"}}, \"type\": \"scattergeo\"}], \"scattergl\": [{\"marker\": {\"colorbar\": {\"outlinewidth\": 0, \"ticks\": \"\"}}, \"type\": \"scattergl\"}], \"scattermapbox\": [{\"marker\": {\"colorbar\": {\"outlinewidth\": 0, \"ticks\": \"\"}}, \"type\": \"scattermapbox\"}], \"scatterpolar\": [{\"marker\": {\"colorbar\": {\"outlinewidth\": 0, \"ticks\": \"\"}}, \"type\": \"scatterpolar\"}], \"scatterpolargl\": [{\"marker\": {\"colorbar\": {\"outlinewidth\": 0, \"ticks\": \"\"}}, \"type\": \"scatterpolargl\"}], \"scatterternary\": [{\"marker\": {\"colorbar\": {\"outlinewidth\": 0, \"ticks\": \"\"}}, \"type\": \"scatterternary\"}], \"surface\": [{\"colorbar\": {\"outlinewidth\": 0, \"ticks\": \"\"}, \"colorscale\": [[0.0, \"#0d0887\"], [0.1111111111111111, \"#46039f\"], [0.2222222222222222, \"#7201a8\"], [0.3333333333333333, \"#9c179e\"], [0.4444444444444444, \"#bd3786\"], [0.5555555555555556, \"#d8576b\"], [0.6666666666666666, \"#ed7953\"], [0.7777777777777778, \"#fb9f3a\"], [0.8888888888888888, \"#fdca26\"], [1.0, \"#f0f921\"]], \"type\": \"surface\"}], \"table\": [{\"cells\": {\"fill\": {\"color\": \"#EBF0F8\"}, \"line\": {\"color\": \"white\"}}, \"header\": {\"fill\": {\"color\": \"#C8D4E3\"}, \"line\": {\"color\": \"white\"}}, \"type\": \"table\"}]}, \"layout\": {\"annotationdefaults\": {\"arrowcolor\": \"#2a3f5f\", \"arrowhead\": 0, \"arrowwidth\": 1}, \"autotypenumbers\": \"strict\", \"coloraxis\": {\"colorbar\": {\"outlinewidth\": 0, \"ticks\": \"\"}}, \"colorscale\": {\"diverging\": [[0, \"#8e0152\"], [0.1, \"#c51b7d\"], [0.2, \"#de77ae\"], [0.3, \"#f1b6da\"], [0.4, \"#fde0ef\"], [0.5, \"#f7f7f7\"], [0.6, \"#e6f5d0\"], [0.7, \"#b8e186\"], [0.8, \"#7fbc41\"], [0.9, \"#4d9221\"], [1, \"#276419\"]], \"sequential\": [[0.0, \"#0d0887\"], [0.1111111111111111, \"#46039f\"], [0.2222222222222222, \"#7201a8\"], [0.3333333333333333, \"#9c179e\"], [0.4444444444444444, \"#bd3786\"], [0.5555555555555556, \"#d8576b\"], [0.6666666666666666, \"#ed7953\"], [0.7777777777777778, \"#fb9f3a\"], [0.8888888888888888, \"#fdca26\"], [1.0, \"#f0f921\"]], \"sequentialminus\": [[0.0, \"#0d0887\"], [0.1111111111111111, \"#46039f\"], [0.2222222222222222, \"#7201a8\"], [0.3333333333333333, \"#9c179e\"], [0.4444444444444444, \"#bd3786\"], [0.5555555555555556, \"#d8576b\"], [0.6666666666666666, \"#ed7953\"], [0.7777777777777778, \"#fb9f3a\"], [0.8888888888888888, \"#fdca26\"], [1.0, \"#f0f921\"]]}, \"colorway\": [\"#636efa\", \"#EF553B\", \"#00cc96\", \"#ab63fa\", \"#FFA15A\", \"#19d3f3\", \"#FF6692\", \"#B6E880\", \"#FF97FF\", \"#FECB52\"], \"font\": {\"color\": \"#2a3f5f\"}, \"geo\": {\"bgcolor\": \"white\", \"lakecolor\": \"white\", \"landcolor\": \"#E5ECF6\", \"showlakes\": true, \"showland\": true, \"subunitcolor\": \"white\"}, \"hoverlabel\": {\"align\": \"left\"}, \"hovermode\": \"closest\", \"mapbox\": {\"style\": \"light\"}, \"paper_bgcolor\": \"white\", \"plot_bgcolor\": \"#E5ECF6\", \"polar\": {\"angularaxis\": {\"gridcolor\": \"white\", \"linecolor\": \"white\", \"ticks\": \"\"}, \"bgcolor\": \"#E5ECF6\", \"radialaxis\": {\"gridcolor\": \"white\", \"linecolor\": \"white\", \"ticks\": \"\"}}, \"scene\": {\"xaxis\": {\"backgroundcolor\": \"#E5ECF6\", \"gridcolor\": \"white\", \"gridwidth\": 2, \"linecolor\": \"white\", \"showbackground\": true, \"ticks\": \"\", \"zerolinecolor\": \"white\"}, \"yaxis\": {\"backgroundcolor\": \"#E5ECF6\", \"gridcolor\": \"white\", \"gridwidth\": 2, \"linecolor\": \"white\", \"showbackground\": true, \"ticks\": \"\", \"zerolinecolor\": \"white\"}, \"zaxis\": {\"backgroundcolor\": \"#E5ECF6\", \"gridcolor\": \"white\", \"gridwidth\": 2, \"linecolor\": \"white\", \"showbackground\": true, \"ticks\": \"\", \"zerolinecolor\": \"white\"}}, \"shapedefaults\": {\"line\": {\"color\": \"#2a3f5f\"}}, \"ternary\": {\"aaxis\": {\"gridcolor\": \"white\", \"linecolor\": \"white\", \"ticks\": \"\"}, \"baxis\": {\"gridcolor\": \"white\", \"linecolor\": \"white\", \"ticks\": \"\"}, \"bgcolor\": \"#E5ECF6\", \"caxis\": {\"gridcolor\": \"white\", \"linecolor\": \"white\", \"ticks\": \"\"}}, \"title\": {\"x\": 0.05}, \"xaxis\": {\"automargin\": true, \"gridcolor\": \"white\", \"linecolor\": \"white\", \"ticks\": \"\", \"title\": {\"standoff\": 15}, \"zerolinecolor\": \"white\", \"zerolinewidth\": 2}, \"yaxis\": {\"automargin\": true, \"gridcolor\": \"white\", \"linecolor\": \"white\", \"ticks\": \"\", \"title\": {\"standoff\": 15}, \"zerolinecolor\": \"white\", \"zerolinewidth\": 2}}}, \"xaxis\": {\"anchor\": \"y\", \"domain\": [0.0, 1.0], \"title\": {\"text\": \"vintage_x\"}}, \"yaxis\": {\"anchor\": \"x\", \"domain\": [0.0, 1.0], \"title\": {\"text\": \"mk_price_minus_bmk_price\"}}},                        {\"responsive\": true}                    ).then(function(){\n",
       "                            \n",
       "var gd = document.getElementById('654c987a-70d6-470c-9d60-7fcc32c64a54');\n",
       "var x = new MutationObserver(function (mutations, observer) {{\n",
       "        var display = window.getComputedStyle(gd).display;\n",
       "        if (!display || display === 'none') {{\n",
       "            console.log([gd, 'removed!']);\n",
       "            Plotly.purge(gd);\n",
       "            observer.disconnect();\n",
       "        }}\n",
       "}});\n",
       "\n",
       "// Listen for the removal of the full notebook cells\n",
       "var notebookContainer = gd.closest('#notebook-container');\n",
       "if (notebookContainer) {{\n",
       "    x.observe(notebookContainer, {childList: true});\n",
       "}}\n",
       "\n",
       "// Listen for the clearing of the current output cell\n",
       "var outputEl = gd.closest('.output');\n",
       "if (outputEl) {{\n",
       "    x.observe(outputEl, {childList: true});\n",
       "}}\n",
       "\n",
       "                        })                };                });            </script>        </div>"
      ]
     },
     "metadata": {},
     "output_type": "display_data"
    }
   ],
   "source": [
    "vintage = px.line(name_vintage, x=\"vintage_x\", y=\"mk_price_minus_bmk_price\", color=\"wineName\")\n",
    "vintage.show()"
   ]
  },
  {
   "cell_type": "code",
   "execution_count": 9,
   "metadata": {},
   "outputs": [
    {
     "data": {
      "application/vnd.plotly.v1+json": {
       "config": {
        "plotlyServerURL": "https://plot.ly"
       },
       "data": [
        {
         "hovertemplate": "wineName=Chateau Angelus Premier Grand Cru Classe A, Saint-Emilion Grand Cru<br>benchmarkTradePrice=%{x}<br>mk_price_minus_bmk_price=%{y}<br>marketPrice=%{marker.size}<extra></extra>",
         "legendgroup": "Chateau Angelus Premier Grand Cru Classe A, Saint-Emilion Grand Cru",
         "marker": {
          "color": "#636efa",
          "size": [
           2829.375
          ],
          "sizemode": "area",
          "sizeref": 37.934,
          "symbol": "circle"
         },
         "mode": "markers",
         "name": "Chateau Angelus Premier Grand Cru Classe A, Saint-Emilion Grand Cru",
         "orientation": "v",
         "showlegend": true,
         "type": "scatter",
         "x": [
          2648.625
         ],
         "xaxis": "x",
         "y": [
          180.75
         ],
         "yaxis": "y"
        },
        {
         "hovertemplate": "wineName=Chateau Angelus Premier Grand Cru Classe B, Saint-Emilion Grand Cru<br>benchmarkTradePrice=%{x}<br>mk_price_minus_bmk_price=%{y}<br>marketPrice=%{marker.size}<extra></extra>",
         "legendgroup": "Chateau Angelus Premier Grand Cru Classe B, Saint-Emilion Grand Cru",
         "marker": {
          "color": "#EF553B",
          "size": [
           3158.4545454545455
          ],
          "sizemode": "area",
          "sizeref": 37.934,
          "symbol": "circle"
         },
         "mode": "markers",
         "name": "Chateau Angelus Premier Grand Cru Classe B, Saint-Emilion Grand Cru",
         "orientation": "v",
         "showlegend": true,
         "type": "scatter",
         "x": [
          2890.818181818182
         ],
         "xaxis": "x",
         "y": [
          267.6363636363636
         ],
         "yaxis": "y"
        },
        {
         "hovertemplate": "wineName=Chateau Batailley 5eme Cru Classe, Pauillac<br>benchmarkTradePrice=%{x}<br>mk_price_minus_bmk_price=%{y}<br>marketPrice=%{marker.size}<extra></extra>",
         "legendgroup": "Chateau Batailley 5eme Cru Classe, Pauillac",
         "marker": {
          "color": "#00cc96",
          "size": [
           447.29411764705884
          ],
          "sizemode": "area",
          "sizeref": 37.934,
          "symbol": "circle"
         },
         "mode": "markers",
         "name": "Chateau Batailley 5eme Cru Classe, Pauillac",
         "orientation": "v",
         "showlegend": true,
         "type": "scatter",
         "x": [
          374.6470588235294
         ],
         "xaxis": "x",
         "y": [
          72.6470588235294
         ],
         "yaxis": "y"
        },
        {
         "hovertemplate": "wineName=Chateau Calon Segur 3eme Cru Classe, Saint-Estephe<br>benchmarkTradePrice=%{x}<br>mk_price_minus_bmk_price=%{y}<br>marketPrice=%{marker.size}<extra></extra>",
         "legendgroup": "Chateau Calon Segur 3eme Cru Classe, Saint-Estephe",
         "marker": {
          "color": "#ab63fa",
          "size": [
           887.4736842105264
          ],
          "sizemode": "area",
          "sizeref": 37.934,
          "symbol": "circle"
         },
         "mode": "markers",
         "name": "Chateau Calon Segur 3eme Cru Classe, Saint-Estephe",
         "orientation": "v",
         "showlegend": true,
         "type": "scatter",
         "x": [
          836.2631578947369
         ],
         "xaxis": "x",
         "y": [
          51.21052631578947
         ],
         "yaxis": "y"
        },
        {
         "hovertemplate": "wineName=Chateau Margaux Premier Cru Classe, Margaux<br>benchmarkTradePrice=%{x}<br>mk_price_minus_bmk_price=%{y}<br>marketPrice=%{marker.size}<extra></extra>",
         "legendgroup": "Chateau Margaux Premier Cru Classe, Margaux",
         "marker": {
          "color": "#FFA15A",
          "size": [
           4869.684210526316
          ],
          "sizemode": "area",
          "sizeref": 37.934,
          "symbol": "circle"
         },
         "mode": "markers",
         "name": "Chateau Margaux Premier Cru Classe, Margaux",
         "orientation": "v",
         "showlegend": true,
         "type": "scatter",
         "x": [
          4719.526315789473
         ],
         "xaxis": "x",
         "y": [
          150.1578947368421
         ],
         "yaxis": "y"
        },
        {
         "hovertemplate": "wineName=Domaine Denis Mortet, Chambertin Grand Cru<br>benchmarkTradePrice=%{x}<br>mk_price_minus_bmk_price=%{y}<br>marketPrice=%{marker.size}<extra></extra>",
         "legendgroup": "Domaine Denis Mortet, Chambertin Grand Cru",
         "marker": {
          "color": "#19d3f3",
          "size": [
           9022
          ],
          "sizemode": "area",
          "sizeref": 37.934,
          "symbol": "circle"
         },
         "mode": "markers",
         "name": "Domaine Denis Mortet, Chambertin Grand Cru",
         "orientation": "v",
         "showlegend": true,
         "type": "scatter",
         "x": [
          6163.333333333333
         ],
         "xaxis": "x",
         "y": [
          2858.6666666666665
         ],
         "yaxis": "y"
        },
        {
         "hovertemplate": "wineName=Domaine Leflaive, Chevalier-Montrachet Grand Cru<br>benchmarkTradePrice=%{x}<br>mk_price_minus_bmk_price=%{y}<br>marketPrice=%{marker.size}<extra></extra>",
         "legendgroup": "Domaine Leflaive, Chevalier-Montrachet Grand Cru",
         "marker": {
          "color": "#FF6692",
          "size": [
           7429.75
          ],
          "sizemode": "area",
          "sizeref": 37.934,
          "symbol": "circle"
         },
         "mode": "markers",
         "name": "Domaine Leflaive, Chevalier-Montrachet Grand Cru",
         "orientation": "v",
         "showlegend": true,
         "type": "scatter",
         "x": [
          5983.9375
         ],
         "xaxis": "x",
         "y": [
          1445.8125
         ],
         "yaxis": "y"
        },
        {
         "hovertemplate": "wineName=Gaja, Barbaresco<br>benchmarkTradePrice=%{x}<br>mk_price_minus_bmk_price=%{y}<br>marketPrice=%{marker.size}<extra></extra>",
         "legendgroup": "Gaja, Barbaresco",
         "marker": {
          "color": "#B6E880",
          "size": [
           1785.0625
          ],
          "sizemode": "area",
          "sizeref": 37.934,
          "symbol": "circle"
         },
         "mode": "markers",
         "name": "Gaja, Barbaresco",
         "orientation": "v",
         "showlegend": true,
         "type": "scatter",
         "x": [
          1496.9375
         ],
         "xaxis": "x",
         "y": [
          288.125
         ],
         "yaxis": "y"
        },
        {
         "hovertemplate": "wineName=Jacques-Frederic Mugnier, Chambolle-Musigny Premier Cru, Les Amoureuses<br>benchmarkTradePrice=%{x}<br>mk_price_minus_bmk_price=%{y}<br>marketPrice=%{marker.size}<extra></extra>",
         "legendgroup": "Jacques-Frederic Mugnier, Chambolle-Musigny Premier Cru, Les Amoureuses",
         "marker": {
          "color": "#FF97FF",
          "size": [
           15173.6
          ],
          "sizemode": "area",
          "sizeref": 37.934,
          "symbol": "circle"
         },
         "mode": "markers",
         "name": "Jacques-Frederic Mugnier, Chambolle-Musigny Premier Cru, Les Amoureuses",
         "orientation": "v",
         "showlegend": true,
         "type": "scatter",
         "x": [
          12627.6
         ],
         "xaxis": "x",
         "y": [
          2546
         ],
         "yaxis": "y"
        },
        {
         "hovertemplate": "wineName=Tignanello, Toscana<br>benchmarkTradePrice=%{x}<br>mk_price_minus_bmk_price=%{y}<br>marketPrice=%{marker.size}<extra></extra>",
         "legendgroup": "Tignanello, Toscana",
         "marker": {
          "color": "#FECB52",
          "size": [
           1183.764705882353
          ],
          "sizemode": "area",
          "sizeref": 37.934,
          "symbol": "circle"
         },
         "mode": "markers",
         "name": "Tignanello, Toscana",
         "orientation": "v",
         "showlegend": true,
         "type": "scatter",
         "x": [
          1040.3529411764705
         ],
         "xaxis": "x",
         "y": [
          143.41176470588235
         ],
         "yaxis": "y"
        },
        {
         "hovertemplate": "wineName=Tua Rita, Giusto di Notri, Toscana<br>benchmarkTradePrice=%{x}<br>mk_price_minus_bmk_price=%{y}<br>marketPrice=%{marker.size}<extra></extra>",
         "legendgroup": "Tua Rita, Giusto di Notri, Toscana",
         "marker": {
          "color": "#636efa",
          "size": [
           523.2727272727273
          ],
          "sizemode": "area",
          "sizeref": 37.934,
          "symbol": "circle"
         },
         "mode": "markers",
         "name": "Tua Rita, Giusto di Notri, Toscana",
         "orientation": "v",
         "showlegend": true,
         "type": "scatter",
         "x": [
          391.1818181818182
         ],
         "xaxis": "x",
         "y": [
          132.0909090909091
         ],
         "yaxis": "y"
        }
       ],
       "layout": {
        "legend": {
         "itemsizing": "constant",
         "title": {
          "text": "wineName"
         },
         "tracegroupgap": 0
        },
        "margin": {
         "t": 60
        },
        "template": {
         "data": {
          "bar": [
           {
            "error_x": {
             "color": "#2a3f5f"
            },
            "error_y": {
             "color": "#2a3f5f"
            },
            "marker": {
             "line": {
              "color": "#E5ECF6",
              "width": 0.5
             }
            },
            "type": "bar"
           }
          ],
          "barpolar": [
           {
            "marker": {
             "line": {
              "color": "#E5ECF6",
              "width": 0.5
             }
            },
            "type": "barpolar"
           }
          ],
          "carpet": [
           {
            "aaxis": {
             "endlinecolor": "#2a3f5f",
             "gridcolor": "white",
             "linecolor": "white",
             "minorgridcolor": "white",
             "startlinecolor": "#2a3f5f"
            },
            "baxis": {
             "endlinecolor": "#2a3f5f",
             "gridcolor": "white",
             "linecolor": "white",
             "minorgridcolor": "white",
             "startlinecolor": "#2a3f5f"
            },
            "type": "carpet"
           }
          ],
          "choropleth": [
           {
            "colorbar": {
             "outlinewidth": 0,
             "ticks": ""
            },
            "type": "choropleth"
           }
          ],
          "contour": [
           {
            "colorbar": {
             "outlinewidth": 0,
             "ticks": ""
            },
            "colorscale": [
             [
              0,
              "#0d0887"
             ],
             [
              0.1111111111111111,
              "#46039f"
             ],
             [
              0.2222222222222222,
              "#7201a8"
             ],
             [
              0.3333333333333333,
              "#9c179e"
             ],
             [
              0.4444444444444444,
              "#bd3786"
             ],
             [
              0.5555555555555556,
              "#d8576b"
             ],
             [
              0.6666666666666666,
              "#ed7953"
             ],
             [
              0.7777777777777778,
              "#fb9f3a"
             ],
             [
              0.8888888888888888,
              "#fdca26"
             ],
             [
              1,
              "#f0f921"
             ]
            ],
            "type": "contour"
           }
          ],
          "contourcarpet": [
           {
            "colorbar": {
             "outlinewidth": 0,
             "ticks": ""
            },
            "type": "contourcarpet"
           }
          ],
          "heatmap": [
           {
            "colorbar": {
             "outlinewidth": 0,
             "ticks": ""
            },
            "colorscale": [
             [
              0,
              "#0d0887"
             ],
             [
              0.1111111111111111,
              "#46039f"
             ],
             [
              0.2222222222222222,
              "#7201a8"
             ],
             [
              0.3333333333333333,
              "#9c179e"
             ],
             [
              0.4444444444444444,
              "#bd3786"
             ],
             [
              0.5555555555555556,
              "#d8576b"
             ],
             [
              0.6666666666666666,
              "#ed7953"
             ],
             [
              0.7777777777777778,
              "#fb9f3a"
             ],
             [
              0.8888888888888888,
              "#fdca26"
             ],
             [
              1,
              "#f0f921"
             ]
            ],
            "type": "heatmap"
           }
          ],
          "heatmapgl": [
           {
            "colorbar": {
             "outlinewidth": 0,
             "ticks": ""
            },
            "colorscale": [
             [
              0,
              "#0d0887"
             ],
             [
              0.1111111111111111,
              "#46039f"
             ],
             [
              0.2222222222222222,
              "#7201a8"
             ],
             [
              0.3333333333333333,
              "#9c179e"
             ],
             [
              0.4444444444444444,
              "#bd3786"
             ],
             [
              0.5555555555555556,
              "#d8576b"
             ],
             [
              0.6666666666666666,
              "#ed7953"
             ],
             [
              0.7777777777777778,
              "#fb9f3a"
             ],
             [
              0.8888888888888888,
              "#fdca26"
             ],
             [
              1,
              "#f0f921"
             ]
            ],
            "type": "heatmapgl"
           }
          ],
          "histogram": [
           {
            "marker": {
             "colorbar": {
              "outlinewidth": 0,
              "ticks": ""
             }
            },
            "type": "histogram"
           }
          ],
          "histogram2d": [
           {
            "colorbar": {
             "outlinewidth": 0,
             "ticks": ""
            },
            "colorscale": [
             [
              0,
              "#0d0887"
             ],
             [
              0.1111111111111111,
              "#46039f"
             ],
             [
              0.2222222222222222,
              "#7201a8"
             ],
             [
              0.3333333333333333,
              "#9c179e"
             ],
             [
              0.4444444444444444,
              "#bd3786"
             ],
             [
              0.5555555555555556,
              "#d8576b"
             ],
             [
              0.6666666666666666,
              "#ed7953"
             ],
             [
              0.7777777777777778,
              "#fb9f3a"
             ],
             [
              0.8888888888888888,
              "#fdca26"
             ],
             [
              1,
              "#f0f921"
             ]
            ],
            "type": "histogram2d"
           }
          ],
          "histogram2dcontour": [
           {
            "colorbar": {
             "outlinewidth": 0,
             "ticks": ""
            },
            "colorscale": [
             [
              0,
              "#0d0887"
             ],
             [
              0.1111111111111111,
              "#46039f"
             ],
             [
              0.2222222222222222,
              "#7201a8"
             ],
             [
              0.3333333333333333,
              "#9c179e"
             ],
             [
              0.4444444444444444,
              "#bd3786"
             ],
             [
              0.5555555555555556,
              "#d8576b"
             ],
             [
              0.6666666666666666,
              "#ed7953"
             ],
             [
              0.7777777777777778,
              "#fb9f3a"
             ],
             [
              0.8888888888888888,
              "#fdca26"
             ],
             [
              1,
              "#f0f921"
             ]
            ],
            "type": "histogram2dcontour"
           }
          ],
          "mesh3d": [
           {
            "colorbar": {
             "outlinewidth": 0,
             "ticks": ""
            },
            "type": "mesh3d"
           }
          ],
          "parcoords": [
           {
            "line": {
             "colorbar": {
              "outlinewidth": 0,
              "ticks": ""
             }
            },
            "type": "parcoords"
           }
          ],
          "pie": [
           {
            "automargin": true,
            "type": "pie"
           }
          ],
          "scatter": [
           {
            "marker": {
             "colorbar": {
              "outlinewidth": 0,
              "ticks": ""
             }
            },
            "type": "scatter"
           }
          ],
          "scatter3d": [
           {
            "line": {
             "colorbar": {
              "outlinewidth": 0,
              "ticks": ""
             }
            },
            "marker": {
             "colorbar": {
              "outlinewidth": 0,
              "ticks": ""
             }
            },
            "type": "scatter3d"
           }
          ],
          "scattercarpet": [
           {
            "marker": {
             "colorbar": {
              "outlinewidth": 0,
              "ticks": ""
             }
            },
            "type": "scattercarpet"
           }
          ],
          "scattergeo": [
           {
            "marker": {
             "colorbar": {
              "outlinewidth": 0,
              "ticks": ""
             }
            },
            "type": "scattergeo"
           }
          ],
          "scattergl": [
           {
            "marker": {
             "colorbar": {
              "outlinewidth": 0,
              "ticks": ""
             }
            },
            "type": "scattergl"
           }
          ],
          "scattermapbox": [
           {
            "marker": {
             "colorbar": {
              "outlinewidth": 0,
              "ticks": ""
             }
            },
            "type": "scattermapbox"
           }
          ],
          "scatterpolar": [
           {
            "marker": {
             "colorbar": {
              "outlinewidth": 0,
              "ticks": ""
             }
            },
            "type": "scatterpolar"
           }
          ],
          "scatterpolargl": [
           {
            "marker": {
             "colorbar": {
              "outlinewidth": 0,
              "ticks": ""
             }
            },
            "type": "scatterpolargl"
           }
          ],
          "scatterternary": [
           {
            "marker": {
             "colorbar": {
              "outlinewidth": 0,
              "ticks": ""
             }
            },
            "type": "scatterternary"
           }
          ],
          "surface": [
           {
            "colorbar": {
             "outlinewidth": 0,
             "ticks": ""
            },
            "colorscale": [
             [
              0,
              "#0d0887"
             ],
             [
              0.1111111111111111,
              "#46039f"
             ],
             [
              0.2222222222222222,
              "#7201a8"
             ],
             [
              0.3333333333333333,
              "#9c179e"
             ],
             [
              0.4444444444444444,
              "#bd3786"
             ],
             [
              0.5555555555555556,
              "#d8576b"
             ],
             [
              0.6666666666666666,
              "#ed7953"
             ],
             [
              0.7777777777777778,
              "#fb9f3a"
             ],
             [
              0.8888888888888888,
              "#fdca26"
             ],
             [
              1,
              "#f0f921"
             ]
            ],
            "type": "surface"
           }
          ],
          "table": [
           {
            "cells": {
             "fill": {
              "color": "#EBF0F8"
             },
             "line": {
              "color": "white"
             }
            },
            "header": {
             "fill": {
              "color": "#C8D4E3"
             },
             "line": {
              "color": "white"
             }
            },
            "type": "table"
           }
          ]
         },
         "layout": {
          "annotationdefaults": {
           "arrowcolor": "#2a3f5f",
           "arrowhead": 0,
           "arrowwidth": 1
          },
          "autotypenumbers": "strict",
          "coloraxis": {
           "colorbar": {
            "outlinewidth": 0,
            "ticks": ""
           }
          },
          "colorscale": {
           "diverging": [
            [
             0,
             "#8e0152"
            ],
            [
             0.1,
             "#c51b7d"
            ],
            [
             0.2,
             "#de77ae"
            ],
            [
             0.3,
             "#f1b6da"
            ],
            [
             0.4,
             "#fde0ef"
            ],
            [
             0.5,
             "#f7f7f7"
            ],
            [
             0.6,
             "#e6f5d0"
            ],
            [
             0.7,
             "#b8e186"
            ],
            [
             0.8,
             "#7fbc41"
            ],
            [
             0.9,
             "#4d9221"
            ],
            [
             1,
             "#276419"
            ]
           ],
           "sequential": [
            [
             0,
             "#0d0887"
            ],
            [
             0.1111111111111111,
             "#46039f"
            ],
            [
             0.2222222222222222,
             "#7201a8"
            ],
            [
             0.3333333333333333,
             "#9c179e"
            ],
            [
             0.4444444444444444,
             "#bd3786"
            ],
            [
             0.5555555555555556,
             "#d8576b"
            ],
            [
             0.6666666666666666,
             "#ed7953"
            ],
            [
             0.7777777777777778,
             "#fb9f3a"
            ],
            [
             0.8888888888888888,
             "#fdca26"
            ],
            [
             1,
             "#f0f921"
            ]
           ],
           "sequentialminus": [
            [
             0,
             "#0d0887"
            ],
            [
             0.1111111111111111,
             "#46039f"
            ],
            [
             0.2222222222222222,
             "#7201a8"
            ],
            [
             0.3333333333333333,
             "#9c179e"
            ],
            [
             0.4444444444444444,
             "#bd3786"
            ],
            [
             0.5555555555555556,
             "#d8576b"
            ],
            [
             0.6666666666666666,
             "#ed7953"
            ],
            [
             0.7777777777777778,
             "#fb9f3a"
            ],
            [
             0.8888888888888888,
             "#fdca26"
            ],
            [
             1,
             "#f0f921"
            ]
           ]
          },
          "colorway": [
           "#636efa",
           "#EF553B",
           "#00cc96",
           "#ab63fa",
           "#FFA15A",
           "#19d3f3",
           "#FF6692",
           "#B6E880",
           "#FF97FF",
           "#FECB52"
          ],
          "font": {
           "color": "#2a3f5f"
          },
          "geo": {
           "bgcolor": "white",
           "lakecolor": "white",
           "landcolor": "#E5ECF6",
           "showlakes": true,
           "showland": true,
           "subunitcolor": "white"
          },
          "hoverlabel": {
           "align": "left"
          },
          "hovermode": "closest",
          "mapbox": {
           "style": "light"
          },
          "paper_bgcolor": "white",
          "plot_bgcolor": "#E5ECF6",
          "polar": {
           "angularaxis": {
            "gridcolor": "white",
            "linecolor": "white",
            "ticks": ""
           },
           "bgcolor": "#E5ECF6",
           "radialaxis": {
            "gridcolor": "white",
            "linecolor": "white",
            "ticks": ""
           }
          },
          "scene": {
           "xaxis": {
            "backgroundcolor": "#E5ECF6",
            "gridcolor": "white",
            "gridwidth": 2,
            "linecolor": "white",
            "showbackground": true,
            "ticks": "",
            "zerolinecolor": "white"
           },
           "yaxis": {
            "backgroundcolor": "#E5ECF6",
            "gridcolor": "white",
            "gridwidth": 2,
            "linecolor": "white",
            "showbackground": true,
            "ticks": "",
            "zerolinecolor": "white"
           },
           "zaxis": {
            "backgroundcolor": "#E5ECF6",
            "gridcolor": "white",
            "gridwidth": 2,
            "linecolor": "white",
            "showbackground": true,
            "ticks": "",
            "zerolinecolor": "white"
           }
          },
          "shapedefaults": {
           "line": {
            "color": "#2a3f5f"
           }
          },
          "ternary": {
           "aaxis": {
            "gridcolor": "white",
            "linecolor": "white",
            "ticks": ""
           },
           "baxis": {
            "gridcolor": "white",
            "linecolor": "white",
            "ticks": ""
           },
           "bgcolor": "#E5ECF6",
           "caxis": {
            "gridcolor": "white",
            "linecolor": "white",
            "ticks": ""
           }
          },
          "title": {
           "x": 0.05
          },
          "xaxis": {
           "automargin": true,
           "gridcolor": "white",
           "linecolor": "white",
           "ticks": "",
           "title": {
            "standoff": 15
           },
           "zerolinecolor": "white",
           "zerolinewidth": 2
          },
          "yaxis": {
           "automargin": true,
           "gridcolor": "white",
           "linecolor": "white",
           "ticks": "",
           "title": {
            "standoff": 15
           },
           "zerolinecolor": "white",
           "zerolinewidth": 2
          }
         }
        },
        "xaxis": {
         "anchor": "y",
         "domain": [
          0,
          1
         ],
         "title": {
          "text": "benchmarkTradePrice"
         }
        },
        "yaxis": {
         "anchor": "x",
         "domain": [
          0,
          1
         ],
         "title": {
          "text": "mk_price_minus_bmk_price"
         }
        }
       }
      },
      "text/html": [
       "<div>                            <div id=\"c210eb65-5640-46ff-b6da-a7783188f2e9\" class=\"plotly-graph-div\" style=\"height:525px; width:100%;\"></div>            <script type=\"text/javascript\">                require([\"plotly\"], function(Plotly) {                    window.PLOTLYENV=window.PLOTLYENV || {};                                    if (document.getElementById(\"c210eb65-5640-46ff-b6da-a7783188f2e9\")) {                    Plotly.newPlot(                        \"c210eb65-5640-46ff-b6da-a7783188f2e9\",                        [{\"hovertemplate\": \"wineName=Chateau Angelus Premier Grand Cru Classe A, Saint-Emilion Grand Cru<br>benchmarkTradePrice=%{x}<br>mk_price_minus_bmk_price=%{y}<br>marketPrice=%{marker.size}<extra></extra>\", \"legendgroup\": \"Chateau Angelus Premier Grand Cru Classe A, Saint-Emilion Grand Cru\", \"marker\": {\"color\": \"#636efa\", \"size\": [2829.375], \"sizemode\": \"area\", \"sizeref\": 37.934, \"symbol\": \"circle\"}, \"mode\": \"markers\", \"name\": \"Chateau Angelus Premier Grand Cru Classe A, Saint-Emilion Grand Cru\", \"orientation\": \"v\", \"showlegend\": true, \"type\": \"scatter\", \"x\": [2648.625], \"xaxis\": \"x\", \"y\": [180.75], \"yaxis\": \"y\"}, {\"hovertemplate\": \"wineName=Chateau Angelus Premier Grand Cru Classe B, Saint-Emilion Grand Cru<br>benchmarkTradePrice=%{x}<br>mk_price_minus_bmk_price=%{y}<br>marketPrice=%{marker.size}<extra></extra>\", \"legendgroup\": \"Chateau Angelus Premier Grand Cru Classe B, Saint-Emilion Grand Cru\", \"marker\": {\"color\": \"#EF553B\", \"size\": [3158.4545454545455], \"sizemode\": \"area\", \"sizeref\": 37.934, \"symbol\": \"circle\"}, \"mode\": \"markers\", \"name\": \"Chateau Angelus Premier Grand Cru Classe B, Saint-Emilion Grand Cru\", \"orientation\": \"v\", \"showlegend\": true, \"type\": \"scatter\", \"x\": [2890.818181818182], \"xaxis\": \"x\", \"y\": [267.6363636363636], \"yaxis\": \"y\"}, {\"hovertemplate\": \"wineName=Chateau Batailley 5eme Cru Classe, Pauillac<br>benchmarkTradePrice=%{x}<br>mk_price_minus_bmk_price=%{y}<br>marketPrice=%{marker.size}<extra></extra>\", \"legendgroup\": \"Chateau Batailley 5eme Cru Classe, Pauillac\", \"marker\": {\"color\": \"#00cc96\", \"size\": [447.29411764705884], \"sizemode\": \"area\", \"sizeref\": 37.934, \"symbol\": \"circle\"}, \"mode\": \"markers\", \"name\": \"Chateau Batailley 5eme Cru Classe, Pauillac\", \"orientation\": \"v\", \"showlegend\": true, \"type\": \"scatter\", \"x\": [374.6470588235294], \"xaxis\": \"x\", \"y\": [72.6470588235294], \"yaxis\": \"y\"}, {\"hovertemplate\": \"wineName=Chateau Calon Segur 3eme Cru Classe, Saint-Estephe<br>benchmarkTradePrice=%{x}<br>mk_price_minus_bmk_price=%{y}<br>marketPrice=%{marker.size}<extra></extra>\", \"legendgroup\": \"Chateau Calon Segur 3eme Cru Classe, Saint-Estephe\", \"marker\": {\"color\": \"#ab63fa\", \"size\": [887.4736842105264], \"sizemode\": \"area\", \"sizeref\": 37.934, \"symbol\": \"circle\"}, \"mode\": \"markers\", \"name\": \"Chateau Calon Segur 3eme Cru Classe, Saint-Estephe\", \"orientation\": \"v\", \"showlegend\": true, \"type\": \"scatter\", \"x\": [836.2631578947369], \"xaxis\": \"x\", \"y\": [51.21052631578947], \"yaxis\": \"y\"}, {\"hovertemplate\": \"wineName=Chateau Margaux Premier Cru Classe, Margaux<br>benchmarkTradePrice=%{x}<br>mk_price_minus_bmk_price=%{y}<br>marketPrice=%{marker.size}<extra></extra>\", \"legendgroup\": \"Chateau Margaux Premier Cru Classe, Margaux\", \"marker\": {\"color\": \"#FFA15A\", \"size\": [4869.684210526316], \"sizemode\": \"area\", \"sizeref\": 37.934, \"symbol\": \"circle\"}, \"mode\": \"markers\", \"name\": \"Chateau Margaux Premier Cru Classe, Margaux\", \"orientation\": \"v\", \"showlegend\": true, \"type\": \"scatter\", \"x\": [4719.526315789473], \"xaxis\": \"x\", \"y\": [150.1578947368421], \"yaxis\": \"y\"}, {\"hovertemplate\": \"wineName=Domaine Denis Mortet, Chambertin Grand Cru<br>benchmarkTradePrice=%{x}<br>mk_price_minus_bmk_price=%{y}<br>marketPrice=%{marker.size}<extra></extra>\", \"legendgroup\": \"Domaine Denis Mortet, Chambertin Grand Cru\", \"marker\": {\"color\": \"#19d3f3\", \"size\": [9022.0], \"sizemode\": \"area\", \"sizeref\": 37.934, \"symbol\": \"circle\"}, \"mode\": \"markers\", \"name\": \"Domaine Denis Mortet, Chambertin Grand Cru\", \"orientation\": \"v\", \"showlegend\": true, \"type\": \"scatter\", \"x\": [6163.333333333333], \"xaxis\": \"x\", \"y\": [2858.6666666666665], \"yaxis\": \"y\"}, {\"hovertemplate\": \"wineName=Domaine Leflaive, Chevalier-Montrachet Grand Cru<br>benchmarkTradePrice=%{x}<br>mk_price_minus_bmk_price=%{y}<br>marketPrice=%{marker.size}<extra></extra>\", \"legendgroup\": \"Domaine Leflaive, Chevalier-Montrachet Grand Cru\", \"marker\": {\"color\": \"#FF6692\", \"size\": [7429.75], \"sizemode\": \"area\", \"sizeref\": 37.934, \"symbol\": \"circle\"}, \"mode\": \"markers\", \"name\": \"Domaine Leflaive, Chevalier-Montrachet Grand Cru\", \"orientation\": \"v\", \"showlegend\": true, \"type\": \"scatter\", \"x\": [5983.9375], \"xaxis\": \"x\", \"y\": [1445.8125], \"yaxis\": \"y\"}, {\"hovertemplate\": \"wineName=Gaja, Barbaresco<br>benchmarkTradePrice=%{x}<br>mk_price_minus_bmk_price=%{y}<br>marketPrice=%{marker.size}<extra></extra>\", \"legendgroup\": \"Gaja, Barbaresco\", \"marker\": {\"color\": \"#B6E880\", \"size\": [1785.0625], \"sizemode\": \"area\", \"sizeref\": 37.934, \"symbol\": \"circle\"}, \"mode\": \"markers\", \"name\": \"Gaja, Barbaresco\", \"orientation\": \"v\", \"showlegend\": true, \"type\": \"scatter\", \"x\": [1496.9375], \"xaxis\": \"x\", \"y\": [288.125], \"yaxis\": \"y\"}, {\"hovertemplate\": \"wineName=Jacques-Frederic Mugnier, Chambolle-Musigny Premier Cru, Les Amoureuses<br>benchmarkTradePrice=%{x}<br>mk_price_minus_bmk_price=%{y}<br>marketPrice=%{marker.size}<extra></extra>\", \"legendgroup\": \"Jacques-Frederic Mugnier, Chambolle-Musigny Premier Cru, Les Amoureuses\", \"marker\": {\"color\": \"#FF97FF\", \"size\": [15173.6], \"sizemode\": \"area\", \"sizeref\": 37.934, \"symbol\": \"circle\"}, \"mode\": \"markers\", \"name\": \"Jacques-Frederic Mugnier, Chambolle-Musigny Premier Cru, Les Amoureuses\", \"orientation\": \"v\", \"showlegend\": true, \"type\": \"scatter\", \"x\": [12627.6], \"xaxis\": \"x\", \"y\": [2546.0], \"yaxis\": \"y\"}, {\"hovertemplate\": \"wineName=Tignanello, Toscana<br>benchmarkTradePrice=%{x}<br>mk_price_minus_bmk_price=%{y}<br>marketPrice=%{marker.size}<extra></extra>\", \"legendgroup\": \"Tignanello, Toscana\", \"marker\": {\"color\": \"#FECB52\", \"size\": [1183.764705882353], \"sizemode\": \"area\", \"sizeref\": 37.934, \"symbol\": \"circle\"}, \"mode\": \"markers\", \"name\": \"Tignanello, Toscana\", \"orientation\": \"v\", \"showlegend\": true, \"type\": \"scatter\", \"x\": [1040.3529411764705], \"xaxis\": \"x\", \"y\": [143.41176470588235], \"yaxis\": \"y\"}, {\"hovertemplate\": \"wineName=Tua Rita, Giusto di Notri, Toscana<br>benchmarkTradePrice=%{x}<br>mk_price_minus_bmk_price=%{y}<br>marketPrice=%{marker.size}<extra></extra>\", \"legendgroup\": \"Tua Rita, Giusto di Notri, Toscana\", \"marker\": {\"color\": \"#636efa\", \"size\": [523.2727272727273], \"sizemode\": \"area\", \"sizeref\": 37.934, \"symbol\": \"circle\"}, \"mode\": \"markers\", \"name\": \"Tua Rita, Giusto di Notri, Toscana\", \"orientation\": \"v\", \"showlegend\": true, \"type\": \"scatter\", \"x\": [391.1818181818182], \"xaxis\": \"x\", \"y\": [132.0909090909091], \"yaxis\": \"y\"}],                        {\"legend\": {\"itemsizing\": \"constant\", \"title\": {\"text\": \"wineName\"}, \"tracegroupgap\": 0}, \"margin\": {\"t\": 60}, \"template\": {\"data\": {\"bar\": [{\"error_x\": {\"color\": \"#2a3f5f\"}, \"error_y\": {\"color\": \"#2a3f5f\"}, \"marker\": {\"line\": {\"color\": \"#E5ECF6\", \"width\": 0.5}}, \"type\": \"bar\"}], \"barpolar\": [{\"marker\": {\"line\": {\"color\": \"#E5ECF6\", \"width\": 0.5}}, \"type\": \"barpolar\"}], \"carpet\": [{\"aaxis\": {\"endlinecolor\": \"#2a3f5f\", \"gridcolor\": \"white\", \"linecolor\": \"white\", \"minorgridcolor\": \"white\", \"startlinecolor\": \"#2a3f5f\"}, \"baxis\": {\"endlinecolor\": \"#2a3f5f\", \"gridcolor\": \"white\", \"linecolor\": \"white\", \"minorgridcolor\": \"white\", \"startlinecolor\": \"#2a3f5f\"}, \"type\": \"carpet\"}], \"choropleth\": [{\"colorbar\": {\"outlinewidth\": 0, \"ticks\": \"\"}, \"type\": \"choropleth\"}], \"contour\": [{\"colorbar\": {\"outlinewidth\": 0, \"ticks\": \"\"}, \"colorscale\": [[0.0, \"#0d0887\"], [0.1111111111111111, \"#46039f\"], [0.2222222222222222, \"#7201a8\"], [0.3333333333333333, \"#9c179e\"], [0.4444444444444444, \"#bd3786\"], [0.5555555555555556, \"#d8576b\"], [0.6666666666666666, \"#ed7953\"], [0.7777777777777778, \"#fb9f3a\"], [0.8888888888888888, \"#fdca26\"], [1.0, \"#f0f921\"]], \"type\": \"contour\"}], \"contourcarpet\": [{\"colorbar\": {\"outlinewidth\": 0, \"ticks\": \"\"}, \"type\": \"contourcarpet\"}], \"heatmap\": [{\"colorbar\": {\"outlinewidth\": 0, \"ticks\": \"\"}, \"colorscale\": [[0.0, \"#0d0887\"], [0.1111111111111111, \"#46039f\"], [0.2222222222222222, \"#7201a8\"], [0.3333333333333333, \"#9c179e\"], [0.4444444444444444, \"#bd3786\"], [0.5555555555555556, \"#d8576b\"], [0.6666666666666666, \"#ed7953\"], [0.7777777777777778, \"#fb9f3a\"], [0.8888888888888888, \"#fdca26\"], [1.0, \"#f0f921\"]], \"type\": \"heatmap\"}], \"heatmapgl\": [{\"colorbar\": {\"outlinewidth\": 0, \"ticks\": \"\"}, \"colorscale\": [[0.0, \"#0d0887\"], [0.1111111111111111, \"#46039f\"], [0.2222222222222222, \"#7201a8\"], [0.3333333333333333, \"#9c179e\"], [0.4444444444444444, \"#bd3786\"], [0.5555555555555556, \"#d8576b\"], [0.6666666666666666, \"#ed7953\"], [0.7777777777777778, \"#fb9f3a\"], [0.8888888888888888, \"#fdca26\"], [1.0, \"#f0f921\"]], \"type\": \"heatmapgl\"}], \"histogram\": [{\"marker\": {\"colorbar\": {\"outlinewidth\": 0, \"ticks\": \"\"}}, \"type\": \"histogram\"}], \"histogram2d\": [{\"colorbar\": {\"outlinewidth\": 0, \"ticks\": \"\"}, \"colorscale\": [[0.0, \"#0d0887\"], [0.1111111111111111, \"#46039f\"], [0.2222222222222222, \"#7201a8\"], [0.3333333333333333, \"#9c179e\"], [0.4444444444444444, \"#bd3786\"], [0.5555555555555556, \"#d8576b\"], [0.6666666666666666, \"#ed7953\"], [0.7777777777777778, \"#fb9f3a\"], [0.8888888888888888, \"#fdca26\"], [1.0, \"#f0f921\"]], \"type\": \"histogram2d\"}], \"histogram2dcontour\": [{\"colorbar\": {\"outlinewidth\": 0, \"ticks\": \"\"}, \"colorscale\": [[0.0, \"#0d0887\"], [0.1111111111111111, \"#46039f\"], [0.2222222222222222, \"#7201a8\"], [0.3333333333333333, \"#9c179e\"], [0.4444444444444444, \"#bd3786\"], [0.5555555555555556, \"#d8576b\"], [0.6666666666666666, \"#ed7953\"], [0.7777777777777778, \"#fb9f3a\"], [0.8888888888888888, \"#fdca26\"], [1.0, \"#f0f921\"]], \"type\": \"histogram2dcontour\"}], \"mesh3d\": [{\"colorbar\": {\"outlinewidth\": 0, \"ticks\": \"\"}, \"type\": \"mesh3d\"}], \"parcoords\": [{\"line\": {\"colorbar\": {\"outlinewidth\": 0, \"ticks\": \"\"}}, \"type\": \"parcoords\"}], \"pie\": [{\"automargin\": true, \"type\": \"pie\"}], \"scatter\": [{\"marker\": {\"colorbar\": {\"outlinewidth\": 0, \"ticks\": \"\"}}, \"type\": \"scatter\"}], \"scatter3d\": [{\"line\": {\"colorbar\": {\"outlinewidth\": 0, \"ticks\": \"\"}}, \"marker\": {\"colorbar\": {\"outlinewidth\": 0, \"ticks\": \"\"}}, \"type\": \"scatter3d\"}], \"scattercarpet\": [{\"marker\": {\"colorbar\": {\"outlinewidth\": 0, \"ticks\": \"\"}}, \"type\": \"scattercarpet\"}], \"scattergeo\": [{\"marker\": {\"colorbar\": {\"outlinewidth\": 0, \"ticks\": \"\"}}, \"type\": \"scattergeo\"}], \"scattergl\": [{\"marker\": {\"colorbar\": {\"outlinewidth\": 0, \"ticks\": \"\"}}, \"type\": \"scattergl\"}], \"scattermapbox\": [{\"marker\": {\"colorbar\": {\"outlinewidth\": 0, \"ticks\": \"\"}}, \"type\": \"scattermapbox\"}], \"scatterpolar\": [{\"marker\": {\"colorbar\": {\"outlinewidth\": 0, \"ticks\": \"\"}}, \"type\": \"scatterpolar\"}], \"scatterpolargl\": [{\"marker\": {\"colorbar\": {\"outlinewidth\": 0, \"ticks\": \"\"}}, \"type\": \"scatterpolargl\"}], \"scatterternary\": [{\"marker\": {\"colorbar\": {\"outlinewidth\": 0, \"ticks\": \"\"}}, \"type\": \"scatterternary\"}], \"surface\": [{\"colorbar\": {\"outlinewidth\": 0, \"ticks\": \"\"}, \"colorscale\": [[0.0, \"#0d0887\"], [0.1111111111111111, \"#46039f\"], [0.2222222222222222, \"#7201a8\"], [0.3333333333333333, \"#9c179e\"], [0.4444444444444444, \"#bd3786\"], [0.5555555555555556, \"#d8576b\"], [0.6666666666666666, \"#ed7953\"], [0.7777777777777778, \"#fb9f3a\"], [0.8888888888888888, \"#fdca26\"], [1.0, \"#f0f921\"]], \"type\": \"surface\"}], \"table\": [{\"cells\": {\"fill\": {\"color\": \"#EBF0F8\"}, \"line\": {\"color\": \"white\"}}, \"header\": {\"fill\": {\"color\": \"#C8D4E3\"}, \"line\": {\"color\": \"white\"}}, \"type\": \"table\"}]}, \"layout\": {\"annotationdefaults\": {\"arrowcolor\": \"#2a3f5f\", \"arrowhead\": 0, \"arrowwidth\": 1}, \"autotypenumbers\": \"strict\", \"coloraxis\": {\"colorbar\": {\"outlinewidth\": 0, \"ticks\": \"\"}}, \"colorscale\": {\"diverging\": [[0, \"#8e0152\"], [0.1, \"#c51b7d\"], [0.2, \"#de77ae\"], [0.3, \"#f1b6da\"], [0.4, \"#fde0ef\"], [0.5, \"#f7f7f7\"], [0.6, \"#e6f5d0\"], [0.7, \"#b8e186\"], [0.8, \"#7fbc41\"], [0.9, \"#4d9221\"], [1, \"#276419\"]], \"sequential\": [[0.0, \"#0d0887\"], [0.1111111111111111, \"#46039f\"], [0.2222222222222222, \"#7201a8\"], [0.3333333333333333, \"#9c179e\"], [0.4444444444444444, \"#bd3786\"], [0.5555555555555556, \"#d8576b\"], [0.6666666666666666, \"#ed7953\"], [0.7777777777777778, \"#fb9f3a\"], [0.8888888888888888, \"#fdca26\"], [1.0, \"#f0f921\"]], \"sequentialminus\": [[0.0, \"#0d0887\"], [0.1111111111111111, \"#46039f\"], [0.2222222222222222, \"#7201a8\"], [0.3333333333333333, \"#9c179e\"], [0.4444444444444444, \"#bd3786\"], [0.5555555555555556, \"#d8576b\"], [0.6666666666666666, \"#ed7953\"], [0.7777777777777778, \"#fb9f3a\"], [0.8888888888888888, \"#fdca26\"], [1.0, \"#f0f921\"]]}, \"colorway\": [\"#636efa\", \"#EF553B\", \"#00cc96\", \"#ab63fa\", \"#FFA15A\", \"#19d3f3\", \"#FF6692\", \"#B6E880\", \"#FF97FF\", \"#FECB52\"], \"font\": {\"color\": \"#2a3f5f\"}, \"geo\": {\"bgcolor\": \"white\", \"lakecolor\": \"white\", \"landcolor\": \"#E5ECF6\", \"showlakes\": true, \"showland\": true, \"subunitcolor\": \"white\"}, \"hoverlabel\": {\"align\": \"left\"}, \"hovermode\": \"closest\", \"mapbox\": {\"style\": \"light\"}, \"paper_bgcolor\": \"white\", \"plot_bgcolor\": \"#E5ECF6\", \"polar\": {\"angularaxis\": {\"gridcolor\": \"white\", \"linecolor\": \"white\", \"ticks\": \"\"}, \"bgcolor\": \"#E5ECF6\", \"radialaxis\": {\"gridcolor\": \"white\", \"linecolor\": \"white\", \"ticks\": \"\"}}, \"scene\": {\"xaxis\": {\"backgroundcolor\": \"#E5ECF6\", \"gridcolor\": \"white\", \"gridwidth\": 2, \"linecolor\": \"white\", \"showbackground\": true, \"ticks\": \"\", \"zerolinecolor\": \"white\"}, \"yaxis\": {\"backgroundcolor\": \"#E5ECF6\", \"gridcolor\": \"white\", \"gridwidth\": 2, \"linecolor\": \"white\", \"showbackground\": true, \"ticks\": \"\", \"zerolinecolor\": \"white\"}, \"zaxis\": {\"backgroundcolor\": \"#E5ECF6\", \"gridcolor\": \"white\", \"gridwidth\": 2, \"linecolor\": \"white\", \"showbackground\": true, \"ticks\": \"\", \"zerolinecolor\": \"white\"}}, \"shapedefaults\": {\"line\": {\"color\": \"#2a3f5f\"}}, \"ternary\": {\"aaxis\": {\"gridcolor\": \"white\", \"linecolor\": \"white\", \"ticks\": \"\"}, \"baxis\": {\"gridcolor\": \"white\", \"linecolor\": \"white\", \"ticks\": \"\"}, \"bgcolor\": \"#E5ECF6\", \"caxis\": {\"gridcolor\": \"white\", \"linecolor\": \"white\", \"ticks\": \"\"}}, \"title\": {\"x\": 0.05}, \"xaxis\": {\"automargin\": true, \"gridcolor\": \"white\", \"linecolor\": \"white\", \"ticks\": \"\", \"title\": {\"standoff\": 15}, \"zerolinecolor\": \"white\", \"zerolinewidth\": 2}, \"yaxis\": {\"automargin\": true, \"gridcolor\": \"white\", \"linecolor\": \"white\", \"ticks\": \"\", \"title\": {\"standoff\": 15}, \"zerolinecolor\": \"white\", \"zerolinewidth\": 2}}}, \"xaxis\": {\"anchor\": \"y\", \"domain\": [0.0, 1.0], \"title\": {\"text\": \"benchmarkTradePrice\"}}, \"yaxis\": {\"anchor\": \"x\", \"domain\": [0.0, 1.0], \"title\": {\"text\": \"mk_price_minus_bmk_price\"}}},                        {\"responsive\": true}                    ).then(function(){\n",
       "                            \n",
       "var gd = document.getElementById('c210eb65-5640-46ff-b6da-a7783188f2e9');\n",
       "var x = new MutationObserver(function (mutations, observer) {{\n",
       "        var display = window.getComputedStyle(gd).display;\n",
       "        if (!display || display === 'none') {{\n",
       "            console.log([gd, 'removed!']);\n",
       "            Plotly.purge(gd);\n",
       "            observer.disconnect();\n",
       "        }}\n",
       "}});\n",
       "\n",
       "// Listen for the removal of the full notebook cells\n",
       "var notebookContainer = gd.closest('#notebook-container');\n",
       "if (notebookContainer) {{\n",
       "    x.observe(notebookContainer, {childList: true});\n",
       "}}\n",
       "\n",
       "// Listen for the clearing of the current output cell\n",
       "var outputEl = gd.closest('.output');\n",
       "if (outputEl) {{\n",
       "    x.observe(outputEl, {childList: true});\n",
       "}}\n",
       "\n",
       "                        })                };                });            </script>        </div>"
      ]
     },
     "metadata": {},
     "output_type": "display_data"
    }
   ],
   "source": [
    "benchmark = px.scatter(name_mean, x=\"benchmarkTradePrice\", y=\"mk_price_minus_bmk_price\", color=\"wineName\", size=\"marketPrice\")\n",
    "benchmark.show()"
   ]
  },
  {
   "cell_type": "code",
   "execution_count": 10,
   "metadata": {},
   "outputs": [
    {
     "data": {
      "application/vnd.plotly.v1+json": {
       "config": {
        "plotlyServerURL": "https://plot.ly"
       },
       "data": [
        {
         "hovertemplate": "wineName=Chateau Angelus Premier Grand Cru Classe A, Saint-Emilion Grand Cru<br>score=%{x}<br>mk_price_minus_bmk_price=%{y}<br>marketPrice=%{marker.size}<extra></extra>",
         "legendgroup": "Chateau Angelus Premier Grand Cru Classe A, Saint-Emilion Grand Cru",
         "marker": {
          "color": "#636efa",
          "size": [
           2829.375
          ],
          "sizemode": "area",
          "sizeref": 37.934,
          "symbol": "circle"
         },
         "mode": "markers",
         "name": "Chateau Angelus Premier Grand Cru Classe A, Saint-Emilion Grand Cru",
         "orientation": "v",
         "showlegend": true,
         "type": "scatter",
         "x": [
          95.5625
         ],
         "xaxis": "x",
         "y": [
          180.75
         ],
         "yaxis": "y"
        },
        {
         "hovertemplate": "wineName=Chateau Angelus Premier Grand Cru Classe B, Saint-Emilion Grand Cru<br>score=%{x}<br>mk_price_minus_bmk_price=%{y}<br>marketPrice=%{marker.size}<extra></extra>",
         "legendgroup": "Chateau Angelus Premier Grand Cru Classe B, Saint-Emilion Grand Cru",
         "marker": {
          "color": "#EF553B",
          "size": [
           3158.4545454545455
          ],
          "sizemode": "area",
          "sizeref": 37.934,
          "symbol": "circle"
         },
         "mode": "markers",
         "name": "Chateau Angelus Premier Grand Cru Classe B, Saint-Emilion Grand Cru",
         "orientation": "v",
         "showlegend": true,
         "type": "scatter",
         "x": [
          95.63636363636364
         ],
         "xaxis": "x",
         "y": [
          267.6363636363636
         ],
         "yaxis": "y"
        },
        {
         "hovertemplate": "wineName=Chateau Batailley 5eme Cru Classe, Pauillac<br>score=%{x}<br>mk_price_minus_bmk_price=%{y}<br>marketPrice=%{marker.size}<extra></extra>",
         "legendgroup": "Chateau Batailley 5eme Cru Classe, Pauillac",
         "marker": {
          "color": "#00cc96",
          "size": [
           447.29411764705884
          ],
          "sizemode": "area",
          "sizeref": 37.934,
          "symbol": "circle"
         },
         "mode": "markers",
         "name": "Chateau Batailley 5eme Cru Classe, Pauillac",
         "orientation": "v",
         "showlegend": true,
         "type": "scatter",
         "x": [
          90.70588235294117
         ],
         "xaxis": "x",
         "y": [
          72.6470588235294
         ],
         "yaxis": "y"
        },
        {
         "hovertemplate": "wineName=Chateau Calon Segur 3eme Cru Classe, Saint-Estephe<br>score=%{x}<br>mk_price_minus_bmk_price=%{y}<br>marketPrice=%{marker.size}<extra></extra>",
         "legendgroup": "Chateau Calon Segur 3eme Cru Classe, Saint-Estephe",
         "marker": {
          "color": "#ab63fa",
          "size": [
           887.4736842105264
          ],
          "sizemode": "area",
          "sizeref": 37.934,
          "symbol": "circle"
         },
         "mode": "markers",
         "name": "Chateau Calon Segur 3eme Cru Classe, Saint-Estephe",
         "orientation": "v",
         "showlegend": true,
         "type": "scatter",
         "x": [
          92.3157894736842
         ],
         "xaxis": "x",
         "y": [
          51.21052631578947
         ],
         "yaxis": "y"
        },
        {
         "hovertemplate": "wineName=Chateau Margaux Premier Cru Classe, Margaux<br>score=%{x}<br>mk_price_minus_bmk_price=%{y}<br>marketPrice=%{marker.size}<extra></extra>",
         "legendgroup": "Chateau Margaux Premier Cru Classe, Margaux",
         "marker": {
          "color": "#FFA15A",
          "size": [
           4869.684210526316
          ],
          "sizemode": "area",
          "sizeref": 37.934,
          "symbol": "circle"
         },
         "mode": "markers",
         "name": "Chateau Margaux Premier Cru Classe, Margaux",
         "orientation": "v",
         "showlegend": true,
         "type": "scatter",
         "x": [
          95.65789473684211
         ],
         "xaxis": "x",
         "y": [
          150.1578947368421
         ],
         "yaxis": "y"
        },
        {
         "hovertemplate": "wineName=Domaine Denis Mortet, Chambertin Grand Cru<br>score=%{x}<br>mk_price_minus_bmk_price=%{y}<br>marketPrice=%{marker.size}<extra></extra>",
         "legendgroup": "Domaine Denis Mortet, Chambertin Grand Cru",
         "marker": {
          "color": "#19d3f3",
          "size": [
           9022
          ],
          "sizemode": "area",
          "sizeref": 37.934,
          "symbol": "circle"
         },
         "mode": "markers",
         "name": "Domaine Denis Mortet, Chambertin Grand Cru",
         "orientation": "v",
         "showlegend": true,
         "type": "scatter",
         "x": [
          95.33333333333333
         ],
         "xaxis": "x",
         "y": [
          2858.6666666666665
         ],
         "yaxis": "y"
        },
        {
         "hovertemplate": "wineName=Domaine Leflaive, Chevalier-Montrachet Grand Cru<br>score=%{x}<br>mk_price_minus_bmk_price=%{y}<br>marketPrice=%{marker.size}<extra></extra>",
         "legendgroup": "Domaine Leflaive, Chevalier-Montrachet Grand Cru",
         "marker": {
          "color": "#FF6692",
          "size": [
           7429.75
          ],
          "sizemode": "area",
          "sizeref": 37.934,
          "symbol": "circle"
         },
         "mode": "markers",
         "name": "Domaine Leflaive, Chevalier-Montrachet Grand Cru",
         "orientation": "v",
         "showlegend": true,
         "type": "scatter",
         "x": [
          92.5625
         ],
         "xaxis": "x",
         "y": [
          1445.8125
         ],
         "yaxis": "y"
        },
        {
         "hovertemplate": "wineName=Gaja, Barbaresco<br>score=%{x}<br>mk_price_minus_bmk_price=%{y}<br>marketPrice=%{marker.size}<extra></extra>",
         "legendgroup": "Gaja, Barbaresco",
         "marker": {
          "color": "#B6E880",
          "size": [
           1785.0625
          ],
          "sizemode": "area",
          "sizeref": 37.934,
          "symbol": "circle"
         },
         "mode": "markers",
         "name": "Gaja, Barbaresco",
         "orientation": "v",
         "showlegend": true,
         "type": "scatter",
         "x": [
          93.4375
         ],
         "xaxis": "x",
         "y": [
          288.125
         ],
         "yaxis": "y"
        },
        {
         "hovertemplate": "wineName=Jacques-Frederic Mugnier, Chambolle-Musigny Premier Cru, Les Amoureuses<br>score=%{x}<br>mk_price_minus_bmk_price=%{y}<br>marketPrice=%{marker.size}<extra></extra>",
         "legendgroup": "Jacques-Frederic Mugnier, Chambolle-Musigny Premier Cru, Les Amoureuses",
         "marker": {
          "color": "#FF97FF",
          "size": [
           15173.6
          ],
          "sizemode": "area",
          "sizeref": 37.934,
          "symbol": "circle"
         },
         "mode": "markers",
         "name": "Jacques-Frederic Mugnier, Chambolle-Musigny Premier Cru, Les Amoureuses",
         "orientation": "v",
         "showlegend": true,
         "type": "scatter",
         "x": [
          94
         ],
         "xaxis": "x",
         "y": [
          2546
         ],
         "yaxis": "y"
        },
        {
         "hovertemplate": "wineName=Tignanello, Toscana<br>score=%{x}<br>mk_price_minus_bmk_price=%{y}<br>marketPrice=%{marker.size}<extra></extra>",
         "legendgroup": "Tignanello, Toscana",
         "marker": {
          "color": "#FECB52",
          "size": [
           1183.764705882353
          ],
          "sizemode": "area",
          "sizeref": 37.934,
          "symbol": "circle"
         },
         "mode": "markers",
         "name": "Tignanello, Toscana",
         "orientation": "v",
         "showlegend": true,
         "type": "scatter",
         "x": [
          94.17647058823529
         ],
         "xaxis": "x",
         "y": [
          143.41176470588235
         ],
         "yaxis": "y"
        },
        {
         "hovertemplate": "wineName=Tua Rita, Giusto di Notri, Toscana<br>score=%{x}<br>mk_price_minus_bmk_price=%{y}<br>marketPrice=%{marker.size}<extra></extra>",
         "legendgroup": "Tua Rita, Giusto di Notri, Toscana",
         "marker": {
          "color": "#636efa",
          "size": [
           523.2727272727273
          ],
          "sizemode": "area",
          "sizeref": 37.934,
          "symbol": "circle"
         },
         "mode": "markers",
         "name": "Tua Rita, Giusto di Notri, Toscana",
         "orientation": "v",
         "showlegend": true,
         "type": "scatter",
         "x": [
          95.27272727272727
         ],
         "xaxis": "x",
         "y": [
          132.0909090909091
         ],
         "yaxis": "y"
        }
       ],
       "layout": {
        "legend": {
         "itemsizing": "constant",
         "title": {
          "text": "wineName"
         },
         "tracegroupgap": 0
        },
        "margin": {
         "t": 60
        },
        "template": {
         "data": {
          "bar": [
           {
            "error_x": {
             "color": "#2a3f5f"
            },
            "error_y": {
             "color": "#2a3f5f"
            },
            "marker": {
             "line": {
              "color": "#E5ECF6",
              "width": 0.5
             }
            },
            "type": "bar"
           }
          ],
          "barpolar": [
           {
            "marker": {
             "line": {
              "color": "#E5ECF6",
              "width": 0.5
             }
            },
            "type": "barpolar"
           }
          ],
          "carpet": [
           {
            "aaxis": {
             "endlinecolor": "#2a3f5f",
             "gridcolor": "white",
             "linecolor": "white",
             "minorgridcolor": "white",
             "startlinecolor": "#2a3f5f"
            },
            "baxis": {
             "endlinecolor": "#2a3f5f",
             "gridcolor": "white",
             "linecolor": "white",
             "minorgridcolor": "white",
             "startlinecolor": "#2a3f5f"
            },
            "type": "carpet"
           }
          ],
          "choropleth": [
           {
            "colorbar": {
             "outlinewidth": 0,
             "ticks": ""
            },
            "type": "choropleth"
           }
          ],
          "contour": [
           {
            "colorbar": {
             "outlinewidth": 0,
             "ticks": ""
            },
            "colorscale": [
             [
              0,
              "#0d0887"
             ],
             [
              0.1111111111111111,
              "#46039f"
             ],
             [
              0.2222222222222222,
              "#7201a8"
             ],
             [
              0.3333333333333333,
              "#9c179e"
             ],
             [
              0.4444444444444444,
              "#bd3786"
             ],
             [
              0.5555555555555556,
              "#d8576b"
             ],
             [
              0.6666666666666666,
              "#ed7953"
             ],
             [
              0.7777777777777778,
              "#fb9f3a"
             ],
             [
              0.8888888888888888,
              "#fdca26"
             ],
             [
              1,
              "#f0f921"
             ]
            ],
            "type": "contour"
           }
          ],
          "contourcarpet": [
           {
            "colorbar": {
             "outlinewidth": 0,
             "ticks": ""
            },
            "type": "contourcarpet"
           }
          ],
          "heatmap": [
           {
            "colorbar": {
             "outlinewidth": 0,
             "ticks": ""
            },
            "colorscale": [
             [
              0,
              "#0d0887"
             ],
             [
              0.1111111111111111,
              "#46039f"
             ],
             [
              0.2222222222222222,
              "#7201a8"
             ],
             [
              0.3333333333333333,
              "#9c179e"
             ],
             [
              0.4444444444444444,
              "#bd3786"
             ],
             [
              0.5555555555555556,
              "#d8576b"
             ],
             [
              0.6666666666666666,
              "#ed7953"
             ],
             [
              0.7777777777777778,
              "#fb9f3a"
             ],
             [
              0.8888888888888888,
              "#fdca26"
             ],
             [
              1,
              "#f0f921"
             ]
            ],
            "type": "heatmap"
           }
          ],
          "heatmapgl": [
           {
            "colorbar": {
             "outlinewidth": 0,
             "ticks": ""
            },
            "colorscale": [
             [
              0,
              "#0d0887"
             ],
             [
              0.1111111111111111,
              "#46039f"
             ],
             [
              0.2222222222222222,
              "#7201a8"
             ],
             [
              0.3333333333333333,
              "#9c179e"
             ],
             [
              0.4444444444444444,
              "#bd3786"
             ],
             [
              0.5555555555555556,
              "#d8576b"
             ],
             [
              0.6666666666666666,
              "#ed7953"
             ],
             [
              0.7777777777777778,
              "#fb9f3a"
             ],
             [
              0.8888888888888888,
              "#fdca26"
             ],
             [
              1,
              "#f0f921"
             ]
            ],
            "type": "heatmapgl"
           }
          ],
          "histogram": [
           {
            "marker": {
             "colorbar": {
              "outlinewidth": 0,
              "ticks": ""
             }
            },
            "type": "histogram"
           }
          ],
          "histogram2d": [
           {
            "colorbar": {
             "outlinewidth": 0,
             "ticks": ""
            },
            "colorscale": [
             [
              0,
              "#0d0887"
             ],
             [
              0.1111111111111111,
              "#46039f"
             ],
             [
              0.2222222222222222,
              "#7201a8"
             ],
             [
              0.3333333333333333,
              "#9c179e"
             ],
             [
              0.4444444444444444,
              "#bd3786"
             ],
             [
              0.5555555555555556,
              "#d8576b"
             ],
             [
              0.6666666666666666,
              "#ed7953"
             ],
             [
              0.7777777777777778,
              "#fb9f3a"
             ],
             [
              0.8888888888888888,
              "#fdca26"
             ],
             [
              1,
              "#f0f921"
             ]
            ],
            "type": "histogram2d"
           }
          ],
          "histogram2dcontour": [
           {
            "colorbar": {
             "outlinewidth": 0,
             "ticks": ""
            },
            "colorscale": [
             [
              0,
              "#0d0887"
             ],
             [
              0.1111111111111111,
              "#46039f"
             ],
             [
              0.2222222222222222,
              "#7201a8"
             ],
             [
              0.3333333333333333,
              "#9c179e"
             ],
             [
              0.4444444444444444,
              "#bd3786"
             ],
             [
              0.5555555555555556,
              "#d8576b"
             ],
             [
              0.6666666666666666,
              "#ed7953"
             ],
             [
              0.7777777777777778,
              "#fb9f3a"
             ],
             [
              0.8888888888888888,
              "#fdca26"
             ],
             [
              1,
              "#f0f921"
             ]
            ],
            "type": "histogram2dcontour"
           }
          ],
          "mesh3d": [
           {
            "colorbar": {
             "outlinewidth": 0,
             "ticks": ""
            },
            "type": "mesh3d"
           }
          ],
          "parcoords": [
           {
            "line": {
             "colorbar": {
              "outlinewidth": 0,
              "ticks": ""
             }
            },
            "type": "parcoords"
           }
          ],
          "pie": [
           {
            "automargin": true,
            "type": "pie"
           }
          ],
          "scatter": [
           {
            "marker": {
             "colorbar": {
              "outlinewidth": 0,
              "ticks": ""
             }
            },
            "type": "scatter"
           }
          ],
          "scatter3d": [
           {
            "line": {
             "colorbar": {
              "outlinewidth": 0,
              "ticks": ""
             }
            },
            "marker": {
             "colorbar": {
              "outlinewidth": 0,
              "ticks": ""
             }
            },
            "type": "scatter3d"
           }
          ],
          "scattercarpet": [
           {
            "marker": {
             "colorbar": {
              "outlinewidth": 0,
              "ticks": ""
             }
            },
            "type": "scattercarpet"
           }
          ],
          "scattergeo": [
           {
            "marker": {
             "colorbar": {
              "outlinewidth": 0,
              "ticks": ""
             }
            },
            "type": "scattergeo"
           }
          ],
          "scattergl": [
           {
            "marker": {
             "colorbar": {
              "outlinewidth": 0,
              "ticks": ""
             }
            },
            "type": "scattergl"
           }
          ],
          "scattermapbox": [
           {
            "marker": {
             "colorbar": {
              "outlinewidth": 0,
              "ticks": ""
             }
            },
            "type": "scattermapbox"
           }
          ],
          "scatterpolar": [
           {
            "marker": {
             "colorbar": {
              "outlinewidth": 0,
              "ticks": ""
             }
            },
            "type": "scatterpolar"
           }
          ],
          "scatterpolargl": [
           {
            "marker": {
             "colorbar": {
              "outlinewidth": 0,
              "ticks": ""
             }
            },
            "type": "scatterpolargl"
           }
          ],
          "scatterternary": [
           {
            "marker": {
             "colorbar": {
              "outlinewidth": 0,
              "ticks": ""
             }
            },
            "type": "scatterternary"
           }
          ],
          "surface": [
           {
            "colorbar": {
             "outlinewidth": 0,
             "ticks": ""
            },
            "colorscale": [
             [
              0,
              "#0d0887"
             ],
             [
              0.1111111111111111,
              "#46039f"
             ],
             [
              0.2222222222222222,
              "#7201a8"
             ],
             [
              0.3333333333333333,
              "#9c179e"
             ],
             [
              0.4444444444444444,
              "#bd3786"
             ],
             [
              0.5555555555555556,
              "#d8576b"
             ],
             [
              0.6666666666666666,
              "#ed7953"
             ],
             [
              0.7777777777777778,
              "#fb9f3a"
             ],
             [
              0.8888888888888888,
              "#fdca26"
             ],
             [
              1,
              "#f0f921"
             ]
            ],
            "type": "surface"
           }
          ],
          "table": [
           {
            "cells": {
             "fill": {
              "color": "#EBF0F8"
             },
             "line": {
              "color": "white"
             }
            },
            "header": {
             "fill": {
              "color": "#C8D4E3"
             },
             "line": {
              "color": "white"
             }
            },
            "type": "table"
           }
          ]
         },
         "layout": {
          "annotationdefaults": {
           "arrowcolor": "#2a3f5f",
           "arrowhead": 0,
           "arrowwidth": 1
          },
          "autotypenumbers": "strict",
          "coloraxis": {
           "colorbar": {
            "outlinewidth": 0,
            "ticks": ""
           }
          },
          "colorscale": {
           "diverging": [
            [
             0,
             "#8e0152"
            ],
            [
             0.1,
             "#c51b7d"
            ],
            [
             0.2,
             "#de77ae"
            ],
            [
             0.3,
             "#f1b6da"
            ],
            [
             0.4,
             "#fde0ef"
            ],
            [
             0.5,
             "#f7f7f7"
            ],
            [
             0.6,
             "#e6f5d0"
            ],
            [
             0.7,
             "#b8e186"
            ],
            [
             0.8,
             "#7fbc41"
            ],
            [
             0.9,
             "#4d9221"
            ],
            [
             1,
             "#276419"
            ]
           ],
           "sequential": [
            [
             0,
             "#0d0887"
            ],
            [
             0.1111111111111111,
             "#46039f"
            ],
            [
             0.2222222222222222,
             "#7201a8"
            ],
            [
             0.3333333333333333,
             "#9c179e"
            ],
            [
             0.4444444444444444,
             "#bd3786"
            ],
            [
             0.5555555555555556,
             "#d8576b"
            ],
            [
             0.6666666666666666,
             "#ed7953"
            ],
            [
             0.7777777777777778,
             "#fb9f3a"
            ],
            [
             0.8888888888888888,
             "#fdca26"
            ],
            [
             1,
             "#f0f921"
            ]
           ],
           "sequentialminus": [
            [
             0,
             "#0d0887"
            ],
            [
             0.1111111111111111,
             "#46039f"
            ],
            [
             0.2222222222222222,
             "#7201a8"
            ],
            [
             0.3333333333333333,
             "#9c179e"
            ],
            [
             0.4444444444444444,
             "#bd3786"
            ],
            [
             0.5555555555555556,
             "#d8576b"
            ],
            [
             0.6666666666666666,
             "#ed7953"
            ],
            [
             0.7777777777777778,
             "#fb9f3a"
            ],
            [
             0.8888888888888888,
             "#fdca26"
            ],
            [
             1,
             "#f0f921"
            ]
           ]
          },
          "colorway": [
           "#636efa",
           "#EF553B",
           "#00cc96",
           "#ab63fa",
           "#FFA15A",
           "#19d3f3",
           "#FF6692",
           "#B6E880",
           "#FF97FF",
           "#FECB52"
          ],
          "font": {
           "color": "#2a3f5f"
          },
          "geo": {
           "bgcolor": "white",
           "lakecolor": "white",
           "landcolor": "#E5ECF6",
           "showlakes": true,
           "showland": true,
           "subunitcolor": "white"
          },
          "hoverlabel": {
           "align": "left"
          },
          "hovermode": "closest",
          "mapbox": {
           "style": "light"
          },
          "paper_bgcolor": "white",
          "plot_bgcolor": "#E5ECF6",
          "polar": {
           "angularaxis": {
            "gridcolor": "white",
            "linecolor": "white",
            "ticks": ""
           },
           "bgcolor": "#E5ECF6",
           "radialaxis": {
            "gridcolor": "white",
            "linecolor": "white",
            "ticks": ""
           }
          },
          "scene": {
           "xaxis": {
            "backgroundcolor": "#E5ECF6",
            "gridcolor": "white",
            "gridwidth": 2,
            "linecolor": "white",
            "showbackground": true,
            "ticks": "",
            "zerolinecolor": "white"
           },
           "yaxis": {
            "backgroundcolor": "#E5ECF6",
            "gridcolor": "white",
            "gridwidth": 2,
            "linecolor": "white",
            "showbackground": true,
            "ticks": "",
            "zerolinecolor": "white"
           },
           "zaxis": {
            "backgroundcolor": "#E5ECF6",
            "gridcolor": "white",
            "gridwidth": 2,
            "linecolor": "white",
            "showbackground": true,
            "ticks": "",
            "zerolinecolor": "white"
           }
          },
          "shapedefaults": {
           "line": {
            "color": "#2a3f5f"
           }
          },
          "ternary": {
           "aaxis": {
            "gridcolor": "white",
            "linecolor": "white",
            "ticks": ""
           },
           "baxis": {
            "gridcolor": "white",
            "linecolor": "white",
            "ticks": ""
           },
           "bgcolor": "#E5ECF6",
           "caxis": {
            "gridcolor": "white",
            "linecolor": "white",
            "ticks": ""
           }
          },
          "title": {
           "x": 0.05
          },
          "xaxis": {
           "automargin": true,
           "gridcolor": "white",
           "linecolor": "white",
           "ticks": "",
           "title": {
            "standoff": 15
           },
           "zerolinecolor": "white",
           "zerolinewidth": 2
          },
          "yaxis": {
           "automargin": true,
           "gridcolor": "white",
           "linecolor": "white",
           "ticks": "",
           "title": {
            "standoff": 15
           },
           "zerolinecolor": "white",
           "zerolinewidth": 2
          }
         }
        },
        "xaxis": {
         "anchor": "y",
         "domain": [
          0,
          1
         ],
         "title": {
          "text": "score"
         }
        },
        "yaxis": {
         "anchor": "x",
         "domain": [
          0,
          1
         ],
         "title": {
          "text": "mk_price_minus_bmk_price"
         }
        }
       }
      },
      "text/html": [
       "<div>                            <div id=\"54fa2e17-39ef-4e4a-9b32-53ca7df3d927\" class=\"plotly-graph-div\" style=\"height:525px; width:100%;\"></div>            <script type=\"text/javascript\">                require([\"plotly\"], function(Plotly) {                    window.PLOTLYENV=window.PLOTLYENV || {};                                    if (document.getElementById(\"54fa2e17-39ef-4e4a-9b32-53ca7df3d927\")) {                    Plotly.newPlot(                        \"54fa2e17-39ef-4e4a-9b32-53ca7df3d927\",                        [{\"hovertemplate\": \"wineName=Chateau Angelus Premier Grand Cru Classe A, Saint-Emilion Grand Cru<br>score=%{x}<br>mk_price_minus_bmk_price=%{y}<br>marketPrice=%{marker.size}<extra></extra>\", \"legendgroup\": \"Chateau Angelus Premier Grand Cru Classe A, Saint-Emilion Grand Cru\", \"marker\": {\"color\": \"#636efa\", \"size\": [2829.375], \"sizemode\": \"area\", \"sizeref\": 37.934, \"symbol\": \"circle\"}, \"mode\": \"markers\", \"name\": \"Chateau Angelus Premier Grand Cru Classe A, Saint-Emilion Grand Cru\", \"orientation\": \"v\", \"showlegend\": true, \"type\": \"scatter\", \"x\": [95.5625], \"xaxis\": \"x\", \"y\": [180.75], \"yaxis\": \"y\"}, {\"hovertemplate\": \"wineName=Chateau Angelus Premier Grand Cru Classe B, Saint-Emilion Grand Cru<br>score=%{x}<br>mk_price_minus_bmk_price=%{y}<br>marketPrice=%{marker.size}<extra></extra>\", \"legendgroup\": \"Chateau Angelus Premier Grand Cru Classe B, Saint-Emilion Grand Cru\", \"marker\": {\"color\": \"#EF553B\", \"size\": [3158.4545454545455], \"sizemode\": \"area\", \"sizeref\": 37.934, \"symbol\": \"circle\"}, \"mode\": \"markers\", \"name\": \"Chateau Angelus Premier Grand Cru Classe B, Saint-Emilion Grand Cru\", \"orientation\": \"v\", \"showlegend\": true, \"type\": \"scatter\", \"x\": [95.63636363636364], \"xaxis\": \"x\", \"y\": [267.6363636363636], \"yaxis\": \"y\"}, {\"hovertemplate\": \"wineName=Chateau Batailley 5eme Cru Classe, Pauillac<br>score=%{x}<br>mk_price_minus_bmk_price=%{y}<br>marketPrice=%{marker.size}<extra></extra>\", \"legendgroup\": \"Chateau Batailley 5eme Cru Classe, Pauillac\", \"marker\": {\"color\": \"#00cc96\", \"size\": [447.29411764705884], \"sizemode\": \"area\", \"sizeref\": 37.934, \"symbol\": \"circle\"}, \"mode\": \"markers\", \"name\": \"Chateau Batailley 5eme Cru Classe, Pauillac\", \"orientation\": \"v\", \"showlegend\": true, \"type\": \"scatter\", \"x\": [90.70588235294117], \"xaxis\": \"x\", \"y\": [72.6470588235294], \"yaxis\": \"y\"}, {\"hovertemplate\": \"wineName=Chateau Calon Segur 3eme Cru Classe, Saint-Estephe<br>score=%{x}<br>mk_price_minus_bmk_price=%{y}<br>marketPrice=%{marker.size}<extra></extra>\", \"legendgroup\": \"Chateau Calon Segur 3eme Cru Classe, Saint-Estephe\", \"marker\": {\"color\": \"#ab63fa\", \"size\": [887.4736842105264], \"sizemode\": \"area\", \"sizeref\": 37.934, \"symbol\": \"circle\"}, \"mode\": \"markers\", \"name\": \"Chateau Calon Segur 3eme Cru Classe, Saint-Estephe\", \"orientation\": \"v\", \"showlegend\": true, \"type\": \"scatter\", \"x\": [92.3157894736842], \"xaxis\": \"x\", \"y\": [51.21052631578947], \"yaxis\": \"y\"}, {\"hovertemplate\": \"wineName=Chateau Margaux Premier Cru Classe, Margaux<br>score=%{x}<br>mk_price_minus_bmk_price=%{y}<br>marketPrice=%{marker.size}<extra></extra>\", \"legendgroup\": \"Chateau Margaux Premier Cru Classe, Margaux\", \"marker\": {\"color\": \"#FFA15A\", \"size\": [4869.684210526316], \"sizemode\": \"area\", \"sizeref\": 37.934, \"symbol\": \"circle\"}, \"mode\": \"markers\", \"name\": \"Chateau Margaux Premier Cru Classe, Margaux\", \"orientation\": \"v\", \"showlegend\": true, \"type\": \"scatter\", \"x\": [95.65789473684211], \"xaxis\": \"x\", \"y\": [150.1578947368421], \"yaxis\": \"y\"}, {\"hovertemplate\": \"wineName=Domaine Denis Mortet, Chambertin Grand Cru<br>score=%{x}<br>mk_price_minus_bmk_price=%{y}<br>marketPrice=%{marker.size}<extra></extra>\", \"legendgroup\": \"Domaine Denis Mortet, Chambertin Grand Cru\", \"marker\": {\"color\": \"#19d3f3\", \"size\": [9022.0], \"sizemode\": \"area\", \"sizeref\": 37.934, \"symbol\": \"circle\"}, \"mode\": \"markers\", \"name\": \"Domaine Denis Mortet, Chambertin Grand Cru\", \"orientation\": \"v\", \"showlegend\": true, \"type\": \"scatter\", \"x\": [95.33333333333333], \"xaxis\": \"x\", \"y\": [2858.6666666666665], \"yaxis\": \"y\"}, {\"hovertemplate\": \"wineName=Domaine Leflaive, Chevalier-Montrachet Grand Cru<br>score=%{x}<br>mk_price_minus_bmk_price=%{y}<br>marketPrice=%{marker.size}<extra></extra>\", \"legendgroup\": \"Domaine Leflaive, Chevalier-Montrachet Grand Cru\", \"marker\": {\"color\": \"#FF6692\", \"size\": [7429.75], \"sizemode\": \"area\", \"sizeref\": 37.934, \"symbol\": \"circle\"}, \"mode\": \"markers\", \"name\": \"Domaine Leflaive, Chevalier-Montrachet Grand Cru\", \"orientation\": \"v\", \"showlegend\": true, \"type\": \"scatter\", \"x\": [92.5625], \"xaxis\": \"x\", \"y\": [1445.8125], \"yaxis\": \"y\"}, {\"hovertemplate\": \"wineName=Gaja, Barbaresco<br>score=%{x}<br>mk_price_minus_bmk_price=%{y}<br>marketPrice=%{marker.size}<extra></extra>\", \"legendgroup\": \"Gaja, Barbaresco\", \"marker\": {\"color\": \"#B6E880\", \"size\": [1785.0625], \"sizemode\": \"area\", \"sizeref\": 37.934, \"symbol\": \"circle\"}, \"mode\": \"markers\", \"name\": \"Gaja, Barbaresco\", \"orientation\": \"v\", \"showlegend\": true, \"type\": \"scatter\", \"x\": [93.4375], \"xaxis\": \"x\", \"y\": [288.125], \"yaxis\": \"y\"}, {\"hovertemplate\": \"wineName=Jacques-Frederic Mugnier, Chambolle-Musigny Premier Cru, Les Amoureuses<br>score=%{x}<br>mk_price_minus_bmk_price=%{y}<br>marketPrice=%{marker.size}<extra></extra>\", \"legendgroup\": \"Jacques-Frederic Mugnier, Chambolle-Musigny Premier Cru, Les Amoureuses\", \"marker\": {\"color\": \"#FF97FF\", \"size\": [15173.6], \"sizemode\": \"area\", \"sizeref\": 37.934, \"symbol\": \"circle\"}, \"mode\": \"markers\", \"name\": \"Jacques-Frederic Mugnier, Chambolle-Musigny Premier Cru, Les Amoureuses\", \"orientation\": \"v\", \"showlegend\": true, \"type\": \"scatter\", \"x\": [94.0], \"xaxis\": \"x\", \"y\": [2546.0], \"yaxis\": \"y\"}, {\"hovertemplate\": \"wineName=Tignanello, Toscana<br>score=%{x}<br>mk_price_minus_bmk_price=%{y}<br>marketPrice=%{marker.size}<extra></extra>\", \"legendgroup\": \"Tignanello, Toscana\", \"marker\": {\"color\": \"#FECB52\", \"size\": [1183.764705882353], \"sizemode\": \"area\", \"sizeref\": 37.934, \"symbol\": \"circle\"}, \"mode\": \"markers\", \"name\": \"Tignanello, Toscana\", \"orientation\": \"v\", \"showlegend\": true, \"type\": \"scatter\", \"x\": [94.17647058823529], \"xaxis\": \"x\", \"y\": [143.41176470588235], \"yaxis\": \"y\"}, {\"hovertemplate\": \"wineName=Tua Rita, Giusto di Notri, Toscana<br>score=%{x}<br>mk_price_minus_bmk_price=%{y}<br>marketPrice=%{marker.size}<extra></extra>\", \"legendgroup\": \"Tua Rita, Giusto di Notri, Toscana\", \"marker\": {\"color\": \"#636efa\", \"size\": [523.2727272727273], \"sizemode\": \"area\", \"sizeref\": 37.934, \"symbol\": \"circle\"}, \"mode\": \"markers\", \"name\": \"Tua Rita, Giusto di Notri, Toscana\", \"orientation\": \"v\", \"showlegend\": true, \"type\": \"scatter\", \"x\": [95.27272727272727], \"xaxis\": \"x\", \"y\": [132.0909090909091], \"yaxis\": \"y\"}],                        {\"legend\": {\"itemsizing\": \"constant\", \"title\": {\"text\": \"wineName\"}, \"tracegroupgap\": 0}, \"margin\": {\"t\": 60}, \"template\": {\"data\": {\"bar\": [{\"error_x\": {\"color\": \"#2a3f5f\"}, \"error_y\": {\"color\": \"#2a3f5f\"}, \"marker\": {\"line\": {\"color\": \"#E5ECF6\", \"width\": 0.5}}, \"type\": \"bar\"}], \"barpolar\": [{\"marker\": {\"line\": {\"color\": \"#E5ECF6\", \"width\": 0.5}}, \"type\": \"barpolar\"}], \"carpet\": [{\"aaxis\": {\"endlinecolor\": \"#2a3f5f\", \"gridcolor\": \"white\", \"linecolor\": \"white\", \"minorgridcolor\": \"white\", \"startlinecolor\": \"#2a3f5f\"}, \"baxis\": {\"endlinecolor\": \"#2a3f5f\", \"gridcolor\": \"white\", \"linecolor\": \"white\", \"minorgridcolor\": \"white\", \"startlinecolor\": \"#2a3f5f\"}, \"type\": \"carpet\"}], \"choropleth\": [{\"colorbar\": {\"outlinewidth\": 0, \"ticks\": \"\"}, \"type\": \"choropleth\"}], \"contour\": [{\"colorbar\": {\"outlinewidth\": 0, \"ticks\": \"\"}, \"colorscale\": [[0.0, \"#0d0887\"], [0.1111111111111111, \"#46039f\"], [0.2222222222222222, \"#7201a8\"], [0.3333333333333333, \"#9c179e\"], [0.4444444444444444, \"#bd3786\"], [0.5555555555555556, \"#d8576b\"], [0.6666666666666666, \"#ed7953\"], [0.7777777777777778, \"#fb9f3a\"], [0.8888888888888888, \"#fdca26\"], [1.0, \"#f0f921\"]], \"type\": \"contour\"}], \"contourcarpet\": [{\"colorbar\": {\"outlinewidth\": 0, \"ticks\": \"\"}, \"type\": \"contourcarpet\"}], \"heatmap\": [{\"colorbar\": {\"outlinewidth\": 0, \"ticks\": \"\"}, \"colorscale\": [[0.0, \"#0d0887\"], [0.1111111111111111, \"#46039f\"], [0.2222222222222222, \"#7201a8\"], [0.3333333333333333, \"#9c179e\"], [0.4444444444444444, \"#bd3786\"], [0.5555555555555556, \"#d8576b\"], [0.6666666666666666, \"#ed7953\"], [0.7777777777777778, \"#fb9f3a\"], [0.8888888888888888, \"#fdca26\"], [1.0, \"#f0f921\"]], \"type\": \"heatmap\"}], \"heatmapgl\": [{\"colorbar\": {\"outlinewidth\": 0, \"ticks\": \"\"}, \"colorscale\": [[0.0, \"#0d0887\"], [0.1111111111111111, \"#46039f\"], [0.2222222222222222, \"#7201a8\"], [0.3333333333333333, \"#9c179e\"], [0.4444444444444444, \"#bd3786\"], [0.5555555555555556, \"#d8576b\"], [0.6666666666666666, \"#ed7953\"], [0.7777777777777778, \"#fb9f3a\"], [0.8888888888888888, \"#fdca26\"], [1.0, \"#f0f921\"]], \"type\": \"heatmapgl\"}], \"histogram\": [{\"marker\": {\"colorbar\": {\"outlinewidth\": 0, \"ticks\": \"\"}}, \"type\": \"histogram\"}], \"histogram2d\": [{\"colorbar\": {\"outlinewidth\": 0, \"ticks\": \"\"}, \"colorscale\": [[0.0, \"#0d0887\"], [0.1111111111111111, \"#46039f\"], [0.2222222222222222, \"#7201a8\"], [0.3333333333333333, \"#9c179e\"], [0.4444444444444444, \"#bd3786\"], [0.5555555555555556, \"#d8576b\"], [0.6666666666666666, \"#ed7953\"], [0.7777777777777778, \"#fb9f3a\"], [0.8888888888888888, \"#fdca26\"], [1.0, \"#f0f921\"]], \"type\": \"histogram2d\"}], \"histogram2dcontour\": [{\"colorbar\": {\"outlinewidth\": 0, \"ticks\": \"\"}, \"colorscale\": [[0.0, \"#0d0887\"], [0.1111111111111111, \"#46039f\"], [0.2222222222222222, \"#7201a8\"], [0.3333333333333333, \"#9c179e\"], [0.4444444444444444, \"#bd3786\"], [0.5555555555555556, \"#d8576b\"], [0.6666666666666666, \"#ed7953\"], [0.7777777777777778, \"#fb9f3a\"], [0.8888888888888888, \"#fdca26\"], [1.0, \"#f0f921\"]], \"type\": \"histogram2dcontour\"}], \"mesh3d\": [{\"colorbar\": {\"outlinewidth\": 0, \"ticks\": \"\"}, \"type\": \"mesh3d\"}], \"parcoords\": [{\"line\": {\"colorbar\": {\"outlinewidth\": 0, \"ticks\": \"\"}}, \"type\": \"parcoords\"}], \"pie\": [{\"automargin\": true, \"type\": \"pie\"}], \"scatter\": [{\"marker\": {\"colorbar\": {\"outlinewidth\": 0, \"ticks\": \"\"}}, \"type\": \"scatter\"}], \"scatter3d\": [{\"line\": {\"colorbar\": {\"outlinewidth\": 0, \"ticks\": \"\"}}, \"marker\": {\"colorbar\": {\"outlinewidth\": 0, \"ticks\": \"\"}}, \"type\": \"scatter3d\"}], \"scattercarpet\": [{\"marker\": {\"colorbar\": {\"outlinewidth\": 0, \"ticks\": \"\"}}, \"type\": \"scattercarpet\"}], \"scattergeo\": [{\"marker\": {\"colorbar\": {\"outlinewidth\": 0, \"ticks\": \"\"}}, \"type\": \"scattergeo\"}], \"scattergl\": [{\"marker\": {\"colorbar\": {\"outlinewidth\": 0, \"ticks\": \"\"}}, \"type\": \"scattergl\"}], \"scattermapbox\": [{\"marker\": {\"colorbar\": {\"outlinewidth\": 0, \"ticks\": \"\"}}, \"type\": \"scattermapbox\"}], \"scatterpolar\": [{\"marker\": {\"colorbar\": {\"outlinewidth\": 0, \"ticks\": \"\"}}, \"type\": \"scatterpolar\"}], \"scatterpolargl\": [{\"marker\": {\"colorbar\": {\"outlinewidth\": 0, \"ticks\": \"\"}}, \"type\": \"scatterpolargl\"}], \"scatterternary\": [{\"marker\": {\"colorbar\": {\"outlinewidth\": 0, \"ticks\": \"\"}}, \"type\": \"scatterternary\"}], \"surface\": [{\"colorbar\": {\"outlinewidth\": 0, \"ticks\": \"\"}, \"colorscale\": [[0.0, \"#0d0887\"], [0.1111111111111111, \"#46039f\"], [0.2222222222222222, \"#7201a8\"], [0.3333333333333333, \"#9c179e\"], [0.4444444444444444, \"#bd3786\"], [0.5555555555555556, \"#d8576b\"], [0.6666666666666666, \"#ed7953\"], [0.7777777777777778, \"#fb9f3a\"], [0.8888888888888888, \"#fdca26\"], [1.0, \"#f0f921\"]], \"type\": \"surface\"}], \"table\": [{\"cells\": {\"fill\": {\"color\": \"#EBF0F8\"}, \"line\": {\"color\": \"white\"}}, \"header\": {\"fill\": {\"color\": \"#C8D4E3\"}, \"line\": {\"color\": \"white\"}}, \"type\": \"table\"}]}, \"layout\": {\"annotationdefaults\": {\"arrowcolor\": \"#2a3f5f\", \"arrowhead\": 0, \"arrowwidth\": 1}, \"autotypenumbers\": \"strict\", \"coloraxis\": {\"colorbar\": {\"outlinewidth\": 0, \"ticks\": \"\"}}, \"colorscale\": {\"diverging\": [[0, \"#8e0152\"], [0.1, \"#c51b7d\"], [0.2, \"#de77ae\"], [0.3, \"#f1b6da\"], [0.4, \"#fde0ef\"], [0.5, \"#f7f7f7\"], [0.6, \"#e6f5d0\"], [0.7, \"#b8e186\"], [0.8, \"#7fbc41\"], [0.9, \"#4d9221\"], [1, \"#276419\"]], \"sequential\": [[0.0, \"#0d0887\"], [0.1111111111111111, \"#46039f\"], [0.2222222222222222, \"#7201a8\"], [0.3333333333333333, \"#9c179e\"], [0.4444444444444444, \"#bd3786\"], [0.5555555555555556, \"#d8576b\"], [0.6666666666666666, \"#ed7953\"], [0.7777777777777778, \"#fb9f3a\"], [0.8888888888888888, \"#fdca26\"], [1.0, \"#f0f921\"]], \"sequentialminus\": [[0.0, \"#0d0887\"], [0.1111111111111111, \"#46039f\"], [0.2222222222222222, \"#7201a8\"], [0.3333333333333333, \"#9c179e\"], [0.4444444444444444, \"#bd3786\"], [0.5555555555555556, \"#d8576b\"], [0.6666666666666666, \"#ed7953\"], [0.7777777777777778, \"#fb9f3a\"], [0.8888888888888888, \"#fdca26\"], [1.0, \"#f0f921\"]]}, \"colorway\": [\"#636efa\", \"#EF553B\", \"#00cc96\", \"#ab63fa\", \"#FFA15A\", \"#19d3f3\", \"#FF6692\", \"#B6E880\", \"#FF97FF\", \"#FECB52\"], \"font\": {\"color\": \"#2a3f5f\"}, \"geo\": {\"bgcolor\": \"white\", \"lakecolor\": \"white\", \"landcolor\": \"#E5ECF6\", \"showlakes\": true, \"showland\": true, \"subunitcolor\": \"white\"}, \"hoverlabel\": {\"align\": \"left\"}, \"hovermode\": \"closest\", \"mapbox\": {\"style\": \"light\"}, \"paper_bgcolor\": \"white\", \"plot_bgcolor\": \"#E5ECF6\", \"polar\": {\"angularaxis\": {\"gridcolor\": \"white\", \"linecolor\": \"white\", \"ticks\": \"\"}, \"bgcolor\": \"#E5ECF6\", \"radialaxis\": {\"gridcolor\": \"white\", \"linecolor\": \"white\", \"ticks\": \"\"}}, \"scene\": {\"xaxis\": {\"backgroundcolor\": \"#E5ECF6\", \"gridcolor\": \"white\", \"gridwidth\": 2, \"linecolor\": \"white\", \"showbackground\": true, \"ticks\": \"\", \"zerolinecolor\": \"white\"}, \"yaxis\": {\"backgroundcolor\": \"#E5ECF6\", \"gridcolor\": \"white\", \"gridwidth\": 2, \"linecolor\": \"white\", \"showbackground\": true, \"ticks\": \"\", \"zerolinecolor\": \"white\"}, \"zaxis\": {\"backgroundcolor\": \"#E5ECF6\", \"gridcolor\": \"white\", \"gridwidth\": 2, \"linecolor\": \"white\", \"showbackground\": true, \"ticks\": \"\", \"zerolinecolor\": \"white\"}}, \"shapedefaults\": {\"line\": {\"color\": \"#2a3f5f\"}}, \"ternary\": {\"aaxis\": {\"gridcolor\": \"white\", \"linecolor\": \"white\", \"ticks\": \"\"}, \"baxis\": {\"gridcolor\": \"white\", \"linecolor\": \"white\", \"ticks\": \"\"}, \"bgcolor\": \"#E5ECF6\", \"caxis\": {\"gridcolor\": \"white\", \"linecolor\": \"white\", \"ticks\": \"\"}}, \"title\": {\"x\": 0.05}, \"xaxis\": {\"automargin\": true, \"gridcolor\": \"white\", \"linecolor\": \"white\", \"ticks\": \"\", \"title\": {\"standoff\": 15}, \"zerolinecolor\": \"white\", \"zerolinewidth\": 2}, \"yaxis\": {\"automargin\": true, \"gridcolor\": \"white\", \"linecolor\": \"white\", \"ticks\": \"\", \"title\": {\"standoff\": 15}, \"zerolinecolor\": \"white\", \"zerolinewidth\": 2}}}, \"xaxis\": {\"anchor\": \"y\", \"domain\": [0.0, 1.0], \"title\": {\"text\": \"score\"}}, \"yaxis\": {\"anchor\": \"x\", \"domain\": [0.0, 1.0], \"title\": {\"text\": \"mk_price_minus_bmk_price\"}}},                        {\"responsive\": true}                    ).then(function(){\n",
       "                            \n",
       "var gd = document.getElementById('54fa2e17-39ef-4e4a-9b32-53ca7df3d927');\n",
       "var x = new MutationObserver(function (mutations, observer) {{\n",
       "        var display = window.getComputedStyle(gd).display;\n",
       "        if (!display || display === 'none') {{\n",
       "            console.log([gd, 'removed!']);\n",
       "            Plotly.purge(gd);\n",
       "            observer.disconnect();\n",
       "        }}\n",
       "}});\n",
       "\n",
       "// Listen for the removal of the full notebook cells\n",
       "var notebookContainer = gd.closest('#notebook-container');\n",
       "if (notebookContainer) {{\n",
       "    x.observe(notebookContainer, {childList: true});\n",
       "}}\n",
       "\n",
       "// Listen for the clearing of the current output cell\n",
       "var outputEl = gd.closest('.output');\n",
       "if (outputEl) {{\n",
       "    x.observe(outputEl, {childList: true});\n",
       "}}\n",
       "\n",
       "                        })                };                });            </script>        </div>"
      ]
     },
     "metadata": {},
     "output_type": "display_data"
    }
   ],
   "source": [
    "wine_score = px.scatter(name_mean, x=\"score\", y=\"mk_price_minus_bmk_price\", color=\"wineName\", size=\"marketPrice\")\n",
    "wine_score.show()"
   ]
  },
  {
   "cell_type": "markdown",
   "metadata": {},
   "source": [
    "### Maturity of the Wines\n",
    "#### Next, wines have been grouped by maturity to see how maturity affects the mean and standard deviation in the  prices of wine. We can see in the following three tables that mean increase in wines is biggest in Old wines and Early wines. Young wines have a much larger mean benchmark trade price. Young and Early wines have a lot of variation as determined by the variance (standard deviation / mean).\n"
   ]
  },
  {
   "cell_type": "code",
   "execution_count": 11,
   "metadata": {},
   "outputs": [
    {
     "data": {
      "text/html": [
       "<div>\n",
       "<style scoped>\n",
       "    .dataframe tbody tr th:only-of-type {\n",
       "        vertical-align: middle;\n",
       "    }\n",
       "\n",
       "    .dataframe tbody tr th {\n",
       "        vertical-align: top;\n",
       "    }\n",
       "\n",
       "    .dataframe thead th {\n",
       "        text-align: right;\n",
       "    }\n",
       "</style>\n",
       "<table border=\"1\" class=\"dataframe\">\n",
       "  <thead>\n",
       "    <tr style=\"text-align: right;\">\n",
       "      <th></th>\n",
       "      <th>maturity</th>\n",
       "      <th>marketPrice</th>\n",
       "      <th>averageListPrice</th>\n",
       "      <th>averageListQty</th>\n",
       "      <th>benchmarkTradePrice</th>\n",
       "      <th>mk_price_minus_bmk_price</th>\n",
       "      <th>list_price_minus_bmk_price</th>\n",
       "      <th>vintage_x</th>\n",
       "      <th>lwin_11</th>\n",
       "      <th>lwin_7</th>\n",
       "      <th>vintage_y</th>\n",
       "      <th>score</th>\n",
       "      <th>drink_year_min</th>\n",
       "      <th>drink_year_max</th>\n",
       "      <th>lwin</th>\n",
       "    </tr>\n",
       "  </thead>\n",
       "  <tbody>\n",
       "    <tr>\n",
       "      <th>0</th>\n",
       "      <td>Early</td>\n",
       "      <td>3309.292308</td>\n",
       "      <td>3448.353846</td>\n",
       "      <td>35.615385</td>\n",
       "      <td>2743.307692</td>\n",
       "      <td>565.984615</td>\n",
       "      <td>705.046154</td>\n",
       "      <td>2010.630769</td>\n",
       "      <td>1.048336e+10</td>\n",
       "      <td>1.048336e+06</td>\n",
       "      <td>2010.630769</td>\n",
       "      <td>93.969231</td>\n",
       "      <td>2018.184615</td>\n",
       "      <td>2038.092308</td>\n",
       "      <td>1.048336e+06</td>\n",
       "    </tr>\n",
       "    <tr>\n",
       "      <th>1</th>\n",
       "      <td>Late</td>\n",
       "      <td>1900.166667</td>\n",
       "      <td>1974.166667</td>\n",
       "      <td>3.833333</td>\n",
       "      <td>1601.833333</td>\n",
       "      <td>298.333333</td>\n",
       "      <td>372.333333</td>\n",
       "      <td>2002.833333</td>\n",
       "      <td>1.067762e+10</td>\n",
       "      <td>1.067762e+06</td>\n",
       "      <td>2002.833333</td>\n",
       "      <td>92.833333</td>\n",
       "      <td>2009.000000</td>\n",
       "      <td>2022.333333</td>\n",
       "      <td>1.067762e+06</td>\n",
       "    </tr>\n",
       "    <tr>\n",
       "      <th>2</th>\n",
       "      <td>Mature</td>\n",
       "      <td>2366.407407</td>\n",
       "      <td>2603.148148</td>\n",
       "      <td>23.185185</td>\n",
       "      <td>2065.111111</td>\n",
       "      <td>301.296296</td>\n",
       "      <td>538.037037</td>\n",
       "      <td>2007.333333</td>\n",
       "      <td>1.054265e+10</td>\n",
       "      <td>1.054265e+06</td>\n",
       "      <td>2007.333333</td>\n",
       "      <td>93.277778</td>\n",
       "      <td>2014.851852</td>\n",
       "      <td>2027.666667</td>\n",
       "      <td>1.054265e+06</td>\n",
       "    </tr>\n",
       "    <tr>\n",
       "      <th>3</th>\n",
       "      <td>Old</td>\n",
       "      <td>2193.750000</td>\n",
       "      <td>2319.833333</td>\n",
       "      <td>5.333333</td>\n",
       "      <td>1582.750000</td>\n",
       "      <td>611.000000</td>\n",
       "      <td>737.083333</td>\n",
       "      <td>2003.666667</td>\n",
       "      <td>1.048325e+10</td>\n",
       "      <td>1.048325e+06</td>\n",
       "      <td>2003.666667</td>\n",
       "      <td>87.666667</td>\n",
       "      <td>2008.500000</td>\n",
       "      <td>2016.909091</td>\n",
       "      <td>1.048325e+06</td>\n",
       "    </tr>\n",
       "    <tr>\n",
       "      <th>4</th>\n",
       "      <td>Young</td>\n",
       "      <td>4316.040000</td>\n",
       "      <td>4650.480000</td>\n",
       "      <td>63.480000</td>\n",
       "      <td>4103.040000</td>\n",
       "      <td>213.000000</td>\n",
       "      <td>547.440000</td>\n",
       "      <td>2014.880000</td>\n",
       "      <td>1.032004e+10</td>\n",
       "      <td>1.032004e+06</td>\n",
       "      <td>2014.880000</td>\n",
       "      <td>96.120000</td>\n",
       "      <td>2023.400000</td>\n",
       "      <td>2050.560000</td>\n",
       "      <td>1.032004e+06</td>\n",
       "    </tr>\n",
       "  </tbody>\n",
       "</table>\n",
       "</div>"
      ],
      "text/plain": [
       "  maturity  marketPrice  averageListPrice  averageListQty  \\\n",
       "0    Early  3309.292308       3448.353846       35.615385   \n",
       "1     Late  1900.166667       1974.166667        3.833333   \n",
       "2   Mature  2366.407407       2603.148148       23.185185   \n",
       "3      Old  2193.750000       2319.833333        5.333333   \n",
       "4    Young  4316.040000       4650.480000       63.480000   \n",
       "\n",
       "   benchmarkTradePrice  mk_price_minus_bmk_price  list_price_minus_bmk_price  \\\n",
       "0          2743.307692                565.984615                  705.046154   \n",
       "1          1601.833333                298.333333                  372.333333   \n",
       "2          2065.111111                301.296296                  538.037037   \n",
       "3          1582.750000                611.000000                  737.083333   \n",
       "4          4103.040000                213.000000                  547.440000   \n",
       "\n",
       "     vintage_x       lwin_11        lwin_7    vintage_y      score  \\\n",
       "0  2010.630769  1.048336e+10  1.048336e+06  2010.630769  93.969231   \n",
       "1  2002.833333  1.067762e+10  1.067762e+06  2002.833333  92.833333   \n",
       "2  2007.333333  1.054265e+10  1.054265e+06  2007.333333  93.277778   \n",
       "3  2003.666667  1.048325e+10  1.048325e+06  2003.666667  87.666667   \n",
       "4  2014.880000  1.032004e+10  1.032004e+06  2014.880000  96.120000   \n",
       "\n",
       "   drink_year_min  drink_year_max          lwin  \n",
       "0     2018.184615     2038.092308  1.048336e+06  \n",
       "1     2009.000000     2022.333333  1.067762e+06  \n",
       "2     2014.851852     2027.666667  1.054265e+06  \n",
       "3     2008.500000     2016.909091  1.048325e+06  \n",
       "4     2023.400000     2050.560000  1.032004e+06  "
      ]
     },
     "execution_count": 11,
     "metadata": {},
     "output_type": "execute_result"
    }
   ],
   "source": [
    "maturity_mean = merge.groupby([\"maturity\"]).mean().reset_index()\n",
    "maturity_mean"
   ]
  },
  {
   "cell_type": "code",
   "execution_count": 12,
   "metadata": {},
   "outputs": [
    {
     "data": {
      "text/html": [
       "<div>\n",
       "<style scoped>\n",
       "    .dataframe tbody tr th:only-of-type {\n",
       "        vertical-align: middle;\n",
       "    }\n",
       "\n",
       "    .dataframe tbody tr th {\n",
       "        vertical-align: top;\n",
       "    }\n",
       "\n",
       "    .dataframe thead th {\n",
       "        text-align: right;\n",
       "    }\n",
       "</style>\n",
       "<table border=\"1\" class=\"dataframe\">\n",
       "  <thead>\n",
       "    <tr style=\"text-align: right;\">\n",
       "      <th></th>\n",
       "      <th>maturity</th>\n",
       "      <th>marketPrice</th>\n",
       "      <th>averageListPrice</th>\n",
       "      <th>averageListQty</th>\n",
       "      <th>benchmarkTradePrice</th>\n",
       "      <th>mk_price_minus_bmk_price</th>\n",
       "      <th>list_price_minus_bmk_price</th>\n",
       "      <th>vintage_x</th>\n",
       "      <th>lwin_11</th>\n",
       "      <th>lwin_7</th>\n",
       "      <th>vintage_y</th>\n",
       "      <th>score</th>\n",
       "      <th>drink_year_min</th>\n",
       "      <th>drink_year_max</th>\n",
       "      <th>lwin</th>\n",
       "    </tr>\n",
       "  </thead>\n",
       "  <tbody>\n",
       "    <tr>\n",
       "      <th>0</th>\n",
       "      <td>Early</td>\n",
       "      <td>3702.331857</td>\n",
       "      <td>3678.234968</td>\n",
       "      <td>62.744445</td>\n",
       "      <td>2864.162688</td>\n",
       "      <td>1726.895557</td>\n",
       "      <td>1641.231192</td>\n",
       "      <td>4.006125</td>\n",
       "      <td>4.108135e+08</td>\n",
       "      <td>41081.354525</td>\n",
       "      <td>4.006125</td>\n",
       "      <td>2.480985</td>\n",
       "      <td>2.022470</td>\n",
       "      <td>6.816164</td>\n",
       "      <td>41081.354525</td>\n",
       "    </tr>\n",
       "    <tr>\n",
       "      <th>1</th>\n",
       "      <td>Late</td>\n",
       "      <td>819.639047</td>\n",
       "      <td>879.562486</td>\n",
       "      <td>2.786874</td>\n",
       "      <td>810.440971</td>\n",
       "      <td>143.078533</td>\n",
       "      <td>176.971938</td>\n",
       "      <td>1.471960</td>\n",
       "      <td>4.772662e+08</td>\n",
       "      <td>47726.624177</td>\n",
       "      <td>1.471960</td>\n",
       "      <td>1.602082</td>\n",
       "      <td>1.897367</td>\n",
       "      <td>1.751190</td>\n",
       "      <td>47726.624177</td>\n",
       "    </tr>\n",
       "    <tr>\n",
       "      <th>2</th>\n",
       "      <td>Mature</td>\n",
       "      <td>2197.335594</td>\n",
       "      <td>2254.506781</td>\n",
       "      <td>36.880302</td>\n",
       "      <td>1973.505225</td>\n",
       "      <td>703.781971</td>\n",
       "      <td>710.288104</td>\n",
       "      <td>3.626823</td>\n",
       "      <td>4.575562e+08</td>\n",
       "      <td>45755.622537</td>\n",
       "      <td>3.626823</td>\n",
       "      <td>2.122831</td>\n",
       "      <td>1.769478</td>\n",
       "      <td>2.433737</td>\n",
       "      <td>45755.622537</td>\n",
       "    </tr>\n",
       "    <tr>\n",
       "      <th>3</th>\n",
       "      <td>Old</td>\n",
       "      <td>2591.869916</td>\n",
       "      <td>2682.859934</td>\n",
       "      <td>6.386539</td>\n",
       "      <td>1737.805676</td>\n",
       "      <td>910.672579</td>\n",
       "      <td>982.572085</td>\n",
       "      <td>2.534609</td>\n",
       "      <td>4.424075e+08</td>\n",
       "      <td>44240.753385</td>\n",
       "      <td>2.534609</td>\n",
       "      <td>10.611600</td>\n",
       "      <td>3.896385</td>\n",
       "      <td>2.809076</td>\n",
       "      <td>44240.753385</td>\n",
       "    </tr>\n",
       "    <tr>\n",
       "      <th>4</th>\n",
       "      <td>Young</td>\n",
       "      <td>4336.020636</td>\n",
       "      <td>4381.758562</td>\n",
       "      <td>42.870075</td>\n",
       "      <td>4343.736309</td>\n",
       "      <td>1213.132584</td>\n",
       "      <td>953.949644</td>\n",
       "      <td>3.059412</td>\n",
       "      <td>3.639612e+08</td>\n",
       "      <td>36396.119212</td>\n",
       "      <td>3.059412</td>\n",
       "      <td>2.166410</td>\n",
       "      <td>1.779513</td>\n",
       "      <td>7.900844</td>\n",
       "      <td>36396.119212</td>\n",
       "    </tr>\n",
       "  </tbody>\n",
       "</table>\n",
       "</div>"
      ],
      "text/plain": [
       "  maturity  marketPrice  averageListPrice  averageListQty  \\\n",
       "0    Early  3702.331857       3678.234968       62.744445   \n",
       "1     Late   819.639047        879.562486        2.786874   \n",
       "2   Mature  2197.335594       2254.506781       36.880302   \n",
       "3      Old  2591.869916       2682.859934        6.386539   \n",
       "4    Young  4336.020636       4381.758562       42.870075   \n",
       "\n",
       "   benchmarkTradePrice  mk_price_minus_bmk_price  list_price_minus_bmk_price  \\\n",
       "0          2864.162688               1726.895557                 1641.231192   \n",
       "1           810.440971                143.078533                  176.971938   \n",
       "2          1973.505225                703.781971                  710.288104   \n",
       "3          1737.805676                910.672579                  982.572085   \n",
       "4          4343.736309               1213.132584                  953.949644   \n",
       "\n",
       "   vintage_x       lwin_11        lwin_7  vintage_y      score  \\\n",
       "0   4.006125  4.108135e+08  41081.354525   4.006125   2.480985   \n",
       "1   1.471960  4.772662e+08  47726.624177   1.471960   1.602082   \n",
       "2   3.626823  4.575562e+08  45755.622537   3.626823   2.122831   \n",
       "3   2.534609  4.424075e+08  44240.753385   2.534609  10.611600   \n",
       "4   3.059412  3.639612e+08  36396.119212   3.059412   2.166410   \n",
       "\n",
       "   drink_year_min  drink_year_max          lwin  \n",
       "0        2.022470        6.816164  41081.354525  \n",
       "1        1.897367        1.751190  47726.624177  \n",
       "2        1.769478        2.433737  45755.622537  \n",
       "3        3.896385        2.809076  44240.753385  \n",
       "4        1.779513        7.900844  36396.119212  "
      ]
     },
     "execution_count": 12,
     "metadata": {},
     "output_type": "execute_result"
    }
   ],
   "source": [
    "maturity_std = merge.groupby([\"maturity\"]).std().reset_index()\n",
    "maturity_std"
   ]
  },
  {
   "cell_type": "code",
   "execution_count": 13,
   "metadata": {},
   "outputs": [
    {
     "data": {
      "text/plain": [
       "0    3.051135\n",
       "1    0.479593\n",
       "2    2.335847\n",
       "3    1.490462\n",
       "4    5.695458\n",
       "Name: mk_price_minus_bmk_price, dtype: float64"
      ]
     },
     "execution_count": 13,
     "metadata": {},
     "output_type": "execute_result"
    }
   ],
   "source": [
    "maturity_var = maturity_std[\"mk_price_minus_bmk_price\"]/maturity_mean[\"mk_price_minus_bmk_price\"]\n",
    "maturity_var"
   ]
  },
  {
   "cell_type": "markdown",
   "metadata": {},
   "source": [
    "#### Below you can see the maturity of wines against the increase/decrease in price metric. Each wine is colored according to wine variety and sized by market price We can see that most of the extreme values occur in the Early and and Young Wines. Extreme values are dominated by both Pinot Noir and Chardonnay, both Burgundian varietals. Nebbiolo shows best increase in price around Early and Mature, Tuscans are best at Late and Old. Bordeaux wines vary fairly evenly, although Early Bordeaux wines tend more to a decrease in price."
   ]
  },
  {
   "cell_type": "code",
   "execution_count": 138,
   "metadata": {},
   "outputs": [
    {
     "data": {
      "application/vnd.plotly.v1+json": {
       "config": {
        "plotlyServerURL": "https://plot.ly"
       },
       "data": [
        {
         "hovertemplate": "variety=Nebbiolo<br>region=Piedmont<br>maturity=%{x}<br>mk_price_minus_bmk_price=%{y}<br>marketPrice=%{marker.size}<extra></extra>",
         "legendgroup": "Nebbiolo",
         "marker": {
          "color": "#636efa",
          "size": [
           1480,
           1850,
           1800,
           1596,
           2500,
           2260,
           2199,
           1800,
           1350,
           1550,
           1350,
           2872,
           1500,
           1400,
           1299,
           1755
          ],
          "sizemode": "area",
          "sizeref": 42.95,
          "symbol": "circle"
         },
         "mode": "markers",
         "name": "Nebbiolo",
         "orientation": "v",
         "showlegend": true,
         "type": "scatter",
         "x": [
          "Young",
          "Mature",
          "Early",
          "Late",
          "Late",
          "Late",
          "Early",
          "Early",
          "Early",
          "Early",
          "Early",
          "Mature",
          "Young",
          "Early",
          "Early",
          "Mature"
         ],
         "xaxis": "x",
         "y": [
          124,
          670,
          500,
          451,
          280,
          70,
          859,
          360,
          -2,
          250,
          90,
          318,
          92,
          124,
          -1,
          425
         ],
         "yaxis": "y"
        },
        {
         "hovertemplate": "variety=Proprietary Blend<br>region=Tuscany<br>maturity=%{x}<br>mk_price_minus_bmk_price=%{y}<br>marketPrice=%{marker.size}<extra></extra>",
         "legendgroup": "Proprietary Blend",
         "marker": {
          "color": "#EF553B",
          "size": [
           1110,
           460,
           1408,
           574,
           520,
           660,
           540,
           1700,
           1408,
           1024,
           1326,
           958,
           960,
           1100,
           980,
           1200,
           1300,
           1000,
           1678,
           857,
           420,
           1245,
           475,
           870,
           480,
           487,
           540,
           600
          ],
          "sizemode": "area",
          "sizeref": 42.95,
          "symbol": "circle"
         },
         "mode": "markers",
         "name": "Proprietary Blend",
         "orientation": "v",
         "showlegend": true,
         "type": "scatter",
         "x": [
          "Early",
          "Early",
          "Old",
          "Old",
          "Mature",
          "Mature",
          "Mature",
          "Late",
          "Mature",
          "Early",
          "Early",
          "Mature",
          "Mature",
          "Mature",
          "Early",
          "Early",
          "Early",
          "Early",
          "Old",
          "Early",
          "Mature",
          "Old",
          "Early",
          "Young",
          "Young",
          "Early",
          "Early",
          "Mature"
         ],
         "xaxis": "x2",
         "y": [
          -94,
          40,
          258,
          223,
          60,
          270,
          240,
          322,
          170,
          -48,
          156,
          98,
          110,
          90,
          150,
          118,
          100,
          140,
          498,
          57,
          78,
          363,
          87,
          -50,
          100,
          167,
          -4,
          192
         ],
         "yaxis": "y2"
        },
        {
         "hovertemplate": "variety=Proprietary Blend<br>region=Bordeaux<br>maturity=%{x}<br>mk_price_minus_bmk_price=%{y}<br>marketPrice=%{marker.size}<extra></extra>",
         "legendgroup": "Proprietary Blend",
         "marker": {
          "color": "#EF553B",
          "size": [
           3910,
           3700,
           6250,
           4400,
           3720,
           3920,
           3700,
           780,
           1040,
           738,
           10500,
           3900,
           6250,
           1082,
           870,
           900,
           3826,
           800,
           907,
           450,
           550,
           1000,
           900,
           990,
           525,
           3560,
           750,
           6830,
           975,
           530,
           880,
           850,
           4850,
           3758,
           840,
           420,
           3800,
           450,
           400,
           490,
           490,
           820,
           400,
           5415,
           400,
           300,
           950,
           350,
           477,
           5415,
           4820,
           496,
           3600,
           790,
           2973,
           3300,
           408,
           2820,
           468,
           4425,
           2900,
           2690,
           2750,
           3295,
           3400,
           2590,
           3800,
           2300,
           2360,
           2580,
           2960,
           2730,
           3144,
           2761
          ],
          "sizemode": "area",
          "sizeref": 42.95,
          "symbol": "circle"
         },
         "mode": "markers",
         "name": "Proprietary Blend",
         "orientation": "v",
         "showlegend": false,
         "type": "scatter",
         "x": [
          "Mature",
          "Young",
          "Early",
          "Early",
          "Young",
          "Early",
          "Early",
          "Early",
          null,
          "Young",
          "Young",
          "Mature",
          "Young",
          "Early",
          "Old",
          "Mature",
          "Early",
          "Old",
          "Old",
          "Old",
          "Early",
          "Early",
          "Young",
          "Early",
          "Late",
          "Early",
          "Early",
          "Early",
          "Early",
          "Early",
          "Mature",
          "Early",
          "Mature",
          "Mature",
          "Early",
          "Early",
          "Young",
          "Early",
          "Mature",
          "Early",
          "Early",
          "Early",
          "Early",
          "Young",
          "Early",
          "Mature",
          null,
          "Young",
          "Young",
          "Young",
          null,
          "Young",
          "Mature",
          "Early",
          "Old",
          "Mature",
          null,
          "Late",
          "Old",
          "Early",
          "Early",
          "Early",
          "Mature",
          "Early",
          "Young",
          "Mature",
          "Young",
          "Mature",
          "Early",
          "Young",
          "Young",
          "Early",
          "Young",
          null
         ],
         "xaxis": "x3",
         "y": [
          110,
          0,
          134,
          0,
          240,
          40,
          180,
          98,
          90,
          -22,
          656,
          216,
          328,
          34,
          165,
          100,
          -290,
          55,
          102,
          230,
          130,
          12,
          37,
          0,
          225,
          35,
          -40,
          -256,
          -51,
          80,
          155,
          -10,
          50,
          68,
          59,
          -112,
          240,
          110,
          68,
          -14,
          -4,
          85,
          100,
          177,
          45,
          -4,
          108,
          26,
          117,
          265,
          660,
          184,
          499,
          -4,
          363,
          145,
          51,
          442,
          3,
          -125,
          250,
          190,
          245,
          295,
          50,
          590,
          195,
          300,
          100,
          80,
          116,
          272,
          24,
          359
         ],
         "yaxis": "y3"
        },
        {
         "hovertemplate": "variety=Chardonnay<br>region=Burgundy<br>maturity=%{x}<br>mk_price_minus_bmk_price=%{y}<br>marketPrice=%{marker.size}<extra></extra>",
         "legendgroup": "Chardonnay",
         "marker": {
          "color": "#00cc96",
          "size": [
           8000,
           9950,
           7000,
           7800,
           8400,
           7906,
           6800,
           6396,
           6900,
           6552,
           6360,
           5600,
           8400,
           9000,
           6000,
           7812
          ],
          "sizemode": "area",
          "sizeref": 42.95,
          "symbol": "circle"
         },
         "mode": "markers",
         "name": "Chardonnay",
         "orientation": "v",
         "showlegend": true,
         "type": "scatter",
         "x": [
          null,
          "Early",
          "Early",
          "Young",
          "Old",
          "Early",
          "Early",
          "Early",
          "Early",
          "Old",
          "Young",
          "Early",
          "Early",
          "Mature",
          "Early",
          "Mature"
         ],
         "xaxis": "x4",
         "y": [
          1026,
          1950,
          1640,
          470,
          2440,
          782,
          5070,
          -1504,
          495,
          2632,
          1860,
          1200,
          2700,
          3600,
          -500,
          -728
         ],
         "yaxis": "y4"
        },
        {
         "hovertemplate": "variety=Pinot Noir<br>region=Burgundy<br>maturity=%{x}<br>mk_price_minus_bmk_price=%{y}<br>marketPrice=%{marker.size}<extra></extra>",
         "legendgroup": "Pinot Noir",
         "marker": {
          "color": "#ab63fa",
          "size": [
           14766,
           14520,
           17180,
           8400,
           12402,
           17000,
           10650,
           8016
          ],
          "sizemode": "area",
          "sizeref": 42.95,
          "symbol": "circle"
         },
         "mode": "markers",
         "name": "Pinot Noir",
         "orientation": "v",
         "showlegend": true,
         "type": "scatter",
         "x": [
          "Young",
          "Early",
          "Early",
          "Early",
          "Early",
          "Young",
          "Early",
          null
         ],
         "xaxis": "x4",
         "y": [
          -3984,
          2520,
          10642,
          1200,
          -448,
          4000,
          6650,
          726
         ],
         "yaxis": "y4"
        }
       ],
       "layout": {
        "annotations": [
         {
          "font": {},
          "showarrow": false,
          "text": "region=Piedmont",
          "x": 0.1175,
          "xanchor": "center",
          "xref": "paper",
          "y": 1,
          "yanchor": "bottom",
          "yref": "paper"
         },
         {
          "font": {},
          "showarrow": false,
          "text": "region=Tuscany",
          "x": 0.3725,
          "xanchor": "center",
          "xref": "paper",
          "y": 1,
          "yanchor": "bottom",
          "yref": "paper"
         },
         {
          "font": {},
          "showarrow": false,
          "text": "region=Bordeaux",
          "x": 0.6275,
          "xanchor": "center",
          "xref": "paper",
          "y": 1,
          "yanchor": "bottom",
          "yref": "paper"
         },
         {
          "font": {},
          "showarrow": false,
          "text": "region=Burgundy",
          "x": 0.8824999999999998,
          "xanchor": "center",
          "xref": "paper",
          "y": 1,
          "yanchor": "bottom",
          "yref": "paper"
         }
        ],
        "legend": {
         "itemsizing": "constant",
         "title": {
          "text": "variety"
         },
         "tracegroupgap": 0
        },
        "margin": {
         "t": 60
        },
        "template": {
         "data": {
          "bar": [
           {
            "error_x": {
             "color": "#2a3f5f"
            },
            "error_y": {
             "color": "#2a3f5f"
            },
            "marker": {
             "line": {
              "color": "#E5ECF6",
              "width": 0.5
             }
            },
            "type": "bar"
           }
          ],
          "barpolar": [
           {
            "marker": {
             "line": {
              "color": "#E5ECF6",
              "width": 0.5
             }
            },
            "type": "barpolar"
           }
          ],
          "carpet": [
           {
            "aaxis": {
             "endlinecolor": "#2a3f5f",
             "gridcolor": "white",
             "linecolor": "white",
             "minorgridcolor": "white",
             "startlinecolor": "#2a3f5f"
            },
            "baxis": {
             "endlinecolor": "#2a3f5f",
             "gridcolor": "white",
             "linecolor": "white",
             "minorgridcolor": "white",
             "startlinecolor": "#2a3f5f"
            },
            "type": "carpet"
           }
          ],
          "choropleth": [
           {
            "colorbar": {
             "outlinewidth": 0,
             "ticks": ""
            },
            "type": "choropleth"
           }
          ],
          "contour": [
           {
            "colorbar": {
             "outlinewidth": 0,
             "ticks": ""
            },
            "colorscale": [
             [
              0,
              "#0d0887"
             ],
             [
              0.1111111111111111,
              "#46039f"
             ],
             [
              0.2222222222222222,
              "#7201a8"
             ],
             [
              0.3333333333333333,
              "#9c179e"
             ],
             [
              0.4444444444444444,
              "#bd3786"
             ],
             [
              0.5555555555555556,
              "#d8576b"
             ],
             [
              0.6666666666666666,
              "#ed7953"
             ],
             [
              0.7777777777777778,
              "#fb9f3a"
             ],
             [
              0.8888888888888888,
              "#fdca26"
             ],
             [
              1,
              "#f0f921"
             ]
            ],
            "type": "contour"
           }
          ],
          "contourcarpet": [
           {
            "colorbar": {
             "outlinewidth": 0,
             "ticks": ""
            },
            "type": "contourcarpet"
           }
          ],
          "heatmap": [
           {
            "colorbar": {
             "outlinewidth": 0,
             "ticks": ""
            },
            "colorscale": [
             [
              0,
              "#0d0887"
             ],
             [
              0.1111111111111111,
              "#46039f"
             ],
             [
              0.2222222222222222,
              "#7201a8"
             ],
             [
              0.3333333333333333,
              "#9c179e"
             ],
             [
              0.4444444444444444,
              "#bd3786"
             ],
             [
              0.5555555555555556,
              "#d8576b"
             ],
             [
              0.6666666666666666,
              "#ed7953"
             ],
             [
              0.7777777777777778,
              "#fb9f3a"
             ],
             [
              0.8888888888888888,
              "#fdca26"
             ],
             [
              1,
              "#f0f921"
             ]
            ],
            "type": "heatmap"
           }
          ],
          "heatmapgl": [
           {
            "colorbar": {
             "outlinewidth": 0,
             "ticks": ""
            },
            "colorscale": [
             [
              0,
              "#0d0887"
             ],
             [
              0.1111111111111111,
              "#46039f"
             ],
             [
              0.2222222222222222,
              "#7201a8"
             ],
             [
              0.3333333333333333,
              "#9c179e"
             ],
             [
              0.4444444444444444,
              "#bd3786"
             ],
             [
              0.5555555555555556,
              "#d8576b"
             ],
             [
              0.6666666666666666,
              "#ed7953"
             ],
             [
              0.7777777777777778,
              "#fb9f3a"
             ],
             [
              0.8888888888888888,
              "#fdca26"
             ],
             [
              1,
              "#f0f921"
             ]
            ],
            "type": "heatmapgl"
           }
          ],
          "histogram": [
           {
            "marker": {
             "colorbar": {
              "outlinewidth": 0,
              "ticks": ""
             }
            },
            "type": "histogram"
           }
          ],
          "histogram2d": [
           {
            "colorbar": {
             "outlinewidth": 0,
             "ticks": ""
            },
            "colorscale": [
             [
              0,
              "#0d0887"
             ],
             [
              0.1111111111111111,
              "#46039f"
             ],
             [
              0.2222222222222222,
              "#7201a8"
             ],
             [
              0.3333333333333333,
              "#9c179e"
             ],
             [
              0.4444444444444444,
              "#bd3786"
             ],
             [
              0.5555555555555556,
              "#d8576b"
             ],
             [
              0.6666666666666666,
              "#ed7953"
             ],
             [
              0.7777777777777778,
              "#fb9f3a"
             ],
             [
              0.8888888888888888,
              "#fdca26"
             ],
             [
              1,
              "#f0f921"
             ]
            ],
            "type": "histogram2d"
           }
          ],
          "histogram2dcontour": [
           {
            "colorbar": {
             "outlinewidth": 0,
             "ticks": ""
            },
            "colorscale": [
             [
              0,
              "#0d0887"
             ],
             [
              0.1111111111111111,
              "#46039f"
             ],
             [
              0.2222222222222222,
              "#7201a8"
             ],
             [
              0.3333333333333333,
              "#9c179e"
             ],
             [
              0.4444444444444444,
              "#bd3786"
             ],
             [
              0.5555555555555556,
              "#d8576b"
             ],
             [
              0.6666666666666666,
              "#ed7953"
             ],
             [
              0.7777777777777778,
              "#fb9f3a"
             ],
             [
              0.8888888888888888,
              "#fdca26"
             ],
             [
              1,
              "#f0f921"
             ]
            ],
            "type": "histogram2dcontour"
           }
          ],
          "mesh3d": [
           {
            "colorbar": {
             "outlinewidth": 0,
             "ticks": ""
            },
            "type": "mesh3d"
           }
          ],
          "parcoords": [
           {
            "line": {
             "colorbar": {
              "outlinewidth": 0,
              "ticks": ""
             }
            },
            "type": "parcoords"
           }
          ],
          "pie": [
           {
            "automargin": true,
            "type": "pie"
           }
          ],
          "scatter": [
           {
            "marker": {
             "colorbar": {
              "outlinewidth": 0,
              "ticks": ""
             }
            },
            "type": "scatter"
           }
          ],
          "scatter3d": [
           {
            "line": {
             "colorbar": {
              "outlinewidth": 0,
              "ticks": ""
             }
            },
            "marker": {
             "colorbar": {
              "outlinewidth": 0,
              "ticks": ""
             }
            },
            "type": "scatter3d"
           }
          ],
          "scattercarpet": [
           {
            "marker": {
             "colorbar": {
              "outlinewidth": 0,
              "ticks": ""
             }
            },
            "type": "scattercarpet"
           }
          ],
          "scattergeo": [
           {
            "marker": {
             "colorbar": {
              "outlinewidth": 0,
              "ticks": ""
             }
            },
            "type": "scattergeo"
           }
          ],
          "scattergl": [
           {
            "marker": {
             "colorbar": {
              "outlinewidth": 0,
              "ticks": ""
             }
            },
            "type": "scattergl"
           }
          ],
          "scattermapbox": [
           {
            "marker": {
             "colorbar": {
              "outlinewidth": 0,
              "ticks": ""
             }
            },
            "type": "scattermapbox"
           }
          ],
          "scatterpolar": [
           {
            "marker": {
             "colorbar": {
              "outlinewidth": 0,
              "ticks": ""
             }
            },
            "type": "scatterpolar"
           }
          ],
          "scatterpolargl": [
           {
            "marker": {
             "colorbar": {
              "outlinewidth": 0,
              "ticks": ""
             }
            },
            "type": "scatterpolargl"
           }
          ],
          "scatterternary": [
           {
            "marker": {
             "colorbar": {
              "outlinewidth": 0,
              "ticks": ""
             }
            },
            "type": "scatterternary"
           }
          ],
          "surface": [
           {
            "colorbar": {
             "outlinewidth": 0,
             "ticks": ""
            },
            "colorscale": [
             [
              0,
              "#0d0887"
             ],
             [
              0.1111111111111111,
              "#46039f"
             ],
             [
              0.2222222222222222,
              "#7201a8"
             ],
             [
              0.3333333333333333,
              "#9c179e"
             ],
             [
              0.4444444444444444,
              "#bd3786"
             ],
             [
              0.5555555555555556,
              "#d8576b"
             ],
             [
              0.6666666666666666,
              "#ed7953"
             ],
             [
              0.7777777777777778,
              "#fb9f3a"
             ],
             [
              0.8888888888888888,
              "#fdca26"
             ],
             [
              1,
              "#f0f921"
             ]
            ],
            "type": "surface"
           }
          ],
          "table": [
           {
            "cells": {
             "fill": {
              "color": "#EBF0F8"
             },
             "line": {
              "color": "white"
             }
            },
            "header": {
             "fill": {
              "color": "#C8D4E3"
             },
             "line": {
              "color": "white"
             }
            },
            "type": "table"
           }
          ]
         },
         "layout": {
          "annotationdefaults": {
           "arrowcolor": "#2a3f5f",
           "arrowhead": 0,
           "arrowwidth": 1
          },
          "autotypenumbers": "strict",
          "coloraxis": {
           "colorbar": {
            "outlinewidth": 0,
            "ticks": ""
           }
          },
          "colorscale": {
           "diverging": [
            [
             0,
             "#8e0152"
            ],
            [
             0.1,
             "#c51b7d"
            ],
            [
             0.2,
             "#de77ae"
            ],
            [
             0.3,
             "#f1b6da"
            ],
            [
             0.4,
             "#fde0ef"
            ],
            [
             0.5,
             "#f7f7f7"
            ],
            [
             0.6,
             "#e6f5d0"
            ],
            [
             0.7,
             "#b8e186"
            ],
            [
             0.8,
             "#7fbc41"
            ],
            [
             0.9,
             "#4d9221"
            ],
            [
             1,
             "#276419"
            ]
           ],
           "sequential": [
            [
             0,
             "#0d0887"
            ],
            [
             0.1111111111111111,
             "#46039f"
            ],
            [
             0.2222222222222222,
             "#7201a8"
            ],
            [
             0.3333333333333333,
             "#9c179e"
            ],
            [
             0.4444444444444444,
             "#bd3786"
            ],
            [
             0.5555555555555556,
             "#d8576b"
            ],
            [
             0.6666666666666666,
             "#ed7953"
            ],
            [
             0.7777777777777778,
             "#fb9f3a"
            ],
            [
             0.8888888888888888,
             "#fdca26"
            ],
            [
             1,
             "#f0f921"
            ]
           ],
           "sequentialminus": [
            [
             0,
             "#0d0887"
            ],
            [
             0.1111111111111111,
             "#46039f"
            ],
            [
             0.2222222222222222,
             "#7201a8"
            ],
            [
             0.3333333333333333,
             "#9c179e"
            ],
            [
             0.4444444444444444,
             "#bd3786"
            ],
            [
             0.5555555555555556,
             "#d8576b"
            ],
            [
             0.6666666666666666,
             "#ed7953"
            ],
            [
             0.7777777777777778,
             "#fb9f3a"
            ],
            [
             0.8888888888888888,
             "#fdca26"
            ],
            [
             1,
             "#f0f921"
            ]
           ]
          },
          "colorway": [
           "#636efa",
           "#EF553B",
           "#00cc96",
           "#ab63fa",
           "#FFA15A",
           "#19d3f3",
           "#FF6692",
           "#B6E880",
           "#FF97FF",
           "#FECB52"
          ],
          "font": {
           "color": "#2a3f5f"
          },
          "geo": {
           "bgcolor": "white",
           "lakecolor": "white",
           "landcolor": "#E5ECF6",
           "showlakes": true,
           "showland": true,
           "subunitcolor": "white"
          },
          "hoverlabel": {
           "align": "left"
          },
          "hovermode": "closest",
          "mapbox": {
           "style": "light"
          },
          "paper_bgcolor": "white",
          "plot_bgcolor": "#E5ECF6",
          "polar": {
           "angularaxis": {
            "gridcolor": "white",
            "linecolor": "white",
            "ticks": ""
           },
           "bgcolor": "#E5ECF6",
           "radialaxis": {
            "gridcolor": "white",
            "linecolor": "white",
            "ticks": ""
           }
          },
          "scene": {
           "xaxis": {
            "backgroundcolor": "#E5ECF6",
            "gridcolor": "white",
            "gridwidth": 2,
            "linecolor": "white",
            "showbackground": true,
            "ticks": "",
            "zerolinecolor": "white"
           },
           "yaxis": {
            "backgroundcolor": "#E5ECF6",
            "gridcolor": "white",
            "gridwidth": 2,
            "linecolor": "white",
            "showbackground": true,
            "ticks": "",
            "zerolinecolor": "white"
           },
           "zaxis": {
            "backgroundcolor": "#E5ECF6",
            "gridcolor": "white",
            "gridwidth": 2,
            "linecolor": "white",
            "showbackground": true,
            "ticks": "",
            "zerolinecolor": "white"
           }
          },
          "shapedefaults": {
           "line": {
            "color": "#2a3f5f"
           }
          },
          "ternary": {
           "aaxis": {
            "gridcolor": "white",
            "linecolor": "white",
            "ticks": ""
           },
           "baxis": {
            "gridcolor": "white",
            "linecolor": "white",
            "ticks": ""
           },
           "bgcolor": "#E5ECF6",
           "caxis": {
            "gridcolor": "white",
            "linecolor": "white",
            "ticks": ""
           }
          },
          "title": {
           "x": 0.05
          },
          "xaxis": {
           "automargin": true,
           "gridcolor": "white",
           "linecolor": "white",
           "ticks": "",
           "title": {
            "standoff": 15
           },
           "zerolinecolor": "white",
           "zerolinewidth": 2
          },
          "yaxis": {
           "automargin": true,
           "gridcolor": "white",
           "linecolor": "white",
           "ticks": "",
           "title": {
            "standoff": 15
           },
           "zerolinecolor": "white",
           "zerolinewidth": 2
          }
         }
        },
        "xaxis": {
         "anchor": "y",
         "domain": [
          0,
          0.235
         ],
         "title": {
          "text": "maturity"
         }
        },
        "xaxis2": {
         "anchor": "y2",
         "domain": [
          0.255,
          0.49
         ],
         "matches": "x",
         "title": {
          "text": "maturity"
         }
        },
        "xaxis3": {
         "anchor": "y3",
         "domain": [
          0.51,
          0.745
         ],
         "matches": "x",
         "title": {
          "text": "maturity"
         }
        },
        "xaxis4": {
         "anchor": "y4",
         "domain": [
          0.7649999999999999,
          0.9999999999999999
         ],
         "matches": "x",
         "title": {
          "text": "maturity"
         }
        },
        "yaxis": {
         "anchor": "x",
         "domain": [
          0,
          1
         ],
         "title": {
          "text": "mk_price_minus_bmk_price"
         }
        },
        "yaxis2": {
         "anchor": "x2",
         "domain": [
          0,
          1
         ],
         "matches": "y",
         "showticklabels": false
        },
        "yaxis3": {
         "anchor": "x3",
         "domain": [
          0,
          1
         ],
         "matches": "y",
         "showticklabels": false
        },
        "yaxis4": {
         "anchor": "x4",
         "domain": [
          0,
          1
         ],
         "matches": "y",
         "showticklabels": false
        }
       }
      },
      "text/html": [
       "<div>                            <div id=\"d6acf945-383e-455a-93d2-a3a70ca3bdf6\" class=\"plotly-graph-div\" style=\"height:525px; width:100%;\"></div>            <script type=\"text/javascript\">                require([\"plotly\"], function(Plotly) {                    window.PLOTLYENV=window.PLOTLYENV || {};                                    if (document.getElementById(\"d6acf945-383e-455a-93d2-a3a70ca3bdf6\")) {                    Plotly.newPlot(                        \"d6acf945-383e-455a-93d2-a3a70ca3bdf6\",                        [{\"hovertemplate\": \"variety=Nebbiolo<br>region=Piedmont<br>maturity=%{x}<br>mk_price_minus_bmk_price=%{y}<br>marketPrice=%{marker.size}<extra></extra>\", \"legendgroup\": \"Nebbiolo\", \"marker\": {\"color\": \"#636efa\", \"size\": [1480, 1850, 1800, 1596, 2500, 2260, 2199, 1800, 1350, 1550, 1350, 2872, 1500, 1400, 1299, 1755], \"sizemode\": \"area\", \"sizeref\": 42.95, \"symbol\": \"circle\"}, \"mode\": \"markers\", \"name\": \"Nebbiolo\", \"orientation\": \"v\", \"showlegend\": true, \"type\": \"scatter\", \"x\": [\"Young\", \"Mature\", \"Early\", \"Late\", \"Late\", \"Late\", \"Early\", \"Early\", \"Early\", \"Early\", \"Early\", \"Mature\", \"Young\", \"Early\", \"Early\", \"Mature\"], \"xaxis\": \"x\", \"y\": [124, 670, 500, 451, 280, 70, 859, 360, -2, 250, 90, 318, 92, 124, -1, 425], \"yaxis\": \"y\"}, {\"hovertemplate\": \"variety=Proprietary Blend<br>region=Tuscany<br>maturity=%{x}<br>mk_price_minus_bmk_price=%{y}<br>marketPrice=%{marker.size}<extra></extra>\", \"legendgroup\": \"Proprietary Blend\", \"marker\": {\"color\": \"#EF553B\", \"size\": [1110, 460, 1408, 574, 520, 660, 540, 1700, 1408, 1024, 1326, 958, 960, 1100, 980, 1200, 1300, 1000, 1678, 857, 420, 1245, 475, 870, 480, 487, 540, 600], \"sizemode\": \"area\", \"sizeref\": 42.95, \"symbol\": \"circle\"}, \"mode\": \"markers\", \"name\": \"Proprietary Blend\", \"orientation\": \"v\", \"showlegend\": true, \"type\": \"scatter\", \"x\": [\"Early\", \"Early\", \"Old\", \"Old\", \"Mature\", \"Mature\", \"Mature\", \"Late\", \"Mature\", \"Early\", \"Early\", \"Mature\", \"Mature\", \"Mature\", \"Early\", \"Early\", \"Early\", \"Early\", \"Old\", \"Early\", \"Mature\", \"Old\", \"Early\", \"Young\", \"Young\", \"Early\", \"Early\", \"Mature\"], \"xaxis\": \"x2\", \"y\": [-94, 40, 258, 223, 60, 270, 240, 322, 170, -48, 156, 98, 110, 90, 150, 118, 100, 140, 498, 57, 78, 363, 87, -50, 100, 167, -4, 192], \"yaxis\": \"y2\"}, {\"hovertemplate\": \"variety=Proprietary Blend<br>region=Bordeaux<br>maturity=%{x}<br>mk_price_minus_bmk_price=%{y}<br>marketPrice=%{marker.size}<extra></extra>\", \"legendgroup\": \"Proprietary Blend\", \"marker\": {\"color\": \"#EF553B\", \"size\": [3910, 3700, 6250, 4400, 3720, 3920, 3700, 780, 1040, 738, 10500, 3900, 6250, 1082, 870, 900, 3826, 800, 907, 450, 550, 1000, 900, 990, 525, 3560, 750, 6830, 975, 530, 880, 850, 4850, 3758, 840, 420, 3800, 450, 400, 490, 490, 820, 400, 5415, 400, 300, 950, 350, 477, 5415, 4820, 496, 3600, 790, 2973, 3300, 408, 2820, 468, 4425, 2900, 2690, 2750, 3295, 3400, 2590, 3800, 2300, 2360, 2580, 2960, 2730, 3144, 2761], \"sizemode\": \"area\", \"sizeref\": 42.95, \"symbol\": \"circle\"}, \"mode\": \"markers\", \"name\": \"Proprietary Blend\", \"orientation\": \"v\", \"showlegend\": false, \"type\": \"scatter\", \"x\": [\"Mature\", \"Young\", \"Early\", \"Early\", \"Young\", \"Early\", \"Early\", \"Early\", null, \"Young\", \"Young\", \"Mature\", \"Young\", \"Early\", \"Old\", \"Mature\", \"Early\", \"Old\", \"Old\", \"Old\", \"Early\", \"Early\", \"Young\", \"Early\", \"Late\", \"Early\", \"Early\", \"Early\", \"Early\", \"Early\", \"Mature\", \"Early\", \"Mature\", \"Mature\", \"Early\", \"Early\", \"Young\", \"Early\", \"Mature\", \"Early\", \"Early\", \"Early\", \"Early\", \"Young\", \"Early\", \"Mature\", null, \"Young\", \"Young\", \"Young\", null, \"Young\", \"Mature\", \"Early\", \"Old\", \"Mature\", null, \"Late\", \"Old\", \"Early\", \"Early\", \"Early\", \"Mature\", \"Early\", \"Young\", \"Mature\", \"Young\", \"Mature\", \"Early\", \"Young\", \"Young\", \"Early\", \"Young\", null], \"xaxis\": \"x3\", \"y\": [110, 0, 134, 0, 240, 40, 180, 98, 90, -22, 656, 216, 328, 34, 165, 100, -290, 55, 102, 230, 130, 12, 37, 0, 225, 35, -40, -256, -51, 80, 155, -10, 50, 68, 59, -112, 240, 110, 68, -14, -4, 85, 100, 177, 45, -4, 108, 26, 117, 265, 660, 184, 499, -4, 363, 145, 51, 442, 3, -125, 250, 190, 245, 295, 50, 590, 195, 300, 100, 80, 116, 272, 24, 359], \"yaxis\": \"y3\"}, {\"hovertemplate\": \"variety=Chardonnay<br>region=Burgundy<br>maturity=%{x}<br>mk_price_minus_bmk_price=%{y}<br>marketPrice=%{marker.size}<extra></extra>\", \"legendgroup\": \"Chardonnay\", \"marker\": {\"color\": \"#00cc96\", \"size\": [8000, 9950, 7000, 7800, 8400, 7906, 6800, 6396, 6900, 6552, 6360, 5600, 8400, 9000, 6000, 7812], \"sizemode\": \"area\", \"sizeref\": 42.95, \"symbol\": \"circle\"}, \"mode\": \"markers\", \"name\": \"Chardonnay\", \"orientation\": \"v\", \"showlegend\": true, \"type\": \"scatter\", \"x\": [null, \"Early\", \"Early\", \"Young\", \"Old\", \"Early\", \"Early\", \"Early\", \"Early\", \"Old\", \"Young\", \"Early\", \"Early\", \"Mature\", \"Early\", \"Mature\"], \"xaxis\": \"x4\", \"y\": [1026, 1950, 1640, 470, 2440, 782, 5070, -1504, 495, 2632, 1860, 1200, 2700, 3600, -500, -728], \"yaxis\": \"y4\"}, {\"hovertemplate\": \"variety=Pinot Noir<br>region=Burgundy<br>maturity=%{x}<br>mk_price_minus_bmk_price=%{y}<br>marketPrice=%{marker.size}<extra></extra>\", \"legendgroup\": \"Pinot Noir\", \"marker\": {\"color\": \"#ab63fa\", \"size\": [14766, 14520, 17180, 8400, 12402, 17000, 10650, 8016], \"sizemode\": \"area\", \"sizeref\": 42.95, \"symbol\": \"circle\"}, \"mode\": \"markers\", \"name\": \"Pinot Noir\", \"orientation\": \"v\", \"showlegend\": true, \"type\": \"scatter\", \"x\": [\"Young\", \"Early\", \"Early\", \"Early\", \"Early\", \"Young\", \"Early\", null], \"xaxis\": \"x4\", \"y\": [-3984, 2520, 10642, 1200, -448, 4000, 6650, 726], \"yaxis\": \"y4\"}],                        {\"annotations\": [{\"font\": {}, \"showarrow\": false, \"text\": \"region=Piedmont\", \"x\": 0.1175, \"xanchor\": \"center\", \"xref\": \"paper\", \"y\": 1.0, \"yanchor\": \"bottom\", \"yref\": \"paper\"}, {\"font\": {}, \"showarrow\": false, \"text\": \"region=Tuscany\", \"x\": 0.3725, \"xanchor\": \"center\", \"xref\": \"paper\", \"y\": 1.0, \"yanchor\": \"bottom\", \"yref\": \"paper\"}, {\"font\": {}, \"showarrow\": false, \"text\": \"region=Bordeaux\", \"x\": 0.6275, \"xanchor\": \"center\", \"xref\": \"paper\", \"y\": 1.0, \"yanchor\": \"bottom\", \"yref\": \"paper\"}, {\"font\": {}, \"showarrow\": false, \"text\": \"region=Burgundy\", \"x\": 0.8824999999999998, \"xanchor\": \"center\", \"xref\": \"paper\", \"y\": 1.0, \"yanchor\": \"bottom\", \"yref\": \"paper\"}], \"legend\": {\"itemsizing\": \"constant\", \"title\": {\"text\": \"variety\"}, \"tracegroupgap\": 0}, \"margin\": {\"t\": 60}, \"template\": {\"data\": {\"bar\": [{\"error_x\": {\"color\": \"#2a3f5f\"}, \"error_y\": {\"color\": \"#2a3f5f\"}, \"marker\": {\"line\": {\"color\": \"#E5ECF6\", \"width\": 0.5}}, \"type\": \"bar\"}], \"barpolar\": [{\"marker\": {\"line\": {\"color\": \"#E5ECF6\", \"width\": 0.5}}, \"type\": \"barpolar\"}], \"carpet\": [{\"aaxis\": {\"endlinecolor\": \"#2a3f5f\", \"gridcolor\": \"white\", \"linecolor\": \"white\", \"minorgridcolor\": \"white\", \"startlinecolor\": \"#2a3f5f\"}, \"baxis\": {\"endlinecolor\": \"#2a3f5f\", \"gridcolor\": \"white\", \"linecolor\": \"white\", \"minorgridcolor\": \"white\", \"startlinecolor\": \"#2a3f5f\"}, \"type\": \"carpet\"}], \"choropleth\": [{\"colorbar\": {\"outlinewidth\": 0, \"ticks\": \"\"}, \"type\": \"choropleth\"}], \"contour\": [{\"colorbar\": {\"outlinewidth\": 0, \"ticks\": \"\"}, \"colorscale\": [[0.0, \"#0d0887\"], [0.1111111111111111, \"#46039f\"], [0.2222222222222222, \"#7201a8\"], [0.3333333333333333, \"#9c179e\"], [0.4444444444444444, \"#bd3786\"], [0.5555555555555556, \"#d8576b\"], [0.6666666666666666, \"#ed7953\"], [0.7777777777777778, \"#fb9f3a\"], [0.8888888888888888, \"#fdca26\"], [1.0, \"#f0f921\"]], \"type\": \"contour\"}], \"contourcarpet\": [{\"colorbar\": {\"outlinewidth\": 0, \"ticks\": \"\"}, \"type\": \"contourcarpet\"}], \"heatmap\": [{\"colorbar\": {\"outlinewidth\": 0, \"ticks\": \"\"}, \"colorscale\": [[0.0, \"#0d0887\"], [0.1111111111111111, \"#46039f\"], [0.2222222222222222, \"#7201a8\"], [0.3333333333333333, \"#9c179e\"], [0.4444444444444444, \"#bd3786\"], [0.5555555555555556, \"#d8576b\"], [0.6666666666666666, \"#ed7953\"], [0.7777777777777778, \"#fb9f3a\"], [0.8888888888888888, \"#fdca26\"], [1.0, \"#f0f921\"]], \"type\": \"heatmap\"}], \"heatmapgl\": [{\"colorbar\": {\"outlinewidth\": 0, \"ticks\": \"\"}, \"colorscale\": [[0.0, \"#0d0887\"], [0.1111111111111111, \"#46039f\"], [0.2222222222222222, \"#7201a8\"], [0.3333333333333333, \"#9c179e\"], [0.4444444444444444, \"#bd3786\"], [0.5555555555555556, \"#d8576b\"], [0.6666666666666666, \"#ed7953\"], [0.7777777777777778, \"#fb9f3a\"], [0.8888888888888888, \"#fdca26\"], [1.0, \"#f0f921\"]], \"type\": \"heatmapgl\"}], \"histogram\": [{\"marker\": {\"colorbar\": {\"outlinewidth\": 0, \"ticks\": \"\"}}, \"type\": \"histogram\"}], \"histogram2d\": [{\"colorbar\": {\"outlinewidth\": 0, \"ticks\": \"\"}, \"colorscale\": [[0.0, \"#0d0887\"], [0.1111111111111111, \"#46039f\"], [0.2222222222222222, \"#7201a8\"], [0.3333333333333333, \"#9c179e\"], [0.4444444444444444, \"#bd3786\"], [0.5555555555555556, \"#d8576b\"], [0.6666666666666666, \"#ed7953\"], [0.7777777777777778, \"#fb9f3a\"], [0.8888888888888888, \"#fdca26\"], [1.0, \"#f0f921\"]], \"type\": \"histogram2d\"}], \"histogram2dcontour\": [{\"colorbar\": {\"outlinewidth\": 0, \"ticks\": \"\"}, \"colorscale\": [[0.0, \"#0d0887\"], [0.1111111111111111, \"#46039f\"], [0.2222222222222222, \"#7201a8\"], [0.3333333333333333, \"#9c179e\"], [0.4444444444444444, \"#bd3786\"], [0.5555555555555556, \"#d8576b\"], [0.6666666666666666, \"#ed7953\"], [0.7777777777777778, \"#fb9f3a\"], [0.8888888888888888, \"#fdca26\"], [1.0, \"#f0f921\"]], \"type\": \"histogram2dcontour\"}], \"mesh3d\": [{\"colorbar\": {\"outlinewidth\": 0, \"ticks\": \"\"}, \"type\": \"mesh3d\"}], \"parcoords\": [{\"line\": {\"colorbar\": {\"outlinewidth\": 0, \"ticks\": \"\"}}, \"type\": \"parcoords\"}], \"pie\": [{\"automargin\": true, \"type\": \"pie\"}], \"scatter\": [{\"marker\": {\"colorbar\": {\"outlinewidth\": 0, \"ticks\": \"\"}}, \"type\": \"scatter\"}], \"scatter3d\": [{\"line\": {\"colorbar\": {\"outlinewidth\": 0, \"ticks\": \"\"}}, \"marker\": {\"colorbar\": {\"outlinewidth\": 0, \"ticks\": \"\"}}, \"type\": \"scatter3d\"}], \"scattercarpet\": [{\"marker\": {\"colorbar\": {\"outlinewidth\": 0, \"ticks\": \"\"}}, \"type\": \"scattercarpet\"}], \"scattergeo\": [{\"marker\": {\"colorbar\": {\"outlinewidth\": 0, \"ticks\": \"\"}}, \"type\": \"scattergeo\"}], \"scattergl\": [{\"marker\": {\"colorbar\": {\"outlinewidth\": 0, \"ticks\": \"\"}}, \"type\": \"scattergl\"}], \"scattermapbox\": [{\"marker\": {\"colorbar\": {\"outlinewidth\": 0, \"ticks\": \"\"}}, \"type\": \"scattermapbox\"}], \"scatterpolar\": [{\"marker\": {\"colorbar\": {\"outlinewidth\": 0, \"ticks\": \"\"}}, \"type\": \"scatterpolar\"}], \"scatterpolargl\": [{\"marker\": {\"colorbar\": {\"outlinewidth\": 0, \"ticks\": \"\"}}, \"type\": \"scatterpolargl\"}], \"scatterternary\": [{\"marker\": {\"colorbar\": {\"outlinewidth\": 0, \"ticks\": \"\"}}, \"type\": \"scatterternary\"}], \"surface\": [{\"colorbar\": {\"outlinewidth\": 0, \"ticks\": \"\"}, \"colorscale\": [[0.0, \"#0d0887\"], [0.1111111111111111, \"#46039f\"], [0.2222222222222222, \"#7201a8\"], [0.3333333333333333, \"#9c179e\"], [0.4444444444444444, \"#bd3786\"], [0.5555555555555556, \"#d8576b\"], [0.6666666666666666, \"#ed7953\"], [0.7777777777777778, \"#fb9f3a\"], [0.8888888888888888, \"#fdca26\"], [1.0, \"#f0f921\"]], \"type\": \"surface\"}], \"table\": [{\"cells\": {\"fill\": {\"color\": \"#EBF0F8\"}, \"line\": {\"color\": \"white\"}}, \"header\": {\"fill\": {\"color\": \"#C8D4E3\"}, \"line\": {\"color\": \"white\"}}, \"type\": \"table\"}]}, \"layout\": {\"annotationdefaults\": {\"arrowcolor\": \"#2a3f5f\", \"arrowhead\": 0, \"arrowwidth\": 1}, \"autotypenumbers\": \"strict\", \"coloraxis\": {\"colorbar\": {\"outlinewidth\": 0, \"ticks\": \"\"}}, \"colorscale\": {\"diverging\": [[0, \"#8e0152\"], [0.1, \"#c51b7d\"], [0.2, \"#de77ae\"], [0.3, \"#f1b6da\"], [0.4, \"#fde0ef\"], [0.5, \"#f7f7f7\"], [0.6, \"#e6f5d0\"], [0.7, \"#b8e186\"], [0.8, \"#7fbc41\"], [0.9, \"#4d9221\"], [1, \"#276419\"]], \"sequential\": [[0.0, \"#0d0887\"], [0.1111111111111111, \"#46039f\"], [0.2222222222222222, \"#7201a8\"], [0.3333333333333333, \"#9c179e\"], [0.4444444444444444, \"#bd3786\"], [0.5555555555555556, \"#d8576b\"], [0.6666666666666666, \"#ed7953\"], [0.7777777777777778, \"#fb9f3a\"], [0.8888888888888888, \"#fdca26\"], [1.0, \"#f0f921\"]], \"sequentialminus\": [[0.0, \"#0d0887\"], [0.1111111111111111, \"#46039f\"], [0.2222222222222222, \"#7201a8\"], [0.3333333333333333, \"#9c179e\"], [0.4444444444444444, \"#bd3786\"], [0.5555555555555556, \"#d8576b\"], [0.6666666666666666, \"#ed7953\"], [0.7777777777777778, \"#fb9f3a\"], [0.8888888888888888, \"#fdca26\"], [1.0, \"#f0f921\"]]}, \"colorway\": [\"#636efa\", \"#EF553B\", \"#00cc96\", \"#ab63fa\", \"#FFA15A\", \"#19d3f3\", \"#FF6692\", \"#B6E880\", \"#FF97FF\", \"#FECB52\"], \"font\": {\"color\": \"#2a3f5f\"}, \"geo\": {\"bgcolor\": \"white\", \"lakecolor\": \"white\", \"landcolor\": \"#E5ECF6\", \"showlakes\": true, \"showland\": true, \"subunitcolor\": \"white\"}, \"hoverlabel\": {\"align\": \"left\"}, \"hovermode\": \"closest\", \"mapbox\": {\"style\": \"light\"}, \"paper_bgcolor\": \"white\", \"plot_bgcolor\": \"#E5ECF6\", \"polar\": {\"angularaxis\": {\"gridcolor\": \"white\", \"linecolor\": \"white\", \"ticks\": \"\"}, \"bgcolor\": \"#E5ECF6\", \"radialaxis\": {\"gridcolor\": \"white\", \"linecolor\": \"white\", \"ticks\": \"\"}}, \"scene\": {\"xaxis\": {\"backgroundcolor\": \"#E5ECF6\", \"gridcolor\": \"white\", \"gridwidth\": 2, \"linecolor\": \"white\", \"showbackground\": true, \"ticks\": \"\", \"zerolinecolor\": \"white\"}, \"yaxis\": {\"backgroundcolor\": \"#E5ECF6\", \"gridcolor\": \"white\", \"gridwidth\": 2, \"linecolor\": \"white\", \"showbackground\": true, \"ticks\": \"\", \"zerolinecolor\": \"white\"}, \"zaxis\": {\"backgroundcolor\": \"#E5ECF6\", \"gridcolor\": \"white\", \"gridwidth\": 2, \"linecolor\": \"white\", \"showbackground\": true, \"ticks\": \"\", \"zerolinecolor\": \"white\"}}, \"shapedefaults\": {\"line\": {\"color\": \"#2a3f5f\"}}, \"ternary\": {\"aaxis\": {\"gridcolor\": \"white\", \"linecolor\": \"white\", \"ticks\": \"\"}, \"baxis\": {\"gridcolor\": \"white\", \"linecolor\": \"white\", \"ticks\": \"\"}, \"bgcolor\": \"#E5ECF6\", \"caxis\": {\"gridcolor\": \"white\", \"linecolor\": \"white\", \"ticks\": \"\"}}, \"title\": {\"x\": 0.05}, \"xaxis\": {\"automargin\": true, \"gridcolor\": \"white\", \"linecolor\": \"white\", \"ticks\": \"\", \"title\": {\"standoff\": 15}, \"zerolinecolor\": \"white\", \"zerolinewidth\": 2}, \"yaxis\": {\"automargin\": true, \"gridcolor\": \"white\", \"linecolor\": \"white\", \"ticks\": \"\", \"title\": {\"standoff\": 15}, \"zerolinecolor\": \"white\", \"zerolinewidth\": 2}}}, \"xaxis\": {\"anchor\": \"y\", \"domain\": [0.0, 0.235], \"title\": {\"text\": \"maturity\"}}, \"xaxis2\": {\"anchor\": \"y2\", \"domain\": [0.255, 0.49], \"matches\": \"x\", \"title\": {\"text\": \"maturity\"}}, \"xaxis3\": {\"anchor\": \"y3\", \"domain\": [0.51, 0.745], \"matches\": \"x\", \"title\": {\"text\": \"maturity\"}}, \"xaxis4\": {\"anchor\": \"y4\", \"domain\": [0.7649999999999999, 0.9999999999999999], \"matches\": \"x\", \"title\": {\"text\": \"maturity\"}}, \"yaxis\": {\"anchor\": \"x\", \"domain\": [0.0, 1.0], \"title\": {\"text\": \"mk_price_minus_bmk_price\"}}, \"yaxis2\": {\"anchor\": \"x2\", \"domain\": [0.0, 1.0], \"matches\": \"y\", \"showticklabels\": false}, \"yaxis3\": {\"anchor\": \"x3\", \"domain\": [0.0, 1.0], \"matches\": \"y\", \"showticklabels\": false}, \"yaxis4\": {\"anchor\": \"x4\", \"domain\": [0.0, 1.0], \"matches\": \"y\", \"showticklabels\": false}},                        {\"responsive\": true}                    ).then(function(){\n",
       "                            \n",
       "var gd = document.getElementById('d6acf945-383e-455a-93d2-a3a70ca3bdf6');\n",
       "var x = new MutationObserver(function (mutations, observer) {{\n",
       "        var display = window.getComputedStyle(gd).display;\n",
       "        if (!display || display === 'none') {{\n",
       "            console.log([gd, 'removed!']);\n",
       "            Plotly.purge(gd);\n",
       "            observer.disconnect();\n",
       "        }}\n",
       "}});\n",
       "\n",
       "// Listen for the removal of the full notebook cells\n",
       "var notebookContainer = gd.closest('#notebook-container');\n",
       "if (notebookContainer) {{\n",
       "    x.observe(notebookContainer, {childList: true});\n",
       "}}\n",
       "\n",
       "// Listen for the clearing of the current output cell\n",
       "var outputEl = gd.closest('.output');\n",
       "if (outputEl) {{\n",
       "    x.observe(outputEl, {childList: true});\n",
       "}}\n",
       "\n",
       "                        })                };                });            </script>        </div>"
      ]
     },
     "metadata": {},
     "output_type": "display_data"
    }
   ],
   "source": [
    "wine_maturity = px.scatter(merge, x=\"maturity\", y=\"mk_price_minus_bmk_price\", color=\"variety\", size=\"marketPrice\", facet_col=\"region\")\n",
    "wine_maturity.show()"
   ]
  },
  {
   "cell_type": "markdown",
   "metadata": {},
   "source": [
    "### Variety \n",
    "#### The next graph shows wine variety against the increase in price metric. The wines are colored by Producer and sized by Market Price. Again the three Burgundian wines stick out. These are the wines that command the greatest increase in price, but they happen to also command the greatest decreases in price. These producers would be suitable for bigger spending investment portfolios.\n",
    "#### Gaja wines of Piedmont, of the varietal nebbiolo also stick out in this graph. They have small benchmark trade prices, but consistently see increases in price over benchmark trade price. They rarely decrease from the benchmark trade price. This is similiar to the Propietary Blends, especially St Emillion and St Estephe, although Chateau Margaux has small returns given the high benchmark price it commands. Gaja, St Emillion and St Estephe wines would be good for smaller investment portifolios, as well as providing stabitlity to larger more expensive portfolios."
   ]
  },
  {
   "cell_type": "code",
   "execution_count": 14,
   "metadata": {},
   "outputs": [
    {
     "data": {
      "application/vnd.plotly.v1+json": {
       "config": {
        "plotlyServerURL": "https://plot.ly"
       },
       "data": [
        {
         "hovertemplate": "wineName=Gaja, Barbaresco<br>variety=%{x}<br>mk_price_minus_bmk_price=%{y}<br>benchmarkTradePrice=%{marker.size}<extra></extra>",
         "legendgroup": "Gaja, Barbaresco",
         "marker": {
          "color": "#636efa",
          "size": [
           1356,
           1180,
           1300,
           1145,
           2220,
           2190,
           1340,
           1440,
           1352,
           1300,
           1260,
           2554,
           1408,
           1276,
           1300,
           1330
          ],
          "sizemode": "area",
          "sizeref": 46.875,
          "symbol": "circle"
         },
         "mode": "markers",
         "name": "Gaja, Barbaresco",
         "orientation": "v",
         "showlegend": true,
         "type": "scatter",
         "x": [
          "Nebbiolo",
          "Nebbiolo",
          "Nebbiolo",
          "Nebbiolo",
          "Nebbiolo",
          "Nebbiolo",
          "Nebbiolo",
          "Nebbiolo",
          "Nebbiolo",
          "Nebbiolo",
          "Nebbiolo",
          "Nebbiolo",
          "Nebbiolo",
          "Nebbiolo",
          "Nebbiolo",
          "Nebbiolo"
         ],
         "xaxis": "x",
         "y": [
          124,
          670,
          500,
          451,
          280,
          70,
          859,
          360,
          -2,
          250,
          90,
          318,
          92,
          124,
          -1,
          425
         ],
         "yaxis": "y"
        },
        {
         "hovertemplate": "wineName=Tignanello, Toscana<br>variety=%{x}<br>mk_price_minus_bmk_price=%{y}<br>benchmarkTradePrice=%{marker.size}<extra></extra>",
         "legendgroup": "Tignanello, Toscana",
         "marker": {
          "color": "#EF553B",
          "size": [
           1204,
           1150,
           1378,
           1238,
           1072,
           1170,
           860,
           850,
           1010,
           830,
           1082,
           1200,
           860,
           1180,
           800,
           882,
           920
          ],
          "sizemode": "area",
          "sizeref": 46.875,
          "symbol": "circle"
         },
         "mode": "markers",
         "name": "Tignanello, Toscana",
         "orientation": "v",
         "showlegend": true,
         "type": "scatter",
         "x": [
          "Proprietary Blend",
          "Proprietary Blend",
          "Proprietary Blend",
          "Proprietary Blend",
          "Proprietary Blend",
          "Proprietary Blend",
          "Proprietary Blend",
          "Proprietary Blend",
          "Proprietary Blend",
          "Proprietary Blend",
          "Proprietary Blend",
          "Proprietary Blend",
          "Proprietary Blend",
          "Proprietary Blend",
          "Proprietary Blend",
          "Proprietary Blend",
          "Proprietary Blend"
         ],
         "xaxis": "x",
         "y": [
          -94,
          258,
          322,
          170,
          -48,
          156,
          98,
          110,
          90,
          150,
          118,
          100,
          140,
          498,
          57,
          363,
          -50
         ],
         "yaxis": "y"
        },
        {
         "hovertemplate": "wineName=Chateau Margaux Premier Cru Classe, Margaux<br>variety=%{x}<br>mk_price_minus_bmk_price=%{y}<br>benchmarkTradePrice=%{marker.size}<extra></extra>",
         "legendgroup": "Chateau Margaux Premier Cru Classe, Margaux",
         "marker": {
          "color": "#00cc96",
          "size": [
           3800,
           3700,
           6116,
           4400,
           3480,
           3880,
           3520,
           9844,
           3684,
           5922,
           4116,
           3525,
           7086,
           4800,
           3690,
           3560,
           5238,
           5150,
           4160
          ],
          "sizemode": "area",
          "sizeref": 46.875,
          "symbol": "circle"
         },
         "mode": "markers",
         "name": "Chateau Margaux Premier Cru Classe, Margaux",
         "orientation": "v",
         "showlegend": true,
         "type": "scatter",
         "x": [
          "Proprietary Blend",
          "Proprietary Blend",
          "Proprietary Blend",
          "Proprietary Blend",
          "Proprietary Blend",
          "Proprietary Blend",
          "Proprietary Blend",
          "Proprietary Blend",
          "Proprietary Blend",
          "Proprietary Blend",
          "Proprietary Blend",
          "Proprietary Blend",
          "Proprietary Blend",
          "Proprietary Blend",
          "Proprietary Blend",
          "Proprietary Blend",
          "Proprietary Blend",
          "Proprietary Blend",
          "Proprietary Blend"
         ],
         "xaxis": "x",
         "y": [
          110,
          0,
          134,
          0,
          240,
          40,
          180,
          656,
          216,
          328,
          -290,
          35,
          -256,
          50,
          68,
          240,
          177,
          265,
          660
         ],
         "yaxis": "y"
        },
        {
         "hovertemplate": "wineName=Domaine Leflaive, Chevalier-Montrachet Grand Cru<br>variety=%{x}<br>mk_price_minus_bmk_price=%{y}<br>benchmarkTradePrice=%{marker.size}<extra></extra>",
         "legendgroup": "Domaine Leflaive, Chevalier-Montrachet Grand Cru",
         "marker": {
          "color": "#ab63fa",
          "size": [
           6974,
           8000,
           5360,
           7330,
           5960,
           7124,
           1730,
           7900,
           6405,
           3920,
           4500,
           4400,
           5700,
           5400,
           6500,
           8540
          ],
          "sizemode": "area",
          "sizeref": 46.875,
          "symbol": "circle"
         },
         "mode": "markers",
         "name": "Domaine Leflaive, Chevalier-Montrachet Grand Cru",
         "orientation": "v",
         "showlegend": true,
         "type": "scatter",
         "x": [
          "Chardonnay",
          "Chardonnay",
          "Chardonnay",
          "Chardonnay",
          "Chardonnay",
          "Chardonnay",
          "Chardonnay",
          "Chardonnay",
          "Chardonnay",
          "Chardonnay",
          "Chardonnay",
          "Chardonnay",
          "Chardonnay",
          "Chardonnay",
          "Chardonnay",
          "Chardonnay"
         ],
         "xaxis": "x",
         "y": [
          1026,
          1950,
          1640,
          470,
          2440,
          782,
          5070,
          -1504,
          495,
          2632,
          1860,
          1200,
          2700,
          3600,
          -500,
          -728
         ],
         "yaxis": "y"
        },
        {
         "hovertemplate": "wineName=Tua Rita, Giusto di Notri, Toscana<br>variety=%{x}<br>mk_price_minus_bmk_price=%{y}<br>benchmarkTradePrice=%{marker.size}<extra></extra>",
         "legendgroup": "Tua Rita, Giusto di Notri, Toscana",
         "marker": {
          "color": "#FFA15A",
          "size": [
           420,
           351,
           460,
           390,
           300,
           342,
           388,
           380,
           320,
           544,
           408
          ],
          "sizemode": "area",
          "sizeref": 46.875,
          "symbol": "circle"
         },
         "mode": "markers",
         "name": "Tua Rita, Giusto di Notri, Toscana",
         "orientation": "v",
         "showlegend": true,
         "type": "scatter",
         "x": [
          "Proprietary Blend",
          "Proprietary Blend",
          "Proprietary Blend",
          "Proprietary Blend",
          "Proprietary Blend",
          "Proprietary Blend",
          "Proprietary Blend",
          "Proprietary Blend",
          "Proprietary Blend",
          "Proprietary Blend",
          "Proprietary Blend"
         ],
         "xaxis": "x",
         "y": [
          40,
          223,
          60,
          270,
          240,
          78,
          87,
          100,
          167,
          -4,
          192
         ],
         "yaxis": "y"
        },
        {
         "hovertemplate": "wineName=Chateau Calon Segur 3eme Cru Classe, Saint-Estephe<br>variety=%{x}<br>mk_price_minus_bmk_price=%{y}<br>benchmarkTradePrice=%{marker.size}<extra></extra>",
         "legendgroup": "Chateau Calon Segur 3eme Cru Classe, Saint-Estephe",
         "marker": {
          "color": "#19d3f3",
          "size": [
           682,
           950,
           760,
           1048,
           705,
           800,
           745,
           805,
           988,
           863,
           990,
           790,
           1026,
           725,
           860,
           781,
           735,
           842,
           794
          ],
          "sizemode": "area",
          "sizeref": 46.875,
          "symbol": "circle"
         },
         "mode": "markers",
         "name": "Chateau Calon Segur 3eme Cru Classe, Saint-Estephe",
         "orientation": "v",
         "showlegend": true,
         "type": "scatter",
         "x": [
          "Proprietary Blend",
          "Proprietary Blend",
          "Proprietary Blend",
          "Proprietary Blend",
          "Proprietary Blend",
          "Proprietary Blend",
          "Proprietary Blend",
          "Proprietary Blend",
          "Proprietary Blend",
          "Proprietary Blend",
          "Proprietary Blend",
          "Proprietary Blend",
          "Proprietary Blend",
          "Proprietary Blend",
          "Proprietary Blend",
          "Proprietary Blend",
          "Proprietary Blend",
          "Proprietary Blend",
          "Proprietary Blend"
         ],
         "xaxis": "x",
         "y": [
          98,
          90,
          -22,
          34,
          165,
          100,
          55,
          102,
          12,
          37,
          0,
          -40,
          -51,
          155,
          -10,
          59,
          85,
          108,
          -4
         ],
         "yaxis": "y"
        },
        {
         "hovertemplate": "wineName=Chateau Batailley 5eme Cru Classe, Pauillac<br>variety=%{x}<br>mk_price_minus_bmk_price=%{y}<br>benchmarkTradePrice=%{marker.size}<extra></extra>",
         "legendgroup": "Chateau Batailley 5eme Cru Classe, Pauillac",
         "marker": {
          "color": "#FF6692",
          "size": [
           220,
           420,
           300,
           450,
           532,
           340,
           332,
           504,
           494,
           300,
           355,
           304,
           324,
           360,
           312,
           357,
           465
          ],
          "sizemode": "area",
          "sizeref": 46.875,
          "symbol": "circle"
         },
         "mode": "markers",
         "name": "Chateau Batailley 5eme Cru Classe, Pauillac",
         "orientation": "v",
         "showlegend": true,
         "type": "scatter",
         "x": [
          "Proprietary Blend",
          "Proprietary Blend",
          "Proprietary Blend",
          "Proprietary Blend",
          "Proprietary Blend",
          "Proprietary Blend",
          "Proprietary Blend",
          "Proprietary Blend",
          "Proprietary Blend",
          "Proprietary Blend",
          "Proprietary Blend",
          "Proprietary Blend",
          "Proprietary Blend",
          "Proprietary Blend",
          "Proprietary Blend",
          "Proprietary Blend",
          "Proprietary Blend"
         ],
         "xaxis": "x",
         "y": [
          230,
          130,
          225,
          80,
          -112,
          110,
          68,
          -14,
          -4,
          100,
          45,
          -4,
          26,
          117,
          184,
          51,
          3
         ],
         "yaxis": "y"
        },
        {
         "hovertemplate": "wineName=Jacques-Frederic Mugnier, Chambolle-Musigny Premier Cru, Les Amoureuses<br>variety=%{x}<br>mk_price_minus_bmk_price=%{y}<br>benchmarkTradePrice=%{marker.size}<extra></extra>",
         "legendgroup": "Jacques-Frederic Mugnier, Chambolle-Musigny Premier Cru, Les Amoureuses",
         "marker": {
          "color": "#B6E880",
          "size": [
           18750,
           12000,
           6538,
           12850,
           13000
          ],
          "sizemode": "area",
          "sizeref": 46.875,
          "symbol": "circle"
         },
         "mode": "markers",
         "name": "Jacques-Frederic Mugnier, Chambolle-Musigny Premier Cru, Les Amoureuses",
         "orientation": "v",
         "showlegend": true,
         "type": "scatter",
         "x": [
          "Pinot Noir",
          "Pinot Noir",
          "Pinot Noir",
          "Pinot Noir",
          "Pinot Noir"
         ],
         "xaxis": "x",
         "y": [
          -3984,
          2520,
          10642,
          -448,
          4000
         ],
         "yaxis": "y"
        },
        {
         "hovertemplate": "wineName=Domaine Denis Mortet, Chambertin Grand Cru<br>variety=%{x}<br>mk_price_minus_bmk_price=%{y}<br>benchmarkTradePrice=%{marker.size}<extra></extra>",
         "legendgroup": "Domaine Denis Mortet, Chambertin Grand Cru",
         "marker": {
          "color": "#FF97FF",
          "size": [
           7200,
           4000,
           7290
          ],
          "sizemode": "area",
          "sizeref": 46.875,
          "symbol": "circle"
         },
         "mode": "markers",
         "name": "Domaine Denis Mortet, Chambertin Grand Cru",
         "orientation": "v",
         "showlegend": true,
         "type": "scatter",
         "x": [
          "Pinot Noir",
          "Pinot Noir",
          "Pinot Noir"
         ],
         "xaxis": "x",
         "y": [
          1200,
          6650,
          726
         ],
         "yaxis": "y"
        },
        {
         "hovertemplate": "wineName=Chateau Angelus Premier Grand Cru Classe B, Saint-Emilion Grand Cru<br>variety=%{x}<br>mk_price_minus_bmk_price=%{y}<br>benchmarkTradePrice=%{marker.size}<extra></extra>",
         "legendgroup": "Chateau Angelus Premier Grand Cru Classe B, Saint-Emilion Grand Cru",
         "marker": {
          "color": "#FECB52",
          "size": [
           3101,
           2610,
           3155,
           2378,
           4550,
           2650,
           2500,
           2505,
           3000,
           3350,
           2000
          ],
          "sizemode": "area",
          "sizeref": 46.875,
          "symbol": "circle"
         },
         "mode": "markers",
         "name": "Chateau Angelus Premier Grand Cru Classe B, Saint-Emilion Grand Cru",
         "orientation": "v",
         "showlegend": true,
         "type": "scatter",
         "x": [
          "Proprietary Blend",
          "Proprietary Blend",
          "Proprietary Blend",
          "Proprietary Blend",
          "Proprietary Blend",
          "Proprietary Blend",
          "Proprietary Blend",
          "Proprietary Blend",
          "Proprietary Blend",
          "Proprietary Blend",
          "Proprietary Blend"
         ],
         "xaxis": "x",
         "y": [
          499,
          363,
          145,
          442,
          -125,
          250,
          190,
          245,
          295,
          50,
          590
         ],
         "yaxis": "y"
        },
        {
         "hovertemplate": "wineName=Chateau Angelus Premier Grand Cru Classe A, Saint-Emilion Grand Cru<br>variety=%{x}<br>mk_price_minus_bmk_price=%{y}<br>benchmarkTradePrice=%{marker.size}<extra></extra>",
         "legendgroup": "Chateau Angelus Premier Grand Cru Classe A, Saint-Emilion Grand Cru",
         "marker": {
          "color": "#636efa",
          "size": [
           3605,
           2000,
           2260,
           2500,
           2844,
           2458,
           3120,
           2402
          ],
          "sizemode": "area",
          "sizeref": 46.875,
          "symbol": "circle"
         },
         "mode": "markers",
         "name": "Chateau Angelus Premier Grand Cru Classe A, Saint-Emilion Grand Cru",
         "orientation": "v",
         "showlegend": true,
         "type": "scatter",
         "x": [
          "Proprietary Blend",
          "Proprietary Blend",
          "Proprietary Blend",
          "Proprietary Blend",
          "Proprietary Blend",
          "Proprietary Blend",
          "Proprietary Blend",
          "Proprietary Blend"
         ],
         "xaxis": "x",
         "y": [
          195,
          300,
          100,
          80,
          116,
          272,
          24,
          359
         ],
         "yaxis": "y"
        }
       ],
       "layout": {
        "legend": {
         "itemsizing": "constant",
         "title": {
          "text": "wineName"
         },
         "tracegroupgap": 0
        },
        "margin": {
         "t": 60
        },
        "template": {
         "data": {
          "bar": [
           {
            "error_x": {
             "color": "#2a3f5f"
            },
            "error_y": {
             "color": "#2a3f5f"
            },
            "marker": {
             "line": {
              "color": "#E5ECF6",
              "width": 0.5
             }
            },
            "type": "bar"
           }
          ],
          "barpolar": [
           {
            "marker": {
             "line": {
              "color": "#E5ECF6",
              "width": 0.5
             }
            },
            "type": "barpolar"
           }
          ],
          "carpet": [
           {
            "aaxis": {
             "endlinecolor": "#2a3f5f",
             "gridcolor": "white",
             "linecolor": "white",
             "minorgridcolor": "white",
             "startlinecolor": "#2a3f5f"
            },
            "baxis": {
             "endlinecolor": "#2a3f5f",
             "gridcolor": "white",
             "linecolor": "white",
             "minorgridcolor": "white",
             "startlinecolor": "#2a3f5f"
            },
            "type": "carpet"
           }
          ],
          "choropleth": [
           {
            "colorbar": {
             "outlinewidth": 0,
             "ticks": ""
            },
            "type": "choropleth"
           }
          ],
          "contour": [
           {
            "colorbar": {
             "outlinewidth": 0,
             "ticks": ""
            },
            "colorscale": [
             [
              0,
              "#0d0887"
             ],
             [
              0.1111111111111111,
              "#46039f"
             ],
             [
              0.2222222222222222,
              "#7201a8"
             ],
             [
              0.3333333333333333,
              "#9c179e"
             ],
             [
              0.4444444444444444,
              "#bd3786"
             ],
             [
              0.5555555555555556,
              "#d8576b"
             ],
             [
              0.6666666666666666,
              "#ed7953"
             ],
             [
              0.7777777777777778,
              "#fb9f3a"
             ],
             [
              0.8888888888888888,
              "#fdca26"
             ],
             [
              1,
              "#f0f921"
             ]
            ],
            "type": "contour"
           }
          ],
          "contourcarpet": [
           {
            "colorbar": {
             "outlinewidth": 0,
             "ticks": ""
            },
            "type": "contourcarpet"
           }
          ],
          "heatmap": [
           {
            "colorbar": {
             "outlinewidth": 0,
             "ticks": ""
            },
            "colorscale": [
             [
              0,
              "#0d0887"
             ],
             [
              0.1111111111111111,
              "#46039f"
             ],
             [
              0.2222222222222222,
              "#7201a8"
             ],
             [
              0.3333333333333333,
              "#9c179e"
             ],
             [
              0.4444444444444444,
              "#bd3786"
             ],
             [
              0.5555555555555556,
              "#d8576b"
             ],
             [
              0.6666666666666666,
              "#ed7953"
             ],
             [
              0.7777777777777778,
              "#fb9f3a"
             ],
             [
              0.8888888888888888,
              "#fdca26"
             ],
             [
              1,
              "#f0f921"
             ]
            ],
            "type": "heatmap"
           }
          ],
          "heatmapgl": [
           {
            "colorbar": {
             "outlinewidth": 0,
             "ticks": ""
            },
            "colorscale": [
             [
              0,
              "#0d0887"
             ],
             [
              0.1111111111111111,
              "#46039f"
             ],
             [
              0.2222222222222222,
              "#7201a8"
             ],
             [
              0.3333333333333333,
              "#9c179e"
             ],
             [
              0.4444444444444444,
              "#bd3786"
             ],
             [
              0.5555555555555556,
              "#d8576b"
             ],
             [
              0.6666666666666666,
              "#ed7953"
             ],
             [
              0.7777777777777778,
              "#fb9f3a"
             ],
             [
              0.8888888888888888,
              "#fdca26"
             ],
             [
              1,
              "#f0f921"
             ]
            ],
            "type": "heatmapgl"
           }
          ],
          "histogram": [
           {
            "marker": {
             "colorbar": {
              "outlinewidth": 0,
              "ticks": ""
             }
            },
            "type": "histogram"
           }
          ],
          "histogram2d": [
           {
            "colorbar": {
             "outlinewidth": 0,
             "ticks": ""
            },
            "colorscale": [
             [
              0,
              "#0d0887"
             ],
             [
              0.1111111111111111,
              "#46039f"
             ],
             [
              0.2222222222222222,
              "#7201a8"
             ],
             [
              0.3333333333333333,
              "#9c179e"
             ],
             [
              0.4444444444444444,
              "#bd3786"
             ],
             [
              0.5555555555555556,
              "#d8576b"
             ],
             [
              0.6666666666666666,
              "#ed7953"
             ],
             [
              0.7777777777777778,
              "#fb9f3a"
             ],
             [
              0.8888888888888888,
              "#fdca26"
             ],
             [
              1,
              "#f0f921"
             ]
            ],
            "type": "histogram2d"
           }
          ],
          "histogram2dcontour": [
           {
            "colorbar": {
             "outlinewidth": 0,
             "ticks": ""
            },
            "colorscale": [
             [
              0,
              "#0d0887"
             ],
             [
              0.1111111111111111,
              "#46039f"
             ],
             [
              0.2222222222222222,
              "#7201a8"
             ],
             [
              0.3333333333333333,
              "#9c179e"
             ],
             [
              0.4444444444444444,
              "#bd3786"
             ],
             [
              0.5555555555555556,
              "#d8576b"
             ],
             [
              0.6666666666666666,
              "#ed7953"
             ],
             [
              0.7777777777777778,
              "#fb9f3a"
             ],
             [
              0.8888888888888888,
              "#fdca26"
             ],
             [
              1,
              "#f0f921"
             ]
            ],
            "type": "histogram2dcontour"
           }
          ],
          "mesh3d": [
           {
            "colorbar": {
             "outlinewidth": 0,
             "ticks": ""
            },
            "type": "mesh3d"
           }
          ],
          "parcoords": [
           {
            "line": {
             "colorbar": {
              "outlinewidth": 0,
              "ticks": ""
             }
            },
            "type": "parcoords"
           }
          ],
          "pie": [
           {
            "automargin": true,
            "type": "pie"
           }
          ],
          "scatter": [
           {
            "marker": {
             "colorbar": {
              "outlinewidth": 0,
              "ticks": ""
             }
            },
            "type": "scatter"
           }
          ],
          "scatter3d": [
           {
            "line": {
             "colorbar": {
              "outlinewidth": 0,
              "ticks": ""
             }
            },
            "marker": {
             "colorbar": {
              "outlinewidth": 0,
              "ticks": ""
             }
            },
            "type": "scatter3d"
           }
          ],
          "scattercarpet": [
           {
            "marker": {
             "colorbar": {
              "outlinewidth": 0,
              "ticks": ""
             }
            },
            "type": "scattercarpet"
           }
          ],
          "scattergeo": [
           {
            "marker": {
             "colorbar": {
              "outlinewidth": 0,
              "ticks": ""
             }
            },
            "type": "scattergeo"
           }
          ],
          "scattergl": [
           {
            "marker": {
             "colorbar": {
              "outlinewidth": 0,
              "ticks": ""
             }
            },
            "type": "scattergl"
           }
          ],
          "scattermapbox": [
           {
            "marker": {
             "colorbar": {
              "outlinewidth": 0,
              "ticks": ""
             }
            },
            "type": "scattermapbox"
           }
          ],
          "scatterpolar": [
           {
            "marker": {
             "colorbar": {
              "outlinewidth": 0,
              "ticks": ""
             }
            },
            "type": "scatterpolar"
           }
          ],
          "scatterpolargl": [
           {
            "marker": {
             "colorbar": {
              "outlinewidth": 0,
              "ticks": ""
             }
            },
            "type": "scatterpolargl"
           }
          ],
          "scatterternary": [
           {
            "marker": {
             "colorbar": {
              "outlinewidth": 0,
              "ticks": ""
             }
            },
            "type": "scatterternary"
           }
          ],
          "surface": [
           {
            "colorbar": {
             "outlinewidth": 0,
             "ticks": ""
            },
            "colorscale": [
             [
              0,
              "#0d0887"
             ],
             [
              0.1111111111111111,
              "#46039f"
             ],
             [
              0.2222222222222222,
              "#7201a8"
             ],
             [
              0.3333333333333333,
              "#9c179e"
             ],
             [
              0.4444444444444444,
              "#bd3786"
             ],
             [
              0.5555555555555556,
              "#d8576b"
             ],
             [
              0.6666666666666666,
              "#ed7953"
             ],
             [
              0.7777777777777778,
              "#fb9f3a"
             ],
             [
              0.8888888888888888,
              "#fdca26"
             ],
             [
              1,
              "#f0f921"
             ]
            ],
            "type": "surface"
           }
          ],
          "table": [
           {
            "cells": {
             "fill": {
              "color": "#EBF0F8"
             },
             "line": {
              "color": "white"
             }
            },
            "header": {
             "fill": {
              "color": "#C8D4E3"
             },
             "line": {
              "color": "white"
             }
            },
            "type": "table"
           }
          ]
         },
         "layout": {
          "annotationdefaults": {
           "arrowcolor": "#2a3f5f",
           "arrowhead": 0,
           "arrowwidth": 1
          },
          "autotypenumbers": "strict",
          "coloraxis": {
           "colorbar": {
            "outlinewidth": 0,
            "ticks": ""
           }
          },
          "colorscale": {
           "diverging": [
            [
             0,
             "#8e0152"
            ],
            [
             0.1,
             "#c51b7d"
            ],
            [
             0.2,
             "#de77ae"
            ],
            [
             0.3,
             "#f1b6da"
            ],
            [
             0.4,
             "#fde0ef"
            ],
            [
             0.5,
             "#f7f7f7"
            ],
            [
             0.6,
             "#e6f5d0"
            ],
            [
             0.7,
             "#b8e186"
            ],
            [
             0.8,
             "#7fbc41"
            ],
            [
             0.9,
             "#4d9221"
            ],
            [
             1,
             "#276419"
            ]
           ],
           "sequential": [
            [
             0,
             "#0d0887"
            ],
            [
             0.1111111111111111,
             "#46039f"
            ],
            [
             0.2222222222222222,
             "#7201a8"
            ],
            [
             0.3333333333333333,
             "#9c179e"
            ],
            [
             0.4444444444444444,
             "#bd3786"
            ],
            [
             0.5555555555555556,
             "#d8576b"
            ],
            [
             0.6666666666666666,
             "#ed7953"
            ],
            [
             0.7777777777777778,
             "#fb9f3a"
            ],
            [
             0.8888888888888888,
             "#fdca26"
            ],
            [
             1,
             "#f0f921"
            ]
           ],
           "sequentialminus": [
            [
             0,
             "#0d0887"
            ],
            [
             0.1111111111111111,
             "#46039f"
            ],
            [
             0.2222222222222222,
             "#7201a8"
            ],
            [
             0.3333333333333333,
             "#9c179e"
            ],
            [
             0.4444444444444444,
             "#bd3786"
            ],
            [
             0.5555555555555556,
             "#d8576b"
            ],
            [
             0.6666666666666666,
             "#ed7953"
            ],
            [
             0.7777777777777778,
             "#fb9f3a"
            ],
            [
             0.8888888888888888,
             "#fdca26"
            ],
            [
             1,
             "#f0f921"
            ]
           ]
          },
          "colorway": [
           "#636efa",
           "#EF553B",
           "#00cc96",
           "#ab63fa",
           "#FFA15A",
           "#19d3f3",
           "#FF6692",
           "#B6E880",
           "#FF97FF",
           "#FECB52"
          ],
          "font": {
           "color": "#2a3f5f"
          },
          "geo": {
           "bgcolor": "white",
           "lakecolor": "white",
           "landcolor": "#E5ECF6",
           "showlakes": true,
           "showland": true,
           "subunitcolor": "white"
          },
          "hoverlabel": {
           "align": "left"
          },
          "hovermode": "closest",
          "mapbox": {
           "style": "light"
          },
          "paper_bgcolor": "white",
          "plot_bgcolor": "#E5ECF6",
          "polar": {
           "angularaxis": {
            "gridcolor": "white",
            "linecolor": "white",
            "ticks": ""
           },
           "bgcolor": "#E5ECF6",
           "radialaxis": {
            "gridcolor": "white",
            "linecolor": "white",
            "ticks": ""
           }
          },
          "scene": {
           "xaxis": {
            "backgroundcolor": "#E5ECF6",
            "gridcolor": "white",
            "gridwidth": 2,
            "linecolor": "white",
            "showbackground": true,
            "ticks": "",
            "zerolinecolor": "white"
           },
           "yaxis": {
            "backgroundcolor": "#E5ECF6",
            "gridcolor": "white",
            "gridwidth": 2,
            "linecolor": "white",
            "showbackground": true,
            "ticks": "",
            "zerolinecolor": "white"
           },
           "zaxis": {
            "backgroundcolor": "#E5ECF6",
            "gridcolor": "white",
            "gridwidth": 2,
            "linecolor": "white",
            "showbackground": true,
            "ticks": "",
            "zerolinecolor": "white"
           }
          },
          "shapedefaults": {
           "line": {
            "color": "#2a3f5f"
           }
          },
          "ternary": {
           "aaxis": {
            "gridcolor": "white",
            "linecolor": "white",
            "ticks": ""
           },
           "baxis": {
            "gridcolor": "white",
            "linecolor": "white",
            "ticks": ""
           },
           "bgcolor": "#E5ECF6",
           "caxis": {
            "gridcolor": "white",
            "linecolor": "white",
            "ticks": ""
           }
          },
          "title": {
           "x": 0.05
          },
          "xaxis": {
           "automargin": true,
           "gridcolor": "white",
           "linecolor": "white",
           "ticks": "",
           "title": {
            "standoff": 15
           },
           "zerolinecolor": "white",
           "zerolinewidth": 2
          },
          "yaxis": {
           "automargin": true,
           "gridcolor": "white",
           "linecolor": "white",
           "ticks": "",
           "title": {
            "standoff": 15
           },
           "zerolinecolor": "white",
           "zerolinewidth": 2
          }
         }
        },
        "xaxis": {
         "anchor": "y",
         "domain": [
          0,
          1
         ],
         "title": {
          "text": "variety"
         }
        },
        "yaxis": {
         "anchor": "x",
         "domain": [
          0,
          1
         ],
         "title": {
          "text": "mk_price_minus_bmk_price"
         }
        }
       }
      },
      "text/html": [
       "<div>                            <div id=\"0b01db23-b117-4295-8f8f-ada4b49ecc58\" class=\"plotly-graph-div\" style=\"height:525px; width:100%;\"></div>            <script type=\"text/javascript\">                require([\"plotly\"], function(Plotly) {                    window.PLOTLYENV=window.PLOTLYENV || {};                                    if (document.getElementById(\"0b01db23-b117-4295-8f8f-ada4b49ecc58\")) {                    Plotly.newPlot(                        \"0b01db23-b117-4295-8f8f-ada4b49ecc58\",                        [{\"hovertemplate\": \"wineName=Gaja, Barbaresco<br>variety=%{x}<br>mk_price_minus_bmk_price=%{y}<br>benchmarkTradePrice=%{marker.size}<extra></extra>\", \"legendgroup\": \"Gaja, Barbaresco\", \"marker\": {\"color\": \"#636efa\", \"size\": [1356, 1180, 1300, 1145, 2220, 2190, 1340, 1440, 1352, 1300, 1260, 2554, 1408, 1276, 1300, 1330], \"sizemode\": \"area\", \"sizeref\": 46.875, \"symbol\": \"circle\"}, \"mode\": \"markers\", \"name\": \"Gaja, Barbaresco\", \"orientation\": \"v\", \"showlegend\": true, \"type\": \"scatter\", \"x\": [\"Nebbiolo\", \"Nebbiolo\", \"Nebbiolo\", \"Nebbiolo\", \"Nebbiolo\", \"Nebbiolo\", \"Nebbiolo\", \"Nebbiolo\", \"Nebbiolo\", \"Nebbiolo\", \"Nebbiolo\", \"Nebbiolo\", \"Nebbiolo\", \"Nebbiolo\", \"Nebbiolo\", \"Nebbiolo\"], \"xaxis\": \"x\", \"y\": [124, 670, 500, 451, 280, 70, 859, 360, -2, 250, 90, 318, 92, 124, -1, 425], \"yaxis\": \"y\"}, {\"hovertemplate\": \"wineName=Tignanello, Toscana<br>variety=%{x}<br>mk_price_minus_bmk_price=%{y}<br>benchmarkTradePrice=%{marker.size}<extra></extra>\", \"legendgroup\": \"Tignanello, Toscana\", \"marker\": {\"color\": \"#EF553B\", \"size\": [1204, 1150, 1378, 1238, 1072, 1170, 860, 850, 1010, 830, 1082, 1200, 860, 1180, 800, 882, 920], \"sizemode\": \"area\", \"sizeref\": 46.875, \"symbol\": \"circle\"}, \"mode\": \"markers\", \"name\": \"Tignanello, Toscana\", \"orientation\": \"v\", \"showlegend\": true, \"type\": \"scatter\", \"x\": [\"Proprietary Blend\", \"Proprietary Blend\", \"Proprietary Blend\", \"Proprietary Blend\", \"Proprietary Blend\", \"Proprietary Blend\", \"Proprietary Blend\", \"Proprietary Blend\", \"Proprietary Blend\", \"Proprietary Blend\", \"Proprietary Blend\", \"Proprietary Blend\", \"Proprietary Blend\", \"Proprietary Blend\", \"Proprietary Blend\", \"Proprietary Blend\", \"Proprietary Blend\"], \"xaxis\": \"x\", \"y\": [-94, 258, 322, 170, -48, 156, 98, 110, 90, 150, 118, 100, 140, 498, 57, 363, -50], \"yaxis\": \"y\"}, {\"hovertemplate\": \"wineName=Chateau Margaux Premier Cru Classe, Margaux<br>variety=%{x}<br>mk_price_minus_bmk_price=%{y}<br>benchmarkTradePrice=%{marker.size}<extra></extra>\", \"legendgroup\": \"Chateau Margaux Premier Cru Classe, Margaux\", \"marker\": {\"color\": \"#00cc96\", \"size\": [3800, 3700, 6116, 4400, 3480, 3880, 3520, 9844, 3684, 5922, 4116, 3525, 7086, 4800, 3690, 3560, 5238, 5150, 4160], \"sizemode\": \"area\", \"sizeref\": 46.875, \"symbol\": \"circle\"}, \"mode\": \"markers\", \"name\": \"Chateau Margaux Premier Cru Classe, Margaux\", \"orientation\": \"v\", \"showlegend\": true, \"type\": \"scatter\", \"x\": [\"Proprietary Blend\", \"Proprietary Blend\", \"Proprietary Blend\", \"Proprietary Blend\", \"Proprietary Blend\", \"Proprietary Blend\", \"Proprietary Blend\", \"Proprietary Blend\", \"Proprietary Blend\", \"Proprietary Blend\", \"Proprietary Blend\", \"Proprietary Blend\", \"Proprietary Blend\", \"Proprietary Blend\", \"Proprietary Blend\", \"Proprietary Blend\", \"Proprietary Blend\", \"Proprietary Blend\", \"Proprietary Blend\"], \"xaxis\": \"x\", \"y\": [110, 0, 134, 0, 240, 40, 180, 656, 216, 328, -290, 35, -256, 50, 68, 240, 177, 265, 660], \"yaxis\": \"y\"}, {\"hovertemplate\": \"wineName=Domaine Leflaive, Chevalier-Montrachet Grand Cru<br>variety=%{x}<br>mk_price_minus_bmk_price=%{y}<br>benchmarkTradePrice=%{marker.size}<extra></extra>\", \"legendgroup\": \"Domaine Leflaive, Chevalier-Montrachet Grand Cru\", \"marker\": {\"color\": \"#ab63fa\", \"size\": [6974, 8000, 5360, 7330, 5960, 7124, 1730, 7900, 6405, 3920, 4500, 4400, 5700, 5400, 6500, 8540], \"sizemode\": \"area\", \"sizeref\": 46.875, \"symbol\": \"circle\"}, \"mode\": \"markers\", \"name\": \"Domaine Leflaive, Chevalier-Montrachet Grand Cru\", \"orientation\": \"v\", \"showlegend\": true, \"type\": \"scatter\", \"x\": [\"Chardonnay\", \"Chardonnay\", \"Chardonnay\", \"Chardonnay\", \"Chardonnay\", \"Chardonnay\", \"Chardonnay\", \"Chardonnay\", \"Chardonnay\", \"Chardonnay\", \"Chardonnay\", \"Chardonnay\", \"Chardonnay\", \"Chardonnay\", \"Chardonnay\", \"Chardonnay\"], \"xaxis\": \"x\", \"y\": [1026, 1950, 1640, 470, 2440, 782, 5070, -1504, 495, 2632, 1860, 1200, 2700, 3600, -500, -728], \"yaxis\": \"y\"}, {\"hovertemplate\": \"wineName=Tua Rita, Giusto di Notri, Toscana<br>variety=%{x}<br>mk_price_minus_bmk_price=%{y}<br>benchmarkTradePrice=%{marker.size}<extra></extra>\", \"legendgroup\": \"Tua Rita, Giusto di Notri, Toscana\", \"marker\": {\"color\": \"#FFA15A\", \"size\": [420, 351, 460, 390, 300, 342, 388, 380, 320, 544, 408], \"sizemode\": \"area\", \"sizeref\": 46.875, \"symbol\": \"circle\"}, \"mode\": \"markers\", \"name\": \"Tua Rita, Giusto di Notri, Toscana\", \"orientation\": \"v\", \"showlegend\": true, \"type\": \"scatter\", \"x\": [\"Proprietary Blend\", \"Proprietary Blend\", \"Proprietary Blend\", \"Proprietary Blend\", \"Proprietary Blend\", \"Proprietary Blend\", \"Proprietary Blend\", \"Proprietary Blend\", \"Proprietary Blend\", \"Proprietary Blend\", \"Proprietary Blend\"], \"xaxis\": \"x\", \"y\": [40, 223, 60, 270, 240, 78, 87, 100, 167, -4, 192], \"yaxis\": \"y\"}, {\"hovertemplate\": \"wineName=Chateau Calon Segur 3eme Cru Classe, Saint-Estephe<br>variety=%{x}<br>mk_price_minus_bmk_price=%{y}<br>benchmarkTradePrice=%{marker.size}<extra></extra>\", \"legendgroup\": \"Chateau Calon Segur 3eme Cru Classe, Saint-Estephe\", \"marker\": {\"color\": \"#19d3f3\", \"size\": [682, 950, 760, 1048, 705, 800, 745, 805, 988, 863, 990, 790, 1026, 725, 860, 781, 735, 842, 794], \"sizemode\": \"area\", \"sizeref\": 46.875, \"symbol\": \"circle\"}, \"mode\": \"markers\", \"name\": \"Chateau Calon Segur 3eme Cru Classe, Saint-Estephe\", \"orientation\": \"v\", \"showlegend\": true, \"type\": \"scatter\", \"x\": [\"Proprietary Blend\", \"Proprietary Blend\", \"Proprietary Blend\", \"Proprietary Blend\", \"Proprietary Blend\", \"Proprietary Blend\", \"Proprietary Blend\", \"Proprietary Blend\", \"Proprietary Blend\", \"Proprietary Blend\", \"Proprietary Blend\", \"Proprietary Blend\", \"Proprietary Blend\", \"Proprietary Blend\", \"Proprietary Blend\", \"Proprietary Blend\", \"Proprietary Blend\", \"Proprietary Blend\", \"Proprietary Blend\"], \"xaxis\": \"x\", \"y\": [98, 90, -22, 34, 165, 100, 55, 102, 12, 37, 0, -40, -51, 155, -10, 59, 85, 108, -4], \"yaxis\": \"y\"}, {\"hovertemplate\": \"wineName=Chateau Batailley 5eme Cru Classe, Pauillac<br>variety=%{x}<br>mk_price_minus_bmk_price=%{y}<br>benchmarkTradePrice=%{marker.size}<extra></extra>\", \"legendgroup\": \"Chateau Batailley 5eme Cru Classe, Pauillac\", \"marker\": {\"color\": \"#FF6692\", \"size\": [220, 420, 300, 450, 532, 340, 332, 504, 494, 300, 355, 304, 324, 360, 312, 357, 465], \"sizemode\": \"area\", \"sizeref\": 46.875, \"symbol\": \"circle\"}, \"mode\": \"markers\", \"name\": \"Chateau Batailley 5eme Cru Classe, Pauillac\", \"orientation\": \"v\", \"showlegend\": true, \"type\": \"scatter\", \"x\": [\"Proprietary Blend\", \"Proprietary Blend\", \"Proprietary Blend\", \"Proprietary Blend\", \"Proprietary Blend\", \"Proprietary Blend\", \"Proprietary Blend\", \"Proprietary Blend\", \"Proprietary Blend\", \"Proprietary Blend\", \"Proprietary Blend\", \"Proprietary Blend\", \"Proprietary Blend\", \"Proprietary Blend\", \"Proprietary Blend\", \"Proprietary Blend\", \"Proprietary Blend\"], \"xaxis\": \"x\", \"y\": [230, 130, 225, 80, -112, 110, 68, -14, -4, 100, 45, -4, 26, 117, 184, 51, 3], \"yaxis\": \"y\"}, {\"hovertemplate\": \"wineName=Jacques-Frederic Mugnier, Chambolle-Musigny Premier Cru, Les Amoureuses<br>variety=%{x}<br>mk_price_minus_bmk_price=%{y}<br>benchmarkTradePrice=%{marker.size}<extra></extra>\", \"legendgroup\": \"Jacques-Frederic Mugnier, Chambolle-Musigny Premier Cru, Les Amoureuses\", \"marker\": {\"color\": \"#B6E880\", \"size\": [18750, 12000, 6538, 12850, 13000], \"sizemode\": \"area\", \"sizeref\": 46.875, \"symbol\": \"circle\"}, \"mode\": \"markers\", \"name\": \"Jacques-Frederic Mugnier, Chambolle-Musigny Premier Cru, Les Amoureuses\", \"orientation\": \"v\", \"showlegend\": true, \"type\": \"scatter\", \"x\": [\"Pinot Noir\", \"Pinot Noir\", \"Pinot Noir\", \"Pinot Noir\", \"Pinot Noir\"], \"xaxis\": \"x\", \"y\": [-3984, 2520, 10642, -448, 4000], \"yaxis\": \"y\"}, {\"hovertemplate\": \"wineName=Domaine Denis Mortet, Chambertin Grand Cru<br>variety=%{x}<br>mk_price_minus_bmk_price=%{y}<br>benchmarkTradePrice=%{marker.size}<extra></extra>\", \"legendgroup\": \"Domaine Denis Mortet, Chambertin Grand Cru\", \"marker\": {\"color\": \"#FF97FF\", \"size\": [7200, 4000, 7290], \"sizemode\": \"area\", \"sizeref\": 46.875, \"symbol\": \"circle\"}, \"mode\": \"markers\", \"name\": \"Domaine Denis Mortet, Chambertin Grand Cru\", \"orientation\": \"v\", \"showlegend\": true, \"type\": \"scatter\", \"x\": [\"Pinot Noir\", \"Pinot Noir\", \"Pinot Noir\"], \"xaxis\": \"x\", \"y\": [1200, 6650, 726], \"yaxis\": \"y\"}, {\"hovertemplate\": \"wineName=Chateau Angelus Premier Grand Cru Classe B, Saint-Emilion Grand Cru<br>variety=%{x}<br>mk_price_minus_bmk_price=%{y}<br>benchmarkTradePrice=%{marker.size}<extra></extra>\", \"legendgroup\": \"Chateau Angelus Premier Grand Cru Classe B, Saint-Emilion Grand Cru\", \"marker\": {\"color\": \"#FECB52\", \"size\": [3101, 2610, 3155, 2378, 4550, 2650, 2500, 2505, 3000, 3350, 2000], \"sizemode\": \"area\", \"sizeref\": 46.875, \"symbol\": \"circle\"}, \"mode\": \"markers\", \"name\": \"Chateau Angelus Premier Grand Cru Classe B, Saint-Emilion Grand Cru\", \"orientation\": \"v\", \"showlegend\": true, \"type\": \"scatter\", \"x\": [\"Proprietary Blend\", \"Proprietary Blend\", \"Proprietary Blend\", \"Proprietary Blend\", \"Proprietary Blend\", \"Proprietary Blend\", \"Proprietary Blend\", \"Proprietary Blend\", \"Proprietary Blend\", \"Proprietary Blend\", \"Proprietary Blend\"], \"xaxis\": \"x\", \"y\": [499, 363, 145, 442, -125, 250, 190, 245, 295, 50, 590], \"yaxis\": \"y\"}, {\"hovertemplate\": \"wineName=Chateau Angelus Premier Grand Cru Classe A, Saint-Emilion Grand Cru<br>variety=%{x}<br>mk_price_minus_bmk_price=%{y}<br>benchmarkTradePrice=%{marker.size}<extra></extra>\", \"legendgroup\": \"Chateau Angelus Premier Grand Cru Classe A, Saint-Emilion Grand Cru\", \"marker\": {\"color\": \"#636efa\", \"size\": [3605, 2000, 2260, 2500, 2844, 2458, 3120, 2402], \"sizemode\": \"area\", \"sizeref\": 46.875, \"symbol\": \"circle\"}, \"mode\": \"markers\", \"name\": \"Chateau Angelus Premier Grand Cru Classe A, Saint-Emilion Grand Cru\", \"orientation\": \"v\", \"showlegend\": true, \"type\": \"scatter\", \"x\": [\"Proprietary Blend\", \"Proprietary Blend\", \"Proprietary Blend\", \"Proprietary Blend\", \"Proprietary Blend\", \"Proprietary Blend\", \"Proprietary Blend\", \"Proprietary Blend\"], \"xaxis\": \"x\", \"y\": [195, 300, 100, 80, 116, 272, 24, 359], \"yaxis\": \"y\"}],                        {\"legend\": {\"itemsizing\": \"constant\", \"title\": {\"text\": \"wineName\"}, \"tracegroupgap\": 0}, \"margin\": {\"t\": 60}, \"template\": {\"data\": {\"bar\": [{\"error_x\": {\"color\": \"#2a3f5f\"}, \"error_y\": {\"color\": \"#2a3f5f\"}, \"marker\": {\"line\": {\"color\": \"#E5ECF6\", \"width\": 0.5}}, \"type\": \"bar\"}], \"barpolar\": [{\"marker\": {\"line\": {\"color\": \"#E5ECF6\", \"width\": 0.5}}, \"type\": \"barpolar\"}], \"carpet\": [{\"aaxis\": {\"endlinecolor\": \"#2a3f5f\", \"gridcolor\": \"white\", \"linecolor\": \"white\", \"minorgridcolor\": \"white\", \"startlinecolor\": \"#2a3f5f\"}, \"baxis\": {\"endlinecolor\": \"#2a3f5f\", \"gridcolor\": \"white\", \"linecolor\": \"white\", \"minorgridcolor\": \"white\", \"startlinecolor\": \"#2a3f5f\"}, \"type\": \"carpet\"}], \"choropleth\": [{\"colorbar\": {\"outlinewidth\": 0, \"ticks\": \"\"}, \"type\": \"choropleth\"}], \"contour\": [{\"colorbar\": {\"outlinewidth\": 0, \"ticks\": \"\"}, \"colorscale\": [[0.0, \"#0d0887\"], [0.1111111111111111, \"#46039f\"], [0.2222222222222222, \"#7201a8\"], [0.3333333333333333, \"#9c179e\"], [0.4444444444444444, \"#bd3786\"], [0.5555555555555556, \"#d8576b\"], [0.6666666666666666, \"#ed7953\"], [0.7777777777777778, \"#fb9f3a\"], [0.8888888888888888, \"#fdca26\"], [1.0, \"#f0f921\"]], \"type\": \"contour\"}], \"contourcarpet\": [{\"colorbar\": {\"outlinewidth\": 0, \"ticks\": \"\"}, \"type\": \"contourcarpet\"}], \"heatmap\": [{\"colorbar\": {\"outlinewidth\": 0, \"ticks\": \"\"}, \"colorscale\": [[0.0, \"#0d0887\"], [0.1111111111111111, \"#46039f\"], [0.2222222222222222, \"#7201a8\"], [0.3333333333333333, \"#9c179e\"], [0.4444444444444444, \"#bd3786\"], [0.5555555555555556, \"#d8576b\"], [0.6666666666666666, \"#ed7953\"], [0.7777777777777778, \"#fb9f3a\"], [0.8888888888888888, \"#fdca26\"], [1.0, \"#f0f921\"]], \"type\": \"heatmap\"}], \"heatmapgl\": [{\"colorbar\": {\"outlinewidth\": 0, \"ticks\": \"\"}, \"colorscale\": [[0.0, \"#0d0887\"], [0.1111111111111111, \"#46039f\"], [0.2222222222222222, \"#7201a8\"], [0.3333333333333333, \"#9c179e\"], [0.4444444444444444, \"#bd3786\"], [0.5555555555555556, \"#d8576b\"], [0.6666666666666666, \"#ed7953\"], [0.7777777777777778, \"#fb9f3a\"], [0.8888888888888888, \"#fdca26\"], [1.0, \"#f0f921\"]], \"type\": \"heatmapgl\"}], \"histogram\": [{\"marker\": {\"colorbar\": {\"outlinewidth\": 0, \"ticks\": \"\"}}, \"type\": \"histogram\"}], \"histogram2d\": [{\"colorbar\": {\"outlinewidth\": 0, \"ticks\": \"\"}, \"colorscale\": [[0.0, \"#0d0887\"], [0.1111111111111111, \"#46039f\"], [0.2222222222222222, \"#7201a8\"], [0.3333333333333333, \"#9c179e\"], [0.4444444444444444, \"#bd3786\"], [0.5555555555555556, \"#d8576b\"], [0.6666666666666666, \"#ed7953\"], [0.7777777777777778, \"#fb9f3a\"], [0.8888888888888888, \"#fdca26\"], [1.0, \"#f0f921\"]], \"type\": \"histogram2d\"}], \"histogram2dcontour\": [{\"colorbar\": {\"outlinewidth\": 0, \"ticks\": \"\"}, \"colorscale\": [[0.0, \"#0d0887\"], [0.1111111111111111, \"#46039f\"], [0.2222222222222222, \"#7201a8\"], [0.3333333333333333, \"#9c179e\"], [0.4444444444444444, \"#bd3786\"], [0.5555555555555556, \"#d8576b\"], [0.6666666666666666, \"#ed7953\"], [0.7777777777777778, \"#fb9f3a\"], [0.8888888888888888, \"#fdca26\"], [1.0, \"#f0f921\"]], \"type\": \"histogram2dcontour\"}], \"mesh3d\": [{\"colorbar\": {\"outlinewidth\": 0, \"ticks\": \"\"}, \"type\": \"mesh3d\"}], \"parcoords\": [{\"line\": {\"colorbar\": {\"outlinewidth\": 0, \"ticks\": \"\"}}, \"type\": \"parcoords\"}], \"pie\": [{\"automargin\": true, \"type\": \"pie\"}], \"scatter\": [{\"marker\": {\"colorbar\": {\"outlinewidth\": 0, \"ticks\": \"\"}}, \"type\": \"scatter\"}], \"scatter3d\": [{\"line\": {\"colorbar\": {\"outlinewidth\": 0, \"ticks\": \"\"}}, \"marker\": {\"colorbar\": {\"outlinewidth\": 0, \"ticks\": \"\"}}, \"type\": \"scatter3d\"}], \"scattercarpet\": [{\"marker\": {\"colorbar\": {\"outlinewidth\": 0, \"ticks\": \"\"}}, \"type\": \"scattercarpet\"}], \"scattergeo\": [{\"marker\": {\"colorbar\": {\"outlinewidth\": 0, \"ticks\": \"\"}}, \"type\": \"scattergeo\"}], \"scattergl\": [{\"marker\": {\"colorbar\": {\"outlinewidth\": 0, \"ticks\": \"\"}}, \"type\": \"scattergl\"}], \"scattermapbox\": [{\"marker\": {\"colorbar\": {\"outlinewidth\": 0, \"ticks\": \"\"}}, \"type\": \"scattermapbox\"}], \"scatterpolar\": [{\"marker\": {\"colorbar\": {\"outlinewidth\": 0, \"ticks\": \"\"}}, \"type\": \"scatterpolar\"}], \"scatterpolargl\": [{\"marker\": {\"colorbar\": {\"outlinewidth\": 0, \"ticks\": \"\"}}, \"type\": \"scatterpolargl\"}], \"scatterternary\": [{\"marker\": {\"colorbar\": {\"outlinewidth\": 0, \"ticks\": \"\"}}, \"type\": \"scatterternary\"}], \"surface\": [{\"colorbar\": {\"outlinewidth\": 0, \"ticks\": \"\"}, \"colorscale\": [[0.0, \"#0d0887\"], [0.1111111111111111, \"#46039f\"], [0.2222222222222222, \"#7201a8\"], [0.3333333333333333, \"#9c179e\"], [0.4444444444444444, \"#bd3786\"], [0.5555555555555556, \"#d8576b\"], [0.6666666666666666, \"#ed7953\"], [0.7777777777777778, \"#fb9f3a\"], [0.8888888888888888, \"#fdca26\"], [1.0, \"#f0f921\"]], \"type\": \"surface\"}], \"table\": [{\"cells\": {\"fill\": {\"color\": \"#EBF0F8\"}, \"line\": {\"color\": \"white\"}}, \"header\": {\"fill\": {\"color\": \"#C8D4E3\"}, \"line\": {\"color\": \"white\"}}, \"type\": \"table\"}]}, \"layout\": {\"annotationdefaults\": {\"arrowcolor\": \"#2a3f5f\", \"arrowhead\": 0, \"arrowwidth\": 1}, \"autotypenumbers\": \"strict\", \"coloraxis\": {\"colorbar\": {\"outlinewidth\": 0, \"ticks\": \"\"}}, \"colorscale\": {\"diverging\": [[0, \"#8e0152\"], [0.1, \"#c51b7d\"], [0.2, \"#de77ae\"], [0.3, \"#f1b6da\"], [0.4, \"#fde0ef\"], [0.5, \"#f7f7f7\"], [0.6, \"#e6f5d0\"], [0.7, \"#b8e186\"], [0.8, \"#7fbc41\"], [0.9, \"#4d9221\"], [1, \"#276419\"]], \"sequential\": [[0.0, \"#0d0887\"], [0.1111111111111111, \"#46039f\"], [0.2222222222222222, \"#7201a8\"], [0.3333333333333333, \"#9c179e\"], [0.4444444444444444, \"#bd3786\"], [0.5555555555555556, \"#d8576b\"], [0.6666666666666666, \"#ed7953\"], [0.7777777777777778, \"#fb9f3a\"], [0.8888888888888888, \"#fdca26\"], [1.0, \"#f0f921\"]], \"sequentialminus\": [[0.0, \"#0d0887\"], [0.1111111111111111, \"#46039f\"], [0.2222222222222222, \"#7201a8\"], [0.3333333333333333, \"#9c179e\"], [0.4444444444444444, \"#bd3786\"], [0.5555555555555556, \"#d8576b\"], [0.6666666666666666, \"#ed7953\"], [0.7777777777777778, \"#fb9f3a\"], [0.8888888888888888, \"#fdca26\"], [1.0, \"#f0f921\"]]}, \"colorway\": [\"#636efa\", \"#EF553B\", \"#00cc96\", \"#ab63fa\", \"#FFA15A\", \"#19d3f3\", \"#FF6692\", \"#B6E880\", \"#FF97FF\", \"#FECB52\"], \"font\": {\"color\": \"#2a3f5f\"}, \"geo\": {\"bgcolor\": \"white\", \"lakecolor\": \"white\", \"landcolor\": \"#E5ECF6\", \"showlakes\": true, \"showland\": true, \"subunitcolor\": \"white\"}, \"hoverlabel\": {\"align\": \"left\"}, \"hovermode\": \"closest\", \"mapbox\": {\"style\": \"light\"}, \"paper_bgcolor\": \"white\", \"plot_bgcolor\": \"#E5ECF6\", \"polar\": {\"angularaxis\": {\"gridcolor\": \"white\", \"linecolor\": \"white\", \"ticks\": \"\"}, \"bgcolor\": \"#E5ECF6\", \"radialaxis\": {\"gridcolor\": \"white\", \"linecolor\": \"white\", \"ticks\": \"\"}}, \"scene\": {\"xaxis\": {\"backgroundcolor\": \"#E5ECF6\", \"gridcolor\": \"white\", \"gridwidth\": 2, \"linecolor\": \"white\", \"showbackground\": true, \"ticks\": \"\", \"zerolinecolor\": \"white\"}, \"yaxis\": {\"backgroundcolor\": \"#E5ECF6\", \"gridcolor\": \"white\", \"gridwidth\": 2, \"linecolor\": \"white\", \"showbackground\": true, \"ticks\": \"\", \"zerolinecolor\": \"white\"}, \"zaxis\": {\"backgroundcolor\": \"#E5ECF6\", \"gridcolor\": \"white\", \"gridwidth\": 2, \"linecolor\": \"white\", \"showbackground\": true, \"ticks\": \"\", \"zerolinecolor\": \"white\"}}, \"shapedefaults\": {\"line\": {\"color\": \"#2a3f5f\"}}, \"ternary\": {\"aaxis\": {\"gridcolor\": \"white\", \"linecolor\": \"white\", \"ticks\": \"\"}, \"baxis\": {\"gridcolor\": \"white\", \"linecolor\": \"white\", \"ticks\": \"\"}, \"bgcolor\": \"#E5ECF6\", \"caxis\": {\"gridcolor\": \"white\", \"linecolor\": \"white\", \"ticks\": \"\"}}, \"title\": {\"x\": 0.05}, \"xaxis\": {\"automargin\": true, \"gridcolor\": \"white\", \"linecolor\": \"white\", \"ticks\": \"\", \"title\": {\"standoff\": 15}, \"zerolinecolor\": \"white\", \"zerolinewidth\": 2}, \"yaxis\": {\"automargin\": true, \"gridcolor\": \"white\", \"linecolor\": \"white\", \"ticks\": \"\", \"title\": {\"standoff\": 15}, \"zerolinecolor\": \"white\", \"zerolinewidth\": 2}}}, \"xaxis\": {\"anchor\": \"y\", \"domain\": [0.0, 1.0], \"title\": {\"text\": \"variety\"}}, \"yaxis\": {\"anchor\": \"x\", \"domain\": [0.0, 1.0], \"title\": {\"text\": \"mk_price_minus_bmk_price\"}}},                        {\"responsive\": true}                    ).then(function(){\n",
       "                            \n",
       "var gd = document.getElementById('0b01db23-b117-4295-8f8f-ada4b49ecc58');\n",
       "var x = new MutationObserver(function (mutations, observer) {{\n",
       "        var display = window.getComputedStyle(gd).display;\n",
       "        if (!display || display === 'none') {{\n",
       "            console.log([gd, 'removed!']);\n",
       "            Plotly.purge(gd);\n",
       "            observer.disconnect();\n",
       "        }}\n",
       "}});\n",
       "\n",
       "// Listen for the removal of the full notebook cells\n",
       "var notebookContainer = gd.closest('#notebook-container');\n",
       "if (notebookContainer) {{\n",
       "    x.observe(notebookContainer, {childList: true});\n",
       "}}\n",
       "\n",
       "// Listen for the clearing of the current output cell\n",
       "var outputEl = gd.closest('.output');\n",
       "if (outputEl) {{\n",
       "    x.observe(outputEl, {childList: true});\n",
       "}}\n",
       "\n",
       "                        })                };                });            </script>        </div>"
      ]
     },
     "metadata": {},
     "output_type": "display_data"
    }
   ],
   "source": [
    "variety = px.scatter(merge, x=\"variety\", y=\"mk_price_minus_bmk_price\", color=\"wineName\", size=\"benchmarkTradePrice\")\n",
    "variety.show()"
   ]
  },
  {
   "cell_type": "markdown",
   "metadata": {},
   "source": [
    "### Average List Quantity\n",
    "#### You can see the wines below, facetted by region. Wines are displayed by average list quantity against market price. This graphic really distinguishes the clusters the wines sit in, according to the location name. Burgundies have very small list quantities and they command the higher market price of any other regions. For Margaux and St_Emillion, market price does seem to decrease as average list quanitity increases. This is also loosely the case for the other wines, expect Pauillac and St Estephe wines."
   ]
  },
  {
   "cell_type": "code",
   "execution_count": 53,
   "metadata": {},
   "outputs": [
    {
     "data": {
      "application/vnd.plotly.v1+json": {
       "config": {
        "plotlyServerURL": "https://plot.ly"
       },
       "data": [
        {
         "hovertemplate": "location_name=Barbaresco<br>region=Piedmont<br>averageListQty=%{x}<br>marketPrice=%{y}<br>benchmarkTradePrice=%{marker.size}<extra></extra>",
         "legendgroup": "Barbaresco",
         "marker": {
          "color": "#636efa",
          "size": [
           1356,
           1180,
           1300,
           1145,
           2220,
           2190,
           1340,
           1440,
           1352,
           1300,
           1260,
           2554,
           1408,
           1276,
           1300,
           1330
          ],
          "sizemode": "area",
          "sizeref": 46.875,
          "symbol": "circle"
         },
         "mode": "markers",
         "name": "Barbaresco",
         "orientation": "v",
         "showlegend": true,
         "type": "scatter",
         "x": [
          73,
          1,
          2,
          1,
          3,
          4,
          2,
          2,
          7,
          1,
          61,
          1,
          36,
          10,
          12,
          0
         ],
         "xaxis": "x",
         "y": [
          1480,
          1850,
          1800,
          1596,
          2500,
          2260,
          2199,
          1800,
          1350,
          1550,
          1350,
          2872,
          1500,
          1400,
          1299,
          1755
         ],
         "yaxis": "y"
        },
        {
         "hovertemplate": "location_name=Toscana<br>region=Tuscany<br>averageListQty=%{x}<br>marketPrice=%{y}<br>benchmarkTradePrice=%{marker.size}<extra></extra>",
         "legendgroup": "Toscana",
         "marker": {
          "color": "#EF553B",
          "size": [
           1204,
           420,
           1150,
           351,
           460,
           390,
           300,
           1378,
           1238,
           1072,
           1170,
           860,
           850,
           1010,
           830,
           1082,
           1200,
           860,
           1180,
           800,
           342,
           882,
           388,
           920,
           380,
           320,
           544,
           408
          ],
          "sizemode": "area",
          "sizeref": 46.875,
          "symbol": "circle"
         },
         "mode": "markers",
         "name": "Toscana",
         "orientation": "v",
         "showlegend": true,
         "type": "scatter",
         "x": [
          12,
          154,
          2,
          1,
          3,
          5,
          2,
          4,
          4,
          4,
          4,
          9,
          13,
          9,
          45,
          123,
          3,
          12,
          4,
          165,
          10,
          3,
          22,
          66,
          101,
          46,
          3,
          14
         ],
         "xaxis": "x2",
         "y": [
          1110,
          460,
          1408,
          574,
          520,
          660,
          540,
          1700,
          1408,
          1024,
          1326,
          958,
          960,
          1100,
          980,
          1200,
          1300,
          1000,
          1678,
          857,
          420,
          1245,
          475,
          870,
          480,
          487,
          540,
          600
         ],
         "yaxis": "y2"
        },
        {
         "hovertemplate": "location_name=Margaux<br>region=Bordeaux<br>averageListQty=%{x}<br>marketPrice=%{y}<br>benchmarkTradePrice=%{marker.size}<extra></extra>",
         "legendgroup": "Margaux",
         "marker": {
          "color": "#00cc96",
          "size": [
           3800,
           3700,
           6116,
           4400,
           3480,
           3880,
           3520,
           9844,
           3684,
           5922,
           4116,
           3525,
           7086,
           4800,
           3690,
           3560,
           5238,
           5150,
           4160
          ],
          "sizemode": "area",
          "sizeref": 46.875,
          "symbol": "circle"
         },
         "mode": "markers",
         "name": "Margaux",
         "orientation": "v",
         "showlegend": true,
         "type": "scatter",
         "x": [
          77,
          150,
          45,
          23,
          50,
          74,
          24,
          62,
          27,
          53,
          54,
          37,
          50,
          22,
          75,
          81,
          96,
          140,
          7
         ],
         "xaxis": "x3",
         "y": [
          3910,
          3700,
          6250,
          4400,
          3720,
          3920,
          3700,
          10500,
          3900,
          6250,
          3826,
          3560,
          6830,
          4850,
          3758,
          3800,
          5415,
          5415,
          4820
         ],
         "yaxis": "y3"
        },
        {
         "hovertemplate": "location_name=Cote de Beaune<br>region=Burgundy<br>averageListQty=%{x}<br>marketPrice=%{y}<br>benchmarkTradePrice=%{marker.size}<extra></extra>",
         "legendgroup": "Cote de Beaune",
         "marker": {
          "color": "#ab63fa",
          "size": [
           6974,
           8000,
           5360,
           7330,
           5960,
           7124,
           1730,
           7900,
           6405,
           3920,
           4500,
           4400,
           5700,
           5400,
           6500,
           8540
          ],
          "sizemode": "area",
          "sizeref": 46.875,
          "symbol": "circle"
         },
         "mode": "markers",
         "name": "Cote de Beaune",
         "orientation": "v",
         "showlegend": true,
         "type": "scatter",
         "x": [
          8,
          3,
          1,
          8,
          1,
          2,
          1,
          3,
          0,
          0,
          1,
          1,
          1,
          1,
          1,
          0
         ],
         "xaxis": "x4",
         "y": [
          8000,
          9950,
          7000,
          7800,
          8400,
          7906,
          6800,
          6396,
          6900,
          6552,
          6360,
          5600,
          8400,
          9000,
          6000,
          7812
         ],
         "yaxis": "y4"
        },
        {
         "hovertemplate": "location_name=Saint-Estephe<br>region=Bordeaux<br>averageListQty=%{x}<br>marketPrice=%{y}<br>benchmarkTradePrice=%{marker.size}<extra></extra>",
         "legendgroup": "Saint-Estephe",
         "marker": {
          "color": "#FFA15A",
          "size": [
           682,
           950,
           760,
           1048,
           705,
           800,
           745,
           805,
           988,
           863,
           990,
           790,
           1026,
           725,
           860,
           781,
           735,
           842,
           794
          ],
          "sizemode": "area",
          "sizeref": 46.875,
          "symbol": "circle"
         },
         "mode": "markers",
         "name": "Saint-Estephe",
         "orientation": "v",
         "showlegend": true,
         "type": "scatter",
         "x": [
          6,
          49,
          104,
          64,
          5,
          20,
          18,
          18,
          87,
          41,
          16,
          36,
          49,
          9,
          94,
          15,
          6,
          27,
          41
         ],
         "xaxis": "x3",
         "y": [
          780,
          1040,
          738,
          1082,
          870,
          900,
          800,
          907,
          1000,
          900,
          990,
          750,
          975,
          880,
          850,
          840,
          820,
          950,
          790
         ],
         "yaxis": "y3"
        },
        {
         "hovertemplate": "location_name=Pauillac<br>region=Bordeaux<br>averageListQty=%{x}<br>marketPrice=%{y}<br>benchmarkTradePrice=%{marker.size}<extra></extra>",
         "legendgroup": "Pauillac",
         "marker": {
          "color": "#19d3f3",
          "size": [
           220,
           420,
           300,
           450,
           532,
           340,
           332,
           504,
           494,
           300,
           355,
           304,
           324,
           360,
           312,
           357,
           465
          ],
          "sizemode": "area",
          "sizeref": 46.875,
          "symbol": "circle"
         },
         "mode": "markers",
         "name": "Pauillac",
         "orientation": "v",
         "showlegend": true,
         "type": "scatter",
         "x": [
          1,
          3,
          2,
          49,
          6,
          1,
          5,
          24,
          406,
          6,
          9,
          108,
          98,
          45,
          35,
          20,
          2
         ],
         "xaxis": "x3",
         "y": [
          450,
          550,
          525,
          530,
          420,
          450,
          400,
          490,
          490,
          400,
          400,
          300,
          350,
          477,
          496,
          408,
          468
         ],
         "yaxis": "y3"
        },
        {
         "hovertemplate": "location_name=Cote de Nuits<br>region=Burgundy<br>averageListQty=%{x}<br>marketPrice=%{y}<br>benchmarkTradePrice=%{marker.size}<extra></extra>",
         "legendgroup": "Cote de Nuits",
         "marker": {
          "color": "#FF6692",
          "size": [
           18750,
           12000,
           6538,
           7200,
           12850,
           13000,
           4000,
           7290
          ],
          "sizemode": "area",
          "sizeref": 46.875,
          "symbol": "circle"
         },
         "mode": "markers",
         "name": "Cote de Nuits",
         "orientation": "v",
         "showlegend": true,
         "type": "scatter",
         "x": [
          0,
          1,
          0,
          0,
          2,
          7,
          1,
          3
         ],
         "xaxis": "x4",
         "y": [
          14766,
          14520,
          17180,
          8400,
          12402,
          17000,
          10650,
          8016
         ],
         "yaxis": "y4"
        },
        {
         "hovertemplate": "location_name=Saint-Émilion<br>region=Bordeaux<br>averageListQty=%{x}<br>marketPrice=%{y}<br>benchmarkTradePrice=%{marker.size}<extra></extra>",
         "legendgroup": "Saint-Émilion",
         "marker": {
          "color": "#B6E880",
          "size": [
           3101,
           2610,
           3155,
           2378,
           4550,
           2650,
           2500,
           2505,
           3000,
           3350,
           2000,
           3605,
           2000,
           2260,
           2500,
           2844,
           2458,
           3120,
           2402
          ],
          "sizemode": "area",
          "sizeref": 46.875,
          "symbol": "circle"
         },
         "mode": "markers",
         "name": "Saint-Émilion",
         "orientation": "v",
         "showlegend": true,
         "type": "scatter",
         "x": [
          2,
          9,
          10,
          9,
          45,
          13,
          5,
          14,
          32,
          28,
          151,
          42,
          34,
          193,
          56,
          143,
          95,
          71,
          38
         ],
         "xaxis": "x3",
         "y": [
          3600,
          2973,
          3300,
          2820,
          4425,
          2900,
          2690,
          2750,
          3295,
          3400,
          2590,
          3800,
          2300,
          2360,
          2580,
          2960,
          2730,
          3144,
          2761
         ],
         "yaxis": "y3"
        }
       ],
       "layout": {
        "annotations": [
         {
          "font": {},
          "showarrow": false,
          "text": "region=Piedmont",
          "x": 0.1175,
          "xanchor": "center",
          "xref": "paper",
          "y": 1,
          "yanchor": "bottom",
          "yref": "paper"
         },
         {
          "font": {},
          "showarrow": false,
          "text": "region=Tuscany",
          "x": 0.3725,
          "xanchor": "center",
          "xref": "paper",
          "y": 1,
          "yanchor": "bottom",
          "yref": "paper"
         },
         {
          "font": {},
          "showarrow": false,
          "text": "region=Bordeaux",
          "x": 0.6275,
          "xanchor": "center",
          "xref": "paper",
          "y": 1,
          "yanchor": "bottom",
          "yref": "paper"
         },
         {
          "font": {},
          "showarrow": false,
          "text": "region=Burgundy",
          "x": 0.8824999999999998,
          "xanchor": "center",
          "xref": "paper",
          "y": 1,
          "yanchor": "bottom",
          "yref": "paper"
         }
        ],
        "legend": {
         "itemsizing": "constant",
         "title": {
          "text": "location_name"
         },
         "tracegroupgap": 0
        },
        "margin": {
         "t": 60
        },
        "template": {
         "data": {
          "bar": [
           {
            "error_x": {
             "color": "#2a3f5f"
            },
            "error_y": {
             "color": "#2a3f5f"
            },
            "marker": {
             "line": {
              "color": "#E5ECF6",
              "width": 0.5
             }
            },
            "type": "bar"
           }
          ],
          "barpolar": [
           {
            "marker": {
             "line": {
              "color": "#E5ECF6",
              "width": 0.5
             }
            },
            "type": "barpolar"
           }
          ],
          "carpet": [
           {
            "aaxis": {
             "endlinecolor": "#2a3f5f",
             "gridcolor": "white",
             "linecolor": "white",
             "minorgridcolor": "white",
             "startlinecolor": "#2a3f5f"
            },
            "baxis": {
             "endlinecolor": "#2a3f5f",
             "gridcolor": "white",
             "linecolor": "white",
             "minorgridcolor": "white",
             "startlinecolor": "#2a3f5f"
            },
            "type": "carpet"
           }
          ],
          "choropleth": [
           {
            "colorbar": {
             "outlinewidth": 0,
             "ticks": ""
            },
            "type": "choropleth"
           }
          ],
          "contour": [
           {
            "colorbar": {
             "outlinewidth": 0,
             "ticks": ""
            },
            "colorscale": [
             [
              0,
              "#0d0887"
             ],
             [
              0.1111111111111111,
              "#46039f"
             ],
             [
              0.2222222222222222,
              "#7201a8"
             ],
             [
              0.3333333333333333,
              "#9c179e"
             ],
             [
              0.4444444444444444,
              "#bd3786"
             ],
             [
              0.5555555555555556,
              "#d8576b"
             ],
             [
              0.6666666666666666,
              "#ed7953"
             ],
             [
              0.7777777777777778,
              "#fb9f3a"
             ],
             [
              0.8888888888888888,
              "#fdca26"
             ],
             [
              1,
              "#f0f921"
             ]
            ],
            "type": "contour"
           }
          ],
          "contourcarpet": [
           {
            "colorbar": {
             "outlinewidth": 0,
             "ticks": ""
            },
            "type": "contourcarpet"
           }
          ],
          "heatmap": [
           {
            "colorbar": {
             "outlinewidth": 0,
             "ticks": ""
            },
            "colorscale": [
             [
              0,
              "#0d0887"
             ],
             [
              0.1111111111111111,
              "#46039f"
             ],
             [
              0.2222222222222222,
              "#7201a8"
             ],
             [
              0.3333333333333333,
              "#9c179e"
             ],
             [
              0.4444444444444444,
              "#bd3786"
             ],
             [
              0.5555555555555556,
              "#d8576b"
             ],
             [
              0.6666666666666666,
              "#ed7953"
             ],
             [
              0.7777777777777778,
              "#fb9f3a"
             ],
             [
              0.8888888888888888,
              "#fdca26"
             ],
             [
              1,
              "#f0f921"
             ]
            ],
            "type": "heatmap"
           }
          ],
          "heatmapgl": [
           {
            "colorbar": {
             "outlinewidth": 0,
             "ticks": ""
            },
            "colorscale": [
             [
              0,
              "#0d0887"
             ],
             [
              0.1111111111111111,
              "#46039f"
             ],
             [
              0.2222222222222222,
              "#7201a8"
             ],
             [
              0.3333333333333333,
              "#9c179e"
             ],
             [
              0.4444444444444444,
              "#bd3786"
             ],
             [
              0.5555555555555556,
              "#d8576b"
             ],
             [
              0.6666666666666666,
              "#ed7953"
             ],
             [
              0.7777777777777778,
              "#fb9f3a"
             ],
             [
              0.8888888888888888,
              "#fdca26"
             ],
             [
              1,
              "#f0f921"
             ]
            ],
            "type": "heatmapgl"
           }
          ],
          "histogram": [
           {
            "marker": {
             "colorbar": {
              "outlinewidth": 0,
              "ticks": ""
             }
            },
            "type": "histogram"
           }
          ],
          "histogram2d": [
           {
            "colorbar": {
             "outlinewidth": 0,
             "ticks": ""
            },
            "colorscale": [
             [
              0,
              "#0d0887"
             ],
             [
              0.1111111111111111,
              "#46039f"
             ],
             [
              0.2222222222222222,
              "#7201a8"
             ],
             [
              0.3333333333333333,
              "#9c179e"
             ],
             [
              0.4444444444444444,
              "#bd3786"
             ],
             [
              0.5555555555555556,
              "#d8576b"
             ],
             [
              0.6666666666666666,
              "#ed7953"
             ],
             [
              0.7777777777777778,
              "#fb9f3a"
             ],
             [
              0.8888888888888888,
              "#fdca26"
             ],
             [
              1,
              "#f0f921"
             ]
            ],
            "type": "histogram2d"
           }
          ],
          "histogram2dcontour": [
           {
            "colorbar": {
             "outlinewidth": 0,
             "ticks": ""
            },
            "colorscale": [
             [
              0,
              "#0d0887"
             ],
             [
              0.1111111111111111,
              "#46039f"
             ],
             [
              0.2222222222222222,
              "#7201a8"
             ],
             [
              0.3333333333333333,
              "#9c179e"
             ],
             [
              0.4444444444444444,
              "#bd3786"
             ],
             [
              0.5555555555555556,
              "#d8576b"
             ],
             [
              0.6666666666666666,
              "#ed7953"
             ],
             [
              0.7777777777777778,
              "#fb9f3a"
             ],
             [
              0.8888888888888888,
              "#fdca26"
             ],
             [
              1,
              "#f0f921"
             ]
            ],
            "type": "histogram2dcontour"
           }
          ],
          "mesh3d": [
           {
            "colorbar": {
             "outlinewidth": 0,
             "ticks": ""
            },
            "type": "mesh3d"
           }
          ],
          "parcoords": [
           {
            "line": {
             "colorbar": {
              "outlinewidth": 0,
              "ticks": ""
             }
            },
            "type": "parcoords"
           }
          ],
          "pie": [
           {
            "automargin": true,
            "type": "pie"
           }
          ],
          "scatter": [
           {
            "marker": {
             "colorbar": {
              "outlinewidth": 0,
              "ticks": ""
             }
            },
            "type": "scatter"
           }
          ],
          "scatter3d": [
           {
            "line": {
             "colorbar": {
              "outlinewidth": 0,
              "ticks": ""
             }
            },
            "marker": {
             "colorbar": {
              "outlinewidth": 0,
              "ticks": ""
             }
            },
            "type": "scatter3d"
           }
          ],
          "scattercarpet": [
           {
            "marker": {
             "colorbar": {
              "outlinewidth": 0,
              "ticks": ""
             }
            },
            "type": "scattercarpet"
           }
          ],
          "scattergeo": [
           {
            "marker": {
             "colorbar": {
              "outlinewidth": 0,
              "ticks": ""
             }
            },
            "type": "scattergeo"
           }
          ],
          "scattergl": [
           {
            "marker": {
             "colorbar": {
              "outlinewidth": 0,
              "ticks": ""
             }
            },
            "type": "scattergl"
           }
          ],
          "scattermapbox": [
           {
            "marker": {
             "colorbar": {
              "outlinewidth": 0,
              "ticks": ""
             }
            },
            "type": "scattermapbox"
           }
          ],
          "scatterpolar": [
           {
            "marker": {
             "colorbar": {
              "outlinewidth": 0,
              "ticks": ""
             }
            },
            "type": "scatterpolar"
           }
          ],
          "scatterpolargl": [
           {
            "marker": {
             "colorbar": {
              "outlinewidth": 0,
              "ticks": ""
             }
            },
            "type": "scatterpolargl"
           }
          ],
          "scatterternary": [
           {
            "marker": {
             "colorbar": {
              "outlinewidth": 0,
              "ticks": ""
             }
            },
            "type": "scatterternary"
           }
          ],
          "surface": [
           {
            "colorbar": {
             "outlinewidth": 0,
             "ticks": ""
            },
            "colorscale": [
             [
              0,
              "#0d0887"
             ],
             [
              0.1111111111111111,
              "#46039f"
             ],
             [
              0.2222222222222222,
              "#7201a8"
             ],
             [
              0.3333333333333333,
              "#9c179e"
             ],
             [
              0.4444444444444444,
              "#bd3786"
             ],
             [
              0.5555555555555556,
              "#d8576b"
             ],
             [
              0.6666666666666666,
              "#ed7953"
             ],
             [
              0.7777777777777778,
              "#fb9f3a"
             ],
             [
              0.8888888888888888,
              "#fdca26"
             ],
             [
              1,
              "#f0f921"
             ]
            ],
            "type": "surface"
           }
          ],
          "table": [
           {
            "cells": {
             "fill": {
              "color": "#EBF0F8"
             },
             "line": {
              "color": "white"
             }
            },
            "header": {
             "fill": {
              "color": "#C8D4E3"
             },
             "line": {
              "color": "white"
             }
            },
            "type": "table"
           }
          ]
         },
         "layout": {
          "annotationdefaults": {
           "arrowcolor": "#2a3f5f",
           "arrowhead": 0,
           "arrowwidth": 1
          },
          "autotypenumbers": "strict",
          "coloraxis": {
           "colorbar": {
            "outlinewidth": 0,
            "ticks": ""
           }
          },
          "colorscale": {
           "diverging": [
            [
             0,
             "#8e0152"
            ],
            [
             0.1,
             "#c51b7d"
            ],
            [
             0.2,
             "#de77ae"
            ],
            [
             0.3,
             "#f1b6da"
            ],
            [
             0.4,
             "#fde0ef"
            ],
            [
             0.5,
             "#f7f7f7"
            ],
            [
             0.6,
             "#e6f5d0"
            ],
            [
             0.7,
             "#b8e186"
            ],
            [
             0.8,
             "#7fbc41"
            ],
            [
             0.9,
             "#4d9221"
            ],
            [
             1,
             "#276419"
            ]
           ],
           "sequential": [
            [
             0,
             "#0d0887"
            ],
            [
             0.1111111111111111,
             "#46039f"
            ],
            [
             0.2222222222222222,
             "#7201a8"
            ],
            [
             0.3333333333333333,
             "#9c179e"
            ],
            [
             0.4444444444444444,
             "#bd3786"
            ],
            [
             0.5555555555555556,
             "#d8576b"
            ],
            [
             0.6666666666666666,
             "#ed7953"
            ],
            [
             0.7777777777777778,
             "#fb9f3a"
            ],
            [
             0.8888888888888888,
             "#fdca26"
            ],
            [
             1,
             "#f0f921"
            ]
           ],
           "sequentialminus": [
            [
             0,
             "#0d0887"
            ],
            [
             0.1111111111111111,
             "#46039f"
            ],
            [
             0.2222222222222222,
             "#7201a8"
            ],
            [
             0.3333333333333333,
             "#9c179e"
            ],
            [
             0.4444444444444444,
             "#bd3786"
            ],
            [
             0.5555555555555556,
             "#d8576b"
            ],
            [
             0.6666666666666666,
             "#ed7953"
            ],
            [
             0.7777777777777778,
             "#fb9f3a"
            ],
            [
             0.8888888888888888,
             "#fdca26"
            ],
            [
             1,
             "#f0f921"
            ]
           ]
          },
          "colorway": [
           "#636efa",
           "#EF553B",
           "#00cc96",
           "#ab63fa",
           "#FFA15A",
           "#19d3f3",
           "#FF6692",
           "#B6E880",
           "#FF97FF",
           "#FECB52"
          ],
          "font": {
           "color": "#2a3f5f"
          },
          "geo": {
           "bgcolor": "white",
           "lakecolor": "white",
           "landcolor": "#E5ECF6",
           "showlakes": true,
           "showland": true,
           "subunitcolor": "white"
          },
          "hoverlabel": {
           "align": "left"
          },
          "hovermode": "closest",
          "mapbox": {
           "style": "light"
          },
          "paper_bgcolor": "white",
          "plot_bgcolor": "#E5ECF6",
          "polar": {
           "angularaxis": {
            "gridcolor": "white",
            "linecolor": "white",
            "ticks": ""
           },
           "bgcolor": "#E5ECF6",
           "radialaxis": {
            "gridcolor": "white",
            "linecolor": "white",
            "ticks": ""
           }
          },
          "scene": {
           "xaxis": {
            "backgroundcolor": "#E5ECF6",
            "gridcolor": "white",
            "gridwidth": 2,
            "linecolor": "white",
            "showbackground": true,
            "ticks": "",
            "zerolinecolor": "white"
           },
           "yaxis": {
            "backgroundcolor": "#E5ECF6",
            "gridcolor": "white",
            "gridwidth": 2,
            "linecolor": "white",
            "showbackground": true,
            "ticks": "",
            "zerolinecolor": "white"
           },
           "zaxis": {
            "backgroundcolor": "#E5ECF6",
            "gridcolor": "white",
            "gridwidth": 2,
            "linecolor": "white",
            "showbackground": true,
            "ticks": "",
            "zerolinecolor": "white"
           }
          },
          "shapedefaults": {
           "line": {
            "color": "#2a3f5f"
           }
          },
          "ternary": {
           "aaxis": {
            "gridcolor": "white",
            "linecolor": "white",
            "ticks": ""
           },
           "baxis": {
            "gridcolor": "white",
            "linecolor": "white",
            "ticks": ""
           },
           "bgcolor": "#E5ECF6",
           "caxis": {
            "gridcolor": "white",
            "linecolor": "white",
            "ticks": ""
           }
          },
          "title": {
           "x": 0.05
          },
          "xaxis": {
           "automargin": true,
           "gridcolor": "white",
           "linecolor": "white",
           "ticks": "",
           "title": {
            "standoff": 15
           },
           "zerolinecolor": "white",
           "zerolinewidth": 2
          },
          "yaxis": {
           "automargin": true,
           "gridcolor": "white",
           "linecolor": "white",
           "ticks": "",
           "title": {
            "standoff": 15
           },
           "zerolinecolor": "white",
           "zerolinewidth": 2
          }
         }
        },
        "xaxis": {
         "anchor": "y",
         "domain": [
          0,
          0.235
         ],
         "title": {
          "text": "averageListQty"
         }
        },
        "xaxis2": {
         "anchor": "y2",
         "domain": [
          0.255,
          0.49
         ],
         "matches": "x",
         "title": {
          "text": "averageListQty"
         }
        },
        "xaxis3": {
         "anchor": "y3",
         "domain": [
          0.51,
          0.745
         ],
         "matches": "x",
         "title": {
          "text": "averageListQty"
         }
        },
        "xaxis4": {
         "anchor": "y4",
         "domain": [
          0.7649999999999999,
          0.9999999999999999
         ],
         "matches": "x",
         "title": {
          "text": "averageListQty"
         }
        },
        "yaxis": {
         "anchor": "x",
         "domain": [
          0,
          1
         ],
         "title": {
          "text": "marketPrice"
         }
        },
        "yaxis2": {
         "anchor": "x2",
         "domain": [
          0,
          1
         ],
         "matches": "y",
         "showticklabels": false
        },
        "yaxis3": {
         "anchor": "x3",
         "domain": [
          0,
          1
         ],
         "matches": "y",
         "showticklabels": false
        },
        "yaxis4": {
         "anchor": "x4",
         "domain": [
          0,
          1
         ],
         "matches": "y",
         "showticklabels": false
        }
       }
      },
      "text/html": [
       "<div>                            <div id=\"fff08ffd-0ecd-4213-9c9b-206f9e566686\" class=\"plotly-graph-div\" style=\"height:525px; width:100%;\"></div>            <script type=\"text/javascript\">                require([\"plotly\"], function(Plotly) {                    window.PLOTLYENV=window.PLOTLYENV || {};                                    if (document.getElementById(\"fff08ffd-0ecd-4213-9c9b-206f9e566686\")) {                    Plotly.newPlot(                        \"fff08ffd-0ecd-4213-9c9b-206f9e566686\",                        [{\"hovertemplate\": \"location_name=Barbaresco<br>region=Piedmont<br>averageListQty=%{x}<br>marketPrice=%{y}<br>benchmarkTradePrice=%{marker.size}<extra></extra>\", \"legendgroup\": \"Barbaresco\", \"marker\": {\"color\": \"#636efa\", \"size\": [1356, 1180, 1300, 1145, 2220, 2190, 1340, 1440, 1352, 1300, 1260, 2554, 1408, 1276, 1300, 1330], \"sizemode\": \"area\", \"sizeref\": 46.875, \"symbol\": \"circle\"}, \"mode\": \"markers\", \"name\": \"Barbaresco\", \"orientation\": \"v\", \"showlegend\": true, \"type\": \"scatter\", \"x\": [73, 1, 2, 1, 3, 4, 2, 2, 7, 1, 61, 1, 36, 10, 12, 0], \"xaxis\": \"x\", \"y\": [1480, 1850, 1800, 1596, 2500, 2260, 2199, 1800, 1350, 1550, 1350, 2872, 1500, 1400, 1299, 1755], \"yaxis\": \"y\"}, {\"hovertemplate\": \"location_name=Toscana<br>region=Tuscany<br>averageListQty=%{x}<br>marketPrice=%{y}<br>benchmarkTradePrice=%{marker.size}<extra></extra>\", \"legendgroup\": \"Toscana\", \"marker\": {\"color\": \"#EF553B\", \"size\": [1204, 420, 1150, 351, 460, 390, 300, 1378, 1238, 1072, 1170, 860, 850, 1010, 830, 1082, 1200, 860, 1180, 800, 342, 882, 388, 920, 380, 320, 544, 408], \"sizemode\": \"area\", \"sizeref\": 46.875, \"symbol\": \"circle\"}, \"mode\": \"markers\", \"name\": \"Toscana\", \"orientation\": \"v\", \"showlegend\": true, \"type\": \"scatter\", \"x\": [12, 154, 2, 1, 3, 5, 2, 4, 4, 4, 4, 9, 13, 9, 45, 123, 3, 12, 4, 165, 10, 3, 22, 66, 101, 46, 3, 14], \"xaxis\": \"x2\", \"y\": [1110, 460, 1408, 574, 520, 660, 540, 1700, 1408, 1024, 1326, 958, 960, 1100, 980, 1200, 1300, 1000, 1678, 857, 420, 1245, 475, 870, 480, 487, 540, 600], \"yaxis\": \"y2\"}, {\"hovertemplate\": \"location_name=Margaux<br>region=Bordeaux<br>averageListQty=%{x}<br>marketPrice=%{y}<br>benchmarkTradePrice=%{marker.size}<extra></extra>\", \"legendgroup\": \"Margaux\", \"marker\": {\"color\": \"#00cc96\", \"size\": [3800, 3700, 6116, 4400, 3480, 3880, 3520, 9844, 3684, 5922, 4116, 3525, 7086, 4800, 3690, 3560, 5238, 5150, 4160], \"sizemode\": \"area\", \"sizeref\": 46.875, \"symbol\": \"circle\"}, \"mode\": \"markers\", \"name\": \"Margaux\", \"orientation\": \"v\", \"showlegend\": true, \"type\": \"scatter\", \"x\": [77, 150, 45, 23, 50, 74, 24, 62, 27, 53, 54, 37, 50, 22, 75, 81, 96, 140, 7], \"xaxis\": \"x3\", \"y\": [3910, 3700, 6250, 4400, 3720, 3920, 3700, 10500, 3900, 6250, 3826, 3560, 6830, 4850, 3758, 3800, 5415, 5415, 4820], \"yaxis\": \"y3\"}, {\"hovertemplate\": \"location_name=Cote de Beaune<br>region=Burgundy<br>averageListQty=%{x}<br>marketPrice=%{y}<br>benchmarkTradePrice=%{marker.size}<extra></extra>\", \"legendgroup\": \"Cote de Beaune\", \"marker\": {\"color\": \"#ab63fa\", \"size\": [6974, 8000, 5360, 7330, 5960, 7124, 1730, 7900, 6405, 3920, 4500, 4400, 5700, 5400, 6500, 8540], \"sizemode\": \"area\", \"sizeref\": 46.875, \"symbol\": \"circle\"}, \"mode\": \"markers\", \"name\": \"Cote de Beaune\", \"orientation\": \"v\", \"showlegend\": true, \"type\": \"scatter\", \"x\": [8, 3, 1, 8, 1, 2, 1, 3, 0, 0, 1, 1, 1, 1, 1, 0], \"xaxis\": \"x4\", \"y\": [8000, 9950, 7000, 7800, 8400, 7906, 6800, 6396, 6900, 6552, 6360, 5600, 8400, 9000, 6000, 7812], \"yaxis\": \"y4\"}, {\"hovertemplate\": \"location_name=Saint-Estephe<br>region=Bordeaux<br>averageListQty=%{x}<br>marketPrice=%{y}<br>benchmarkTradePrice=%{marker.size}<extra></extra>\", \"legendgroup\": \"Saint-Estephe\", \"marker\": {\"color\": \"#FFA15A\", \"size\": [682, 950, 760, 1048, 705, 800, 745, 805, 988, 863, 990, 790, 1026, 725, 860, 781, 735, 842, 794], \"sizemode\": \"area\", \"sizeref\": 46.875, \"symbol\": \"circle\"}, \"mode\": \"markers\", \"name\": \"Saint-Estephe\", \"orientation\": \"v\", \"showlegend\": true, \"type\": \"scatter\", \"x\": [6, 49, 104, 64, 5, 20, 18, 18, 87, 41, 16, 36, 49, 9, 94, 15, 6, 27, 41], \"xaxis\": \"x3\", \"y\": [780, 1040, 738, 1082, 870, 900, 800, 907, 1000, 900, 990, 750, 975, 880, 850, 840, 820, 950, 790], \"yaxis\": \"y3\"}, {\"hovertemplate\": \"location_name=Pauillac<br>region=Bordeaux<br>averageListQty=%{x}<br>marketPrice=%{y}<br>benchmarkTradePrice=%{marker.size}<extra></extra>\", \"legendgroup\": \"Pauillac\", \"marker\": {\"color\": \"#19d3f3\", \"size\": [220, 420, 300, 450, 532, 340, 332, 504, 494, 300, 355, 304, 324, 360, 312, 357, 465], \"sizemode\": \"area\", \"sizeref\": 46.875, \"symbol\": \"circle\"}, \"mode\": \"markers\", \"name\": \"Pauillac\", \"orientation\": \"v\", \"showlegend\": true, \"type\": \"scatter\", \"x\": [1, 3, 2, 49, 6, 1, 5, 24, 406, 6, 9, 108, 98, 45, 35, 20, 2], \"xaxis\": \"x3\", \"y\": [450, 550, 525, 530, 420, 450, 400, 490, 490, 400, 400, 300, 350, 477, 496, 408, 468], \"yaxis\": \"y3\"}, {\"hovertemplate\": \"location_name=Cote de Nuits<br>region=Burgundy<br>averageListQty=%{x}<br>marketPrice=%{y}<br>benchmarkTradePrice=%{marker.size}<extra></extra>\", \"legendgroup\": \"Cote de Nuits\", \"marker\": {\"color\": \"#FF6692\", \"size\": [18750, 12000, 6538, 7200, 12850, 13000, 4000, 7290], \"sizemode\": \"area\", \"sizeref\": 46.875, \"symbol\": \"circle\"}, \"mode\": \"markers\", \"name\": \"Cote de Nuits\", \"orientation\": \"v\", \"showlegend\": true, \"type\": \"scatter\", \"x\": [0, 1, 0, 0, 2, 7, 1, 3], \"xaxis\": \"x4\", \"y\": [14766, 14520, 17180, 8400, 12402, 17000, 10650, 8016], \"yaxis\": \"y4\"}, {\"hovertemplate\": \"location_name=Saint-\\u00c9milion<br>region=Bordeaux<br>averageListQty=%{x}<br>marketPrice=%{y}<br>benchmarkTradePrice=%{marker.size}<extra></extra>\", \"legendgroup\": \"Saint-\\u00c9milion\", \"marker\": {\"color\": \"#B6E880\", \"size\": [3101, 2610, 3155, 2378, 4550, 2650, 2500, 2505, 3000, 3350, 2000, 3605, 2000, 2260, 2500, 2844, 2458, 3120, 2402], \"sizemode\": \"area\", \"sizeref\": 46.875, \"symbol\": \"circle\"}, \"mode\": \"markers\", \"name\": \"Saint-\\u00c9milion\", \"orientation\": \"v\", \"showlegend\": true, \"type\": \"scatter\", \"x\": [2, 9, 10, 9, 45, 13, 5, 14, 32, 28, 151, 42, 34, 193, 56, 143, 95, 71, 38], \"xaxis\": \"x3\", \"y\": [3600, 2973, 3300, 2820, 4425, 2900, 2690, 2750, 3295, 3400, 2590, 3800, 2300, 2360, 2580, 2960, 2730, 3144, 2761], \"yaxis\": \"y3\"}],                        {\"annotations\": [{\"font\": {}, \"showarrow\": false, \"text\": \"region=Piedmont\", \"x\": 0.1175, \"xanchor\": \"center\", \"xref\": \"paper\", \"y\": 1.0, \"yanchor\": \"bottom\", \"yref\": \"paper\"}, {\"font\": {}, \"showarrow\": false, \"text\": \"region=Tuscany\", \"x\": 0.3725, \"xanchor\": \"center\", \"xref\": \"paper\", \"y\": 1.0, \"yanchor\": \"bottom\", \"yref\": \"paper\"}, {\"font\": {}, \"showarrow\": false, \"text\": \"region=Bordeaux\", \"x\": 0.6275, \"xanchor\": \"center\", \"xref\": \"paper\", \"y\": 1.0, \"yanchor\": \"bottom\", \"yref\": \"paper\"}, {\"font\": {}, \"showarrow\": false, \"text\": \"region=Burgundy\", \"x\": 0.8824999999999998, \"xanchor\": \"center\", \"xref\": \"paper\", \"y\": 1.0, \"yanchor\": \"bottom\", \"yref\": \"paper\"}], \"legend\": {\"itemsizing\": \"constant\", \"title\": {\"text\": \"location_name\"}, \"tracegroupgap\": 0}, \"margin\": {\"t\": 60}, \"template\": {\"data\": {\"bar\": [{\"error_x\": {\"color\": \"#2a3f5f\"}, \"error_y\": {\"color\": \"#2a3f5f\"}, \"marker\": {\"line\": {\"color\": \"#E5ECF6\", \"width\": 0.5}}, \"type\": \"bar\"}], \"barpolar\": [{\"marker\": {\"line\": {\"color\": \"#E5ECF6\", \"width\": 0.5}}, \"type\": \"barpolar\"}], \"carpet\": [{\"aaxis\": {\"endlinecolor\": \"#2a3f5f\", \"gridcolor\": \"white\", \"linecolor\": \"white\", \"minorgridcolor\": \"white\", \"startlinecolor\": \"#2a3f5f\"}, \"baxis\": {\"endlinecolor\": \"#2a3f5f\", \"gridcolor\": \"white\", \"linecolor\": \"white\", \"minorgridcolor\": \"white\", \"startlinecolor\": \"#2a3f5f\"}, \"type\": \"carpet\"}], \"choropleth\": [{\"colorbar\": {\"outlinewidth\": 0, \"ticks\": \"\"}, \"type\": \"choropleth\"}], \"contour\": [{\"colorbar\": {\"outlinewidth\": 0, \"ticks\": \"\"}, \"colorscale\": [[0.0, \"#0d0887\"], [0.1111111111111111, \"#46039f\"], [0.2222222222222222, \"#7201a8\"], [0.3333333333333333, \"#9c179e\"], [0.4444444444444444, \"#bd3786\"], [0.5555555555555556, \"#d8576b\"], [0.6666666666666666, \"#ed7953\"], [0.7777777777777778, \"#fb9f3a\"], [0.8888888888888888, \"#fdca26\"], [1.0, \"#f0f921\"]], \"type\": \"contour\"}], \"contourcarpet\": [{\"colorbar\": {\"outlinewidth\": 0, \"ticks\": \"\"}, \"type\": \"contourcarpet\"}], \"heatmap\": [{\"colorbar\": {\"outlinewidth\": 0, \"ticks\": \"\"}, \"colorscale\": [[0.0, \"#0d0887\"], [0.1111111111111111, \"#46039f\"], [0.2222222222222222, \"#7201a8\"], [0.3333333333333333, \"#9c179e\"], [0.4444444444444444, \"#bd3786\"], [0.5555555555555556, \"#d8576b\"], [0.6666666666666666, \"#ed7953\"], [0.7777777777777778, \"#fb9f3a\"], [0.8888888888888888, \"#fdca26\"], [1.0, \"#f0f921\"]], \"type\": \"heatmap\"}], \"heatmapgl\": [{\"colorbar\": {\"outlinewidth\": 0, \"ticks\": \"\"}, \"colorscale\": [[0.0, \"#0d0887\"], [0.1111111111111111, \"#46039f\"], [0.2222222222222222, \"#7201a8\"], [0.3333333333333333, \"#9c179e\"], [0.4444444444444444, \"#bd3786\"], [0.5555555555555556, \"#d8576b\"], [0.6666666666666666, \"#ed7953\"], [0.7777777777777778, \"#fb9f3a\"], [0.8888888888888888, \"#fdca26\"], [1.0, \"#f0f921\"]], \"type\": \"heatmapgl\"}], \"histogram\": [{\"marker\": {\"colorbar\": {\"outlinewidth\": 0, \"ticks\": \"\"}}, \"type\": \"histogram\"}], \"histogram2d\": [{\"colorbar\": {\"outlinewidth\": 0, \"ticks\": \"\"}, \"colorscale\": [[0.0, \"#0d0887\"], [0.1111111111111111, \"#46039f\"], [0.2222222222222222, \"#7201a8\"], [0.3333333333333333, \"#9c179e\"], [0.4444444444444444, \"#bd3786\"], [0.5555555555555556, \"#d8576b\"], [0.6666666666666666, \"#ed7953\"], [0.7777777777777778, \"#fb9f3a\"], [0.8888888888888888, \"#fdca26\"], [1.0, \"#f0f921\"]], \"type\": \"histogram2d\"}], \"histogram2dcontour\": [{\"colorbar\": {\"outlinewidth\": 0, \"ticks\": \"\"}, \"colorscale\": [[0.0, \"#0d0887\"], [0.1111111111111111, \"#46039f\"], [0.2222222222222222, \"#7201a8\"], [0.3333333333333333, \"#9c179e\"], [0.4444444444444444, \"#bd3786\"], [0.5555555555555556, \"#d8576b\"], [0.6666666666666666, \"#ed7953\"], [0.7777777777777778, \"#fb9f3a\"], [0.8888888888888888, \"#fdca26\"], [1.0, \"#f0f921\"]], \"type\": \"histogram2dcontour\"}], \"mesh3d\": [{\"colorbar\": {\"outlinewidth\": 0, \"ticks\": \"\"}, \"type\": \"mesh3d\"}], \"parcoords\": [{\"line\": {\"colorbar\": {\"outlinewidth\": 0, \"ticks\": \"\"}}, \"type\": \"parcoords\"}], \"pie\": [{\"automargin\": true, \"type\": \"pie\"}], \"scatter\": [{\"marker\": {\"colorbar\": {\"outlinewidth\": 0, \"ticks\": \"\"}}, \"type\": \"scatter\"}], \"scatter3d\": [{\"line\": {\"colorbar\": {\"outlinewidth\": 0, \"ticks\": \"\"}}, \"marker\": {\"colorbar\": {\"outlinewidth\": 0, \"ticks\": \"\"}}, \"type\": \"scatter3d\"}], \"scattercarpet\": [{\"marker\": {\"colorbar\": {\"outlinewidth\": 0, \"ticks\": \"\"}}, \"type\": \"scattercarpet\"}], \"scattergeo\": [{\"marker\": {\"colorbar\": {\"outlinewidth\": 0, \"ticks\": \"\"}}, \"type\": \"scattergeo\"}], \"scattergl\": [{\"marker\": {\"colorbar\": {\"outlinewidth\": 0, \"ticks\": \"\"}}, \"type\": \"scattergl\"}], \"scattermapbox\": [{\"marker\": {\"colorbar\": {\"outlinewidth\": 0, \"ticks\": \"\"}}, \"type\": \"scattermapbox\"}], \"scatterpolar\": [{\"marker\": {\"colorbar\": {\"outlinewidth\": 0, \"ticks\": \"\"}}, \"type\": \"scatterpolar\"}], \"scatterpolargl\": [{\"marker\": {\"colorbar\": {\"outlinewidth\": 0, \"ticks\": \"\"}}, \"type\": \"scatterpolargl\"}], \"scatterternary\": [{\"marker\": {\"colorbar\": {\"outlinewidth\": 0, \"ticks\": \"\"}}, \"type\": \"scatterternary\"}], \"surface\": [{\"colorbar\": {\"outlinewidth\": 0, \"ticks\": \"\"}, \"colorscale\": [[0.0, \"#0d0887\"], [0.1111111111111111, \"#46039f\"], [0.2222222222222222, \"#7201a8\"], [0.3333333333333333, \"#9c179e\"], [0.4444444444444444, \"#bd3786\"], [0.5555555555555556, \"#d8576b\"], [0.6666666666666666, \"#ed7953\"], [0.7777777777777778, \"#fb9f3a\"], [0.8888888888888888, \"#fdca26\"], [1.0, \"#f0f921\"]], \"type\": \"surface\"}], \"table\": [{\"cells\": {\"fill\": {\"color\": \"#EBF0F8\"}, \"line\": {\"color\": \"white\"}}, \"header\": {\"fill\": {\"color\": \"#C8D4E3\"}, \"line\": {\"color\": \"white\"}}, \"type\": \"table\"}]}, \"layout\": {\"annotationdefaults\": {\"arrowcolor\": \"#2a3f5f\", \"arrowhead\": 0, \"arrowwidth\": 1}, \"autotypenumbers\": \"strict\", \"coloraxis\": {\"colorbar\": {\"outlinewidth\": 0, \"ticks\": \"\"}}, \"colorscale\": {\"diverging\": [[0, \"#8e0152\"], [0.1, \"#c51b7d\"], [0.2, \"#de77ae\"], [0.3, \"#f1b6da\"], [0.4, \"#fde0ef\"], [0.5, \"#f7f7f7\"], [0.6, \"#e6f5d0\"], [0.7, \"#b8e186\"], [0.8, \"#7fbc41\"], [0.9, \"#4d9221\"], [1, \"#276419\"]], \"sequential\": [[0.0, \"#0d0887\"], [0.1111111111111111, \"#46039f\"], [0.2222222222222222, \"#7201a8\"], [0.3333333333333333, \"#9c179e\"], [0.4444444444444444, \"#bd3786\"], [0.5555555555555556, \"#d8576b\"], [0.6666666666666666, \"#ed7953\"], [0.7777777777777778, \"#fb9f3a\"], [0.8888888888888888, \"#fdca26\"], [1.0, \"#f0f921\"]], \"sequentialminus\": [[0.0, \"#0d0887\"], [0.1111111111111111, \"#46039f\"], [0.2222222222222222, \"#7201a8\"], [0.3333333333333333, \"#9c179e\"], [0.4444444444444444, \"#bd3786\"], [0.5555555555555556, \"#d8576b\"], [0.6666666666666666, \"#ed7953\"], [0.7777777777777778, \"#fb9f3a\"], [0.8888888888888888, \"#fdca26\"], [1.0, \"#f0f921\"]]}, \"colorway\": [\"#636efa\", \"#EF553B\", \"#00cc96\", \"#ab63fa\", \"#FFA15A\", \"#19d3f3\", \"#FF6692\", \"#B6E880\", \"#FF97FF\", \"#FECB52\"], \"font\": {\"color\": \"#2a3f5f\"}, \"geo\": {\"bgcolor\": \"white\", \"lakecolor\": \"white\", \"landcolor\": \"#E5ECF6\", \"showlakes\": true, \"showland\": true, \"subunitcolor\": \"white\"}, \"hoverlabel\": {\"align\": \"left\"}, \"hovermode\": \"closest\", \"mapbox\": {\"style\": \"light\"}, \"paper_bgcolor\": \"white\", \"plot_bgcolor\": \"#E5ECF6\", \"polar\": {\"angularaxis\": {\"gridcolor\": \"white\", \"linecolor\": \"white\", \"ticks\": \"\"}, \"bgcolor\": \"#E5ECF6\", \"radialaxis\": {\"gridcolor\": \"white\", \"linecolor\": \"white\", \"ticks\": \"\"}}, \"scene\": {\"xaxis\": {\"backgroundcolor\": \"#E5ECF6\", \"gridcolor\": \"white\", \"gridwidth\": 2, \"linecolor\": \"white\", \"showbackground\": true, \"ticks\": \"\", \"zerolinecolor\": \"white\"}, \"yaxis\": {\"backgroundcolor\": \"#E5ECF6\", \"gridcolor\": \"white\", \"gridwidth\": 2, \"linecolor\": \"white\", \"showbackground\": true, \"ticks\": \"\", \"zerolinecolor\": \"white\"}, \"zaxis\": {\"backgroundcolor\": \"#E5ECF6\", \"gridcolor\": \"white\", \"gridwidth\": 2, \"linecolor\": \"white\", \"showbackground\": true, \"ticks\": \"\", \"zerolinecolor\": \"white\"}}, \"shapedefaults\": {\"line\": {\"color\": \"#2a3f5f\"}}, \"ternary\": {\"aaxis\": {\"gridcolor\": \"white\", \"linecolor\": \"white\", \"ticks\": \"\"}, \"baxis\": {\"gridcolor\": \"white\", \"linecolor\": \"white\", \"ticks\": \"\"}, \"bgcolor\": \"#E5ECF6\", \"caxis\": {\"gridcolor\": \"white\", \"linecolor\": \"white\", \"ticks\": \"\"}}, \"title\": {\"x\": 0.05}, \"xaxis\": {\"automargin\": true, \"gridcolor\": \"white\", \"linecolor\": \"white\", \"ticks\": \"\", \"title\": {\"standoff\": 15}, \"zerolinecolor\": \"white\", \"zerolinewidth\": 2}, \"yaxis\": {\"automargin\": true, \"gridcolor\": \"white\", \"linecolor\": \"white\", \"ticks\": \"\", \"title\": {\"standoff\": 15}, \"zerolinecolor\": \"white\", \"zerolinewidth\": 2}}}, \"xaxis\": {\"anchor\": \"y\", \"domain\": [0.0, 0.235], \"title\": {\"text\": \"averageListQty\"}}, \"xaxis2\": {\"anchor\": \"y2\", \"domain\": [0.255, 0.49], \"matches\": \"x\", \"title\": {\"text\": \"averageListQty\"}}, \"xaxis3\": {\"anchor\": \"y3\", \"domain\": [0.51, 0.745], \"matches\": \"x\", \"title\": {\"text\": \"averageListQty\"}}, \"xaxis4\": {\"anchor\": \"y4\", \"domain\": [0.7649999999999999, 0.9999999999999999], \"matches\": \"x\", \"title\": {\"text\": \"averageListQty\"}}, \"yaxis\": {\"anchor\": \"x\", \"domain\": [0.0, 1.0], \"title\": {\"text\": \"marketPrice\"}}, \"yaxis2\": {\"anchor\": \"x2\", \"domain\": [0.0, 1.0], \"matches\": \"y\", \"showticklabels\": false}, \"yaxis3\": {\"anchor\": \"x3\", \"domain\": [0.0, 1.0], \"matches\": \"y\", \"showticklabels\": false}, \"yaxis4\": {\"anchor\": \"x4\", \"domain\": [0.0, 1.0], \"matches\": \"y\", \"showticklabels\": false}},                        {\"responsive\": true}                    ).then(function(){\n",
       "                            \n",
       "var gd = document.getElementById('fff08ffd-0ecd-4213-9c9b-206f9e566686');\n",
       "var x = new MutationObserver(function (mutations, observer) {{\n",
       "        var display = window.getComputedStyle(gd).display;\n",
       "        if (!display || display === 'none') {{\n",
       "            console.log([gd, 'removed!']);\n",
       "            Plotly.purge(gd);\n",
       "            observer.disconnect();\n",
       "        }}\n",
       "}});\n",
       "\n",
       "// Listen for the removal of the full notebook cells\n",
       "var notebookContainer = gd.closest('#notebook-container');\n",
       "if (notebookContainer) {{\n",
       "    x.observe(notebookContainer, {childList: true});\n",
       "}}\n",
       "\n",
       "// Listen for the clearing of the current output cell\n",
       "var outputEl = gd.closest('.output');\n",
       "if (outputEl) {{\n",
       "    x.observe(outputEl, {childList: true});\n",
       "}}\n",
       "\n",
       "                        })                };                });            </script>        </div>"
      ]
     },
     "metadata": {},
     "output_type": "display_data"
    }
   ],
   "source": [
    "list_quantity = px.scatter(merge, x=\"averageListQty\", y=\"marketPrice\", color=\"location_name\", size=\"benchmarkTradePrice\", facet_col=\"region\")\n",
    "list_quantity.show()"
   ]
  },
  {
   "cell_type": "markdown",
   "metadata": {},
   "source": [
    "### Wine Critics/Specialists\n",
    "#### The last graph shows who the various specialists/critics are, when it comes to wine regions. Neal Martin and William Keeley are the Burgundian Specialists. Keeley critiques only Burgundies whilst Martin does some Bordeaux as well. Lisa Perrotti-Brown and Robert Parker Jr are Bordeaux Specialists. Italian Wines are more dominated by Monica Larner and Antonio Galloni. Neal Martin consistently critiques big market price and increase in price wines."
   ]
  },
  {
   "cell_type": "code",
   "execution_count": 16,
   "metadata": {},
   "outputs": [
    {
     "data": {
      "application/vnd.plotly.v1+json": {
       "config": {
        "plotlyServerURL": "https://plot.ly"
       },
       "data": [
        {
         "hovertemplate": "region=Piedmont<br>critic_fullname=%{x}<br>mk_price_minus_bmk_price=%{y}<br>marketPrice=%{marker.size}<extra></extra>",
         "legendgroup": "Piedmont",
         "marker": {
          "color": "#636efa",
          "size": [
           1480,
           1850,
           1800,
           1596,
           2500,
           2260,
           2199,
           1800,
           1350,
           1550,
           1350,
           2872,
           1500,
           1400,
           1299,
           1755
          ],
          "sizemode": "area",
          "sizeref": 42.95,
          "symbol": "circle"
         },
         "mode": "markers",
         "name": "Piedmont",
         "orientation": "v",
         "showlegend": true,
         "type": "scatter",
         "x": [
          "Monica Larner",
          "Antonio Galloni",
          "Antonio Galloni",
          "Antonio Galloni",
          "Antonio Galloni",
          "Antonio Galloni",
          "Antonio Galloni",
          "Monica Larner",
          "Monica Larner",
          "Monica Larner",
          "Monica Larner",
          "Antonio Galloni",
          "Monica Larner",
          "Monica Larner",
          "Monica Larner",
          "Antonio Galloni"
         ],
         "xaxis": "x",
         "y": [
          124,
          670,
          500,
          451,
          280,
          70,
          859,
          360,
          -2,
          250,
          90,
          318,
          92,
          124,
          -1,
          425
         ],
         "yaxis": "y"
        },
        {
         "hovertemplate": "region=Tuscany<br>critic_fullname=%{x}<br>mk_price_minus_bmk_price=%{y}<br>marketPrice=%{marker.size}<extra></extra>",
         "legendgroup": "Tuscany",
         "marker": {
          "color": "#EF553B",
          "size": [
           1110,
           460,
           1408,
           574,
           520,
           660,
           540,
           1700,
           1408,
           1024,
           1326,
           958,
           960,
           1100,
           980,
           1200,
           1300,
           1000,
           1678,
           857,
           420,
           1245,
           475,
           870,
           480,
           487,
           540,
           600
          ],
          "sizemode": "area",
          "sizeref": 42.95,
          "symbol": "circle"
         },
         "mode": "markers",
         "name": "Tuscany",
         "orientation": "v",
         "showlegend": true,
         "type": "scatter",
         "x": [
          "Monica Larner",
          "Monica Larner",
          "Antonio Galloni",
          "Antonio Galloni",
          "Antonio Galloni",
          "Antonio Galloni",
          "Antonio Galloni",
          "Daniel Thomases",
          "Antonio Galloni",
          "Antonio Galloni",
          "Monica Larner",
          "Monica Larner",
          "Monica Larner",
          "Antonio Galloni",
          "Monica Larner",
          "Monica Larner",
          "Monica Larner",
          "Monica Larner",
          "Antonio Galloni",
          "Monica Larner",
          "Monica Larner",
          "Antonio Galloni",
          "Monica Larner",
          "Monica Larner",
          "Monica Larner",
          "Monica Larner",
          "Monica Larner",
          "Monica Larner"
         ],
         "xaxis": "x",
         "y": [
          -94,
          40,
          258,
          223,
          60,
          270,
          240,
          322,
          170,
          -48,
          156,
          98,
          110,
          90,
          150,
          118,
          100,
          140,
          498,
          57,
          78,
          363,
          87,
          -50,
          100,
          167,
          -4,
          192
         ],
         "yaxis": "y"
        },
        {
         "hovertemplate": "region=Bordeaux<br>critic_fullname=%{x}<br>mk_price_minus_bmk_price=%{y}<br>marketPrice=%{marker.size}<extra></extra>",
         "legendgroup": "Bordeaux",
         "marker": {
          "color": "#00cc96",
          "size": [
           3910,
           3700,
           6250,
           4400,
           3720,
           3920,
           3700,
           780,
           1040,
           738,
           10500,
           3900,
           6250,
           1082,
           870,
           900,
           3826,
           800,
           907,
           450,
           550,
           1000,
           900,
           990,
           525,
           3560,
           750,
           6830,
           975,
           530,
           880,
           850,
           4850,
           3758,
           840,
           420,
           3800,
           450,
           400,
           490,
           490,
           820,
           400,
           5415,
           400,
           300,
           950,
           350,
           477,
           5415,
           4820,
           496,
           3600,
           790,
           2973,
           3300,
           408,
           2820,
           468,
           4425,
           2900,
           2690,
           2750,
           3295,
           3400,
           2590,
           3800,
           2300,
           2360,
           2580,
           2960,
           2730,
           3144,
           2761
          ],
          "sizemode": "area",
          "sizeref": 42.95,
          "symbol": "circle"
         },
         "mode": "markers",
         "name": "Bordeaux",
         "orientation": "v",
         "showlegend": true,
         "type": "scatter",
         "x": [
          "Neal Martin",
          "Lisa Perrotti-Brown",
          "Robert M. Parker, Jr.",
          "Neal Martin",
          "Neal Martin",
          "Robert M. Parker, Jr.",
          "Neal Martin",
          "Neal Martin",
          "Lisa Perrotti-Brown",
          "Lisa Perrotti-Brown",
          "Lisa Perrotti-Brown",
          "Robert M. Parker, Jr.",
          "Lisa Perrotti-Brown",
          "Lisa Perrotti-Brown",
          "Robert M. Parker, Jr.",
          "Robert M. Parker, Jr.",
          "Neal Martin",
          "Robert M. Parker, Jr.",
          "Robert M. Parker, Jr.",
          "Robert M. Parker, Jr.",
          "Neal Martin",
          "Neal Martin",
          "Neal Martin",
          "Lisa Perrotti-Brown",
          "Robert M. Parker, Jr.",
          "Neal Martin",
          "Robert M. Parker, Jr.",
          "Lisa Perrotti-Brown",
          "Lisa Perrotti-Brown",
          "Neal Martin",
          "Neal Martin",
          "Lisa Perrotti-Brown",
          "Neal Martin",
          "Robert M. Parker, Jr.",
          "Neal Martin",
          "Neal Martin",
          "Neal Martin",
          "Neal Martin",
          "Robert M. Parker, Jr.",
          "Lisa Perrotti-Brown",
          "Lisa Perrotti-Brown",
          "Robert M. Parker, Jr.",
          "Robert M. Parker, Jr.",
          "Lisa Perrotti-Brown",
          "Robert M. Parker, Jr.",
          "Neal Martin",
          "Lisa Perrotti-Brown",
          "Neal Martin",
          "Neal Martin",
          "Lisa Perrotti-Brown",
          "Lisa Perrotti-Brown",
          "Neal Martin",
          "Robert M. Parker, Jr.",
          "Neal Martin",
          "Robert M. Parker, Jr.",
          "Robert M. Parker, Jr.",
          "Lisa Perrotti-Brown",
          "Robert M. Parker, Jr.",
          "Robert M. Parker, Jr.",
          "Robert M. Parker, Jr.",
          "Neal Martin",
          "Neal Martin",
          "Robert M. Parker, Jr.",
          "Lisa Perrotti-Brown",
          "Lisa Perrotti-Brown",
          "Robert M. Parker, Jr.",
          "Neal Martin",
          "Robert M. Parker, Jr.",
          "Lisa Perrotti-Brown",
          "Lisa Perrotti-Brown",
          "Lisa Perrotti-Brown",
          "Lisa Perrotti-Brown",
          "Lisa Perrotti-Brown",
          "Lisa Perrotti-Brown"
         ],
         "xaxis": "x",
         "y": [
          110,
          0,
          134,
          0,
          240,
          40,
          180,
          98,
          90,
          -22,
          656,
          216,
          328,
          34,
          165,
          100,
          -290,
          55,
          102,
          230,
          130,
          12,
          37,
          0,
          225,
          35,
          -40,
          -256,
          -51,
          80,
          155,
          -10,
          50,
          68,
          59,
          -112,
          240,
          110,
          68,
          -14,
          -4,
          85,
          100,
          177,
          45,
          -4,
          108,
          26,
          117,
          265,
          660,
          184,
          499,
          -4,
          363,
          145,
          51,
          442,
          3,
          -125,
          250,
          190,
          245,
          295,
          50,
          590,
          195,
          300,
          100,
          80,
          116,
          272,
          24,
          359
         ],
         "yaxis": "y"
        },
        {
         "hovertemplate": "region=Burgundy<br>critic_fullname=%{x}<br>mk_price_minus_bmk_price=%{y}<br>marketPrice=%{marker.size}<extra></extra>",
         "legendgroup": "Burgundy",
         "marker": {
          "color": "#ab63fa",
          "size": [
           8000,
           9950,
           14766,
           7000,
           7800,
           14520,
           8400,
           17180,
           7906,
           8400,
           6800,
           12402,
           17000,
           10650,
           8016,
           6396,
           6900,
           6552,
           6360,
           5600,
           8400,
           9000,
           6000,
           7812
          ],
          "sizemode": "area",
          "sizeref": 42.95,
          "symbol": "circle"
         },
         "mode": "markers",
         "name": "Burgundy",
         "orientation": "v",
         "showlegend": true,
         "type": "scatter",
         "x": [
          "William Kelley",
          "Neal Martin",
          "William Kelley",
          "William Kelley",
          "William Kelley",
          "Neal Martin",
          "Antonio Galloni",
          "Neal Martin",
          "Neal Martin",
          "Neal Martin",
          "William Kelley",
          "Neal Martin",
          "William Kelley",
          "Neal Martin",
          "William Kelley",
          "William Kelley",
          "William Kelley",
          "William Kelley",
          "William Kelley",
          "Neal Martin",
          "William Kelley",
          "William Kelley",
          "William Kelley",
          "William Kelley"
         ],
         "xaxis": "x",
         "y": [
          1026,
          1950,
          -3984,
          1640,
          470,
          2520,
          2440,
          10642,
          782,
          1200,
          5070,
          -448,
          4000,
          6650,
          726,
          -1504,
          495,
          2632,
          1860,
          1200,
          2700,
          3600,
          -500,
          -728
         ],
         "yaxis": "y"
        }
       ],
       "layout": {
        "legend": {
         "itemsizing": "constant",
         "title": {
          "text": "region"
         },
         "tracegroupgap": 0
        },
        "margin": {
         "t": 60
        },
        "template": {
         "data": {
          "bar": [
           {
            "error_x": {
             "color": "#2a3f5f"
            },
            "error_y": {
             "color": "#2a3f5f"
            },
            "marker": {
             "line": {
              "color": "#E5ECF6",
              "width": 0.5
             }
            },
            "type": "bar"
           }
          ],
          "barpolar": [
           {
            "marker": {
             "line": {
              "color": "#E5ECF6",
              "width": 0.5
             }
            },
            "type": "barpolar"
           }
          ],
          "carpet": [
           {
            "aaxis": {
             "endlinecolor": "#2a3f5f",
             "gridcolor": "white",
             "linecolor": "white",
             "minorgridcolor": "white",
             "startlinecolor": "#2a3f5f"
            },
            "baxis": {
             "endlinecolor": "#2a3f5f",
             "gridcolor": "white",
             "linecolor": "white",
             "minorgridcolor": "white",
             "startlinecolor": "#2a3f5f"
            },
            "type": "carpet"
           }
          ],
          "choropleth": [
           {
            "colorbar": {
             "outlinewidth": 0,
             "ticks": ""
            },
            "type": "choropleth"
           }
          ],
          "contour": [
           {
            "colorbar": {
             "outlinewidth": 0,
             "ticks": ""
            },
            "colorscale": [
             [
              0,
              "#0d0887"
             ],
             [
              0.1111111111111111,
              "#46039f"
             ],
             [
              0.2222222222222222,
              "#7201a8"
             ],
             [
              0.3333333333333333,
              "#9c179e"
             ],
             [
              0.4444444444444444,
              "#bd3786"
             ],
             [
              0.5555555555555556,
              "#d8576b"
             ],
             [
              0.6666666666666666,
              "#ed7953"
             ],
             [
              0.7777777777777778,
              "#fb9f3a"
             ],
             [
              0.8888888888888888,
              "#fdca26"
             ],
             [
              1,
              "#f0f921"
             ]
            ],
            "type": "contour"
           }
          ],
          "contourcarpet": [
           {
            "colorbar": {
             "outlinewidth": 0,
             "ticks": ""
            },
            "type": "contourcarpet"
           }
          ],
          "heatmap": [
           {
            "colorbar": {
             "outlinewidth": 0,
             "ticks": ""
            },
            "colorscale": [
             [
              0,
              "#0d0887"
             ],
             [
              0.1111111111111111,
              "#46039f"
             ],
             [
              0.2222222222222222,
              "#7201a8"
             ],
             [
              0.3333333333333333,
              "#9c179e"
             ],
             [
              0.4444444444444444,
              "#bd3786"
             ],
             [
              0.5555555555555556,
              "#d8576b"
             ],
             [
              0.6666666666666666,
              "#ed7953"
             ],
             [
              0.7777777777777778,
              "#fb9f3a"
             ],
             [
              0.8888888888888888,
              "#fdca26"
             ],
             [
              1,
              "#f0f921"
             ]
            ],
            "type": "heatmap"
           }
          ],
          "heatmapgl": [
           {
            "colorbar": {
             "outlinewidth": 0,
             "ticks": ""
            },
            "colorscale": [
             [
              0,
              "#0d0887"
             ],
             [
              0.1111111111111111,
              "#46039f"
             ],
             [
              0.2222222222222222,
              "#7201a8"
             ],
             [
              0.3333333333333333,
              "#9c179e"
             ],
             [
              0.4444444444444444,
              "#bd3786"
             ],
             [
              0.5555555555555556,
              "#d8576b"
             ],
             [
              0.6666666666666666,
              "#ed7953"
             ],
             [
              0.7777777777777778,
              "#fb9f3a"
             ],
             [
              0.8888888888888888,
              "#fdca26"
             ],
             [
              1,
              "#f0f921"
             ]
            ],
            "type": "heatmapgl"
           }
          ],
          "histogram": [
           {
            "marker": {
             "colorbar": {
              "outlinewidth": 0,
              "ticks": ""
             }
            },
            "type": "histogram"
           }
          ],
          "histogram2d": [
           {
            "colorbar": {
             "outlinewidth": 0,
             "ticks": ""
            },
            "colorscale": [
             [
              0,
              "#0d0887"
             ],
             [
              0.1111111111111111,
              "#46039f"
             ],
             [
              0.2222222222222222,
              "#7201a8"
             ],
             [
              0.3333333333333333,
              "#9c179e"
             ],
             [
              0.4444444444444444,
              "#bd3786"
             ],
             [
              0.5555555555555556,
              "#d8576b"
             ],
             [
              0.6666666666666666,
              "#ed7953"
             ],
             [
              0.7777777777777778,
              "#fb9f3a"
             ],
             [
              0.8888888888888888,
              "#fdca26"
             ],
             [
              1,
              "#f0f921"
             ]
            ],
            "type": "histogram2d"
           }
          ],
          "histogram2dcontour": [
           {
            "colorbar": {
             "outlinewidth": 0,
             "ticks": ""
            },
            "colorscale": [
             [
              0,
              "#0d0887"
             ],
             [
              0.1111111111111111,
              "#46039f"
             ],
             [
              0.2222222222222222,
              "#7201a8"
             ],
             [
              0.3333333333333333,
              "#9c179e"
             ],
             [
              0.4444444444444444,
              "#bd3786"
             ],
             [
              0.5555555555555556,
              "#d8576b"
             ],
             [
              0.6666666666666666,
              "#ed7953"
             ],
             [
              0.7777777777777778,
              "#fb9f3a"
             ],
             [
              0.8888888888888888,
              "#fdca26"
             ],
             [
              1,
              "#f0f921"
             ]
            ],
            "type": "histogram2dcontour"
           }
          ],
          "mesh3d": [
           {
            "colorbar": {
             "outlinewidth": 0,
             "ticks": ""
            },
            "type": "mesh3d"
           }
          ],
          "parcoords": [
           {
            "line": {
             "colorbar": {
              "outlinewidth": 0,
              "ticks": ""
             }
            },
            "type": "parcoords"
           }
          ],
          "pie": [
           {
            "automargin": true,
            "type": "pie"
           }
          ],
          "scatter": [
           {
            "marker": {
             "colorbar": {
              "outlinewidth": 0,
              "ticks": ""
             }
            },
            "type": "scatter"
           }
          ],
          "scatter3d": [
           {
            "line": {
             "colorbar": {
              "outlinewidth": 0,
              "ticks": ""
             }
            },
            "marker": {
             "colorbar": {
              "outlinewidth": 0,
              "ticks": ""
             }
            },
            "type": "scatter3d"
           }
          ],
          "scattercarpet": [
           {
            "marker": {
             "colorbar": {
              "outlinewidth": 0,
              "ticks": ""
             }
            },
            "type": "scattercarpet"
           }
          ],
          "scattergeo": [
           {
            "marker": {
             "colorbar": {
              "outlinewidth": 0,
              "ticks": ""
             }
            },
            "type": "scattergeo"
           }
          ],
          "scattergl": [
           {
            "marker": {
             "colorbar": {
              "outlinewidth": 0,
              "ticks": ""
             }
            },
            "type": "scattergl"
           }
          ],
          "scattermapbox": [
           {
            "marker": {
             "colorbar": {
              "outlinewidth": 0,
              "ticks": ""
             }
            },
            "type": "scattermapbox"
           }
          ],
          "scatterpolar": [
           {
            "marker": {
             "colorbar": {
              "outlinewidth": 0,
              "ticks": ""
             }
            },
            "type": "scatterpolar"
           }
          ],
          "scatterpolargl": [
           {
            "marker": {
             "colorbar": {
              "outlinewidth": 0,
              "ticks": ""
             }
            },
            "type": "scatterpolargl"
           }
          ],
          "scatterternary": [
           {
            "marker": {
             "colorbar": {
              "outlinewidth": 0,
              "ticks": ""
             }
            },
            "type": "scatterternary"
           }
          ],
          "surface": [
           {
            "colorbar": {
             "outlinewidth": 0,
             "ticks": ""
            },
            "colorscale": [
             [
              0,
              "#0d0887"
             ],
             [
              0.1111111111111111,
              "#46039f"
             ],
             [
              0.2222222222222222,
              "#7201a8"
             ],
             [
              0.3333333333333333,
              "#9c179e"
             ],
             [
              0.4444444444444444,
              "#bd3786"
             ],
             [
              0.5555555555555556,
              "#d8576b"
             ],
             [
              0.6666666666666666,
              "#ed7953"
             ],
             [
              0.7777777777777778,
              "#fb9f3a"
             ],
             [
              0.8888888888888888,
              "#fdca26"
             ],
             [
              1,
              "#f0f921"
             ]
            ],
            "type": "surface"
           }
          ],
          "table": [
           {
            "cells": {
             "fill": {
              "color": "#EBF0F8"
             },
             "line": {
              "color": "white"
             }
            },
            "header": {
             "fill": {
              "color": "#C8D4E3"
             },
             "line": {
              "color": "white"
             }
            },
            "type": "table"
           }
          ]
         },
         "layout": {
          "annotationdefaults": {
           "arrowcolor": "#2a3f5f",
           "arrowhead": 0,
           "arrowwidth": 1
          },
          "autotypenumbers": "strict",
          "coloraxis": {
           "colorbar": {
            "outlinewidth": 0,
            "ticks": ""
           }
          },
          "colorscale": {
           "diverging": [
            [
             0,
             "#8e0152"
            ],
            [
             0.1,
             "#c51b7d"
            ],
            [
             0.2,
             "#de77ae"
            ],
            [
             0.3,
             "#f1b6da"
            ],
            [
             0.4,
             "#fde0ef"
            ],
            [
             0.5,
             "#f7f7f7"
            ],
            [
             0.6,
             "#e6f5d0"
            ],
            [
             0.7,
             "#b8e186"
            ],
            [
             0.8,
             "#7fbc41"
            ],
            [
             0.9,
             "#4d9221"
            ],
            [
             1,
             "#276419"
            ]
           ],
           "sequential": [
            [
             0,
             "#0d0887"
            ],
            [
             0.1111111111111111,
             "#46039f"
            ],
            [
             0.2222222222222222,
             "#7201a8"
            ],
            [
             0.3333333333333333,
             "#9c179e"
            ],
            [
             0.4444444444444444,
             "#bd3786"
            ],
            [
             0.5555555555555556,
             "#d8576b"
            ],
            [
             0.6666666666666666,
             "#ed7953"
            ],
            [
             0.7777777777777778,
             "#fb9f3a"
            ],
            [
             0.8888888888888888,
             "#fdca26"
            ],
            [
             1,
             "#f0f921"
            ]
           ],
           "sequentialminus": [
            [
             0,
             "#0d0887"
            ],
            [
             0.1111111111111111,
             "#46039f"
            ],
            [
             0.2222222222222222,
             "#7201a8"
            ],
            [
             0.3333333333333333,
             "#9c179e"
            ],
            [
             0.4444444444444444,
             "#bd3786"
            ],
            [
             0.5555555555555556,
             "#d8576b"
            ],
            [
             0.6666666666666666,
             "#ed7953"
            ],
            [
             0.7777777777777778,
             "#fb9f3a"
            ],
            [
             0.8888888888888888,
             "#fdca26"
            ],
            [
             1,
             "#f0f921"
            ]
           ]
          },
          "colorway": [
           "#636efa",
           "#EF553B",
           "#00cc96",
           "#ab63fa",
           "#FFA15A",
           "#19d3f3",
           "#FF6692",
           "#B6E880",
           "#FF97FF",
           "#FECB52"
          ],
          "font": {
           "color": "#2a3f5f"
          },
          "geo": {
           "bgcolor": "white",
           "lakecolor": "white",
           "landcolor": "#E5ECF6",
           "showlakes": true,
           "showland": true,
           "subunitcolor": "white"
          },
          "hoverlabel": {
           "align": "left"
          },
          "hovermode": "closest",
          "mapbox": {
           "style": "light"
          },
          "paper_bgcolor": "white",
          "plot_bgcolor": "#E5ECF6",
          "polar": {
           "angularaxis": {
            "gridcolor": "white",
            "linecolor": "white",
            "ticks": ""
           },
           "bgcolor": "#E5ECF6",
           "radialaxis": {
            "gridcolor": "white",
            "linecolor": "white",
            "ticks": ""
           }
          },
          "scene": {
           "xaxis": {
            "backgroundcolor": "#E5ECF6",
            "gridcolor": "white",
            "gridwidth": 2,
            "linecolor": "white",
            "showbackground": true,
            "ticks": "",
            "zerolinecolor": "white"
           },
           "yaxis": {
            "backgroundcolor": "#E5ECF6",
            "gridcolor": "white",
            "gridwidth": 2,
            "linecolor": "white",
            "showbackground": true,
            "ticks": "",
            "zerolinecolor": "white"
           },
           "zaxis": {
            "backgroundcolor": "#E5ECF6",
            "gridcolor": "white",
            "gridwidth": 2,
            "linecolor": "white",
            "showbackground": true,
            "ticks": "",
            "zerolinecolor": "white"
           }
          },
          "shapedefaults": {
           "line": {
            "color": "#2a3f5f"
           }
          },
          "ternary": {
           "aaxis": {
            "gridcolor": "white",
            "linecolor": "white",
            "ticks": ""
           },
           "baxis": {
            "gridcolor": "white",
            "linecolor": "white",
            "ticks": ""
           },
           "bgcolor": "#E5ECF6",
           "caxis": {
            "gridcolor": "white",
            "linecolor": "white",
            "ticks": ""
           }
          },
          "title": {
           "x": 0.05
          },
          "xaxis": {
           "automargin": true,
           "gridcolor": "white",
           "linecolor": "white",
           "ticks": "",
           "title": {
            "standoff": 15
           },
           "zerolinecolor": "white",
           "zerolinewidth": 2
          },
          "yaxis": {
           "automargin": true,
           "gridcolor": "white",
           "linecolor": "white",
           "ticks": "",
           "title": {
            "standoff": 15
           },
           "zerolinecolor": "white",
           "zerolinewidth": 2
          }
         }
        },
        "xaxis": {
         "anchor": "y",
         "domain": [
          0,
          1
         ],
         "title": {
          "text": "critic_fullname"
         }
        },
        "yaxis": {
         "anchor": "x",
         "domain": [
          0,
          1
         ],
         "title": {
          "text": "mk_price_minus_bmk_price"
         }
        }
       }
      },
      "text/html": [
       "<div>                            <div id=\"0644e14c-4330-4bab-93d4-1a7240390621\" class=\"plotly-graph-div\" style=\"height:525px; width:100%;\"></div>            <script type=\"text/javascript\">                require([\"plotly\"], function(Plotly) {                    window.PLOTLYENV=window.PLOTLYENV || {};                                    if (document.getElementById(\"0644e14c-4330-4bab-93d4-1a7240390621\")) {                    Plotly.newPlot(                        \"0644e14c-4330-4bab-93d4-1a7240390621\",                        [{\"hovertemplate\": \"region=Piedmont<br>critic_fullname=%{x}<br>mk_price_minus_bmk_price=%{y}<br>marketPrice=%{marker.size}<extra></extra>\", \"legendgroup\": \"Piedmont\", \"marker\": {\"color\": \"#636efa\", \"size\": [1480, 1850, 1800, 1596, 2500, 2260, 2199, 1800, 1350, 1550, 1350, 2872, 1500, 1400, 1299, 1755], \"sizemode\": \"area\", \"sizeref\": 42.95, \"symbol\": \"circle\"}, \"mode\": \"markers\", \"name\": \"Piedmont\", \"orientation\": \"v\", \"showlegend\": true, \"type\": \"scatter\", \"x\": [\"Monica Larner\", \"Antonio Galloni\", \"Antonio Galloni\", \"Antonio Galloni\", \"Antonio Galloni\", \"Antonio Galloni\", \"Antonio Galloni\", \"Monica Larner\", \"Monica Larner\", \"Monica Larner\", \"Monica Larner\", \"Antonio Galloni\", \"Monica Larner\", \"Monica Larner\", \"Monica Larner\", \"Antonio Galloni\"], \"xaxis\": \"x\", \"y\": [124, 670, 500, 451, 280, 70, 859, 360, -2, 250, 90, 318, 92, 124, -1, 425], \"yaxis\": \"y\"}, {\"hovertemplate\": \"region=Tuscany<br>critic_fullname=%{x}<br>mk_price_minus_bmk_price=%{y}<br>marketPrice=%{marker.size}<extra></extra>\", \"legendgroup\": \"Tuscany\", \"marker\": {\"color\": \"#EF553B\", \"size\": [1110, 460, 1408, 574, 520, 660, 540, 1700, 1408, 1024, 1326, 958, 960, 1100, 980, 1200, 1300, 1000, 1678, 857, 420, 1245, 475, 870, 480, 487, 540, 600], \"sizemode\": \"area\", \"sizeref\": 42.95, \"symbol\": \"circle\"}, \"mode\": \"markers\", \"name\": \"Tuscany\", \"orientation\": \"v\", \"showlegend\": true, \"type\": \"scatter\", \"x\": [\"Monica Larner\", \"Monica Larner\", \"Antonio Galloni\", \"Antonio Galloni\", \"Antonio Galloni\", \"Antonio Galloni\", \"Antonio Galloni\", \"Daniel Thomases\", \"Antonio Galloni\", \"Antonio Galloni\", \"Monica Larner\", \"Monica Larner\", \"Monica Larner\", \"Antonio Galloni\", \"Monica Larner\", \"Monica Larner\", \"Monica Larner\", \"Monica Larner\", \"Antonio Galloni\", \"Monica Larner\", \"Monica Larner\", \"Antonio Galloni\", \"Monica Larner\", \"Monica Larner\", \"Monica Larner\", \"Monica Larner\", \"Monica Larner\", \"Monica Larner\"], \"xaxis\": \"x\", \"y\": [-94, 40, 258, 223, 60, 270, 240, 322, 170, -48, 156, 98, 110, 90, 150, 118, 100, 140, 498, 57, 78, 363, 87, -50, 100, 167, -4, 192], \"yaxis\": \"y\"}, {\"hovertemplate\": \"region=Bordeaux<br>critic_fullname=%{x}<br>mk_price_minus_bmk_price=%{y}<br>marketPrice=%{marker.size}<extra></extra>\", \"legendgroup\": \"Bordeaux\", \"marker\": {\"color\": \"#00cc96\", \"size\": [3910, 3700, 6250, 4400, 3720, 3920, 3700, 780, 1040, 738, 10500, 3900, 6250, 1082, 870, 900, 3826, 800, 907, 450, 550, 1000, 900, 990, 525, 3560, 750, 6830, 975, 530, 880, 850, 4850, 3758, 840, 420, 3800, 450, 400, 490, 490, 820, 400, 5415, 400, 300, 950, 350, 477, 5415, 4820, 496, 3600, 790, 2973, 3300, 408, 2820, 468, 4425, 2900, 2690, 2750, 3295, 3400, 2590, 3800, 2300, 2360, 2580, 2960, 2730, 3144, 2761], \"sizemode\": \"area\", \"sizeref\": 42.95, \"symbol\": \"circle\"}, \"mode\": \"markers\", \"name\": \"Bordeaux\", \"orientation\": \"v\", \"showlegend\": true, \"type\": \"scatter\", \"x\": [\"Neal Martin\", \"Lisa Perrotti-Brown\", \"Robert M. Parker, Jr.\", \"Neal Martin\", \"Neal Martin\", \"Robert M. Parker, Jr.\", \"Neal Martin\", \"Neal Martin\", \"Lisa Perrotti-Brown\", \"Lisa Perrotti-Brown\", \"Lisa Perrotti-Brown\", \"Robert M. Parker, Jr.\", \"Lisa Perrotti-Brown\", \"Lisa Perrotti-Brown\", \"Robert M. Parker, Jr.\", \"Robert M. Parker, Jr.\", \"Neal Martin\", \"Robert M. Parker, Jr.\", \"Robert M. Parker, Jr.\", \"Robert M. Parker, Jr.\", \"Neal Martin\", \"Neal Martin\", \"Neal Martin\", \"Lisa Perrotti-Brown\", \"Robert M. Parker, Jr.\", \"Neal Martin\", \"Robert M. Parker, Jr.\", \"Lisa Perrotti-Brown\", \"Lisa Perrotti-Brown\", \"Neal Martin\", \"Neal Martin\", \"Lisa Perrotti-Brown\", \"Neal Martin\", \"Robert M. Parker, Jr.\", \"Neal Martin\", \"Neal Martin\", \"Neal Martin\", \"Neal Martin\", \"Robert M. Parker, Jr.\", \"Lisa Perrotti-Brown\", \"Lisa Perrotti-Brown\", \"Robert M. Parker, Jr.\", \"Robert M. Parker, Jr.\", \"Lisa Perrotti-Brown\", \"Robert M. Parker, Jr.\", \"Neal Martin\", \"Lisa Perrotti-Brown\", \"Neal Martin\", \"Neal Martin\", \"Lisa Perrotti-Brown\", \"Lisa Perrotti-Brown\", \"Neal Martin\", \"Robert M. Parker, Jr.\", \"Neal Martin\", \"Robert M. Parker, Jr.\", \"Robert M. Parker, Jr.\", \"Lisa Perrotti-Brown\", \"Robert M. Parker, Jr.\", \"Robert M. Parker, Jr.\", \"Robert M. Parker, Jr.\", \"Neal Martin\", \"Neal Martin\", \"Robert M. Parker, Jr.\", \"Lisa Perrotti-Brown\", \"Lisa Perrotti-Brown\", \"Robert M. Parker, Jr.\", \"Neal Martin\", \"Robert M. Parker, Jr.\", \"Lisa Perrotti-Brown\", \"Lisa Perrotti-Brown\", \"Lisa Perrotti-Brown\", \"Lisa Perrotti-Brown\", \"Lisa Perrotti-Brown\", \"Lisa Perrotti-Brown\"], \"xaxis\": \"x\", \"y\": [110, 0, 134, 0, 240, 40, 180, 98, 90, -22, 656, 216, 328, 34, 165, 100, -290, 55, 102, 230, 130, 12, 37, 0, 225, 35, -40, -256, -51, 80, 155, -10, 50, 68, 59, -112, 240, 110, 68, -14, -4, 85, 100, 177, 45, -4, 108, 26, 117, 265, 660, 184, 499, -4, 363, 145, 51, 442, 3, -125, 250, 190, 245, 295, 50, 590, 195, 300, 100, 80, 116, 272, 24, 359], \"yaxis\": \"y\"}, {\"hovertemplate\": \"region=Burgundy<br>critic_fullname=%{x}<br>mk_price_minus_bmk_price=%{y}<br>marketPrice=%{marker.size}<extra></extra>\", \"legendgroup\": \"Burgundy\", \"marker\": {\"color\": \"#ab63fa\", \"size\": [8000, 9950, 14766, 7000, 7800, 14520, 8400, 17180, 7906, 8400, 6800, 12402, 17000, 10650, 8016, 6396, 6900, 6552, 6360, 5600, 8400, 9000, 6000, 7812], \"sizemode\": \"area\", \"sizeref\": 42.95, \"symbol\": \"circle\"}, \"mode\": \"markers\", \"name\": \"Burgundy\", \"orientation\": \"v\", \"showlegend\": true, \"type\": \"scatter\", \"x\": [\"William Kelley\", \"Neal Martin\", \"William Kelley\", \"William Kelley\", \"William Kelley\", \"Neal Martin\", \"Antonio Galloni\", \"Neal Martin\", \"Neal Martin\", \"Neal Martin\", \"William Kelley\", \"Neal Martin\", \"William Kelley\", \"Neal Martin\", \"William Kelley\", \"William Kelley\", \"William Kelley\", \"William Kelley\", \"William Kelley\", \"Neal Martin\", \"William Kelley\", \"William Kelley\", \"William Kelley\", \"William Kelley\"], \"xaxis\": \"x\", \"y\": [1026, 1950, -3984, 1640, 470, 2520, 2440, 10642, 782, 1200, 5070, -448, 4000, 6650, 726, -1504, 495, 2632, 1860, 1200, 2700, 3600, -500, -728], \"yaxis\": \"y\"}],                        {\"legend\": {\"itemsizing\": \"constant\", \"title\": {\"text\": \"region\"}, \"tracegroupgap\": 0}, \"margin\": {\"t\": 60}, \"template\": {\"data\": {\"bar\": [{\"error_x\": {\"color\": \"#2a3f5f\"}, \"error_y\": {\"color\": \"#2a3f5f\"}, \"marker\": {\"line\": {\"color\": \"#E5ECF6\", \"width\": 0.5}}, \"type\": \"bar\"}], \"barpolar\": [{\"marker\": {\"line\": {\"color\": \"#E5ECF6\", \"width\": 0.5}}, \"type\": \"barpolar\"}], \"carpet\": [{\"aaxis\": {\"endlinecolor\": \"#2a3f5f\", \"gridcolor\": \"white\", \"linecolor\": \"white\", \"minorgridcolor\": \"white\", \"startlinecolor\": \"#2a3f5f\"}, \"baxis\": {\"endlinecolor\": \"#2a3f5f\", \"gridcolor\": \"white\", \"linecolor\": \"white\", \"minorgridcolor\": \"white\", \"startlinecolor\": \"#2a3f5f\"}, \"type\": \"carpet\"}], \"choropleth\": [{\"colorbar\": {\"outlinewidth\": 0, \"ticks\": \"\"}, \"type\": \"choropleth\"}], \"contour\": [{\"colorbar\": {\"outlinewidth\": 0, \"ticks\": \"\"}, \"colorscale\": [[0.0, \"#0d0887\"], [0.1111111111111111, \"#46039f\"], [0.2222222222222222, \"#7201a8\"], [0.3333333333333333, \"#9c179e\"], [0.4444444444444444, \"#bd3786\"], [0.5555555555555556, \"#d8576b\"], [0.6666666666666666, \"#ed7953\"], [0.7777777777777778, \"#fb9f3a\"], [0.8888888888888888, \"#fdca26\"], [1.0, \"#f0f921\"]], \"type\": \"contour\"}], \"contourcarpet\": [{\"colorbar\": {\"outlinewidth\": 0, \"ticks\": \"\"}, \"type\": \"contourcarpet\"}], \"heatmap\": [{\"colorbar\": {\"outlinewidth\": 0, \"ticks\": \"\"}, \"colorscale\": [[0.0, \"#0d0887\"], [0.1111111111111111, \"#46039f\"], [0.2222222222222222, \"#7201a8\"], [0.3333333333333333, \"#9c179e\"], [0.4444444444444444, \"#bd3786\"], [0.5555555555555556, \"#d8576b\"], [0.6666666666666666, \"#ed7953\"], [0.7777777777777778, \"#fb9f3a\"], [0.8888888888888888, \"#fdca26\"], [1.0, \"#f0f921\"]], \"type\": \"heatmap\"}], \"heatmapgl\": [{\"colorbar\": {\"outlinewidth\": 0, \"ticks\": \"\"}, \"colorscale\": [[0.0, \"#0d0887\"], [0.1111111111111111, \"#46039f\"], [0.2222222222222222, \"#7201a8\"], [0.3333333333333333, \"#9c179e\"], [0.4444444444444444, \"#bd3786\"], [0.5555555555555556, \"#d8576b\"], [0.6666666666666666, \"#ed7953\"], [0.7777777777777778, \"#fb9f3a\"], [0.8888888888888888, \"#fdca26\"], [1.0, \"#f0f921\"]], \"type\": \"heatmapgl\"}], \"histogram\": [{\"marker\": {\"colorbar\": {\"outlinewidth\": 0, \"ticks\": \"\"}}, \"type\": \"histogram\"}], \"histogram2d\": [{\"colorbar\": {\"outlinewidth\": 0, \"ticks\": \"\"}, \"colorscale\": [[0.0, \"#0d0887\"], [0.1111111111111111, \"#46039f\"], [0.2222222222222222, \"#7201a8\"], [0.3333333333333333, \"#9c179e\"], [0.4444444444444444, \"#bd3786\"], [0.5555555555555556, \"#d8576b\"], [0.6666666666666666, \"#ed7953\"], [0.7777777777777778, \"#fb9f3a\"], [0.8888888888888888, \"#fdca26\"], [1.0, \"#f0f921\"]], \"type\": \"histogram2d\"}], \"histogram2dcontour\": [{\"colorbar\": {\"outlinewidth\": 0, \"ticks\": \"\"}, \"colorscale\": [[0.0, \"#0d0887\"], [0.1111111111111111, \"#46039f\"], [0.2222222222222222, \"#7201a8\"], [0.3333333333333333, \"#9c179e\"], [0.4444444444444444, \"#bd3786\"], [0.5555555555555556, \"#d8576b\"], [0.6666666666666666, \"#ed7953\"], [0.7777777777777778, \"#fb9f3a\"], [0.8888888888888888, \"#fdca26\"], [1.0, \"#f0f921\"]], \"type\": \"histogram2dcontour\"}], \"mesh3d\": [{\"colorbar\": {\"outlinewidth\": 0, \"ticks\": \"\"}, \"type\": \"mesh3d\"}], \"parcoords\": [{\"line\": {\"colorbar\": {\"outlinewidth\": 0, \"ticks\": \"\"}}, \"type\": \"parcoords\"}], \"pie\": [{\"automargin\": true, \"type\": \"pie\"}], \"scatter\": [{\"marker\": {\"colorbar\": {\"outlinewidth\": 0, \"ticks\": \"\"}}, \"type\": \"scatter\"}], \"scatter3d\": [{\"line\": {\"colorbar\": {\"outlinewidth\": 0, \"ticks\": \"\"}}, \"marker\": {\"colorbar\": {\"outlinewidth\": 0, \"ticks\": \"\"}}, \"type\": \"scatter3d\"}], \"scattercarpet\": [{\"marker\": {\"colorbar\": {\"outlinewidth\": 0, \"ticks\": \"\"}}, \"type\": \"scattercarpet\"}], \"scattergeo\": [{\"marker\": {\"colorbar\": {\"outlinewidth\": 0, \"ticks\": \"\"}}, \"type\": \"scattergeo\"}], \"scattergl\": [{\"marker\": {\"colorbar\": {\"outlinewidth\": 0, \"ticks\": \"\"}}, \"type\": \"scattergl\"}], \"scattermapbox\": [{\"marker\": {\"colorbar\": {\"outlinewidth\": 0, \"ticks\": \"\"}}, \"type\": \"scattermapbox\"}], \"scatterpolar\": [{\"marker\": {\"colorbar\": {\"outlinewidth\": 0, \"ticks\": \"\"}}, \"type\": \"scatterpolar\"}], \"scatterpolargl\": [{\"marker\": {\"colorbar\": {\"outlinewidth\": 0, \"ticks\": \"\"}}, \"type\": \"scatterpolargl\"}], \"scatterternary\": [{\"marker\": {\"colorbar\": {\"outlinewidth\": 0, \"ticks\": \"\"}}, \"type\": \"scatterternary\"}], \"surface\": [{\"colorbar\": {\"outlinewidth\": 0, \"ticks\": \"\"}, \"colorscale\": [[0.0, \"#0d0887\"], [0.1111111111111111, \"#46039f\"], [0.2222222222222222, \"#7201a8\"], [0.3333333333333333, \"#9c179e\"], [0.4444444444444444, \"#bd3786\"], [0.5555555555555556, \"#d8576b\"], [0.6666666666666666, \"#ed7953\"], [0.7777777777777778, \"#fb9f3a\"], [0.8888888888888888, \"#fdca26\"], [1.0, \"#f0f921\"]], \"type\": \"surface\"}], \"table\": [{\"cells\": {\"fill\": {\"color\": \"#EBF0F8\"}, \"line\": {\"color\": \"white\"}}, \"header\": {\"fill\": {\"color\": \"#C8D4E3\"}, \"line\": {\"color\": \"white\"}}, \"type\": \"table\"}]}, \"layout\": {\"annotationdefaults\": {\"arrowcolor\": \"#2a3f5f\", \"arrowhead\": 0, \"arrowwidth\": 1}, \"autotypenumbers\": \"strict\", \"coloraxis\": {\"colorbar\": {\"outlinewidth\": 0, \"ticks\": \"\"}}, \"colorscale\": {\"diverging\": [[0, \"#8e0152\"], [0.1, \"#c51b7d\"], [0.2, \"#de77ae\"], [0.3, \"#f1b6da\"], [0.4, \"#fde0ef\"], [0.5, \"#f7f7f7\"], [0.6, \"#e6f5d0\"], [0.7, \"#b8e186\"], [0.8, \"#7fbc41\"], [0.9, \"#4d9221\"], [1, \"#276419\"]], \"sequential\": [[0.0, \"#0d0887\"], [0.1111111111111111, \"#46039f\"], [0.2222222222222222, \"#7201a8\"], [0.3333333333333333, \"#9c179e\"], [0.4444444444444444, \"#bd3786\"], [0.5555555555555556, \"#d8576b\"], [0.6666666666666666, \"#ed7953\"], [0.7777777777777778, \"#fb9f3a\"], [0.8888888888888888, \"#fdca26\"], [1.0, \"#f0f921\"]], \"sequentialminus\": [[0.0, \"#0d0887\"], [0.1111111111111111, \"#46039f\"], [0.2222222222222222, \"#7201a8\"], [0.3333333333333333, \"#9c179e\"], [0.4444444444444444, \"#bd3786\"], [0.5555555555555556, \"#d8576b\"], [0.6666666666666666, \"#ed7953\"], [0.7777777777777778, \"#fb9f3a\"], [0.8888888888888888, \"#fdca26\"], [1.0, \"#f0f921\"]]}, \"colorway\": [\"#636efa\", \"#EF553B\", \"#00cc96\", \"#ab63fa\", \"#FFA15A\", \"#19d3f3\", \"#FF6692\", \"#B6E880\", \"#FF97FF\", \"#FECB52\"], \"font\": {\"color\": \"#2a3f5f\"}, \"geo\": {\"bgcolor\": \"white\", \"lakecolor\": \"white\", \"landcolor\": \"#E5ECF6\", \"showlakes\": true, \"showland\": true, \"subunitcolor\": \"white\"}, \"hoverlabel\": {\"align\": \"left\"}, \"hovermode\": \"closest\", \"mapbox\": {\"style\": \"light\"}, \"paper_bgcolor\": \"white\", \"plot_bgcolor\": \"#E5ECF6\", \"polar\": {\"angularaxis\": {\"gridcolor\": \"white\", \"linecolor\": \"white\", \"ticks\": \"\"}, \"bgcolor\": \"#E5ECF6\", \"radialaxis\": {\"gridcolor\": \"white\", \"linecolor\": \"white\", \"ticks\": \"\"}}, \"scene\": {\"xaxis\": {\"backgroundcolor\": \"#E5ECF6\", \"gridcolor\": \"white\", \"gridwidth\": 2, \"linecolor\": \"white\", \"showbackground\": true, \"ticks\": \"\", \"zerolinecolor\": \"white\"}, \"yaxis\": {\"backgroundcolor\": \"#E5ECF6\", \"gridcolor\": \"white\", \"gridwidth\": 2, \"linecolor\": \"white\", \"showbackground\": true, \"ticks\": \"\", \"zerolinecolor\": \"white\"}, \"zaxis\": {\"backgroundcolor\": \"#E5ECF6\", \"gridcolor\": \"white\", \"gridwidth\": 2, \"linecolor\": \"white\", \"showbackground\": true, \"ticks\": \"\", \"zerolinecolor\": \"white\"}}, \"shapedefaults\": {\"line\": {\"color\": \"#2a3f5f\"}}, \"ternary\": {\"aaxis\": {\"gridcolor\": \"white\", \"linecolor\": \"white\", \"ticks\": \"\"}, \"baxis\": {\"gridcolor\": \"white\", \"linecolor\": \"white\", \"ticks\": \"\"}, \"bgcolor\": \"#E5ECF6\", \"caxis\": {\"gridcolor\": \"white\", \"linecolor\": \"white\", \"ticks\": \"\"}}, \"title\": {\"x\": 0.05}, \"xaxis\": {\"automargin\": true, \"gridcolor\": \"white\", \"linecolor\": \"white\", \"ticks\": \"\", \"title\": {\"standoff\": 15}, \"zerolinecolor\": \"white\", \"zerolinewidth\": 2}, \"yaxis\": {\"automargin\": true, \"gridcolor\": \"white\", \"linecolor\": \"white\", \"ticks\": \"\", \"title\": {\"standoff\": 15}, \"zerolinecolor\": \"white\", \"zerolinewidth\": 2}}}, \"xaxis\": {\"anchor\": \"y\", \"domain\": [0.0, 1.0], \"title\": {\"text\": \"critic_fullname\"}}, \"yaxis\": {\"anchor\": \"x\", \"domain\": [0.0, 1.0], \"title\": {\"text\": \"mk_price_minus_bmk_price\"}}},                        {\"responsive\": true}                    ).then(function(){\n",
       "                            \n",
       "var gd = document.getElementById('0644e14c-4330-4bab-93d4-1a7240390621');\n",
       "var x = new MutationObserver(function (mutations, observer) {{\n",
       "        var display = window.getComputedStyle(gd).display;\n",
       "        if (!display || display === 'none') {{\n",
       "            console.log([gd, 'removed!']);\n",
       "            Plotly.purge(gd);\n",
       "            observer.disconnect();\n",
       "        }}\n",
       "}});\n",
       "\n",
       "// Listen for the removal of the full notebook cells\n",
       "var notebookContainer = gd.closest('#notebook-container');\n",
       "if (notebookContainer) {{\n",
       "    x.observe(notebookContainer, {childList: true});\n",
       "}}\n",
       "\n",
       "// Listen for the clearing of the current output cell\n",
       "var outputEl = gd.closest('.output');\n",
       "if (outputEl) {{\n",
       "    x.observe(outputEl, {childList: true});\n",
       "}}\n",
       "\n",
       "                        })                };                });            </script>        </div>"
      ]
     },
     "metadata": {},
     "output_type": "display_data"
    }
   ],
   "source": [
    "specialists = px.scatter(merge, x=\"critic_fullname\", y=\"mk_price_minus_bmk_price\", color=\"region\", size=\"marketPrice\")\n",
    "specialists.show()"
   ]
  },
  {
   "cell_type": "code",
   "execution_count": null,
   "metadata": {},
   "outputs": [],
   "source": []
  }
 ],
 "metadata": {
  "kernelspec": {
   "display_name": "Python 3",
   "language": "python",
   "name": "python3"
  },
  "language_info": {
   "codemirror_mode": {
    "name": "ipython",
    "version": 3
   },
   "file_extension": ".py",
   "mimetype": "text/x-python",
   "name": "python",
   "nbconvert_exporter": "python",
   "pygments_lexer": "ipython3",
   "version": "3.7.3"
  }
 },
 "nbformat": 4,
 "nbformat_minor": 2
}
