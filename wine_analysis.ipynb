{
 "cells": [
  {
   "cell_type": "markdown",
   "metadata": {},
   "source": [
    "### Importing Data and Packages\n",
    "#### Pandas for data manipulation and Plotly for visualisation. Each graph produced can be interactively zoomed on.\n",
    "\n",
    "#### The data imported has been cleaned in Microsoft Excel. Because of the small size of the dataset, it was quicker to clean in to two CSVs with data that I considered relevant, as well two transformations of data in the first sheet, that is the both the average list price and the market price of a given wine, minus the benchmark trade price. Rows from the first sheet of data has rows where Null values for prices exist, omitted.\n",
    "\n",
    "#### The first sheet of data is called prices whilst the second sheet of data that contains wine scores, is called scores. Both of these sheets of data have had the \"LWIN_11\" calculated for each row of data. The two sheets will be merged to form a complete dataframe called \"merge\"\n"
   ]
  },
  {
   "cell_type": "code",
   "execution_count": 355,
   "metadata": {},
   "outputs": [],
   "source": [
    "import pandas as pd\n",
    "import plotly.express as px\n",
    "\n",
    "prices = pd.read_csv(\"C:/Users/jorda/Desktop/wine_analysis/wine_prices.csv\")\n",
    "scores = pd.read_csv(\"C:/Users/jorda/Desktop/wine_analysis/wine_scores.csv\")"
   ]
  },
  {
   "cell_type": "code",
   "execution_count": 356,
   "metadata": {},
   "outputs": [],
   "source": [
    "prices = prices.drop_duplicates(subset =\"lwin_11\")\n",
    "scores = scores.drop_duplicates(subset = \"lwin_11\")"
   ]
  },
  {
   "cell_type": "code",
   "execution_count": 357,
   "metadata": {},
   "outputs": [],
   "source": [
    "merge = pd.merge(prices, scores, on='lwin_11')"
   ]
  },
  {
   "cell_type": "code",
   "execution_count": 358,
   "metadata": {},
   "outputs": [
    {
     "data": {
      "text/html": [
       "<div>\n",
       "<style scoped>\n",
       "    .dataframe tbody tr th:only-of-type {\n",
       "        vertical-align: middle;\n",
       "    }\n",
       "\n",
       "    .dataframe tbody tr th {\n",
       "        vertical-align: top;\n",
       "    }\n",
       "\n",
       "    .dataframe thead th {\n",
       "        text-align: right;\n",
       "    }\n",
       "</style>\n",
       "<table border=\"1\" class=\"dataframe\">\n",
       "  <thead>\n",
       "    <tr style=\"text-align: right;\">\n",
       "      <th></th>\n",
       "      <th>marketPrice</th>\n",
       "      <th>marketPriceDate</th>\n",
       "      <th>averageListPrice</th>\n",
       "      <th>averageListQty</th>\n",
       "      <th>benchmarkTradePrice</th>\n",
       "      <th>mk_price_minus_bmk_price</th>\n",
       "      <th>list_price_minus_bmk_price</th>\n",
       "      <th>benchmarkTradeDate</th>\n",
       "      <th>wineName</th>\n",
       "      <th>region</th>\n",
       "      <th>vintage_x</th>\n",
       "      <th>importdate</th>\n",
       "      <th>lwin_11</th>\n",
       "      <th>lwin_7</th>\n",
       "      <th>vintage_y</th>\n",
       "      <th>location_name</th>\n",
       "      <th>color</th>\n",
       "      <th>maturity</th>\n",
       "      <th>type</th>\n",
       "      <th>variety</th>\n",
       "      <th>critic_fullname</th>\n",
       "      <th>score</th>\n",
       "      <th>drink_year_min</th>\n",
       "      <th>drink_year_max</th>\n",
       "      <th>score_date</th>\n",
       "      <th>tasting_note</th>\n",
       "      <th>lwin</th>\n",
       "    </tr>\n",
       "  </thead>\n",
       "  <tbody>\n",
       "    <tr>\n",
       "      <th>0</th>\n",
       "      <td>1480</td>\n",
       "      <td>03/05/2021</td>\n",
       "      <td>1618</td>\n",
       "      <td>73</td>\n",
       "      <td>1356</td>\n",
       "      <td>124</td>\n",
       "      <td>262</td>\n",
       "      <td>20/04/2021</td>\n",
       "      <td>Gaja, Barbaresco</td>\n",
       "      <td>Piedmont</td>\n",
       "      <td>2017</td>\n",
       "      <td>10/05/2021</td>\n",
       "      <td>10996052017</td>\n",
       "      <td>1099605</td>\n",
       "      <td>2017</td>\n",
       "      <td>Barbaresco</td>\n",
       "      <td>Red</td>\n",
       "      <td>Young</td>\n",
       "      <td>Table</td>\n",
       "      <td>Nebbiolo</td>\n",
       "      <td>Monica Larner</td>\n",
       "      <td>95.0</td>\n",
       "      <td>2023.0</td>\n",
       "      <td>2045.0</td>\n",
       "      <td>23/07/2020</td>\n",
       "      <td>The Gaja 2017 Barbaresco is nuanced and delica...</td>\n",
       "      <td>1099605</td>\n",
       "    </tr>\n",
       "    <tr>\n",
       "      <th>1</th>\n",
       "      <td>1110</td>\n",
       "      <td>04/05/2021</td>\n",
       "      <td>1181</td>\n",
       "      <td>12</td>\n",
       "      <td>1204</td>\n",
       "      <td>-94</td>\n",
       "      <td>-23</td>\n",
       "      <td>03/05/2021</td>\n",
       "      <td>Tignanello, Toscana</td>\n",
       "      <td>Tuscany</td>\n",
       "      <td>2015</td>\n",
       "      <td>10/05/2021</td>\n",
       "      <td>10953912015</td>\n",
       "      <td>1095391</td>\n",
       "      <td>2015</td>\n",
       "      <td>Toscana</td>\n",
       "      <td>Red</td>\n",
       "      <td>Early</td>\n",
       "      <td>Table</td>\n",
       "      <td>Proprietary Blend</td>\n",
       "      <td>Monica Larner</td>\n",
       "      <td>96.0</td>\n",
       "      <td>2019.0</td>\n",
       "      <td>2040.0</td>\n",
       "      <td>06/09/2018</td>\n",
       "      <td>The 2015 Tignanello is a wine that opens, like...</td>\n",
       "      <td>1095391</td>\n",
       "    </tr>\n",
       "    <tr>\n",
       "      <th>2</th>\n",
       "      <td>3910</td>\n",
       "      <td>07/05/2021</td>\n",
       "      <td>4793</td>\n",
       "      <td>77</td>\n",
       "      <td>3800</td>\n",
       "      <td>110</td>\n",
       "      <td>993</td>\n",
       "      <td>07/04/2021</td>\n",
       "      <td>Chateau Margaux Premier Cru Classe, Margaux</td>\n",
       "      <td>Bordeaux</td>\n",
       "      <td>2006</td>\n",
       "      <td>10/05/2021</td>\n",
       "      <td>10127812006</td>\n",
       "      <td>1012781</td>\n",
       "      <td>2006</td>\n",
       "      <td>Margaux</td>\n",
       "      <td>Red</td>\n",
       "      <td>Mature</td>\n",
       "      <td>Table</td>\n",
       "      <td>Proprietary Blend</td>\n",
       "      <td>Neal Martin</td>\n",
       "      <td>94.0</td>\n",
       "      <td>2016.0</td>\n",
       "      <td>2030.0</td>\n",
       "      <td>29/05/2016</td>\n",
       "      <td>Tasted at Bordeaux Index's annual 10-Year On t...</td>\n",
       "      <td>1012781</td>\n",
       "    </tr>\n",
       "    <tr>\n",
       "      <th>3</th>\n",
       "      <td>3700</td>\n",
       "      <td>07/05/2021</td>\n",
       "      <td>4213</td>\n",
       "      <td>150</td>\n",
       "      <td>3700</td>\n",
       "      <td>0</td>\n",
       "      <td>513</td>\n",
       "      <td>06/05/2021</td>\n",
       "      <td>Chateau Margaux Premier Cru Classe, Margaux</td>\n",
       "      <td>Bordeaux</td>\n",
       "      <td>2017</td>\n",
       "      <td>10/05/2021</td>\n",
       "      <td>10127812017</td>\n",
       "      <td>1012781</td>\n",
       "      <td>2017</td>\n",
       "      <td>Margaux</td>\n",
       "      <td>Red</td>\n",
       "      <td>Young</td>\n",
       "      <td>Table</td>\n",
       "      <td>Proprietary Blend</td>\n",
       "      <td>Lisa Perrotti-Brown</td>\n",
       "      <td>98.0</td>\n",
       "      <td>2024.0</td>\n",
       "      <td>2060.0</td>\n",
       "      <td>16/03/2020</td>\n",
       "      <td>The 2017 Chateau Margaux is a blend of 89% Cab...</td>\n",
       "      <td>1012781</td>\n",
       "    </tr>\n",
       "    <tr>\n",
       "      <th>4</th>\n",
       "      <td>8000</td>\n",
       "      <td>07/05/2021</td>\n",
       "      <td>8606</td>\n",
       "      <td>8</td>\n",
       "      <td>6974</td>\n",
       "      <td>1026</td>\n",
       "      <td>1632</td>\n",
       "      <td>14/03/2021</td>\n",
       "      <td>Domaine Leflaive, Chevalier-Montrachet Grand Cru</td>\n",
       "      <td>Burgundy</td>\n",
       "      <td>2017</td>\n",
       "      <td>10/05/2021</td>\n",
       "      <td>10734012017</td>\n",
       "      <td>1073401</td>\n",
       "      <td>2017</td>\n",
       "      <td>Cote de Beaune</td>\n",
       "      <td>White</td>\n",
       "      <td>NaN</td>\n",
       "      <td>Table</td>\n",
       "      <td>Chardonnay</td>\n",
       "      <td>William Kelley</td>\n",
       "      <td>96.0</td>\n",
       "      <td>NaN</td>\n",
       "      <td>NaN</td>\n",
       "      <td>04/01/2019</td>\n",
       "      <td>The 2017 Chevalier-Montrachet Grand Cru delive...</td>\n",
       "      <td>1073401</td>\n",
       "    </tr>\n",
       "    <tr>\n",
       "      <th>5</th>\n",
       "      <td>6250</td>\n",
       "      <td>07/05/2021</td>\n",
       "      <td>7028</td>\n",
       "      <td>45</td>\n",
       "      <td>6116</td>\n",
       "      <td>134</td>\n",
       "      <td>912</td>\n",
       "      <td>07/05/2021</td>\n",
       "      <td>Chateau Margaux Premier Cru Classe, Margaux</td>\n",
       "      <td>Bordeaux</td>\n",
       "      <td>2005</td>\n",
       "      <td>10/05/2021</td>\n",
       "      <td>10127812005</td>\n",
       "      <td>1012781</td>\n",
       "      <td>2005</td>\n",
       "      <td>Margaux</td>\n",
       "      <td>Red</td>\n",
       "      <td>Early</td>\n",
       "      <td>Table</td>\n",
       "      <td>Proprietary Blend</td>\n",
       "      <td>Robert M. Parker, Jr.</td>\n",
       "      <td>98.0</td>\n",
       "      <td>2020.0</td>\n",
       "      <td>2050.0</td>\n",
       "      <td>28/06/2015</td>\n",
       "      <td>The first-growth 2005 Ch�teau Margaux (85% Cab...</td>\n",
       "      <td>1012781</td>\n",
       "    </tr>\n",
       "    <tr>\n",
       "      <th>6</th>\n",
       "      <td>4400</td>\n",
       "      <td>07/05/2021</td>\n",
       "      <td>4882</td>\n",
       "      <td>23</td>\n",
       "      <td>4400</td>\n",
       "      <td>0</td>\n",
       "      <td>482</td>\n",
       "      <td>29/09/2020</td>\n",
       "      <td>Chateau Margaux Premier Cru Classe, Margaux</td>\n",
       "      <td>Bordeaux</td>\n",
       "      <td>2001</td>\n",
       "      <td>10/05/2021</td>\n",
       "      <td>10127812001</td>\n",
       "      <td>1012781</td>\n",
       "      <td>2001</td>\n",
       "      <td>Margaux</td>\n",
       "      <td>Red</td>\n",
       "      <td>Early</td>\n",
       "      <td>Table</td>\n",
       "      <td>Proprietary Blend</td>\n",
       "      <td>Neal Martin</td>\n",
       "      <td>94.0</td>\n",
       "      <td>2018.0</td>\n",
       "      <td>2045.0</td>\n",
       "      <td>28/10/2016</td>\n",
       "      <td>The 2001 Chateau Margaux continues to evolve i...</td>\n",
       "      <td>1012781</td>\n",
       "    </tr>\n",
       "    <tr>\n",
       "      <th>7</th>\n",
       "      <td>3720</td>\n",
       "      <td>07/05/2021</td>\n",
       "      <td>4079</td>\n",
       "      <td>50</td>\n",
       "      <td>3480</td>\n",
       "      <td>240</td>\n",
       "      <td>599</td>\n",
       "      <td>10/04/2021</td>\n",
       "      <td>Chateau Margaux Premier Cru Classe, Margaux</td>\n",
       "      <td>Bordeaux</td>\n",
       "      <td>2014</td>\n",
       "      <td>10/05/2021</td>\n",
       "      <td>10127812014</td>\n",
       "      <td>1012781</td>\n",
       "      <td>2014</td>\n",
       "      <td>Margaux</td>\n",
       "      <td>Red</td>\n",
       "      <td>Young</td>\n",
       "      <td>Table</td>\n",
       "      <td>Proprietary Blend</td>\n",
       "      <td>Neal Martin</td>\n",
       "      <td>95.0</td>\n",
       "      <td>2024.0</td>\n",
       "      <td>2050.0</td>\n",
       "      <td>31/03/2017</td>\n",
       "      <td>The 2014 Ch�teau Margaux represents 36% of the...</td>\n",
       "      <td>1012781</td>\n",
       "    </tr>\n",
       "    <tr>\n",
       "      <th>8</th>\n",
       "      <td>3920</td>\n",
       "      <td>07/05/2021</td>\n",
       "      <td>4494</td>\n",
       "      <td>74</td>\n",
       "      <td>3880</td>\n",
       "      <td>40</td>\n",
       "      <td>614</td>\n",
       "      <td>22/03/2021</td>\n",
       "      <td>Chateau Margaux Premier Cru Classe, Margaux</td>\n",
       "      <td>Bordeaux</td>\n",
       "      <td>2008</td>\n",
       "      <td>10/05/2021</td>\n",
       "      <td>10127812008</td>\n",
       "      <td>1012781</td>\n",
       "      <td>2008</td>\n",
       "      <td>Margaux</td>\n",
       "      <td>Red</td>\n",
       "      <td>Early</td>\n",
       "      <td>Table</td>\n",
       "      <td>Proprietary Blend</td>\n",
       "      <td>Robert M. Parker, Jr.</td>\n",
       "      <td>94.0</td>\n",
       "      <td>2011.0</td>\n",
       "      <td>2041.0</td>\n",
       "      <td>01/05/2011</td>\n",
       "      <td>This is a stunning Chateau Margaux, made in a ...</td>\n",
       "      <td>1012781</td>\n",
       "    </tr>\n",
       "    <tr>\n",
       "      <th>9</th>\n",
       "      <td>460</td>\n",
       "      <td>07/05/2021</td>\n",
       "      <td>487</td>\n",
       "      <td>154</td>\n",
       "      <td>420</td>\n",
       "      <td>40</td>\n",
       "      <td>67</td>\n",
       "      <td>23/03/2021</td>\n",
       "      <td>Tua Rita, Giusto di Notri, Toscana</td>\n",
       "      <td>Tuscany</td>\n",
       "      <td>2016</td>\n",
       "      <td>10/05/2021</td>\n",
       "      <td>11058072016</td>\n",
       "      <td>1105807</td>\n",
       "      <td>2016</td>\n",
       "      <td>Toscana</td>\n",
       "      <td>Red</td>\n",
       "      <td>Early</td>\n",
       "      <td>Table</td>\n",
       "      <td>Proprietary Blend</td>\n",
       "      <td>Monica Larner</td>\n",
       "      <td>97.0</td>\n",
       "      <td>2020.0</td>\n",
       "      <td>2040.0</td>\n",
       "      <td>31/05/2019</td>\n",
       "      <td>The 2016 Giusto di Notri is a profound and dar...</td>\n",
       "      <td>1105807</td>\n",
       "    </tr>\n",
       "    <tr>\n",
       "      <th>10</th>\n",
       "      <td>3700</td>\n",
       "      <td>07/05/2021</td>\n",
       "      <td>4001</td>\n",
       "      <td>24</td>\n",
       "      <td>3520</td>\n",
       "      <td>180</td>\n",
       "      <td>481</td>\n",
       "      <td>07/04/2021</td>\n",
       "      <td>Chateau Margaux Premier Cru Classe, Margaux</td>\n",
       "      <td>Bordeaux</td>\n",
       "      <td>2013</td>\n",
       "      <td>10/05/2021</td>\n",
       "      <td>10127812013</td>\n",
       "      <td>1012781</td>\n",
       "      <td>2013</td>\n",
       "      <td>Margaux</td>\n",
       "      <td>Red</td>\n",
       "      <td>Early</td>\n",
       "      <td>Table</td>\n",
       "      <td>Proprietary Blend</td>\n",
       "      <td>Neal Martin</td>\n",
       "      <td>91.0</td>\n",
       "      <td>2018.0</td>\n",
       "      <td>2032.0</td>\n",
       "      <td>28/10/2016</td>\n",
       "      <td>The 2013 Ch�teau Margaux has an attractive bou...</td>\n",
       "      <td>1012781</td>\n",
       "    </tr>\n",
       "    <tr>\n",
       "      <th>11</th>\n",
       "      <td>780</td>\n",
       "      <td>07/05/2021</td>\n",
       "      <td>836</td>\n",
       "      <td>6</td>\n",
       "      <td>682</td>\n",
       "      <td>98</td>\n",
       "      <td>154</td>\n",
       "      <td>15/09/2020</td>\n",
       "      <td>Chateau Calon Segur 3eme Cru Classe, Saint-Est...</td>\n",
       "      <td>Bordeaux</td>\n",
       "      <td>2013</td>\n",
       "      <td>10/05/2021</td>\n",
       "      <td>10074752013</td>\n",
       "      <td>1007475</td>\n",
       "      <td>2013</td>\n",
       "      <td>Saint-Estephe</td>\n",
       "      <td>Red</td>\n",
       "      <td>Early</td>\n",
       "      <td>Table</td>\n",
       "      <td>Proprietary Blend</td>\n",
       "      <td>Neal Martin</td>\n",
       "      <td>91.0</td>\n",
       "      <td>2018.0</td>\n",
       "      <td>2032.0</td>\n",
       "      <td>28/10/2016</td>\n",
       "      <td>The 2013 Calon Segur is a Saint Est�phe that s...</td>\n",
       "      <td>1007475</td>\n",
       "    </tr>\n",
       "    <tr>\n",
       "      <th>12</th>\n",
       "      <td>1040</td>\n",
       "      <td>04/05/2021</td>\n",
       "      <td>1198</td>\n",
       "      <td>49</td>\n",
       "      <td>950</td>\n",
       "      <td>90</td>\n",
       "      <td>248</td>\n",
       "      <td>03/05/2021</td>\n",
       "      <td>Chateau Calon Segur 3eme Cru Classe, Saint-Est...</td>\n",
       "      <td>Bordeaux</td>\n",
       "      <td>2018</td>\n",
       "      <td>10/05/2021</td>\n",
       "      <td>10074752018</td>\n",
       "      <td>1007475</td>\n",
       "      <td>2018</td>\n",
       "      <td>Saint-Estephe</td>\n",
       "      <td>Red</td>\n",
       "      <td>NaN</td>\n",
       "      <td>Table</td>\n",
       "      <td>Proprietary Blend</td>\n",
       "      <td>Lisa Perrotti-Brown</td>\n",
       "      <td>97.0</td>\n",
       "      <td>NaN</td>\n",
       "      <td>NaN</td>\n",
       "      <td>23/04/2019</td>\n",
       "      <td>The 2018 Calon-S�gur is blended of 65% Caberne...</td>\n",
       "      <td>1007475</td>\n",
       "    </tr>\n",
       "    <tr>\n",
       "      <th>13</th>\n",
       "      <td>738</td>\n",
       "      <td>03/05/2021</td>\n",
       "      <td>887</td>\n",
       "      <td>104</td>\n",
       "      <td>760</td>\n",
       "      <td>-22</td>\n",
       "      <td>127</td>\n",
       "      <td>29/04/2021</td>\n",
       "      <td>Chateau Calon Segur 3eme Cru Classe, Saint-Est...</td>\n",
       "      <td>Bordeaux</td>\n",
       "      <td>2017</td>\n",
       "      <td>10/05/2021</td>\n",
       "      <td>10074752017</td>\n",
       "      <td>1007475</td>\n",
       "      <td>2017</td>\n",
       "      <td>Saint-Estephe</td>\n",
       "      <td>Red</td>\n",
       "      <td>Young</td>\n",
       "      <td>Table</td>\n",
       "      <td>Proprietary Blend</td>\n",
       "      <td>Lisa Perrotti-Brown</td>\n",
       "      <td>95.0</td>\n",
       "      <td>2022.0</td>\n",
       "      <td>2047.0</td>\n",
       "      <td>16/03/2020</td>\n",
       "      <td>Medium to deep garnet-purple colored, the 2017...</td>\n",
       "      <td>1007475</td>\n",
       "    </tr>\n",
       "    <tr>\n",
       "      <th>14</th>\n",
       "      <td>10500</td>\n",
       "      <td>07/05/2021</td>\n",
       "      <td>12366</td>\n",
       "      <td>62</td>\n",
       "      <td>9844</td>\n",
       "      <td>656</td>\n",
       "      <td>2522</td>\n",
       "      <td>29/03/2021</td>\n",
       "      <td>Chateau Margaux Premier Cru Classe, Margaux</td>\n",
       "      <td>Bordeaux</td>\n",
       "      <td>2015</td>\n",
       "      <td>10/05/2021</td>\n",
       "      <td>10127812015</td>\n",
       "      <td>1012781</td>\n",
       "      <td>2015</td>\n",
       "      <td>Margaux</td>\n",
       "      <td>Red</td>\n",
       "      <td>Young</td>\n",
       "      <td>Table</td>\n",
       "      <td>Proprietary Blend</td>\n",
       "      <td>Lisa Perrotti-Brown</td>\n",
       "      <td>99.0</td>\n",
       "      <td>2023.0</td>\n",
       "      <td>2050.0</td>\n",
       "      <td>21/02/2018</td>\n",
       "      <td>The 2015 Chateau Margaux is a blend of 87% Cab...</td>\n",
       "      <td>1012781</td>\n",
       "    </tr>\n",
       "    <tr>\n",
       "      <th>15</th>\n",
       "      <td>3900</td>\n",
       "      <td>07/05/2021</td>\n",
       "      <td>4500</td>\n",
       "      <td>27</td>\n",
       "      <td>3684</td>\n",
       "      <td>216</td>\n",
       "      <td>816</td>\n",
       "      <td>10/06/2020</td>\n",
       "      <td>Chateau Margaux Premier Cru Classe, Margaux</td>\n",
       "      <td>Bordeaux</td>\n",
       "      <td>2002</td>\n",
       "      <td>10/05/2021</td>\n",
       "      <td>10127812002</td>\n",
       "      <td>1012781</td>\n",
       "      <td>2002</td>\n",
       "      <td>Margaux</td>\n",
       "      <td>Red</td>\n",
       "      <td>Mature</td>\n",
       "      <td>Table</td>\n",
       "      <td>Proprietary Blend</td>\n",
       "      <td>Robert M. Parker, Jr.</td>\n",
       "      <td>93.0</td>\n",
       "      <td>2010.0</td>\n",
       "      <td>2030.0</td>\n",
       "      <td>28/04/2005</td>\n",
       "      <td>Performing better from bottle than at any time...</td>\n",
       "      <td>1012781</td>\n",
       "    </tr>\n",
       "    <tr>\n",
       "      <th>16</th>\n",
       "      <td>6250</td>\n",
       "      <td>07/05/2021</td>\n",
       "      <td>7443</td>\n",
       "      <td>53</td>\n",
       "      <td>5922</td>\n",
       "      <td>328</td>\n",
       "      <td>1521</td>\n",
       "      <td>13/04/2021</td>\n",
       "      <td>Chateau Margaux Premier Cru Classe, Margaux</td>\n",
       "      <td>Bordeaux</td>\n",
       "      <td>2010</td>\n",
       "      <td>10/05/2021</td>\n",
       "      <td>10127812010</td>\n",
       "      <td>1012781</td>\n",
       "      <td>2010</td>\n",
       "      <td>Margaux</td>\n",
       "      <td>Red</td>\n",
       "      <td>Young</td>\n",
       "      <td>Table</td>\n",
       "      <td>Proprietary Blend</td>\n",
       "      <td>Lisa Perrotti-Brown</td>\n",
       "      <td>98.0</td>\n",
       "      <td>2023.0</td>\n",
       "      <td>2060.0</td>\n",
       "      <td>05/03/2020</td>\n",
       "      <td>Deep garnet in color, the 2010 Ch�teau Margaux...</td>\n",
       "      <td>1012781</td>\n",
       "    </tr>\n",
       "    <tr>\n",
       "      <th>17</th>\n",
       "      <td>1082</td>\n",
       "      <td>04/05/2021</td>\n",
       "      <td>1203</td>\n",
       "      <td>64</td>\n",
       "      <td>1048</td>\n",
       "      <td>34</td>\n",
       "      <td>155</td>\n",
       "      <td>27/04/2021</td>\n",
       "      <td>Chateau Calon Segur 3eme Cru Classe, Saint-Est...</td>\n",
       "      <td>Bordeaux</td>\n",
       "      <td>2016</td>\n",
       "      <td>10/05/2021</td>\n",
       "      <td>10074752016</td>\n",
       "      <td>1007475</td>\n",
       "      <td>2016</td>\n",
       "      <td>Saint-Estephe</td>\n",
       "      <td>Red</td>\n",
       "      <td>Early</td>\n",
       "      <td>Table</td>\n",
       "      <td>Proprietary Blend</td>\n",
       "      <td>Lisa Perrotti-Brown</td>\n",
       "      <td>96.0</td>\n",
       "      <td>2021.0</td>\n",
       "      <td>2045.0</td>\n",
       "      <td>30/11/2018</td>\n",
       "      <td>The 2016 Calon-S�gur is a blend of 60% Caberne...</td>\n",
       "      <td>1007475</td>\n",
       "    </tr>\n",
       "    <tr>\n",
       "      <th>18</th>\n",
       "      <td>870</td>\n",
       "      <td>05/07/2021</td>\n",
       "      <td>966</td>\n",
       "      <td>5</td>\n",
       "      <td>705</td>\n",
       "      <td>165</td>\n",
       "      <td>261</td>\n",
       "      <td>01/02/2021</td>\n",
       "      <td>Chateau Calon Segur 3eme Cru Classe, Saint-Est...</td>\n",
       "      <td>Bordeaux</td>\n",
       "      <td>2002</td>\n",
       "      <td>06/07/2021</td>\n",
       "      <td>10074752002</td>\n",
       "      <td>1007475</td>\n",
       "      <td>2002</td>\n",
       "      <td>Saint-Estephe</td>\n",
       "      <td>Red</td>\n",
       "      <td>Old</td>\n",
       "      <td>Table</td>\n",
       "      <td>Proprietary Blend</td>\n",
       "      <td>Robert M. Parker, Jr.</td>\n",
       "      <td>89.0</td>\n",
       "      <td>2008.0</td>\n",
       "      <td>2017.0</td>\n",
       "      <td>28/04/2005</td>\n",
       "      <td>Deep ruby/purple-tinged, this vintage, a blend...</td>\n",
       "      <td>1007475</td>\n",
       "    </tr>\n",
       "    <tr>\n",
       "      <th>19</th>\n",
       "      <td>900</td>\n",
       "      <td>05/07/2021</td>\n",
       "      <td>1156</td>\n",
       "      <td>20</td>\n",
       "      <td>800</td>\n",
       "      <td>100</td>\n",
       "      <td>356</td>\n",
       "      <td>21/11/2019</td>\n",
       "      <td>Chateau Calon Segur 3eme Cru Classe, Saint-Est...</td>\n",
       "      <td>Bordeaux</td>\n",
       "      <td>2003</td>\n",
       "      <td>06/07/2021</td>\n",
       "      <td>10074752003</td>\n",
       "      <td>1007475</td>\n",
       "      <td>2003</td>\n",
       "      <td>Saint-Estephe</td>\n",
       "      <td>Red</td>\n",
       "      <td>Mature</td>\n",
       "      <td>Table</td>\n",
       "      <td>Proprietary Blend</td>\n",
       "      <td>Robert M. Parker, Jr.</td>\n",
       "      <td>93.0</td>\n",
       "      <td>2014.0</td>\n",
       "      <td>2029.0</td>\n",
       "      <td>27/08/2014</td>\n",
       "      <td>This beautiful 2003 exhibits a dense ruby/purp...</td>\n",
       "      <td>1007475</td>\n",
       "    </tr>\n",
       "    <tr>\n",
       "      <th>20</th>\n",
       "      <td>3826</td>\n",
       "      <td>05/07/2021</td>\n",
       "      <td>4507</td>\n",
       "      <td>54</td>\n",
       "      <td>4116</td>\n",
       "      <td>-290</td>\n",
       "      <td>391</td>\n",
       "      <td>25/02/2021</td>\n",
       "      <td>Chateau Margaux Premier Cru Classe, Margaux</td>\n",
       "      <td>Bordeaux</td>\n",
       "      <td>2004</td>\n",
       "      <td>06/07/2021</td>\n",
       "      <td>10127812004</td>\n",
       "      <td>1012781</td>\n",
       "      <td>2004</td>\n",
       "      <td>Margaux</td>\n",
       "      <td>Red</td>\n",
       "      <td>Early</td>\n",
       "      <td>Table</td>\n",
       "      <td>Proprietary Blend</td>\n",
       "      <td>Neal Martin</td>\n",
       "      <td>94.0</td>\n",
       "      <td>2020.0</td>\n",
       "      <td>2050.0</td>\n",
       "      <td>28/02/2017</td>\n",
       "      <td>The 2004 Chateau Margaux has always been a pro...</td>\n",
       "      <td>1012781</td>\n",
       "    </tr>\n",
       "    <tr>\n",
       "      <th>21</th>\n",
       "      <td>800</td>\n",
       "      <td>05/07/2021</td>\n",
       "      <td>922</td>\n",
       "      <td>18</td>\n",
       "      <td>745</td>\n",
       "      <td>55</td>\n",
       "      <td>177</td>\n",
       "      <td>16/11/2020</td>\n",
       "      <td>Chateau Calon Segur 3eme Cru Classe, Saint-Est...</td>\n",
       "      <td>Bordeaux</td>\n",
       "      <td>2004</td>\n",
       "      <td>06/07/2021</td>\n",
       "      <td>10074752004</td>\n",
       "      <td>1007475</td>\n",
       "      <td>2004</td>\n",
       "      <td>Saint-Estephe</td>\n",
       "      <td>Red</td>\n",
       "      <td>Old</td>\n",
       "      <td>Table</td>\n",
       "      <td>Proprietary Blend</td>\n",
       "      <td>Robert M. Parker, Jr.</td>\n",
       "      <td>89.0</td>\n",
       "      <td>2007.0</td>\n",
       "      <td>2018.0</td>\n",
       "      <td>28/06/2007</td>\n",
       "      <td>This classically-styled claret did not merit a...</td>\n",
       "      <td>1007475</td>\n",
       "    </tr>\n",
       "    <tr>\n",
       "      <th>22</th>\n",
       "      <td>1850</td>\n",
       "      <td>02/07/2021</td>\n",
       "      <td>1831</td>\n",
       "      <td>1</td>\n",
       "      <td>1180</td>\n",
       "      <td>670</td>\n",
       "      <td>651</td>\n",
       "      <td>10/03/2017</td>\n",
       "      <td>Gaja, Barbaresco</td>\n",
       "      <td>Piedmont</td>\n",
       "      <td>2005</td>\n",
       "      <td>03/07/2021</td>\n",
       "      <td>10996052005</td>\n",
       "      <td>1099605</td>\n",
       "      <td>2005</td>\n",
       "      <td>Barbaresco</td>\n",
       "      <td>Red</td>\n",
       "      <td>Mature</td>\n",
       "      <td>Table</td>\n",
       "      <td>Nebbiolo</td>\n",
       "      <td>Antonio Galloni</td>\n",
       "      <td>94.0</td>\n",
       "      <td>2015.0</td>\n",
       "      <td>2030.0</td>\n",
       "      <td>29/10/2008</td>\n",
       "      <td>Floral aromatics give way to bright spiced red...</td>\n",
       "      <td>1099605</td>\n",
       "    </tr>\n",
       "    <tr>\n",
       "      <th>23</th>\n",
       "      <td>1408</td>\n",
       "      <td>29/06/2021</td>\n",
       "      <td>1605</td>\n",
       "      <td>2</td>\n",
       "      <td>1150</td>\n",
       "      <td>258</td>\n",
       "      <td>455</td>\n",
       "      <td>21/04/2019</td>\n",
       "      <td>Tignanello, Toscana</td>\n",
       "      <td>Tuscany</td>\n",
       "      <td>2005</td>\n",
       "      <td>03/07/2021</td>\n",
       "      <td>10953912005</td>\n",
       "      <td>1095391</td>\n",
       "      <td>2005</td>\n",
       "      <td>Toscana</td>\n",
       "      <td>Red</td>\n",
       "      <td>Old</td>\n",
       "      <td>Table</td>\n",
       "      <td>Proprietary Blend</td>\n",
       "      <td>Antonio Galloni</td>\n",
       "      <td>92.0</td>\n",
       "      <td>2010.0</td>\n",
       "      <td>2020.0</td>\n",
       "      <td>29/06/2008</td>\n",
       "      <td>Antinori has turned out a very beautiful Tigna...</td>\n",
       "      <td>1095391</td>\n",
       "    </tr>\n",
       "    <tr>\n",
       "      <th>24</th>\n",
       "      <td>907</td>\n",
       "      <td>05/07/2021</td>\n",
       "      <td>924</td>\n",
       "      <td>18</td>\n",
       "      <td>805</td>\n",
       "      <td>102</td>\n",
       "      <td>119</td>\n",
       "      <td>20/11/2019</td>\n",
       "      <td>Chateau Calon Segur 3eme Cru Classe, Saint-Est...</td>\n",
       "      <td>Bordeaux</td>\n",
       "      <td>2001</td>\n",
       "      <td>06/07/2021</td>\n",
       "      <td>10074752001</td>\n",
       "      <td>1007475</td>\n",
       "      <td>2001</td>\n",
       "      <td>Saint-Estephe</td>\n",
       "      <td>Red</td>\n",
       "      <td>Old</td>\n",
       "      <td>Table</td>\n",
       "      <td>Proprietary Blend</td>\n",
       "      <td>Robert M. Parker, Jr.</td>\n",
       "      <td>90.0</td>\n",
       "      <td>2008.0</td>\n",
       "      <td>2019.0</td>\n",
       "      <td>29/06/2004</td>\n",
       "      <td>I suspect this 2001 will shut down (as most yo...</td>\n",
       "      <td>1007475</td>\n",
       "    </tr>\n",
       "    <tr>\n",
       "      <th>25</th>\n",
       "      <td>450</td>\n",
       "      <td>03/05/2021</td>\n",
       "      <td>450</td>\n",
       "      <td>1</td>\n",
       "      <td>220</td>\n",
       "      <td>230</td>\n",
       "      <td>230</td>\n",
       "      <td>17/06/2015</td>\n",
       "      <td>Chateau Batailley 5eme Cru Classe, Pauillac</td>\n",
       "      <td>Bordeaux</td>\n",
       "      <td>2002</td>\n",
       "      <td>04/05/2021</td>\n",
       "      <td>10063222002</td>\n",
       "      <td>1006322</td>\n",
       "      <td>2002</td>\n",
       "      <td>Pauillac</td>\n",
       "      <td>Red</td>\n",
       "      <td>Old</td>\n",
       "      <td>Table</td>\n",
       "      <td>Proprietary Blend</td>\n",
       "      <td>Robert M. Parker, Jr.</td>\n",
       "      <td>86.0</td>\n",
       "      <td>2005.0</td>\n",
       "      <td>2013.0</td>\n",
       "      <td>28/04/2005</td>\n",
       "      <td>Deep ruby/purple with a relatively evolved bou...</td>\n",
       "      <td>1006322</td>\n",
       "    </tr>\n",
       "    <tr>\n",
       "      <th>26</th>\n",
       "      <td>550</td>\n",
       "      <td>03/05/2021</td>\n",
       "      <td>532</td>\n",
       "      <td>3</td>\n",
       "      <td>420</td>\n",
       "      <td>130</td>\n",
       "      <td>112</td>\n",
       "      <td>09/07/2019</td>\n",
       "      <td>Chateau Batailley 5eme Cru Classe, Pauillac</td>\n",
       "      <td>Bordeaux</td>\n",
       "      <td>2003</td>\n",
       "      <td>10/05/2021</td>\n",
       "      <td>10063222003</td>\n",
       "      <td>1006322</td>\n",
       "      <td>2003</td>\n",
       "      <td>Pauillac</td>\n",
       "      <td>Red</td>\n",
       "      <td>Early</td>\n",
       "      <td>Table</td>\n",
       "      <td>Proprietary Blend</td>\n",
       "      <td>Neal Martin</td>\n",
       "      <td>91.0</td>\n",
       "      <td>2016.0</td>\n",
       "      <td>2031.0</td>\n",
       "      <td>30/06/2017</td>\n",
       "      <td>Tasted at the Batailley vertical tasting at th...</td>\n",
       "      <td>1006322</td>\n",
       "    </tr>\n",
       "    <tr>\n",
       "      <th>27</th>\n",
       "      <td>1000</td>\n",
       "      <td>05/07/2021</td>\n",
       "      <td>1160</td>\n",
       "      <td>87</td>\n",
       "      <td>988</td>\n",
       "      <td>12</td>\n",
       "      <td>172</td>\n",
       "      <td>28/05/2021</td>\n",
       "      <td>Chateau Calon Segur 3eme Cru Classe, Saint-Est...</td>\n",
       "      <td>Bordeaux</td>\n",
       "      <td>2005</td>\n",
       "      <td>06/07/2021</td>\n",
       "      <td>10074752005</td>\n",
       "      <td>1007475</td>\n",
       "      <td>2005</td>\n",
       "      <td>Saint-Estephe</td>\n",
       "      <td>Red</td>\n",
       "      <td>Early</td>\n",
       "      <td>Table</td>\n",
       "      <td>Proprietary Blend</td>\n",
       "      <td>Neal Martin</td>\n",
       "      <td>94.0</td>\n",
       "      <td>2020.0</td>\n",
       "      <td>2050.0</td>\n",
       "      <td>28/10/2016</td>\n",
       "      <td>Tasted from an ex-ch�teau bottle at BI Wine &amp; ...</td>\n",
       "      <td>1007475</td>\n",
       "    </tr>\n",
       "    <tr>\n",
       "      <th>28</th>\n",
       "      <td>900</td>\n",
       "      <td>05/07/2021</td>\n",
       "      <td>927</td>\n",
       "      <td>41</td>\n",
       "      <td>863</td>\n",
       "      <td>37</td>\n",
       "      <td>64</td>\n",
       "      <td>10/05/2021</td>\n",
       "      <td>Chateau Calon Segur 3eme Cru Classe, Saint-Est...</td>\n",
       "      <td>Bordeaux</td>\n",
       "      <td>2006</td>\n",
       "      <td>06/07/2021</td>\n",
       "      <td>10074752006</td>\n",
       "      <td>1007475</td>\n",
       "      <td>2006</td>\n",
       "      <td>Saint-Estephe</td>\n",
       "      <td>Red</td>\n",
       "      <td>Young</td>\n",
       "      <td>Table</td>\n",
       "      <td>Proprietary Blend</td>\n",
       "      <td>Neal Martin</td>\n",
       "      <td>93.0</td>\n",
       "      <td>2022.0</td>\n",
       "      <td>2040.0</td>\n",
       "      <td>29/05/2016</td>\n",
       "      <td>Tasted at Bordeaux Index's tasting and at the ...</td>\n",
       "      <td>1007475</td>\n",
       "    </tr>\n",
       "    <tr>\n",
       "      <th>29</th>\n",
       "      <td>1800</td>\n",
       "      <td>02/07/2021</td>\n",
       "      <td>1733</td>\n",
       "      <td>2</td>\n",
       "      <td>1300</td>\n",
       "      <td>500</td>\n",
       "      <td>433</td>\n",
       "      <td>30/05/2019</td>\n",
       "      <td>Gaja, Barbaresco</td>\n",
       "      <td>Piedmont</td>\n",
       "      <td>2007</td>\n",
       "      <td>03/07/2021</td>\n",
       "      <td>10996052007</td>\n",
       "      <td>1099605</td>\n",
       "      <td>2007</td>\n",
       "      <td>Barbaresco</td>\n",
       "      <td>Red</td>\n",
       "      <td>Early</td>\n",
       "      <td>Table</td>\n",
       "      <td>Nebbiolo</td>\n",
       "      <td>Antonio Galloni</td>\n",
       "      <td>94.0</td>\n",
       "      <td>2017.0</td>\n",
       "      <td>2032.0</td>\n",
       "      <td>26/02/2010</td>\n",
       "      <td>All readers need to do is taste the 2007 Barba...</td>\n",
       "      <td>1099605</td>\n",
       "    </tr>\n",
       "    <tr>\n",
       "      <th>30</th>\n",
       "      <td>1596</td>\n",
       "      <td>02/07/2021</td>\n",
       "      <td>1596</td>\n",
       "      <td>1</td>\n",
       "      <td>1145</td>\n",
       "      <td>451</td>\n",
       "      <td>451</td>\n",
       "      <td>22/10/2015</td>\n",
       "      <td>Gaja, Barbaresco</td>\n",
       "      <td>Piedmont</td>\n",
       "      <td>2003</td>\n",
       "      <td>03/07/2021</td>\n",
       "      <td>10996052003</td>\n",
       "      <td>1099605</td>\n",
       "      <td>2003</td>\n",
       "      <td>Barbaresco</td>\n",
       "      <td>Red</td>\n",
       "      <td>Late</td>\n",
       "      <td>Table</td>\n",
       "      <td>Nebbiolo</td>\n",
       "      <td>Antonio Galloni</td>\n",
       "      <td>93.0</td>\n",
       "      <td>2009.0</td>\n",
       "      <td>2021.0</td>\n",
       "      <td>30/10/2006</td>\n",
       "      <td>Gaja�s 2003 Barbaresco may well challenge its ...</td>\n",
       "      <td>1099605</td>\n",
       "    </tr>\n",
       "    <tr>\n",
       "      <th>31</th>\n",
       "      <td>2500</td>\n",
       "      <td>02/07/2021</td>\n",
       "      <td>2632</td>\n",
       "      <td>3</td>\n",
       "      <td>2220</td>\n",
       "      <td>280</td>\n",
       "      <td>412</td>\n",
       "      <td>14/06/2021</td>\n",
       "      <td>Gaja, Barbaresco</td>\n",
       "      <td>Piedmont</td>\n",
       "      <td>2001</td>\n",
       "      <td>03/07/2021</td>\n",
       "      <td>10996052001</td>\n",
       "      <td>1099605</td>\n",
       "      <td>2001</td>\n",
       "      <td>Barbaresco</td>\n",
       "      <td>Red</td>\n",
       "      <td>Late</td>\n",
       "      <td>Table</td>\n",
       "      <td>Nebbiolo</td>\n",
       "      <td>Antonio Galloni</td>\n",
       "      <td>93.0</td>\n",
       "      <td>2012.0</td>\n",
       "      <td>2021.0</td>\n",
       "      <td>25/04/2012</td>\n",
       "      <td>The 2001 Barbaresco is gorgeous. Sweet balsami...</td>\n",
       "      <td>1099605</td>\n",
       "    </tr>\n",
       "    <tr>\n",
       "      <th>32</th>\n",
       "      <td>574</td>\n",
       "      <td>02/07/2021</td>\n",
       "      <td>574</td>\n",
       "      <td>1</td>\n",
       "      <td>351</td>\n",
       "      <td>223</td>\n",
       "      <td>223</td>\n",
       "      <td>25/07/2016</td>\n",
       "      <td>Tua Rita, Giusto di Notri, Toscana</td>\n",
       "      <td>Tuscany</td>\n",
       "      <td>2004</td>\n",
       "      <td>03/07/2021</td>\n",
       "      <td>11058072004</td>\n",
       "      <td>1105807</td>\n",
       "      <td>2004</td>\n",
       "      <td>Toscana</td>\n",
       "      <td>Red</td>\n",
       "      <td>Old</td>\n",
       "      <td>Table</td>\n",
       "      <td>Proprietary Blend</td>\n",
       "      <td>Antonio Galloni</td>\n",
       "      <td>93.0</td>\n",
       "      <td>2008.0</td>\n",
       "      <td>2016.0</td>\n",
       "      <td>27/02/2007</td>\n",
       "      <td>The 2004 Giusto di Notri is a terrific effort....</td>\n",
       "      <td>1105807</td>\n",
       "    </tr>\n",
       "    <tr>\n",
       "      <th>33</th>\n",
       "      <td>520</td>\n",
       "      <td>02/07/2021</td>\n",
       "      <td>563</td>\n",
       "      <td>3</td>\n",
       "      <td>460</td>\n",
       "      <td>60</td>\n",
       "      <td>103</td>\n",
       "      <td>05/05/2020</td>\n",
       "      <td>Tua Rita, Giusto di Notri, Toscana</td>\n",
       "      <td>Tuscany</td>\n",
       "      <td>2008</td>\n",
       "      <td>03/07/2021</td>\n",
       "      <td>11058072008</td>\n",
       "      <td>1105807</td>\n",
       "      <td>2008</td>\n",
       "      <td>Toscana</td>\n",
       "      <td>Red</td>\n",
       "      <td>Mature</td>\n",
       "      <td>Table</td>\n",
       "      <td>Proprietary Blend</td>\n",
       "      <td>Antonio Galloni</td>\n",
       "      <td>94.0</td>\n",
       "      <td>2016.0</td>\n",
       "      <td>2028.0</td>\n",
       "      <td>30/08/2011</td>\n",
       "      <td>The 2008 Giusto di Notri is wonderfully alive ...</td>\n",
       "      <td>1105807</td>\n",
       "    </tr>\n",
       "    <tr>\n",
       "      <th>34</th>\n",
       "      <td>660</td>\n",
       "      <td>02/07/2021</td>\n",
       "      <td>727</td>\n",
       "      <td>5</td>\n",
       "      <td>390</td>\n",
       "      <td>270</td>\n",
       "      <td>337</td>\n",
       "      <td>18/08/2017</td>\n",
       "      <td>Tua Rita, Giusto di Notri, Toscana</td>\n",
       "      <td>Tuscany</td>\n",
       "      <td>2006</td>\n",
       "      <td>03/07/2021</td>\n",
       "      <td>11058072006</td>\n",
       "      <td>1105807</td>\n",
       "      <td>2006</td>\n",
       "      <td>Toscana</td>\n",
       "      <td>Red</td>\n",
       "      <td>Mature</td>\n",
       "      <td>Table</td>\n",
       "      <td>Proprietary Blend</td>\n",
       "      <td>Antonio Galloni</td>\n",
       "      <td>96.0</td>\n",
       "      <td>2014.0</td>\n",
       "      <td>2026.0</td>\n",
       "      <td>30/08/2009</td>\n",
       "      <td>The estate�s 2006 Giusto di Notri is another w...</td>\n",
       "      <td>1105807</td>\n",
       "    </tr>\n",
       "    <tr>\n",
       "      <th>35</th>\n",
       "      <td>540</td>\n",
       "      <td>02/07/2021</td>\n",
       "      <td>527</td>\n",
       "      <td>2</td>\n",
       "      <td>300</td>\n",
       "      <td>240</td>\n",
       "      <td>227</td>\n",
       "      <td>03/11/2011</td>\n",
       "      <td>Tua Rita, Giusto di Notri, Toscana</td>\n",
       "      <td>Tuscany</td>\n",
       "      <td>2007</td>\n",
       "      <td>03/07/2021</td>\n",
       "      <td>11058072007</td>\n",
       "      <td>1105807</td>\n",
       "      <td>2007</td>\n",
       "      <td>Toscana</td>\n",
       "      <td>Red</td>\n",
       "      <td>Mature</td>\n",
       "      <td>Table</td>\n",
       "      <td>Proprietary Blend</td>\n",
       "      <td>Antonio Galloni</td>\n",
       "      <td>95.0</td>\n",
       "      <td>2017.0</td>\n",
       "      <td>2027.0</td>\n",
       "      <td>30/10/2010</td>\n",
       "      <td>The 2007 Giusto dei Notri is a gorgeous, dark ...</td>\n",
       "      <td>1105807</td>\n",
       "    </tr>\n",
       "    <tr>\n",
       "      <th>36</th>\n",
       "      <td>1700</td>\n",
       "      <td>02/07/2021</td>\n",
       "      <td>1847</td>\n",
       "      <td>4</td>\n",
       "      <td>1378</td>\n",
       "      <td>322</td>\n",
       "      <td>469</td>\n",
       "      <td>29/07/2020</td>\n",
       "      <td>Tignanello, Toscana</td>\n",
       "      <td>Tuscany</td>\n",
       "      <td>2001</td>\n",
       "      <td>03/07/2021</td>\n",
       "      <td>10953912001</td>\n",
       "      <td>1095391</td>\n",
       "      <td>2001</td>\n",
       "      <td>Toscana</td>\n",
       "      <td>Red</td>\n",
       "      <td>Late</td>\n",
       "      <td>Table</td>\n",
       "      <td>Proprietary Blend</td>\n",
       "      <td>Daniel Thomases</td>\n",
       "      <td>93.0</td>\n",
       "      <td>2006.0</td>\n",
       "      <td>2021.0</td>\n",
       "      <td>23/04/2006</td>\n",
       "      <td>The 2001 Tignanello is an object lesson in how...</td>\n",
       "      <td>1095391</td>\n",
       "    </tr>\n",
       "    <tr>\n",
       "      <th>37</th>\n",
       "      <td>1408</td>\n",
       "      <td>02/07/2021</td>\n",
       "      <td>1389</td>\n",
       "      <td>4</td>\n",
       "      <td>1238</td>\n",
       "      <td>170</td>\n",
       "      <td>151</td>\n",
       "      <td>02/11/2020</td>\n",
       "      <td>Tignanello, Toscana</td>\n",
       "      <td>Tuscany</td>\n",
       "      <td>2006</td>\n",
       "      <td>03/07/2021</td>\n",
       "      <td>10953912006</td>\n",
       "      <td>1095391</td>\n",
       "      <td>2006</td>\n",
       "      <td>Toscana</td>\n",
       "      <td>Red</td>\n",
       "      <td>Mature</td>\n",
       "      <td>Table</td>\n",
       "      <td>Proprietary Blend</td>\n",
       "      <td>Antonio Galloni</td>\n",
       "      <td>92.0</td>\n",
       "      <td>2014.0</td>\n",
       "      <td>2024.0</td>\n",
       "      <td>30/08/2009</td>\n",
       "      <td>The 2006 Tignanello is especially opulent in t...</td>\n",
       "      <td>1095391</td>\n",
       "    </tr>\n",
       "    <tr>\n",
       "      <th>38</th>\n",
       "      <td>990</td>\n",
       "      <td>02/07/2021</td>\n",
       "      <td>1134</td>\n",
       "      <td>16</td>\n",
       "      <td>990</td>\n",
       "      <td>0</td>\n",
       "      <td>144</td>\n",
       "      <td>16/06/2021</td>\n",
       "      <td>Chateau Calon Segur 3eme Cru Classe, Saint-Est...</td>\n",
       "      <td>Bordeaux</td>\n",
       "      <td>2010</td>\n",
       "      <td>03/07/2021</td>\n",
       "      <td>10074752010</td>\n",
       "      <td>1007475</td>\n",
       "      <td>2010</td>\n",
       "      <td>Saint-Estephe</td>\n",
       "      <td>Red</td>\n",
       "      <td>Early</td>\n",
       "      <td>Table</td>\n",
       "      <td>Proprietary Blend</td>\n",
       "      <td>Lisa Perrotti-Brown</td>\n",
       "      <td>89.0</td>\n",
       "      <td>2020.0</td>\n",
       "      <td>2032.0</td>\n",
       "      <td>05/03/2020</td>\n",
       "      <td>Deep garnet colored, the 2010 Calon-S�gur open...</td>\n",
       "      <td>1007475</td>\n",
       "    </tr>\n",
       "    <tr>\n",
       "      <th>39</th>\n",
       "      <td>525</td>\n",
       "      <td>03/05/2021</td>\n",
       "      <td>496</td>\n",
       "      <td>2</td>\n",
       "      <td>300</td>\n",
       "      <td>225</td>\n",
       "      <td>196</td>\n",
       "      <td>15/12/2019</td>\n",
       "      <td>Chateau Batailley 5eme Cru Classe, Pauillac</td>\n",
       "      <td>Bordeaux</td>\n",
       "      <td>2004</td>\n",
       "      <td>08/05/2021</td>\n",
       "      <td>10063222004</td>\n",
       "      <td>1006322</td>\n",
       "      <td>2004</td>\n",
       "      <td>Pauillac</td>\n",
       "      <td>Red</td>\n",
       "      <td>Late</td>\n",
       "      <td>Table</td>\n",
       "      <td>Proprietary Blend</td>\n",
       "      <td>Robert M. Parker, Jr.</td>\n",
       "      <td>90.0</td>\n",
       "      <td>2009.0</td>\n",
       "      <td>2025.0</td>\n",
       "      <td>28/06/2007</td>\n",
       "      <td>A sleeper of the vintage, Batailley�s complex ...</td>\n",
       "      <td>1006322</td>\n",
       "    </tr>\n",
       "    <tr>\n",
       "      <th>40</th>\n",
       "      <td>3560</td>\n",
       "      <td>05/07/2021</td>\n",
       "      <td>4185</td>\n",
       "      <td>37</td>\n",
       "      <td>3525</td>\n",
       "      <td>35</td>\n",
       "      <td>660</td>\n",
       "      <td>18/06/2021</td>\n",
       "      <td>Chateau Margaux Premier Cru Classe, Margaux</td>\n",
       "      <td>Bordeaux</td>\n",
       "      <td>2007</td>\n",
       "      <td>06/07/2021</td>\n",
       "      <td>10127812007</td>\n",
       "      <td>1012781</td>\n",
       "      <td>2007</td>\n",
       "      <td>Margaux</td>\n",
       "      <td>Red</td>\n",
       "      <td>Early</td>\n",
       "      <td>Table</td>\n",
       "      <td>Proprietary Blend</td>\n",
       "      <td>Neal Martin</td>\n",
       "      <td>92.0</td>\n",
       "      <td>2017.0</td>\n",
       "      <td>2035.0</td>\n",
       "      <td>30/06/2017</td>\n",
       "      <td>Tasted at BI Wine &amp; Spirits' 10-Years-On tasti...</td>\n",
       "      <td>1012781</td>\n",
       "    </tr>\n",
       "    <tr>\n",
       "      <th>41</th>\n",
       "      <td>750</td>\n",
       "      <td>02/07/2021</td>\n",
       "      <td>988</td>\n",
       "      <td>36</td>\n",
       "      <td>790</td>\n",
       "      <td>-40</td>\n",
       "      <td>198</td>\n",
       "      <td>01/06/2020</td>\n",
       "      <td>Chateau Calon Segur 3eme Cru Classe, Saint-Est...</td>\n",
       "      <td>Bordeaux</td>\n",
       "      <td>2011</td>\n",
       "      <td>03/07/2021</td>\n",
       "      <td>10074752011</td>\n",
       "      <td>1007475</td>\n",
       "      <td>2011</td>\n",
       "      <td>Saint-Estephe</td>\n",
       "      <td>Red</td>\n",
       "      <td>Early</td>\n",
       "      <td>Table</td>\n",
       "      <td>Proprietary Blend</td>\n",
       "      <td>Robert M. Parker, Jr.</td>\n",
       "      <td>90.0</td>\n",
       "      <td>2017.0</td>\n",
       "      <td>2032.0</td>\n",
       "      <td>29/04/2014</td>\n",
       "      <td>Its bigger sister, the well-made 2011 Calon Se...</td>\n",
       "      <td>1007475</td>\n",
       "    </tr>\n",
       "    <tr>\n",
       "      <th>42</th>\n",
       "      <td>6830</td>\n",
       "      <td>05/07/2021</td>\n",
       "      <td>7757</td>\n",
       "      <td>50</td>\n",
       "      <td>7086</td>\n",
       "      <td>-256</td>\n",
       "      <td>671</td>\n",
       "      <td>11/06/2021</td>\n",
       "      <td>Chateau Margaux Premier Cru Classe, Margaux</td>\n",
       "      <td>Bordeaux</td>\n",
       "      <td>2009</td>\n",
       "      <td>06/07/2021</td>\n",
       "      <td>10127812009</td>\n",
       "      <td>1012781</td>\n",
       "      <td>2009</td>\n",
       "      <td>Margaux</td>\n",
       "      <td>Red</td>\n",
       "      <td>Early</td>\n",
       "      <td>Table</td>\n",
       "      <td>Proprietary Blend</td>\n",
       "      <td>Lisa Perrotti-Brown</td>\n",
       "      <td>98.0</td>\n",
       "      <td>2020.0</td>\n",
       "      <td>2050.0</td>\n",
       "      <td>14/03/2019</td>\n",
       "      <td>The 2009 Ch�teau Margaux is deep garnet in col...</td>\n",
       "      <td>1012781</td>\n",
       "    </tr>\n",
       "    <tr>\n",
       "      <th>43</th>\n",
       "      <td>1024</td>\n",
       "      <td>02/07/2021</td>\n",
       "      <td>1255</td>\n",
       "      <td>4</td>\n",
       "      <td>1072</td>\n",
       "      <td>-48</td>\n",
       "      <td>183</td>\n",
       "      <td>20/01/2021</td>\n",
       "      <td>Tignanello, Toscana</td>\n",
       "      <td>Tuscany</td>\n",
       "      <td>2009</td>\n",
       "      <td>03/07/2021</td>\n",
       "      <td>10953912009</td>\n",
       "      <td>1095391</td>\n",
       "      <td>2009</td>\n",
       "      <td>Toscana</td>\n",
       "      <td>Red</td>\n",
       "      <td>Early</td>\n",
       "      <td>Table</td>\n",
       "      <td>Proprietary Blend</td>\n",
       "      <td>Antonio Galloni</td>\n",
       "      <td>94.0</td>\n",
       "      <td>2017.0</td>\n",
       "      <td>2029.0</td>\n",
       "      <td>29/06/2012</td>\n",
       "      <td>The 2009 Tignanello is quite beautiful. Cedar,...</td>\n",
       "      <td>1095391</td>\n",
       "    </tr>\n",
       "    <tr>\n",
       "      <th>44</th>\n",
       "      <td>1326</td>\n",
       "      <td>02/07/2021</td>\n",
       "      <td>1560</td>\n",
       "      <td>4</td>\n",
       "      <td>1170</td>\n",
       "      <td>156</td>\n",
       "      <td>390</td>\n",
       "      <td>24/06/2021</td>\n",
       "      <td>Tignanello, Toscana</td>\n",
       "      <td>Tuscany</td>\n",
       "      <td>2010</td>\n",
       "      <td>03/07/2021</td>\n",
       "      <td>10953912010</td>\n",
       "      <td>1095391</td>\n",
       "      <td>2010</td>\n",
       "      <td>Toscana</td>\n",
       "      <td>Red</td>\n",
       "      <td>Early</td>\n",
       "      <td>Table</td>\n",
       "      <td>Proprietary Blend</td>\n",
       "      <td>Monica Larner</td>\n",
       "      <td>94.0</td>\n",
       "      <td>2016.0</td>\n",
       "      <td>2035.0</td>\n",
       "      <td>28/08/2013</td>\n",
       "      <td>Humming with energy and life from the very mom...</td>\n",
       "      <td>1095391</td>\n",
       "    </tr>\n",
       "    <tr>\n",
       "      <th>45</th>\n",
       "      <td>975</td>\n",
       "      <td>05/07/2021</td>\n",
       "      <td>1230</td>\n",
       "      <td>49</td>\n",
       "      <td>1026</td>\n",
       "      <td>-51</td>\n",
       "      <td>204</td>\n",
       "      <td>24/06/2021</td>\n",
       "      <td>Chateau Calon Segur 3eme Cru Classe, Saint-Est...</td>\n",
       "      <td>Bordeaux</td>\n",
       "      <td>2009</td>\n",
       "      <td>06/07/2021</td>\n",
       "      <td>10074752009</td>\n",
       "      <td>1007475</td>\n",
       "      <td>2009</td>\n",
       "      <td>Saint-Estephe</td>\n",
       "      <td>Red</td>\n",
       "      <td>Early</td>\n",
       "      <td>Table</td>\n",
       "      <td>Proprietary Blend</td>\n",
       "      <td>Lisa Perrotti-Brown</td>\n",
       "      <td>96.0</td>\n",
       "      <td>2020.0</td>\n",
       "      <td>2049.0</td>\n",
       "      <td>14/03/2019</td>\n",
       "      <td>The 2009 Calon-S�gur is deep garnet in color a...</td>\n",
       "      <td>1007475</td>\n",
       "    </tr>\n",
       "    <tr>\n",
       "      <th>46</th>\n",
       "      <td>9950</td>\n",
       "      <td>07/05/2021</td>\n",
       "      <td>9718</td>\n",
       "      <td>3</td>\n",
       "      <td>8000</td>\n",
       "      <td>1950</td>\n",
       "      <td>1718</td>\n",
       "      <td>30/01/2020</td>\n",
       "      <td>Domaine Leflaive, Chevalier-Montrachet Grand Cru</td>\n",
       "      <td>Burgundy</td>\n",
       "      <td>2014</td>\n",
       "      <td>08/05/2021</td>\n",
       "      <td>10734012014</td>\n",
       "      <td>1073401</td>\n",
       "      <td>2014</td>\n",
       "      <td>Cote de Beaune</td>\n",
       "      <td>White</td>\n",
       "      <td>Early</td>\n",
       "      <td>Table</td>\n",
       "      <td>Chardonnay</td>\n",
       "      <td>Neal Martin</td>\n",
       "      <td>97.0</td>\n",
       "      <td>2020.0</td>\n",
       "      <td>2045.0</td>\n",
       "      <td>31/10/2017</td>\n",
       "      <td>Tasted blind at the annual Burgfest tasting, L...</td>\n",
       "      <td>1073401</td>\n",
       "    </tr>\n",
       "    <tr>\n",
       "      <th>47</th>\n",
       "      <td>530</td>\n",
       "      <td>03/05/2021</td>\n",
       "      <td>622</td>\n",
       "      <td>49</td>\n",
       "      <td>450</td>\n",
       "      <td>80</td>\n",
       "      <td>172</td>\n",
       "      <td>28/10/2020</td>\n",
       "      <td>Chateau Batailley 5eme Cru Classe, Pauillac</td>\n",
       "      <td>Bordeaux</td>\n",
       "      <td>2005</td>\n",
       "      <td>04/05/2021</td>\n",
       "      <td>10063222005</td>\n",
       "      <td>1006322</td>\n",
       "      <td>2005</td>\n",
       "      <td>Pauillac</td>\n",
       "      <td>Red</td>\n",
       "      <td>Early</td>\n",
       "      <td>Table</td>\n",
       "      <td>Proprietary Blend</td>\n",
       "      <td>Neal Martin</td>\n",
       "      <td>93.0</td>\n",
       "      <td>2018.0</td>\n",
       "      <td>2045.0</td>\n",
       "      <td>30/06/2017</td>\n",
       "      <td>Tasted at the Batailley vertical tasting at th...</td>\n",
       "      <td>1006322</td>\n",
       "    </tr>\n",
       "    <tr>\n",
       "      <th>48</th>\n",
       "      <td>958</td>\n",
       "      <td>07/05/2021</td>\n",
       "      <td>1057</td>\n",
       "      <td>9</td>\n",
       "      <td>860</td>\n",
       "      <td>98</td>\n",
       "      <td>197</td>\n",
       "      <td>08/03/2021</td>\n",
       "      <td>Tignanello, Toscana</td>\n",
       "      <td>Tuscany</td>\n",
       "      <td>2011</td>\n",
       "      <td>08/05/2021</td>\n",
       "      <td>10953912011</td>\n",
       "      <td>1095391</td>\n",
       "      <td>2011</td>\n",
       "      <td>Toscana</td>\n",
       "      <td>Red</td>\n",
       "      <td>Mature</td>\n",
       "      <td>Table</td>\n",
       "      <td>Proprietary Blend</td>\n",
       "      <td>Monica Larner</td>\n",
       "      <td>93.0</td>\n",
       "      <td>2015.0</td>\n",
       "      <td>2027.0</td>\n",
       "      <td>30/10/2014</td>\n",
       "      <td>The 2011 Tignanello demonstrates a very ripe a...</td>\n",
       "      <td>1095391</td>\n",
       "    </tr>\n",
       "    <tr>\n",
       "      <th>49</th>\n",
       "      <td>880</td>\n",
       "      <td>07/05/2021</td>\n",
       "      <td>958</td>\n",
       "      <td>9</td>\n",
       "      <td>725</td>\n",
       "      <td>155</td>\n",
       "      <td>233</td>\n",
       "      <td>13/04/2021</td>\n",
       "      <td>Chateau Calon Segur 3eme Cru Classe, Saint-Est...</td>\n",
       "      <td>Bordeaux</td>\n",
       "      <td>2007</td>\n",
       "      <td>08/05/2021</td>\n",
       "      <td>10074752007</td>\n",
       "      <td>1007475</td>\n",
       "      <td>2007</td>\n",
       "      <td>Saint-Estephe</td>\n",
       "      <td>Red</td>\n",
       "      <td>Mature</td>\n",
       "      <td>Table</td>\n",
       "      <td>Proprietary Blend</td>\n",
       "      <td>Neal Martin</td>\n",
       "      <td>87.0</td>\n",
       "      <td>2017.0</td>\n",
       "      <td>2026.0</td>\n",
       "      <td>30/06/2017</td>\n",
       "      <td>Tasted at BI Wine &amp; Spirits' 10-Years-On tasti...</td>\n",
       "      <td>1007475</td>\n",
       "    </tr>\n",
       "    <tr>\n",
       "      <th>50</th>\n",
       "      <td>850</td>\n",
       "      <td>07/05/2021</td>\n",
       "      <td>1101</td>\n",
       "      <td>94</td>\n",
       "      <td>860</td>\n",
       "      <td>-10</td>\n",
       "      <td>241</td>\n",
       "      <td>19/04/2021</td>\n",
       "      <td>Chateau Calon Segur 3eme Cru Classe, Saint-Est...</td>\n",
       "      <td>Bordeaux</td>\n",
       "      <td>2015</td>\n",
       "      <td>08/05/2021</td>\n",
       "      <td>10074752015</td>\n",
       "      <td>1007475</td>\n",
       "      <td>2015</td>\n",
       "      <td>Saint-Estephe</td>\n",
       "      <td>Red</td>\n",
       "      <td>Early</td>\n",
       "      <td>Table</td>\n",
       "      <td>Proprietary Blend</td>\n",
       "      <td>Lisa Perrotti-Brown</td>\n",
       "      <td>93.0</td>\n",
       "      <td>2020.0</td>\n",
       "      <td>2042.0</td>\n",
       "      <td>21/02/2018</td>\n",
       "      <td>Composed of 82% Cabernet Sauvignon, 16% Merlot...</td>\n",
       "      <td>1007475</td>\n",
       "    </tr>\n",
       "    <tr>\n",
       "      <th>51</th>\n",
       "      <td>4850</td>\n",
       "      <td>06/05/2021</td>\n",
       "      <td>5732</td>\n",
       "      <td>22</td>\n",
       "      <td>4800</td>\n",
       "      <td>50</td>\n",
       "      <td>932</td>\n",
       "      <td>11/03/2021</td>\n",
       "      <td>Chateau Margaux Premier Cru Classe, Margaux</td>\n",
       "      <td>Bordeaux</td>\n",
       "      <td>2003</td>\n",
       "      <td>08/05/2021</td>\n",
       "      <td>10127812003</td>\n",
       "      <td>1012781</td>\n",
       "      <td>2003</td>\n",
       "      <td>Margaux</td>\n",
       "      <td>Red</td>\n",
       "      <td>Mature</td>\n",
       "      <td>Table</td>\n",
       "      <td>Proprietary Blend</td>\n",
       "      <td>Neal Martin</td>\n",
       "      <td>93.0</td>\n",
       "      <td>2017.0</td>\n",
       "      <td>2027.0</td>\n",
       "      <td>28/02/2017</td>\n",
       "      <td>Tasted blind as a vintage comparison at the Va...</td>\n",
       "      <td>1012781</td>\n",
       "    </tr>\n",
       "    <tr>\n",
       "      <th>52</th>\n",
       "      <td>3758</td>\n",
       "      <td>02/07/2021</td>\n",
       "      <td>4298</td>\n",
       "      <td>75</td>\n",
       "      <td>3690</td>\n",
       "      <td>68</td>\n",
       "      <td>608</td>\n",
       "      <td>13/04/2021</td>\n",
       "      <td>Chateau Margaux Premier Cru Classe, Margaux</td>\n",
       "      <td>Bordeaux</td>\n",
       "      <td>2011</td>\n",
       "      <td>03/07/2021</td>\n",
       "      <td>10127812011</td>\n",
       "      <td>1012781</td>\n",
       "      <td>2011</td>\n",
       "      <td>Margaux</td>\n",
       "      <td>Red</td>\n",
       "      <td>Mature</td>\n",
       "      <td>Table</td>\n",
       "      <td>Proprietary Blend</td>\n",
       "      <td>Robert M. Parker, Jr.</td>\n",
       "      <td>93.0</td>\n",
       "      <td>2014.0</td>\n",
       "      <td>2034.0</td>\n",
       "      <td>29/04/2014</td>\n",
       "      <td>The renowned Chateau Margaux�s 2011 boasts a d...</td>\n",
       "      <td>1012781</td>\n",
       "    </tr>\n",
       "    <tr>\n",
       "      <th>53</th>\n",
       "      <td>840</td>\n",
       "      <td>03/05/2021</td>\n",
       "      <td>943</td>\n",
       "      <td>15</td>\n",
       "      <td>781</td>\n",
       "      <td>59</td>\n",
       "      <td>162</td>\n",
       "      <td>16/11/2020</td>\n",
       "      <td>Chateau Calon Segur 3eme Cru Classe, Saint-Est...</td>\n",
       "      <td>Bordeaux</td>\n",
       "      <td>2008</td>\n",
       "      <td>04/05/2021</td>\n",
       "      <td>10074752008</td>\n",
       "      <td>1007475</td>\n",
       "      <td>2008</td>\n",
       "      <td>Saint-Estephe</td>\n",
       "      <td>Red</td>\n",
       "      <td>Early</td>\n",
       "      <td>Table</td>\n",
       "      <td>Proprietary Blend</td>\n",
       "      <td>Neal Martin</td>\n",
       "      <td>93.0</td>\n",
       "      <td>2018.0</td>\n",
       "      <td>2035.0</td>\n",
       "      <td>28/10/2016</td>\n",
       "      <td>Tasted from an ex-ch�teau bottle at BI Wine &amp; ...</td>\n",
       "      <td>1007475</td>\n",
       "    </tr>\n",
       "    <tr>\n",
       "      <th>54</th>\n",
       "      <td>960</td>\n",
       "      <td>03/05/2021</td>\n",
       "      <td>1197</td>\n",
       "      <td>13</td>\n",
       "      <td>850</td>\n",
       "      <td>110</td>\n",
       "      <td>347</td>\n",
       "      <td>28/01/2021</td>\n",
       "      <td>Tignanello, Toscana</td>\n",
       "      <td>Tuscany</td>\n",
       "      <td>2012</td>\n",
       "      <td>04/05/2021</td>\n",
       "      <td>10953912012</td>\n",
       "      <td>1095391</td>\n",
       "      <td>2012</td>\n",
       "      <td>Toscana</td>\n",
       "      <td>Red</td>\n",
       "      <td>Mature</td>\n",
       "      <td>Table</td>\n",
       "      <td>Proprietary Blend</td>\n",
       "      <td>Monica Larner</td>\n",
       "      <td>93.0</td>\n",
       "      <td>2016.0</td>\n",
       "      <td>2030.0</td>\n",
       "      <td>29/10/2015</td>\n",
       "      <td>The 2012 Tignanello is a very handsome wine wi...</td>\n",
       "      <td>1095391</td>\n",
       "    </tr>\n",
       "    <tr>\n",
       "      <th>55</th>\n",
       "      <td>1100</td>\n",
       "      <td>03/05/2021</td>\n",
       "      <td>1433</td>\n",
       "      <td>9</td>\n",
       "      <td>1010</td>\n",
       "      <td>90</td>\n",
       "      <td>423</td>\n",
       "      <td>18/12/2020</td>\n",
       "      <td>Tignanello, Toscana</td>\n",
       "      <td>Tuscany</td>\n",
       "      <td>2008</td>\n",
       "      <td>04/05/2021</td>\n",
       "      <td>10953912008</td>\n",
       "      <td>1095391</td>\n",
       "      <td>2008</td>\n",
       "      <td>Toscana</td>\n",
       "      <td>Red</td>\n",
       "      <td>Mature</td>\n",
       "      <td>Table</td>\n",
       "      <td>Proprietary Blend</td>\n",
       "      <td>Antonio Galloni</td>\n",
       "      <td>94.0</td>\n",
       "      <td>2014.0</td>\n",
       "      <td>2024.0</td>\n",
       "      <td>30/08/2011</td>\n",
       "      <td>The 2008 Tignanello is unquestionably one of t...</td>\n",
       "      <td>1095391</td>\n",
       "    </tr>\n",
       "    <tr>\n",
       "      <th>56</th>\n",
       "      <td>420</td>\n",
       "      <td>03/05/2021</td>\n",
       "      <td>487</td>\n",
       "      <td>6</td>\n",
       "      <td>532</td>\n",
       "      <td>-112</td>\n",
       "      <td>-45</td>\n",
       "      <td>11/02/2021</td>\n",
       "      <td>Chateau Batailley 5eme Cru Classe, Pauillac</td>\n",
       "      <td>Bordeaux</td>\n",
       "      <td>2006</td>\n",
       "      <td>04/05/2021</td>\n",
       "      <td>10063222006</td>\n",
       "      <td>1006322</td>\n",
       "      <td>2006</td>\n",
       "      <td>Pauillac</td>\n",
       "      <td>Red</td>\n",
       "      <td>Early</td>\n",
       "      <td>Table</td>\n",
       "      <td>Proprietary Blend</td>\n",
       "      <td>Neal Martin</td>\n",
       "      <td>91.0</td>\n",
       "      <td>2019.0</td>\n",
       "      <td>2035.0</td>\n",
       "      <td>29/05/2016</td>\n",
       "      <td>Tasted at Bordeaux Index's annual 10-Year On t...</td>\n",
       "      <td>1006322</td>\n",
       "    </tr>\n",
       "    <tr>\n",
       "      <th>57</th>\n",
       "      <td>980</td>\n",
       "      <td>03/05/2021</td>\n",
       "      <td>1097</td>\n",
       "      <td>45</td>\n",
       "      <td>830</td>\n",
       "      <td>150</td>\n",
       "      <td>267</td>\n",
       "      <td>18/04/2021</td>\n",
       "      <td>Tignanello, Toscana</td>\n",
       "      <td>Tuscany</td>\n",
       "      <td>2014</td>\n",
       "      <td>04/05/2021</td>\n",
       "      <td>10953912014</td>\n",
       "      <td>1095391</td>\n",
       "      <td>2014</td>\n",
       "      <td>Toscana</td>\n",
       "      <td>Red</td>\n",
       "      <td>Early</td>\n",
       "      <td>Table</td>\n",
       "      <td>Proprietary Blend</td>\n",
       "      <td>Monica Larner</td>\n",
       "      <td>93.0</td>\n",
       "      <td>2018.0</td>\n",
       "      <td>2028.0</td>\n",
       "      <td>28/04/2017</td>\n",
       "      <td>Tignanello has this amazing ability of always ...</td>\n",
       "      <td>1095391</td>\n",
       "    </tr>\n",
       "    <tr>\n",
       "      <th>58</th>\n",
       "      <td>2260</td>\n",
       "      <td>03/05/2021</td>\n",
       "      <td>2311</td>\n",
       "      <td>4</td>\n",
       "      <td>2190</td>\n",
       "      <td>70</td>\n",
       "      <td>121</td>\n",
       "      <td>01/05/2021</td>\n",
       "      <td>Gaja, Barbaresco</td>\n",
       "      <td>Piedmont</td>\n",
       "      <td>2004</td>\n",
       "      <td>04/05/2021</td>\n",
       "      <td>10996052004</td>\n",
       "      <td>1099605</td>\n",
       "      <td>2004</td>\n",
       "      <td>Barbaresco</td>\n",
       "      <td>Red</td>\n",
       "      <td>Late</td>\n",
       "      <td>Table</td>\n",
       "      <td>Nebbiolo</td>\n",
       "      <td>Antonio Galloni</td>\n",
       "      <td>93.0</td>\n",
       "      <td>2009.0</td>\n",
       "      <td>2024.0</td>\n",
       "      <td>30/10/2007</td>\n",
       "      <td>The 2004 Barbaresco reveals fresh, perfumed ar...</td>\n",
       "      <td>1099605</td>\n",
       "    </tr>\n",
       "    <tr>\n",
       "      <th>59</th>\n",
       "      <td>3800</td>\n",
       "      <td>03/05/2021</td>\n",
       "      <td>4376</td>\n",
       "      <td>81</td>\n",
       "      <td>3560</td>\n",
       "      <td>240</td>\n",
       "      <td>816</td>\n",
       "      <td>20/11/2020</td>\n",
       "      <td>Chateau Margaux Premier Cru Classe, Margaux</td>\n",
       "      <td>Bordeaux</td>\n",
       "      <td>2012</td>\n",
       "      <td>04/05/2021</td>\n",
       "      <td>10127812012</td>\n",
       "      <td>1012781</td>\n",
       "      <td>2012</td>\n",
       "      <td>Margaux</td>\n",
       "      <td>Red</td>\n",
       "      <td>Young</td>\n",
       "      <td>Table</td>\n",
       "      <td>Proprietary Blend</td>\n",
       "      <td>Neal Martin</td>\n",
       "      <td>96.0</td>\n",
       "      <td>2022.0</td>\n",
       "      <td>2050.0</td>\n",
       "      <td>28/10/2016</td>\n",
       "      <td>Tasted blind at the 2012 Southwold tasting, th...</td>\n",
       "      <td>1012781</td>\n",
       "    </tr>\n",
       "    <tr>\n",
       "      <th>60</th>\n",
       "      <td>450</td>\n",
       "      <td>03/05/2021</td>\n",
       "      <td>450</td>\n",
       "      <td>1</td>\n",
       "      <td>340</td>\n",
       "      <td>110</td>\n",
       "      <td>110</td>\n",
       "      <td>31/08/2018</td>\n",
       "      <td>Chateau Batailley 5eme Cru Classe, Pauillac</td>\n",
       "      <td>Bordeaux</td>\n",
       "      <td>2007</td>\n",
       "      <td>04/05/2021</td>\n",
       "      <td>10063222007</td>\n",
       "      <td>1006322</td>\n",
       "      <td>2007</td>\n",
       "      <td>Pauillac</td>\n",
       "      <td>Red</td>\n",
       "      <td>Early</td>\n",
       "      <td>Table</td>\n",
       "      <td>Proprietary Blend</td>\n",
       "      <td>Neal Martin</td>\n",
       "      <td>90.0</td>\n",
       "      <td>2017.0</td>\n",
       "      <td>2030.0</td>\n",
       "      <td>30/06/2017</td>\n",
       "      <td>Tasted at BI Wine &amp; Spirits' 10-Years-On tasti...</td>\n",
       "      <td>1006322</td>\n",
       "    </tr>\n",
       "    <tr>\n",
       "      <th>61</th>\n",
       "      <td>1200</td>\n",
       "      <td>04/05/2021</td>\n",
       "      <td>1148</td>\n",
       "      <td>123</td>\n",
       "      <td>1082</td>\n",
       "      <td>118</td>\n",
       "      <td>66</td>\n",
       "      <td>27/04/2021</td>\n",
       "      <td>Tignanello, Toscana</td>\n",
       "      <td>Tuscany</td>\n",
       "      <td>2016</td>\n",
       "      <td>05/05/2021</td>\n",
       "      <td>10953912016</td>\n",
       "      <td>1095391</td>\n",
       "      <td>2016</td>\n",
       "      <td>Toscana</td>\n",
       "      <td>Red</td>\n",
       "      <td>Early</td>\n",
       "      <td>Table</td>\n",
       "      <td>Proprietary Blend</td>\n",
       "      <td>Monica Larner</td>\n",
       "      <td>97.0</td>\n",
       "      <td>2020.0</td>\n",
       "      <td>2045.0</td>\n",
       "      <td>31/05/2019</td>\n",
       "      <td>To hit the market in June, the 2016 Tignanello...</td>\n",
       "      <td>1095391</td>\n",
       "    </tr>\n",
       "    <tr>\n",
       "      <th>62</th>\n",
       "      <td>400</td>\n",
       "      <td>03/05/2021</td>\n",
       "      <td>487</td>\n",
       "      <td>5</td>\n",
       "      <td>332</td>\n",
       "      <td>68</td>\n",
       "      <td>155</td>\n",
       "      <td>06/10/2020</td>\n",
       "      <td>Chateau Batailley 5eme Cru Classe, Pauillac</td>\n",
       "      <td>Bordeaux</td>\n",
       "      <td>2008</td>\n",
       "      <td>04/05/2021</td>\n",
       "      <td>10063222008</td>\n",
       "      <td>1006322</td>\n",
       "      <td>2008</td>\n",
       "      <td>Pauillac</td>\n",
       "      <td>Red</td>\n",
       "      <td>Mature</td>\n",
       "      <td>Table</td>\n",
       "      <td>Proprietary Blend</td>\n",
       "      <td>Robert M. Parker, Jr.</td>\n",
       "      <td>90.0</td>\n",
       "      <td>2013.0</td>\n",
       "      <td>2028.0</td>\n",
       "      <td>01/05/2011</td>\n",
       "      <td>Wood spice, earth, black currant and sweet che...</td>\n",
       "      <td>1006322</td>\n",
       "    </tr>\n",
       "    <tr>\n",
       "      <th>63</th>\n",
       "      <td>490</td>\n",
       "      <td>03/05/2021</td>\n",
       "      <td>548</td>\n",
       "      <td>24</td>\n",
       "      <td>504</td>\n",
       "      <td>-14</td>\n",
       "      <td>44</td>\n",
       "      <td>06/04/2021</td>\n",
       "      <td>Chateau Batailley 5eme Cru Classe, Pauillac</td>\n",
       "      <td>Bordeaux</td>\n",
       "      <td>2009</td>\n",
       "      <td>04/05/2021</td>\n",
       "      <td>10063222009</td>\n",
       "      <td>1006322</td>\n",
       "      <td>2009</td>\n",
       "      <td>Pauillac</td>\n",
       "      <td>Red</td>\n",
       "      <td>Early</td>\n",
       "      <td>Table</td>\n",
       "      <td>Proprietary Blend</td>\n",
       "      <td>Lisa Perrotti-Brown</td>\n",
       "      <td>89.0</td>\n",
       "      <td>2019.0</td>\n",
       "      <td>2027.0</td>\n",
       "      <td>14/03/2019</td>\n",
       "      <td>The medium to deep garnet colored 2009 Bataill...</td>\n",
       "      <td>1006322</td>\n",
       "    </tr>\n",
       "    <tr>\n",
       "      <th>64</th>\n",
       "      <td>2199</td>\n",
       "      <td>02/07/2021</td>\n",
       "      <td>2225</td>\n",
       "      <td>2</td>\n",
       "      <td>1340</td>\n",
       "      <td>859</td>\n",
       "      <td>885</td>\n",
       "      <td>13/03/2020</td>\n",
       "      <td>Gaja, Barbaresco</td>\n",
       "      <td>Piedmont</td>\n",
       "      <td>2009</td>\n",
       "      <td>03/07/2021</td>\n",
       "      <td>10996052009</td>\n",
       "      <td>1099605</td>\n",
       "      <td>2009</td>\n",
       "      <td>Barbaresco</td>\n",
       "      <td>Red</td>\n",
       "      <td>Early</td>\n",
       "      <td>Table</td>\n",
       "      <td>Nebbiolo</td>\n",
       "      <td>Antonio Galloni</td>\n",
       "      <td>93.0</td>\n",
       "      <td>2017.0</td>\n",
       "      <td>2029.0</td>\n",
       "      <td>30/10/2012</td>\n",
       "      <td>The 2009 Barbaresco is absolutely remarkable f...</td>\n",
       "      <td>1099605</td>\n",
       "    </tr>\n",
       "    <tr>\n",
       "      <th>65</th>\n",
       "      <td>1300</td>\n",
       "      <td>05/05/2021</td>\n",
       "      <td>1332</td>\n",
       "      <td>3</td>\n",
       "      <td>1200</td>\n",
       "      <td>100</td>\n",
       "      <td>132</td>\n",
       "      <td>06/03/2021</td>\n",
       "      <td>Tignanello, Toscana</td>\n",
       "      <td>Tuscany</td>\n",
       "      <td>2007</td>\n",
       "      <td>09/05/2021</td>\n",
       "      <td>10953912007</td>\n",
       "      <td>1095391</td>\n",
       "      <td>2007</td>\n",
       "      <td>Toscana</td>\n",
       "      <td>Red</td>\n",
       "      <td>Early</td>\n",
       "      <td>Table</td>\n",
       "      <td>Proprietary Blend</td>\n",
       "      <td>Monica Larner</td>\n",
       "      <td>95.0</td>\n",
       "      <td>2015.0</td>\n",
       "      <td>2035.0</td>\n",
       "      <td>29/10/2015</td>\n",
       "      <td>The 2007 Tignanello is ripe with promise for t...</td>\n",
       "      <td>1095391</td>\n",
       "    </tr>\n",
       "    <tr>\n",
       "      <th>66</th>\n",
       "      <td>490</td>\n",
       "      <td>03/05/2021</td>\n",
       "      <td>593</td>\n",
       "      <td>406</td>\n",
       "      <td>494</td>\n",
       "      <td>-4</td>\n",
       "      <td>99</td>\n",
       "      <td>20/04/2021</td>\n",
       "      <td>Chateau Batailley 5eme Cru Classe, Pauillac</td>\n",
       "      <td>Bordeaux</td>\n",
       "      <td>2010</td>\n",
       "      <td>04/05/2021</td>\n",
       "      <td>10063222010</td>\n",
       "      <td>1006322</td>\n",
       "      <td>2010</td>\n",
       "      <td>Pauillac</td>\n",
       "      <td>Red</td>\n",
       "      <td>Early</td>\n",
       "      <td>Table</td>\n",
       "      <td>Proprietary Blend</td>\n",
       "      <td>Lisa Perrotti-Brown</td>\n",
       "      <td>90.0</td>\n",
       "      <td>2020.0</td>\n",
       "      <td>2033.0</td>\n",
       "      <td>05/03/2020</td>\n",
       "      <td>Deep garnet in color, the 2010 Batailley start...</td>\n",
       "      <td>1006322</td>\n",
       "    </tr>\n",
       "    <tr>\n",
       "      <th>67</th>\n",
       "      <td>820</td>\n",
       "      <td>02/07/2021</td>\n",
       "      <td>937</td>\n",
       "      <td>6</td>\n",
       "      <td>735</td>\n",
       "      <td>85</td>\n",
       "      <td>202</td>\n",
       "      <td>09/09/2020</td>\n",
       "      <td>Chateau Calon Segur 3eme Cru Classe, Saint-Est...</td>\n",
       "      <td>Bordeaux</td>\n",
       "      <td>2012</td>\n",
       "      <td>03/07/2021</td>\n",
       "      <td>10074752012</td>\n",
       "      <td>1007475</td>\n",
       "      <td>2012</td>\n",
       "      <td>Saint-Estephe</td>\n",
       "      <td>Red</td>\n",
       "      <td>Early</td>\n",
       "      <td>Table</td>\n",
       "      <td>Proprietary Blend</td>\n",
       "      <td>Robert M. Parker, Jr.</td>\n",
       "      <td>91.0</td>\n",
       "      <td>2015.0</td>\n",
       "      <td>2035.0</td>\n",
       "      <td>29/04/2015</td>\n",
       "      <td>The 2012 Calon S�gur, has an opaque ruby/purpl...</td>\n",
       "      <td>1007475</td>\n",
       "    </tr>\n",
       "    <tr>\n",
       "      <th>68</th>\n",
       "      <td>1800</td>\n",
       "      <td>02/07/2021</td>\n",
       "      <td>1691</td>\n",
       "      <td>2</td>\n",
       "      <td>1440</td>\n",
       "      <td>360</td>\n",
       "      <td>251</td>\n",
       "      <td>04/01/2018</td>\n",
       "      <td>Gaja, Barbaresco</td>\n",
       "      <td>Piedmont</td>\n",
       "      <td>2010</td>\n",
       "      <td>03/07/2021</td>\n",
       "      <td>10996052010</td>\n",
       "      <td>1099605</td>\n",
       "      <td>2010</td>\n",
       "      <td>Barbaresco</td>\n",
       "      <td>Red</td>\n",
       "      <td>Early</td>\n",
       "      <td>Table</td>\n",
       "      <td>Nebbiolo</td>\n",
       "      <td>Monica Larner</td>\n",
       "      <td>94.0</td>\n",
       "      <td>2018.0</td>\n",
       "      <td>2028.0</td>\n",
       "      <td>27/06/2013</td>\n",
       "      <td>Smack from the start, the 2010 Barbaresco show...</td>\n",
       "      <td>1099605</td>\n",
       "    </tr>\n",
       "    <tr>\n",
       "      <th>69</th>\n",
       "      <td>1000</td>\n",
       "      <td>04/05/2021</td>\n",
       "      <td>1199</td>\n",
       "      <td>12</td>\n",
       "      <td>860</td>\n",
       "      <td>140</td>\n",
       "      <td>339</td>\n",
       "      <td>08/03/2021</td>\n",
       "      <td>Tignanello, Toscana</td>\n",
       "      <td>Tuscany</td>\n",
       "      <td>2013</td>\n",
       "      <td>07/05/2021</td>\n",
       "      <td>10953912013</td>\n",
       "      <td>1095391</td>\n",
       "      <td>2013</td>\n",
       "      <td>Toscana</td>\n",
       "      <td>Red</td>\n",
       "      <td>Early</td>\n",
       "      <td>Table</td>\n",
       "      <td>Proprietary Blend</td>\n",
       "      <td>Monica Larner</td>\n",
       "      <td>96.0</td>\n",
       "      <td>2018.0</td>\n",
       "      <td>2035.0</td>\n",
       "      <td>30/12/2016</td>\n",
       "      <td>The 2013 Tignanello represents the beginning o...</td>\n",
       "      <td>1095391</td>\n",
       "    </tr>\n",
       "    <tr>\n",
       "      <th>70</th>\n",
       "      <td>400</td>\n",
       "      <td>03/05/2021</td>\n",
       "      <td>468</td>\n",
       "      <td>6</td>\n",
       "      <td>300</td>\n",
       "      <td>100</td>\n",
       "      <td>168</td>\n",
       "      <td>05/11/2020</td>\n",
       "      <td>Chateau Batailley 5eme Cru Classe, Pauillac</td>\n",
       "      <td>Bordeaux</td>\n",
       "      <td>2011</td>\n",
       "      <td>04/05/2021</td>\n",
       "      <td>10063222011</td>\n",
       "      <td>1006322</td>\n",
       "      <td>2011</td>\n",
       "      <td>Pauillac</td>\n",
       "      <td>Red</td>\n",
       "      <td>Early</td>\n",
       "      <td>Table</td>\n",
       "      <td>Proprietary Blend</td>\n",
       "      <td>Robert M. Parker, Jr.</td>\n",
       "      <td>91.0</td>\n",
       "      <td>2017.0</td>\n",
       "      <td>2037.0</td>\n",
       "      <td>29/04/2014</td>\n",
       "      <td>An attractive nose of creme de cassis, earth a...</td>\n",
       "      <td>1006322</td>\n",
       "    </tr>\n",
       "    <tr>\n",
       "      <th>71</th>\n",
       "      <td>1350</td>\n",
       "      <td>08/06/2021</td>\n",
       "      <td>1445</td>\n",
       "      <td>7</td>\n",
       "      <td>1352</td>\n",
       "      <td>-2</td>\n",
       "      <td>93</td>\n",
       "      <td>23/09/2020</td>\n",
       "      <td>Gaja, Barbaresco</td>\n",
       "      <td>Piedmont</td>\n",
       "      <td>2011</td>\n",
       "      <td>09/06/2021</td>\n",
       "      <td>10996052011</td>\n",
       "      <td>1099605</td>\n",
       "      <td>2011</td>\n",
       "      <td>Barbaresco</td>\n",
       "      <td>Red</td>\n",
       "      <td>Early</td>\n",
       "      <td>Table</td>\n",
       "      <td>Nebbiolo</td>\n",
       "      <td>Monica Larner</td>\n",
       "      <td>93.0</td>\n",
       "      <td>2017.0</td>\n",
       "      <td>2035.0</td>\n",
       "      <td>25/06/2014</td>\n",
       "      <td>The 2011 Barbaresco opens to a dark garnet col...</td>\n",
       "      <td>1099605</td>\n",
       "    </tr>\n",
       "    <tr>\n",
       "      <th>72</th>\n",
       "      <td>5415</td>\n",
       "      <td>03/06/2021</td>\n",
       "      <td>5683</td>\n",
       "      <td>96</td>\n",
       "      <td>5238</td>\n",
       "      <td>177</td>\n",
       "      <td>445</td>\n",
       "      <td>17/05/2021</td>\n",
       "      <td>Chateau Margaux Premier Cru Classe, Margaux</td>\n",
       "      <td>Bordeaux</td>\n",
       "      <td>2016</td>\n",
       "      <td>09/06/2021</td>\n",
       "      <td>10127812016</td>\n",
       "      <td>1012781</td>\n",
       "      <td>2016</td>\n",
       "      <td>Margaux</td>\n",
       "      <td>Red</td>\n",
       "      <td>Young</td>\n",
       "      <td>Table</td>\n",
       "      <td>Proprietary Blend</td>\n",
       "      <td>Lisa Perrotti-Brown</td>\n",
       "      <td>99.0</td>\n",
       "      <td>2024.0</td>\n",
       "      <td>2063.0</td>\n",
       "      <td>30/11/2018</td>\n",
       "      <td>Deep garnet-purple colored, the 2016 Ch�teau M...</td>\n",
       "      <td>1012781</td>\n",
       "    </tr>\n",
       "    <tr>\n",
       "      <th>73</th>\n",
       "      <td>1678</td>\n",
       "      <td>08/06/2021</td>\n",
       "      <td>1648</td>\n",
       "      <td>4</td>\n",
       "      <td>1180</td>\n",
       "      <td>498</td>\n",
       "      <td>468</td>\n",
       "      <td>25/06/2020</td>\n",
       "      <td>Tignanello, Toscana</td>\n",
       "      <td>Tuscany</td>\n",
       "      <td>2004</td>\n",
       "      <td>09/06/2021</td>\n",
       "      <td>10953912004</td>\n",
       "      <td>1095391</td>\n",
       "      <td>2004</td>\n",
       "      <td>Toscana</td>\n",
       "      <td>Red</td>\n",
       "      <td>Old</td>\n",
       "      <td>Table</td>\n",
       "      <td>Proprietary Blend</td>\n",
       "      <td>Antonio Galloni</td>\n",
       "      <td>93.0</td>\n",
       "      <td>2009.0</td>\n",
       "      <td>2019.0</td>\n",
       "      <td>28/06/2007</td>\n",
       "      <td>The 2004 Tignanello (85% Sangiovese, 10% Caber...</td>\n",
       "      <td>1095391</td>\n",
       "    </tr>\n",
       "    <tr>\n",
       "      <th>74</th>\n",
       "      <td>400</td>\n",
       "      <td>03/05/2021</td>\n",
       "      <td>467</td>\n",
       "      <td>9</td>\n",
       "      <td>355</td>\n",
       "      <td>45</td>\n",
       "      <td>112</td>\n",
       "      <td>15/04/2021</td>\n",
       "      <td>Chateau Batailley 5eme Cru Classe, Pauillac</td>\n",
       "      <td>Bordeaux</td>\n",
       "      <td>2012</td>\n",
       "      <td>04/05/2021</td>\n",
       "      <td>10063222012</td>\n",
       "      <td>1006322</td>\n",
       "      <td>2012</td>\n",
       "      <td>Pauillac</td>\n",
       "      <td>Red</td>\n",
       "      <td>Early</td>\n",
       "      <td>Table</td>\n",
       "      <td>Proprietary Blend</td>\n",
       "      <td>Robert M. Parker, Jr.</td>\n",
       "      <td>92.0</td>\n",
       "      <td>2015.0</td>\n",
       "      <td>2040.0</td>\n",
       "      <td>29/04/2015</td>\n",
       "      <td>From the famous ch�teau estate of the Cast�ja ...</td>\n",
       "      <td>1006322</td>\n",
       "    </tr>\n",
       "    <tr>\n",
       "      <th>75</th>\n",
       "      <td>14766</td>\n",
       "      <td>08/06/2021</td>\n",
       "      <td>16040</td>\n",
       "      <td>0</td>\n",
       "      <td>18750</td>\n",
       "      <td>-3984</td>\n",
       "      <td>-2710</td>\n",
       "      <td>29/08/2018</td>\n",
       "      <td>Jacques-Frederic Mugnier, Chambolle-Musigny Pr...</td>\n",
       "      <td>Burgundy</td>\n",
       "      <td>2015</td>\n",
       "      <td>09/06/2021</td>\n",
       "      <td>10496422015</td>\n",
       "      <td>1049642</td>\n",
       "      <td>2015</td>\n",
       "      <td>Cote de Nuits</td>\n",
       "      <td>Red</td>\n",
       "      <td>Young</td>\n",
       "      <td>Table</td>\n",
       "      <td>Pinot Noir</td>\n",
       "      <td>William Kelley</td>\n",
       "      <td>95.0</td>\n",
       "      <td>2023.0</td>\n",
       "      <td>2045.0</td>\n",
       "      <td>31/10/2018</td>\n",
       "      <td>Tasted blind, Mugnier's stunning 2015 Chamboll...</td>\n",
       "      <td>1049642</td>\n",
       "    </tr>\n",
       "    <tr>\n",
       "      <th>76</th>\n",
       "      <td>857</td>\n",
       "      <td>08/06/2021</td>\n",
       "      <td>937</td>\n",
       "      <td>165</td>\n",
       "      <td>800</td>\n",
       "      <td>57</td>\n",
       "      <td>137</td>\n",
       "      <td>05/06/2021</td>\n",
       "      <td>Tignanello, Toscana</td>\n",
       "      <td>Tuscany</td>\n",
       "      <td>2017</td>\n",
       "      <td>09/06/2021</td>\n",
       "      <td>10953912017</td>\n",
       "      <td>1095391</td>\n",
       "      <td>2017</td>\n",
       "      <td>Toscana</td>\n",
       "      <td>Red</td>\n",
       "      <td>Early</td>\n",
       "      <td>Table</td>\n",
       "      <td>Proprietary Blend</td>\n",
       "      <td>Monica Larner</td>\n",
       "      <td>96.0</td>\n",
       "      <td>2021.0</td>\n",
       "      <td>2040.0</td>\n",
       "      <td>04/06/2020</td>\n",
       "      <td>The Marchesi Antinori 2017 Tignanello (made wi...</td>\n",
       "      <td>1095391</td>\n",
       "    </tr>\n",
       "    <tr>\n",
       "      <th>77</th>\n",
       "      <td>300</td>\n",
       "      <td>03/05/2021</td>\n",
       "      <td>301</td>\n",
       "      <td>108</td>\n",
       "      <td>304</td>\n",
       "      <td>-4</td>\n",
       "      <td>-3</td>\n",
       "      <td>10/01/2021</td>\n",
       "      <td>Chateau Batailley 5eme Cru Classe, Pauillac</td>\n",
       "      <td>Bordeaux</td>\n",
       "      <td>2013</td>\n",
       "      <td>04/05/2021</td>\n",
       "      <td>10063222013</td>\n",
       "      <td>1006322</td>\n",
       "      <td>2013</td>\n",
       "      <td>Pauillac</td>\n",
       "      <td>Red</td>\n",
       "      <td>Mature</td>\n",
       "      <td>Table</td>\n",
       "      <td>Proprietary Blend</td>\n",
       "      <td>Neal Martin</td>\n",
       "      <td>90.0</td>\n",
       "      <td>2017.0</td>\n",
       "      <td>2027.0</td>\n",
       "      <td>28/10/2016</td>\n",
       "      <td>The 2013 Batailley has a relatively backward b...</td>\n",
       "      <td>1006322</td>\n",
       "    </tr>\n",
       "    <tr>\n",
       "      <th>78</th>\n",
       "      <td>1550</td>\n",
       "      <td>08/06/2021</td>\n",
       "      <td>1557</td>\n",
       "      <td>1</td>\n",
       "      <td>1300</td>\n",
       "      <td>250</td>\n",
       "      <td>257</td>\n",
       "      <td>27/04/2021</td>\n",
       "      <td>Gaja, Barbaresco</td>\n",
       "      <td>Piedmont</td>\n",
       "      <td>2012</td>\n",
       "      <td>09/06/2021</td>\n",
       "      <td>10996052012</td>\n",
       "      <td>1099605</td>\n",
       "      <td>2012</td>\n",
       "      <td>Barbaresco</td>\n",
       "      <td>Red</td>\n",
       "      <td>Early</td>\n",
       "      <td>Table</td>\n",
       "      <td>Nebbiolo</td>\n",
       "      <td>Monica Larner</td>\n",
       "      <td>91.0</td>\n",
       "      <td>2017.0</td>\n",
       "      <td>2032.0</td>\n",
       "      <td>28/06/2015</td>\n",
       "      <td>The 2012 Barbaresco shows different DNA from i...</td>\n",
       "      <td>1099605</td>\n",
       "    </tr>\n",
       "    <tr>\n",
       "      <th>79</th>\n",
       "      <td>7000</td>\n",
       "      <td>10/05/2021</td>\n",
       "      <td>6797</td>\n",
       "      <td>1</td>\n",
       "      <td>5360</td>\n",
       "      <td>1640</td>\n",
       "      <td>1437</td>\n",
       "      <td>18/09/2020</td>\n",
       "      <td>Domaine Leflaive, Chevalier-Montrachet Grand Cru</td>\n",
       "      <td>Burgundy</td>\n",
       "      <td>2009</td>\n",
       "      <td>09/06/2021</td>\n",
       "      <td>10734012009</td>\n",
       "      <td>1073401</td>\n",
       "      <td>2009</td>\n",
       "      <td>Cote de Beaune</td>\n",
       "      <td>White</td>\n",
       "      <td>Early</td>\n",
       "      <td>Table</td>\n",
       "      <td>Chardonnay</td>\n",
       "      <td>William Kelley</td>\n",
       "      <td>94.0</td>\n",
       "      <td>2019.0</td>\n",
       "      <td>2035.0</td>\n",
       "      <td>31/07/2019</td>\n",
       "      <td>A charming, fleshy wine, the 2009 Chevalier-Mo...</td>\n",
       "      <td>1073401</td>\n",
       "    </tr>\n",
       "    <tr>\n",
       "      <th>80</th>\n",
       "      <td>420</td>\n",
       "      <td>18/05/2021</td>\n",
       "      <td>462</td>\n",
       "      <td>10</td>\n",
       "      <td>342</td>\n",
       "      <td>78</td>\n",
       "      <td>120</td>\n",
       "      <td>21/08/2020</td>\n",
       "      <td>Tua Rita, Giusto di Notri, Toscana</td>\n",
       "      <td>Tuscany</td>\n",
       "      <td>2011</td>\n",
       "      <td>19/05/2021</td>\n",
       "      <td>11058072011</td>\n",
       "      <td>1105807</td>\n",
       "      <td>2011</td>\n",
       "      <td>Toscana</td>\n",
       "      <td>Red</td>\n",
       "      <td>Mature</td>\n",
       "      <td>Table</td>\n",
       "      <td>Proprietary Blend</td>\n",
       "      <td>Monica Larner</td>\n",
       "      <td>94.0</td>\n",
       "      <td>2015.0</td>\n",
       "      <td>2028.0</td>\n",
       "      <td>28/08/2013</td>\n",
       "      <td>One of my favorite Tua Rita wines, the 2011 Gi...</td>\n",
       "      <td>1105807</td>\n",
       "    </tr>\n",
       "    <tr>\n",
       "      <th>81</th>\n",
       "      <td>7800</td>\n",
       "      <td>08/06/2021</td>\n",
       "      <td>8230</td>\n",
       "      <td>8</td>\n",
       "      <td>7330</td>\n",
       "      <td>470</td>\n",
       "      <td>900</td>\n",
       "      <td>02/06/2021</td>\n",
       "      <td>Domaine Leflaive, Chevalier-Montrachet Grand Cru</td>\n",
       "      <td>Burgundy</td>\n",
       "      <td>2018</td>\n",
       "      <td>09/06/2021</td>\n",
       "      <td>10734012018</td>\n",
       "      <td>1073401</td>\n",
       "      <td>2018</td>\n",
       "      <td>Cote de Beaune</td>\n",
       "      <td>White</td>\n",
       "      <td>Young</td>\n",
       "      <td>Table</td>\n",
       "      <td>Chardonnay</td>\n",
       "      <td>William Kelley</td>\n",
       "      <td>96.0</td>\n",
       "      <td>2028.0</td>\n",
       "      <td>2048.0</td>\n",
       "      <td>14/01/2021</td>\n",
       "      <td>The 2018 Chevalier-Montrachet Grand Cru has tu...</td>\n",
       "      <td>1073401</td>\n",
       "    </tr>\n",
       "    <tr>\n",
       "      <th>82</th>\n",
       "      <td>950</td>\n",
       "      <td>08/06/2021</td>\n",
       "      <td>1086</td>\n",
       "      <td>27</td>\n",
       "      <td>842</td>\n",
       "      <td>108</td>\n",
       "      <td>244</td>\n",
       "      <td>22/08/2020</td>\n",
       "      <td>Chateau Calon Segur 3eme Cru Classe, Saint-Est...</td>\n",
       "      <td>Bordeaux</td>\n",
       "      <td>2019</td>\n",
       "      <td>09/06/2021</td>\n",
       "      <td>10074752019</td>\n",
       "      <td>1007475</td>\n",
       "      <td>2019</td>\n",
       "      <td>Saint-Estephe</td>\n",
       "      <td>Red</td>\n",
       "      <td>NaN</td>\n",
       "      <td>Table</td>\n",
       "      <td>Proprietary Blend</td>\n",
       "      <td>Lisa Perrotti-Brown</td>\n",
       "      <td>96.0</td>\n",
       "      <td>NaN</td>\n",
       "      <td>NaN</td>\n",
       "      <td>18/06/2020</td>\n",
       "      <td>Displaying a very deep purple-black color, the...</td>\n",
       "      <td>1007475</td>\n",
       "    </tr>\n",
       "    <tr>\n",
       "      <th>83</th>\n",
       "      <td>14520</td>\n",
       "      <td>08/06/2021</td>\n",
       "      <td>14270</td>\n",
       "      <td>1</td>\n",
       "      <td>12000</td>\n",
       "      <td>2520</td>\n",
       "      <td>2270</td>\n",
       "      <td>28/05/2020</td>\n",
       "      <td>Jacques-Frederic Mugnier, Chambolle-Musigny Pr...</td>\n",
       "      <td>Burgundy</td>\n",
       "      <td>2014</td>\n",
       "      <td>09/06/2021</td>\n",
       "      <td>10496422014</td>\n",
       "      <td>1049642</td>\n",
       "      <td>2014</td>\n",
       "      <td>Cote de Nuits</td>\n",
       "      <td>Red</td>\n",
       "      <td>Early</td>\n",
       "      <td>Table</td>\n",
       "      <td>Pinot Noir</td>\n",
       "      <td>Neal Martin</td>\n",
       "      <td>95.0</td>\n",
       "      <td>2018.0</td>\n",
       "      <td>2040.0</td>\n",
       "      <td>30/12/2015</td>\n",
       "      <td>The 2014 Chambolle Musigny 1er Cru les Amoureu...</td>\n",
       "      <td>1049642</td>\n",
       "    </tr>\n",
       "    <tr>\n",
       "      <th>84</th>\n",
       "      <td>350</td>\n",
       "      <td>03/05/2021</td>\n",
       "      <td>371</td>\n",
       "      <td>98</td>\n",
       "      <td>324</td>\n",
       "      <td>26</td>\n",
       "      <td>47</td>\n",
       "      <td>20/04/2021</td>\n",
       "      <td>Chateau Batailley 5eme Cru Classe, Pauillac</td>\n",
       "      <td>Bordeaux</td>\n",
       "      <td>2014</td>\n",
       "      <td>05/05/2021</td>\n",
       "      <td>10063222014</td>\n",
       "      <td>1006322</td>\n",
       "      <td>2014</td>\n",
       "      <td>Pauillac</td>\n",
       "      <td>Red</td>\n",
       "      <td>Young</td>\n",
       "      <td>Table</td>\n",
       "      <td>Proprietary Blend</td>\n",
       "      <td>Neal Martin</td>\n",
       "      <td>91.0</td>\n",
       "      <td>2022.0</td>\n",
       "      <td>2045.0</td>\n",
       "      <td>31/03/2017</td>\n",
       "      <td>The 2014 Batailley has an attractive bouquet, ...</td>\n",
       "      <td>1006322</td>\n",
       "    </tr>\n",
       "    <tr>\n",
       "      <th>85</th>\n",
       "      <td>8400</td>\n",
       "      <td>08/06/2021</td>\n",
       "      <td>8933</td>\n",
       "      <td>1</td>\n",
       "      <td>5960</td>\n",
       "      <td>2440</td>\n",
       "      <td>2973</td>\n",
       "      <td>01/08/2017</td>\n",
       "      <td>Domaine Leflaive, Chevalier-Montrachet Grand Cru</td>\n",
       "      <td>Burgundy</td>\n",
       "      <td>2010</td>\n",
       "      <td>09/06/2021</td>\n",
       "      <td>10734012010</td>\n",
       "      <td>1073401</td>\n",
       "      <td>2010</td>\n",
       "      <td>Cote de Beaune</td>\n",
       "      <td>White</td>\n",
       "      <td>Old</td>\n",
       "      <td>Table</td>\n",
       "      <td>Chardonnay</td>\n",
       "      <td>Antonio Galloni</td>\n",
       "      <td>95.0</td>\n",
       "      <td>2020.0</td>\n",
       "      <td>NaN</td>\n",
       "      <td>30/08/2012</td>\n",
       "      <td>The 2010 Chevalier-Montrachet comes across as ...</td>\n",
       "      <td>1073401</td>\n",
       "    </tr>\n",
       "    <tr>\n",
       "      <th>86</th>\n",
       "      <td>1350</td>\n",
       "      <td>08/06/2021</td>\n",
       "      <td>1473</td>\n",
       "      <td>61</td>\n",
       "      <td>1260</td>\n",
       "      <td>90</td>\n",
       "      <td>213</td>\n",
       "      <td>18/02/2021</td>\n",
       "      <td>Gaja, Barbaresco</td>\n",
       "      <td>Piedmont</td>\n",
       "      <td>2015</td>\n",
       "      <td>09/06/2021</td>\n",
       "      <td>10996052015</td>\n",
       "      <td>1099605</td>\n",
       "      <td>2015</td>\n",
       "      <td>Barbaresco</td>\n",
       "      <td>Red</td>\n",
       "      <td>Early</td>\n",
       "      <td>Table</td>\n",
       "      <td>Nebbiolo</td>\n",
       "      <td>Monica Larner</td>\n",
       "      <td>93.0</td>\n",
       "      <td>2020.0</td>\n",
       "      <td>2040.0</td>\n",
       "      <td>29/06/2018</td>\n",
       "      <td>The 2015 Barbaresco was to be bottled a week a...</td>\n",
       "      <td>1099605</td>\n",
       "    </tr>\n",
       "    <tr>\n",
       "      <th>87</th>\n",
       "      <td>17180</td>\n",
       "      <td>18/05/2021</td>\n",
       "      <td>17180</td>\n",
       "      <td>0</td>\n",
       "      <td>6538</td>\n",
       "      <td>10642</td>\n",
       "      <td>10642</td>\n",
       "      <td>05/07/2016</td>\n",
       "      <td>Jacques-Frederic Mugnier, Chambolle-Musigny Pr...</td>\n",
       "      <td>Burgundy</td>\n",
       "      <td>2012</td>\n",
       "      <td>19/05/2021</td>\n",
       "      <td>10496422012</td>\n",
       "      <td>1049642</td>\n",
       "      <td>2012</td>\n",
       "      <td>Cote de Nuits</td>\n",
       "      <td>Red</td>\n",
       "      <td>Early</td>\n",
       "      <td>Table</td>\n",
       "      <td>Pinot Noir</td>\n",
       "      <td>Neal Martin</td>\n",
       "      <td>93.0</td>\n",
       "      <td>2018.0</td>\n",
       "      <td>2040.0</td>\n",
       "      <td>29/10/2015</td>\n",
       "      <td>Tasted blind at the annual \"Burgfest\" tasting ...</td>\n",
       "      <td>1049642</td>\n",
       "    </tr>\n",
       "    <tr>\n",
       "      <th>88</th>\n",
       "      <td>1245</td>\n",
       "      <td>08/06/2021</td>\n",
       "      <td>1545</td>\n",
       "      <td>3</td>\n",
       "      <td>882</td>\n",
       "      <td>363</td>\n",
       "      <td>663</td>\n",
       "      <td>26/04/2019</td>\n",
       "      <td>Tignanello, Toscana</td>\n",
       "      <td>Tuscany</td>\n",
       "      <td>2003</td>\n",
       "      <td>09/06/2021</td>\n",
       "      <td>10953912003</td>\n",
       "      <td>1095391</td>\n",
       "      <td>2003</td>\n",
       "      <td>Toscana</td>\n",
       "      <td>Red</td>\n",
       "      <td>Old</td>\n",
       "      <td>Table</td>\n",
       "      <td>Proprietary Blend</td>\n",
       "      <td>Antonio Galloni</td>\n",
       "      <td>92.0</td>\n",
       "      <td>2007.0</td>\n",
       "      <td>2018.0</td>\n",
       "      <td>28/06/2007</td>\n",
       "      <td>Antinori�s 2003 Tignanello (85% Sangiovese, 10...</td>\n",
       "      <td>1095391</td>\n",
       "    </tr>\n",
       "    <tr>\n",
       "      <th>89</th>\n",
       "      <td>7906</td>\n",
       "      <td>08/06/2021</td>\n",
       "      <td>7792</td>\n",
       "      <td>2</td>\n",
       "      <td>7124</td>\n",
       "      <td>782</td>\n",
       "      <td>668</td>\n",
       "      <td>15/02/2019</td>\n",
       "      <td>Domaine Leflaive, Chevalier-Montrachet Grand Cru</td>\n",
       "      <td>Burgundy</td>\n",
       "      <td>2016</td>\n",
       "      <td>09/06/2021</td>\n",
       "      <td>10734012016</td>\n",
       "      <td>1073401</td>\n",
       "      <td>2016</td>\n",
       "      <td>Cote de Beaune</td>\n",
       "      <td>White</td>\n",
       "      <td>Early</td>\n",
       "      <td>Table</td>\n",
       "      <td>Chardonnay</td>\n",
       "      <td>Neal Martin</td>\n",
       "      <td>93.0</td>\n",
       "      <td>2021.0</td>\n",
       "      <td>2036.0</td>\n",
       "      <td>29/12/2017</td>\n",
       "      <td>The 2016 Chevalier Montrachet Grand Cru, like ...</td>\n",
       "      <td>1073401</td>\n",
       "    </tr>\n",
       "    <tr>\n",
       "      <th>90</th>\n",
       "      <td>477</td>\n",
       "      <td>03/05/2021</td>\n",
       "      <td>529</td>\n",
       "      <td>45</td>\n",
       "      <td>360</td>\n",
       "      <td>117</td>\n",
       "      <td>169</td>\n",
       "      <td>19/11/2020</td>\n",
       "      <td>Chateau Batailley 5eme Cru Classe, Pauillac</td>\n",
       "      <td>Bordeaux</td>\n",
       "      <td>2016</td>\n",
       "      <td>04/05/2021</td>\n",
       "      <td>10063222016</td>\n",
       "      <td>1006322</td>\n",
       "      <td>2016</td>\n",
       "      <td>Pauillac</td>\n",
       "      <td>Red</td>\n",
       "      <td>Young</td>\n",
       "      <td>Table</td>\n",
       "      <td>Proprietary Blend</td>\n",
       "      <td>Neal Martin</td>\n",
       "      <td>94.0</td>\n",
       "      <td>2022.0</td>\n",
       "      <td>2050.0</td>\n",
       "      <td>28/04/2017</td>\n",
       "      <td>The 2016 Batailley is a blend of 12% Merlot, 3...</td>\n",
       "      <td>1006322</td>\n",
       "    </tr>\n",
       "    <tr>\n",
       "      <th>91</th>\n",
       "      <td>475</td>\n",
       "      <td>08/06/2021</td>\n",
       "      <td>547</td>\n",
       "      <td>22</td>\n",
       "      <td>388</td>\n",
       "      <td>87</td>\n",
       "      <td>159</td>\n",
       "      <td>29/09/2020</td>\n",
       "      <td>Tua Rita, Giusto di Notri, Toscana</td>\n",
       "      <td>Tuscany</td>\n",
       "      <td>2015</td>\n",
       "      <td>09/06/2021</td>\n",
       "      <td>11058072015</td>\n",
       "      <td>1105807</td>\n",
       "      <td>2015</td>\n",
       "      <td>Toscana</td>\n",
       "      <td>Red</td>\n",
       "      <td>Early</td>\n",
       "      <td>Table</td>\n",
       "      <td>Proprietary Blend</td>\n",
       "      <td>Monica Larner</td>\n",
       "      <td>96.0</td>\n",
       "      <td>2018.0</td>\n",
       "      <td>2032.0</td>\n",
       "      <td>30/11/2017</td>\n",
       "      <td>Here is a high performance wine from Stefano F...</td>\n",
       "      <td>1105807</td>\n",
       "    </tr>\n",
       "    <tr>\n",
       "      <th>92</th>\n",
       "      <td>2872</td>\n",
       "      <td>08/06/2021</td>\n",
       "      <td>2872</td>\n",
       "      <td>1</td>\n",
       "      <td>2554</td>\n",
       "      <td>318</td>\n",
       "      <td>318</td>\n",
       "      <td>22/05/2020</td>\n",
       "      <td>Gaja, Barbaresco</td>\n",
       "      <td>Piedmont</td>\n",
       "      <td>2006</td>\n",
       "      <td>09/06/2021</td>\n",
       "      <td>10996052006</td>\n",
       "      <td>1099605</td>\n",
       "      <td>2006</td>\n",
       "      <td>Barbaresco</td>\n",
       "      <td>Red</td>\n",
       "      <td>Mature</td>\n",
       "      <td>Table</td>\n",
       "      <td>Nebbiolo</td>\n",
       "      <td>Antonio Galloni</td>\n",
       "      <td>93.0</td>\n",
       "      <td>2016.0</td>\n",
       "      <td>2026.0</td>\n",
       "      <td>30/10/2009</td>\n",
       "      <td>The 2006 Barbaresco reveals terrific concentra...</td>\n",
       "      <td>1099605</td>\n",
       "    </tr>\n",
       "    <tr>\n",
       "      <th>93</th>\n",
       "      <td>5415</td>\n",
       "      <td>10/05/2021</td>\n",
       "      <td>5657</td>\n",
       "      <td>140</td>\n",
       "      <td>5150</td>\n",
       "      <td>265</td>\n",
       "      <td>507</td>\n",
       "      <td>03/05/2021</td>\n",
       "      <td>Chateau Margaux Premier Cru Classe, Margaux</td>\n",
       "      <td>Bordeaux</td>\n",
       "      <td>2018</td>\n",
       "      <td>12/05/2021</td>\n",
       "      <td>10127812018</td>\n",
       "      <td>1012781</td>\n",
       "      <td>2018</td>\n",
       "      <td>Margaux</td>\n",
       "      <td>Red</td>\n",
       "      <td>Young</td>\n",
       "      <td>Table</td>\n",
       "      <td>Proprietary Blend</td>\n",
       "      <td>Lisa Perrotti-Brown</td>\n",
       "      <td>100.0</td>\n",
       "      <td>2027.0</td>\n",
       "      <td>2067.0</td>\n",
       "      <td>31/03/2021</td>\n",
       "      <td>The 2018 Ch�teau Margaux is composed of 90% Ca...</td>\n",
       "      <td>1012781</td>\n",
       "    </tr>\n",
       "    <tr>\n",
       "      <th>94</th>\n",
       "      <td>4820</td>\n",
       "      <td>10/05/2021</td>\n",
       "      <td>4881</td>\n",
       "      <td>7</td>\n",
       "      <td>4160</td>\n",
       "      <td>660</td>\n",
       "      <td>721</td>\n",
       "      <td>19/03/2021</td>\n",
       "      <td>Chateau Margaux Premier Cru Classe, Margaux</td>\n",
       "      <td>Bordeaux</td>\n",
       "      <td>2019</td>\n",
       "      <td>12/05/2021</td>\n",
       "      <td>10127812019</td>\n",
       "      <td>1012781</td>\n",
       "      <td>2019</td>\n",
       "      <td>Margaux</td>\n",
       "      <td>Red</td>\n",
       "      <td>NaN</td>\n",
       "      <td>Table</td>\n",
       "      <td>Proprietary Blend</td>\n",
       "      <td>Lisa Perrotti-Brown</td>\n",
       "      <td>98.5</td>\n",
       "      <td>NaN</td>\n",
       "      <td>NaN</td>\n",
       "      <td>18/06/2020</td>\n",
       "      <td>The 2019 Ch�teau Margaux is a blend of 90% Cab...</td>\n",
       "      <td>1012781</td>\n",
       "    </tr>\n",
       "    <tr>\n",
       "      <th>95</th>\n",
       "      <td>8400</td>\n",
       "      <td>11/05/2021</td>\n",
       "      <td>8400</td>\n",
       "      <td>0</td>\n",
       "      <td>7200</td>\n",
       "      <td>1200</td>\n",
       "      <td>1200</td>\n",
       "      <td>06/11/2019</td>\n",
       "      <td>Domaine Denis Mortet, Chambertin Grand Cru</td>\n",
       "      <td>Burgundy</td>\n",
       "      <td>2014</td>\n",
       "      <td>12/05/2021</td>\n",
       "      <td>10490202014</td>\n",
       "      <td>1049020</td>\n",
       "      <td>2014</td>\n",
       "      <td>Cote de Nuits</td>\n",
       "      <td>Red</td>\n",
       "      <td>Early</td>\n",
       "      <td>Table</td>\n",
       "      <td>Pinot Noir</td>\n",
       "      <td>Neal Martin</td>\n",
       "      <td>96.0</td>\n",
       "      <td>2020.0</td>\n",
       "      <td>2045.0</td>\n",
       "      <td>30/12/2015</td>\n",
       "      <td>The 2014 Chambertin Grand Cru, around three ba...</td>\n",
       "      <td>1049020</td>\n",
       "    </tr>\n",
       "    <tr>\n",
       "      <th>96</th>\n",
       "      <td>1500</td>\n",
       "      <td>11/05/2021</td>\n",
       "      <td>1676</td>\n",
       "      <td>36</td>\n",
       "      <td>1408</td>\n",
       "      <td>92</td>\n",
       "      <td>268</td>\n",
       "      <td>09/04/2021</td>\n",
       "      <td>Gaja, Barbaresco</td>\n",
       "      <td>Piedmont</td>\n",
       "      <td>2016</td>\n",
       "      <td>12/05/2021</td>\n",
       "      <td>10996052016</td>\n",
       "      <td>1099605</td>\n",
       "      <td>2016</td>\n",
       "      <td>Barbaresco</td>\n",
       "      <td>Red</td>\n",
       "      <td>Young</td>\n",
       "      <td>Table</td>\n",
       "      <td>Nebbiolo</td>\n",
       "      <td>Monica Larner</td>\n",
       "      <td>96.0</td>\n",
       "      <td>2022.0</td>\n",
       "      <td>2045.0</td>\n",
       "      <td>28/06/2019</td>\n",
       "      <td>I tasted this wine over two sittings, one at t...</td>\n",
       "      <td>1099605</td>\n",
       "    </tr>\n",
       "    <tr>\n",
       "      <th>97</th>\n",
       "      <td>6800</td>\n",
       "      <td>11/05/2021</td>\n",
       "      <td>6800</td>\n",
       "      <td>1</td>\n",
       "      <td>1730</td>\n",
       "      <td>5070</td>\n",
       "      <td>5070</td>\n",
       "      <td>31/10/2011</td>\n",
       "      <td>Domaine Leflaive, Chevalier-Montrachet Grand Cru</td>\n",
       "      <td>Burgundy</td>\n",
       "      <td>2003</td>\n",
       "      <td>12/05/2021</td>\n",
       "      <td>10734012003</td>\n",
       "      <td>1073401</td>\n",
       "      <td>2003</td>\n",
       "      <td>Cote de Beaune</td>\n",
       "      <td>White</td>\n",
       "      <td>Early</td>\n",
       "      <td>Table</td>\n",
       "      <td>Chardonnay</td>\n",
       "      <td>William Kelley</td>\n",
       "      <td>92.0</td>\n",
       "      <td>2013.0</td>\n",
       "      <td>2045.0</td>\n",
       "      <td>31/07/2019</td>\n",
       "      <td>The 2003 Chevalier-Montrachet Grand Cru is suc...</td>\n",
       "      <td>1073401</td>\n",
       "    </tr>\n",
       "    <tr>\n",
       "      <th>98</th>\n",
       "      <td>1400</td>\n",
       "      <td>11/05/2021</td>\n",
       "      <td>1433</td>\n",
       "      <td>10</td>\n",
       "      <td>1276</td>\n",
       "      <td>124</td>\n",
       "      <td>157</td>\n",
       "      <td>05/03/2021</td>\n",
       "      <td>Gaja, Barbaresco</td>\n",
       "      <td>Piedmont</td>\n",
       "      <td>2013</td>\n",
       "      <td>12/05/2021</td>\n",
       "      <td>10996052013</td>\n",
       "      <td>1099605</td>\n",
       "      <td>2013</td>\n",
       "      <td>Barbaresco</td>\n",
       "      <td>Red</td>\n",
       "      <td>Early</td>\n",
       "      <td>Table</td>\n",
       "      <td>Nebbiolo</td>\n",
       "      <td>Monica Larner</td>\n",
       "      <td>93.0</td>\n",
       "      <td>2018.0</td>\n",
       "      <td>2040.0</td>\n",
       "      <td>29/06/2016</td>\n",
       "      <td>The Gaja 2013 Barbaresco is a toned and elegan...</td>\n",
       "      <td>1099605</td>\n",
       "    </tr>\n",
       "    <tr>\n",
       "      <th>99</th>\n",
       "      <td>870</td>\n",
       "      <td>06/05/2021</td>\n",
       "      <td>1036</td>\n",
       "      <td>66</td>\n",
       "      <td>920</td>\n",
       "      <td>-50</td>\n",
       "      <td>116</td>\n",
       "      <td>10/05/2021</td>\n",
       "      <td>Tignanello, Toscana</td>\n",
       "      <td>Tuscany</td>\n",
       "      <td>2018</td>\n",
       "      <td>12/05/2021</td>\n",
       "      <td>10953912018</td>\n",
       "      <td>1095391</td>\n",
       "      <td>2018</td>\n",
       "      <td>Toscana</td>\n",
       "      <td>Red</td>\n",
       "      <td>Young</td>\n",
       "      <td>Table</td>\n",
       "      <td>Proprietary Blend</td>\n",
       "      <td>Monica Larner</td>\n",
       "      <td>98.0</td>\n",
       "      <td>2023.0</td>\n",
       "      <td>2045.0</td>\n",
       "      <td>06/05/2021</td>\n",
       "      <td>This wine brought to mind precise imagery of t...</td>\n",
       "      <td>1095391</td>\n",
       "    </tr>\n",
       "    <tr>\n",
       "      <th>100</th>\n",
       "      <td>12402</td>\n",
       "      <td>11/05/2021</td>\n",
       "      <td>12557</td>\n",
       "      <td>2</td>\n",
       "      <td>12850</td>\n",
       "      <td>-448</td>\n",
       "      <td>-293</td>\n",
       "      <td>30/11/2020</td>\n",
       "      <td>Jacques-Frederic Mugnier, Chambolle-Musigny Pr...</td>\n",
       "      <td>Burgundy</td>\n",
       "      <td>2011</td>\n",
       "      <td>12/05/2021</td>\n",
       "      <td>10496422011</td>\n",
       "      <td>1049642</td>\n",
       "      <td>2011</td>\n",
       "      <td>Cote de Nuits</td>\n",
       "      <td>Red</td>\n",
       "      <td>Early</td>\n",
       "      <td>Table</td>\n",
       "      <td>Pinot Noir</td>\n",
       "      <td>Neal Martin</td>\n",
       "      <td>92.0</td>\n",
       "      <td>2016.0</td>\n",
       "      <td>2035.0</td>\n",
       "      <td>29/11/2014</td>\n",
       "      <td>Tasted blind at the Burgundy 2011 horizontal t...</td>\n",
       "      <td>1049642</td>\n",
       "    </tr>\n",
       "    <tr>\n",
       "      <th>101</th>\n",
       "      <td>17000</td>\n",
       "      <td>12/05/2021</td>\n",
       "      <td>15189</td>\n",
       "      <td>7</td>\n",
       "      <td>13000</td>\n",
       "      <td>4000</td>\n",
       "      <td>2189</td>\n",
       "      <td>29/04/2021</td>\n",
       "      <td>Jacques-Frederic Mugnier, Chambolle-Musigny Pr...</td>\n",
       "      <td>Burgundy</td>\n",
       "      <td>2017</td>\n",
       "      <td>19/05/2021</td>\n",
       "      <td>10496422017</td>\n",
       "      <td>1049642</td>\n",
       "      <td>2017</td>\n",
       "      <td>Cote de Nuits</td>\n",
       "      <td>Red</td>\n",
       "      <td>Young</td>\n",
       "      <td>Table</td>\n",
       "      <td>Pinot Noir</td>\n",
       "      <td>William Kelley</td>\n",
       "      <td>95.0</td>\n",
       "      <td>2027.0</td>\n",
       "      <td>2050.0</td>\n",
       "      <td>09/01/2020</td>\n",
       "      <td>A stunning bouquet of raspberries, rose petals...</td>\n",
       "      <td>1049642</td>\n",
       "    </tr>\n",
       "    <tr>\n",
       "      <th>102</th>\n",
       "      <td>10650</td>\n",
       "      <td>18/05/2021</td>\n",
       "      <td>10047</td>\n",
       "      <td>1</td>\n",
       "      <td>4000</td>\n",
       "      <td>6650</td>\n",
       "      <td>6047</td>\n",
       "      <td>25/04/2016</td>\n",
       "      <td>Domaine Denis Mortet, Chambertin Grand Cru</td>\n",
       "      <td>Burgundy</td>\n",
       "      <td>2013</td>\n",
       "      <td>19/05/2021</td>\n",
       "      <td>10490202013</td>\n",
       "      <td>1049020</td>\n",
       "      <td>2013</td>\n",
       "      <td>Cote de Nuits</td>\n",
       "      <td>Red</td>\n",
       "      <td>Early</td>\n",
       "      <td>Table</td>\n",
       "      <td>Pinot Noir</td>\n",
       "      <td>Neal Martin</td>\n",
       "      <td>96.0</td>\n",
       "      <td>2020.0</td>\n",
       "      <td>2045.0</td>\n",
       "      <td>29/12/2014</td>\n",
       "      <td>Matured entirely in new oak, the 2013 Chambert...</td>\n",
       "      <td>1049020</td>\n",
       "    </tr>\n",
       "    <tr>\n",
       "      <th>103</th>\n",
       "      <td>8016</td>\n",
       "      <td>18/05/2021</td>\n",
       "      <td>9840</td>\n",
       "      <td>3</td>\n",
       "      <td>7290</td>\n",
       "      <td>726</td>\n",
       "      <td>2550</td>\n",
       "      <td>21/08/2020</td>\n",
       "      <td>Domaine Denis Mortet, Chambertin Grand Cru</td>\n",
       "      <td>Burgundy</td>\n",
       "      <td>2017</td>\n",
       "      <td>19/05/2021</td>\n",
       "      <td>10490202017</td>\n",
       "      <td>1049020</td>\n",
       "      <td>2017</td>\n",
       "      <td>Cote de Nuits</td>\n",
       "      <td>Red</td>\n",
       "      <td>NaN</td>\n",
       "      <td>Table</td>\n",
       "      <td>Pinot Noir</td>\n",
       "      <td>William Kelley</td>\n",
       "      <td>94.0</td>\n",
       "      <td>NaN</td>\n",
       "      <td>NaN</td>\n",
       "      <td>04/01/2019</td>\n",
       "      <td>There are three new barrels of the 2017 Chambe...</td>\n",
       "      <td>1049020</td>\n",
       "    </tr>\n",
       "    <tr>\n",
       "      <th>104</th>\n",
       "      <td>496</td>\n",
       "      <td>04/05/2021</td>\n",
       "      <td>527</td>\n",
       "      <td>35</td>\n",
       "      <td>312</td>\n",
       "      <td>184</td>\n",
       "      <td>215</td>\n",
       "      <td>12/03/2021</td>\n",
       "      <td>Chateau Batailley 5eme Cru Classe, Pauillac</td>\n",
       "      <td>Bordeaux</td>\n",
       "      <td>2015</td>\n",
       "      <td>05/05/2021</td>\n",
       "      <td>10063222015</td>\n",
       "      <td>1006322</td>\n",
       "      <td>2015</td>\n",
       "      <td>Pauillac</td>\n",
       "      <td>Red</td>\n",
       "      <td>Young</td>\n",
       "      <td>Table</td>\n",
       "      <td>Proprietary Blend</td>\n",
       "      <td>Neal Martin</td>\n",
       "      <td>94.0</td>\n",
       "      <td>2022.0</td>\n",
       "      <td>2050.0</td>\n",
       "      <td>27/04/2016</td>\n",
       "      <td>The 2015 Batailley is a blend of 77% Cabernet ...</td>\n",
       "      <td>1006322</td>\n",
       "    </tr>\n",
       "    <tr>\n",
       "      <th>105</th>\n",
       "      <td>6396</td>\n",
       "      <td>10/05/2021</td>\n",
       "      <td>6856</td>\n",
       "      <td>3</td>\n",
       "      <td>7900</td>\n",
       "      <td>-1504</td>\n",
       "      <td>-1044</td>\n",
       "      <td>29/04/2019</td>\n",
       "      <td>Domaine Leflaive, Chevalier-Montrachet Grand Cru</td>\n",
       "      <td>Burgundy</td>\n",
       "      <td>2015</td>\n",
       "      <td>18/05/2021</td>\n",
       "      <td>10734012015</td>\n",
       "      <td>1073401</td>\n",
       "      <td>2015</td>\n",
       "      <td>Cote de Beaune</td>\n",
       "      <td>White</td>\n",
       "      <td>Early</td>\n",
       "      <td>Table</td>\n",
       "      <td>Chardonnay</td>\n",
       "      <td>William Kelley</td>\n",
       "      <td>97.0</td>\n",
       "      <td>2020.0</td>\n",
       "      <td>2040.0</td>\n",
       "      <td>28/02/2018</td>\n",
       "      <td>The 2015 Chevalier-Montrachet from Domaine Lef...</td>\n",
       "      <td>1073401</td>\n",
       "    </tr>\n",
       "    <tr>\n",
       "      <th>106</th>\n",
       "      <td>6900</td>\n",
       "      <td>17/05/2021</td>\n",
       "      <td>6900</td>\n",
       "      <td>0</td>\n",
       "      <td>6405</td>\n",
       "      <td>495</td>\n",
       "      <td>495</td>\n",
       "      <td>19/07/2019</td>\n",
       "      <td>Domaine Leflaive, Chevalier-Montrachet Grand Cru</td>\n",
       "      <td>Burgundy</td>\n",
       "      <td>2005</td>\n",
       "      <td>18/05/2021</td>\n",
       "      <td>10734012005</td>\n",
       "      <td>1073401</td>\n",
       "      <td>2005</td>\n",
       "      <td>Cote de Beaune</td>\n",
       "      <td>White</td>\n",
       "      <td>Early</td>\n",
       "      <td>Table</td>\n",
       "      <td>Chardonnay</td>\n",
       "      <td>William Kelley</td>\n",
       "      <td>97.0</td>\n",
       "      <td>2015.0</td>\n",
       "      <td>2035.0</td>\n",
       "      <td>31/07/2019</td>\n",
       "      <td>When you happen upon a pristine bottle of Lefl...</td>\n",
       "      <td>1073401</td>\n",
       "    </tr>\n",
       "    <tr>\n",
       "      <th>107</th>\n",
       "      <td>6552</td>\n",
       "      <td>17/05/2021</td>\n",
       "      <td>6552</td>\n",
       "      <td>0</td>\n",
       "      <td>3920</td>\n",
       "      <td>2632</td>\n",
       "      <td>2632</td>\n",
       "      <td>26/04/2017</td>\n",
       "      <td>Domaine Leflaive, Chevalier-Montrachet Grand Cru</td>\n",
       "      <td>Burgundy</td>\n",
       "      <td>2006</td>\n",
       "      <td>18/05/2021</td>\n",
       "      <td>10734012006</td>\n",
       "      <td>1073401</td>\n",
       "      <td>2006</td>\n",
       "      <td>Cote de Beaune</td>\n",
       "      <td>White</td>\n",
       "      <td>Old</td>\n",
       "      <td>Table</td>\n",
       "      <td>Chardonnay</td>\n",
       "      <td>William Kelley</td>\n",
       "      <td>55.0</td>\n",
       "      <td>2008.0</td>\n",
       "      <td>2012.0</td>\n",
       "      <td>30/04/2021</td>\n",
       "      <td>After my review of a reconditioned bottle last...</td>\n",
       "      <td>1073401</td>\n",
       "    </tr>\n",
       "    <tr>\n",
       "      <th>108</th>\n",
       "      <td>3600</td>\n",
       "      <td>27/07/2021</td>\n",
       "      <td>3766</td>\n",
       "      <td>2</td>\n",
       "      <td>3101</td>\n",
       "      <td>499</td>\n",
       "      <td>665</td>\n",
       "      <td>26/11/2020</td>\n",
       "      <td>Chateau Angelus Premier Grand Cru Classe B, Sa...</td>\n",
       "      <td>Bordeaux</td>\n",
       "      <td>2001</td>\n",
       "      <td>28/07/2021</td>\n",
       "      <td>10060452001</td>\n",
       "      <td>1006045</td>\n",
       "      <td>2001</td>\n",
       "      <td>Saint-�milion</td>\n",
       "      <td>Red</td>\n",
       "      <td>Mature</td>\n",
       "      <td>Table</td>\n",
       "      <td>Proprietary Blend</td>\n",
       "      <td>Robert M. Parker, Jr.</td>\n",
       "      <td>97.0</td>\n",
       "      <td>2015.0</td>\n",
       "      <td>2030.0</td>\n",
       "      <td>27/08/2015</td>\n",
       "      <td>A real sleeper of the vintage, and somewhat un...</td>\n",
       "      <td>1006045</td>\n",
       "    </tr>\n",
       "    <tr>\n",
       "      <th>109</th>\n",
       "      <td>790</td>\n",
       "      <td>13/05/2021</td>\n",
       "      <td>929</td>\n",
       "      <td>41</td>\n",
       "      <td>794</td>\n",
       "      <td>-4</td>\n",
       "      <td>135</td>\n",
       "      <td>20/04/2021</td>\n",
       "      <td>Chateau Calon Segur 3eme Cru Classe, Saint-Est...</td>\n",
       "      <td>Bordeaux</td>\n",
       "      <td>2014</td>\n",
       "      <td>19/05/2021</td>\n",
       "      <td>10074752014</td>\n",
       "      <td>1007475</td>\n",
       "      <td>2014</td>\n",
       "      <td>Saint-Estephe</td>\n",
       "      <td>Red</td>\n",
       "      <td>Early</td>\n",
       "      <td>Table</td>\n",
       "      <td>Proprietary Blend</td>\n",
       "      <td>Neal Martin</td>\n",
       "      <td>92.0</td>\n",
       "      <td>2021.0</td>\n",
       "      <td>2045.0</td>\n",
       "      <td>31/03/2017</td>\n",
       "      <td>The 2014 Calon S�gur has a much more reticent ...</td>\n",
       "      <td>1007475</td>\n",
       "    </tr>\n",
       "    <tr>\n",
       "      <th>110</th>\n",
       "      <td>2973</td>\n",
       "      <td>10/08/2021</td>\n",
       "      <td>3137</td>\n",
       "      <td>9</td>\n",
       "      <td>2610</td>\n",
       "      <td>363</td>\n",
       "      <td>527</td>\n",
       "      <td>10/01/2017</td>\n",
       "      <td>Chateau Angelus Premier Grand Cru Classe B, Sa...</td>\n",
       "      <td>Bordeaux</td>\n",
       "      <td>2002</td>\n",
       "      <td>11/08/2021</td>\n",
       "      <td>10060452002</td>\n",
       "      <td>1006045</td>\n",
       "      <td>2002</td>\n",
       "      <td>Saint-�milion</td>\n",
       "      <td>Red</td>\n",
       "      <td>Old</td>\n",
       "      <td>Table</td>\n",
       "      <td>Proprietary Blend</td>\n",
       "      <td>Robert M. Parker, Jr.</td>\n",
       "      <td>91.0</td>\n",
       "      <td>2005.0</td>\n",
       "      <td>2020.0</td>\n",
       "      <td>28/04/2005</td>\n",
       "      <td>A successful offering for the vintage, the 200...</td>\n",
       "      <td>1006045</td>\n",
       "    </tr>\n",
       "    <tr>\n",
       "      <th>111</th>\n",
       "      <td>6360</td>\n",
       "      <td>12/05/2021</td>\n",
       "      <td>6400</td>\n",
       "      <td>1</td>\n",
       "      <td>4500</td>\n",
       "      <td>1860</td>\n",
       "      <td>1900</td>\n",
       "      <td>08/04/2015</td>\n",
       "      <td>Domaine Leflaive, Chevalier-Montrachet Grand Cru</td>\n",
       "      <td>Burgundy</td>\n",
       "      <td>2012</td>\n",
       "      <td>13/05/2021</td>\n",
       "      <td>10734012012</td>\n",
       "      <td>1073401</td>\n",
       "      <td>2012</td>\n",
       "      <td>Cote de Beaune</td>\n",
       "      <td>White</td>\n",
       "      <td>Young</td>\n",
       "      <td>Table</td>\n",
       "      <td>Chardonnay</td>\n",
       "      <td>William Kelley</td>\n",
       "      <td>95.0</td>\n",
       "      <td>2022.0</td>\n",
       "      <td>2040.0</td>\n",
       "      <td>31/07/2019</td>\n",
       "      <td>Dense and reserved, Leflaive's 2012 Chevalier-...</td>\n",
       "      <td>1073401</td>\n",
       "    </tr>\n",
       "    <tr>\n",
       "      <th>112</th>\n",
       "      <td>480</td>\n",
       "      <td>24/06/2021</td>\n",
       "      <td>467</td>\n",
       "      <td>101</td>\n",
       "      <td>380</td>\n",
       "      <td>100</td>\n",
       "      <td>87</td>\n",
       "      <td>25/03/2021</td>\n",
       "      <td>Tua Rita, Giusto di Notri, Toscana</td>\n",
       "      <td>Tuscany</td>\n",
       "      <td>2018</td>\n",
       "      <td>26/06/2021</td>\n",
       "      <td>11058072018</td>\n",
       "      <td>1105807</td>\n",
       "      <td>2018</td>\n",
       "      <td>Toscana</td>\n",
       "      <td>Red</td>\n",
       "      <td>Young</td>\n",
       "      <td>Table</td>\n",
       "      <td>Proprietary Blend</td>\n",
       "      <td>Monica Larner</td>\n",
       "      <td>96.0</td>\n",
       "      <td>2022.0</td>\n",
       "      <td>2040.0</td>\n",
       "      <td>14/01/2021</td>\n",
       "      <td>I had previously reviewed this blend of 80% Ca...</td>\n",
       "      <td>1105807</td>\n",
       "    </tr>\n",
       "    <tr>\n",
       "      <th>113</th>\n",
       "      <td>487</td>\n",
       "      <td>21/06/2021</td>\n",
       "      <td>526</td>\n",
       "      <td>46</td>\n",
       "      <td>320</td>\n",
       "      <td>167</td>\n",
       "      <td>206</td>\n",
       "      <td>24/03/2021</td>\n",
       "      <td>Tua Rita, Giusto di Notri, Toscana</td>\n",
       "      <td>Tuscany</td>\n",
       "      <td>2017</td>\n",
       "      <td>26/06/2021</td>\n",
       "      <td>11058072017</td>\n",
       "      <td>1105807</td>\n",
       "      <td>2017</td>\n",
       "      <td>Toscana</td>\n",
       "      <td>Red</td>\n",
       "      <td>Early</td>\n",
       "      <td>Table</td>\n",
       "      <td>Proprietary Blend</td>\n",
       "      <td>Monica Larner</td>\n",
       "      <td>96.0</td>\n",
       "      <td>2020.0</td>\n",
       "      <td>2040.0</td>\n",
       "      <td>30/08/2019</td>\n",
       "      <td>The 2017 Giusto di Notri is a special 25th ann...</td>\n",
       "      <td>1105807</td>\n",
       "    </tr>\n",
       "    <tr>\n",
       "      <th>114</th>\n",
       "      <td>1299</td>\n",
       "      <td>11/06/2021</td>\n",
       "      <td>1523</td>\n",
       "      <td>12</td>\n",
       "      <td>1300</td>\n",
       "      <td>-1</td>\n",
       "      <td>223</td>\n",
       "      <td>28/09/2020</td>\n",
       "      <td>Gaja, Barbaresco</td>\n",
       "      <td>Piedmont</td>\n",
       "      <td>2014</td>\n",
       "      <td>12/06/2021</td>\n",
       "      <td>10996052014</td>\n",
       "      <td>1099605</td>\n",
       "      <td>2014</td>\n",
       "      <td>Barbaresco</td>\n",
       "      <td>Red</td>\n",
       "      <td>Early</td>\n",
       "      <td>Table</td>\n",
       "      <td>Nebbiolo</td>\n",
       "      <td>Monica Larner</td>\n",
       "      <td>94.0</td>\n",
       "      <td>2018.0</td>\n",
       "      <td>2030.0</td>\n",
       "      <td>30/06/2017</td>\n",
       "      <td>Gaia Gaja tells me 2014 was one of the best vi...</td>\n",
       "      <td>1099605</td>\n",
       "    </tr>\n",
       "    <tr>\n",
       "      <th>115</th>\n",
       "      <td>540</td>\n",
       "      <td>10/05/2021</td>\n",
       "      <td>546</td>\n",
       "      <td>3</td>\n",
       "      <td>544</td>\n",
       "      <td>-4</td>\n",
       "      <td>2</td>\n",
       "      <td>18/09/2020</td>\n",
       "      <td>Tua Rita, Giusto di Notri, Toscana</td>\n",
       "      <td>Tuscany</td>\n",
       "      <td>2013</td>\n",
       "      <td>14/05/2021</td>\n",
       "      <td>11058072013</td>\n",
       "      <td>1105807</td>\n",
       "      <td>2013</td>\n",
       "      <td>Toscana</td>\n",
       "      <td>Red</td>\n",
       "      <td>Early</td>\n",
       "      <td>Table</td>\n",
       "      <td>Proprietary Blend</td>\n",
       "      <td>Monica Larner</td>\n",
       "      <td>98.0</td>\n",
       "      <td>2017.0</td>\n",
       "      <td>2030.0</td>\n",
       "      <td>31/01/2017</td>\n",
       "      <td>The 2013 Giusto di Notri is a proud, proud, pr...</td>\n",
       "      <td>1105807</td>\n",
       "    </tr>\n",
       "    <tr>\n",
       "      <th>116</th>\n",
       "      <td>5600</td>\n",
       "      <td>10/05/2021</td>\n",
       "      <td>5853</td>\n",
       "      <td>1</td>\n",
       "      <td>4400</td>\n",
       "      <td>1200</td>\n",
       "      <td>1453</td>\n",
       "      <td>06/11/2017</td>\n",
       "      <td>Domaine Leflaive, Chevalier-Montrachet Grand Cru</td>\n",
       "      <td>Burgundy</td>\n",
       "      <td>2013</td>\n",
       "      <td>14/05/2021</td>\n",
       "      <td>10734012013</td>\n",
       "      <td>1073401</td>\n",
       "      <td>2013</td>\n",
       "      <td>Cote de Beaune</td>\n",
       "      <td>White</td>\n",
       "      <td>Early</td>\n",
       "      <td>Table</td>\n",
       "      <td>Chardonnay</td>\n",
       "      <td>Neal Martin</td>\n",
       "      <td>95.0</td>\n",
       "      <td>2018.0</td>\n",
       "      <td>2035.0</td>\n",
       "      <td>30/11/2016</td>\n",
       "      <td>Tasted blind at the annual �Burgfest� tasting ...</td>\n",
       "      <td>1073401</td>\n",
       "    </tr>\n",
       "    <tr>\n",
       "      <th>117</th>\n",
       "      <td>3300</td>\n",
       "      <td>10/08/2021</td>\n",
       "      <td>3480</td>\n",
       "      <td>10</td>\n",
       "      <td>3155</td>\n",
       "      <td>145</td>\n",
       "      <td>325</td>\n",
       "      <td>08/07/2021</td>\n",
       "      <td>Chateau Angelus Premier Grand Cru Classe B, Sa...</td>\n",
       "      <td>Bordeaux</td>\n",
       "      <td>2003</td>\n",
       "      <td>11/08/2021</td>\n",
       "      <td>10060452003</td>\n",
       "      <td>1006045</td>\n",
       "      <td>2003</td>\n",
       "      <td>Saint-�milion</td>\n",
       "      <td>Red</td>\n",
       "      <td>Mature</td>\n",
       "      <td>Table</td>\n",
       "      <td>Proprietary Blend</td>\n",
       "      <td>Robert M. Parker, Jr.</td>\n",
       "      <td>98.0</td>\n",
       "      <td>2015.0</td>\n",
       "      <td>2025.0</td>\n",
       "      <td>27/08/2015</td>\n",
       "      <td>I had this wine from my cellar, as well as at ...</td>\n",
       "      <td>1006045</td>\n",
       "    </tr>\n",
       "    <tr>\n",
       "      <th>118</th>\n",
       "      <td>408</td>\n",
       "      <td>13/05/2021</td>\n",
       "      <td>414</td>\n",
       "      <td>20</td>\n",
       "      <td>357</td>\n",
       "      <td>51</td>\n",
       "      <td>57</td>\n",
       "      <td>06/05/2021</td>\n",
       "      <td>Chateau Batailley 5eme Cru Classe, Pauillac</td>\n",
       "      <td>Bordeaux</td>\n",
       "      <td>2018</td>\n",
       "      <td>14/05/2021</td>\n",
       "      <td>10063222018</td>\n",
       "      <td>1006322</td>\n",
       "      <td>2018</td>\n",
       "      <td>Pauillac</td>\n",
       "      <td>Red</td>\n",
       "      <td>NaN</td>\n",
       "      <td>Table</td>\n",
       "      <td>Proprietary Blend</td>\n",
       "      <td>Lisa Perrotti-Brown</td>\n",
       "      <td>93.0</td>\n",
       "      <td>NaN</td>\n",
       "      <td>NaN</td>\n",
       "      <td>23/04/2019</td>\n",
       "      <td>The 2018 Batailley is deep garnet-purple in co...</td>\n",
       "      <td>1006322</td>\n",
       "    </tr>\n",
       "    <tr>\n",
       "      <th>119</th>\n",
       "      <td>2820</td>\n",
       "      <td>10/08/2021</td>\n",
       "      <td>2963</td>\n",
       "      <td>9</td>\n",
       "      <td>2378</td>\n",
       "      <td>442</td>\n",
       "      <td>585</td>\n",
       "      <td>14/07/2021</td>\n",
       "      <td>Chateau Angelus Premier Grand Cru Classe B, Sa...</td>\n",
       "      <td>Bordeaux</td>\n",
       "      <td>2004</td>\n",
       "      <td>11/08/2021</td>\n",
       "      <td>10060452004</td>\n",
       "      <td>1006045</td>\n",
       "      <td>2004</td>\n",
       "      <td>Saint-�milion</td>\n",
       "      <td>Red</td>\n",
       "      <td>Late</td>\n",
       "      <td>Table</td>\n",
       "      <td>Proprietary Blend</td>\n",
       "      <td>Robert M. Parker, Jr.</td>\n",
       "      <td>95.0</td>\n",
       "      <td>2009.0</td>\n",
       "      <td>2022.0</td>\n",
       "      <td>28/06/2007</td>\n",
       "      <td>This 7,500-case blend of 62% Merlot and 38% Ca...</td>\n",
       "      <td>1006045</td>\n",
       "    </tr>\n",
       "    <tr>\n",
       "      <th>120</th>\n",
       "      <td>468</td>\n",
       "      <td>19/05/2021</td>\n",
       "      <td>582</td>\n",
       "      <td>2</td>\n",
       "      <td>465</td>\n",
       "      <td>3</td>\n",
       "      <td>117</td>\n",
       "      <td>04/05/2020</td>\n",
       "      <td>Chateau Batailley 5eme Cru Classe, Pauillac</td>\n",
       "      <td>Bordeaux</td>\n",
       "      <td>2001</td>\n",
       "      <td>20/05/2021</td>\n",
       "      <td>10063222001</td>\n",
       "      <td>1006322</td>\n",
       "      <td>2001</td>\n",
       "      <td>Pauillac</td>\n",
       "      <td>Red</td>\n",
       "      <td>Old</td>\n",
       "      <td>Table</td>\n",
       "      <td>Proprietary Blend</td>\n",
       "      <td>Robert M. Parker, Jr.</td>\n",
       "      <td>87.0</td>\n",
       "      <td>2007.0</td>\n",
       "      <td>2014.0</td>\n",
       "      <td>29/06/2004</td>\n",
       "      <td>Typically stern, masculine, firm, and almost c...</td>\n",
       "      <td>1006322</td>\n",
       "    </tr>\n",
       "    <tr>\n",
       "      <th>121</th>\n",
       "      <td>600</td>\n",
       "      <td>18/06/2021</td>\n",
       "      <td>600</td>\n",
       "      <td>14</td>\n",
       "      <td>408</td>\n",
       "      <td>192</td>\n",
       "      <td>192</td>\n",
       "      <td>09/04/2019</td>\n",
       "      <td>Tua Rita, Giusto di Notri, Toscana</td>\n",
       "      <td>Tuscany</td>\n",
       "      <td>2012</td>\n",
       "      <td>19/06/2021</td>\n",
       "      <td>11058072012</td>\n",
       "      <td>1105807</td>\n",
       "      <td>2012</td>\n",
       "      <td>Toscana</td>\n",
       "      <td>Red</td>\n",
       "      <td>Mature</td>\n",
       "      <td>Table</td>\n",
       "      <td>Proprietary Blend</td>\n",
       "      <td>Monica Larner</td>\n",
       "      <td>93.0</td>\n",
       "      <td>2015.0</td>\n",
       "      <td>2025.0</td>\n",
       "      <td>29/09/2015</td>\n",
       "      <td>The 2012 Giusto di Notri is an IGT Toscana ble...</td>\n",
       "      <td>1105807</td>\n",
       "    </tr>\n",
       "    <tr>\n",
       "      <th>122</th>\n",
       "      <td>8400</td>\n",
       "      <td>02/08/2021</td>\n",
       "      <td>8400</td>\n",
       "      <td>1</td>\n",
       "      <td>5700</td>\n",
       "      <td>2700</td>\n",
       "      <td>2700</td>\n",
       "      <td>10/09/2020</td>\n",
       "      <td>Domaine Leflaive, Chevalier-Montrachet Grand Cru</td>\n",
       "      <td>Burgundy</td>\n",
       "      <td>2007</td>\n",
       "      <td>03/08/2021</td>\n",
       "      <td>10734012007</td>\n",
       "      <td>1073401</td>\n",
       "      <td>2007</td>\n",
       "      <td>Cote de Beaune</td>\n",
       "      <td>White</td>\n",
       "      <td>Early</td>\n",
       "      <td>Table</td>\n",
       "      <td>Chardonnay</td>\n",
       "      <td>William Kelley</td>\n",
       "      <td>96.0</td>\n",
       "      <td>2020.0</td>\n",
       "      <td>2037.0</td>\n",
       "      <td>31/07/2019</td>\n",
       "      <td>The 2007 Chevalier-Montrachet Grand Cru opens ...</td>\n",
       "      <td>1073401</td>\n",
       "    </tr>\n",
       "    <tr>\n",
       "      <th>123</th>\n",
       "      <td>9000</td>\n",
       "      <td>02/08/2021</td>\n",
       "      <td>8799</td>\n",
       "      <td>1</td>\n",
       "      <td>5400</td>\n",
       "      <td>3600</td>\n",
       "      <td>3399</td>\n",
       "      <td>13/08/2020</td>\n",
       "      <td>Domaine Leflaive, Chevalier-Montrachet Grand Cru</td>\n",
       "      <td>Burgundy</td>\n",
       "      <td>2008</td>\n",
       "      <td>03/08/2021</td>\n",
       "      <td>10734012008</td>\n",
       "      <td>1073401</td>\n",
       "      <td>2008</td>\n",
       "      <td>Cote de Beaune</td>\n",
       "      <td>White</td>\n",
       "      <td>Mature</td>\n",
       "      <td>Table</td>\n",
       "      <td>Chardonnay</td>\n",
       "      <td>William Kelley</td>\n",
       "      <td>94.0</td>\n",
       "      <td>2018.0</td>\n",
       "      <td>2025.0</td>\n",
       "      <td>30/04/2021</td>\n",
       "      <td>This magnum of the 2008 Chevalier-Montrachet G...</td>\n",
       "      <td>1073401</td>\n",
       "    </tr>\n",
       "    <tr>\n",
       "      <th>124</th>\n",
       "      <td>4425</td>\n",
       "      <td>09/08/2021</td>\n",
       "      <td>4894</td>\n",
       "      <td>45</td>\n",
       "      <td>4550</td>\n",
       "      <td>-125</td>\n",
       "      <td>344</td>\n",
       "      <td>15/07/2021</td>\n",
       "      <td>Chateau Angelus Premier Grand Cru Classe B, Sa...</td>\n",
       "      <td>Bordeaux</td>\n",
       "      <td>2005</td>\n",
       "      <td>10/08/2021</td>\n",
       "      <td>10060452005</td>\n",
       "      <td>1006045</td>\n",
       "      <td>2005</td>\n",
       "      <td>Saint-�milion</td>\n",
       "      <td>Red</td>\n",
       "      <td>Early</td>\n",
       "      <td>Table</td>\n",
       "      <td>Proprietary Blend</td>\n",
       "      <td>Robert M. Parker, Jr.</td>\n",
       "      <td>100.0</td>\n",
       "      <td>2015.0</td>\n",
       "      <td>2050.0</td>\n",
       "      <td>27/08/2015</td>\n",
       "      <td>Truly great stuff, this wine performed at a th...</td>\n",
       "      <td>1006045</td>\n",
       "    </tr>\n",
       "    <tr>\n",
       "      <th>125</th>\n",
       "      <td>2900</td>\n",
       "      <td>10/08/2021</td>\n",
       "      <td>3066</td>\n",
       "      <td>13</td>\n",
       "      <td>2650</td>\n",
       "      <td>250</td>\n",
       "      <td>416</td>\n",
       "      <td>28/05/2021</td>\n",
       "      <td>Chateau Angelus Premier Grand Cru Classe B, Sa...</td>\n",
       "      <td>Bordeaux</td>\n",
       "      <td>2006</td>\n",
       "      <td>11/08/2021</td>\n",
       "      <td>10060452006</td>\n",
       "      <td>1006045</td>\n",
       "      <td>2006</td>\n",
       "      <td>Saint-�milion</td>\n",
       "      <td>Red</td>\n",
       "      <td>Early</td>\n",
       "      <td>Table</td>\n",
       "      <td>Proprietary Blend</td>\n",
       "      <td>Neal Martin</td>\n",
       "      <td>94.0</td>\n",
       "      <td>2018.0</td>\n",
       "      <td>2032.0</td>\n",
       "      <td>29/05/2016</td>\n",
       "      <td>Tasted at Bordeaux Index's annual 10-Year On t...</td>\n",
       "      <td>1006045</td>\n",
       "    </tr>\n",
       "    <tr>\n",
       "      <th>126</th>\n",
       "      <td>2690</td>\n",
       "      <td>10/08/2021</td>\n",
       "      <td>2830</td>\n",
       "      <td>5</td>\n",
       "      <td>2500</td>\n",
       "      <td>190</td>\n",
       "      <td>330</td>\n",
       "      <td>12/04/2021</td>\n",
       "      <td>Chateau Angelus Premier Grand Cru Classe B, Sa...</td>\n",
       "      <td>Bordeaux</td>\n",
       "      <td>2007</td>\n",
       "      <td>11/08/2021</td>\n",
       "      <td>10060452007</td>\n",
       "      <td>1006045</td>\n",
       "      <td>2007</td>\n",
       "      <td>Saint-�milion</td>\n",
       "      <td>Red</td>\n",
       "      <td>Early</td>\n",
       "      <td>Table</td>\n",
       "      <td>Proprietary Blend</td>\n",
       "      <td>Neal Martin</td>\n",
       "      <td>92.0</td>\n",
       "      <td>2017.0</td>\n",
       "      <td>2030.0</td>\n",
       "      <td>30/06/2017</td>\n",
       "      <td>Tasted at BI Wine &amp; Spirits' 10-Years-On tasti...</td>\n",
       "      <td>1006045</td>\n",
       "    </tr>\n",
       "    <tr>\n",
       "      <th>127</th>\n",
       "      <td>2750</td>\n",
       "      <td>10/08/2021</td>\n",
       "      <td>3055</td>\n",
       "      <td>14</td>\n",
       "      <td>2505</td>\n",
       "      <td>245</td>\n",
       "      <td>550</td>\n",
       "      <td>28/07/2021</td>\n",
       "      <td>Chateau Angelus Premier Grand Cru Classe B, Sa...</td>\n",
       "      <td>Bordeaux</td>\n",
       "      <td>2008</td>\n",
       "      <td>11/08/2021</td>\n",
       "      <td>10060452008</td>\n",
       "      <td>1006045</td>\n",
       "      <td>2008</td>\n",
       "      <td>Saint-�milion</td>\n",
       "      <td>Red</td>\n",
       "      <td>Mature</td>\n",
       "      <td>Table</td>\n",
       "      <td>Proprietary Blend</td>\n",
       "      <td>Robert M. Parker, Jr.</td>\n",
       "      <td>93.0</td>\n",
       "      <td>2015.0</td>\n",
       "      <td>2030.0</td>\n",
       "      <td>27/08/2015</td>\n",
       "      <td>A strong effort in this under-appreciated vint...</td>\n",
       "      <td>1006045</td>\n",
       "    </tr>\n",
       "    <tr>\n",
       "      <th>128</th>\n",
       "      <td>6000</td>\n",
       "      <td>23/07/2021</td>\n",
       "      <td>6106</td>\n",
       "      <td>1</td>\n",
       "      <td>6500</td>\n",
       "      <td>-500</td>\n",
       "      <td>-394</td>\n",
       "      <td>26/05/2021</td>\n",
       "      <td>Domaine Leflaive, Chevalier-Montrachet Grand Cru</td>\n",
       "      <td>Burgundy</td>\n",
       "      <td>2011</td>\n",
       "      <td>03/08/2021</td>\n",
       "      <td>10734012011</td>\n",
       "      <td>1073401</td>\n",
       "      <td>2011</td>\n",
       "      <td>Cote de Beaune</td>\n",
       "      <td>White</td>\n",
       "      <td>Early</td>\n",
       "      <td>Table</td>\n",
       "      <td>Chardonnay</td>\n",
       "      <td>William Kelley</td>\n",
       "      <td>95.0</td>\n",
       "      <td>2018.0</td>\n",
       "      <td>2033.0</td>\n",
       "      <td>31/07/2019</td>\n",
       "      <td>The 2011 Chevalier-Montrachet Grand Cru was pi...</td>\n",
       "      <td>1073401</td>\n",
       "    </tr>\n",
       "    <tr>\n",
       "      <th>129</th>\n",
       "      <td>7812</td>\n",
       "      <td>02/07/2021</td>\n",
       "      <td>7812</td>\n",
       "      <td>0</td>\n",
       "      <td>8540</td>\n",
       "      <td>-728</td>\n",
       "      <td>-728</td>\n",
       "      <td>02/12/2019</td>\n",
       "      <td>Domaine Leflaive, Chevalier-Montrachet Grand Cru</td>\n",
       "      <td>Burgundy</td>\n",
       "      <td>2001</td>\n",
       "      <td>03/07/2021</td>\n",
       "      <td>10734012001</td>\n",
       "      <td>1073401</td>\n",
       "      <td>2001</td>\n",
       "      <td>Cote de Beaune</td>\n",
       "      <td>White</td>\n",
       "      <td>Mature</td>\n",
       "      <td>Table</td>\n",
       "      <td>Chardonnay</td>\n",
       "      <td>William Kelley</td>\n",
       "      <td>94.0</td>\n",
       "      <td>2011.0</td>\n",
       "      <td>2030.0</td>\n",
       "      <td>31/07/2019</td>\n",
       "      <td>Leflaive's 2001 Chevalier-Montrachet Grand Cru...</td>\n",
       "      <td>1073401</td>\n",
       "    </tr>\n",
       "    <tr>\n",
       "      <th>130</th>\n",
       "      <td>3295</td>\n",
       "      <td>10/08/2021</td>\n",
       "      <td>3710</td>\n",
       "      <td>32</td>\n",
       "      <td>3000</td>\n",
       "      <td>295</td>\n",
       "      <td>710</td>\n",
       "      <td>04/08/2021</td>\n",
       "      <td>Chateau Angelus Premier Grand Cru Classe B, Sa...</td>\n",
       "      <td>Bordeaux</td>\n",
       "      <td>2009</td>\n",
       "      <td>11/08/2021</td>\n",
       "      <td>10060452009</td>\n",
       "      <td>1006045</td>\n",
       "      <td>2009</td>\n",
       "      <td>Saint-�milion</td>\n",
       "      <td>Red</td>\n",
       "      <td>Early</td>\n",
       "      <td>Table</td>\n",
       "      <td>Proprietary Blend</td>\n",
       "      <td>Lisa Perrotti-Brown</td>\n",
       "      <td>99.0</td>\n",
       "      <td>2019.0</td>\n",
       "      <td>2055.0</td>\n",
       "      <td>14/03/2019</td>\n",
       "      <td>Blended of 60% Merlot and 40% Cabernet Franc, ...</td>\n",
       "      <td>1006045</td>\n",
       "    </tr>\n",
       "    <tr>\n",
       "      <th>131</th>\n",
       "      <td>3400</td>\n",
       "      <td>06/08/2021</td>\n",
       "      <td>3965</td>\n",
       "      <td>28</td>\n",
       "      <td>3350</td>\n",
       "      <td>50</td>\n",
       "      <td>615</td>\n",
       "      <td>20/07/2021</td>\n",
       "      <td>Chateau Angelus Premier Grand Cru Classe B, Sa...</td>\n",
       "      <td>Bordeaux</td>\n",
       "      <td>2010</td>\n",
       "      <td>07/08/2021</td>\n",
       "      <td>10060452010</td>\n",
       "      <td>1006045</td>\n",
       "      <td>2010</td>\n",
       "      <td>Saint-�milion</td>\n",
       "      <td>Red</td>\n",
       "      <td>Young</td>\n",
       "      <td>Table</td>\n",
       "      <td>Proprietary Blend</td>\n",
       "      <td>Lisa Perrotti-Brown</td>\n",
       "      <td>99.0</td>\n",
       "      <td>2023.0</td>\n",
       "      <td>2063.0</td>\n",
       "      <td>22/10/2020</td>\n",
       "      <td>The deep garnet colored 2010 Ang�lus is an ato...</td>\n",
       "      <td>1006045</td>\n",
       "    </tr>\n",
       "    <tr>\n",
       "      <th>132</th>\n",
       "      <td>2590</td>\n",
       "      <td>09/08/2021</td>\n",
       "      <td>2924</td>\n",
       "      <td>151</td>\n",
       "      <td>2000</td>\n",
       "      <td>590</td>\n",
       "      <td>924</td>\n",
       "      <td>03/02/2020</td>\n",
       "      <td>Chateau Angelus Premier Grand Cru Classe B, Sa...</td>\n",
       "      <td>Bordeaux</td>\n",
       "      <td>2011</td>\n",
       "      <td>10/08/2021</td>\n",
       "      <td>10060452011</td>\n",
       "      <td>1006045</td>\n",
       "      <td>2011</td>\n",
       "      <td>Saint-�milion</td>\n",
       "      <td>Red</td>\n",
       "      <td>Mature</td>\n",
       "      <td>Table</td>\n",
       "      <td>Proprietary Blend</td>\n",
       "      <td>Robert M. Parker, Jr.</td>\n",
       "      <td>94.0</td>\n",
       "      <td>2014.0</td>\n",
       "      <td>2029.0</td>\n",
       "      <td>29/04/2014</td>\n",
       "      <td>The 2011 Angelus is another winner from Hubert...</td>\n",
       "      <td>1006045</td>\n",
       "    </tr>\n",
       "    <tr>\n",
       "      <th>133</th>\n",
       "      <td>3800</td>\n",
       "      <td>10/08/2021</td>\n",
       "      <td>4359</td>\n",
       "      <td>42</td>\n",
       "      <td>3605</td>\n",
       "      <td>195</td>\n",
       "      <td>754</td>\n",
       "      <td>26/07/2021</td>\n",
       "      <td>Chateau Angelus Premier Grand Cru Classe A, Sa...</td>\n",
       "      <td>Bordeaux</td>\n",
       "      <td>2012</td>\n",
       "      <td>11/08/2021</td>\n",
       "      <td>10060452012</td>\n",
       "      <td>1006045</td>\n",
       "      <td>2012</td>\n",
       "      <td>Saint-�milion</td>\n",
       "      <td>Red</td>\n",
       "      <td>Young</td>\n",
       "      <td>Table</td>\n",
       "      <td>Proprietary Blend</td>\n",
       "      <td>Neal Martin</td>\n",
       "      <td>94.0</td>\n",
       "      <td>2022.0</td>\n",
       "      <td>2050.0</td>\n",
       "      <td>28/02/2017</td>\n",
       "      <td>Tasted blind as a vintage comparison at the Va...</td>\n",
       "      <td>1006045</td>\n",
       "    </tr>\n",
       "    <tr>\n",
       "      <th>134</th>\n",
       "      <td>2300</td>\n",
       "      <td>10/08/2021</td>\n",
       "      <td>2650</td>\n",
       "      <td>34</td>\n",
       "      <td>2000</td>\n",
       "      <td>300</td>\n",
       "      <td>650</td>\n",
       "      <td>17/02/2021</td>\n",
       "      <td>Chateau Angelus Premier Grand Cru Classe A, Sa...</td>\n",
       "      <td>Bordeaux</td>\n",
       "      <td>2013</td>\n",
       "      <td>11/08/2021</td>\n",
       "      <td>10060452013</td>\n",
       "      <td>1006045</td>\n",
       "      <td>2013</td>\n",
       "      <td>Saint-�milion</td>\n",
       "      <td>Red</td>\n",
       "      <td>Mature</td>\n",
       "      <td>Table</td>\n",
       "      <td>Proprietary Blend</td>\n",
       "      <td>Robert M. Parker, Jr.</td>\n",
       "      <td>91.5</td>\n",
       "      <td>2014.0</td>\n",
       "      <td>2024.0</td>\n",
       "      <td>27/08/2014</td>\n",
       "      <td>On the other hand, the opaque purple-colored 2...</td>\n",
       "      <td>1006045</td>\n",
       "    </tr>\n",
       "    <tr>\n",
       "      <th>135</th>\n",
       "      <td>2360</td>\n",
       "      <td>09/08/2021</td>\n",
       "      <td>2634</td>\n",
       "      <td>193</td>\n",
       "      <td>2260</td>\n",
       "      <td>100</td>\n",
       "      <td>374</td>\n",
       "      <td>05/08/2021</td>\n",
       "      <td>Chateau Angelus Premier Grand Cru Classe A, Sa...</td>\n",
       "      <td>Bordeaux</td>\n",
       "      <td>2014</td>\n",
       "      <td>10/08/2021</td>\n",
       "      <td>10060452014</td>\n",
       "      <td>1006045</td>\n",
       "      <td>2014</td>\n",
       "      <td>Saint-�milion</td>\n",
       "      <td>Red</td>\n",
       "      <td>Early</td>\n",
       "      <td>Table</td>\n",
       "      <td>Proprietary Blend</td>\n",
       "      <td>Lisa Perrotti-Brown</td>\n",
       "      <td>94.0</td>\n",
       "      <td>2020.0</td>\n",
       "      <td>2045.0</td>\n",
       "      <td>22/10/2020</td>\n",
       "      <td>Medium to deep garnet in color, the 2014 Ang�l...</td>\n",
       "      <td>1006045</td>\n",
       "    </tr>\n",
       "    <tr>\n",
       "      <th>136</th>\n",
       "      <td>2580</td>\n",
       "      <td>05/08/2021</td>\n",
       "      <td>3316</td>\n",
       "      <td>56</td>\n",
       "      <td>2500</td>\n",
       "      <td>80</td>\n",
       "      <td>816</td>\n",
       "      <td>26/07/2021</td>\n",
       "      <td>Chateau Angelus Premier Grand Cru Classe A, Sa...</td>\n",
       "      <td>Bordeaux</td>\n",
       "      <td>2015</td>\n",
       "      <td>06/08/2021</td>\n",
       "      <td>10060452015</td>\n",
       "      <td>1006045</td>\n",
       "      <td>2015</td>\n",
       "      <td>Saint-�milion</td>\n",
       "      <td>Red</td>\n",
       "      <td>Young</td>\n",
       "      <td>Table</td>\n",
       "      <td>Proprietary Blend</td>\n",
       "      <td>Lisa Perrotti-Brown</td>\n",
       "      <td>97.0</td>\n",
       "      <td>2023.0</td>\n",
       "      <td>2050.0</td>\n",
       "      <td>22/10/2020</td>\n",
       "      <td>Deep garnet-purple in color, the 2015 Ang�lus ...</td>\n",
       "      <td>1006045</td>\n",
       "    </tr>\n",
       "    <tr>\n",
       "      <th>137</th>\n",
       "      <td>2960</td>\n",
       "      <td>05/08/2021</td>\n",
       "      <td>3463</td>\n",
       "      <td>143</td>\n",
       "      <td>2844</td>\n",
       "      <td>116</td>\n",
       "      <td>619</td>\n",
       "      <td>29/07/2021</td>\n",
       "      <td>Chateau Angelus Premier Grand Cru Classe A, Sa...</td>\n",
       "      <td>Bordeaux</td>\n",
       "      <td>2016</td>\n",
       "      <td>06/08/2021</td>\n",
       "      <td>10060452016</td>\n",
       "      <td>1006045</td>\n",
       "      <td>2016</td>\n",
       "      <td>Saint-�milion</td>\n",
       "      <td>Red</td>\n",
       "      <td>Young</td>\n",
       "      <td>Table</td>\n",
       "      <td>Proprietary Blend</td>\n",
       "      <td>Lisa Perrotti-Brown</td>\n",
       "      <td>98.0</td>\n",
       "      <td>2024.0</td>\n",
       "      <td>2065.0</td>\n",
       "      <td>22/10/2020</td>\n",
       "      <td>Sporting a deep garnet-purple color, the 2016 ...</td>\n",
       "      <td>1006045</td>\n",
       "    </tr>\n",
       "    <tr>\n",
       "      <th>138</th>\n",
       "      <td>2730</td>\n",
       "      <td>09/08/2021</td>\n",
       "      <td>2956</td>\n",
       "      <td>95</td>\n",
       "      <td>2458</td>\n",
       "      <td>272</td>\n",
       "      <td>498</td>\n",
       "      <td>02/08/2021</td>\n",
       "      <td>Chateau Angelus Premier Grand Cru Classe A, Sa...</td>\n",
       "      <td>Bordeaux</td>\n",
       "      <td>2017</td>\n",
       "      <td>11/08/2021</td>\n",
       "      <td>10060452017</td>\n",
       "      <td>1006045</td>\n",
       "      <td>2017</td>\n",
       "      <td>Saint-�milion</td>\n",
       "      <td>Red</td>\n",
       "      <td>Early</td>\n",
       "      <td>Table</td>\n",
       "      <td>Proprietary Blend</td>\n",
       "      <td>Lisa Perrotti-Brown</td>\n",
       "      <td>95.0</td>\n",
       "      <td>2021.0</td>\n",
       "      <td>2045.0</td>\n",
       "      <td>15/10/2020</td>\n",
       "      <td>Composed of 70% Merlot and 30% Cabernet Franc,...</td>\n",
       "      <td>1006045</td>\n",
       "    </tr>\n",
       "    <tr>\n",
       "      <th>139</th>\n",
       "      <td>1755</td>\n",
       "      <td>31/05/2021</td>\n",
       "      <td>2916</td>\n",
       "      <td>0</td>\n",
       "      <td>1330</td>\n",
       "      <td>425</td>\n",
       "      <td>1586</td>\n",
       "      <td>25/10/2019</td>\n",
       "      <td>Gaja, Barbaresco</td>\n",
       "      <td>Piedmont</td>\n",
       "      <td>2008</td>\n",
       "      <td>22/07/2021</td>\n",
       "      <td>10996052008</td>\n",
       "      <td>1099605</td>\n",
       "      <td>2008</td>\n",
       "      <td>Barbaresco</td>\n",
       "      <td>Red</td>\n",
       "      <td>Mature</td>\n",
       "      <td>Table</td>\n",
       "      <td>Nebbiolo</td>\n",
       "      <td>Antonio Galloni</td>\n",
       "      <td>93.0</td>\n",
       "      <td>2014.0</td>\n",
       "      <td>2028.0</td>\n",
       "      <td>30/10/2011</td>\n",
       "      <td>The 2008 Barbaresco emerges from the glass wit...</td>\n",
       "      <td>1099605</td>\n",
       "    </tr>\n",
       "    <tr>\n",
       "      <th>140</th>\n",
       "      <td>3144</td>\n",
       "      <td>10/08/2021</td>\n",
       "      <td>3445</td>\n",
       "      <td>71</td>\n",
       "      <td>3120</td>\n",
       "      <td>24</td>\n",
       "      <td>325</td>\n",
       "      <td>28/07/2021</td>\n",
       "      <td>Chateau Angelus Premier Grand Cru Classe A, Sa...</td>\n",
       "      <td>Bordeaux</td>\n",
       "      <td>2018</td>\n",
       "      <td>11/08/2021</td>\n",
       "      <td>10060452018</td>\n",
       "      <td>1006045</td>\n",
       "      <td>2018</td>\n",
       "      <td>Saint-�milion</td>\n",
       "      <td>Red</td>\n",
       "      <td>Young</td>\n",
       "      <td>Table</td>\n",
       "      <td>Proprietary Blend</td>\n",
       "      <td>Lisa Perrotti-Brown</td>\n",
       "      <td>97.0</td>\n",
       "      <td>2026.0</td>\n",
       "      <td>2046.0</td>\n",
       "      <td>31/03/2021</td>\n",
       "      <td>The 2018 Ang�lus is blended of 65% Merlot and ...</td>\n",
       "      <td>1006045</td>\n",
       "    </tr>\n",
       "    <tr>\n",
       "      <th>141</th>\n",
       "      <td>2761</td>\n",
       "      <td>28/07/2021</td>\n",
       "      <td>2824</td>\n",
       "      <td>38</td>\n",
       "      <td>2402</td>\n",
       "      <td>359</td>\n",
       "      <td>422</td>\n",
       "      <td>27/11/2020</td>\n",
       "      <td>Chateau Angelus Premier Grand Cru Classe A, Sa...</td>\n",
       "      <td>Bordeaux</td>\n",
       "      <td>2019</td>\n",
       "      <td>29/07/2021</td>\n",
       "      <td>10060452019</td>\n",
       "      <td>1006045</td>\n",
       "      <td>2019</td>\n",
       "      <td>Saint-�milion</td>\n",
       "      <td>Red</td>\n",
       "      <td>NaN</td>\n",
       "      <td>Table</td>\n",
       "      <td>Proprietary Blend</td>\n",
       "      <td>Lisa Perrotti-Brown</td>\n",
       "      <td>98.0</td>\n",
       "      <td>NaN</td>\n",
       "      <td>NaN</td>\n",
       "      <td>10/06/2020</td>\n",
       "      <td>Composed of 60% Merlot and 40% Cabernet Franc,...</td>\n",
       "      <td>1006045</td>\n",
       "    </tr>\n",
       "  </tbody>\n",
       "</table>\n",
       "</div>"
      ],
      "text/plain": [
       "     marketPrice marketPriceDate  averageListPrice  averageListQty  \\\n",
       "0           1480      03/05/2021              1618              73   \n",
       "1           1110      04/05/2021              1181              12   \n",
       "2           3910      07/05/2021              4793              77   \n",
       "3           3700      07/05/2021              4213             150   \n",
       "4           8000      07/05/2021              8606               8   \n",
       "5           6250      07/05/2021              7028              45   \n",
       "6           4400      07/05/2021              4882              23   \n",
       "7           3720      07/05/2021              4079              50   \n",
       "8           3920      07/05/2021              4494              74   \n",
       "9            460      07/05/2021               487             154   \n",
       "10          3700      07/05/2021              4001              24   \n",
       "11           780      07/05/2021               836               6   \n",
       "12          1040      04/05/2021              1198              49   \n",
       "13           738      03/05/2021               887             104   \n",
       "14         10500      07/05/2021             12366              62   \n",
       "15          3900      07/05/2021              4500              27   \n",
       "16          6250      07/05/2021              7443              53   \n",
       "17          1082      04/05/2021              1203              64   \n",
       "18           870      05/07/2021               966               5   \n",
       "19           900      05/07/2021              1156              20   \n",
       "20          3826      05/07/2021              4507              54   \n",
       "21           800      05/07/2021               922              18   \n",
       "22          1850      02/07/2021              1831               1   \n",
       "23          1408      29/06/2021              1605               2   \n",
       "24           907      05/07/2021               924              18   \n",
       "25           450      03/05/2021               450               1   \n",
       "26           550      03/05/2021               532               3   \n",
       "27          1000      05/07/2021              1160              87   \n",
       "28           900      05/07/2021               927              41   \n",
       "29          1800      02/07/2021              1733               2   \n",
       "30          1596      02/07/2021              1596               1   \n",
       "31          2500      02/07/2021              2632               3   \n",
       "32           574      02/07/2021               574               1   \n",
       "33           520      02/07/2021               563               3   \n",
       "34           660      02/07/2021               727               5   \n",
       "35           540      02/07/2021               527               2   \n",
       "36          1700      02/07/2021              1847               4   \n",
       "37          1408      02/07/2021              1389               4   \n",
       "38           990      02/07/2021              1134              16   \n",
       "39           525      03/05/2021               496               2   \n",
       "40          3560      05/07/2021              4185              37   \n",
       "41           750      02/07/2021               988              36   \n",
       "42          6830      05/07/2021              7757              50   \n",
       "43          1024      02/07/2021              1255               4   \n",
       "44          1326      02/07/2021              1560               4   \n",
       "45           975      05/07/2021              1230              49   \n",
       "46          9950      07/05/2021              9718               3   \n",
       "47           530      03/05/2021               622              49   \n",
       "48           958      07/05/2021              1057               9   \n",
       "49           880      07/05/2021               958               9   \n",
       "50           850      07/05/2021              1101              94   \n",
       "51          4850      06/05/2021              5732              22   \n",
       "52          3758      02/07/2021              4298              75   \n",
       "53           840      03/05/2021               943              15   \n",
       "54           960      03/05/2021              1197              13   \n",
       "55          1100      03/05/2021              1433               9   \n",
       "56           420      03/05/2021               487               6   \n",
       "57           980      03/05/2021              1097              45   \n",
       "58          2260      03/05/2021              2311               4   \n",
       "59          3800      03/05/2021              4376              81   \n",
       "60           450      03/05/2021               450               1   \n",
       "61          1200      04/05/2021              1148             123   \n",
       "62           400      03/05/2021               487               5   \n",
       "63           490      03/05/2021               548              24   \n",
       "64          2199      02/07/2021              2225               2   \n",
       "65          1300      05/05/2021              1332               3   \n",
       "66           490      03/05/2021               593             406   \n",
       "67           820      02/07/2021               937               6   \n",
       "68          1800      02/07/2021              1691               2   \n",
       "69          1000      04/05/2021              1199              12   \n",
       "70           400      03/05/2021               468               6   \n",
       "71          1350      08/06/2021              1445               7   \n",
       "72          5415      03/06/2021              5683              96   \n",
       "73          1678      08/06/2021              1648               4   \n",
       "74           400      03/05/2021               467               9   \n",
       "75         14766      08/06/2021             16040               0   \n",
       "76           857      08/06/2021               937             165   \n",
       "77           300      03/05/2021               301             108   \n",
       "78          1550      08/06/2021              1557               1   \n",
       "79          7000      10/05/2021              6797               1   \n",
       "80           420      18/05/2021               462              10   \n",
       "81          7800      08/06/2021              8230               8   \n",
       "82           950      08/06/2021              1086              27   \n",
       "83         14520      08/06/2021             14270               1   \n",
       "84           350      03/05/2021               371              98   \n",
       "85          8400      08/06/2021              8933               1   \n",
       "86          1350      08/06/2021              1473              61   \n",
       "87         17180      18/05/2021             17180               0   \n",
       "88          1245      08/06/2021              1545               3   \n",
       "89          7906      08/06/2021              7792               2   \n",
       "90           477      03/05/2021               529              45   \n",
       "91           475      08/06/2021               547              22   \n",
       "92          2872      08/06/2021              2872               1   \n",
       "93          5415      10/05/2021              5657             140   \n",
       "94          4820      10/05/2021              4881               7   \n",
       "95          8400      11/05/2021              8400               0   \n",
       "96          1500      11/05/2021              1676              36   \n",
       "97          6800      11/05/2021              6800               1   \n",
       "98          1400      11/05/2021              1433              10   \n",
       "99           870      06/05/2021              1036              66   \n",
       "100        12402      11/05/2021             12557               2   \n",
       "101        17000      12/05/2021             15189               7   \n",
       "102        10650      18/05/2021             10047               1   \n",
       "103         8016      18/05/2021              9840               3   \n",
       "104          496      04/05/2021               527              35   \n",
       "105         6396      10/05/2021              6856               3   \n",
       "106         6900      17/05/2021              6900               0   \n",
       "107         6552      17/05/2021              6552               0   \n",
       "108         3600      27/07/2021              3766               2   \n",
       "109          790      13/05/2021               929              41   \n",
       "110         2973      10/08/2021              3137               9   \n",
       "111         6360      12/05/2021              6400               1   \n",
       "112          480      24/06/2021               467             101   \n",
       "113          487      21/06/2021               526              46   \n",
       "114         1299      11/06/2021              1523              12   \n",
       "115          540      10/05/2021               546               3   \n",
       "116         5600      10/05/2021              5853               1   \n",
       "117         3300      10/08/2021              3480              10   \n",
       "118          408      13/05/2021               414              20   \n",
       "119         2820      10/08/2021              2963               9   \n",
       "120          468      19/05/2021               582               2   \n",
       "121          600      18/06/2021               600              14   \n",
       "122         8400      02/08/2021              8400               1   \n",
       "123         9000      02/08/2021              8799               1   \n",
       "124         4425      09/08/2021              4894              45   \n",
       "125         2900      10/08/2021              3066              13   \n",
       "126         2690      10/08/2021              2830               5   \n",
       "127         2750      10/08/2021              3055              14   \n",
       "128         6000      23/07/2021              6106               1   \n",
       "129         7812      02/07/2021              7812               0   \n",
       "130         3295      10/08/2021              3710              32   \n",
       "131         3400      06/08/2021              3965              28   \n",
       "132         2590      09/08/2021              2924             151   \n",
       "133         3800      10/08/2021              4359              42   \n",
       "134         2300      10/08/2021              2650              34   \n",
       "135         2360      09/08/2021              2634             193   \n",
       "136         2580      05/08/2021              3316              56   \n",
       "137         2960      05/08/2021              3463             143   \n",
       "138         2730      09/08/2021              2956              95   \n",
       "139         1755      31/05/2021              2916               0   \n",
       "140         3144      10/08/2021              3445              71   \n",
       "141         2761      28/07/2021              2824              38   \n",
       "\n",
       "     benchmarkTradePrice  mk_price_minus_bmk_price  \\\n",
       "0                   1356                       124   \n",
       "1                   1204                       -94   \n",
       "2                   3800                       110   \n",
       "3                   3700                         0   \n",
       "4                   6974                      1026   \n",
       "5                   6116                       134   \n",
       "6                   4400                         0   \n",
       "7                   3480                       240   \n",
       "8                   3880                        40   \n",
       "9                    420                        40   \n",
       "10                  3520                       180   \n",
       "11                   682                        98   \n",
       "12                   950                        90   \n",
       "13                   760                       -22   \n",
       "14                  9844                       656   \n",
       "15                  3684                       216   \n",
       "16                  5922                       328   \n",
       "17                  1048                        34   \n",
       "18                   705                       165   \n",
       "19                   800                       100   \n",
       "20                  4116                      -290   \n",
       "21                   745                        55   \n",
       "22                  1180                       670   \n",
       "23                  1150                       258   \n",
       "24                   805                       102   \n",
       "25                   220                       230   \n",
       "26                   420                       130   \n",
       "27                   988                        12   \n",
       "28                   863                        37   \n",
       "29                  1300                       500   \n",
       "30                  1145                       451   \n",
       "31                  2220                       280   \n",
       "32                   351                       223   \n",
       "33                   460                        60   \n",
       "34                   390                       270   \n",
       "35                   300                       240   \n",
       "36                  1378                       322   \n",
       "37                  1238                       170   \n",
       "38                   990                         0   \n",
       "39                   300                       225   \n",
       "40                  3525                        35   \n",
       "41                   790                       -40   \n",
       "42                  7086                      -256   \n",
       "43                  1072                       -48   \n",
       "44                  1170                       156   \n",
       "45                  1026                       -51   \n",
       "46                  8000                      1950   \n",
       "47                   450                        80   \n",
       "48                   860                        98   \n",
       "49                   725                       155   \n",
       "50                   860                       -10   \n",
       "51                  4800                        50   \n",
       "52                  3690                        68   \n",
       "53                   781                        59   \n",
       "54                   850                       110   \n",
       "55                  1010                        90   \n",
       "56                   532                      -112   \n",
       "57                   830                       150   \n",
       "58                  2190                        70   \n",
       "59                  3560                       240   \n",
       "60                   340                       110   \n",
       "61                  1082                       118   \n",
       "62                   332                        68   \n",
       "63                   504                       -14   \n",
       "64                  1340                       859   \n",
       "65                  1200                       100   \n",
       "66                   494                        -4   \n",
       "67                   735                        85   \n",
       "68                  1440                       360   \n",
       "69                   860                       140   \n",
       "70                   300                       100   \n",
       "71                  1352                        -2   \n",
       "72                  5238                       177   \n",
       "73                  1180                       498   \n",
       "74                   355                        45   \n",
       "75                 18750                     -3984   \n",
       "76                   800                        57   \n",
       "77                   304                        -4   \n",
       "78                  1300                       250   \n",
       "79                  5360                      1640   \n",
       "80                   342                        78   \n",
       "81                  7330                       470   \n",
       "82                   842                       108   \n",
       "83                 12000                      2520   \n",
       "84                   324                        26   \n",
       "85                  5960                      2440   \n",
       "86                  1260                        90   \n",
       "87                  6538                     10642   \n",
       "88                   882                       363   \n",
       "89                  7124                       782   \n",
       "90                   360                       117   \n",
       "91                   388                        87   \n",
       "92                  2554                       318   \n",
       "93                  5150                       265   \n",
       "94                  4160                       660   \n",
       "95                  7200                      1200   \n",
       "96                  1408                        92   \n",
       "97                  1730                      5070   \n",
       "98                  1276                       124   \n",
       "99                   920                       -50   \n",
       "100                12850                      -448   \n",
       "101                13000                      4000   \n",
       "102                 4000                      6650   \n",
       "103                 7290                       726   \n",
       "104                  312                       184   \n",
       "105                 7900                     -1504   \n",
       "106                 6405                       495   \n",
       "107                 3920                      2632   \n",
       "108                 3101                       499   \n",
       "109                  794                        -4   \n",
       "110                 2610                       363   \n",
       "111                 4500                      1860   \n",
       "112                  380                       100   \n",
       "113                  320                       167   \n",
       "114                 1300                        -1   \n",
       "115                  544                        -4   \n",
       "116                 4400                      1200   \n",
       "117                 3155                       145   \n",
       "118                  357                        51   \n",
       "119                 2378                       442   \n",
       "120                  465                         3   \n",
       "121                  408                       192   \n",
       "122                 5700                      2700   \n",
       "123                 5400                      3600   \n",
       "124                 4550                      -125   \n",
       "125                 2650                       250   \n",
       "126                 2500                       190   \n",
       "127                 2505                       245   \n",
       "128                 6500                      -500   \n",
       "129                 8540                      -728   \n",
       "130                 3000                       295   \n",
       "131                 3350                        50   \n",
       "132                 2000                       590   \n",
       "133                 3605                       195   \n",
       "134                 2000                       300   \n",
       "135                 2260                       100   \n",
       "136                 2500                        80   \n",
       "137                 2844                       116   \n",
       "138                 2458                       272   \n",
       "139                 1330                       425   \n",
       "140                 3120                        24   \n",
       "141                 2402                       359   \n",
       "\n",
       "     list_price_minus_bmk_price benchmarkTradeDate  \\\n",
       "0                           262         20/04/2021   \n",
       "1                           -23         03/05/2021   \n",
       "2                           993         07/04/2021   \n",
       "3                           513         06/05/2021   \n",
       "4                          1632         14/03/2021   \n",
       "5                           912         07/05/2021   \n",
       "6                           482         29/09/2020   \n",
       "7                           599         10/04/2021   \n",
       "8                           614         22/03/2021   \n",
       "9                            67         23/03/2021   \n",
       "10                          481         07/04/2021   \n",
       "11                          154         15/09/2020   \n",
       "12                          248         03/05/2021   \n",
       "13                          127         29/04/2021   \n",
       "14                         2522         29/03/2021   \n",
       "15                          816         10/06/2020   \n",
       "16                         1521         13/04/2021   \n",
       "17                          155         27/04/2021   \n",
       "18                          261         01/02/2021   \n",
       "19                          356         21/11/2019   \n",
       "20                          391         25/02/2021   \n",
       "21                          177         16/11/2020   \n",
       "22                          651         10/03/2017   \n",
       "23                          455         21/04/2019   \n",
       "24                          119         20/11/2019   \n",
       "25                          230         17/06/2015   \n",
       "26                          112         09/07/2019   \n",
       "27                          172         28/05/2021   \n",
       "28                           64         10/05/2021   \n",
       "29                          433         30/05/2019   \n",
       "30                          451         22/10/2015   \n",
       "31                          412         14/06/2021   \n",
       "32                          223         25/07/2016   \n",
       "33                          103         05/05/2020   \n",
       "34                          337         18/08/2017   \n",
       "35                          227         03/11/2011   \n",
       "36                          469         29/07/2020   \n",
       "37                          151         02/11/2020   \n",
       "38                          144         16/06/2021   \n",
       "39                          196         15/12/2019   \n",
       "40                          660         18/06/2021   \n",
       "41                          198         01/06/2020   \n",
       "42                          671         11/06/2021   \n",
       "43                          183         20/01/2021   \n",
       "44                          390         24/06/2021   \n",
       "45                          204         24/06/2021   \n",
       "46                         1718         30/01/2020   \n",
       "47                          172         28/10/2020   \n",
       "48                          197         08/03/2021   \n",
       "49                          233         13/04/2021   \n",
       "50                          241         19/04/2021   \n",
       "51                          932         11/03/2021   \n",
       "52                          608         13/04/2021   \n",
       "53                          162         16/11/2020   \n",
       "54                          347         28/01/2021   \n",
       "55                          423         18/12/2020   \n",
       "56                          -45         11/02/2021   \n",
       "57                          267         18/04/2021   \n",
       "58                          121         01/05/2021   \n",
       "59                          816         20/11/2020   \n",
       "60                          110         31/08/2018   \n",
       "61                           66         27/04/2021   \n",
       "62                          155         06/10/2020   \n",
       "63                           44         06/04/2021   \n",
       "64                          885         13/03/2020   \n",
       "65                          132         06/03/2021   \n",
       "66                           99         20/04/2021   \n",
       "67                          202         09/09/2020   \n",
       "68                          251         04/01/2018   \n",
       "69                          339         08/03/2021   \n",
       "70                          168         05/11/2020   \n",
       "71                           93         23/09/2020   \n",
       "72                          445         17/05/2021   \n",
       "73                          468         25/06/2020   \n",
       "74                          112         15/04/2021   \n",
       "75                        -2710         29/08/2018   \n",
       "76                          137         05/06/2021   \n",
       "77                           -3         10/01/2021   \n",
       "78                          257         27/04/2021   \n",
       "79                         1437         18/09/2020   \n",
       "80                          120         21/08/2020   \n",
       "81                          900         02/06/2021   \n",
       "82                          244         22/08/2020   \n",
       "83                         2270         28/05/2020   \n",
       "84                           47         20/04/2021   \n",
       "85                         2973         01/08/2017   \n",
       "86                          213         18/02/2021   \n",
       "87                        10642         05/07/2016   \n",
       "88                          663         26/04/2019   \n",
       "89                          668         15/02/2019   \n",
       "90                          169         19/11/2020   \n",
       "91                          159         29/09/2020   \n",
       "92                          318         22/05/2020   \n",
       "93                          507         03/05/2021   \n",
       "94                          721         19/03/2021   \n",
       "95                         1200         06/11/2019   \n",
       "96                          268         09/04/2021   \n",
       "97                         5070         31/10/2011   \n",
       "98                          157         05/03/2021   \n",
       "99                          116         10/05/2021   \n",
       "100                        -293         30/11/2020   \n",
       "101                        2189         29/04/2021   \n",
       "102                        6047         25/04/2016   \n",
       "103                        2550         21/08/2020   \n",
       "104                         215         12/03/2021   \n",
       "105                       -1044         29/04/2019   \n",
       "106                         495         19/07/2019   \n",
       "107                        2632         26/04/2017   \n",
       "108                         665         26/11/2020   \n",
       "109                         135         20/04/2021   \n",
       "110                         527         10/01/2017   \n",
       "111                        1900         08/04/2015   \n",
       "112                          87         25/03/2021   \n",
       "113                         206         24/03/2021   \n",
       "114                         223         28/09/2020   \n",
       "115                           2         18/09/2020   \n",
       "116                        1453         06/11/2017   \n",
       "117                         325         08/07/2021   \n",
       "118                          57         06/05/2021   \n",
       "119                         585         14/07/2021   \n",
       "120                         117         04/05/2020   \n",
       "121                         192         09/04/2019   \n",
       "122                        2700         10/09/2020   \n",
       "123                        3399         13/08/2020   \n",
       "124                         344         15/07/2021   \n",
       "125                         416         28/05/2021   \n",
       "126                         330         12/04/2021   \n",
       "127                         550         28/07/2021   \n",
       "128                        -394         26/05/2021   \n",
       "129                        -728         02/12/2019   \n",
       "130                         710         04/08/2021   \n",
       "131                         615         20/07/2021   \n",
       "132                         924         03/02/2020   \n",
       "133                         754         26/07/2021   \n",
       "134                         650         17/02/2021   \n",
       "135                         374         05/08/2021   \n",
       "136                         816         26/07/2021   \n",
       "137                         619         29/07/2021   \n",
       "138                         498         02/08/2021   \n",
       "139                        1586         25/10/2019   \n",
       "140                         325         28/07/2021   \n",
       "141                         422         27/11/2020   \n",
       "\n",
       "                                              wineName    region  vintage_x  \\\n",
       "0                                     Gaja, Barbaresco  Piedmont       2017   \n",
       "1                                  Tignanello, Toscana   Tuscany       2015   \n",
       "2          Chateau Margaux Premier Cru Classe, Margaux  Bordeaux       2006   \n",
       "3          Chateau Margaux Premier Cru Classe, Margaux  Bordeaux       2017   \n",
       "4     Domaine Leflaive, Chevalier-Montrachet Grand Cru  Burgundy       2017   \n",
       "5          Chateau Margaux Premier Cru Classe, Margaux  Bordeaux       2005   \n",
       "6          Chateau Margaux Premier Cru Classe, Margaux  Bordeaux       2001   \n",
       "7          Chateau Margaux Premier Cru Classe, Margaux  Bordeaux       2014   \n",
       "8          Chateau Margaux Premier Cru Classe, Margaux  Bordeaux       2008   \n",
       "9                   Tua Rita, Giusto di Notri, Toscana   Tuscany       2016   \n",
       "10         Chateau Margaux Premier Cru Classe, Margaux  Bordeaux       2013   \n",
       "11   Chateau Calon Segur 3eme Cru Classe, Saint-Est...  Bordeaux       2013   \n",
       "12   Chateau Calon Segur 3eme Cru Classe, Saint-Est...  Bordeaux       2018   \n",
       "13   Chateau Calon Segur 3eme Cru Classe, Saint-Est...  Bordeaux       2017   \n",
       "14         Chateau Margaux Premier Cru Classe, Margaux  Bordeaux       2015   \n",
       "15         Chateau Margaux Premier Cru Classe, Margaux  Bordeaux       2002   \n",
       "16         Chateau Margaux Premier Cru Classe, Margaux  Bordeaux       2010   \n",
       "17   Chateau Calon Segur 3eme Cru Classe, Saint-Est...  Bordeaux       2016   \n",
       "18   Chateau Calon Segur 3eme Cru Classe, Saint-Est...  Bordeaux       2002   \n",
       "19   Chateau Calon Segur 3eme Cru Classe, Saint-Est...  Bordeaux       2003   \n",
       "20         Chateau Margaux Premier Cru Classe, Margaux  Bordeaux       2004   \n",
       "21   Chateau Calon Segur 3eme Cru Classe, Saint-Est...  Bordeaux       2004   \n",
       "22                                    Gaja, Barbaresco  Piedmont       2005   \n",
       "23                                 Tignanello, Toscana   Tuscany       2005   \n",
       "24   Chateau Calon Segur 3eme Cru Classe, Saint-Est...  Bordeaux       2001   \n",
       "25         Chateau Batailley 5eme Cru Classe, Pauillac  Bordeaux       2002   \n",
       "26         Chateau Batailley 5eme Cru Classe, Pauillac  Bordeaux       2003   \n",
       "27   Chateau Calon Segur 3eme Cru Classe, Saint-Est...  Bordeaux       2005   \n",
       "28   Chateau Calon Segur 3eme Cru Classe, Saint-Est...  Bordeaux       2006   \n",
       "29                                    Gaja, Barbaresco  Piedmont       2007   \n",
       "30                                    Gaja, Barbaresco  Piedmont       2003   \n",
       "31                                    Gaja, Barbaresco  Piedmont       2001   \n",
       "32                  Tua Rita, Giusto di Notri, Toscana   Tuscany       2004   \n",
       "33                  Tua Rita, Giusto di Notri, Toscana   Tuscany       2008   \n",
       "34                  Tua Rita, Giusto di Notri, Toscana   Tuscany       2006   \n",
       "35                  Tua Rita, Giusto di Notri, Toscana   Tuscany       2007   \n",
       "36                                 Tignanello, Toscana   Tuscany       2001   \n",
       "37                                 Tignanello, Toscana   Tuscany       2006   \n",
       "38   Chateau Calon Segur 3eme Cru Classe, Saint-Est...  Bordeaux       2010   \n",
       "39         Chateau Batailley 5eme Cru Classe, Pauillac  Bordeaux       2004   \n",
       "40         Chateau Margaux Premier Cru Classe, Margaux  Bordeaux       2007   \n",
       "41   Chateau Calon Segur 3eme Cru Classe, Saint-Est...  Bordeaux       2011   \n",
       "42         Chateau Margaux Premier Cru Classe, Margaux  Bordeaux       2009   \n",
       "43                                 Tignanello, Toscana   Tuscany       2009   \n",
       "44                                 Tignanello, Toscana   Tuscany       2010   \n",
       "45   Chateau Calon Segur 3eme Cru Classe, Saint-Est...  Bordeaux       2009   \n",
       "46    Domaine Leflaive, Chevalier-Montrachet Grand Cru  Burgundy       2014   \n",
       "47         Chateau Batailley 5eme Cru Classe, Pauillac  Bordeaux       2005   \n",
       "48                                 Tignanello, Toscana   Tuscany       2011   \n",
       "49   Chateau Calon Segur 3eme Cru Classe, Saint-Est...  Bordeaux       2007   \n",
       "50   Chateau Calon Segur 3eme Cru Classe, Saint-Est...  Bordeaux       2015   \n",
       "51         Chateau Margaux Premier Cru Classe, Margaux  Bordeaux       2003   \n",
       "52         Chateau Margaux Premier Cru Classe, Margaux  Bordeaux       2011   \n",
       "53   Chateau Calon Segur 3eme Cru Classe, Saint-Est...  Bordeaux       2008   \n",
       "54                                 Tignanello, Toscana   Tuscany       2012   \n",
       "55                                 Tignanello, Toscana   Tuscany       2008   \n",
       "56         Chateau Batailley 5eme Cru Classe, Pauillac  Bordeaux       2006   \n",
       "57                                 Tignanello, Toscana   Tuscany       2014   \n",
       "58                                    Gaja, Barbaresco  Piedmont       2004   \n",
       "59         Chateau Margaux Premier Cru Classe, Margaux  Bordeaux       2012   \n",
       "60         Chateau Batailley 5eme Cru Classe, Pauillac  Bordeaux       2007   \n",
       "61                                 Tignanello, Toscana   Tuscany       2016   \n",
       "62         Chateau Batailley 5eme Cru Classe, Pauillac  Bordeaux       2008   \n",
       "63         Chateau Batailley 5eme Cru Classe, Pauillac  Bordeaux       2009   \n",
       "64                                    Gaja, Barbaresco  Piedmont       2009   \n",
       "65                                 Tignanello, Toscana   Tuscany       2007   \n",
       "66         Chateau Batailley 5eme Cru Classe, Pauillac  Bordeaux       2010   \n",
       "67   Chateau Calon Segur 3eme Cru Classe, Saint-Est...  Bordeaux       2012   \n",
       "68                                    Gaja, Barbaresco  Piedmont       2010   \n",
       "69                                 Tignanello, Toscana   Tuscany       2013   \n",
       "70         Chateau Batailley 5eme Cru Classe, Pauillac  Bordeaux       2011   \n",
       "71                                    Gaja, Barbaresco  Piedmont       2011   \n",
       "72         Chateau Margaux Premier Cru Classe, Margaux  Bordeaux       2016   \n",
       "73                                 Tignanello, Toscana   Tuscany       2004   \n",
       "74         Chateau Batailley 5eme Cru Classe, Pauillac  Bordeaux       2012   \n",
       "75   Jacques-Frederic Mugnier, Chambolle-Musigny Pr...  Burgundy       2015   \n",
       "76                                 Tignanello, Toscana   Tuscany       2017   \n",
       "77         Chateau Batailley 5eme Cru Classe, Pauillac  Bordeaux       2013   \n",
       "78                                    Gaja, Barbaresco  Piedmont       2012   \n",
       "79    Domaine Leflaive, Chevalier-Montrachet Grand Cru  Burgundy       2009   \n",
       "80                  Tua Rita, Giusto di Notri, Toscana   Tuscany       2011   \n",
       "81    Domaine Leflaive, Chevalier-Montrachet Grand Cru  Burgundy       2018   \n",
       "82   Chateau Calon Segur 3eme Cru Classe, Saint-Est...  Bordeaux       2019   \n",
       "83   Jacques-Frederic Mugnier, Chambolle-Musigny Pr...  Burgundy       2014   \n",
       "84         Chateau Batailley 5eme Cru Classe, Pauillac  Bordeaux       2014   \n",
       "85    Domaine Leflaive, Chevalier-Montrachet Grand Cru  Burgundy       2010   \n",
       "86                                    Gaja, Barbaresco  Piedmont       2015   \n",
       "87   Jacques-Frederic Mugnier, Chambolle-Musigny Pr...  Burgundy       2012   \n",
       "88                                 Tignanello, Toscana   Tuscany       2003   \n",
       "89    Domaine Leflaive, Chevalier-Montrachet Grand Cru  Burgundy       2016   \n",
       "90         Chateau Batailley 5eme Cru Classe, Pauillac  Bordeaux       2016   \n",
       "91                  Tua Rita, Giusto di Notri, Toscana   Tuscany       2015   \n",
       "92                                    Gaja, Barbaresco  Piedmont       2006   \n",
       "93         Chateau Margaux Premier Cru Classe, Margaux  Bordeaux       2018   \n",
       "94         Chateau Margaux Premier Cru Classe, Margaux  Bordeaux       2019   \n",
       "95          Domaine Denis Mortet, Chambertin Grand Cru  Burgundy       2014   \n",
       "96                                    Gaja, Barbaresco  Piedmont       2016   \n",
       "97    Domaine Leflaive, Chevalier-Montrachet Grand Cru  Burgundy       2003   \n",
       "98                                    Gaja, Barbaresco  Piedmont       2013   \n",
       "99                                 Tignanello, Toscana   Tuscany       2018   \n",
       "100  Jacques-Frederic Mugnier, Chambolle-Musigny Pr...  Burgundy       2011   \n",
       "101  Jacques-Frederic Mugnier, Chambolle-Musigny Pr...  Burgundy       2017   \n",
       "102         Domaine Denis Mortet, Chambertin Grand Cru  Burgundy       2013   \n",
       "103         Domaine Denis Mortet, Chambertin Grand Cru  Burgundy       2017   \n",
       "104        Chateau Batailley 5eme Cru Classe, Pauillac  Bordeaux       2015   \n",
       "105   Domaine Leflaive, Chevalier-Montrachet Grand Cru  Burgundy       2015   \n",
       "106   Domaine Leflaive, Chevalier-Montrachet Grand Cru  Burgundy       2005   \n",
       "107   Domaine Leflaive, Chevalier-Montrachet Grand Cru  Burgundy       2006   \n",
       "108  Chateau Angelus Premier Grand Cru Classe B, Sa...  Bordeaux       2001   \n",
       "109  Chateau Calon Segur 3eme Cru Classe, Saint-Est...  Bordeaux       2014   \n",
       "110  Chateau Angelus Premier Grand Cru Classe B, Sa...  Bordeaux       2002   \n",
       "111   Domaine Leflaive, Chevalier-Montrachet Grand Cru  Burgundy       2012   \n",
       "112                 Tua Rita, Giusto di Notri, Toscana   Tuscany       2018   \n",
       "113                 Tua Rita, Giusto di Notri, Toscana   Tuscany       2017   \n",
       "114                                   Gaja, Barbaresco  Piedmont       2014   \n",
       "115                 Tua Rita, Giusto di Notri, Toscana   Tuscany       2013   \n",
       "116   Domaine Leflaive, Chevalier-Montrachet Grand Cru  Burgundy       2013   \n",
       "117  Chateau Angelus Premier Grand Cru Classe B, Sa...  Bordeaux       2003   \n",
       "118        Chateau Batailley 5eme Cru Classe, Pauillac  Bordeaux       2018   \n",
       "119  Chateau Angelus Premier Grand Cru Classe B, Sa...  Bordeaux       2004   \n",
       "120        Chateau Batailley 5eme Cru Classe, Pauillac  Bordeaux       2001   \n",
       "121                 Tua Rita, Giusto di Notri, Toscana   Tuscany       2012   \n",
       "122   Domaine Leflaive, Chevalier-Montrachet Grand Cru  Burgundy       2007   \n",
       "123   Domaine Leflaive, Chevalier-Montrachet Grand Cru  Burgundy       2008   \n",
       "124  Chateau Angelus Premier Grand Cru Classe B, Sa...  Bordeaux       2005   \n",
       "125  Chateau Angelus Premier Grand Cru Classe B, Sa...  Bordeaux       2006   \n",
       "126  Chateau Angelus Premier Grand Cru Classe B, Sa...  Bordeaux       2007   \n",
       "127  Chateau Angelus Premier Grand Cru Classe B, Sa...  Bordeaux       2008   \n",
       "128   Domaine Leflaive, Chevalier-Montrachet Grand Cru  Burgundy       2011   \n",
       "129   Domaine Leflaive, Chevalier-Montrachet Grand Cru  Burgundy       2001   \n",
       "130  Chateau Angelus Premier Grand Cru Classe B, Sa...  Bordeaux       2009   \n",
       "131  Chateau Angelus Premier Grand Cru Classe B, Sa...  Bordeaux       2010   \n",
       "132  Chateau Angelus Premier Grand Cru Classe B, Sa...  Bordeaux       2011   \n",
       "133  Chateau Angelus Premier Grand Cru Classe A, Sa...  Bordeaux       2012   \n",
       "134  Chateau Angelus Premier Grand Cru Classe A, Sa...  Bordeaux       2013   \n",
       "135  Chateau Angelus Premier Grand Cru Classe A, Sa...  Bordeaux       2014   \n",
       "136  Chateau Angelus Premier Grand Cru Classe A, Sa...  Bordeaux       2015   \n",
       "137  Chateau Angelus Premier Grand Cru Classe A, Sa...  Bordeaux       2016   \n",
       "138  Chateau Angelus Premier Grand Cru Classe A, Sa...  Bordeaux       2017   \n",
       "139                                   Gaja, Barbaresco  Piedmont       2008   \n",
       "140  Chateau Angelus Premier Grand Cru Classe A, Sa...  Bordeaux       2018   \n",
       "141  Chateau Angelus Premier Grand Cru Classe A, Sa...  Bordeaux       2019   \n",
       "\n",
       "     importdate      lwin_11   lwin_7  vintage_y   location_name  color  \\\n",
       "0    10/05/2021  10996052017  1099605       2017      Barbaresco    Red   \n",
       "1    10/05/2021  10953912015  1095391       2015         Toscana    Red   \n",
       "2    10/05/2021  10127812006  1012781       2006         Margaux    Red   \n",
       "3    10/05/2021  10127812017  1012781       2017         Margaux    Red   \n",
       "4    10/05/2021  10734012017  1073401       2017  Cote de Beaune  White   \n",
       "5    10/05/2021  10127812005  1012781       2005         Margaux    Red   \n",
       "6    10/05/2021  10127812001  1012781       2001         Margaux    Red   \n",
       "7    10/05/2021  10127812014  1012781       2014         Margaux    Red   \n",
       "8    10/05/2021  10127812008  1012781       2008         Margaux    Red   \n",
       "9    10/05/2021  11058072016  1105807       2016         Toscana    Red   \n",
       "10   10/05/2021  10127812013  1012781       2013         Margaux    Red   \n",
       "11   10/05/2021  10074752013  1007475       2013   Saint-Estephe    Red   \n",
       "12   10/05/2021  10074752018  1007475       2018   Saint-Estephe    Red   \n",
       "13   10/05/2021  10074752017  1007475       2017   Saint-Estephe    Red   \n",
       "14   10/05/2021  10127812015  1012781       2015         Margaux    Red   \n",
       "15   10/05/2021  10127812002  1012781       2002         Margaux    Red   \n",
       "16   10/05/2021  10127812010  1012781       2010         Margaux    Red   \n",
       "17   10/05/2021  10074752016  1007475       2016   Saint-Estephe    Red   \n",
       "18   06/07/2021  10074752002  1007475       2002   Saint-Estephe    Red   \n",
       "19   06/07/2021  10074752003  1007475       2003   Saint-Estephe    Red   \n",
       "20   06/07/2021  10127812004  1012781       2004         Margaux    Red   \n",
       "21   06/07/2021  10074752004  1007475       2004   Saint-Estephe    Red   \n",
       "22   03/07/2021  10996052005  1099605       2005      Barbaresco    Red   \n",
       "23   03/07/2021  10953912005  1095391       2005         Toscana    Red   \n",
       "24   06/07/2021  10074752001  1007475       2001   Saint-Estephe    Red   \n",
       "25   04/05/2021  10063222002  1006322       2002        Pauillac    Red   \n",
       "26   10/05/2021  10063222003  1006322       2003        Pauillac    Red   \n",
       "27   06/07/2021  10074752005  1007475       2005   Saint-Estephe    Red   \n",
       "28   06/07/2021  10074752006  1007475       2006   Saint-Estephe    Red   \n",
       "29   03/07/2021  10996052007  1099605       2007      Barbaresco    Red   \n",
       "30   03/07/2021  10996052003  1099605       2003      Barbaresco    Red   \n",
       "31   03/07/2021  10996052001  1099605       2001      Barbaresco    Red   \n",
       "32   03/07/2021  11058072004  1105807       2004         Toscana    Red   \n",
       "33   03/07/2021  11058072008  1105807       2008         Toscana    Red   \n",
       "34   03/07/2021  11058072006  1105807       2006         Toscana    Red   \n",
       "35   03/07/2021  11058072007  1105807       2007         Toscana    Red   \n",
       "36   03/07/2021  10953912001  1095391       2001         Toscana    Red   \n",
       "37   03/07/2021  10953912006  1095391       2006         Toscana    Red   \n",
       "38   03/07/2021  10074752010  1007475       2010   Saint-Estephe    Red   \n",
       "39   08/05/2021  10063222004  1006322       2004        Pauillac    Red   \n",
       "40   06/07/2021  10127812007  1012781       2007         Margaux    Red   \n",
       "41   03/07/2021  10074752011  1007475       2011   Saint-Estephe    Red   \n",
       "42   06/07/2021  10127812009  1012781       2009         Margaux    Red   \n",
       "43   03/07/2021  10953912009  1095391       2009         Toscana    Red   \n",
       "44   03/07/2021  10953912010  1095391       2010         Toscana    Red   \n",
       "45   06/07/2021  10074752009  1007475       2009   Saint-Estephe    Red   \n",
       "46   08/05/2021  10734012014  1073401       2014  Cote de Beaune  White   \n",
       "47   04/05/2021  10063222005  1006322       2005        Pauillac    Red   \n",
       "48   08/05/2021  10953912011  1095391       2011         Toscana    Red   \n",
       "49   08/05/2021  10074752007  1007475       2007   Saint-Estephe    Red   \n",
       "50   08/05/2021  10074752015  1007475       2015   Saint-Estephe    Red   \n",
       "51   08/05/2021  10127812003  1012781       2003         Margaux    Red   \n",
       "52   03/07/2021  10127812011  1012781       2011         Margaux    Red   \n",
       "53   04/05/2021  10074752008  1007475       2008   Saint-Estephe    Red   \n",
       "54   04/05/2021  10953912012  1095391       2012         Toscana    Red   \n",
       "55   04/05/2021  10953912008  1095391       2008         Toscana    Red   \n",
       "56   04/05/2021  10063222006  1006322       2006        Pauillac    Red   \n",
       "57   04/05/2021  10953912014  1095391       2014         Toscana    Red   \n",
       "58   04/05/2021  10996052004  1099605       2004      Barbaresco    Red   \n",
       "59   04/05/2021  10127812012  1012781       2012         Margaux    Red   \n",
       "60   04/05/2021  10063222007  1006322       2007        Pauillac    Red   \n",
       "61   05/05/2021  10953912016  1095391       2016         Toscana    Red   \n",
       "62   04/05/2021  10063222008  1006322       2008        Pauillac    Red   \n",
       "63   04/05/2021  10063222009  1006322       2009        Pauillac    Red   \n",
       "64   03/07/2021  10996052009  1099605       2009      Barbaresco    Red   \n",
       "65   09/05/2021  10953912007  1095391       2007         Toscana    Red   \n",
       "66   04/05/2021  10063222010  1006322       2010        Pauillac    Red   \n",
       "67   03/07/2021  10074752012  1007475       2012   Saint-Estephe    Red   \n",
       "68   03/07/2021  10996052010  1099605       2010      Barbaresco    Red   \n",
       "69   07/05/2021  10953912013  1095391       2013         Toscana    Red   \n",
       "70   04/05/2021  10063222011  1006322       2011        Pauillac    Red   \n",
       "71   09/06/2021  10996052011  1099605       2011      Barbaresco    Red   \n",
       "72   09/06/2021  10127812016  1012781       2016         Margaux    Red   \n",
       "73   09/06/2021  10953912004  1095391       2004         Toscana    Red   \n",
       "74   04/05/2021  10063222012  1006322       2012        Pauillac    Red   \n",
       "75   09/06/2021  10496422015  1049642       2015   Cote de Nuits    Red   \n",
       "76   09/06/2021  10953912017  1095391       2017         Toscana    Red   \n",
       "77   04/05/2021  10063222013  1006322       2013        Pauillac    Red   \n",
       "78   09/06/2021  10996052012  1099605       2012      Barbaresco    Red   \n",
       "79   09/06/2021  10734012009  1073401       2009  Cote de Beaune  White   \n",
       "80   19/05/2021  11058072011  1105807       2011         Toscana    Red   \n",
       "81   09/06/2021  10734012018  1073401       2018  Cote de Beaune  White   \n",
       "82   09/06/2021  10074752019  1007475       2019   Saint-Estephe    Red   \n",
       "83   09/06/2021  10496422014  1049642       2014   Cote de Nuits    Red   \n",
       "84   05/05/2021  10063222014  1006322       2014        Pauillac    Red   \n",
       "85   09/06/2021  10734012010  1073401       2010  Cote de Beaune  White   \n",
       "86   09/06/2021  10996052015  1099605       2015      Barbaresco    Red   \n",
       "87   19/05/2021  10496422012  1049642       2012   Cote de Nuits    Red   \n",
       "88   09/06/2021  10953912003  1095391       2003         Toscana    Red   \n",
       "89   09/06/2021  10734012016  1073401       2016  Cote de Beaune  White   \n",
       "90   04/05/2021  10063222016  1006322       2016        Pauillac    Red   \n",
       "91   09/06/2021  11058072015  1105807       2015         Toscana    Red   \n",
       "92   09/06/2021  10996052006  1099605       2006      Barbaresco    Red   \n",
       "93   12/05/2021  10127812018  1012781       2018         Margaux    Red   \n",
       "94   12/05/2021  10127812019  1012781       2019         Margaux    Red   \n",
       "95   12/05/2021  10490202014  1049020       2014   Cote de Nuits    Red   \n",
       "96   12/05/2021  10996052016  1099605       2016      Barbaresco    Red   \n",
       "97   12/05/2021  10734012003  1073401       2003  Cote de Beaune  White   \n",
       "98   12/05/2021  10996052013  1099605       2013      Barbaresco    Red   \n",
       "99   12/05/2021  10953912018  1095391       2018         Toscana    Red   \n",
       "100  12/05/2021  10496422011  1049642       2011   Cote de Nuits    Red   \n",
       "101  19/05/2021  10496422017  1049642       2017   Cote de Nuits    Red   \n",
       "102  19/05/2021  10490202013  1049020       2013   Cote de Nuits    Red   \n",
       "103  19/05/2021  10490202017  1049020       2017   Cote de Nuits    Red   \n",
       "104  05/05/2021  10063222015  1006322       2015        Pauillac    Red   \n",
       "105  18/05/2021  10734012015  1073401       2015  Cote de Beaune  White   \n",
       "106  18/05/2021  10734012005  1073401       2005  Cote de Beaune  White   \n",
       "107  18/05/2021  10734012006  1073401       2006  Cote de Beaune  White   \n",
       "108  28/07/2021  10060452001  1006045       2001   Saint-�milion    Red   \n",
       "109  19/05/2021  10074752014  1007475       2014   Saint-Estephe    Red   \n",
       "110  11/08/2021  10060452002  1006045       2002   Saint-�milion    Red   \n",
       "111  13/05/2021  10734012012  1073401       2012  Cote de Beaune  White   \n",
       "112  26/06/2021  11058072018  1105807       2018         Toscana    Red   \n",
       "113  26/06/2021  11058072017  1105807       2017         Toscana    Red   \n",
       "114  12/06/2021  10996052014  1099605       2014      Barbaresco    Red   \n",
       "115  14/05/2021  11058072013  1105807       2013         Toscana    Red   \n",
       "116  14/05/2021  10734012013  1073401       2013  Cote de Beaune  White   \n",
       "117  11/08/2021  10060452003  1006045       2003   Saint-�milion    Red   \n",
       "118  14/05/2021  10063222018  1006322       2018        Pauillac    Red   \n",
       "119  11/08/2021  10060452004  1006045       2004   Saint-�milion    Red   \n",
       "120  20/05/2021  10063222001  1006322       2001        Pauillac    Red   \n",
       "121  19/06/2021  11058072012  1105807       2012         Toscana    Red   \n",
       "122  03/08/2021  10734012007  1073401       2007  Cote de Beaune  White   \n",
       "123  03/08/2021  10734012008  1073401       2008  Cote de Beaune  White   \n",
       "124  10/08/2021  10060452005  1006045       2005   Saint-�milion    Red   \n",
       "125  11/08/2021  10060452006  1006045       2006   Saint-�milion    Red   \n",
       "126  11/08/2021  10060452007  1006045       2007   Saint-�milion    Red   \n",
       "127  11/08/2021  10060452008  1006045       2008   Saint-�milion    Red   \n",
       "128  03/08/2021  10734012011  1073401       2011  Cote de Beaune  White   \n",
       "129  03/07/2021  10734012001  1073401       2001  Cote de Beaune  White   \n",
       "130  11/08/2021  10060452009  1006045       2009   Saint-�milion    Red   \n",
       "131  07/08/2021  10060452010  1006045       2010   Saint-�milion    Red   \n",
       "132  10/08/2021  10060452011  1006045       2011   Saint-�milion    Red   \n",
       "133  11/08/2021  10060452012  1006045       2012   Saint-�milion    Red   \n",
       "134  11/08/2021  10060452013  1006045       2013   Saint-�milion    Red   \n",
       "135  10/08/2021  10060452014  1006045       2014   Saint-�milion    Red   \n",
       "136  06/08/2021  10060452015  1006045       2015   Saint-�milion    Red   \n",
       "137  06/08/2021  10060452016  1006045       2016   Saint-�milion    Red   \n",
       "138  11/08/2021  10060452017  1006045       2017   Saint-�milion    Red   \n",
       "139  22/07/2021  10996052008  1099605       2008      Barbaresco    Red   \n",
       "140  11/08/2021  10060452018  1006045       2018   Saint-�milion    Red   \n",
       "141  29/07/2021  10060452019  1006045       2019   Saint-�milion    Red   \n",
       "\n",
       "    maturity   type            variety        critic_fullname  score  \\\n",
       "0      Young  Table           Nebbiolo          Monica Larner   95.0   \n",
       "1      Early  Table  Proprietary Blend          Monica Larner   96.0   \n",
       "2     Mature  Table  Proprietary Blend            Neal Martin   94.0   \n",
       "3      Young  Table  Proprietary Blend    Lisa Perrotti-Brown   98.0   \n",
       "4        NaN  Table         Chardonnay         William Kelley   96.0   \n",
       "5      Early  Table  Proprietary Blend  Robert M. Parker, Jr.   98.0   \n",
       "6      Early  Table  Proprietary Blend            Neal Martin   94.0   \n",
       "7      Young  Table  Proprietary Blend            Neal Martin   95.0   \n",
       "8      Early  Table  Proprietary Blend  Robert M. Parker, Jr.   94.0   \n",
       "9      Early  Table  Proprietary Blend          Monica Larner   97.0   \n",
       "10     Early  Table  Proprietary Blend            Neal Martin   91.0   \n",
       "11     Early  Table  Proprietary Blend            Neal Martin   91.0   \n",
       "12       NaN  Table  Proprietary Blend    Lisa Perrotti-Brown   97.0   \n",
       "13     Young  Table  Proprietary Blend    Lisa Perrotti-Brown   95.0   \n",
       "14     Young  Table  Proprietary Blend    Lisa Perrotti-Brown   99.0   \n",
       "15    Mature  Table  Proprietary Blend  Robert M. Parker, Jr.   93.0   \n",
       "16     Young  Table  Proprietary Blend    Lisa Perrotti-Brown   98.0   \n",
       "17     Early  Table  Proprietary Blend    Lisa Perrotti-Brown   96.0   \n",
       "18       Old  Table  Proprietary Blend  Robert M. Parker, Jr.   89.0   \n",
       "19    Mature  Table  Proprietary Blend  Robert M. Parker, Jr.   93.0   \n",
       "20     Early  Table  Proprietary Blend            Neal Martin   94.0   \n",
       "21       Old  Table  Proprietary Blend  Robert M. Parker, Jr.   89.0   \n",
       "22    Mature  Table           Nebbiolo        Antonio Galloni   94.0   \n",
       "23       Old  Table  Proprietary Blend        Antonio Galloni   92.0   \n",
       "24       Old  Table  Proprietary Blend  Robert M. Parker, Jr.   90.0   \n",
       "25       Old  Table  Proprietary Blend  Robert M. Parker, Jr.   86.0   \n",
       "26     Early  Table  Proprietary Blend            Neal Martin   91.0   \n",
       "27     Early  Table  Proprietary Blend            Neal Martin   94.0   \n",
       "28     Young  Table  Proprietary Blend            Neal Martin   93.0   \n",
       "29     Early  Table           Nebbiolo        Antonio Galloni   94.0   \n",
       "30      Late  Table           Nebbiolo        Antonio Galloni   93.0   \n",
       "31      Late  Table           Nebbiolo        Antonio Galloni   93.0   \n",
       "32       Old  Table  Proprietary Blend        Antonio Galloni   93.0   \n",
       "33    Mature  Table  Proprietary Blend        Antonio Galloni   94.0   \n",
       "34    Mature  Table  Proprietary Blend        Antonio Galloni   96.0   \n",
       "35    Mature  Table  Proprietary Blend        Antonio Galloni   95.0   \n",
       "36      Late  Table  Proprietary Blend        Daniel Thomases   93.0   \n",
       "37    Mature  Table  Proprietary Blend        Antonio Galloni   92.0   \n",
       "38     Early  Table  Proprietary Blend    Lisa Perrotti-Brown   89.0   \n",
       "39      Late  Table  Proprietary Blend  Robert M. Parker, Jr.   90.0   \n",
       "40     Early  Table  Proprietary Blend            Neal Martin   92.0   \n",
       "41     Early  Table  Proprietary Blend  Robert M. Parker, Jr.   90.0   \n",
       "42     Early  Table  Proprietary Blend    Lisa Perrotti-Brown   98.0   \n",
       "43     Early  Table  Proprietary Blend        Antonio Galloni   94.0   \n",
       "44     Early  Table  Proprietary Blend          Monica Larner   94.0   \n",
       "45     Early  Table  Proprietary Blend    Lisa Perrotti-Brown   96.0   \n",
       "46     Early  Table         Chardonnay            Neal Martin   97.0   \n",
       "47     Early  Table  Proprietary Blend            Neal Martin   93.0   \n",
       "48    Mature  Table  Proprietary Blend          Monica Larner   93.0   \n",
       "49    Mature  Table  Proprietary Blend            Neal Martin   87.0   \n",
       "50     Early  Table  Proprietary Blend    Lisa Perrotti-Brown   93.0   \n",
       "51    Mature  Table  Proprietary Blend            Neal Martin   93.0   \n",
       "52    Mature  Table  Proprietary Blend  Robert M. Parker, Jr.   93.0   \n",
       "53     Early  Table  Proprietary Blend            Neal Martin   93.0   \n",
       "54    Mature  Table  Proprietary Blend          Monica Larner   93.0   \n",
       "55    Mature  Table  Proprietary Blend        Antonio Galloni   94.0   \n",
       "56     Early  Table  Proprietary Blend            Neal Martin   91.0   \n",
       "57     Early  Table  Proprietary Blend          Monica Larner   93.0   \n",
       "58      Late  Table           Nebbiolo        Antonio Galloni   93.0   \n",
       "59     Young  Table  Proprietary Blend            Neal Martin   96.0   \n",
       "60     Early  Table  Proprietary Blend            Neal Martin   90.0   \n",
       "61     Early  Table  Proprietary Blend          Monica Larner   97.0   \n",
       "62    Mature  Table  Proprietary Blend  Robert M. Parker, Jr.   90.0   \n",
       "63     Early  Table  Proprietary Blend    Lisa Perrotti-Brown   89.0   \n",
       "64     Early  Table           Nebbiolo        Antonio Galloni   93.0   \n",
       "65     Early  Table  Proprietary Blend          Monica Larner   95.0   \n",
       "66     Early  Table  Proprietary Blend    Lisa Perrotti-Brown   90.0   \n",
       "67     Early  Table  Proprietary Blend  Robert M. Parker, Jr.   91.0   \n",
       "68     Early  Table           Nebbiolo          Monica Larner   94.0   \n",
       "69     Early  Table  Proprietary Blend          Monica Larner   96.0   \n",
       "70     Early  Table  Proprietary Blend  Robert M. Parker, Jr.   91.0   \n",
       "71     Early  Table           Nebbiolo          Monica Larner   93.0   \n",
       "72     Young  Table  Proprietary Blend    Lisa Perrotti-Brown   99.0   \n",
       "73       Old  Table  Proprietary Blend        Antonio Galloni   93.0   \n",
       "74     Early  Table  Proprietary Blend  Robert M. Parker, Jr.   92.0   \n",
       "75     Young  Table         Pinot Noir         William Kelley   95.0   \n",
       "76     Early  Table  Proprietary Blend          Monica Larner   96.0   \n",
       "77    Mature  Table  Proprietary Blend            Neal Martin   90.0   \n",
       "78     Early  Table           Nebbiolo          Monica Larner   91.0   \n",
       "79     Early  Table         Chardonnay         William Kelley   94.0   \n",
       "80    Mature  Table  Proprietary Blend          Monica Larner   94.0   \n",
       "81     Young  Table         Chardonnay         William Kelley   96.0   \n",
       "82       NaN  Table  Proprietary Blend    Lisa Perrotti-Brown   96.0   \n",
       "83     Early  Table         Pinot Noir            Neal Martin   95.0   \n",
       "84     Young  Table  Proprietary Blend            Neal Martin   91.0   \n",
       "85       Old  Table         Chardonnay        Antonio Galloni   95.0   \n",
       "86     Early  Table           Nebbiolo          Monica Larner   93.0   \n",
       "87     Early  Table         Pinot Noir            Neal Martin   93.0   \n",
       "88       Old  Table  Proprietary Blend        Antonio Galloni   92.0   \n",
       "89     Early  Table         Chardonnay            Neal Martin   93.0   \n",
       "90     Young  Table  Proprietary Blend            Neal Martin   94.0   \n",
       "91     Early  Table  Proprietary Blend          Monica Larner   96.0   \n",
       "92    Mature  Table           Nebbiolo        Antonio Galloni   93.0   \n",
       "93     Young  Table  Proprietary Blend    Lisa Perrotti-Brown  100.0   \n",
       "94       NaN  Table  Proprietary Blend    Lisa Perrotti-Brown   98.5   \n",
       "95     Early  Table         Pinot Noir            Neal Martin   96.0   \n",
       "96     Young  Table           Nebbiolo          Monica Larner   96.0   \n",
       "97     Early  Table         Chardonnay         William Kelley   92.0   \n",
       "98     Early  Table           Nebbiolo          Monica Larner   93.0   \n",
       "99     Young  Table  Proprietary Blend          Monica Larner   98.0   \n",
       "100    Early  Table         Pinot Noir            Neal Martin   92.0   \n",
       "101    Young  Table         Pinot Noir         William Kelley   95.0   \n",
       "102    Early  Table         Pinot Noir            Neal Martin   96.0   \n",
       "103      NaN  Table         Pinot Noir         William Kelley   94.0   \n",
       "104    Young  Table  Proprietary Blend            Neal Martin   94.0   \n",
       "105    Early  Table         Chardonnay         William Kelley   97.0   \n",
       "106    Early  Table         Chardonnay         William Kelley   97.0   \n",
       "107      Old  Table         Chardonnay         William Kelley   55.0   \n",
       "108   Mature  Table  Proprietary Blend  Robert M. Parker, Jr.   97.0   \n",
       "109    Early  Table  Proprietary Blend            Neal Martin   92.0   \n",
       "110      Old  Table  Proprietary Blend  Robert M. Parker, Jr.   91.0   \n",
       "111    Young  Table         Chardonnay         William Kelley   95.0   \n",
       "112    Young  Table  Proprietary Blend          Monica Larner   96.0   \n",
       "113    Early  Table  Proprietary Blend          Monica Larner   96.0   \n",
       "114    Early  Table           Nebbiolo          Monica Larner   94.0   \n",
       "115    Early  Table  Proprietary Blend          Monica Larner   98.0   \n",
       "116    Early  Table         Chardonnay            Neal Martin   95.0   \n",
       "117   Mature  Table  Proprietary Blend  Robert M. Parker, Jr.   98.0   \n",
       "118      NaN  Table  Proprietary Blend    Lisa Perrotti-Brown   93.0   \n",
       "119     Late  Table  Proprietary Blend  Robert M. Parker, Jr.   95.0   \n",
       "120      Old  Table  Proprietary Blend  Robert M. Parker, Jr.   87.0   \n",
       "121   Mature  Table  Proprietary Blend          Monica Larner   93.0   \n",
       "122    Early  Table         Chardonnay         William Kelley   96.0   \n",
       "123   Mature  Table         Chardonnay         William Kelley   94.0   \n",
       "124    Early  Table  Proprietary Blend  Robert M. Parker, Jr.  100.0   \n",
       "125    Early  Table  Proprietary Blend            Neal Martin   94.0   \n",
       "126    Early  Table  Proprietary Blend            Neal Martin   92.0   \n",
       "127   Mature  Table  Proprietary Blend  Robert M. Parker, Jr.   93.0   \n",
       "128    Early  Table         Chardonnay         William Kelley   95.0   \n",
       "129   Mature  Table         Chardonnay         William Kelley   94.0   \n",
       "130    Early  Table  Proprietary Blend    Lisa Perrotti-Brown   99.0   \n",
       "131    Young  Table  Proprietary Blend    Lisa Perrotti-Brown   99.0   \n",
       "132   Mature  Table  Proprietary Blend  Robert M. Parker, Jr.   94.0   \n",
       "133    Young  Table  Proprietary Blend            Neal Martin   94.0   \n",
       "134   Mature  Table  Proprietary Blend  Robert M. Parker, Jr.   91.5   \n",
       "135    Early  Table  Proprietary Blend    Lisa Perrotti-Brown   94.0   \n",
       "136    Young  Table  Proprietary Blend    Lisa Perrotti-Brown   97.0   \n",
       "137    Young  Table  Proprietary Blend    Lisa Perrotti-Brown   98.0   \n",
       "138    Early  Table  Proprietary Blend    Lisa Perrotti-Brown   95.0   \n",
       "139   Mature  Table           Nebbiolo        Antonio Galloni   93.0   \n",
       "140    Young  Table  Proprietary Blend    Lisa Perrotti-Brown   97.0   \n",
       "141      NaN  Table  Proprietary Blend    Lisa Perrotti-Brown   98.0   \n",
       "\n",
       "     drink_year_min  drink_year_max  score_date  \\\n",
       "0            2023.0          2045.0  23/07/2020   \n",
       "1            2019.0          2040.0  06/09/2018   \n",
       "2            2016.0          2030.0  29/05/2016   \n",
       "3            2024.0          2060.0  16/03/2020   \n",
       "4               NaN             NaN  04/01/2019   \n",
       "5            2020.0          2050.0  28/06/2015   \n",
       "6            2018.0          2045.0  28/10/2016   \n",
       "7            2024.0          2050.0  31/03/2017   \n",
       "8            2011.0          2041.0  01/05/2011   \n",
       "9            2020.0          2040.0  31/05/2019   \n",
       "10           2018.0          2032.0  28/10/2016   \n",
       "11           2018.0          2032.0  28/10/2016   \n",
       "12              NaN             NaN  23/04/2019   \n",
       "13           2022.0          2047.0  16/03/2020   \n",
       "14           2023.0          2050.0  21/02/2018   \n",
       "15           2010.0          2030.0  28/04/2005   \n",
       "16           2023.0          2060.0  05/03/2020   \n",
       "17           2021.0          2045.0  30/11/2018   \n",
       "18           2008.0          2017.0  28/04/2005   \n",
       "19           2014.0          2029.0  27/08/2014   \n",
       "20           2020.0          2050.0  28/02/2017   \n",
       "21           2007.0          2018.0  28/06/2007   \n",
       "22           2015.0          2030.0  29/10/2008   \n",
       "23           2010.0          2020.0  29/06/2008   \n",
       "24           2008.0          2019.0  29/06/2004   \n",
       "25           2005.0          2013.0  28/04/2005   \n",
       "26           2016.0          2031.0  30/06/2017   \n",
       "27           2020.0          2050.0  28/10/2016   \n",
       "28           2022.0          2040.0  29/05/2016   \n",
       "29           2017.0          2032.0  26/02/2010   \n",
       "30           2009.0          2021.0  30/10/2006   \n",
       "31           2012.0          2021.0  25/04/2012   \n",
       "32           2008.0          2016.0  27/02/2007   \n",
       "33           2016.0          2028.0  30/08/2011   \n",
       "34           2014.0          2026.0  30/08/2009   \n",
       "35           2017.0          2027.0  30/10/2010   \n",
       "36           2006.0          2021.0  23/04/2006   \n",
       "37           2014.0          2024.0  30/08/2009   \n",
       "38           2020.0          2032.0  05/03/2020   \n",
       "39           2009.0          2025.0  28/06/2007   \n",
       "40           2017.0          2035.0  30/06/2017   \n",
       "41           2017.0          2032.0  29/04/2014   \n",
       "42           2020.0          2050.0  14/03/2019   \n",
       "43           2017.0          2029.0  29/06/2012   \n",
       "44           2016.0          2035.0  28/08/2013   \n",
       "45           2020.0          2049.0  14/03/2019   \n",
       "46           2020.0          2045.0  31/10/2017   \n",
       "47           2018.0          2045.0  30/06/2017   \n",
       "48           2015.0          2027.0  30/10/2014   \n",
       "49           2017.0          2026.0  30/06/2017   \n",
       "50           2020.0          2042.0  21/02/2018   \n",
       "51           2017.0          2027.0  28/02/2017   \n",
       "52           2014.0          2034.0  29/04/2014   \n",
       "53           2018.0          2035.0  28/10/2016   \n",
       "54           2016.0          2030.0  29/10/2015   \n",
       "55           2014.0          2024.0  30/08/2011   \n",
       "56           2019.0          2035.0  29/05/2016   \n",
       "57           2018.0          2028.0  28/04/2017   \n",
       "58           2009.0          2024.0  30/10/2007   \n",
       "59           2022.0          2050.0  28/10/2016   \n",
       "60           2017.0          2030.0  30/06/2017   \n",
       "61           2020.0          2045.0  31/05/2019   \n",
       "62           2013.0          2028.0  01/05/2011   \n",
       "63           2019.0          2027.0  14/03/2019   \n",
       "64           2017.0          2029.0  30/10/2012   \n",
       "65           2015.0          2035.0  29/10/2015   \n",
       "66           2020.0          2033.0  05/03/2020   \n",
       "67           2015.0          2035.0  29/04/2015   \n",
       "68           2018.0          2028.0  27/06/2013   \n",
       "69           2018.0          2035.0  30/12/2016   \n",
       "70           2017.0          2037.0  29/04/2014   \n",
       "71           2017.0          2035.0  25/06/2014   \n",
       "72           2024.0          2063.0  30/11/2018   \n",
       "73           2009.0          2019.0  28/06/2007   \n",
       "74           2015.0          2040.0  29/04/2015   \n",
       "75           2023.0          2045.0  31/10/2018   \n",
       "76           2021.0          2040.0  04/06/2020   \n",
       "77           2017.0          2027.0  28/10/2016   \n",
       "78           2017.0          2032.0  28/06/2015   \n",
       "79           2019.0          2035.0  31/07/2019   \n",
       "80           2015.0          2028.0  28/08/2013   \n",
       "81           2028.0          2048.0  14/01/2021   \n",
       "82              NaN             NaN  18/06/2020   \n",
       "83           2018.0          2040.0  30/12/2015   \n",
       "84           2022.0          2045.0  31/03/2017   \n",
       "85           2020.0             NaN  30/08/2012   \n",
       "86           2020.0          2040.0  29/06/2018   \n",
       "87           2018.0          2040.0  29/10/2015   \n",
       "88           2007.0          2018.0  28/06/2007   \n",
       "89           2021.0          2036.0  29/12/2017   \n",
       "90           2022.0          2050.0  28/04/2017   \n",
       "91           2018.0          2032.0  30/11/2017   \n",
       "92           2016.0          2026.0  30/10/2009   \n",
       "93           2027.0          2067.0  31/03/2021   \n",
       "94              NaN             NaN  18/06/2020   \n",
       "95           2020.0          2045.0  30/12/2015   \n",
       "96           2022.0          2045.0  28/06/2019   \n",
       "97           2013.0          2045.0  31/07/2019   \n",
       "98           2018.0          2040.0  29/06/2016   \n",
       "99           2023.0          2045.0  06/05/2021   \n",
       "100          2016.0          2035.0  29/11/2014   \n",
       "101          2027.0          2050.0  09/01/2020   \n",
       "102          2020.0          2045.0  29/12/2014   \n",
       "103             NaN             NaN  04/01/2019   \n",
       "104          2022.0          2050.0  27/04/2016   \n",
       "105          2020.0          2040.0  28/02/2018   \n",
       "106          2015.0          2035.0  31/07/2019   \n",
       "107          2008.0          2012.0  30/04/2021   \n",
       "108          2015.0          2030.0  27/08/2015   \n",
       "109          2021.0          2045.0  31/03/2017   \n",
       "110          2005.0          2020.0  28/04/2005   \n",
       "111          2022.0          2040.0  31/07/2019   \n",
       "112          2022.0          2040.0  14/01/2021   \n",
       "113          2020.0          2040.0  30/08/2019   \n",
       "114          2018.0          2030.0  30/06/2017   \n",
       "115          2017.0          2030.0  31/01/2017   \n",
       "116          2018.0          2035.0  30/11/2016   \n",
       "117          2015.0          2025.0  27/08/2015   \n",
       "118             NaN             NaN  23/04/2019   \n",
       "119          2009.0          2022.0  28/06/2007   \n",
       "120          2007.0          2014.0  29/06/2004   \n",
       "121          2015.0          2025.0  29/09/2015   \n",
       "122          2020.0          2037.0  31/07/2019   \n",
       "123          2018.0          2025.0  30/04/2021   \n",
       "124          2015.0          2050.0  27/08/2015   \n",
       "125          2018.0          2032.0  29/05/2016   \n",
       "126          2017.0          2030.0  30/06/2017   \n",
       "127          2015.0          2030.0  27/08/2015   \n",
       "128          2018.0          2033.0  31/07/2019   \n",
       "129          2011.0          2030.0  31/07/2019   \n",
       "130          2019.0          2055.0  14/03/2019   \n",
       "131          2023.0          2063.0  22/10/2020   \n",
       "132          2014.0          2029.0  29/04/2014   \n",
       "133          2022.0          2050.0  28/02/2017   \n",
       "134          2014.0          2024.0  27/08/2014   \n",
       "135          2020.0          2045.0  22/10/2020   \n",
       "136          2023.0          2050.0  22/10/2020   \n",
       "137          2024.0          2065.0  22/10/2020   \n",
       "138          2021.0          2045.0  15/10/2020   \n",
       "139          2014.0          2028.0  30/10/2011   \n",
       "140          2026.0          2046.0  31/03/2021   \n",
       "141             NaN             NaN  10/06/2020   \n",
       "\n",
       "                                          tasting_note     lwin  \n",
       "0    The Gaja 2017 Barbaresco is nuanced and delica...  1099605  \n",
       "1    The 2015 Tignanello is a wine that opens, like...  1095391  \n",
       "2    Tasted at Bordeaux Index's annual 10-Year On t...  1012781  \n",
       "3    The 2017 Chateau Margaux is a blend of 89% Cab...  1012781  \n",
       "4    The 2017 Chevalier-Montrachet Grand Cru delive...  1073401  \n",
       "5    The first-growth 2005 Ch�teau Margaux (85% Cab...  1012781  \n",
       "6    The 2001 Chateau Margaux continues to evolve i...  1012781  \n",
       "7    The 2014 Ch�teau Margaux represents 36% of the...  1012781  \n",
       "8    This is a stunning Chateau Margaux, made in a ...  1012781  \n",
       "9    The 2016 Giusto di Notri is a profound and dar...  1105807  \n",
       "10   The 2013 Ch�teau Margaux has an attractive bou...  1012781  \n",
       "11   The 2013 Calon Segur is a Saint Est�phe that s...  1007475  \n",
       "12   The 2018 Calon-S�gur is blended of 65% Caberne...  1007475  \n",
       "13   Medium to deep garnet-purple colored, the 2017...  1007475  \n",
       "14   The 2015 Chateau Margaux is a blend of 87% Cab...  1012781  \n",
       "15   Performing better from bottle than at any time...  1012781  \n",
       "16   Deep garnet in color, the 2010 Ch�teau Margaux...  1012781  \n",
       "17   The 2016 Calon-S�gur is a blend of 60% Caberne...  1007475  \n",
       "18   Deep ruby/purple-tinged, this vintage, a blend...  1007475  \n",
       "19   This beautiful 2003 exhibits a dense ruby/purp...  1007475  \n",
       "20   The 2004 Chateau Margaux has always been a pro...  1012781  \n",
       "21   This classically-styled claret did not merit a...  1007475  \n",
       "22   Floral aromatics give way to bright spiced red...  1099605  \n",
       "23   Antinori has turned out a very beautiful Tigna...  1095391  \n",
       "24   I suspect this 2001 will shut down (as most yo...  1007475  \n",
       "25   Deep ruby/purple with a relatively evolved bou...  1006322  \n",
       "26   Tasted at the Batailley vertical tasting at th...  1006322  \n",
       "27   Tasted from an ex-ch�teau bottle at BI Wine & ...  1007475  \n",
       "28   Tasted at Bordeaux Index's tasting and at the ...  1007475  \n",
       "29   All readers need to do is taste the 2007 Barba...  1099605  \n",
       "30   Gaja�s 2003 Barbaresco may well challenge its ...  1099605  \n",
       "31   The 2001 Barbaresco is gorgeous. Sweet balsami...  1099605  \n",
       "32   The 2004 Giusto di Notri is a terrific effort....  1105807  \n",
       "33   The 2008 Giusto di Notri is wonderfully alive ...  1105807  \n",
       "34   The estate�s 2006 Giusto di Notri is another w...  1105807  \n",
       "35   The 2007 Giusto dei Notri is a gorgeous, dark ...  1105807  \n",
       "36   The 2001 Tignanello is an object lesson in how...  1095391  \n",
       "37   The 2006 Tignanello is especially opulent in t...  1095391  \n",
       "38   Deep garnet colored, the 2010 Calon-S�gur open...  1007475  \n",
       "39   A sleeper of the vintage, Batailley�s complex ...  1006322  \n",
       "40   Tasted at BI Wine & Spirits' 10-Years-On tasti...  1012781  \n",
       "41   Its bigger sister, the well-made 2011 Calon Se...  1007475  \n",
       "42   The 2009 Ch�teau Margaux is deep garnet in col...  1012781  \n",
       "43   The 2009 Tignanello is quite beautiful. Cedar,...  1095391  \n",
       "44   Humming with energy and life from the very mom...  1095391  \n",
       "45   The 2009 Calon-S�gur is deep garnet in color a...  1007475  \n",
       "46   Tasted blind at the annual Burgfest tasting, L...  1073401  \n",
       "47   Tasted at the Batailley vertical tasting at th...  1006322  \n",
       "48   The 2011 Tignanello demonstrates a very ripe a...  1095391  \n",
       "49   Tasted at BI Wine & Spirits' 10-Years-On tasti...  1007475  \n",
       "50   Composed of 82% Cabernet Sauvignon, 16% Merlot...  1007475  \n",
       "51   Tasted blind as a vintage comparison at the Va...  1012781  \n",
       "52   The renowned Chateau Margaux�s 2011 boasts a d...  1012781  \n",
       "53   Tasted from an ex-ch�teau bottle at BI Wine & ...  1007475  \n",
       "54   The 2012 Tignanello is a very handsome wine wi...  1095391  \n",
       "55   The 2008 Tignanello is unquestionably one of t...  1095391  \n",
       "56   Tasted at Bordeaux Index's annual 10-Year On t...  1006322  \n",
       "57   Tignanello has this amazing ability of always ...  1095391  \n",
       "58   The 2004 Barbaresco reveals fresh, perfumed ar...  1099605  \n",
       "59   Tasted blind at the 2012 Southwold tasting, th...  1012781  \n",
       "60   Tasted at BI Wine & Spirits' 10-Years-On tasti...  1006322  \n",
       "61   To hit the market in June, the 2016 Tignanello...  1095391  \n",
       "62   Wood spice, earth, black currant and sweet che...  1006322  \n",
       "63   The medium to deep garnet colored 2009 Bataill...  1006322  \n",
       "64   The 2009 Barbaresco is absolutely remarkable f...  1099605  \n",
       "65   The 2007 Tignanello is ripe with promise for t...  1095391  \n",
       "66   Deep garnet in color, the 2010 Batailley start...  1006322  \n",
       "67   The 2012 Calon S�gur, has an opaque ruby/purpl...  1007475  \n",
       "68   Smack from the start, the 2010 Barbaresco show...  1099605  \n",
       "69   The 2013 Tignanello represents the beginning o...  1095391  \n",
       "70   An attractive nose of creme de cassis, earth a...  1006322  \n",
       "71   The 2011 Barbaresco opens to a dark garnet col...  1099605  \n",
       "72   Deep garnet-purple colored, the 2016 Ch�teau M...  1012781  \n",
       "73   The 2004 Tignanello (85% Sangiovese, 10% Caber...  1095391  \n",
       "74   From the famous ch�teau estate of the Cast�ja ...  1006322  \n",
       "75   Tasted blind, Mugnier's stunning 2015 Chamboll...  1049642  \n",
       "76   The Marchesi Antinori 2017 Tignanello (made wi...  1095391  \n",
       "77   The 2013 Batailley has a relatively backward b...  1006322  \n",
       "78   The 2012 Barbaresco shows different DNA from i...  1099605  \n",
       "79   A charming, fleshy wine, the 2009 Chevalier-Mo...  1073401  \n",
       "80   One of my favorite Tua Rita wines, the 2011 Gi...  1105807  \n",
       "81   The 2018 Chevalier-Montrachet Grand Cru has tu...  1073401  \n",
       "82   Displaying a very deep purple-black color, the...  1007475  \n",
       "83   The 2014 Chambolle Musigny 1er Cru les Amoureu...  1049642  \n",
       "84   The 2014 Batailley has an attractive bouquet, ...  1006322  \n",
       "85   The 2010 Chevalier-Montrachet comes across as ...  1073401  \n",
       "86   The 2015 Barbaresco was to be bottled a week a...  1099605  \n",
       "87   Tasted blind at the annual \"Burgfest\" tasting ...  1049642  \n",
       "88   Antinori�s 2003 Tignanello (85% Sangiovese, 10...  1095391  \n",
       "89   The 2016 Chevalier Montrachet Grand Cru, like ...  1073401  \n",
       "90   The 2016 Batailley is a blend of 12% Merlot, 3...  1006322  \n",
       "91   Here is a high performance wine from Stefano F...  1105807  \n",
       "92   The 2006 Barbaresco reveals terrific concentra...  1099605  \n",
       "93   The 2018 Ch�teau Margaux is composed of 90% Ca...  1012781  \n",
       "94   The 2019 Ch�teau Margaux is a blend of 90% Cab...  1012781  \n",
       "95   The 2014 Chambertin Grand Cru, around three ba...  1049020  \n",
       "96   I tasted this wine over two sittings, one at t...  1099605  \n",
       "97   The 2003 Chevalier-Montrachet Grand Cru is suc...  1073401  \n",
       "98   The Gaja 2013 Barbaresco is a toned and elegan...  1099605  \n",
       "99   This wine brought to mind precise imagery of t...  1095391  \n",
       "100  Tasted blind at the Burgundy 2011 horizontal t...  1049642  \n",
       "101  A stunning bouquet of raspberries, rose petals...  1049642  \n",
       "102  Matured entirely in new oak, the 2013 Chambert...  1049020  \n",
       "103  There are three new barrels of the 2017 Chambe...  1049020  \n",
       "104  The 2015 Batailley is a blend of 77% Cabernet ...  1006322  \n",
       "105  The 2015 Chevalier-Montrachet from Domaine Lef...  1073401  \n",
       "106  When you happen upon a pristine bottle of Lefl...  1073401  \n",
       "107  After my review of a reconditioned bottle last...  1073401  \n",
       "108  A real sleeper of the vintage, and somewhat un...  1006045  \n",
       "109  The 2014 Calon S�gur has a much more reticent ...  1007475  \n",
       "110  A successful offering for the vintage, the 200...  1006045  \n",
       "111  Dense and reserved, Leflaive's 2012 Chevalier-...  1073401  \n",
       "112  I had previously reviewed this blend of 80% Ca...  1105807  \n",
       "113  The 2017 Giusto di Notri is a special 25th ann...  1105807  \n",
       "114  Gaia Gaja tells me 2014 was one of the best vi...  1099605  \n",
       "115  The 2013 Giusto di Notri is a proud, proud, pr...  1105807  \n",
       "116  Tasted blind at the annual �Burgfest� tasting ...  1073401  \n",
       "117  I had this wine from my cellar, as well as at ...  1006045  \n",
       "118  The 2018 Batailley is deep garnet-purple in co...  1006322  \n",
       "119  This 7,500-case blend of 62% Merlot and 38% Ca...  1006045  \n",
       "120  Typically stern, masculine, firm, and almost c...  1006322  \n",
       "121  The 2012 Giusto di Notri is an IGT Toscana ble...  1105807  \n",
       "122  The 2007 Chevalier-Montrachet Grand Cru opens ...  1073401  \n",
       "123  This magnum of the 2008 Chevalier-Montrachet G...  1073401  \n",
       "124  Truly great stuff, this wine performed at a th...  1006045  \n",
       "125  Tasted at Bordeaux Index's annual 10-Year On t...  1006045  \n",
       "126  Tasted at BI Wine & Spirits' 10-Years-On tasti...  1006045  \n",
       "127  A strong effort in this under-appreciated vint...  1006045  \n",
       "128  The 2011 Chevalier-Montrachet Grand Cru was pi...  1073401  \n",
       "129  Leflaive's 2001 Chevalier-Montrachet Grand Cru...  1073401  \n",
       "130  Blended of 60% Merlot and 40% Cabernet Franc, ...  1006045  \n",
       "131  The deep garnet colored 2010 Ang�lus is an ato...  1006045  \n",
       "132  The 2011 Angelus is another winner from Hubert...  1006045  \n",
       "133  Tasted blind as a vintage comparison at the Va...  1006045  \n",
       "134  On the other hand, the opaque purple-colored 2...  1006045  \n",
       "135  Medium to deep garnet in color, the 2014 Ang�l...  1006045  \n",
       "136  Deep garnet-purple in color, the 2015 Ang�lus ...  1006045  \n",
       "137  Sporting a deep garnet-purple color, the 2016 ...  1006045  \n",
       "138  Composed of 70% Merlot and 30% Cabernet Franc,...  1006045  \n",
       "139  The 2008 Barbaresco emerges from the glass wit...  1099605  \n",
       "140  The 2018 Ang�lus is blended of 65% Merlot and ...  1006045  \n",
       "141  Composed of 60% Merlot and 40% Cabernet Franc,...  1006045  "
      ]
     },
     "execution_count": 358,
     "metadata": {},
     "output_type": "execute_result"
    }
   ],
   "source": [
    "pd.set_option('display.max_rows', None)\n",
    "pd.set_option('display.max_columns', None)\n",
    "merge"
   ]
  },
  {
   "cell_type": "markdown",
   "metadata": {},
   "source": [
    "### Producers and Vintages\n",
    "#### The following three graphs show information with respect to producers, vintages, mean benchmark price and mean difference between marktet price and benchmark price (increase in price).\n",
    "\n",
    "##### The first graph illustrates the timeseries of each Producers wines in terms of calculated increase in price\n",
    "##### The second graph illustrates benchmark trade price against the increase in price. This is colored by producer and sized by \"market price\"\n",
    "##### The third graph shows the scores of wines against grouped mean data, spefically the mean increase of price. Datapoints are colored to producer and sized by \"market price\"\n",
    "\n",
    "\n",
    "##### We can see there are three stand out producers in terms of market price, benchmark price and the amount of increase in price between these two variables. These three producers are where the higher returns are made, but also are the most expensive to buy.\n",
    "##### There is also small cluster of three producers in the third graph that are consistently scoring around 95.5. One producer from St Emillion and one in Margaux. These wines all happen to be the next three biggest wines in market price.\n"
   ]
  },
  {
   "cell_type": "code",
   "execution_count": 354,
   "metadata": {},
   "outputs": [],
   "source": [
    "name_vintage = merge.groupby([\"wineName\", \"vintage_x\"]).sum().reset_index()"
   ]
  },
  {
   "cell_type": "code",
   "execution_count": 240,
   "metadata": {},
   "outputs": [],
   "source": [
    "name_mean =  merge.groupby([\"wineName\"]).mean().reset_index()\n",
    "name_std = merge.groupby([\"wineName\"]).std().reset_index()"
   ]
  },
  {
   "cell_type": "code",
   "execution_count": 353,
   "metadata": {},
   "outputs": [
    {
     "data": {
      "application/vnd.plotly.v1+json": {
       "config": {
        "plotlyServerURL": "https://plot.ly"
       },
       "data": [
        {
         "hovertemplate": "wineName=Chateau Angelus Premier Grand Cru Classe A, Saint-Emilion Grand Cru<br>vintage_x=%{x}<br>mk_price_minus_bmk_price=%{y}<extra></extra>",
         "legendgroup": "Chateau Angelus Premier Grand Cru Classe A, Saint-Emilion Grand Cru",
         "line": {
          "color": "#636efa",
          "dash": "solid"
         },
         "mode": "lines",
         "name": "Chateau Angelus Premier Grand Cru Classe A, Saint-Emilion Grand Cru",
         "orientation": "v",
         "showlegend": true,
         "type": "scatter",
         "x": [
          2012,
          2013,
          2014,
          2015,
          2016,
          2017,
          2018,
          2019
         ],
         "xaxis": "x",
         "y": [
          195,
          300,
          100,
          80,
          116,
          272,
          24,
          359
         ],
         "yaxis": "y"
        },
        {
         "hovertemplate": "wineName=Chateau Angelus Premier Grand Cru Classe B, Saint-Emilion Grand Cru<br>vintage_x=%{x}<br>mk_price_minus_bmk_price=%{y}<extra></extra>",
         "legendgroup": "Chateau Angelus Premier Grand Cru Classe B, Saint-Emilion Grand Cru",
         "line": {
          "color": "#EF553B",
          "dash": "solid"
         },
         "mode": "lines",
         "name": "Chateau Angelus Premier Grand Cru Classe B, Saint-Emilion Grand Cru",
         "orientation": "v",
         "showlegend": true,
         "type": "scatter",
         "x": [
          2001,
          2002,
          2003,
          2004,
          2005,
          2006,
          2007,
          2008,
          2009,
          2010,
          2011
         ],
         "xaxis": "x",
         "y": [
          499,
          363,
          145,
          442,
          -125,
          250,
          190,
          245,
          295,
          50,
          590
         ],
         "yaxis": "y"
        },
        {
         "hovertemplate": "wineName=Chateau Batailley 5eme Cru Classe, Pauillac<br>vintage_x=%{x}<br>mk_price_minus_bmk_price=%{y}<extra></extra>",
         "legendgroup": "Chateau Batailley 5eme Cru Classe, Pauillac",
         "line": {
          "color": "#00cc96",
          "dash": "solid"
         },
         "mode": "lines",
         "name": "Chateau Batailley 5eme Cru Classe, Pauillac",
         "orientation": "v",
         "showlegend": true,
         "type": "scatter",
         "x": [
          2001,
          2002,
          2003,
          2004,
          2005,
          2006,
          2007,
          2008,
          2009,
          2010,
          2011,
          2012,
          2013,
          2014,
          2015,
          2016,
          2018
         ],
         "xaxis": "x",
         "y": [
          3,
          230,
          130,
          225,
          80,
          -112,
          110,
          68,
          -14,
          -4,
          100,
          45,
          -4,
          26,
          184,
          117,
          51
         ],
         "yaxis": "y"
        },
        {
         "hovertemplate": "wineName=Chateau Calon Segur 3eme Cru Classe, Saint-Estephe<br>vintage_x=%{x}<br>mk_price_minus_bmk_price=%{y}<extra></extra>",
         "legendgroup": "Chateau Calon Segur 3eme Cru Classe, Saint-Estephe",
         "line": {
          "color": "#ab63fa",
          "dash": "solid"
         },
         "mode": "lines",
         "name": "Chateau Calon Segur 3eme Cru Classe, Saint-Estephe",
         "orientation": "v",
         "showlegend": true,
         "type": "scatter",
         "x": [
          2001,
          2002,
          2003,
          2004,
          2005,
          2006,
          2007,
          2008,
          2009,
          2010,
          2011,
          2012,
          2013,
          2014,
          2015,
          2016,
          2017,
          2018,
          2019
         ],
         "xaxis": "x",
         "y": [
          102,
          165,
          100,
          55,
          12,
          37,
          155,
          59,
          -51,
          0,
          -40,
          85,
          98,
          -4,
          -10,
          34,
          -22,
          90,
          108
         ],
         "yaxis": "y"
        },
        {
         "hovertemplate": "wineName=Chateau Margaux Premier Cru Classe, Margaux<br>vintage_x=%{x}<br>mk_price_minus_bmk_price=%{y}<extra></extra>",
         "legendgroup": "Chateau Margaux Premier Cru Classe, Margaux",
         "line": {
          "color": "#FFA15A",
          "dash": "solid"
         },
         "mode": "lines",
         "name": "Chateau Margaux Premier Cru Classe, Margaux",
         "orientation": "v",
         "showlegend": true,
         "type": "scatter",
         "x": [
          2001,
          2002,
          2003,
          2004,
          2005,
          2006,
          2007,
          2008,
          2009,
          2010,
          2011,
          2012,
          2013,
          2014,
          2015,
          2016,
          2017,
          2018,
          2019
         ],
         "xaxis": "x",
         "y": [
          0,
          216,
          50,
          -290,
          134,
          110,
          35,
          40,
          -256,
          328,
          68,
          240,
          180,
          240,
          656,
          177,
          0,
          265,
          660
         ],
         "yaxis": "y"
        },
        {
         "hovertemplate": "wineName=Domaine Denis Mortet, Chambertin Grand Cru<br>vintage_x=%{x}<br>mk_price_minus_bmk_price=%{y}<extra></extra>",
         "legendgroup": "Domaine Denis Mortet, Chambertin Grand Cru",
         "line": {
          "color": "#19d3f3",
          "dash": "solid"
         },
         "mode": "lines",
         "name": "Domaine Denis Mortet, Chambertin Grand Cru",
         "orientation": "v",
         "showlegend": true,
         "type": "scatter",
         "x": [
          2013,
          2014,
          2017
         ],
         "xaxis": "x",
         "y": [
          6650,
          1200,
          726
         ],
         "yaxis": "y"
        },
        {
         "hovertemplate": "wineName=Domaine Leflaive, Chevalier-Montrachet Grand Cru<br>vintage_x=%{x}<br>mk_price_minus_bmk_price=%{y}<extra></extra>",
         "legendgroup": "Domaine Leflaive, Chevalier-Montrachet Grand Cru",
         "line": {
          "color": "#FF6692",
          "dash": "solid"
         },
         "mode": "lines",
         "name": "Domaine Leflaive, Chevalier-Montrachet Grand Cru",
         "orientation": "v",
         "showlegend": true,
         "type": "scatter",
         "x": [
          2001,
          2003,
          2005,
          2006,
          2007,
          2008,
          2009,
          2010,
          2011,
          2012,
          2013,
          2014,
          2015,
          2016,
          2017,
          2018
         ],
         "xaxis": "x",
         "y": [
          -728,
          5070,
          495,
          2632,
          2700,
          3600,
          1640,
          2440,
          -500,
          1860,
          1200,
          1950,
          -1504,
          782,
          1026,
          470
         ],
         "yaxis": "y"
        },
        {
         "hovertemplate": "wineName=Gaja, Barbaresco<br>vintage_x=%{x}<br>mk_price_minus_bmk_price=%{y}<extra></extra>",
         "legendgroup": "Gaja, Barbaresco",
         "line": {
          "color": "#B6E880",
          "dash": "solid"
         },
         "mode": "lines",
         "name": "Gaja, Barbaresco",
         "orientation": "v",
         "showlegend": true,
         "type": "scatter",
         "x": [
          2001,
          2003,
          2004,
          2005,
          2006,
          2007,
          2008,
          2009,
          2010,
          2011,
          2012,
          2013,
          2014,
          2015,
          2016,
          2017
         ],
         "xaxis": "x",
         "y": [
          280,
          451,
          70,
          670,
          318,
          500,
          425,
          859,
          360,
          -2,
          250,
          124,
          -1,
          90,
          92,
          124
         ],
         "yaxis": "y"
        },
        {
         "hovertemplate": "wineName=Jacques-Frederic Mugnier, Chambolle-Musigny Premier Cru, Les Amoureuses<br>vintage_x=%{x}<br>mk_price_minus_bmk_price=%{y}<extra></extra>",
         "legendgroup": "Jacques-Frederic Mugnier, Chambolle-Musigny Premier Cru, Les Amoureuses",
         "line": {
          "color": "#FF97FF",
          "dash": "solid"
         },
         "mode": "lines",
         "name": "Jacques-Frederic Mugnier, Chambolle-Musigny Premier Cru, Les Amoureuses",
         "orientation": "v",
         "showlegend": true,
         "type": "scatter",
         "x": [
          2011,
          2012,
          2014,
          2015,
          2017
         ],
         "xaxis": "x",
         "y": [
          -448,
          10642,
          2520,
          -3984,
          4000
         ],
         "yaxis": "y"
        },
        {
         "hovertemplate": "wineName=Tignanello, Toscana<br>vintage_x=%{x}<br>mk_price_minus_bmk_price=%{y}<extra></extra>",
         "legendgroup": "Tignanello, Toscana",
         "line": {
          "color": "#FECB52",
          "dash": "solid"
         },
         "mode": "lines",
         "name": "Tignanello, Toscana",
         "orientation": "v",
         "showlegend": true,
         "type": "scatter",
         "x": [
          2001,
          2003,
          2004,
          2005,
          2006,
          2007,
          2008,
          2009,
          2010,
          2011,
          2012,
          2013,
          2014,
          2015,
          2016,
          2017,
          2018
         ],
         "xaxis": "x",
         "y": [
          322,
          363,
          498,
          258,
          170,
          100,
          90,
          -48,
          156,
          98,
          110,
          140,
          150,
          -94,
          118,
          57,
          -50
         ],
         "yaxis": "y"
        },
        {
         "hovertemplate": "wineName=Tua Rita, Giusto di Notri, Toscana<br>vintage_x=%{x}<br>mk_price_minus_bmk_price=%{y}<extra></extra>",
         "legendgroup": "Tua Rita, Giusto di Notri, Toscana",
         "line": {
          "color": "#636efa",
          "dash": "solid"
         },
         "mode": "lines",
         "name": "Tua Rita, Giusto di Notri, Toscana",
         "orientation": "v",
         "showlegend": true,
         "type": "scatter",
         "x": [
          2004,
          2006,
          2007,
          2008,
          2011,
          2012,
          2013,
          2015,
          2016,
          2017,
          2018
         ],
         "xaxis": "x",
         "y": [
          223,
          270,
          240,
          60,
          78,
          192,
          -4,
          87,
          40,
          167,
          100
         ],
         "yaxis": "y"
        }
       ],
       "layout": {
        "legend": {
         "title": {
          "text": "wineName"
         },
         "tracegroupgap": 0
        },
        "margin": {
         "t": 60
        },
        "template": {
         "data": {
          "bar": [
           {
            "error_x": {
             "color": "#2a3f5f"
            },
            "error_y": {
             "color": "#2a3f5f"
            },
            "marker": {
             "line": {
              "color": "#E5ECF6",
              "width": 0.5
             }
            },
            "type": "bar"
           }
          ],
          "barpolar": [
           {
            "marker": {
             "line": {
              "color": "#E5ECF6",
              "width": 0.5
             }
            },
            "type": "barpolar"
           }
          ],
          "carpet": [
           {
            "aaxis": {
             "endlinecolor": "#2a3f5f",
             "gridcolor": "white",
             "linecolor": "white",
             "minorgridcolor": "white",
             "startlinecolor": "#2a3f5f"
            },
            "baxis": {
             "endlinecolor": "#2a3f5f",
             "gridcolor": "white",
             "linecolor": "white",
             "minorgridcolor": "white",
             "startlinecolor": "#2a3f5f"
            },
            "type": "carpet"
           }
          ],
          "choropleth": [
           {
            "colorbar": {
             "outlinewidth": 0,
             "ticks": ""
            },
            "type": "choropleth"
           }
          ],
          "contour": [
           {
            "colorbar": {
             "outlinewidth": 0,
             "ticks": ""
            },
            "colorscale": [
             [
              0,
              "#0d0887"
             ],
             [
              0.1111111111111111,
              "#46039f"
             ],
             [
              0.2222222222222222,
              "#7201a8"
             ],
             [
              0.3333333333333333,
              "#9c179e"
             ],
             [
              0.4444444444444444,
              "#bd3786"
             ],
             [
              0.5555555555555556,
              "#d8576b"
             ],
             [
              0.6666666666666666,
              "#ed7953"
             ],
             [
              0.7777777777777778,
              "#fb9f3a"
             ],
             [
              0.8888888888888888,
              "#fdca26"
             ],
             [
              1,
              "#f0f921"
             ]
            ],
            "type": "contour"
           }
          ],
          "contourcarpet": [
           {
            "colorbar": {
             "outlinewidth": 0,
             "ticks": ""
            },
            "type": "contourcarpet"
           }
          ],
          "heatmap": [
           {
            "colorbar": {
             "outlinewidth": 0,
             "ticks": ""
            },
            "colorscale": [
             [
              0,
              "#0d0887"
             ],
             [
              0.1111111111111111,
              "#46039f"
             ],
             [
              0.2222222222222222,
              "#7201a8"
             ],
             [
              0.3333333333333333,
              "#9c179e"
             ],
             [
              0.4444444444444444,
              "#bd3786"
             ],
             [
              0.5555555555555556,
              "#d8576b"
             ],
             [
              0.6666666666666666,
              "#ed7953"
             ],
             [
              0.7777777777777778,
              "#fb9f3a"
             ],
             [
              0.8888888888888888,
              "#fdca26"
             ],
             [
              1,
              "#f0f921"
             ]
            ],
            "type": "heatmap"
           }
          ],
          "heatmapgl": [
           {
            "colorbar": {
             "outlinewidth": 0,
             "ticks": ""
            },
            "colorscale": [
             [
              0,
              "#0d0887"
             ],
             [
              0.1111111111111111,
              "#46039f"
             ],
             [
              0.2222222222222222,
              "#7201a8"
             ],
             [
              0.3333333333333333,
              "#9c179e"
             ],
             [
              0.4444444444444444,
              "#bd3786"
             ],
             [
              0.5555555555555556,
              "#d8576b"
             ],
             [
              0.6666666666666666,
              "#ed7953"
             ],
             [
              0.7777777777777778,
              "#fb9f3a"
             ],
             [
              0.8888888888888888,
              "#fdca26"
             ],
             [
              1,
              "#f0f921"
             ]
            ],
            "type": "heatmapgl"
           }
          ],
          "histogram": [
           {
            "marker": {
             "colorbar": {
              "outlinewidth": 0,
              "ticks": ""
             }
            },
            "type": "histogram"
           }
          ],
          "histogram2d": [
           {
            "colorbar": {
             "outlinewidth": 0,
             "ticks": ""
            },
            "colorscale": [
             [
              0,
              "#0d0887"
             ],
             [
              0.1111111111111111,
              "#46039f"
             ],
             [
              0.2222222222222222,
              "#7201a8"
             ],
             [
              0.3333333333333333,
              "#9c179e"
             ],
             [
              0.4444444444444444,
              "#bd3786"
             ],
             [
              0.5555555555555556,
              "#d8576b"
             ],
             [
              0.6666666666666666,
              "#ed7953"
             ],
             [
              0.7777777777777778,
              "#fb9f3a"
             ],
             [
              0.8888888888888888,
              "#fdca26"
             ],
             [
              1,
              "#f0f921"
             ]
            ],
            "type": "histogram2d"
           }
          ],
          "histogram2dcontour": [
           {
            "colorbar": {
             "outlinewidth": 0,
             "ticks": ""
            },
            "colorscale": [
             [
              0,
              "#0d0887"
             ],
             [
              0.1111111111111111,
              "#46039f"
             ],
             [
              0.2222222222222222,
              "#7201a8"
             ],
             [
              0.3333333333333333,
              "#9c179e"
             ],
             [
              0.4444444444444444,
              "#bd3786"
             ],
             [
              0.5555555555555556,
              "#d8576b"
             ],
             [
              0.6666666666666666,
              "#ed7953"
             ],
             [
              0.7777777777777778,
              "#fb9f3a"
             ],
             [
              0.8888888888888888,
              "#fdca26"
             ],
             [
              1,
              "#f0f921"
             ]
            ],
            "type": "histogram2dcontour"
           }
          ],
          "mesh3d": [
           {
            "colorbar": {
             "outlinewidth": 0,
             "ticks": ""
            },
            "type": "mesh3d"
           }
          ],
          "parcoords": [
           {
            "line": {
             "colorbar": {
              "outlinewidth": 0,
              "ticks": ""
             }
            },
            "type": "parcoords"
           }
          ],
          "pie": [
           {
            "automargin": true,
            "type": "pie"
           }
          ],
          "scatter": [
           {
            "marker": {
             "colorbar": {
              "outlinewidth": 0,
              "ticks": ""
             }
            },
            "type": "scatter"
           }
          ],
          "scatter3d": [
           {
            "line": {
             "colorbar": {
              "outlinewidth": 0,
              "ticks": ""
             }
            },
            "marker": {
             "colorbar": {
              "outlinewidth": 0,
              "ticks": ""
             }
            },
            "type": "scatter3d"
           }
          ],
          "scattercarpet": [
           {
            "marker": {
             "colorbar": {
              "outlinewidth": 0,
              "ticks": ""
             }
            },
            "type": "scattercarpet"
           }
          ],
          "scattergeo": [
           {
            "marker": {
             "colorbar": {
              "outlinewidth": 0,
              "ticks": ""
             }
            },
            "type": "scattergeo"
           }
          ],
          "scattergl": [
           {
            "marker": {
             "colorbar": {
              "outlinewidth": 0,
              "ticks": ""
             }
            },
            "type": "scattergl"
           }
          ],
          "scattermapbox": [
           {
            "marker": {
             "colorbar": {
              "outlinewidth": 0,
              "ticks": ""
             }
            },
            "type": "scattermapbox"
           }
          ],
          "scatterpolar": [
           {
            "marker": {
             "colorbar": {
              "outlinewidth": 0,
              "ticks": ""
             }
            },
            "type": "scatterpolar"
           }
          ],
          "scatterpolargl": [
           {
            "marker": {
             "colorbar": {
              "outlinewidth": 0,
              "ticks": ""
             }
            },
            "type": "scatterpolargl"
           }
          ],
          "scatterternary": [
           {
            "marker": {
             "colorbar": {
              "outlinewidth": 0,
              "ticks": ""
             }
            },
            "type": "scatterternary"
           }
          ],
          "surface": [
           {
            "colorbar": {
             "outlinewidth": 0,
             "ticks": ""
            },
            "colorscale": [
             [
              0,
              "#0d0887"
             ],
             [
              0.1111111111111111,
              "#46039f"
             ],
             [
              0.2222222222222222,
              "#7201a8"
             ],
             [
              0.3333333333333333,
              "#9c179e"
             ],
             [
              0.4444444444444444,
              "#bd3786"
             ],
             [
              0.5555555555555556,
              "#d8576b"
             ],
             [
              0.6666666666666666,
              "#ed7953"
             ],
             [
              0.7777777777777778,
              "#fb9f3a"
             ],
             [
              0.8888888888888888,
              "#fdca26"
             ],
             [
              1,
              "#f0f921"
             ]
            ],
            "type": "surface"
           }
          ],
          "table": [
           {
            "cells": {
             "fill": {
              "color": "#EBF0F8"
             },
             "line": {
              "color": "white"
             }
            },
            "header": {
             "fill": {
              "color": "#C8D4E3"
             },
             "line": {
              "color": "white"
             }
            },
            "type": "table"
           }
          ]
         },
         "layout": {
          "annotationdefaults": {
           "arrowcolor": "#2a3f5f",
           "arrowhead": 0,
           "arrowwidth": 1
          },
          "autotypenumbers": "strict",
          "coloraxis": {
           "colorbar": {
            "outlinewidth": 0,
            "ticks": ""
           }
          },
          "colorscale": {
           "diverging": [
            [
             0,
             "#8e0152"
            ],
            [
             0.1,
             "#c51b7d"
            ],
            [
             0.2,
             "#de77ae"
            ],
            [
             0.3,
             "#f1b6da"
            ],
            [
             0.4,
             "#fde0ef"
            ],
            [
             0.5,
             "#f7f7f7"
            ],
            [
             0.6,
             "#e6f5d0"
            ],
            [
             0.7,
             "#b8e186"
            ],
            [
             0.8,
             "#7fbc41"
            ],
            [
             0.9,
             "#4d9221"
            ],
            [
             1,
             "#276419"
            ]
           ],
           "sequential": [
            [
             0,
             "#0d0887"
            ],
            [
             0.1111111111111111,
             "#46039f"
            ],
            [
             0.2222222222222222,
             "#7201a8"
            ],
            [
             0.3333333333333333,
             "#9c179e"
            ],
            [
             0.4444444444444444,
             "#bd3786"
            ],
            [
             0.5555555555555556,
             "#d8576b"
            ],
            [
             0.6666666666666666,
             "#ed7953"
            ],
            [
             0.7777777777777778,
             "#fb9f3a"
            ],
            [
             0.8888888888888888,
             "#fdca26"
            ],
            [
             1,
             "#f0f921"
            ]
           ],
           "sequentialminus": [
            [
             0,
             "#0d0887"
            ],
            [
             0.1111111111111111,
             "#46039f"
            ],
            [
             0.2222222222222222,
             "#7201a8"
            ],
            [
             0.3333333333333333,
             "#9c179e"
            ],
            [
             0.4444444444444444,
             "#bd3786"
            ],
            [
             0.5555555555555556,
             "#d8576b"
            ],
            [
             0.6666666666666666,
             "#ed7953"
            ],
            [
             0.7777777777777778,
             "#fb9f3a"
            ],
            [
             0.8888888888888888,
             "#fdca26"
            ],
            [
             1,
             "#f0f921"
            ]
           ]
          },
          "colorway": [
           "#636efa",
           "#EF553B",
           "#00cc96",
           "#ab63fa",
           "#FFA15A",
           "#19d3f3",
           "#FF6692",
           "#B6E880",
           "#FF97FF",
           "#FECB52"
          ],
          "font": {
           "color": "#2a3f5f"
          },
          "geo": {
           "bgcolor": "white",
           "lakecolor": "white",
           "landcolor": "#E5ECF6",
           "showlakes": true,
           "showland": true,
           "subunitcolor": "white"
          },
          "hoverlabel": {
           "align": "left"
          },
          "hovermode": "closest",
          "mapbox": {
           "style": "light"
          },
          "paper_bgcolor": "white",
          "plot_bgcolor": "#E5ECF6",
          "polar": {
           "angularaxis": {
            "gridcolor": "white",
            "linecolor": "white",
            "ticks": ""
           },
           "bgcolor": "#E5ECF6",
           "radialaxis": {
            "gridcolor": "white",
            "linecolor": "white",
            "ticks": ""
           }
          },
          "scene": {
           "xaxis": {
            "backgroundcolor": "#E5ECF6",
            "gridcolor": "white",
            "gridwidth": 2,
            "linecolor": "white",
            "showbackground": true,
            "ticks": "",
            "zerolinecolor": "white"
           },
           "yaxis": {
            "backgroundcolor": "#E5ECF6",
            "gridcolor": "white",
            "gridwidth": 2,
            "linecolor": "white",
            "showbackground": true,
            "ticks": "",
            "zerolinecolor": "white"
           },
           "zaxis": {
            "backgroundcolor": "#E5ECF6",
            "gridcolor": "white",
            "gridwidth": 2,
            "linecolor": "white",
            "showbackground": true,
            "ticks": "",
            "zerolinecolor": "white"
           }
          },
          "shapedefaults": {
           "line": {
            "color": "#2a3f5f"
           }
          },
          "ternary": {
           "aaxis": {
            "gridcolor": "white",
            "linecolor": "white",
            "ticks": ""
           },
           "baxis": {
            "gridcolor": "white",
            "linecolor": "white",
            "ticks": ""
           },
           "bgcolor": "#E5ECF6",
           "caxis": {
            "gridcolor": "white",
            "linecolor": "white",
            "ticks": ""
           }
          },
          "title": {
           "x": 0.05
          },
          "xaxis": {
           "automargin": true,
           "gridcolor": "white",
           "linecolor": "white",
           "ticks": "",
           "title": {
            "standoff": 15
           },
           "zerolinecolor": "white",
           "zerolinewidth": 2
          },
          "yaxis": {
           "automargin": true,
           "gridcolor": "white",
           "linecolor": "white",
           "ticks": "",
           "title": {
            "standoff": 15
           },
           "zerolinecolor": "white",
           "zerolinewidth": 2
          }
         }
        },
        "xaxis": {
         "anchor": "y",
         "domain": [
          0,
          1
         ],
         "title": {
          "text": "vintage_x"
         }
        },
        "yaxis": {
         "anchor": "x",
         "domain": [
          0,
          1
         ],
         "title": {
          "text": "mk_price_minus_bmk_price"
         }
        }
       }
      },
      "text/html": [
       "<div>                            <div id=\"de79aa62-6061-4c40-8d8d-62380d698d38\" class=\"plotly-graph-div\" style=\"height:525px; width:100%;\"></div>            <script type=\"text/javascript\">                require([\"plotly\"], function(Plotly) {                    window.PLOTLYENV=window.PLOTLYENV || {};                                    if (document.getElementById(\"de79aa62-6061-4c40-8d8d-62380d698d38\")) {                    Plotly.newPlot(                        \"de79aa62-6061-4c40-8d8d-62380d698d38\",                        [{\"hovertemplate\": \"wineName=Chateau Angelus Premier Grand Cru Classe A, Saint-Emilion Grand Cru<br>vintage_x=%{x}<br>mk_price_minus_bmk_price=%{y}<extra></extra>\", \"legendgroup\": \"Chateau Angelus Premier Grand Cru Classe A, Saint-Emilion Grand Cru\", \"line\": {\"color\": \"#636efa\", \"dash\": \"solid\"}, \"mode\": \"lines\", \"name\": \"Chateau Angelus Premier Grand Cru Classe A, Saint-Emilion Grand Cru\", \"orientation\": \"v\", \"showlegend\": true, \"type\": \"scatter\", \"x\": [2012, 2013, 2014, 2015, 2016, 2017, 2018, 2019], \"xaxis\": \"x\", \"y\": [195, 300, 100, 80, 116, 272, 24, 359], \"yaxis\": \"y\"}, {\"hovertemplate\": \"wineName=Chateau Angelus Premier Grand Cru Classe B, Saint-Emilion Grand Cru<br>vintage_x=%{x}<br>mk_price_minus_bmk_price=%{y}<extra></extra>\", \"legendgroup\": \"Chateau Angelus Premier Grand Cru Classe B, Saint-Emilion Grand Cru\", \"line\": {\"color\": \"#EF553B\", \"dash\": \"solid\"}, \"mode\": \"lines\", \"name\": \"Chateau Angelus Premier Grand Cru Classe B, Saint-Emilion Grand Cru\", \"orientation\": \"v\", \"showlegend\": true, \"type\": \"scatter\", \"x\": [2001, 2002, 2003, 2004, 2005, 2006, 2007, 2008, 2009, 2010, 2011], \"xaxis\": \"x\", \"y\": [499, 363, 145, 442, -125, 250, 190, 245, 295, 50, 590], \"yaxis\": \"y\"}, {\"hovertemplate\": \"wineName=Chateau Batailley 5eme Cru Classe, Pauillac<br>vintage_x=%{x}<br>mk_price_minus_bmk_price=%{y}<extra></extra>\", \"legendgroup\": \"Chateau Batailley 5eme Cru Classe, Pauillac\", \"line\": {\"color\": \"#00cc96\", \"dash\": \"solid\"}, \"mode\": \"lines\", \"name\": \"Chateau Batailley 5eme Cru Classe, Pauillac\", \"orientation\": \"v\", \"showlegend\": true, \"type\": \"scatter\", \"x\": [2001, 2002, 2003, 2004, 2005, 2006, 2007, 2008, 2009, 2010, 2011, 2012, 2013, 2014, 2015, 2016, 2018], \"xaxis\": \"x\", \"y\": [3, 230, 130, 225, 80, -112, 110, 68, -14, -4, 100, 45, -4, 26, 184, 117, 51], \"yaxis\": \"y\"}, {\"hovertemplate\": \"wineName=Chateau Calon Segur 3eme Cru Classe, Saint-Estephe<br>vintage_x=%{x}<br>mk_price_minus_bmk_price=%{y}<extra></extra>\", \"legendgroup\": \"Chateau Calon Segur 3eme Cru Classe, Saint-Estephe\", \"line\": {\"color\": \"#ab63fa\", \"dash\": \"solid\"}, \"mode\": \"lines\", \"name\": \"Chateau Calon Segur 3eme Cru Classe, Saint-Estephe\", \"orientation\": \"v\", \"showlegend\": true, \"type\": \"scatter\", \"x\": [2001, 2002, 2003, 2004, 2005, 2006, 2007, 2008, 2009, 2010, 2011, 2012, 2013, 2014, 2015, 2016, 2017, 2018, 2019], \"xaxis\": \"x\", \"y\": [102, 165, 100, 55, 12, 37, 155, 59, -51, 0, -40, 85, 98, -4, -10, 34, -22, 90, 108], \"yaxis\": \"y\"}, {\"hovertemplate\": \"wineName=Chateau Margaux Premier Cru Classe, Margaux<br>vintage_x=%{x}<br>mk_price_minus_bmk_price=%{y}<extra></extra>\", \"legendgroup\": \"Chateau Margaux Premier Cru Classe, Margaux\", \"line\": {\"color\": \"#FFA15A\", \"dash\": \"solid\"}, \"mode\": \"lines\", \"name\": \"Chateau Margaux Premier Cru Classe, Margaux\", \"orientation\": \"v\", \"showlegend\": true, \"type\": \"scatter\", \"x\": [2001, 2002, 2003, 2004, 2005, 2006, 2007, 2008, 2009, 2010, 2011, 2012, 2013, 2014, 2015, 2016, 2017, 2018, 2019], \"xaxis\": \"x\", \"y\": [0, 216, 50, -290, 134, 110, 35, 40, -256, 328, 68, 240, 180, 240, 656, 177, 0, 265, 660], \"yaxis\": \"y\"}, {\"hovertemplate\": \"wineName=Domaine Denis Mortet, Chambertin Grand Cru<br>vintage_x=%{x}<br>mk_price_minus_bmk_price=%{y}<extra></extra>\", \"legendgroup\": \"Domaine Denis Mortet, Chambertin Grand Cru\", \"line\": {\"color\": \"#19d3f3\", \"dash\": \"solid\"}, \"mode\": \"lines\", \"name\": \"Domaine Denis Mortet, Chambertin Grand Cru\", \"orientation\": \"v\", \"showlegend\": true, \"type\": \"scatter\", \"x\": [2013, 2014, 2017], \"xaxis\": \"x\", \"y\": [6650, 1200, 726], \"yaxis\": \"y\"}, {\"hovertemplate\": \"wineName=Domaine Leflaive, Chevalier-Montrachet Grand Cru<br>vintage_x=%{x}<br>mk_price_minus_bmk_price=%{y}<extra></extra>\", \"legendgroup\": \"Domaine Leflaive, Chevalier-Montrachet Grand Cru\", \"line\": {\"color\": \"#FF6692\", \"dash\": \"solid\"}, \"mode\": \"lines\", \"name\": \"Domaine Leflaive, Chevalier-Montrachet Grand Cru\", \"orientation\": \"v\", \"showlegend\": true, \"type\": \"scatter\", \"x\": [2001, 2003, 2005, 2006, 2007, 2008, 2009, 2010, 2011, 2012, 2013, 2014, 2015, 2016, 2017, 2018], \"xaxis\": \"x\", \"y\": [-728, 5070, 495, 2632, 2700, 3600, 1640, 2440, -500, 1860, 1200, 1950, -1504, 782, 1026, 470], \"yaxis\": \"y\"}, {\"hovertemplate\": \"wineName=Gaja, Barbaresco<br>vintage_x=%{x}<br>mk_price_minus_bmk_price=%{y}<extra></extra>\", \"legendgroup\": \"Gaja, Barbaresco\", \"line\": {\"color\": \"#B6E880\", \"dash\": \"solid\"}, \"mode\": \"lines\", \"name\": \"Gaja, Barbaresco\", \"orientation\": \"v\", \"showlegend\": true, \"type\": \"scatter\", \"x\": [2001, 2003, 2004, 2005, 2006, 2007, 2008, 2009, 2010, 2011, 2012, 2013, 2014, 2015, 2016, 2017], \"xaxis\": \"x\", \"y\": [280, 451, 70, 670, 318, 500, 425, 859, 360, -2, 250, 124, -1, 90, 92, 124], \"yaxis\": \"y\"}, {\"hovertemplate\": \"wineName=Jacques-Frederic Mugnier, Chambolle-Musigny Premier Cru, Les Amoureuses<br>vintage_x=%{x}<br>mk_price_minus_bmk_price=%{y}<extra></extra>\", \"legendgroup\": \"Jacques-Frederic Mugnier, Chambolle-Musigny Premier Cru, Les Amoureuses\", \"line\": {\"color\": \"#FF97FF\", \"dash\": \"solid\"}, \"mode\": \"lines\", \"name\": \"Jacques-Frederic Mugnier, Chambolle-Musigny Premier Cru, Les Amoureuses\", \"orientation\": \"v\", \"showlegend\": true, \"type\": \"scatter\", \"x\": [2011, 2012, 2014, 2015, 2017], \"xaxis\": \"x\", \"y\": [-448, 10642, 2520, -3984, 4000], \"yaxis\": \"y\"}, {\"hovertemplate\": \"wineName=Tignanello, Toscana<br>vintage_x=%{x}<br>mk_price_minus_bmk_price=%{y}<extra></extra>\", \"legendgroup\": \"Tignanello, Toscana\", \"line\": {\"color\": \"#FECB52\", \"dash\": \"solid\"}, \"mode\": \"lines\", \"name\": \"Tignanello, Toscana\", \"orientation\": \"v\", \"showlegend\": true, \"type\": \"scatter\", \"x\": [2001, 2003, 2004, 2005, 2006, 2007, 2008, 2009, 2010, 2011, 2012, 2013, 2014, 2015, 2016, 2017, 2018], \"xaxis\": \"x\", \"y\": [322, 363, 498, 258, 170, 100, 90, -48, 156, 98, 110, 140, 150, -94, 118, 57, -50], \"yaxis\": \"y\"}, {\"hovertemplate\": \"wineName=Tua Rita, Giusto di Notri, Toscana<br>vintage_x=%{x}<br>mk_price_minus_bmk_price=%{y}<extra></extra>\", \"legendgroup\": \"Tua Rita, Giusto di Notri, Toscana\", \"line\": {\"color\": \"#636efa\", \"dash\": \"solid\"}, \"mode\": \"lines\", \"name\": \"Tua Rita, Giusto di Notri, Toscana\", \"orientation\": \"v\", \"showlegend\": true, \"type\": \"scatter\", \"x\": [2004, 2006, 2007, 2008, 2011, 2012, 2013, 2015, 2016, 2017, 2018], \"xaxis\": \"x\", \"y\": [223, 270, 240, 60, 78, 192, -4, 87, 40, 167, 100], \"yaxis\": \"y\"}],                        {\"legend\": {\"title\": {\"text\": \"wineName\"}, \"tracegroupgap\": 0}, \"margin\": {\"t\": 60}, \"template\": {\"data\": {\"bar\": [{\"error_x\": {\"color\": \"#2a3f5f\"}, \"error_y\": {\"color\": \"#2a3f5f\"}, \"marker\": {\"line\": {\"color\": \"#E5ECF6\", \"width\": 0.5}}, \"type\": \"bar\"}], \"barpolar\": [{\"marker\": {\"line\": {\"color\": \"#E5ECF6\", \"width\": 0.5}}, \"type\": \"barpolar\"}], \"carpet\": [{\"aaxis\": {\"endlinecolor\": \"#2a3f5f\", \"gridcolor\": \"white\", \"linecolor\": \"white\", \"minorgridcolor\": \"white\", \"startlinecolor\": \"#2a3f5f\"}, \"baxis\": {\"endlinecolor\": \"#2a3f5f\", \"gridcolor\": \"white\", \"linecolor\": \"white\", \"minorgridcolor\": \"white\", \"startlinecolor\": \"#2a3f5f\"}, \"type\": \"carpet\"}], \"choropleth\": [{\"colorbar\": {\"outlinewidth\": 0, \"ticks\": \"\"}, \"type\": \"choropleth\"}], \"contour\": [{\"colorbar\": {\"outlinewidth\": 0, \"ticks\": \"\"}, \"colorscale\": [[0.0, \"#0d0887\"], [0.1111111111111111, \"#46039f\"], [0.2222222222222222, \"#7201a8\"], [0.3333333333333333, \"#9c179e\"], [0.4444444444444444, \"#bd3786\"], [0.5555555555555556, \"#d8576b\"], [0.6666666666666666, \"#ed7953\"], [0.7777777777777778, \"#fb9f3a\"], [0.8888888888888888, \"#fdca26\"], [1.0, \"#f0f921\"]], \"type\": \"contour\"}], \"contourcarpet\": [{\"colorbar\": {\"outlinewidth\": 0, \"ticks\": \"\"}, \"type\": \"contourcarpet\"}], \"heatmap\": [{\"colorbar\": {\"outlinewidth\": 0, \"ticks\": \"\"}, \"colorscale\": [[0.0, \"#0d0887\"], [0.1111111111111111, \"#46039f\"], [0.2222222222222222, \"#7201a8\"], [0.3333333333333333, \"#9c179e\"], [0.4444444444444444, \"#bd3786\"], [0.5555555555555556, \"#d8576b\"], [0.6666666666666666, \"#ed7953\"], [0.7777777777777778, \"#fb9f3a\"], [0.8888888888888888, \"#fdca26\"], [1.0, \"#f0f921\"]], \"type\": \"heatmap\"}], \"heatmapgl\": [{\"colorbar\": {\"outlinewidth\": 0, \"ticks\": \"\"}, \"colorscale\": [[0.0, \"#0d0887\"], [0.1111111111111111, \"#46039f\"], [0.2222222222222222, \"#7201a8\"], [0.3333333333333333, \"#9c179e\"], [0.4444444444444444, \"#bd3786\"], [0.5555555555555556, \"#d8576b\"], [0.6666666666666666, \"#ed7953\"], [0.7777777777777778, \"#fb9f3a\"], [0.8888888888888888, \"#fdca26\"], [1.0, \"#f0f921\"]], \"type\": \"heatmapgl\"}], \"histogram\": [{\"marker\": {\"colorbar\": {\"outlinewidth\": 0, \"ticks\": \"\"}}, \"type\": \"histogram\"}], \"histogram2d\": [{\"colorbar\": {\"outlinewidth\": 0, \"ticks\": \"\"}, \"colorscale\": [[0.0, \"#0d0887\"], [0.1111111111111111, \"#46039f\"], [0.2222222222222222, \"#7201a8\"], [0.3333333333333333, \"#9c179e\"], [0.4444444444444444, \"#bd3786\"], [0.5555555555555556, \"#d8576b\"], [0.6666666666666666, \"#ed7953\"], [0.7777777777777778, \"#fb9f3a\"], [0.8888888888888888, \"#fdca26\"], [1.0, \"#f0f921\"]], \"type\": \"histogram2d\"}], \"histogram2dcontour\": [{\"colorbar\": {\"outlinewidth\": 0, \"ticks\": \"\"}, \"colorscale\": [[0.0, \"#0d0887\"], [0.1111111111111111, \"#46039f\"], [0.2222222222222222, \"#7201a8\"], [0.3333333333333333, \"#9c179e\"], [0.4444444444444444, \"#bd3786\"], [0.5555555555555556, \"#d8576b\"], [0.6666666666666666, \"#ed7953\"], [0.7777777777777778, \"#fb9f3a\"], [0.8888888888888888, \"#fdca26\"], [1.0, \"#f0f921\"]], \"type\": \"histogram2dcontour\"}], \"mesh3d\": [{\"colorbar\": {\"outlinewidth\": 0, \"ticks\": \"\"}, \"type\": \"mesh3d\"}], \"parcoords\": [{\"line\": {\"colorbar\": {\"outlinewidth\": 0, \"ticks\": \"\"}}, \"type\": \"parcoords\"}], \"pie\": [{\"automargin\": true, \"type\": \"pie\"}], \"scatter\": [{\"marker\": {\"colorbar\": {\"outlinewidth\": 0, \"ticks\": \"\"}}, \"type\": \"scatter\"}], \"scatter3d\": [{\"line\": {\"colorbar\": {\"outlinewidth\": 0, \"ticks\": \"\"}}, \"marker\": {\"colorbar\": {\"outlinewidth\": 0, \"ticks\": \"\"}}, \"type\": \"scatter3d\"}], \"scattercarpet\": [{\"marker\": {\"colorbar\": {\"outlinewidth\": 0, \"ticks\": \"\"}}, \"type\": \"scattercarpet\"}], \"scattergeo\": [{\"marker\": {\"colorbar\": {\"outlinewidth\": 0, \"ticks\": \"\"}}, \"type\": \"scattergeo\"}], \"scattergl\": [{\"marker\": {\"colorbar\": {\"outlinewidth\": 0, \"ticks\": \"\"}}, \"type\": \"scattergl\"}], \"scattermapbox\": [{\"marker\": {\"colorbar\": {\"outlinewidth\": 0, \"ticks\": \"\"}}, \"type\": \"scattermapbox\"}], \"scatterpolar\": [{\"marker\": {\"colorbar\": {\"outlinewidth\": 0, \"ticks\": \"\"}}, \"type\": \"scatterpolar\"}], \"scatterpolargl\": [{\"marker\": {\"colorbar\": {\"outlinewidth\": 0, \"ticks\": \"\"}}, \"type\": \"scatterpolargl\"}], \"scatterternary\": [{\"marker\": {\"colorbar\": {\"outlinewidth\": 0, \"ticks\": \"\"}}, \"type\": \"scatterternary\"}], \"surface\": [{\"colorbar\": {\"outlinewidth\": 0, \"ticks\": \"\"}, \"colorscale\": [[0.0, \"#0d0887\"], [0.1111111111111111, \"#46039f\"], [0.2222222222222222, \"#7201a8\"], [0.3333333333333333, \"#9c179e\"], [0.4444444444444444, \"#bd3786\"], [0.5555555555555556, \"#d8576b\"], [0.6666666666666666, \"#ed7953\"], [0.7777777777777778, \"#fb9f3a\"], [0.8888888888888888, \"#fdca26\"], [1.0, \"#f0f921\"]], \"type\": \"surface\"}], \"table\": [{\"cells\": {\"fill\": {\"color\": \"#EBF0F8\"}, \"line\": {\"color\": \"white\"}}, \"header\": {\"fill\": {\"color\": \"#C8D4E3\"}, \"line\": {\"color\": \"white\"}}, \"type\": \"table\"}]}, \"layout\": {\"annotationdefaults\": {\"arrowcolor\": \"#2a3f5f\", \"arrowhead\": 0, \"arrowwidth\": 1}, \"autotypenumbers\": \"strict\", \"coloraxis\": {\"colorbar\": {\"outlinewidth\": 0, \"ticks\": \"\"}}, \"colorscale\": {\"diverging\": [[0, \"#8e0152\"], [0.1, \"#c51b7d\"], [0.2, \"#de77ae\"], [0.3, \"#f1b6da\"], [0.4, \"#fde0ef\"], [0.5, \"#f7f7f7\"], [0.6, \"#e6f5d0\"], [0.7, \"#b8e186\"], [0.8, \"#7fbc41\"], [0.9, \"#4d9221\"], [1, \"#276419\"]], \"sequential\": [[0.0, \"#0d0887\"], [0.1111111111111111, \"#46039f\"], [0.2222222222222222, \"#7201a8\"], [0.3333333333333333, \"#9c179e\"], [0.4444444444444444, \"#bd3786\"], [0.5555555555555556, \"#d8576b\"], [0.6666666666666666, \"#ed7953\"], [0.7777777777777778, \"#fb9f3a\"], [0.8888888888888888, \"#fdca26\"], [1.0, \"#f0f921\"]], \"sequentialminus\": [[0.0, \"#0d0887\"], [0.1111111111111111, \"#46039f\"], [0.2222222222222222, \"#7201a8\"], [0.3333333333333333, \"#9c179e\"], [0.4444444444444444, \"#bd3786\"], [0.5555555555555556, \"#d8576b\"], [0.6666666666666666, \"#ed7953\"], [0.7777777777777778, \"#fb9f3a\"], [0.8888888888888888, \"#fdca26\"], [1.0, \"#f0f921\"]]}, \"colorway\": [\"#636efa\", \"#EF553B\", \"#00cc96\", \"#ab63fa\", \"#FFA15A\", \"#19d3f3\", \"#FF6692\", \"#B6E880\", \"#FF97FF\", \"#FECB52\"], \"font\": {\"color\": \"#2a3f5f\"}, \"geo\": {\"bgcolor\": \"white\", \"lakecolor\": \"white\", \"landcolor\": \"#E5ECF6\", \"showlakes\": true, \"showland\": true, \"subunitcolor\": \"white\"}, \"hoverlabel\": {\"align\": \"left\"}, \"hovermode\": \"closest\", \"mapbox\": {\"style\": \"light\"}, \"paper_bgcolor\": \"white\", \"plot_bgcolor\": \"#E5ECF6\", \"polar\": {\"angularaxis\": {\"gridcolor\": \"white\", \"linecolor\": \"white\", \"ticks\": \"\"}, \"bgcolor\": \"#E5ECF6\", \"radialaxis\": {\"gridcolor\": \"white\", \"linecolor\": \"white\", \"ticks\": \"\"}}, \"scene\": {\"xaxis\": {\"backgroundcolor\": \"#E5ECF6\", \"gridcolor\": \"white\", \"gridwidth\": 2, \"linecolor\": \"white\", \"showbackground\": true, \"ticks\": \"\", \"zerolinecolor\": \"white\"}, \"yaxis\": {\"backgroundcolor\": \"#E5ECF6\", \"gridcolor\": \"white\", \"gridwidth\": 2, \"linecolor\": \"white\", \"showbackground\": true, \"ticks\": \"\", \"zerolinecolor\": \"white\"}, \"zaxis\": {\"backgroundcolor\": \"#E5ECF6\", \"gridcolor\": \"white\", \"gridwidth\": 2, \"linecolor\": \"white\", \"showbackground\": true, \"ticks\": \"\", \"zerolinecolor\": \"white\"}}, \"shapedefaults\": {\"line\": {\"color\": \"#2a3f5f\"}}, \"ternary\": {\"aaxis\": {\"gridcolor\": \"white\", \"linecolor\": \"white\", \"ticks\": \"\"}, \"baxis\": {\"gridcolor\": \"white\", \"linecolor\": \"white\", \"ticks\": \"\"}, \"bgcolor\": \"#E5ECF6\", \"caxis\": {\"gridcolor\": \"white\", \"linecolor\": \"white\", \"ticks\": \"\"}}, \"title\": {\"x\": 0.05}, \"xaxis\": {\"automargin\": true, \"gridcolor\": \"white\", \"linecolor\": \"white\", \"ticks\": \"\", \"title\": {\"standoff\": 15}, \"zerolinecolor\": \"white\", \"zerolinewidth\": 2}, \"yaxis\": {\"automargin\": true, \"gridcolor\": \"white\", \"linecolor\": \"white\", \"ticks\": \"\", \"title\": {\"standoff\": 15}, \"zerolinecolor\": \"white\", \"zerolinewidth\": 2}}}, \"xaxis\": {\"anchor\": \"y\", \"domain\": [0.0, 1.0], \"title\": {\"text\": \"vintage_x\"}}, \"yaxis\": {\"anchor\": \"x\", \"domain\": [0.0, 1.0], \"title\": {\"text\": \"mk_price_minus_bmk_price\"}}},                        {\"responsive\": true}                    ).then(function(){\n",
       "                            \n",
       "var gd = document.getElementById('de79aa62-6061-4c40-8d8d-62380d698d38');\n",
       "var x = new MutationObserver(function (mutations, observer) {{\n",
       "        var display = window.getComputedStyle(gd).display;\n",
       "        if (!display || display === 'none') {{\n",
       "            console.log([gd, 'removed!']);\n",
       "            Plotly.purge(gd);\n",
       "            observer.disconnect();\n",
       "        }}\n",
       "}});\n",
       "\n",
       "// Listen for the removal of the full notebook cells\n",
       "var notebookContainer = gd.closest('#notebook-container');\n",
       "if (notebookContainer) {{\n",
       "    x.observe(notebookContainer, {childList: true});\n",
       "}}\n",
       "\n",
       "// Listen for the clearing of the current output cell\n",
       "var outputEl = gd.closest('.output');\n",
       "if (outputEl) {{\n",
       "    x.observe(outputEl, {childList: true});\n",
       "}}\n",
       "\n",
       "                        })                };                });            </script>        </div>"
      ]
     },
     "metadata": {},
     "output_type": "display_data"
    }
   ],
   "source": [
    "producer_vintage = px.line(name_vintage, x=\"vintage_x\", y=\"mk_price_minus_bmk_price\", color=\"wineName\")\n",
    "producer_vintage.show()"
   ]
  },
  {
   "cell_type": "code",
   "execution_count": 323,
   "metadata": {},
   "outputs": [
    {
     "data": {
      "application/vnd.plotly.v1+json": {
       "config": {
        "plotlyServerURL": "https://plot.ly"
       },
       "data": [
        {
         "hovertemplate": "wineName=Chateau Angelus Premier Grand Cru Classe A, Saint-Emilion Grand Cru<br>benchmarkTradePrice=%{x}<br>mk_price_minus_bmk_price=%{y}<br>marketPrice=%{marker.size}<extra></extra>",
         "legendgroup": "Chateau Angelus Premier Grand Cru Classe A, Saint-Emilion Grand Cru",
         "marker": {
          "color": "#636efa",
          "size": [
           2829.375
          ],
          "sizemode": "area",
          "sizeref": 37.934,
          "symbol": "circle"
         },
         "mode": "markers",
         "name": "Chateau Angelus Premier Grand Cru Classe A, Saint-Emilion Grand Cru",
         "orientation": "v",
         "showlegend": true,
         "type": "scatter",
         "x": [
          2648.625
         ],
         "xaxis": "x",
         "y": [
          180.75
         ],
         "yaxis": "y"
        },
        {
         "hovertemplate": "wineName=Chateau Angelus Premier Grand Cru Classe B, Saint-Emilion Grand Cru<br>benchmarkTradePrice=%{x}<br>mk_price_minus_bmk_price=%{y}<br>marketPrice=%{marker.size}<extra></extra>",
         "legendgroup": "Chateau Angelus Premier Grand Cru Classe B, Saint-Emilion Grand Cru",
         "marker": {
          "color": "#EF553B",
          "size": [
           3158.4545454545455
          ],
          "sizemode": "area",
          "sizeref": 37.934,
          "symbol": "circle"
         },
         "mode": "markers",
         "name": "Chateau Angelus Premier Grand Cru Classe B, Saint-Emilion Grand Cru",
         "orientation": "v",
         "showlegend": true,
         "type": "scatter",
         "x": [
          2890.818181818182
         ],
         "xaxis": "x",
         "y": [
          267.6363636363636
         ],
         "yaxis": "y"
        },
        {
         "hovertemplate": "wineName=Chateau Batailley 5eme Cru Classe, Pauillac<br>benchmarkTradePrice=%{x}<br>mk_price_minus_bmk_price=%{y}<br>marketPrice=%{marker.size}<extra></extra>",
         "legendgroup": "Chateau Batailley 5eme Cru Classe, Pauillac",
         "marker": {
          "color": "#00cc96",
          "size": [
           447.29411764705884
          ],
          "sizemode": "area",
          "sizeref": 37.934,
          "symbol": "circle"
         },
         "mode": "markers",
         "name": "Chateau Batailley 5eme Cru Classe, Pauillac",
         "orientation": "v",
         "showlegend": true,
         "type": "scatter",
         "x": [
          374.6470588235294
         ],
         "xaxis": "x",
         "y": [
          72.6470588235294
         ],
         "yaxis": "y"
        },
        {
         "hovertemplate": "wineName=Chateau Calon Segur 3eme Cru Classe, Saint-Estephe<br>benchmarkTradePrice=%{x}<br>mk_price_minus_bmk_price=%{y}<br>marketPrice=%{marker.size}<extra></extra>",
         "legendgroup": "Chateau Calon Segur 3eme Cru Classe, Saint-Estephe",
         "marker": {
          "color": "#ab63fa",
          "size": [
           887.4736842105264
          ],
          "sizemode": "area",
          "sizeref": 37.934,
          "symbol": "circle"
         },
         "mode": "markers",
         "name": "Chateau Calon Segur 3eme Cru Classe, Saint-Estephe",
         "orientation": "v",
         "showlegend": true,
         "type": "scatter",
         "x": [
          836.2631578947369
         ],
         "xaxis": "x",
         "y": [
          51.21052631578947
         ],
         "yaxis": "y"
        },
        {
         "hovertemplate": "wineName=Chateau Margaux Premier Cru Classe, Margaux<br>benchmarkTradePrice=%{x}<br>mk_price_minus_bmk_price=%{y}<br>marketPrice=%{marker.size}<extra></extra>",
         "legendgroup": "Chateau Margaux Premier Cru Classe, Margaux",
         "marker": {
          "color": "#FFA15A",
          "size": [
           4869.684210526316
          ],
          "sizemode": "area",
          "sizeref": 37.934,
          "symbol": "circle"
         },
         "mode": "markers",
         "name": "Chateau Margaux Premier Cru Classe, Margaux",
         "orientation": "v",
         "showlegend": true,
         "type": "scatter",
         "x": [
          4719.526315789473
         ],
         "xaxis": "x",
         "y": [
          150.1578947368421
         ],
         "yaxis": "y"
        },
        {
         "hovertemplate": "wineName=Domaine Denis Mortet, Chambertin Grand Cru<br>benchmarkTradePrice=%{x}<br>mk_price_minus_bmk_price=%{y}<br>marketPrice=%{marker.size}<extra></extra>",
         "legendgroup": "Domaine Denis Mortet, Chambertin Grand Cru",
         "marker": {
          "color": "#19d3f3",
          "size": [
           9022
          ],
          "sizemode": "area",
          "sizeref": 37.934,
          "symbol": "circle"
         },
         "mode": "markers",
         "name": "Domaine Denis Mortet, Chambertin Grand Cru",
         "orientation": "v",
         "showlegend": true,
         "type": "scatter",
         "x": [
          6163.333333333333
         ],
         "xaxis": "x",
         "y": [
          2858.6666666666665
         ],
         "yaxis": "y"
        },
        {
         "hovertemplate": "wineName=Domaine Leflaive, Chevalier-Montrachet Grand Cru<br>benchmarkTradePrice=%{x}<br>mk_price_minus_bmk_price=%{y}<br>marketPrice=%{marker.size}<extra></extra>",
         "legendgroup": "Domaine Leflaive, Chevalier-Montrachet Grand Cru",
         "marker": {
          "color": "#FF6692",
          "size": [
           7429.75
          ],
          "sizemode": "area",
          "sizeref": 37.934,
          "symbol": "circle"
         },
         "mode": "markers",
         "name": "Domaine Leflaive, Chevalier-Montrachet Grand Cru",
         "orientation": "v",
         "showlegend": true,
         "type": "scatter",
         "x": [
          5983.9375
         ],
         "xaxis": "x",
         "y": [
          1445.8125
         ],
         "yaxis": "y"
        },
        {
         "hovertemplate": "wineName=Gaja, Barbaresco<br>benchmarkTradePrice=%{x}<br>mk_price_minus_bmk_price=%{y}<br>marketPrice=%{marker.size}<extra></extra>",
         "legendgroup": "Gaja, Barbaresco",
         "marker": {
          "color": "#B6E880",
          "size": [
           1785.0625
          ],
          "sizemode": "area",
          "sizeref": 37.934,
          "symbol": "circle"
         },
         "mode": "markers",
         "name": "Gaja, Barbaresco",
         "orientation": "v",
         "showlegend": true,
         "type": "scatter",
         "x": [
          1496.9375
         ],
         "xaxis": "x",
         "y": [
          288.125
         ],
         "yaxis": "y"
        },
        {
         "hovertemplate": "wineName=Jacques-Frederic Mugnier, Chambolle-Musigny Premier Cru, Les Amoureuses<br>benchmarkTradePrice=%{x}<br>mk_price_minus_bmk_price=%{y}<br>marketPrice=%{marker.size}<extra></extra>",
         "legendgroup": "Jacques-Frederic Mugnier, Chambolle-Musigny Premier Cru, Les Amoureuses",
         "marker": {
          "color": "#FF97FF",
          "size": [
           15173.6
          ],
          "sizemode": "area",
          "sizeref": 37.934,
          "symbol": "circle"
         },
         "mode": "markers",
         "name": "Jacques-Frederic Mugnier, Chambolle-Musigny Premier Cru, Les Amoureuses",
         "orientation": "v",
         "showlegend": true,
         "type": "scatter",
         "x": [
          12627.6
         ],
         "xaxis": "x",
         "y": [
          2546
         ],
         "yaxis": "y"
        },
        {
         "hovertemplate": "wineName=Tignanello, Toscana<br>benchmarkTradePrice=%{x}<br>mk_price_minus_bmk_price=%{y}<br>marketPrice=%{marker.size}<extra></extra>",
         "legendgroup": "Tignanello, Toscana",
         "marker": {
          "color": "#FECB52",
          "size": [
           1183.764705882353
          ],
          "sizemode": "area",
          "sizeref": 37.934,
          "symbol": "circle"
         },
         "mode": "markers",
         "name": "Tignanello, Toscana",
         "orientation": "v",
         "showlegend": true,
         "type": "scatter",
         "x": [
          1040.3529411764705
         ],
         "xaxis": "x",
         "y": [
          143.41176470588235
         ],
         "yaxis": "y"
        },
        {
         "hovertemplate": "wineName=Tua Rita, Giusto di Notri, Toscana<br>benchmarkTradePrice=%{x}<br>mk_price_minus_bmk_price=%{y}<br>marketPrice=%{marker.size}<extra></extra>",
         "legendgroup": "Tua Rita, Giusto di Notri, Toscana",
         "marker": {
          "color": "#636efa",
          "size": [
           523.2727272727273
          ],
          "sizemode": "area",
          "sizeref": 37.934,
          "symbol": "circle"
         },
         "mode": "markers",
         "name": "Tua Rita, Giusto di Notri, Toscana",
         "orientation": "v",
         "showlegend": true,
         "type": "scatter",
         "x": [
          391.1818181818182
         ],
         "xaxis": "x",
         "y": [
          132.0909090909091
         ],
         "yaxis": "y"
        }
       ],
       "layout": {
        "legend": {
         "itemsizing": "constant",
         "title": {
          "text": "wineName"
         },
         "tracegroupgap": 0
        },
        "margin": {
         "t": 60
        },
        "template": {
         "data": {
          "bar": [
           {
            "error_x": {
             "color": "#2a3f5f"
            },
            "error_y": {
             "color": "#2a3f5f"
            },
            "marker": {
             "line": {
              "color": "#E5ECF6",
              "width": 0.5
             }
            },
            "type": "bar"
           }
          ],
          "barpolar": [
           {
            "marker": {
             "line": {
              "color": "#E5ECF6",
              "width": 0.5
             }
            },
            "type": "barpolar"
           }
          ],
          "carpet": [
           {
            "aaxis": {
             "endlinecolor": "#2a3f5f",
             "gridcolor": "white",
             "linecolor": "white",
             "minorgridcolor": "white",
             "startlinecolor": "#2a3f5f"
            },
            "baxis": {
             "endlinecolor": "#2a3f5f",
             "gridcolor": "white",
             "linecolor": "white",
             "minorgridcolor": "white",
             "startlinecolor": "#2a3f5f"
            },
            "type": "carpet"
           }
          ],
          "choropleth": [
           {
            "colorbar": {
             "outlinewidth": 0,
             "ticks": ""
            },
            "type": "choropleth"
           }
          ],
          "contour": [
           {
            "colorbar": {
             "outlinewidth": 0,
             "ticks": ""
            },
            "colorscale": [
             [
              0,
              "#0d0887"
             ],
             [
              0.1111111111111111,
              "#46039f"
             ],
             [
              0.2222222222222222,
              "#7201a8"
             ],
             [
              0.3333333333333333,
              "#9c179e"
             ],
             [
              0.4444444444444444,
              "#bd3786"
             ],
             [
              0.5555555555555556,
              "#d8576b"
             ],
             [
              0.6666666666666666,
              "#ed7953"
             ],
             [
              0.7777777777777778,
              "#fb9f3a"
             ],
             [
              0.8888888888888888,
              "#fdca26"
             ],
             [
              1,
              "#f0f921"
             ]
            ],
            "type": "contour"
           }
          ],
          "contourcarpet": [
           {
            "colorbar": {
             "outlinewidth": 0,
             "ticks": ""
            },
            "type": "contourcarpet"
           }
          ],
          "heatmap": [
           {
            "colorbar": {
             "outlinewidth": 0,
             "ticks": ""
            },
            "colorscale": [
             [
              0,
              "#0d0887"
             ],
             [
              0.1111111111111111,
              "#46039f"
             ],
             [
              0.2222222222222222,
              "#7201a8"
             ],
             [
              0.3333333333333333,
              "#9c179e"
             ],
             [
              0.4444444444444444,
              "#bd3786"
             ],
             [
              0.5555555555555556,
              "#d8576b"
             ],
             [
              0.6666666666666666,
              "#ed7953"
             ],
             [
              0.7777777777777778,
              "#fb9f3a"
             ],
             [
              0.8888888888888888,
              "#fdca26"
             ],
             [
              1,
              "#f0f921"
             ]
            ],
            "type": "heatmap"
           }
          ],
          "heatmapgl": [
           {
            "colorbar": {
             "outlinewidth": 0,
             "ticks": ""
            },
            "colorscale": [
             [
              0,
              "#0d0887"
             ],
             [
              0.1111111111111111,
              "#46039f"
             ],
             [
              0.2222222222222222,
              "#7201a8"
             ],
             [
              0.3333333333333333,
              "#9c179e"
             ],
             [
              0.4444444444444444,
              "#bd3786"
             ],
             [
              0.5555555555555556,
              "#d8576b"
             ],
             [
              0.6666666666666666,
              "#ed7953"
             ],
             [
              0.7777777777777778,
              "#fb9f3a"
             ],
             [
              0.8888888888888888,
              "#fdca26"
             ],
             [
              1,
              "#f0f921"
             ]
            ],
            "type": "heatmapgl"
           }
          ],
          "histogram": [
           {
            "marker": {
             "colorbar": {
              "outlinewidth": 0,
              "ticks": ""
             }
            },
            "type": "histogram"
           }
          ],
          "histogram2d": [
           {
            "colorbar": {
             "outlinewidth": 0,
             "ticks": ""
            },
            "colorscale": [
             [
              0,
              "#0d0887"
             ],
             [
              0.1111111111111111,
              "#46039f"
             ],
             [
              0.2222222222222222,
              "#7201a8"
             ],
             [
              0.3333333333333333,
              "#9c179e"
             ],
             [
              0.4444444444444444,
              "#bd3786"
             ],
             [
              0.5555555555555556,
              "#d8576b"
             ],
             [
              0.6666666666666666,
              "#ed7953"
             ],
             [
              0.7777777777777778,
              "#fb9f3a"
             ],
             [
              0.8888888888888888,
              "#fdca26"
             ],
             [
              1,
              "#f0f921"
             ]
            ],
            "type": "histogram2d"
           }
          ],
          "histogram2dcontour": [
           {
            "colorbar": {
             "outlinewidth": 0,
             "ticks": ""
            },
            "colorscale": [
             [
              0,
              "#0d0887"
             ],
             [
              0.1111111111111111,
              "#46039f"
             ],
             [
              0.2222222222222222,
              "#7201a8"
             ],
             [
              0.3333333333333333,
              "#9c179e"
             ],
             [
              0.4444444444444444,
              "#bd3786"
             ],
             [
              0.5555555555555556,
              "#d8576b"
             ],
             [
              0.6666666666666666,
              "#ed7953"
             ],
             [
              0.7777777777777778,
              "#fb9f3a"
             ],
             [
              0.8888888888888888,
              "#fdca26"
             ],
             [
              1,
              "#f0f921"
             ]
            ],
            "type": "histogram2dcontour"
           }
          ],
          "mesh3d": [
           {
            "colorbar": {
             "outlinewidth": 0,
             "ticks": ""
            },
            "type": "mesh3d"
           }
          ],
          "parcoords": [
           {
            "line": {
             "colorbar": {
              "outlinewidth": 0,
              "ticks": ""
             }
            },
            "type": "parcoords"
           }
          ],
          "pie": [
           {
            "automargin": true,
            "type": "pie"
           }
          ],
          "scatter": [
           {
            "marker": {
             "colorbar": {
              "outlinewidth": 0,
              "ticks": ""
             }
            },
            "type": "scatter"
           }
          ],
          "scatter3d": [
           {
            "line": {
             "colorbar": {
              "outlinewidth": 0,
              "ticks": ""
             }
            },
            "marker": {
             "colorbar": {
              "outlinewidth": 0,
              "ticks": ""
             }
            },
            "type": "scatter3d"
           }
          ],
          "scattercarpet": [
           {
            "marker": {
             "colorbar": {
              "outlinewidth": 0,
              "ticks": ""
             }
            },
            "type": "scattercarpet"
           }
          ],
          "scattergeo": [
           {
            "marker": {
             "colorbar": {
              "outlinewidth": 0,
              "ticks": ""
             }
            },
            "type": "scattergeo"
           }
          ],
          "scattergl": [
           {
            "marker": {
             "colorbar": {
              "outlinewidth": 0,
              "ticks": ""
             }
            },
            "type": "scattergl"
           }
          ],
          "scattermapbox": [
           {
            "marker": {
             "colorbar": {
              "outlinewidth": 0,
              "ticks": ""
             }
            },
            "type": "scattermapbox"
           }
          ],
          "scatterpolar": [
           {
            "marker": {
             "colorbar": {
              "outlinewidth": 0,
              "ticks": ""
             }
            },
            "type": "scatterpolar"
           }
          ],
          "scatterpolargl": [
           {
            "marker": {
             "colorbar": {
              "outlinewidth": 0,
              "ticks": ""
             }
            },
            "type": "scatterpolargl"
           }
          ],
          "scatterternary": [
           {
            "marker": {
             "colorbar": {
              "outlinewidth": 0,
              "ticks": ""
             }
            },
            "type": "scatterternary"
           }
          ],
          "surface": [
           {
            "colorbar": {
             "outlinewidth": 0,
             "ticks": ""
            },
            "colorscale": [
             [
              0,
              "#0d0887"
             ],
             [
              0.1111111111111111,
              "#46039f"
             ],
             [
              0.2222222222222222,
              "#7201a8"
             ],
             [
              0.3333333333333333,
              "#9c179e"
             ],
             [
              0.4444444444444444,
              "#bd3786"
             ],
             [
              0.5555555555555556,
              "#d8576b"
             ],
             [
              0.6666666666666666,
              "#ed7953"
             ],
             [
              0.7777777777777778,
              "#fb9f3a"
             ],
             [
              0.8888888888888888,
              "#fdca26"
             ],
             [
              1,
              "#f0f921"
             ]
            ],
            "type": "surface"
           }
          ],
          "table": [
           {
            "cells": {
             "fill": {
              "color": "#EBF0F8"
             },
             "line": {
              "color": "white"
             }
            },
            "header": {
             "fill": {
              "color": "#C8D4E3"
             },
             "line": {
              "color": "white"
             }
            },
            "type": "table"
           }
          ]
         },
         "layout": {
          "annotationdefaults": {
           "arrowcolor": "#2a3f5f",
           "arrowhead": 0,
           "arrowwidth": 1
          },
          "autotypenumbers": "strict",
          "coloraxis": {
           "colorbar": {
            "outlinewidth": 0,
            "ticks": ""
           }
          },
          "colorscale": {
           "diverging": [
            [
             0,
             "#8e0152"
            ],
            [
             0.1,
             "#c51b7d"
            ],
            [
             0.2,
             "#de77ae"
            ],
            [
             0.3,
             "#f1b6da"
            ],
            [
             0.4,
             "#fde0ef"
            ],
            [
             0.5,
             "#f7f7f7"
            ],
            [
             0.6,
             "#e6f5d0"
            ],
            [
             0.7,
             "#b8e186"
            ],
            [
             0.8,
             "#7fbc41"
            ],
            [
             0.9,
             "#4d9221"
            ],
            [
             1,
             "#276419"
            ]
           ],
           "sequential": [
            [
             0,
             "#0d0887"
            ],
            [
             0.1111111111111111,
             "#46039f"
            ],
            [
             0.2222222222222222,
             "#7201a8"
            ],
            [
             0.3333333333333333,
             "#9c179e"
            ],
            [
             0.4444444444444444,
             "#bd3786"
            ],
            [
             0.5555555555555556,
             "#d8576b"
            ],
            [
             0.6666666666666666,
             "#ed7953"
            ],
            [
             0.7777777777777778,
             "#fb9f3a"
            ],
            [
             0.8888888888888888,
             "#fdca26"
            ],
            [
             1,
             "#f0f921"
            ]
           ],
           "sequentialminus": [
            [
             0,
             "#0d0887"
            ],
            [
             0.1111111111111111,
             "#46039f"
            ],
            [
             0.2222222222222222,
             "#7201a8"
            ],
            [
             0.3333333333333333,
             "#9c179e"
            ],
            [
             0.4444444444444444,
             "#bd3786"
            ],
            [
             0.5555555555555556,
             "#d8576b"
            ],
            [
             0.6666666666666666,
             "#ed7953"
            ],
            [
             0.7777777777777778,
             "#fb9f3a"
            ],
            [
             0.8888888888888888,
             "#fdca26"
            ],
            [
             1,
             "#f0f921"
            ]
           ]
          },
          "colorway": [
           "#636efa",
           "#EF553B",
           "#00cc96",
           "#ab63fa",
           "#FFA15A",
           "#19d3f3",
           "#FF6692",
           "#B6E880",
           "#FF97FF",
           "#FECB52"
          ],
          "font": {
           "color": "#2a3f5f"
          },
          "geo": {
           "bgcolor": "white",
           "lakecolor": "white",
           "landcolor": "#E5ECF6",
           "showlakes": true,
           "showland": true,
           "subunitcolor": "white"
          },
          "hoverlabel": {
           "align": "left"
          },
          "hovermode": "closest",
          "mapbox": {
           "style": "light"
          },
          "paper_bgcolor": "white",
          "plot_bgcolor": "#E5ECF6",
          "polar": {
           "angularaxis": {
            "gridcolor": "white",
            "linecolor": "white",
            "ticks": ""
           },
           "bgcolor": "#E5ECF6",
           "radialaxis": {
            "gridcolor": "white",
            "linecolor": "white",
            "ticks": ""
           }
          },
          "scene": {
           "xaxis": {
            "backgroundcolor": "#E5ECF6",
            "gridcolor": "white",
            "gridwidth": 2,
            "linecolor": "white",
            "showbackground": true,
            "ticks": "",
            "zerolinecolor": "white"
           },
           "yaxis": {
            "backgroundcolor": "#E5ECF6",
            "gridcolor": "white",
            "gridwidth": 2,
            "linecolor": "white",
            "showbackground": true,
            "ticks": "",
            "zerolinecolor": "white"
           },
           "zaxis": {
            "backgroundcolor": "#E5ECF6",
            "gridcolor": "white",
            "gridwidth": 2,
            "linecolor": "white",
            "showbackground": true,
            "ticks": "",
            "zerolinecolor": "white"
           }
          },
          "shapedefaults": {
           "line": {
            "color": "#2a3f5f"
           }
          },
          "ternary": {
           "aaxis": {
            "gridcolor": "white",
            "linecolor": "white",
            "ticks": ""
           },
           "baxis": {
            "gridcolor": "white",
            "linecolor": "white",
            "ticks": ""
           },
           "bgcolor": "#E5ECF6",
           "caxis": {
            "gridcolor": "white",
            "linecolor": "white",
            "ticks": ""
           }
          },
          "title": {
           "x": 0.05
          },
          "xaxis": {
           "automargin": true,
           "gridcolor": "white",
           "linecolor": "white",
           "ticks": "",
           "title": {
            "standoff": 15
           },
           "zerolinecolor": "white",
           "zerolinewidth": 2
          },
          "yaxis": {
           "automargin": true,
           "gridcolor": "white",
           "linecolor": "white",
           "ticks": "",
           "title": {
            "standoff": 15
           },
           "zerolinecolor": "white",
           "zerolinewidth": 2
          }
         }
        },
        "xaxis": {
         "anchor": "y",
         "domain": [
          0,
          1
         ],
         "title": {
          "text": "benchmarkTradePrice"
         }
        },
        "yaxis": {
         "anchor": "x",
         "domain": [
          0,
          1
         ],
         "title": {
          "text": "mk_price_minus_bmk_price"
         }
        }
       }
      },
      "text/html": [
       "<div>                            <div id=\"f8987d4e-c271-47fa-8028-e5358f4e9f87\" class=\"plotly-graph-div\" style=\"height:525px; width:100%;\"></div>            <script type=\"text/javascript\">                require([\"plotly\"], function(Plotly) {                    window.PLOTLYENV=window.PLOTLYENV || {};                                    if (document.getElementById(\"f8987d4e-c271-47fa-8028-e5358f4e9f87\")) {                    Plotly.newPlot(                        \"f8987d4e-c271-47fa-8028-e5358f4e9f87\",                        [{\"hovertemplate\": \"wineName=Chateau Angelus Premier Grand Cru Classe A, Saint-Emilion Grand Cru<br>benchmarkTradePrice=%{x}<br>mk_price_minus_bmk_price=%{y}<br>marketPrice=%{marker.size}<extra></extra>\", \"legendgroup\": \"Chateau Angelus Premier Grand Cru Classe A, Saint-Emilion Grand Cru\", \"marker\": {\"color\": \"#636efa\", \"size\": [2829.375], \"sizemode\": \"area\", \"sizeref\": 37.934, \"symbol\": \"circle\"}, \"mode\": \"markers\", \"name\": \"Chateau Angelus Premier Grand Cru Classe A, Saint-Emilion Grand Cru\", \"orientation\": \"v\", \"showlegend\": true, \"type\": \"scatter\", \"x\": [2648.625], \"xaxis\": \"x\", \"y\": [180.75], \"yaxis\": \"y\"}, {\"hovertemplate\": \"wineName=Chateau Angelus Premier Grand Cru Classe B, Saint-Emilion Grand Cru<br>benchmarkTradePrice=%{x}<br>mk_price_minus_bmk_price=%{y}<br>marketPrice=%{marker.size}<extra></extra>\", \"legendgroup\": \"Chateau Angelus Premier Grand Cru Classe B, Saint-Emilion Grand Cru\", \"marker\": {\"color\": \"#EF553B\", \"size\": [3158.4545454545455], \"sizemode\": \"area\", \"sizeref\": 37.934, \"symbol\": \"circle\"}, \"mode\": \"markers\", \"name\": \"Chateau Angelus Premier Grand Cru Classe B, Saint-Emilion Grand Cru\", \"orientation\": \"v\", \"showlegend\": true, \"type\": \"scatter\", \"x\": [2890.818181818182], \"xaxis\": \"x\", \"y\": [267.6363636363636], \"yaxis\": \"y\"}, {\"hovertemplate\": \"wineName=Chateau Batailley 5eme Cru Classe, Pauillac<br>benchmarkTradePrice=%{x}<br>mk_price_minus_bmk_price=%{y}<br>marketPrice=%{marker.size}<extra></extra>\", \"legendgroup\": \"Chateau Batailley 5eme Cru Classe, Pauillac\", \"marker\": {\"color\": \"#00cc96\", \"size\": [447.29411764705884], \"sizemode\": \"area\", \"sizeref\": 37.934, \"symbol\": \"circle\"}, \"mode\": \"markers\", \"name\": \"Chateau Batailley 5eme Cru Classe, Pauillac\", \"orientation\": \"v\", \"showlegend\": true, \"type\": \"scatter\", \"x\": [374.6470588235294], \"xaxis\": \"x\", \"y\": [72.6470588235294], \"yaxis\": \"y\"}, {\"hovertemplate\": \"wineName=Chateau Calon Segur 3eme Cru Classe, Saint-Estephe<br>benchmarkTradePrice=%{x}<br>mk_price_minus_bmk_price=%{y}<br>marketPrice=%{marker.size}<extra></extra>\", \"legendgroup\": \"Chateau Calon Segur 3eme Cru Classe, Saint-Estephe\", \"marker\": {\"color\": \"#ab63fa\", \"size\": [887.4736842105264], \"sizemode\": \"area\", \"sizeref\": 37.934, \"symbol\": \"circle\"}, \"mode\": \"markers\", \"name\": \"Chateau Calon Segur 3eme Cru Classe, Saint-Estephe\", \"orientation\": \"v\", \"showlegend\": true, \"type\": \"scatter\", \"x\": [836.2631578947369], \"xaxis\": \"x\", \"y\": [51.21052631578947], \"yaxis\": \"y\"}, {\"hovertemplate\": \"wineName=Chateau Margaux Premier Cru Classe, Margaux<br>benchmarkTradePrice=%{x}<br>mk_price_minus_bmk_price=%{y}<br>marketPrice=%{marker.size}<extra></extra>\", \"legendgroup\": \"Chateau Margaux Premier Cru Classe, Margaux\", \"marker\": {\"color\": \"#FFA15A\", \"size\": [4869.684210526316], \"sizemode\": \"area\", \"sizeref\": 37.934, \"symbol\": \"circle\"}, \"mode\": \"markers\", \"name\": \"Chateau Margaux Premier Cru Classe, Margaux\", \"orientation\": \"v\", \"showlegend\": true, \"type\": \"scatter\", \"x\": [4719.526315789473], \"xaxis\": \"x\", \"y\": [150.1578947368421], \"yaxis\": \"y\"}, {\"hovertemplate\": \"wineName=Domaine Denis Mortet, Chambertin Grand Cru<br>benchmarkTradePrice=%{x}<br>mk_price_minus_bmk_price=%{y}<br>marketPrice=%{marker.size}<extra></extra>\", \"legendgroup\": \"Domaine Denis Mortet, Chambertin Grand Cru\", \"marker\": {\"color\": \"#19d3f3\", \"size\": [9022.0], \"sizemode\": \"area\", \"sizeref\": 37.934, \"symbol\": \"circle\"}, \"mode\": \"markers\", \"name\": \"Domaine Denis Mortet, Chambertin Grand Cru\", \"orientation\": \"v\", \"showlegend\": true, \"type\": \"scatter\", \"x\": [6163.333333333333], \"xaxis\": \"x\", \"y\": [2858.6666666666665], \"yaxis\": \"y\"}, {\"hovertemplate\": \"wineName=Domaine Leflaive, Chevalier-Montrachet Grand Cru<br>benchmarkTradePrice=%{x}<br>mk_price_minus_bmk_price=%{y}<br>marketPrice=%{marker.size}<extra></extra>\", \"legendgroup\": \"Domaine Leflaive, Chevalier-Montrachet Grand Cru\", \"marker\": {\"color\": \"#FF6692\", \"size\": [7429.75], \"sizemode\": \"area\", \"sizeref\": 37.934, \"symbol\": \"circle\"}, \"mode\": \"markers\", \"name\": \"Domaine Leflaive, Chevalier-Montrachet Grand Cru\", \"orientation\": \"v\", \"showlegend\": true, \"type\": \"scatter\", \"x\": [5983.9375], \"xaxis\": \"x\", \"y\": [1445.8125], \"yaxis\": \"y\"}, {\"hovertemplate\": \"wineName=Gaja, Barbaresco<br>benchmarkTradePrice=%{x}<br>mk_price_minus_bmk_price=%{y}<br>marketPrice=%{marker.size}<extra></extra>\", \"legendgroup\": \"Gaja, Barbaresco\", \"marker\": {\"color\": \"#B6E880\", \"size\": [1785.0625], \"sizemode\": \"area\", \"sizeref\": 37.934, \"symbol\": \"circle\"}, \"mode\": \"markers\", \"name\": \"Gaja, Barbaresco\", \"orientation\": \"v\", \"showlegend\": true, \"type\": \"scatter\", \"x\": [1496.9375], \"xaxis\": \"x\", \"y\": [288.125], \"yaxis\": \"y\"}, {\"hovertemplate\": \"wineName=Jacques-Frederic Mugnier, Chambolle-Musigny Premier Cru, Les Amoureuses<br>benchmarkTradePrice=%{x}<br>mk_price_minus_bmk_price=%{y}<br>marketPrice=%{marker.size}<extra></extra>\", \"legendgroup\": \"Jacques-Frederic Mugnier, Chambolle-Musigny Premier Cru, Les Amoureuses\", \"marker\": {\"color\": \"#FF97FF\", \"size\": [15173.6], \"sizemode\": \"area\", \"sizeref\": 37.934, \"symbol\": \"circle\"}, \"mode\": \"markers\", \"name\": \"Jacques-Frederic Mugnier, Chambolle-Musigny Premier Cru, Les Amoureuses\", \"orientation\": \"v\", \"showlegend\": true, \"type\": \"scatter\", \"x\": [12627.6], \"xaxis\": \"x\", \"y\": [2546.0], \"yaxis\": \"y\"}, {\"hovertemplate\": \"wineName=Tignanello, Toscana<br>benchmarkTradePrice=%{x}<br>mk_price_minus_bmk_price=%{y}<br>marketPrice=%{marker.size}<extra></extra>\", \"legendgroup\": \"Tignanello, Toscana\", \"marker\": {\"color\": \"#FECB52\", \"size\": [1183.764705882353], \"sizemode\": \"area\", \"sizeref\": 37.934, \"symbol\": \"circle\"}, \"mode\": \"markers\", \"name\": \"Tignanello, Toscana\", \"orientation\": \"v\", \"showlegend\": true, \"type\": \"scatter\", \"x\": [1040.3529411764705], \"xaxis\": \"x\", \"y\": [143.41176470588235], \"yaxis\": \"y\"}, {\"hovertemplate\": \"wineName=Tua Rita, Giusto di Notri, Toscana<br>benchmarkTradePrice=%{x}<br>mk_price_minus_bmk_price=%{y}<br>marketPrice=%{marker.size}<extra></extra>\", \"legendgroup\": \"Tua Rita, Giusto di Notri, Toscana\", \"marker\": {\"color\": \"#636efa\", \"size\": [523.2727272727273], \"sizemode\": \"area\", \"sizeref\": 37.934, \"symbol\": \"circle\"}, \"mode\": \"markers\", \"name\": \"Tua Rita, Giusto di Notri, Toscana\", \"orientation\": \"v\", \"showlegend\": true, \"type\": \"scatter\", \"x\": [391.1818181818182], \"xaxis\": \"x\", \"y\": [132.0909090909091], \"yaxis\": \"y\"}],                        {\"legend\": {\"itemsizing\": \"constant\", \"title\": {\"text\": \"wineName\"}, \"tracegroupgap\": 0}, \"margin\": {\"t\": 60}, \"template\": {\"data\": {\"bar\": [{\"error_x\": {\"color\": \"#2a3f5f\"}, \"error_y\": {\"color\": \"#2a3f5f\"}, \"marker\": {\"line\": {\"color\": \"#E5ECF6\", \"width\": 0.5}}, \"type\": \"bar\"}], \"barpolar\": [{\"marker\": {\"line\": {\"color\": \"#E5ECF6\", \"width\": 0.5}}, \"type\": \"barpolar\"}], \"carpet\": [{\"aaxis\": {\"endlinecolor\": \"#2a3f5f\", \"gridcolor\": \"white\", \"linecolor\": \"white\", \"minorgridcolor\": \"white\", \"startlinecolor\": \"#2a3f5f\"}, \"baxis\": {\"endlinecolor\": \"#2a3f5f\", \"gridcolor\": \"white\", \"linecolor\": \"white\", \"minorgridcolor\": \"white\", \"startlinecolor\": \"#2a3f5f\"}, \"type\": \"carpet\"}], \"choropleth\": [{\"colorbar\": {\"outlinewidth\": 0, \"ticks\": \"\"}, \"type\": \"choropleth\"}], \"contour\": [{\"colorbar\": {\"outlinewidth\": 0, \"ticks\": \"\"}, \"colorscale\": [[0.0, \"#0d0887\"], [0.1111111111111111, \"#46039f\"], [0.2222222222222222, \"#7201a8\"], [0.3333333333333333, \"#9c179e\"], [0.4444444444444444, \"#bd3786\"], [0.5555555555555556, \"#d8576b\"], [0.6666666666666666, \"#ed7953\"], [0.7777777777777778, \"#fb9f3a\"], [0.8888888888888888, \"#fdca26\"], [1.0, \"#f0f921\"]], \"type\": \"contour\"}], \"contourcarpet\": [{\"colorbar\": {\"outlinewidth\": 0, \"ticks\": \"\"}, \"type\": \"contourcarpet\"}], \"heatmap\": [{\"colorbar\": {\"outlinewidth\": 0, \"ticks\": \"\"}, \"colorscale\": [[0.0, \"#0d0887\"], [0.1111111111111111, \"#46039f\"], [0.2222222222222222, \"#7201a8\"], [0.3333333333333333, \"#9c179e\"], [0.4444444444444444, \"#bd3786\"], [0.5555555555555556, \"#d8576b\"], [0.6666666666666666, \"#ed7953\"], [0.7777777777777778, \"#fb9f3a\"], [0.8888888888888888, \"#fdca26\"], [1.0, \"#f0f921\"]], \"type\": \"heatmap\"}], \"heatmapgl\": [{\"colorbar\": {\"outlinewidth\": 0, \"ticks\": \"\"}, \"colorscale\": [[0.0, \"#0d0887\"], [0.1111111111111111, \"#46039f\"], [0.2222222222222222, \"#7201a8\"], [0.3333333333333333, \"#9c179e\"], [0.4444444444444444, \"#bd3786\"], [0.5555555555555556, \"#d8576b\"], [0.6666666666666666, \"#ed7953\"], [0.7777777777777778, \"#fb9f3a\"], [0.8888888888888888, \"#fdca26\"], [1.0, \"#f0f921\"]], \"type\": \"heatmapgl\"}], \"histogram\": [{\"marker\": {\"colorbar\": {\"outlinewidth\": 0, \"ticks\": \"\"}}, \"type\": \"histogram\"}], \"histogram2d\": [{\"colorbar\": {\"outlinewidth\": 0, \"ticks\": \"\"}, \"colorscale\": [[0.0, \"#0d0887\"], [0.1111111111111111, \"#46039f\"], [0.2222222222222222, \"#7201a8\"], [0.3333333333333333, \"#9c179e\"], [0.4444444444444444, \"#bd3786\"], [0.5555555555555556, \"#d8576b\"], [0.6666666666666666, \"#ed7953\"], [0.7777777777777778, \"#fb9f3a\"], [0.8888888888888888, \"#fdca26\"], [1.0, \"#f0f921\"]], \"type\": \"histogram2d\"}], \"histogram2dcontour\": [{\"colorbar\": {\"outlinewidth\": 0, \"ticks\": \"\"}, \"colorscale\": [[0.0, \"#0d0887\"], [0.1111111111111111, \"#46039f\"], [0.2222222222222222, \"#7201a8\"], [0.3333333333333333, \"#9c179e\"], [0.4444444444444444, \"#bd3786\"], [0.5555555555555556, \"#d8576b\"], [0.6666666666666666, \"#ed7953\"], [0.7777777777777778, \"#fb9f3a\"], [0.8888888888888888, \"#fdca26\"], [1.0, \"#f0f921\"]], \"type\": \"histogram2dcontour\"}], \"mesh3d\": [{\"colorbar\": {\"outlinewidth\": 0, \"ticks\": \"\"}, \"type\": \"mesh3d\"}], \"parcoords\": [{\"line\": {\"colorbar\": {\"outlinewidth\": 0, \"ticks\": \"\"}}, \"type\": \"parcoords\"}], \"pie\": [{\"automargin\": true, \"type\": \"pie\"}], \"scatter\": [{\"marker\": {\"colorbar\": {\"outlinewidth\": 0, \"ticks\": \"\"}}, \"type\": \"scatter\"}], \"scatter3d\": [{\"line\": {\"colorbar\": {\"outlinewidth\": 0, \"ticks\": \"\"}}, \"marker\": {\"colorbar\": {\"outlinewidth\": 0, \"ticks\": \"\"}}, \"type\": \"scatter3d\"}], \"scattercarpet\": [{\"marker\": {\"colorbar\": {\"outlinewidth\": 0, \"ticks\": \"\"}}, \"type\": \"scattercarpet\"}], \"scattergeo\": [{\"marker\": {\"colorbar\": {\"outlinewidth\": 0, \"ticks\": \"\"}}, \"type\": \"scattergeo\"}], \"scattergl\": [{\"marker\": {\"colorbar\": {\"outlinewidth\": 0, \"ticks\": \"\"}}, \"type\": \"scattergl\"}], \"scattermapbox\": [{\"marker\": {\"colorbar\": {\"outlinewidth\": 0, \"ticks\": \"\"}}, \"type\": \"scattermapbox\"}], \"scatterpolar\": [{\"marker\": {\"colorbar\": {\"outlinewidth\": 0, \"ticks\": \"\"}}, \"type\": \"scatterpolar\"}], \"scatterpolargl\": [{\"marker\": {\"colorbar\": {\"outlinewidth\": 0, \"ticks\": \"\"}}, \"type\": \"scatterpolargl\"}], \"scatterternary\": [{\"marker\": {\"colorbar\": {\"outlinewidth\": 0, \"ticks\": \"\"}}, \"type\": \"scatterternary\"}], \"surface\": [{\"colorbar\": {\"outlinewidth\": 0, \"ticks\": \"\"}, \"colorscale\": [[0.0, \"#0d0887\"], [0.1111111111111111, \"#46039f\"], [0.2222222222222222, \"#7201a8\"], [0.3333333333333333, \"#9c179e\"], [0.4444444444444444, \"#bd3786\"], [0.5555555555555556, \"#d8576b\"], [0.6666666666666666, \"#ed7953\"], [0.7777777777777778, \"#fb9f3a\"], [0.8888888888888888, \"#fdca26\"], [1.0, \"#f0f921\"]], \"type\": \"surface\"}], \"table\": [{\"cells\": {\"fill\": {\"color\": \"#EBF0F8\"}, \"line\": {\"color\": \"white\"}}, \"header\": {\"fill\": {\"color\": \"#C8D4E3\"}, \"line\": {\"color\": \"white\"}}, \"type\": \"table\"}]}, \"layout\": {\"annotationdefaults\": {\"arrowcolor\": \"#2a3f5f\", \"arrowhead\": 0, \"arrowwidth\": 1}, \"autotypenumbers\": \"strict\", \"coloraxis\": {\"colorbar\": {\"outlinewidth\": 0, \"ticks\": \"\"}}, \"colorscale\": {\"diverging\": [[0, \"#8e0152\"], [0.1, \"#c51b7d\"], [0.2, \"#de77ae\"], [0.3, \"#f1b6da\"], [0.4, \"#fde0ef\"], [0.5, \"#f7f7f7\"], [0.6, \"#e6f5d0\"], [0.7, \"#b8e186\"], [0.8, \"#7fbc41\"], [0.9, \"#4d9221\"], [1, \"#276419\"]], \"sequential\": [[0.0, \"#0d0887\"], [0.1111111111111111, \"#46039f\"], [0.2222222222222222, \"#7201a8\"], [0.3333333333333333, \"#9c179e\"], [0.4444444444444444, \"#bd3786\"], [0.5555555555555556, \"#d8576b\"], [0.6666666666666666, \"#ed7953\"], [0.7777777777777778, \"#fb9f3a\"], [0.8888888888888888, \"#fdca26\"], [1.0, \"#f0f921\"]], \"sequentialminus\": [[0.0, \"#0d0887\"], [0.1111111111111111, \"#46039f\"], [0.2222222222222222, \"#7201a8\"], [0.3333333333333333, \"#9c179e\"], [0.4444444444444444, \"#bd3786\"], [0.5555555555555556, \"#d8576b\"], [0.6666666666666666, \"#ed7953\"], [0.7777777777777778, \"#fb9f3a\"], [0.8888888888888888, \"#fdca26\"], [1.0, \"#f0f921\"]]}, \"colorway\": [\"#636efa\", \"#EF553B\", \"#00cc96\", \"#ab63fa\", \"#FFA15A\", \"#19d3f3\", \"#FF6692\", \"#B6E880\", \"#FF97FF\", \"#FECB52\"], \"font\": {\"color\": \"#2a3f5f\"}, \"geo\": {\"bgcolor\": \"white\", \"lakecolor\": \"white\", \"landcolor\": \"#E5ECF6\", \"showlakes\": true, \"showland\": true, \"subunitcolor\": \"white\"}, \"hoverlabel\": {\"align\": \"left\"}, \"hovermode\": \"closest\", \"mapbox\": {\"style\": \"light\"}, \"paper_bgcolor\": \"white\", \"plot_bgcolor\": \"#E5ECF6\", \"polar\": {\"angularaxis\": {\"gridcolor\": \"white\", \"linecolor\": \"white\", \"ticks\": \"\"}, \"bgcolor\": \"#E5ECF6\", \"radialaxis\": {\"gridcolor\": \"white\", \"linecolor\": \"white\", \"ticks\": \"\"}}, \"scene\": {\"xaxis\": {\"backgroundcolor\": \"#E5ECF6\", \"gridcolor\": \"white\", \"gridwidth\": 2, \"linecolor\": \"white\", \"showbackground\": true, \"ticks\": \"\", \"zerolinecolor\": \"white\"}, \"yaxis\": {\"backgroundcolor\": \"#E5ECF6\", \"gridcolor\": \"white\", \"gridwidth\": 2, \"linecolor\": \"white\", \"showbackground\": true, \"ticks\": \"\", \"zerolinecolor\": \"white\"}, \"zaxis\": {\"backgroundcolor\": \"#E5ECF6\", \"gridcolor\": \"white\", \"gridwidth\": 2, \"linecolor\": \"white\", \"showbackground\": true, \"ticks\": \"\", \"zerolinecolor\": \"white\"}}, \"shapedefaults\": {\"line\": {\"color\": \"#2a3f5f\"}}, \"ternary\": {\"aaxis\": {\"gridcolor\": \"white\", \"linecolor\": \"white\", \"ticks\": \"\"}, \"baxis\": {\"gridcolor\": \"white\", \"linecolor\": \"white\", \"ticks\": \"\"}, \"bgcolor\": \"#E5ECF6\", \"caxis\": {\"gridcolor\": \"white\", \"linecolor\": \"white\", \"ticks\": \"\"}}, \"title\": {\"x\": 0.05}, \"xaxis\": {\"automargin\": true, \"gridcolor\": \"white\", \"linecolor\": \"white\", \"ticks\": \"\", \"title\": {\"standoff\": 15}, \"zerolinecolor\": \"white\", \"zerolinewidth\": 2}, \"yaxis\": {\"automargin\": true, \"gridcolor\": \"white\", \"linecolor\": \"white\", \"ticks\": \"\", \"title\": {\"standoff\": 15}, \"zerolinecolor\": \"white\", \"zerolinewidth\": 2}}}, \"xaxis\": {\"anchor\": \"y\", \"domain\": [0.0, 1.0], \"title\": {\"text\": \"benchmarkTradePrice\"}}, \"yaxis\": {\"anchor\": \"x\", \"domain\": [0.0, 1.0], \"title\": {\"text\": \"mk_price_minus_bmk_price\"}}},                        {\"responsive\": true}                    ).then(function(){\n",
       "                            \n",
       "var gd = document.getElementById('f8987d4e-c271-47fa-8028-e5358f4e9f87');\n",
       "var x = new MutationObserver(function (mutations, observer) {{\n",
       "        var display = window.getComputedStyle(gd).display;\n",
       "        if (!display || display === 'none') {{\n",
       "            console.log([gd, 'removed!']);\n",
       "            Plotly.purge(gd);\n",
       "            observer.disconnect();\n",
       "        }}\n",
       "}});\n",
       "\n",
       "// Listen for the removal of the full notebook cells\n",
       "var notebookContainer = gd.closest('#notebook-container');\n",
       "if (notebookContainer) {{\n",
       "    x.observe(notebookContainer, {childList: true});\n",
       "}}\n",
       "\n",
       "// Listen for the clearing of the current output cell\n",
       "var outputEl = gd.closest('.output');\n",
       "if (outputEl) {{\n",
       "    x.observe(outputEl, {childList: true});\n",
       "}}\n",
       "\n",
       "                        })                };                });            </script>        </div>"
      ]
     },
     "metadata": {},
     "output_type": "display_data"
    }
   ],
   "source": [
    "benchmark = px.scatter(name_mean, x=\"benchmarkTradePrice\", y=\"mk_price_minus_bmk_price\", color=\"wineName\", size=\"marketPrice\")\n",
    "benchmark.show()"
   ]
  },
  {
   "cell_type": "code",
   "execution_count": 372,
   "metadata": {},
   "outputs": [
    {
     "data": {
      "application/vnd.plotly.v1+json": {
       "config": {
        "plotlyServerURL": "https://plot.ly"
       },
       "data": [
        {
         "hovertemplate": "wineName=Chateau Angelus Premier Grand Cru Classe A, Saint-Emilion Grand Cru<br>score=%{x}<br>mk_price_minus_bmk_price=%{y}<br>marketPrice=%{marker.size}<extra></extra>",
         "legendgroup": "Chateau Angelus Premier Grand Cru Classe A, Saint-Emilion Grand Cru",
         "marker": {
          "color": "#636efa",
          "size": [
           2829.375
          ],
          "sizemode": "area",
          "sizeref": 37.934,
          "symbol": "circle"
         },
         "mode": "markers",
         "name": "Chateau Angelus Premier Grand Cru Classe A, Saint-Emilion Grand Cru",
         "orientation": "v",
         "showlegend": true,
         "type": "scatter",
         "x": [
          95.5625
         ],
         "xaxis": "x",
         "y": [
          180.75
         ],
         "yaxis": "y"
        },
        {
         "hovertemplate": "wineName=Chateau Angelus Premier Grand Cru Classe B, Saint-Emilion Grand Cru<br>score=%{x}<br>mk_price_minus_bmk_price=%{y}<br>marketPrice=%{marker.size}<extra></extra>",
         "legendgroup": "Chateau Angelus Premier Grand Cru Classe B, Saint-Emilion Grand Cru",
         "marker": {
          "color": "#EF553B",
          "size": [
           3158.4545454545455
          ],
          "sizemode": "area",
          "sizeref": 37.934,
          "symbol": "circle"
         },
         "mode": "markers",
         "name": "Chateau Angelus Premier Grand Cru Classe B, Saint-Emilion Grand Cru",
         "orientation": "v",
         "showlegend": true,
         "type": "scatter",
         "x": [
          95.63636363636364
         ],
         "xaxis": "x",
         "y": [
          267.6363636363636
         ],
         "yaxis": "y"
        },
        {
         "hovertemplate": "wineName=Chateau Batailley 5eme Cru Classe, Pauillac<br>score=%{x}<br>mk_price_minus_bmk_price=%{y}<br>marketPrice=%{marker.size}<extra></extra>",
         "legendgroup": "Chateau Batailley 5eme Cru Classe, Pauillac",
         "marker": {
          "color": "#00cc96",
          "size": [
           447.29411764705884
          ],
          "sizemode": "area",
          "sizeref": 37.934,
          "symbol": "circle"
         },
         "mode": "markers",
         "name": "Chateau Batailley 5eme Cru Classe, Pauillac",
         "orientation": "v",
         "showlegend": true,
         "type": "scatter",
         "x": [
          90.70588235294117
         ],
         "xaxis": "x",
         "y": [
          72.6470588235294
         ],
         "yaxis": "y"
        },
        {
         "hovertemplate": "wineName=Chateau Calon Segur 3eme Cru Classe, Saint-Estephe<br>score=%{x}<br>mk_price_minus_bmk_price=%{y}<br>marketPrice=%{marker.size}<extra></extra>",
         "legendgroup": "Chateau Calon Segur 3eme Cru Classe, Saint-Estephe",
         "marker": {
          "color": "#ab63fa",
          "size": [
           887.4736842105264
          ],
          "sizemode": "area",
          "sizeref": 37.934,
          "symbol": "circle"
         },
         "mode": "markers",
         "name": "Chateau Calon Segur 3eme Cru Classe, Saint-Estephe",
         "orientation": "v",
         "showlegend": true,
         "type": "scatter",
         "x": [
          92.3157894736842
         ],
         "xaxis": "x",
         "y": [
          51.21052631578947
         ],
         "yaxis": "y"
        },
        {
         "hovertemplate": "wineName=Chateau Margaux Premier Cru Classe, Margaux<br>score=%{x}<br>mk_price_minus_bmk_price=%{y}<br>marketPrice=%{marker.size}<extra></extra>",
         "legendgroup": "Chateau Margaux Premier Cru Classe, Margaux",
         "marker": {
          "color": "#FFA15A",
          "size": [
           4869.684210526316
          ],
          "sizemode": "area",
          "sizeref": 37.934,
          "symbol": "circle"
         },
         "mode": "markers",
         "name": "Chateau Margaux Premier Cru Classe, Margaux",
         "orientation": "v",
         "showlegend": true,
         "type": "scatter",
         "x": [
          95.65789473684211
         ],
         "xaxis": "x",
         "y": [
          150.1578947368421
         ],
         "yaxis": "y"
        },
        {
         "hovertemplate": "wineName=Domaine Denis Mortet, Chambertin Grand Cru<br>score=%{x}<br>mk_price_minus_bmk_price=%{y}<br>marketPrice=%{marker.size}<extra></extra>",
         "legendgroup": "Domaine Denis Mortet, Chambertin Grand Cru",
         "marker": {
          "color": "#19d3f3",
          "size": [
           9022
          ],
          "sizemode": "area",
          "sizeref": 37.934,
          "symbol": "circle"
         },
         "mode": "markers",
         "name": "Domaine Denis Mortet, Chambertin Grand Cru",
         "orientation": "v",
         "showlegend": true,
         "type": "scatter",
         "x": [
          95.33333333333333
         ],
         "xaxis": "x",
         "y": [
          2858.6666666666665
         ],
         "yaxis": "y"
        },
        {
         "hovertemplate": "wineName=Domaine Leflaive, Chevalier-Montrachet Grand Cru<br>score=%{x}<br>mk_price_minus_bmk_price=%{y}<br>marketPrice=%{marker.size}<extra></extra>",
         "legendgroup": "Domaine Leflaive, Chevalier-Montrachet Grand Cru",
         "marker": {
          "color": "#FF6692",
          "size": [
           7429.75
          ],
          "sizemode": "area",
          "sizeref": 37.934,
          "symbol": "circle"
         },
         "mode": "markers",
         "name": "Domaine Leflaive, Chevalier-Montrachet Grand Cru",
         "orientation": "v",
         "showlegend": true,
         "type": "scatter",
         "x": [
          92.5625
         ],
         "xaxis": "x",
         "y": [
          1445.8125
         ],
         "yaxis": "y"
        },
        {
         "hovertemplate": "wineName=Gaja, Barbaresco<br>score=%{x}<br>mk_price_minus_bmk_price=%{y}<br>marketPrice=%{marker.size}<extra></extra>",
         "legendgroup": "Gaja, Barbaresco",
         "marker": {
          "color": "#B6E880",
          "size": [
           1785.0625
          ],
          "sizemode": "area",
          "sizeref": 37.934,
          "symbol": "circle"
         },
         "mode": "markers",
         "name": "Gaja, Barbaresco",
         "orientation": "v",
         "showlegend": true,
         "type": "scatter",
         "x": [
          93.4375
         ],
         "xaxis": "x",
         "y": [
          288.125
         ],
         "yaxis": "y"
        },
        {
         "hovertemplate": "wineName=Jacques-Frederic Mugnier, Chambolle-Musigny Premier Cru, Les Amoureuses<br>score=%{x}<br>mk_price_minus_bmk_price=%{y}<br>marketPrice=%{marker.size}<extra></extra>",
         "legendgroup": "Jacques-Frederic Mugnier, Chambolle-Musigny Premier Cru, Les Amoureuses",
         "marker": {
          "color": "#FF97FF",
          "size": [
           15173.6
          ],
          "sizemode": "area",
          "sizeref": 37.934,
          "symbol": "circle"
         },
         "mode": "markers",
         "name": "Jacques-Frederic Mugnier, Chambolle-Musigny Premier Cru, Les Amoureuses",
         "orientation": "v",
         "showlegend": true,
         "type": "scatter",
         "x": [
          94
         ],
         "xaxis": "x",
         "y": [
          2546
         ],
         "yaxis": "y"
        },
        {
         "hovertemplate": "wineName=Tignanello, Toscana<br>score=%{x}<br>mk_price_minus_bmk_price=%{y}<br>marketPrice=%{marker.size}<extra></extra>",
         "legendgroup": "Tignanello, Toscana",
         "marker": {
          "color": "#FECB52",
          "size": [
           1183.764705882353
          ],
          "sizemode": "area",
          "sizeref": 37.934,
          "symbol": "circle"
         },
         "mode": "markers",
         "name": "Tignanello, Toscana",
         "orientation": "v",
         "showlegend": true,
         "type": "scatter",
         "x": [
          94.17647058823529
         ],
         "xaxis": "x",
         "y": [
          143.41176470588235
         ],
         "yaxis": "y"
        },
        {
         "hovertemplate": "wineName=Tua Rita, Giusto di Notri, Toscana<br>score=%{x}<br>mk_price_minus_bmk_price=%{y}<br>marketPrice=%{marker.size}<extra></extra>",
         "legendgroup": "Tua Rita, Giusto di Notri, Toscana",
         "marker": {
          "color": "#636efa",
          "size": [
           523.2727272727273
          ],
          "sizemode": "area",
          "sizeref": 37.934,
          "symbol": "circle"
         },
         "mode": "markers",
         "name": "Tua Rita, Giusto di Notri, Toscana",
         "orientation": "v",
         "showlegend": true,
         "type": "scatter",
         "x": [
          95.27272727272727
         ],
         "xaxis": "x",
         "y": [
          132.0909090909091
         ],
         "yaxis": "y"
        }
       ],
       "layout": {
        "legend": {
         "itemsizing": "constant",
         "title": {
          "text": "wineName"
         },
         "tracegroupgap": 0
        },
        "margin": {
         "t": 60
        },
        "template": {
         "data": {
          "bar": [
           {
            "error_x": {
             "color": "#2a3f5f"
            },
            "error_y": {
             "color": "#2a3f5f"
            },
            "marker": {
             "line": {
              "color": "#E5ECF6",
              "width": 0.5
             }
            },
            "type": "bar"
           }
          ],
          "barpolar": [
           {
            "marker": {
             "line": {
              "color": "#E5ECF6",
              "width": 0.5
             }
            },
            "type": "barpolar"
           }
          ],
          "carpet": [
           {
            "aaxis": {
             "endlinecolor": "#2a3f5f",
             "gridcolor": "white",
             "linecolor": "white",
             "minorgridcolor": "white",
             "startlinecolor": "#2a3f5f"
            },
            "baxis": {
             "endlinecolor": "#2a3f5f",
             "gridcolor": "white",
             "linecolor": "white",
             "minorgridcolor": "white",
             "startlinecolor": "#2a3f5f"
            },
            "type": "carpet"
           }
          ],
          "choropleth": [
           {
            "colorbar": {
             "outlinewidth": 0,
             "ticks": ""
            },
            "type": "choropleth"
           }
          ],
          "contour": [
           {
            "colorbar": {
             "outlinewidth": 0,
             "ticks": ""
            },
            "colorscale": [
             [
              0,
              "#0d0887"
             ],
             [
              0.1111111111111111,
              "#46039f"
             ],
             [
              0.2222222222222222,
              "#7201a8"
             ],
             [
              0.3333333333333333,
              "#9c179e"
             ],
             [
              0.4444444444444444,
              "#bd3786"
             ],
             [
              0.5555555555555556,
              "#d8576b"
             ],
             [
              0.6666666666666666,
              "#ed7953"
             ],
             [
              0.7777777777777778,
              "#fb9f3a"
             ],
             [
              0.8888888888888888,
              "#fdca26"
             ],
             [
              1,
              "#f0f921"
             ]
            ],
            "type": "contour"
           }
          ],
          "contourcarpet": [
           {
            "colorbar": {
             "outlinewidth": 0,
             "ticks": ""
            },
            "type": "contourcarpet"
           }
          ],
          "heatmap": [
           {
            "colorbar": {
             "outlinewidth": 0,
             "ticks": ""
            },
            "colorscale": [
             [
              0,
              "#0d0887"
             ],
             [
              0.1111111111111111,
              "#46039f"
             ],
             [
              0.2222222222222222,
              "#7201a8"
             ],
             [
              0.3333333333333333,
              "#9c179e"
             ],
             [
              0.4444444444444444,
              "#bd3786"
             ],
             [
              0.5555555555555556,
              "#d8576b"
             ],
             [
              0.6666666666666666,
              "#ed7953"
             ],
             [
              0.7777777777777778,
              "#fb9f3a"
             ],
             [
              0.8888888888888888,
              "#fdca26"
             ],
             [
              1,
              "#f0f921"
             ]
            ],
            "type": "heatmap"
           }
          ],
          "heatmapgl": [
           {
            "colorbar": {
             "outlinewidth": 0,
             "ticks": ""
            },
            "colorscale": [
             [
              0,
              "#0d0887"
             ],
             [
              0.1111111111111111,
              "#46039f"
             ],
             [
              0.2222222222222222,
              "#7201a8"
             ],
             [
              0.3333333333333333,
              "#9c179e"
             ],
             [
              0.4444444444444444,
              "#bd3786"
             ],
             [
              0.5555555555555556,
              "#d8576b"
             ],
             [
              0.6666666666666666,
              "#ed7953"
             ],
             [
              0.7777777777777778,
              "#fb9f3a"
             ],
             [
              0.8888888888888888,
              "#fdca26"
             ],
             [
              1,
              "#f0f921"
             ]
            ],
            "type": "heatmapgl"
           }
          ],
          "histogram": [
           {
            "marker": {
             "colorbar": {
              "outlinewidth": 0,
              "ticks": ""
             }
            },
            "type": "histogram"
           }
          ],
          "histogram2d": [
           {
            "colorbar": {
             "outlinewidth": 0,
             "ticks": ""
            },
            "colorscale": [
             [
              0,
              "#0d0887"
             ],
             [
              0.1111111111111111,
              "#46039f"
             ],
             [
              0.2222222222222222,
              "#7201a8"
             ],
             [
              0.3333333333333333,
              "#9c179e"
             ],
             [
              0.4444444444444444,
              "#bd3786"
             ],
             [
              0.5555555555555556,
              "#d8576b"
             ],
             [
              0.6666666666666666,
              "#ed7953"
             ],
             [
              0.7777777777777778,
              "#fb9f3a"
             ],
             [
              0.8888888888888888,
              "#fdca26"
             ],
             [
              1,
              "#f0f921"
             ]
            ],
            "type": "histogram2d"
           }
          ],
          "histogram2dcontour": [
           {
            "colorbar": {
             "outlinewidth": 0,
             "ticks": ""
            },
            "colorscale": [
             [
              0,
              "#0d0887"
             ],
             [
              0.1111111111111111,
              "#46039f"
             ],
             [
              0.2222222222222222,
              "#7201a8"
             ],
             [
              0.3333333333333333,
              "#9c179e"
             ],
             [
              0.4444444444444444,
              "#bd3786"
             ],
             [
              0.5555555555555556,
              "#d8576b"
             ],
             [
              0.6666666666666666,
              "#ed7953"
             ],
             [
              0.7777777777777778,
              "#fb9f3a"
             ],
             [
              0.8888888888888888,
              "#fdca26"
             ],
             [
              1,
              "#f0f921"
             ]
            ],
            "type": "histogram2dcontour"
           }
          ],
          "mesh3d": [
           {
            "colorbar": {
             "outlinewidth": 0,
             "ticks": ""
            },
            "type": "mesh3d"
           }
          ],
          "parcoords": [
           {
            "line": {
             "colorbar": {
              "outlinewidth": 0,
              "ticks": ""
             }
            },
            "type": "parcoords"
           }
          ],
          "pie": [
           {
            "automargin": true,
            "type": "pie"
           }
          ],
          "scatter": [
           {
            "marker": {
             "colorbar": {
              "outlinewidth": 0,
              "ticks": ""
             }
            },
            "type": "scatter"
           }
          ],
          "scatter3d": [
           {
            "line": {
             "colorbar": {
              "outlinewidth": 0,
              "ticks": ""
             }
            },
            "marker": {
             "colorbar": {
              "outlinewidth": 0,
              "ticks": ""
             }
            },
            "type": "scatter3d"
           }
          ],
          "scattercarpet": [
           {
            "marker": {
             "colorbar": {
              "outlinewidth": 0,
              "ticks": ""
             }
            },
            "type": "scattercarpet"
           }
          ],
          "scattergeo": [
           {
            "marker": {
             "colorbar": {
              "outlinewidth": 0,
              "ticks": ""
             }
            },
            "type": "scattergeo"
           }
          ],
          "scattergl": [
           {
            "marker": {
             "colorbar": {
              "outlinewidth": 0,
              "ticks": ""
             }
            },
            "type": "scattergl"
           }
          ],
          "scattermapbox": [
           {
            "marker": {
             "colorbar": {
              "outlinewidth": 0,
              "ticks": ""
             }
            },
            "type": "scattermapbox"
           }
          ],
          "scatterpolar": [
           {
            "marker": {
             "colorbar": {
              "outlinewidth": 0,
              "ticks": ""
             }
            },
            "type": "scatterpolar"
           }
          ],
          "scatterpolargl": [
           {
            "marker": {
             "colorbar": {
              "outlinewidth": 0,
              "ticks": ""
             }
            },
            "type": "scatterpolargl"
           }
          ],
          "scatterternary": [
           {
            "marker": {
             "colorbar": {
              "outlinewidth": 0,
              "ticks": ""
             }
            },
            "type": "scatterternary"
           }
          ],
          "surface": [
           {
            "colorbar": {
             "outlinewidth": 0,
             "ticks": ""
            },
            "colorscale": [
             [
              0,
              "#0d0887"
             ],
             [
              0.1111111111111111,
              "#46039f"
             ],
             [
              0.2222222222222222,
              "#7201a8"
             ],
             [
              0.3333333333333333,
              "#9c179e"
             ],
             [
              0.4444444444444444,
              "#bd3786"
             ],
             [
              0.5555555555555556,
              "#d8576b"
             ],
             [
              0.6666666666666666,
              "#ed7953"
             ],
             [
              0.7777777777777778,
              "#fb9f3a"
             ],
             [
              0.8888888888888888,
              "#fdca26"
             ],
             [
              1,
              "#f0f921"
             ]
            ],
            "type": "surface"
           }
          ],
          "table": [
           {
            "cells": {
             "fill": {
              "color": "#EBF0F8"
             },
             "line": {
              "color": "white"
             }
            },
            "header": {
             "fill": {
              "color": "#C8D4E3"
             },
             "line": {
              "color": "white"
             }
            },
            "type": "table"
           }
          ]
         },
         "layout": {
          "annotationdefaults": {
           "arrowcolor": "#2a3f5f",
           "arrowhead": 0,
           "arrowwidth": 1
          },
          "autotypenumbers": "strict",
          "coloraxis": {
           "colorbar": {
            "outlinewidth": 0,
            "ticks": ""
           }
          },
          "colorscale": {
           "diverging": [
            [
             0,
             "#8e0152"
            ],
            [
             0.1,
             "#c51b7d"
            ],
            [
             0.2,
             "#de77ae"
            ],
            [
             0.3,
             "#f1b6da"
            ],
            [
             0.4,
             "#fde0ef"
            ],
            [
             0.5,
             "#f7f7f7"
            ],
            [
             0.6,
             "#e6f5d0"
            ],
            [
             0.7,
             "#b8e186"
            ],
            [
             0.8,
             "#7fbc41"
            ],
            [
             0.9,
             "#4d9221"
            ],
            [
             1,
             "#276419"
            ]
           ],
           "sequential": [
            [
             0,
             "#0d0887"
            ],
            [
             0.1111111111111111,
             "#46039f"
            ],
            [
             0.2222222222222222,
             "#7201a8"
            ],
            [
             0.3333333333333333,
             "#9c179e"
            ],
            [
             0.4444444444444444,
             "#bd3786"
            ],
            [
             0.5555555555555556,
             "#d8576b"
            ],
            [
             0.6666666666666666,
             "#ed7953"
            ],
            [
             0.7777777777777778,
             "#fb9f3a"
            ],
            [
             0.8888888888888888,
             "#fdca26"
            ],
            [
             1,
             "#f0f921"
            ]
           ],
           "sequentialminus": [
            [
             0,
             "#0d0887"
            ],
            [
             0.1111111111111111,
             "#46039f"
            ],
            [
             0.2222222222222222,
             "#7201a8"
            ],
            [
             0.3333333333333333,
             "#9c179e"
            ],
            [
             0.4444444444444444,
             "#bd3786"
            ],
            [
             0.5555555555555556,
             "#d8576b"
            ],
            [
             0.6666666666666666,
             "#ed7953"
            ],
            [
             0.7777777777777778,
             "#fb9f3a"
            ],
            [
             0.8888888888888888,
             "#fdca26"
            ],
            [
             1,
             "#f0f921"
            ]
           ]
          },
          "colorway": [
           "#636efa",
           "#EF553B",
           "#00cc96",
           "#ab63fa",
           "#FFA15A",
           "#19d3f3",
           "#FF6692",
           "#B6E880",
           "#FF97FF",
           "#FECB52"
          ],
          "font": {
           "color": "#2a3f5f"
          },
          "geo": {
           "bgcolor": "white",
           "lakecolor": "white",
           "landcolor": "#E5ECF6",
           "showlakes": true,
           "showland": true,
           "subunitcolor": "white"
          },
          "hoverlabel": {
           "align": "left"
          },
          "hovermode": "closest",
          "mapbox": {
           "style": "light"
          },
          "paper_bgcolor": "white",
          "plot_bgcolor": "#E5ECF6",
          "polar": {
           "angularaxis": {
            "gridcolor": "white",
            "linecolor": "white",
            "ticks": ""
           },
           "bgcolor": "#E5ECF6",
           "radialaxis": {
            "gridcolor": "white",
            "linecolor": "white",
            "ticks": ""
           }
          },
          "scene": {
           "xaxis": {
            "backgroundcolor": "#E5ECF6",
            "gridcolor": "white",
            "gridwidth": 2,
            "linecolor": "white",
            "showbackground": true,
            "ticks": "",
            "zerolinecolor": "white"
           },
           "yaxis": {
            "backgroundcolor": "#E5ECF6",
            "gridcolor": "white",
            "gridwidth": 2,
            "linecolor": "white",
            "showbackground": true,
            "ticks": "",
            "zerolinecolor": "white"
           },
           "zaxis": {
            "backgroundcolor": "#E5ECF6",
            "gridcolor": "white",
            "gridwidth": 2,
            "linecolor": "white",
            "showbackground": true,
            "ticks": "",
            "zerolinecolor": "white"
           }
          },
          "shapedefaults": {
           "line": {
            "color": "#2a3f5f"
           }
          },
          "ternary": {
           "aaxis": {
            "gridcolor": "white",
            "linecolor": "white",
            "ticks": ""
           },
           "baxis": {
            "gridcolor": "white",
            "linecolor": "white",
            "ticks": ""
           },
           "bgcolor": "#E5ECF6",
           "caxis": {
            "gridcolor": "white",
            "linecolor": "white",
            "ticks": ""
           }
          },
          "title": {
           "x": 0.05
          },
          "xaxis": {
           "automargin": true,
           "gridcolor": "white",
           "linecolor": "white",
           "ticks": "",
           "title": {
            "standoff": 15
           },
           "zerolinecolor": "white",
           "zerolinewidth": 2
          },
          "yaxis": {
           "automargin": true,
           "gridcolor": "white",
           "linecolor": "white",
           "ticks": "",
           "title": {
            "standoff": 15
           },
           "zerolinecolor": "white",
           "zerolinewidth": 2
          }
         }
        },
        "xaxis": {
         "anchor": "y",
         "domain": [
          0,
          1
         ],
         "title": {
          "text": "score"
         }
        },
        "yaxis": {
         "anchor": "x",
         "domain": [
          0,
          1
         ],
         "title": {
          "text": "mk_price_minus_bmk_price"
         }
        }
       }
      },
      "text/html": [
       "<div>                            <div id=\"b656415a-cbb6-4226-8c6f-2a3cc063f7b5\" class=\"plotly-graph-div\" style=\"height:525px; width:100%;\"></div>            <script type=\"text/javascript\">                require([\"plotly\"], function(Plotly) {                    window.PLOTLYENV=window.PLOTLYENV || {};                                    if (document.getElementById(\"b656415a-cbb6-4226-8c6f-2a3cc063f7b5\")) {                    Plotly.newPlot(                        \"b656415a-cbb6-4226-8c6f-2a3cc063f7b5\",                        [{\"hovertemplate\": \"wineName=Chateau Angelus Premier Grand Cru Classe A, Saint-Emilion Grand Cru<br>score=%{x}<br>mk_price_minus_bmk_price=%{y}<br>marketPrice=%{marker.size}<extra></extra>\", \"legendgroup\": \"Chateau Angelus Premier Grand Cru Classe A, Saint-Emilion Grand Cru\", \"marker\": {\"color\": \"#636efa\", \"size\": [2829.375], \"sizemode\": \"area\", \"sizeref\": 37.934, \"symbol\": \"circle\"}, \"mode\": \"markers\", \"name\": \"Chateau Angelus Premier Grand Cru Classe A, Saint-Emilion Grand Cru\", \"orientation\": \"v\", \"showlegend\": true, \"type\": \"scatter\", \"x\": [95.5625], \"xaxis\": \"x\", \"y\": [180.75], \"yaxis\": \"y\"}, {\"hovertemplate\": \"wineName=Chateau Angelus Premier Grand Cru Classe B, Saint-Emilion Grand Cru<br>score=%{x}<br>mk_price_minus_bmk_price=%{y}<br>marketPrice=%{marker.size}<extra></extra>\", \"legendgroup\": \"Chateau Angelus Premier Grand Cru Classe B, Saint-Emilion Grand Cru\", \"marker\": {\"color\": \"#EF553B\", \"size\": [3158.4545454545455], \"sizemode\": \"area\", \"sizeref\": 37.934, \"symbol\": \"circle\"}, \"mode\": \"markers\", \"name\": \"Chateau Angelus Premier Grand Cru Classe B, Saint-Emilion Grand Cru\", \"orientation\": \"v\", \"showlegend\": true, \"type\": \"scatter\", \"x\": [95.63636363636364], \"xaxis\": \"x\", \"y\": [267.6363636363636], \"yaxis\": \"y\"}, {\"hovertemplate\": \"wineName=Chateau Batailley 5eme Cru Classe, Pauillac<br>score=%{x}<br>mk_price_minus_bmk_price=%{y}<br>marketPrice=%{marker.size}<extra></extra>\", \"legendgroup\": \"Chateau Batailley 5eme Cru Classe, Pauillac\", \"marker\": {\"color\": \"#00cc96\", \"size\": [447.29411764705884], \"sizemode\": \"area\", \"sizeref\": 37.934, \"symbol\": \"circle\"}, \"mode\": \"markers\", \"name\": \"Chateau Batailley 5eme Cru Classe, Pauillac\", \"orientation\": \"v\", \"showlegend\": true, \"type\": \"scatter\", \"x\": [90.70588235294117], \"xaxis\": \"x\", \"y\": [72.6470588235294], \"yaxis\": \"y\"}, {\"hovertemplate\": \"wineName=Chateau Calon Segur 3eme Cru Classe, Saint-Estephe<br>score=%{x}<br>mk_price_minus_bmk_price=%{y}<br>marketPrice=%{marker.size}<extra></extra>\", \"legendgroup\": \"Chateau Calon Segur 3eme Cru Classe, Saint-Estephe\", \"marker\": {\"color\": \"#ab63fa\", \"size\": [887.4736842105264], \"sizemode\": \"area\", \"sizeref\": 37.934, \"symbol\": \"circle\"}, \"mode\": \"markers\", \"name\": \"Chateau Calon Segur 3eme Cru Classe, Saint-Estephe\", \"orientation\": \"v\", \"showlegend\": true, \"type\": \"scatter\", \"x\": [92.3157894736842], \"xaxis\": \"x\", \"y\": [51.21052631578947], \"yaxis\": \"y\"}, {\"hovertemplate\": \"wineName=Chateau Margaux Premier Cru Classe, Margaux<br>score=%{x}<br>mk_price_minus_bmk_price=%{y}<br>marketPrice=%{marker.size}<extra></extra>\", \"legendgroup\": \"Chateau Margaux Premier Cru Classe, Margaux\", \"marker\": {\"color\": \"#FFA15A\", \"size\": [4869.684210526316], \"sizemode\": \"area\", \"sizeref\": 37.934, \"symbol\": \"circle\"}, \"mode\": \"markers\", \"name\": \"Chateau Margaux Premier Cru Classe, Margaux\", \"orientation\": \"v\", \"showlegend\": true, \"type\": \"scatter\", \"x\": [95.65789473684211], \"xaxis\": \"x\", \"y\": [150.1578947368421], \"yaxis\": \"y\"}, {\"hovertemplate\": \"wineName=Domaine Denis Mortet, Chambertin Grand Cru<br>score=%{x}<br>mk_price_minus_bmk_price=%{y}<br>marketPrice=%{marker.size}<extra></extra>\", \"legendgroup\": \"Domaine Denis Mortet, Chambertin Grand Cru\", \"marker\": {\"color\": \"#19d3f3\", \"size\": [9022.0], \"sizemode\": \"area\", \"sizeref\": 37.934, \"symbol\": \"circle\"}, \"mode\": \"markers\", \"name\": \"Domaine Denis Mortet, Chambertin Grand Cru\", \"orientation\": \"v\", \"showlegend\": true, \"type\": \"scatter\", \"x\": [95.33333333333333], \"xaxis\": \"x\", \"y\": [2858.6666666666665], \"yaxis\": \"y\"}, {\"hovertemplate\": \"wineName=Domaine Leflaive, Chevalier-Montrachet Grand Cru<br>score=%{x}<br>mk_price_minus_bmk_price=%{y}<br>marketPrice=%{marker.size}<extra></extra>\", \"legendgroup\": \"Domaine Leflaive, Chevalier-Montrachet Grand Cru\", \"marker\": {\"color\": \"#FF6692\", \"size\": [7429.75], \"sizemode\": \"area\", \"sizeref\": 37.934, \"symbol\": \"circle\"}, \"mode\": \"markers\", \"name\": \"Domaine Leflaive, Chevalier-Montrachet Grand Cru\", \"orientation\": \"v\", \"showlegend\": true, \"type\": \"scatter\", \"x\": [92.5625], \"xaxis\": \"x\", \"y\": [1445.8125], \"yaxis\": \"y\"}, {\"hovertemplate\": \"wineName=Gaja, Barbaresco<br>score=%{x}<br>mk_price_minus_bmk_price=%{y}<br>marketPrice=%{marker.size}<extra></extra>\", \"legendgroup\": \"Gaja, Barbaresco\", \"marker\": {\"color\": \"#B6E880\", \"size\": [1785.0625], \"sizemode\": \"area\", \"sizeref\": 37.934, \"symbol\": \"circle\"}, \"mode\": \"markers\", \"name\": \"Gaja, Barbaresco\", \"orientation\": \"v\", \"showlegend\": true, \"type\": \"scatter\", \"x\": [93.4375], \"xaxis\": \"x\", \"y\": [288.125], \"yaxis\": \"y\"}, {\"hovertemplate\": \"wineName=Jacques-Frederic Mugnier, Chambolle-Musigny Premier Cru, Les Amoureuses<br>score=%{x}<br>mk_price_minus_bmk_price=%{y}<br>marketPrice=%{marker.size}<extra></extra>\", \"legendgroup\": \"Jacques-Frederic Mugnier, Chambolle-Musigny Premier Cru, Les Amoureuses\", \"marker\": {\"color\": \"#FF97FF\", \"size\": [15173.6], \"sizemode\": \"area\", \"sizeref\": 37.934, \"symbol\": \"circle\"}, \"mode\": \"markers\", \"name\": \"Jacques-Frederic Mugnier, Chambolle-Musigny Premier Cru, Les Amoureuses\", \"orientation\": \"v\", \"showlegend\": true, \"type\": \"scatter\", \"x\": [94.0], \"xaxis\": \"x\", \"y\": [2546.0], \"yaxis\": \"y\"}, {\"hovertemplate\": \"wineName=Tignanello, Toscana<br>score=%{x}<br>mk_price_minus_bmk_price=%{y}<br>marketPrice=%{marker.size}<extra></extra>\", \"legendgroup\": \"Tignanello, Toscana\", \"marker\": {\"color\": \"#FECB52\", \"size\": [1183.764705882353], \"sizemode\": \"area\", \"sizeref\": 37.934, \"symbol\": \"circle\"}, \"mode\": \"markers\", \"name\": \"Tignanello, Toscana\", \"orientation\": \"v\", \"showlegend\": true, \"type\": \"scatter\", \"x\": [94.17647058823529], \"xaxis\": \"x\", \"y\": [143.41176470588235], \"yaxis\": \"y\"}, {\"hovertemplate\": \"wineName=Tua Rita, Giusto di Notri, Toscana<br>score=%{x}<br>mk_price_minus_bmk_price=%{y}<br>marketPrice=%{marker.size}<extra></extra>\", \"legendgroup\": \"Tua Rita, Giusto di Notri, Toscana\", \"marker\": {\"color\": \"#636efa\", \"size\": [523.2727272727273], \"sizemode\": \"area\", \"sizeref\": 37.934, \"symbol\": \"circle\"}, \"mode\": \"markers\", \"name\": \"Tua Rita, Giusto di Notri, Toscana\", \"orientation\": \"v\", \"showlegend\": true, \"type\": \"scatter\", \"x\": [95.27272727272727], \"xaxis\": \"x\", \"y\": [132.0909090909091], \"yaxis\": \"y\"}],                        {\"legend\": {\"itemsizing\": \"constant\", \"title\": {\"text\": \"wineName\"}, \"tracegroupgap\": 0}, \"margin\": {\"t\": 60}, \"template\": {\"data\": {\"bar\": [{\"error_x\": {\"color\": \"#2a3f5f\"}, \"error_y\": {\"color\": \"#2a3f5f\"}, \"marker\": {\"line\": {\"color\": \"#E5ECF6\", \"width\": 0.5}}, \"type\": \"bar\"}], \"barpolar\": [{\"marker\": {\"line\": {\"color\": \"#E5ECF6\", \"width\": 0.5}}, \"type\": \"barpolar\"}], \"carpet\": [{\"aaxis\": {\"endlinecolor\": \"#2a3f5f\", \"gridcolor\": \"white\", \"linecolor\": \"white\", \"minorgridcolor\": \"white\", \"startlinecolor\": \"#2a3f5f\"}, \"baxis\": {\"endlinecolor\": \"#2a3f5f\", \"gridcolor\": \"white\", \"linecolor\": \"white\", \"minorgridcolor\": \"white\", \"startlinecolor\": \"#2a3f5f\"}, \"type\": \"carpet\"}], \"choropleth\": [{\"colorbar\": {\"outlinewidth\": 0, \"ticks\": \"\"}, \"type\": \"choropleth\"}], \"contour\": [{\"colorbar\": {\"outlinewidth\": 0, \"ticks\": \"\"}, \"colorscale\": [[0.0, \"#0d0887\"], [0.1111111111111111, \"#46039f\"], [0.2222222222222222, \"#7201a8\"], [0.3333333333333333, \"#9c179e\"], [0.4444444444444444, \"#bd3786\"], [0.5555555555555556, \"#d8576b\"], [0.6666666666666666, \"#ed7953\"], [0.7777777777777778, \"#fb9f3a\"], [0.8888888888888888, \"#fdca26\"], [1.0, \"#f0f921\"]], \"type\": \"contour\"}], \"contourcarpet\": [{\"colorbar\": {\"outlinewidth\": 0, \"ticks\": \"\"}, \"type\": \"contourcarpet\"}], \"heatmap\": [{\"colorbar\": {\"outlinewidth\": 0, \"ticks\": \"\"}, \"colorscale\": [[0.0, \"#0d0887\"], [0.1111111111111111, \"#46039f\"], [0.2222222222222222, \"#7201a8\"], [0.3333333333333333, \"#9c179e\"], [0.4444444444444444, \"#bd3786\"], [0.5555555555555556, \"#d8576b\"], [0.6666666666666666, \"#ed7953\"], [0.7777777777777778, \"#fb9f3a\"], [0.8888888888888888, \"#fdca26\"], [1.0, \"#f0f921\"]], \"type\": \"heatmap\"}], \"heatmapgl\": [{\"colorbar\": {\"outlinewidth\": 0, \"ticks\": \"\"}, \"colorscale\": [[0.0, \"#0d0887\"], [0.1111111111111111, \"#46039f\"], [0.2222222222222222, \"#7201a8\"], [0.3333333333333333, \"#9c179e\"], [0.4444444444444444, \"#bd3786\"], [0.5555555555555556, \"#d8576b\"], [0.6666666666666666, \"#ed7953\"], [0.7777777777777778, \"#fb9f3a\"], [0.8888888888888888, \"#fdca26\"], [1.0, \"#f0f921\"]], \"type\": \"heatmapgl\"}], \"histogram\": [{\"marker\": {\"colorbar\": {\"outlinewidth\": 0, \"ticks\": \"\"}}, \"type\": \"histogram\"}], \"histogram2d\": [{\"colorbar\": {\"outlinewidth\": 0, \"ticks\": \"\"}, \"colorscale\": [[0.0, \"#0d0887\"], [0.1111111111111111, \"#46039f\"], [0.2222222222222222, \"#7201a8\"], [0.3333333333333333, \"#9c179e\"], [0.4444444444444444, \"#bd3786\"], [0.5555555555555556, \"#d8576b\"], [0.6666666666666666, \"#ed7953\"], [0.7777777777777778, \"#fb9f3a\"], [0.8888888888888888, \"#fdca26\"], [1.0, \"#f0f921\"]], \"type\": \"histogram2d\"}], \"histogram2dcontour\": [{\"colorbar\": {\"outlinewidth\": 0, \"ticks\": \"\"}, \"colorscale\": [[0.0, \"#0d0887\"], [0.1111111111111111, \"#46039f\"], [0.2222222222222222, \"#7201a8\"], [0.3333333333333333, \"#9c179e\"], [0.4444444444444444, \"#bd3786\"], [0.5555555555555556, \"#d8576b\"], [0.6666666666666666, \"#ed7953\"], [0.7777777777777778, \"#fb9f3a\"], [0.8888888888888888, \"#fdca26\"], [1.0, \"#f0f921\"]], \"type\": \"histogram2dcontour\"}], \"mesh3d\": [{\"colorbar\": {\"outlinewidth\": 0, \"ticks\": \"\"}, \"type\": \"mesh3d\"}], \"parcoords\": [{\"line\": {\"colorbar\": {\"outlinewidth\": 0, \"ticks\": \"\"}}, \"type\": \"parcoords\"}], \"pie\": [{\"automargin\": true, \"type\": \"pie\"}], \"scatter\": [{\"marker\": {\"colorbar\": {\"outlinewidth\": 0, \"ticks\": \"\"}}, \"type\": \"scatter\"}], \"scatter3d\": [{\"line\": {\"colorbar\": {\"outlinewidth\": 0, \"ticks\": \"\"}}, \"marker\": {\"colorbar\": {\"outlinewidth\": 0, \"ticks\": \"\"}}, \"type\": \"scatter3d\"}], \"scattercarpet\": [{\"marker\": {\"colorbar\": {\"outlinewidth\": 0, \"ticks\": \"\"}}, \"type\": \"scattercarpet\"}], \"scattergeo\": [{\"marker\": {\"colorbar\": {\"outlinewidth\": 0, \"ticks\": \"\"}}, \"type\": \"scattergeo\"}], \"scattergl\": [{\"marker\": {\"colorbar\": {\"outlinewidth\": 0, \"ticks\": \"\"}}, \"type\": \"scattergl\"}], \"scattermapbox\": [{\"marker\": {\"colorbar\": {\"outlinewidth\": 0, \"ticks\": \"\"}}, \"type\": \"scattermapbox\"}], \"scatterpolar\": [{\"marker\": {\"colorbar\": {\"outlinewidth\": 0, \"ticks\": \"\"}}, \"type\": \"scatterpolar\"}], \"scatterpolargl\": [{\"marker\": {\"colorbar\": {\"outlinewidth\": 0, \"ticks\": \"\"}}, \"type\": \"scatterpolargl\"}], \"scatterternary\": [{\"marker\": {\"colorbar\": {\"outlinewidth\": 0, \"ticks\": \"\"}}, \"type\": \"scatterternary\"}], \"surface\": [{\"colorbar\": {\"outlinewidth\": 0, \"ticks\": \"\"}, \"colorscale\": [[0.0, \"#0d0887\"], [0.1111111111111111, \"#46039f\"], [0.2222222222222222, \"#7201a8\"], [0.3333333333333333, \"#9c179e\"], [0.4444444444444444, \"#bd3786\"], [0.5555555555555556, \"#d8576b\"], [0.6666666666666666, \"#ed7953\"], [0.7777777777777778, \"#fb9f3a\"], [0.8888888888888888, \"#fdca26\"], [1.0, \"#f0f921\"]], \"type\": \"surface\"}], \"table\": [{\"cells\": {\"fill\": {\"color\": \"#EBF0F8\"}, \"line\": {\"color\": \"white\"}}, \"header\": {\"fill\": {\"color\": \"#C8D4E3\"}, \"line\": {\"color\": \"white\"}}, \"type\": \"table\"}]}, \"layout\": {\"annotationdefaults\": {\"arrowcolor\": \"#2a3f5f\", \"arrowhead\": 0, \"arrowwidth\": 1}, \"autotypenumbers\": \"strict\", \"coloraxis\": {\"colorbar\": {\"outlinewidth\": 0, \"ticks\": \"\"}}, \"colorscale\": {\"diverging\": [[0, \"#8e0152\"], [0.1, \"#c51b7d\"], [0.2, \"#de77ae\"], [0.3, \"#f1b6da\"], [0.4, \"#fde0ef\"], [0.5, \"#f7f7f7\"], [0.6, \"#e6f5d0\"], [0.7, \"#b8e186\"], [0.8, \"#7fbc41\"], [0.9, \"#4d9221\"], [1, \"#276419\"]], \"sequential\": [[0.0, \"#0d0887\"], [0.1111111111111111, \"#46039f\"], [0.2222222222222222, \"#7201a8\"], [0.3333333333333333, \"#9c179e\"], [0.4444444444444444, \"#bd3786\"], [0.5555555555555556, \"#d8576b\"], [0.6666666666666666, \"#ed7953\"], [0.7777777777777778, \"#fb9f3a\"], [0.8888888888888888, \"#fdca26\"], [1.0, \"#f0f921\"]], \"sequentialminus\": [[0.0, \"#0d0887\"], [0.1111111111111111, \"#46039f\"], [0.2222222222222222, \"#7201a8\"], [0.3333333333333333, \"#9c179e\"], [0.4444444444444444, \"#bd3786\"], [0.5555555555555556, \"#d8576b\"], [0.6666666666666666, \"#ed7953\"], [0.7777777777777778, \"#fb9f3a\"], [0.8888888888888888, \"#fdca26\"], [1.0, \"#f0f921\"]]}, \"colorway\": [\"#636efa\", \"#EF553B\", \"#00cc96\", \"#ab63fa\", \"#FFA15A\", \"#19d3f3\", \"#FF6692\", \"#B6E880\", \"#FF97FF\", \"#FECB52\"], \"font\": {\"color\": \"#2a3f5f\"}, \"geo\": {\"bgcolor\": \"white\", \"lakecolor\": \"white\", \"landcolor\": \"#E5ECF6\", \"showlakes\": true, \"showland\": true, \"subunitcolor\": \"white\"}, \"hoverlabel\": {\"align\": \"left\"}, \"hovermode\": \"closest\", \"mapbox\": {\"style\": \"light\"}, \"paper_bgcolor\": \"white\", \"plot_bgcolor\": \"#E5ECF6\", \"polar\": {\"angularaxis\": {\"gridcolor\": \"white\", \"linecolor\": \"white\", \"ticks\": \"\"}, \"bgcolor\": \"#E5ECF6\", \"radialaxis\": {\"gridcolor\": \"white\", \"linecolor\": \"white\", \"ticks\": \"\"}}, \"scene\": {\"xaxis\": {\"backgroundcolor\": \"#E5ECF6\", \"gridcolor\": \"white\", \"gridwidth\": 2, \"linecolor\": \"white\", \"showbackground\": true, \"ticks\": \"\", \"zerolinecolor\": \"white\"}, \"yaxis\": {\"backgroundcolor\": \"#E5ECF6\", \"gridcolor\": \"white\", \"gridwidth\": 2, \"linecolor\": \"white\", \"showbackground\": true, \"ticks\": \"\", \"zerolinecolor\": \"white\"}, \"zaxis\": {\"backgroundcolor\": \"#E5ECF6\", \"gridcolor\": \"white\", \"gridwidth\": 2, \"linecolor\": \"white\", \"showbackground\": true, \"ticks\": \"\", \"zerolinecolor\": \"white\"}}, \"shapedefaults\": {\"line\": {\"color\": \"#2a3f5f\"}}, \"ternary\": {\"aaxis\": {\"gridcolor\": \"white\", \"linecolor\": \"white\", \"ticks\": \"\"}, \"baxis\": {\"gridcolor\": \"white\", \"linecolor\": \"white\", \"ticks\": \"\"}, \"bgcolor\": \"#E5ECF6\", \"caxis\": {\"gridcolor\": \"white\", \"linecolor\": \"white\", \"ticks\": \"\"}}, \"title\": {\"x\": 0.05}, \"xaxis\": {\"automargin\": true, \"gridcolor\": \"white\", \"linecolor\": \"white\", \"ticks\": \"\", \"title\": {\"standoff\": 15}, \"zerolinecolor\": \"white\", \"zerolinewidth\": 2}, \"yaxis\": {\"automargin\": true, \"gridcolor\": \"white\", \"linecolor\": \"white\", \"ticks\": \"\", \"title\": {\"standoff\": 15}, \"zerolinecolor\": \"white\", \"zerolinewidth\": 2}}}, \"xaxis\": {\"anchor\": \"y\", \"domain\": [0.0, 1.0], \"title\": {\"text\": \"score\"}}, \"yaxis\": {\"anchor\": \"x\", \"domain\": [0.0, 1.0], \"title\": {\"text\": \"mk_price_minus_bmk_price\"}}},                        {\"responsive\": true}                    ).then(function(){\n",
       "                            \n",
       "var gd = document.getElementById('b656415a-cbb6-4226-8c6f-2a3cc063f7b5');\n",
       "var x = new MutationObserver(function (mutations, observer) {{\n",
       "        var display = window.getComputedStyle(gd).display;\n",
       "        if (!display || display === 'none') {{\n",
       "            console.log([gd, 'removed!']);\n",
       "            Plotly.purge(gd);\n",
       "            observer.disconnect();\n",
       "        }}\n",
       "}});\n",
       "\n",
       "// Listen for the removal of the full notebook cells\n",
       "var notebookContainer = gd.closest('#notebook-container');\n",
       "if (notebookContainer) {{\n",
       "    x.observe(notebookContainer, {childList: true});\n",
       "}}\n",
       "\n",
       "// Listen for the clearing of the current output cell\n",
       "var outputEl = gd.closest('.output');\n",
       "if (outputEl) {{\n",
       "    x.observe(outputEl, {childList: true});\n",
       "}}\n",
       "\n",
       "                        })                };                });            </script>        </div>"
      ]
     },
     "metadata": {},
     "output_type": "display_data"
    }
   ],
   "source": [
    "wine_score = px.scatter(name_mean, x=\"score\", y=\"mk_price_minus_bmk_price\", color=\"wineName\", size=\"marketPrice\")\n",
    "wine_score.show()"
   ]
  },
  {
   "cell_type": "markdown",
   "metadata": {},
   "source": [
    "### Maturity of the Wines\n",
    "#### Next I have grouped the wines by maturity to see how maturity affects the mean and standard deviation in the  prices of wine. We can see in the following three tables that mean increase in wines is biggest in Old wines and Early wines. Young and Early wines have a lot of variation as determined the by variance (standard deviation / mean).\n"
   ]
  },
  {
   "cell_type": "code",
   "execution_count": 306,
   "metadata": {},
   "outputs": [
    {
     "data": {
      "text/html": [
       "<div>\n",
       "<style scoped>\n",
       "    .dataframe tbody tr th:only-of-type {\n",
       "        vertical-align: middle;\n",
       "    }\n",
       "\n",
       "    .dataframe tbody tr th {\n",
       "        vertical-align: top;\n",
       "    }\n",
       "\n",
       "    .dataframe thead th {\n",
       "        text-align: right;\n",
       "    }\n",
       "</style>\n",
       "<table border=\"1\" class=\"dataframe\">\n",
       "  <thead>\n",
       "    <tr style=\"text-align: right;\">\n",
       "      <th></th>\n",
       "      <th>maturity</th>\n",
       "      <th>marketPrice</th>\n",
       "      <th>averageListPrice</th>\n",
       "      <th>averageListQty</th>\n",
       "      <th>benchmarkTradePrice</th>\n",
       "      <th>mk_price_minus_bmk_price</th>\n",
       "      <th>list_price_minus_bmk_price</th>\n",
       "      <th>vintage_x</th>\n",
       "      <th>lwin_11</th>\n",
       "      <th>lwin_7</th>\n",
       "      <th>vintage_y</th>\n",
       "      <th>score</th>\n",
       "      <th>drink_year_min</th>\n",
       "      <th>drink_year_max</th>\n",
       "      <th>lwin</th>\n",
       "    </tr>\n",
       "  </thead>\n",
       "  <tbody>\n",
       "    <tr>\n",
       "      <th>0</th>\n",
       "      <td>Early</td>\n",
       "      <td>3309.292308</td>\n",
       "      <td>3448.353846</td>\n",
       "      <td>35.615385</td>\n",
       "      <td>2743.307692</td>\n",
       "      <td>565.984615</td>\n",
       "      <td>705.046154</td>\n",
       "      <td>2010.630769</td>\n",
       "      <td>1.048336e+10</td>\n",
       "      <td>1.048336e+06</td>\n",
       "      <td>2010.630769</td>\n",
       "      <td>93.969231</td>\n",
       "      <td>2018.184615</td>\n",
       "      <td>2038.092308</td>\n",
       "      <td>1.048336e+06</td>\n",
       "    </tr>\n",
       "    <tr>\n",
       "      <th>1</th>\n",
       "      <td>Late</td>\n",
       "      <td>1900.166667</td>\n",
       "      <td>1974.166667</td>\n",
       "      <td>3.833333</td>\n",
       "      <td>1601.833333</td>\n",
       "      <td>298.333333</td>\n",
       "      <td>372.333333</td>\n",
       "      <td>2002.833333</td>\n",
       "      <td>1.067762e+10</td>\n",
       "      <td>1.067762e+06</td>\n",
       "      <td>2002.833333</td>\n",
       "      <td>92.833333</td>\n",
       "      <td>2009.000000</td>\n",
       "      <td>2022.333333</td>\n",
       "      <td>1.067762e+06</td>\n",
       "    </tr>\n",
       "    <tr>\n",
       "      <th>2</th>\n",
       "      <td>Mature</td>\n",
       "      <td>2366.407407</td>\n",
       "      <td>2603.148148</td>\n",
       "      <td>23.185185</td>\n",
       "      <td>2065.111111</td>\n",
       "      <td>301.296296</td>\n",
       "      <td>538.037037</td>\n",
       "      <td>2007.333333</td>\n",
       "      <td>1.054265e+10</td>\n",
       "      <td>1.054265e+06</td>\n",
       "      <td>2007.333333</td>\n",
       "      <td>93.277778</td>\n",
       "      <td>2014.851852</td>\n",
       "      <td>2027.666667</td>\n",
       "      <td>1.054265e+06</td>\n",
       "    </tr>\n",
       "    <tr>\n",
       "      <th>3</th>\n",
       "      <td>Old</td>\n",
       "      <td>2193.750000</td>\n",
       "      <td>2319.833333</td>\n",
       "      <td>5.333333</td>\n",
       "      <td>1582.750000</td>\n",
       "      <td>611.000000</td>\n",
       "      <td>737.083333</td>\n",
       "      <td>2003.666667</td>\n",
       "      <td>1.048325e+10</td>\n",
       "      <td>1.048325e+06</td>\n",
       "      <td>2003.666667</td>\n",
       "      <td>87.666667</td>\n",
       "      <td>2008.500000</td>\n",
       "      <td>2016.909091</td>\n",
       "      <td>1.048325e+06</td>\n",
       "    </tr>\n",
       "    <tr>\n",
       "      <th>4</th>\n",
       "      <td>Young</td>\n",
       "      <td>4316.040000</td>\n",
       "      <td>4650.480000</td>\n",
       "      <td>63.480000</td>\n",
       "      <td>4103.040000</td>\n",
       "      <td>213.000000</td>\n",
       "      <td>547.440000</td>\n",
       "      <td>2014.880000</td>\n",
       "      <td>1.032004e+10</td>\n",
       "      <td>1.032004e+06</td>\n",
       "      <td>2014.880000</td>\n",
       "      <td>96.120000</td>\n",
       "      <td>2023.400000</td>\n",
       "      <td>2050.560000</td>\n",
       "      <td>1.032004e+06</td>\n",
       "    </tr>\n",
       "  </tbody>\n",
       "</table>\n",
       "</div>"
      ],
      "text/plain": [
       "  maturity  marketPrice  averageListPrice  averageListQty  \\\n",
       "0    Early  3309.292308       3448.353846       35.615385   \n",
       "1     Late  1900.166667       1974.166667        3.833333   \n",
       "2   Mature  2366.407407       2603.148148       23.185185   \n",
       "3      Old  2193.750000       2319.833333        5.333333   \n",
       "4    Young  4316.040000       4650.480000       63.480000   \n",
       "\n",
       "   benchmarkTradePrice  mk_price_minus_bmk_price  list_price_minus_bmk_price  \\\n",
       "0          2743.307692                565.984615                  705.046154   \n",
       "1          1601.833333                298.333333                  372.333333   \n",
       "2          2065.111111                301.296296                  538.037037   \n",
       "3          1582.750000                611.000000                  737.083333   \n",
       "4          4103.040000                213.000000                  547.440000   \n",
       "\n",
       "     vintage_x       lwin_11        lwin_7    vintage_y      score  \\\n",
       "0  2010.630769  1.048336e+10  1.048336e+06  2010.630769  93.969231   \n",
       "1  2002.833333  1.067762e+10  1.067762e+06  2002.833333  92.833333   \n",
       "2  2007.333333  1.054265e+10  1.054265e+06  2007.333333  93.277778   \n",
       "3  2003.666667  1.048325e+10  1.048325e+06  2003.666667  87.666667   \n",
       "4  2014.880000  1.032004e+10  1.032004e+06  2014.880000  96.120000   \n",
       "\n",
       "   drink_year_min  drink_year_max          lwin  \n",
       "0     2018.184615     2038.092308  1.048336e+06  \n",
       "1     2009.000000     2022.333333  1.067762e+06  \n",
       "2     2014.851852     2027.666667  1.054265e+06  \n",
       "3     2008.500000     2016.909091  1.048325e+06  \n",
       "4     2023.400000     2050.560000  1.032004e+06  "
      ]
     },
     "execution_count": 306,
     "metadata": {},
     "output_type": "execute_result"
    }
   ],
   "source": [
    "maturity_mean = merge.groupby([\"maturity\"]).mean().reset_index()\n",
    "maturity_mean"
   ]
  },
  {
   "cell_type": "code",
   "execution_count": 307,
   "metadata": {},
   "outputs": [
    {
     "data": {
      "text/html": [
       "<div>\n",
       "<style scoped>\n",
       "    .dataframe tbody tr th:only-of-type {\n",
       "        vertical-align: middle;\n",
       "    }\n",
       "\n",
       "    .dataframe tbody tr th {\n",
       "        vertical-align: top;\n",
       "    }\n",
       "\n",
       "    .dataframe thead th {\n",
       "        text-align: right;\n",
       "    }\n",
       "</style>\n",
       "<table border=\"1\" class=\"dataframe\">\n",
       "  <thead>\n",
       "    <tr style=\"text-align: right;\">\n",
       "      <th></th>\n",
       "      <th>maturity</th>\n",
       "      <th>marketPrice</th>\n",
       "      <th>averageListPrice</th>\n",
       "      <th>averageListQty</th>\n",
       "      <th>benchmarkTradePrice</th>\n",
       "      <th>mk_price_minus_bmk_price</th>\n",
       "      <th>list_price_minus_bmk_price</th>\n",
       "      <th>vintage_x</th>\n",
       "      <th>lwin_11</th>\n",
       "      <th>lwin_7</th>\n",
       "      <th>vintage_y</th>\n",
       "      <th>score</th>\n",
       "      <th>drink_year_min</th>\n",
       "      <th>drink_year_max</th>\n",
       "      <th>lwin</th>\n",
       "    </tr>\n",
       "  </thead>\n",
       "  <tbody>\n",
       "    <tr>\n",
       "      <th>0</th>\n",
       "      <td>Early</td>\n",
       "      <td>3702.331857</td>\n",
       "      <td>3678.234968</td>\n",
       "      <td>62.744445</td>\n",
       "      <td>2864.162688</td>\n",
       "      <td>1726.895557</td>\n",
       "      <td>1641.231192</td>\n",
       "      <td>4.006125</td>\n",
       "      <td>4.108135e+08</td>\n",
       "      <td>41081.354525</td>\n",
       "      <td>4.006125</td>\n",
       "      <td>2.480985</td>\n",
       "      <td>2.022470</td>\n",
       "      <td>6.816164</td>\n",
       "      <td>41081.354525</td>\n",
       "    </tr>\n",
       "    <tr>\n",
       "      <th>1</th>\n",
       "      <td>Late</td>\n",
       "      <td>819.639047</td>\n",
       "      <td>879.562486</td>\n",
       "      <td>2.786874</td>\n",
       "      <td>810.440971</td>\n",
       "      <td>143.078533</td>\n",
       "      <td>176.971938</td>\n",
       "      <td>1.471960</td>\n",
       "      <td>4.772662e+08</td>\n",
       "      <td>47726.624177</td>\n",
       "      <td>1.471960</td>\n",
       "      <td>1.602082</td>\n",
       "      <td>1.897367</td>\n",
       "      <td>1.751190</td>\n",
       "      <td>47726.624177</td>\n",
       "    </tr>\n",
       "    <tr>\n",
       "      <th>2</th>\n",
       "      <td>Mature</td>\n",
       "      <td>2197.335594</td>\n",
       "      <td>2254.506781</td>\n",
       "      <td>36.880302</td>\n",
       "      <td>1973.505225</td>\n",
       "      <td>703.781971</td>\n",
       "      <td>710.288104</td>\n",
       "      <td>3.626823</td>\n",
       "      <td>4.575562e+08</td>\n",
       "      <td>45755.622537</td>\n",
       "      <td>3.626823</td>\n",
       "      <td>2.122831</td>\n",
       "      <td>1.769478</td>\n",
       "      <td>2.433737</td>\n",
       "      <td>45755.622537</td>\n",
       "    </tr>\n",
       "    <tr>\n",
       "      <th>3</th>\n",
       "      <td>Old</td>\n",
       "      <td>2591.869916</td>\n",
       "      <td>2682.859934</td>\n",
       "      <td>6.386539</td>\n",
       "      <td>1737.805676</td>\n",
       "      <td>910.672579</td>\n",
       "      <td>982.572085</td>\n",
       "      <td>2.534609</td>\n",
       "      <td>4.424075e+08</td>\n",
       "      <td>44240.753385</td>\n",
       "      <td>2.534609</td>\n",
       "      <td>10.611600</td>\n",
       "      <td>3.896385</td>\n",
       "      <td>2.809076</td>\n",
       "      <td>44240.753385</td>\n",
       "    </tr>\n",
       "    <tr>\n",
       "      <th>4</th>\n",
       "      <td>Young</td>\n",
       "      <td>4336.020636</td>\n",
       "      <td>4381.758562</td>\n",
       "      <td>42.870075</td>\n",
       "      <td>4343.736309</td>\n",
       "      <td>1213.132584</td>\n",
       "      <td>953.949644</td>\n",
       "      <td>3.059412</td>\n",
       "      <td>3.639612e+08</td>\n",
       "      <td>36396.119212</td>\n",
       "      <td>3.059412</td>\n",
       "      <td>2.166410</td>\n",
       "      <td>1.779513</td>\n",
       "      <td>7.900844</td>\n",
       "      <td>36396.119212</td>\n",
       "    </tr>\n",
       "  </tbody>\n",
       "</table>\n",
       "</div>"
      ],
      "text/plain": [
       "  maturity  marketPrice  averageListPrice  averageListQty  \\\n",
       "0    Early  3702.331857       3678.234968       62.744445   \n",
       "1     Late   819.639047        879.562486        2.786874   \n",
       "2   Mature  2197.335594       2254.506781       36.880302   \n",
       "3      Old  2591.869916       2682.859934        6.386539   \n",
       "4    Young  4336.020636       4381.758562       42.870075   \n",
       "\n",
       "   benchmarkTradePrice  mk_price_minus_bmk_price  list_price_minus_bmk_price  \\\n",
       "0          2864.162688               1726.895557                 1641.231192   \n",
       "1           810.440971                143.078533                  176.971938   \n",
       "2          1973.505225                703.781971                  710.288104   \n",
       "3          1737.805676                910.672579                  982.572085   \n",
       "4          4343.736309               1213.132584                  953.949644   \n",
       "\n",
       "   vintage_x       lwin_11        lwin_7  vintage_y      score  \\\n",
       "0   4.006125  4.108135e+08  41081.354525   4.006125   2.480985   \n",
       "1   1.471960  4.772662e+08  47726.624177   1.471960   1.602082   \n",
       "2   3.626823  4.575562e+08  45755.622537   3.626823   2.122831   \n",
       "3   2.534609  4.424075e+08  44240.753385   2.534609  10.611600   \n",
       "4   3.059412  3.639612e+08  36396.119212   3.059412   2.166410   \n",
       "\n",
       "   drink_year_min  drink_year_max          lwin  \n",
       "0        2.022470        6.816164  41081.354525  \n",
       "1        1.897367        1.751190  47726.624177  \n",
       "2        1.769478        2.433737  45755.622537  \n",
       "3        3.896385        2.809076  44240.753385  \n",
       "4        1.779513        7.900844  36396.119212  "
      ]
     },
     "execution_count": 307,
     "metadata": {},
     "output_type": "execute_result"
    }
   ],
   "source": [
    "maturity_std = merge.groupby([\"maturity\"]).std().reset_index()\n",
    "maturity_std"
   ]
  },
  {
   "cell_type": "code",
   "execution_count": 308,
   "metadata": {},
   "outputs": [
    {
     "data": {
      "text/plain": [
       "0    3.051135\n",
       "1    0.479593\n",
       "2    2.335847\n",
       "3    1.490462\n",
       "4    5.695458\n",
       "Name: mk_price_minus_bmk_price, dtype: float64"
      ]
     },
     "execution_count": 308,
     "metadata": {},
     "output_type": "execute_result"
    }
   ],
   "source": [
    "maturity_var = maturity_std[\"mk_price_minus_bmk_price\"]/maturity_mean[\"mk_price_minus_bmk_price\"]\n",
    "maturity_var"
   ]
  },
  {
   "cell_type": "markdown",
   "metadata": {},
   "source": [
    "#### Below you can see the maturity of wines against the increase in price metric. Each wine is colored according to wine variety and sized by market price We can see that most of the extreme values occur in the Early and and Young Wines. These wines are dominated by both Pinot Noir and Chardonnay, both Burgundian varietals. Nebbiolo seems to show good increases in Price regardless of maturity although Early and Mature Nebbiolos command best returns."
   ]
  },
  {
   "cell_type": "code",
   "execution_count": 370,
   "metadata": {},
   "outputs": [
    {
     "data": {
      "application/vnd.plotly.v1+json": {
       "config": {
        "plotlyServerURL": "https://plot.ly"
       },
       "data": [
        {
         "hovertemplate": "variety=Nebbiolo<br>maturity=%{x}<br>mk_price_minus_bmk_price=%{y}<br>marketPrice=%{marker.size}<extra></extra>",
         "legendgroup": "Nebbiolo",
         "marker": {
          "color": "#636efa",
          "size": [
           1480,
           1850,
           1800,
           1596,
           2500,
           2260,
           2199,
           1800,
           1350,
           1550,
           1350,
           2872,
           1500,
           1400,
           1299,
           1755
          ],
          "sizemode": "area",
          "sizeref": 42.95,
          "symbol": "circle"
         },
         "mode": "markers",
         "name": "Nebbiolo",
         "orientation": "v",
         "showlegend": true,
         "type": "scatter",
         "x": [
          "Young",
          "Mature",
          "Early",
          "Late",
          "Late",
          "Late",
          "Early",
          "Early",
          "Early",
          "Early",
          "Early",
          "Mature",
          "Young",
          "Early",
          "Early",
          "Mature"
         ],
         "xaxis": "x",
         "y": [
          124,
          670,
          500,
          451,
          280,
          70,
          859,
          360,
          -2,
          250,
          90,
          318,
          92,
          124,
          -1,
          425
         ],
         "yaxis": "y"
        },
        {
         "hovertemplate": "variety=Proprietary Blend<br>maturity=%{x}<br>mk_price_minus_bmk_price=%{y}<br>marketPrice=%{marker.size}<extra></extra>",
         "legendgroup": "Proprietary Blend",
         "marker": {
          "color": "#EF553B",
          "size": [
           1110,
           3910,
           3700,
           6250,
           4400,
           3720,
           3920,
           460,
           3700,
           780,
           1040,
           738,
           10500,
           3900,
           6250,
           1082,
           870,
           900,
           3826,
           800,
           1408,
           907,
           450,
           550,
           1000,
           900,
           574,
           520,
           660,
           540,
           1700,
           1408,
           990,
           525,
           3560,
           750,
           6830,
           1024,
           1326,
           975,
           530,
           958,
           880,
           850,
           4850,
           3758,
           840,
           960,
           1100,
           420,
           980,
           3800,
           450,
           1200,
           400,
           490,
           1300,
           490,
           820,
           1000,
           400,
           5415,
           1678,
           400,
           857,
           300,
           420,
           950,
           350,
           1245,
           477,
           475,
           5415,
           4820,
           870,
           496,
           3600,
           790,
           2973,
           480,
           487,
           540,
           3300,
           408,
           2820,
           468,
           600,
           4425,
           2900,
           2690,
           2750,
           3295,
           3400,
           2590,
           3800,
           2300,
           2360,
           2580,
           2960,
           2730,
           3144,
           2761
          ],
          "sizemode": "area",
          "sizeref": 42.95,
          "symbol": "circle"
         },
         "mode": "markers",
         "name": "Proprietary Blend",
         "orientation": "v",
         "showlegend": true,
         "type": "scatter",
         "x": [
          "Early",
          "Mature",
          "Young",
          "Early",
          "Early",
          "Young",
          "Early",
          "Early",
          "Early",
          "Early",
          null,
          "Young",
          "Young",
          "Mature",
          "Young",
          "Early",
          "Old",
          "Mature",
          "Early",
          "Old",
          "Old",
          "Old",
          "Old",
          "Early",
          "Early",
          "Young",
          "Old",
          "Mature",
          "Mature",
          "Mature",
          "Late",
          "Mature",
          "Early",
          "Late",
          "Early",
          "Early",
          "Early",
          "Early",
          "Early",
          "Early",
          "Early",
          "Mature",
          "Mature",
          "Early",
          "Mature",
          "Mature",
          "Early",
          "Mature",
          "Mature",
          "Early",
          "Early",
          "Young",
          "Early",
          "Early",
          "Mature",
          "Early",
          "Early",
          "Early",
          "Early",
          "Early",
          "Early",
          "Young",
          "Old",
          "Early",
          "Early",
          "Mature",
          "Mature",
          null,
          "Young",
          "Old",
          "Young",
          "Early",
          "Young",
          null,
          "Young",
          "Young",
          "Mature",
          "Early",
          "Old",
          "Young",
          "Early",
          "Early",
          "Mature",
          null,
          "Late",
          "Old",
          "Mature",
          "Early",
          "Early",
          "Early",
          "Mature",
          "Early",
          "Young",
          "Mature",
          "Young",
          "Mature",
          "Early",
          "Young",
          "Young",
          "Early",
          "Young",
          null
         ],
         "xaxis": "x",
         "y": [
          -94,
          110,
          0,
          134,
          0,
          240,
          40,
          40,
          180,
          98,
          90,
          -22,
          656,
          216,
          328,
          34,
          165,
          100,
          -290,
          55,
          258,
          102,
          230,
          130,
          12,
          37,
          223,
          60,
          270,
          240,
          322,
          170,
          0,
          225,
          35,
          -40,
          -256,
          -48,
          156,
          -51,
          80,
          98,
          155,
          -10,
          50,
          68,
          59,
          110,
          90,
          -112,
          150,
          240,
          110,
          118,
          68,
          -14,
          100,
          -4,
          85,
          140,
          100,
          177,
          498,
          45,
          57,
          -4,
          78,
          108,
          26,
          363,
          117,
          87,
          265,
          660,
          -50,
          184,
          499,
          -4,
          363,
          100,
          167,
          -4,
          145,
          51,
          442,
          3,
          192,
          -125,
          250,
          190,
          245,
          295,
          50,
          590,
          195,
          300,
          100,
          80,
          116,
          272,
          24,
          359
         ],
         "yaxis": "y"
        },
        {
         "hovertemplate": "variety=Chardonnay<br>maturity=%{x}<br>mk_price_minus_bmk_price=%{y}<br>marketPrice=%{marker.size}<extra></extra>",
         "legendgroup": "Chardonnay",
         "marker": {
          "color": "#00cc96",
          "size": [
           8000,
           9950,
           7000,
           7800,
           8400,
           7906,
           6800,
           6396,
           6900,
           6552,
           6360,
           5600,
           8400,
           9000,
           6000,
           7812
          ],
          "sizemode": "area",
          "sizeref": 42.95,
          "symbol": "circle"
         },
         "mode": "markers",
         "name": "Chardonnay",
         "orientation": "v",
         "showlegend": true,
         "type": "scatter",
         "x": [
          null,
          "Early",
          "Early",
          "Young",
          "Old",
          "Early",
          "Early",
          "Early",
          "Early",
          "Old",
          "Young",
          "Early",
          "Early",
          "Mature",
          "Early",
          "Mature"
         ],
         "xaxis": "x",
         "y": [
          1026,
          1950,
          1640,
          470,
          2440,
          782,
          5070,
          -1504,
          495,
          2632,
          1860,
          1200,
          2700,
          3600,
          -500,
          -728
         ],
         "yaxis": "y"
        },
        {
         "hovertemplate": "variety=Pinot Noir<br>maturity=%{x}<br>mk_price_minus_bmk_price=%{y}<br>marketPrice=%{marker.size}<extra></extra>",
         "legendgroup": "Pinot Noir",
         "marker": {
          "color": "#ab63fa",
          "size": [
           14766,
           14520,
           17180,
           8400,
           12402,
           17000,
           10650,
           8016
          ],
          "sizemode": "area",
          "sizeref": 42.95,
          "symbol": "circle"
         },
         "mode": "markers",
         "name": "Pinot Noir",
         "orientation": "v",
         "showlegend": true,
         "type": "scatter",
         "x": [
          "Young",
          "Early",
          "Early",
          "Early",
          "Early",
          "Young",
          "Early",
          null
         ],
         "xaxis": "x",
         "y": [
          -3984,
          2520,
          10642,
          1200,
          -448,
          4000,
          6650,
          726
         ],
         "yaxis": "y"
        }
       ],
       "layout": {
        "legend": {
         "itemsizing": "constant",
         "title": {
          "text": "variety"
         },
         "tracegroupgap": 0
        },
        "margin": {
         "t": 60
        },
        "template": {
         "data": {
          "bar": [
           {
            "error_x": {
             "color": "#2a3f5f"
            },
            "error_y": {
             "color": "#2a3f5f"
            },
            "marker": {
             "line": {
              "color": "#E5ECF6",
              "width": 0.5
             }
            },
            "type": "bar"
           }
          ],
          "barpolar": [
           {
            "marker": {
             "line": {
              "color": "#E5ECF6",
              "width": 0.5
             }
            },
            "type": "barpolar"
           }
          ],
          "carpet": [
           {
            "aaxis": {
             "endlinecolor": "#2a3f5f",
             "gridcolor": "white",
             "linecolor": "white",
             "minorgridcolor": "white",
             "startlinecolor": "#2a3f5f"
            },
            "baxis": {
             "endlinecolor": "#2a3f5f",
             "gridcolor": "white",
             "linecolor": "white",
             "minorgridcolor": "white",
             "startlinecolor": "#2a3f5f"
            },
            "type": "carpet"
           }
          ],
          "choropleth": [
           {
            "colorbar": {
             "outlinewidth": 0,
             "ticks": ""
            },
            "type": "choropleth"
           }
          ],
          "contour": [
           {
            "colorbar": {
             "outlinewidth": 0,
             "ticks": ""
            },
            "colorscale": [
             [
              0,
              "#0d0887"
             ],
             [
              0.1111111111111111,
              "#46039f"
             ],
             [
              0.2222222222222222,
              "#7201a8"
             ],
             [
              0.3333333333333333,
              "#9c179e"
             ],
             [
              0.4444444444444444,
              "#bd3786"
             ],
             [
              0.5555555555555556,
              "#d8576b"
             ],
             [
              0.6666666666666666,
              "#ed7953"
             ],
             [
              0.7777777777777778,
              "#fb9f3a"
             ],
             [
              0.8888888888888888,
              "#fdca26"
             ],
             [
              1,
              "#f0f921"
             ]
            ],
            "type": "contour"
           }
          ],
          "contourcarpet": [
           {
            "colorbar": {
             "outlinewidth": 0,
             "ticks": ""
            },
            "type": "contourcarpet"
           }
          ],
          "heatmap": [
           {
            "colorbar": {
             "outlinewidth": 0,
             "ticks": ""
            },
            "colorscale": [
             [
              0,
              "#0d0887"
             ],
             [
              0.1111111111111111,
              "#46039f"
             ],
             [
              0.2222222222222222,
              "#7201a8"
             ],
             [
              0.3333333333333333,
              "#9c179e"
             ],
             [
              0.4444444444444444,
              "#bd3786"
             ],
             [
              0.5555555555555556,
              "#d8576b"
             ],
             [
              0.6666666666666666,
              "#ed7953"
             ],
             [
              0.7777777777777778,
              "#fb9f3a"
             ],
             [
              0.8888888888888888,
              "#fdca26"
             ],
             [
              1,
              "#f0f921"
             ]
            ],
            "type": "heatmap"
           }
          ],
          "heatmapgl": [
           {
            "colorbar": {
             "outlinewidth": 0,
             "ticks": ""
            },
            "colorscale": [
             [
              0,
              "#0d0887"
             ],
             [
              0.1111111111111111,
              "#46039f"
             ],
             [
              0.2222222222222222,
              "#7201a8"
             ],
             [
              0.3333333333333333,
              "#9c179e"
             ],
             [
              0.4444444444444444,
              "#bd3786"
             ],
             [
              0.5555555555555556,
              "#d8576b"
             ],
             [
              0.6666666666666666,
              "#ed7953"
             ],
             [
              0.7777777777777778,
              "#fb9f3a"
             ],
             [
              0.8888888888888888,
              "#fdca26"
             ],
             [
              1,
              "#f0f921"
             ]
            ],
            "type": "heatmapgl"
           }
          ],
          "histogram": [
           {
            "marker": {
             "colorbar": {
              "outlinewidth": 0,
              "ticks": ""
             }
            },
            "type": "histogram"
           }
          ],
          "histogram2d": [
           {
            "colorbar": {
             "outlinewidth": 0,
             "ticks": ""
            },
            "colorscale": [
             [
              0,
              "#0d0887"
             ],
             [
              0.1111111111111111,
              "#46039f"
             ],
             [
              0.2222222222222222,
              "#7201a8"
             ],
             [
              0.3333333333333333,
              "#9c179e"
             ],
             [
              0.4444444444444444,
              "#bd3786"
             ],
             [
              0.5555555555555556,
              "#d8576b"
             ],
             [
              0.6666666666666666,
              "#ed7953"
             ],
             [
              0.7777777777777778,
              "#fb9f3a"
             ],
             [
              0.8888888888888888,
              "#fdca26"
             ],
             [
              1,
              "#f0f921"
             ]
            ],
            "type": "histogram2d"
           }
          ],
          "histogram2dcontour": [
           {
            "colorbar": {
             "outlinewidth": 0,
             "ticks": ""
            },
            "colorscale": [
             [
              0,
              "#0d0887"
             ],
             [
              0.1111111111111111,
              "#46039f"
             ],
             [
              0.2222222222222222,
              "#7201a8"
             ],
             [
              0.3333333333333333,
              "#9c179e"
             ],
             [
              0.4444444444444444,
              "#bd3786"
             ],
             [
              0.5555555555555556,
              "#d8576b"
             ],
             [
              0.6666666666666666,
              "#ed7953"
             ],
             [
              0.7777777777777778,
              "#fb9f3a"
             ],
             [
              0.8888888888888888,
              "#fdca26"
             ],
             [
              1,
              "#f0f921"
             ]
            ],
            "type": "histogram2dcontour"
           }
          ],
          "mesh3d": [
           {
            "colorbar": {
             "outlinewidth": 0,
             "ticks": ""
            },
            "type": "mesh3d"
           }
          ],
          "parcoords": [
           {
            "line": {
             "colorbar": {
              "outlinewidth": 0,
              "ticks": ""
             }
            },
            "type": "parcoords"
           }
          ],
          "pie": [
           {
            "automargin": true,
            "type": "pie"
           }
          ],
          "scatter": [
           {
            "marker": {
             "colorbar": {
              "outlinewidth": 0,
              "ticks": ""
             }
            },
            "type": "scatter"
           }
          ],
          "scatter3d": [
           {
            "line": {
             "colorbar": {
              "outlinewidth": 0,
              "ticks": ""
             }
            },
            "marker": {
             "colorbar": {
              "outlinewidth": 0,
              "ticks": ""
             }
            },
            "type": "scatter3d"
           }
          ],
          "scattercarpet": [
           {
            "marker": {
             "colorbar": {
              "outlinewidth": 0,
              "ticks": ""
             }
            },
            "type": "scattercarpet"
           }
          ],
          "scattergeo": [
           {
            "marker": {
             "colorbar": {
              "outlinewidth": 0,
              "ticks": ""
             }
            },
            "type": "scattergeo"
           }
          ],
          "scattergl": [
           {
            "marker": {
             "colorbar": {
              "outlinewidth": 0,
              "ticks": ""
             }
            },
            "type": "scattergl"
           }
          ],
          "scattermapbox": [
           {
            "marker": {
             "colorbar": {
              "outlinewidth": 0,
              "ticks": ""
             }
            },
            "type": "scattermapbox"
           }
          ],
          "scatterpolar": [
           {
            "marker": {
             "colorbar": {
              "outlinewidth": 0,
              "ticks": ""
             }
            },
            "type": "scatterpolar"
           }
          ],
          "scatterpolargl": [
           {
            "marker": {
             "colorbar": {
              "outlinewidth": 0,
              "ticks": ""
             }
            },
            "type": "scatterpolargl"
           }
          ],
          "scatterternary": [
           {
            "marker": {
             "colorbar": {
              "outlinewidth": 0,
              "ticks": ""
             }
            },
            "type": "scatterternary"
           }
          ],
          "surface": [
           {
            "colorbar": {
             "outlinewidth": 0,
             "ticks": ""
            },
            "colorscale": [
             [
              0,
              "#0d0887"
             ],
             [
              0.1111111111111111,
              "#46039f"
             ],
             [
              0.2222222222222222,
              "#7201a8"
             ],
             [
              0.3333333333333333,
              "#9c179e"
             ],
             [
              0.4444444444444444,
              "#bd3786"
             ],
             [
              0.5555555555555556,
              "#d8576b"
             ],
             [
              0.6666666666666666,
              "#ed7953"
             ],
             [
              0.7777777777777778,
              "#fb9f3a"
             ],
             [
              0.8888888888888888,
              "#fdca26"
             ],
             [
              1,
              "#f0f921"
             ]
            ],
            "type": "surface"
           }
          ],
          "table": [
           {
            "cells": {
             "fill": {
              "color": "#EBF0F8"
             },
             "line": {
              "color": "white"
             }
            },
            "header": {
             "fill": {
              "color": "#C8D4E3"
             },
             "line": {
              "color": "white"
             }
            },
            "type": "table"
           }
          ]
         },
         "layout": {
          "annotationdefaults": {
           "arrowcolor": "#2a3f5f",
           "arrowhead": 0,
           "arrowwidth": 1
          },
          "autotypenumbers": "strict",
          "coloraxis": {
           "colorbar": {
            "outlinewidth": 0,
            "ticks": ""
           }
          },
          "colorscale": {
           "diverging": [
            [
             0,
             "#8e0152"
            ],
            [
             0.1,
             "#c51b7d"
            ],
            [
             0.2,
             "#de77ae"
            ],
            [
             0.3,
             "#f1b6da"
            ],
            [
             0.4,
             "#fde0ef"
            ],
            [
             0.5,
             "#f7f7f7"
            ],
            [
             0.6,
             "#e6f5d0"
            ],
            [
             0.7,
             "#b8e186"
            ],
            [
             0.8,
             "#7fbc41"
            ],
            [
             0.9,
             "#4d9221"
            ],
            [
             1,
             "#276419"
            ]
           ],
           "sequential": [
            [
             0,
             "#0d0887"
            ],
            [
             0.1111111111111111,
             "#46039f"
            ],
            [
             0.2222222222222222,
             "#7201a8"
            ],
            [
             0.3333333333333333,
             "#9c179e"
            ],
            [
             0.4444444444444444,
             "#bd3786"
            ],
            [
             0.5555555555555556,
             "#d8576b"
            ],
            [
             0.6666666666666666,
             "#ed7953"
            ],
            [
             0.7777777777777778,
             "#fb9f3a"
            ],
            [
             0.8888888888888888,
             "#fdca26"
            ],
            [
             1,
             "#f0f921"
            ]
           ],
           "sequentialminus": [
            [
             0,
             "#0d0887"
            ],
            [
             0.1111111111111111,
             "#46039f"
            ],
            [
             0.2222222222222222,
             "#7201a8"
            ],
            [
             0.3333333333333333,
             "#9c179e"
            ],
            [
             0.4444444444444444,
             "#bd3786"
            ],
            [
             0.5555555555555556,
             "#d8576b"
            ],
            [
             0.6666666666666666,
             "#ed7953"
            ],
            [
             0.7777777777777778,
             "#fb9f3a"
            ],
            [
             0.8888888888888888,
             "#fdca26"
            ],
            [
             1,
             "#f0f921"
            ]
           ]
          },
          "colorway": [
           "#636efa",
           "#EF553B",
           "#00cc96",
           "#ab63fa",
           "#FFA15A",
           "#19d3f3",
           "#FF6692",
           "#B6E880",
           "#FF97FF",
           "#FECB52"
          ],
          "font": {
           "color": "#2a3f5f"
          },
          "geo": {
           "bgcolor": "white",
           "lakecolor": "white",
           "landcolor": "#E5ECF6",
           "showlakes": true,
           "showland": true,
           "subunitcolor": "white"
          },
          "hoverlabel": {
           "align": "left"
          },
          "hovermode": "closest",
          "mapbox": {
           "style": "light"
          },
          "paper_bgcolor": "white",
          "plot_bgcolor": "#E5ECF6",
          "polar": {
           "angularaxis": {
            "gridcolor": "white",
            "linecolor": "white",
            "ticks": ""
           },
           "bgcolor": "#E5ECF6",
           "radialaxis": {
            "gridcolor": "white",
            "linecolor": "white",
            "ticks": ""
           }
          },
          "scene": {
           "xaxis": {
            "backgroundcolor": "#E5ECF6",
            "gridcolor": "white",
            "gridwidth": 2,
            "linecolor": "white",
            "showbackground": true,
            "ticks": "",
            "zerolinecolor": "white"
           },
           "yaxis": {
            "backgroundcolor": "#E5ECF6",
            "gridcolor": "white",
            "gridwidth": 2,
            "linecolor": "white",
            "showbackground": true,
            "ticks": "",
            "zerolinecolor": "white"
           },
           "zaxis": {
            "backgroundcolor": "#E5ECF6",
            "gridcolor": "white",
            "gridwidth": 2,
            "linecolor": "white",
            "showbackground": true,
            "ticks": "",
            "zerolinecolor": "white"
           }
          },
          "shapedefaults": {
           "line": {
            "color": "#2a3f5f"
           }
          },
          "ternary": {
           "aaxis": {
            "gridcolor": "white",
            "linecolor": "white",
            "ticks": ""
           },
           "baxis": {
            "gridcolor": "white",
            "linecolor": "white",
            "ticks": ""
           },
           "bgcolor": "#E5ECF6",
           "caxis": {
            "gridcolor": "white",
            "linecolor": "white",
            "ticks": ""
           }
          },
          "title": {
           "x": 0.05
          },
          "xaxis": {
           "automargin": true,
           "gridcolor": "white",
           "linecolor": "white",
           "ticks": "",
           "title": {
            "standoff": 15
           },
           "zerolinecolor": "white",
           "zerolinewidth": 2
          },
          "yaxis": {
           "automargin": true,
           "gridcolor": "white",
           "linecolor": "white",
           "ticks": "",
           "title": {
            "standoff": 15
           },
           "zerolinecolor": "white",
           "zerolinewidth": 2
          }
         }
        },
        "xaxis": {
         "anchor": "y",
         "domain": [
          0,
          1
         ],
         "title": {
          "text": "maturity"
         }
        },
        "yaxis": {
         "anchor": "x",
         "domain": [
          0,
          1
         ],
         "title": {
          "text": "mk_price_minus_bmk_price"
         }
        }
       }
      },
      "text/html": [
       "<div>                            <div id=\"10b1b45a-dfd7-4558-b2d9-abc1306d6022\" class=\"plotly-graph-div\" style=\"height:525px; width:100%;\"></div>            <script type=\"text/javascript\">                require([\"plotly\"], function(Plotly) {                    window.PLOTLYENV=window.PLOTLYENV || {};                                    if (document.getElementById(\"10b1b45a-dfd7-4558-b2d9-abc1306d6022\")) {                    Plotly.newPlot(                        \"10b1b45a-dfd7-4558-b2d9-abc1306d6022\",                        [{\"hovertemplate\": \"variety=Nebbiolo<br>maturity=%{x}<br>mk_price_minus_bmk_price=%{y}<br>marketPrice=%{marker.size}<extra></extra>\", \"legendgroup\": \"Nebbiolo\", \"marker\": {\"color\": \"#636efa\", \"size\": [1480, 1850, 1800, 1596, 2500, 2260, 2199, 1800, 1350, 1550, 1350, 2872, 1500, 1400, 1299, 1755], \"sizemode\": \"area\", \"sizeref\": 42.95, \"symbol\": \"circle\"}, \"mode\": \"markers\", \"name\": \"Nebbiolo\", \"orientation\": \"v\", \"showlegend\": true, \"type\": \"scatter\", \"x\": [\"Young\", \"Mature\", \"Early\", \"Late\", \"Late\", \"Late\", \"Early\", \"Early\", \"Early\", \"Early\", \"Early\", \"Mature\", \"Young\", \"Early\", \"Early\", \"Mature\"], \"xaxis\": \"x\", \"y\": [124, 670, 500, 451, 280, 70, 859, 360, -2, 250, 90, 318, 92, 124, -1, 425], \"yaxis\": \"y\"}, {\"hovertemplate\": \"variety=Proprietary Blend<br>maturity=%{x}<br>mk_price_minus_bmk_price=%{y}<br>marketPrice=%{marker.size}<extra></extra>\", \"legendgroup\": \"Proprietary Blend\", \"marker\": {\"color\": \"#EF553B\", \"size\": [1110, 3910, 3700, 6250, 4400, 3720, 3920, 460, 3700, 780, 1040, 738, 10500, 3900, 6250, 1082, 870, 900, 3826, 800, 1408, 907, 450, 550, 1000, 900, 574, 520, 660, 540, 1700, 1408, 990, 525, 3560, 750, 6830, 1024, 1326, 975, 530, 958, 880, 850, 4850, 3758, 840, 960, 1100, 420, 980, 3800, 450, 1200, 400, 490, 1300, 490, 820, 1000, 400, 5415, 1678, 400, 857, 300, 420, 950, 350, 1245, 477, 475, 5415, 4820, 870, 496, 3600, 790, 2973, 480, 487, 540, 3300, 408, 2820, 468, 600, 4425, 2900, 2690, 2750, 3295, 3400, 2590, 3800, 2300, 2360, 2580, 2960, 2730, 3144, 2761], \"sizemode\": \"area\", \"sizeref\": 42.95, \"symbol\": \"circle\"}, \"mode\": \"markers\", \"name\": \"Proprietary Blend\", \"orientation\": \"v\", \"showlegend\": true, \"type\": \"scatter\", \"x\": [\"Early\", \"Mature\", \"Young\", \"Early\", \"Early\", \"Young\", \"Early\", \"Early\", \"Early\", \"Early\", null, \"Young\", \"Young\", \"Mature\", \"Young\", \"Early\", \"Old\", \"Mature\", \"Early\", \"Old\", \"Old\", \"Old\", \"Old\", \"Early\", \"Early\", \"Young\", \"Old\", \"Mature\", \"Mature\", \"Mature\", \"Late\", \"Mature\", \"Early\", \"Late\", \"Early\", \"Early\", \"Early\", \"Early\", \"Early\", \"Early\", \"Early\", \"Mature\", \"Mature\", \"Early\", \"Mature\", \"Mature\", \"Early\", \"Mature\", \"Mature\", \"Early\", \"Early\", \"Young\", \"Early\", \"Early\", \"Mature\", \"Early\", \"Early\", \"Early\", \"Early\", \"Early\", \"Early\", \"Young\", \"Old\", \"Early\", \"Early\", \"Mature\", \"Mature\", null, \"Young\", \"Old\", \"Young\", \"Early\", \"Young\", null, \"Young\", \"Young\", \"Mature\", \"Early\", \"Old\", \"Young\", \"Early\", \"Early\", \"Mature\", null, \"Late\", \"Old\", \"Mature\", \"Early\", \"Early\", \"Early\", \"Mature\", \"Early\", \"Young\", \"Mature\", \"Young\", \"Mature\", \"Early\", \"Young\", \"Young\", \"Early\", \"Young\", null], \"xaxis\": \"x\", \"y\": [-94, 110, 0, 134, 0, 240, 40, 40, 180, 98, 90, -22, 656, 216, 328, 34, 165, 100, -290, 55, 258, 102, 230, 130, 12, 37, 223, 60, 270, 240, 322, 170, 0, 225, 35, -40, -256, -48, 156, -51, 80, 98, 155, -10, 50, 68, 59, 110, 90, -112, 150, 240, 110, 118, 68, -14, 100, -4, 85, 140, 100, 177, 498, 45, 57, -4, 78, 108, 26, 363, 117, 87, 265, 660, -50, 184, 499, -4, 363, 100, 167, -4, 145, 51, 442, 3, 192, -125, 250, 190, 245, 295, 50, 590, 195, 300, 100, 80, 116, 272, 24, 359], \"yaxis\": \"y\"}, {\"hovertemplate\": \"variety=Chardonnay<br>maturity=%{x}<br>mk_price_minus_bmk_price=%{y}<br>marketPrice=%{marker.size}<extra></extra>\", \"legendgroup\": \"Chardonnay\", \"marker\": {\"color\": \"#00cc96\", \"size\": [8000, 9950, 7000, 7800, 8400, 7906, 6800, 6396, 6900, 6552, 6360, 5600, 8400, 9000, 6000, 7812], \"sizemode\": \"area\", \"sizeref\": 42.95, \"symbol\": \"circle\"}, \"mode\": \"markers\", \"name\": \"Chardonnay\", \"orientation\": \"v\", \"showlegend\": true, \"type\": \"scatter\", \"x\": [null, \"Early\", \"Early\", \"Young\", \"Old\", \"Early\", \"Early\", \"Early\", \"Early\", \"Old\", \"Young\", \"Early\", \"Early\", \"Mature\", \"Early\", \"Mature\"], \"xaxis\": \"x\", \"y\": [1026, 1950, 1640, 470, 2440, 782, 5070, -1504, 495, 2632, 1860, 1200, 2700, 3600, -500, -728], \"yaxis\": \"y\"}, {\"hovertemplate\": \"variety=Pinot Noir<br>maturity=%{x}<br>mk_price_minus_bmk_price=%{y}<br>marketPrice=%{marker.size}<extra></extra>\", \"legendgroup\": \"Pinot Noir\", \"marker\": {\"color\": \"#ab63fa\", \"size\": [14766, 14520, 17180, 8400, 12402, 17000, 10650, 8016], \"sizemode\": \"area\", \"sizeref\": 42.95, \"symbol\": \"circle\"}, \"mode\": \"markers\", \"name\": \"Pinot Noir\", \"orientation\": \"v\", \"showlegend\": true, \"type\": \"scatter\", \"x\": [\"Young\", \"Early\", \"Early\", \"Early\", \"Early\", \"Young\", \"Early\", null], \"xaxis\": \"x\", \"y\": [-3984, 2520, 10642, 1200, -448, 4000, 6650, 726], \"yaxis\": \"y\"}],                        {\"legend\": {\"itemsizing\": \"constant\", \"title\": {\"text\": \"variety\"}, \"tracegroupgap\": 0}, \"margin\": {\"t\": 60}, \"template\": {\"data\": {\"bar\": [{\"error_x\": {\"color\": \"#2a3f5f\"}, \"error_y\": {\"color\": \"#2a3f5f\"}, \"marker\": {\"line\": {\"color\": \"#E5ECF6\", \"width\": 0.5}}, \"type\": \"bar\"}], \"barpolar\": [{\"marker\": {\"line\": {\"color\": \"#E5ECF6\", \"width\": 0.5}}, \"type\": \"barpolar\"}], \"carpet\": [{\"aaxis\": {\"endlinecolor\": \"#2a3f5f\", \"gridcolor\": \"white\", \"linecolor\": \"white\", \"minorgridcolor\": \"white\", \"startlinecolor\": \"#2a3f5f\"}, \"baxis\": {\"endlinecolor\": \"#2a3f5f\", \"gridcolor\": \"white\", \"linecolor\": \"white\", \"minorgridcolor\": \"white\", \"startlinecolor\": \"#2a3f5f\"}, \"type\": \"carpet\"}], \"choropleth\": [{\"colorbar\": {\"outlinewidth\": 0, \"ticks\": \"\"}, \"type\": \"choropleth\"}], \"contour\": [{\"colorbar\": {\"outlinewidth\": 0, \"ticks\": \"\"}, \"colorscale\": [[0.0, \"#0d0887\"], [0.1111111111111111, \"#46039f\"], [0.2222222222222222, \"#7201a8\"], [0.3333333333333333, \"#9c179e\"], [0.4444444444444444, \"#bd3786\"], [0.5555555555555556, \"#d8576b\"], [0.6666666666666666, \"#ed7953\"], [0.7777777777777778, \"#fb9f3a\"], [0.8888888888888888, \"#fdca26\"], [1.0, \"#f0f921\"]], \"type\": \"contour\"}], \"contourcarpet\": [{\"colorbar\": {\"outlinewidth\": 0, \"ticks\": \"\"}, \"type\": \"contourcarpet\"}], \"heatmap\": [{\"colorbar\": {\"outlinewidth\": 0, \"ticks\": \"\"}, \"colorscale\": [[0.0, \"#0d0887\"], [0.1111111111111111, \"#46039f\"], [0.2222222222222222, \"#7201a8\"], [0.3333333333333333, \"#9c179e\"], [0.4444444444444444, \"#bd3786\"], [0.5555555555555556, \"#d8576b\"], [0.6666666666666666, \"#ed7953\"], [0.7777777777777778, \"#fb9f3a\"], [0.8888888888888888, \"#fdca26\"], [1.0, \"#f0f921\"]], \"type\": \"heatmap\"}], \"heatmapgl\": [{\"colorbar\": {\"outlinewidth\": 0, \"ticks\": \"\"}, \"colorscale\": [[0.0, \"#0d0887\"], [0.1111111111111111, \"#46039f\"], [0.2222222222222222, \"#7201a8\"], [0.3333333333333333, \"#9c179e\"], [0.4444444444444444, \"#bd3786\"], [0.5555555555555556, \"#d8576b\"], [0.6666666666666666, \"#ed7953\"], [0.7777777777777778, \"#fb9f3a\"], [0.8888888888888888, \"#fdca26\"], [1.0, \"#f0f921\"]], \"type\": \"heatmapgl\"}], \"histogram\": [{\"marker\": {\"colorbar\": {\"outlinewidth\": 0, \"ticks\": \"\"}}, \"type\": \"histogram\"}], \"histogram2d\": [{\"colorbar\": {\"outlinewidth\": 0, \"ticks\": \"\"}, \"colorscale\": [[0.0, \"#0d0887\"], [0.1111111111111111, \"#46039f\"], [0.2222222222222222, \"#7201a8\"], [0.3333333333333333, \"#9c179e\"], [0.4444444444444444, \"#bd3786\"], [0.5555555555555556, \"#d8576b\"], [0.6666666666666666, \"#ed7953\"], [0.7777777777777778, \"#fb9f3a\"], [0.8888888888888888, \"#fdca26\"], [1.0, \"#f0f921\"]], \"type\": \"histogram2d\"}], \"histogram2dcontour\": [{\"colorbar\": {\"outlinewidth\": 0, \"ticks\": \"\"}, \"colorscale\": [[0.0, \"#0d0887\"], [0.1111111111111111, \"#46039f\"], [0.2222222222222222, \"#7201a8\"], [0.3333333333333333, \"#9c179e\"], [0.4444444444444444, \"#bd3786\"], [0.5555555555555556, \"#d8576b\"], [0.6666666666666666, \"#ed7953\"], [0.7777777777777778, \"#fb9f3a\"], [0.8888888888888888, \"#fdca26\"], [1.0, \"#f0f921\"]], \"type\": \"histogram2dcontour\"}], \"mesh3d\": [{\"colorbar\": {\"outlinewidth\": 0, \"ticks\": \"\"}, \"type\": \"mesh3d\"}], \"parcoords\": [{\"line\": {\"colorbar\": {\"outlinewidth\": 0, \"ticks\": \"\"}}, \"type\": \"parcoords\"}], \"pie\": [{\"automargin\": true, \"type\": \"pie\"}], \"scatter\": [{\"marker\": {\"colorbar\": {\"outlinewidth\": 0, \"ticks\": \"\"}}, \"type\": \"scatter\"}], \"scatter3d\": [{\"line\": {\"colorbar\": {\"outlinewidth\": 0, \"ticks\": \"\"}}, \"marker\": {\"colorbar\": {\"outlinewidth\": 0, \"ticks\": \"\"}}, \"type\": \"scatter3d\"}], \"scattercarpet\": [{\"marker\": {\"colorbar\": {\"outlinewidth\": 0, \"ticks\": \"\"}}, \"type\": \"scattercarpet\"}], \"scattergeo\": [{\"marker\": {\"colorbar\": {\"outlinewidth\": 0, \"ticks\": \"\"}}, \"type\": \"scattergeo\"}], \"scattergl\": [{\"marker\": {\"colorbar\": {\"outlinewidth\": 0, \"ticks\": \"\"}}, \"type\": \"scattergl\"}], \"scattermapbox\": [{\"marker\": {\"colorbar\": {\"outlinewidth\": 0, \"ticks\": \"\"}}, \"type\": \"scattermapbox\"}], \"scatterpolar\": [{\"marker\": {\"colorbar\": {\"outlinewidth\": 0, \"ticks\": \"\"}}, \"type\": \"scatterpolar\"}], \"scatterpolargl\": [{\"marker\": {\"colorbar\": {\"outlinewidth\": 0, \"ticks\": \"\"}}, \"type\": \"scatterpolargl\"}], \"scatterternary\": [{\"marker\": {\"colorbar\": {\"outlinewidth\": 0, \"ticks\": \"\"}}, \"type\": \"scatterternary\"}], \"surface\": [{\"colorbar\": {\"outlinewidth\": 0, \"ticks\": \"\"}, \"colorscale\": [[0.0, \"#0d0887\"], [0.1111111111111111, \"#46039f\"], [0.2222222222222222, \"#7201a8\"], [0.3333333333333333, \"#9c179e\"], [0.4444444444444444, \"#bd3786\"], [0.5555555555555556, \"#d8576b\"], [0.6666666666666666, \"#ed7953\"], [0.7777777777777778, \"#fb9f3a\"], [0.8888888888888888, \"#fdca26\"], [1.0, \"#f0f921\"]], \"type\": \"surface\"}], \"table\": [{\"cells\": {\"fill\": {\"color\": \"#EBF0F8\"}, \"line\": {\"color\": \"white\"}}, \"header\": {\"fill\": {\"color\": \"#C8D4E3\"}, \"line\": {\"color\": \"white\"}}, \"type\": \"table\"}]}, \"layout\": {\"annotationdefaults\": {\"arrowcolor\": \"#2a3f5f\", \"arrowhead\": 0, \"arrowwidth\": 1}, \"autotypenumbers\": \"strict\", \"coloraxis\": {\"colorbar\": {\"outlinewidth\": 0, \"ticks\": \"\"}}, \"colorscale\": {\"diverging\": [[0, \"#8e0152\"], [0.1, \"#c51b7d\"], [0.2, \"#de77ae\"], [0.3, \"#f1b6da\"], [0.4, \"#fde0ef\"], [0.5, \"#f7f7f7\"], [0.6, \"#e6f5d0\"], [0.7, \"#b8e186\"], [0.8, \"#7fbc41\"], [0.9, \"#4d9221\"], [1, \"#276419\"]], \"sequential\": [[0.0, \"#0d0887\"], [0.1111111111111111, \"#46039f\"], [0.2222222222222222, \"#7201a8\"], [0.3333333333333333, \"#9c179e\"], [0.4444444444444444, \"#bd3786\"], [0.5555555555555556, \"#d8576b\"], [0.6666666666666666, \"#ed7953\"], [0.7777777777777778, \"#fb9f3a\"], [0.8888888888888888, \"#fdca26\"], [1.0, \"#f0f921\"]], \"sequentialminus\": [[0.0, \"#0d0887\"], [0.1111111111111111, \"#46039f\"], [0.2222222222222222, \"#7201a8\"], [0.3333333333333333, \"#9c179e\"], [0.4444444444444444, \"#bd3786\"], [0.5555555555555556, \"#d8576b\"], [0.6666666666666666, \"#ed7953\"], [0.7777777777777778, \"#fb9f3a\"], [0.8888888888888888, \"#fdca26\"], [1.0, \"#f0f921\"]]}, \"colorway\": [\"#636efa\", \"#EF553B\", \"#00cc96\", \"#ab63fa\", \"#FFA15A\", \"#19d3f3\", \"#FF6692\", \"#B6E880\", \"#FF97FF\", \"#FECB52\"], \"font\": {\"color\": \"#2a3f5f\"}, \"geo\": {\"bgcolor\": \"white\", \"lakecolor\": \"white\", \"landcolor\": \"#E5ECF6\", \"showlakes\": true, \"showland\": true, \"subunitcolor\": \"white\"}, \"hoverlabel\": {\"align\": \"left\"}, \"hovermode\": \"closest\", \"mapbox\": {\"style\": \"light\"}, \"paper_bgcolor\": \"white\", \"plot_bgcolor\": \"#E5ECF6\", \"polar\": {\"angularaxis\": {\"gridcolor\": \"white\", \"linecolor\": \"white\", \"ticks\": \"\"}, \"bgcolor\": \"#E5ECF6\", \"radialaxis\": {\"gridcolor\": \"white\", \"linecolor\": \"white\", \"ticks\": \"\"}}, \"scene\": {\"xaxis\": {\"backgroundcolor\": \"#E5ECF6\", \"gridcolor\": \"white\", \"gridwidth\": 2, \"linecolor\": \"white\", \"showbackground\": true, \"ticks\": \"\", \"zerolinecolor\": \"white\"}, \"yaxis\": {\"backgroundcolor\": \"#E5ECF6\", \"gridcolor\": \"white\", \"gridwidth\": 2, \"linecolor\": \"white\", \"showbackground\": true, \"ticks\": \"\", \"zerolinecolor\": \"white\"}, \"zaxis\": {\"backgroundcolor\": \"#E5ECF6\", \"gridcolor\": \"white\", \"gridwidth\": 2, \"linecolor\": \"white\", \"showbackground\": true, \"ticks\": \"\", \"zerolinecolor\": \"white\"}}, \"shapedefaults\": {\"line\": {\"color\": \"#2a3f5f\"}}, \"ternary\": {\"aaxis\": {\"gridcolor\": \"white\", \"linecolor\": \"white\", \"ticks\": \"\"}, \"baxis\": {\"gridcolor\": \"white\", \"linecolor\": \"white\", \"ticks\": \"\"}, \"bgcolor\": \"#E5ECF6\", \"caxis\": {\"gridcolor\": \"white\", \"linecolor\": \"white\", \"ticks\": \"\"}}, \"title\": {\"x\": 0.05}, \"xaxis\": {\"automargin\": true, \"gridcolor\": \"white\", \"linecolor\": \"white\", \"ticks\": \"\", \"title\": {\"standoff\": 15}, \"zerolinecolor\": \"white\", \"zerolinewidth\": 2}, \"yaxis\": {\"automargin\": true, \"gridcolor\": \"white\", \"linecolor\": \"white\", \"ticks\": \"\", \"title\": {\"standoff\": 15}, \"zerolinecolor\": \"white\", \"zerolinewidth\": 2}}}, \"xaxis\": {\"anchor\": \"y\", \"domain\": [0.0, 1.0], \"title\": {\"text\": \"maturity\"}}, \"yaxis\": {\"anchor\": \"x\", \"domain\": [0.0, 1.0], \"title\": {\"text\": \"mk_price_minus_bmk_price\"}}},                        {\"responsive\": true}                    ).then(function(){\n",
       "                            \n",
       "var gd = document.getElementById('10b1b45a-dfd7-4558-b2d9-abc1306d6022');\n",
       "var x = new MutationObserver(function (mutations, observer) {{\n",
       "        var display = window.getComputedStyle(gd).display;\n",
       "        if (!display || display === 'none') {{\n",
       "            console.log([gd, 'removed!']);\n",
       "            Plotly.purge(gd);\n",
       "            observer.disconnect();\n",
       "        }}\n",
       "}});\n",
       "\n",
       "// Listen for the removal of the full notebook cells\n",
       "var notebookContainer = gd.closest('#notebook-container');\n",
       "if (notebookContainer) {{\n",
       "    x.observe(notebookContainer, {childList: true});\n",
       "}}\n",
       "\n",
       "// Listen for the clearing of the current output cell\n",
       "var outputEl = gd.closest('.output');\n",
       "if (outputEl) {{\n",
       "    x.observe(outputEl, {childList: true});\n",
       "}}\n",
       "\n",
       "                        })                };                });            </script>        </div>"
      ]
     },
     "metadata": {},
     "output_type": "display_data"
    }
   ],
   "source": [
    "wine_maturity = px.scatter(merge, x=\"maturity\", y=\"mk_price_minus_bmk_price\", color=\"variety\", size=\"marketPrice\")\n",
    "wine_maturity.show()"
   ]
  },
  {
   "cell_type": "markdown",
   "metadata": {},
   "source": [
    "### Variety \n",
    "#### The next graph shows wine variety against the increase in price metric. The wines are colored by Producer and sized by Market Price. Again the three Burgundian wines stick out. These are the wines that command the greatest increase in price, but they happen to also command the greatest decreases in price. These producers would be suitable for bigger spending investment portfolios.\n",
    "#### Gaja wines of Piedmont, of the varietal nebbiolo also stick out in this graph. They have small benchmark trade prices, but consistently see increases in price. They rarely decrease from the benchmark trade price. This is similiar to the Propietary Blends, especially St Emillion and St Estephe, although Chateau Margaux has small returns given the high benchmark price it commands. Gaja, St Emillion and St Estephe wines would be good for smaller investment portifolios, as well as providing stabitlity to larger more expensive portfolios."
   ]
  },
  {
   "cell_type": "code",
   "execution_count": 371,
   "metadata": {},
   "outputs": [
    {
     "data": {
      "application/vnd.plotly.v1+json": {
       "config": {
        "plotlyServerURL": "https://plot.ly"
       },
       "data": [
        {
         "hovertemplate": "wineName=Gaja, Barbaresco<br>variety=%{x}<br>mk_price_minus_bmk_price=%{y}<br>benchmarkTradePrice=%{marker.size}<extra></extra>",
         "legendgroup": "Gaja, Barbaresco",
         "marker": {
          "color": "#636efa",
          "size": [
           1356,
           1180,
           1300,
           1145,
           2220,
           2190,
           1340,
           1440,
           1352,
           1300,
           1260,
           2554,
           1408,
           1276,
           1300,
           1330
          ],
          "sizemode": "area",
          "sizeref": 46.875,
          "symbol": "circle"
         },
         "mode": "markers",
         "name": "Gaja, Barbaresco",
         "orientation": "v",
         "showlegend": true,
         "type": "scatter",
         "x": [
          "Nebbiolo",
          "Nebbiolo",
          "Nebbiolo",
          "Nebbiolo",
          "Nebbiolo",
          "Nebbiolo",
          "Nebbiolo",
          "Nebbiolo",
          "Nebbiolo",
          "Nebbiolo",
          "Nebbiolo",
          "Nebbiolo",
          "Nebbiolo",
          "Nebbiolo",
          "Nebbiolo",
          "Nebbiolo"
         ],
         "xaxis": "x",
         "y": [
          124,
          670,
          500,
          451,
          280,
          70,
          859,
          360,
          -2,
          250,
          90,
          318,
          92,
          124,
          -1,
          425
         ],
         "yaxis": "y"
        },
        {
         "hovertemplate": "wineName=Tignanello, Toscana<br>variety=%{x}<br>mk_price_minus_bmk_price=%{y}<br>benchmarkTradePrice=%{marker.size}<extra></extra>",
         "legendgroup": "Tignanello, Toscana",
         "marker": {
          "color": "#EF553B",
          "size": [
           1204,
           1150,
           1378,
           1238,
           1072,
           1170,
           860,
           850,
           1010,
           830,
           1082,
           1200,
           860,
           1180,
           800,
           882,
           920
          ],
          "sizemode": "area",
          "sizeref": 46.875,
          "symbol": "circle"
         },
         "mode": "markers",
         "name": "Tignanello, Toscana",
         "orientation": "v",
         "showlegend": true,
         "type": "scatter",
         "x": [
          "Proprietary Blend",
          "Proprietary Blend",
          "Proprietary Blend",
          "Proprietary Blend",
          "Proprietary Blend",
          "Proprietary Blend",
          "Proprietary Blend",
          "Proprietary Blend",
          "Proprietary Blend",
          "Proprietary Blend",
          "Proprietary Blend",
          "Proprietary Blend",
          "Proprietary Blend",
          "Proprietary Blend",
          "Proprietary Blend",
          "Proprietary Blend",
          "Proprietary Blend"
         ],
         "xaxis": "x",
         "y": [
          -94,
          258,
          322,
          170,
          -48,
          156,
          98,
          110,
          90,
          150,
          118,
          100,
          140,
          498,
          57,
          363,
          -50
         ],
         "yaxis": "y"
        },
        {
         "hovertemplate": "wineName=Chateau Margaux Premier Cru Classe, Margaux<br>variety=%{x}<br>mk_price_minus_bmk_price=%{y}<br>benchmarkTradePrice=%{marker.size}<extra></extra>",
         "legendgroup": "Chateau Margaux Premier Cru Classe, Margaux",
         "marker": {
          "color": "#00cc96",
          "size": [
           3800,
           3700,
           6116,
           4400,
           3480,
           3880,
           3520,
           9844,
           3684,
           5922,
           4116,
           3525,
           7086,
           4800,
           3690,
           3560,
           5238,
           5150,
           4160
          ],
          "sizemode": "area",
          "sizeref": 46.875,
          "symbol": "circle"
         },
         "mode": "markers",
         "name": "Chateau Margaux Premier Cru Classe, Margaux",
         "orientation": "v",
         "showlegend": true,
         "type": "scatter",
         "x": [
          "Proprietary Blend",
          "Proprietary Blend",
          "Proprietary Blend",
          "Proprietary Blend",
          "Proprietary Blend",
          "Proprietary Blend",
          "Proprietary Blend",
          "Proprietary Blend",
          "Proprietary Blend",
          "Proprietary Blend",
          "Proprietary Blend",
          "Proprietary Blend",
          "Proprietary Blend",
          "Proprietary Blend",
          "Proprietary Blend",
          "Proprietary Blend",
          "Proprietary Blend",
          "Proprietary Blend",
          "Proprietary Blend"
         ],
         "xaxis": "x",
         "y": [
          110,
          0,
          134,
          0,
          240,
          40,
          180,
          656,
          216,
          328,
          -290,
          35,
          -256,
          50,
          68,
          240,
          177,
          265,
          660
         ],
         "yaxis": "y"
        },
        {
         "hovertemplate": "wineName=Domaine Leflaive, Chevalier-Montrachet Grand Cru<br>variety=%{x}<br>mk_price_minus_bmk_price=%{y}<br>benchmarkTradePrice=%{marker.size}<extra></extra>",
         "legendgroup": "Domaine Leflaive, Chevalier-Montrachet Grand Cru",
         "marker": {
          "color": "#ab63fa",
          "size": [
           6974,
           8000,
           5360,
           7330,
           5960,
           7124,
           1730,
           7900,
           6405,
           3920,
           4500,
           4400,
           5700,
           5400,
           6500,
           8540
          ],
          "sizemode": "area",
          "sizeref": 46.875,
          "symbol": "circle"
         },
         "mode": "markers",
         "name": "Domaine Leflaive, Chevalier-Montrachet Grand Cru",
         "orientation": "v",
         "showlegend": true,
         "type": "scatter",
         "x": [
          "Chardonnay",
          "Chardonnay",
          "Chardonnay",
          "Chardonnay",
          "Chardonnay",
          "Chardonnay",
          "Chardonnay",
          "Chardonnay",
          "Chardonnay",
          "Chardonnay",
          "Chardonnay",
          "Chardonnay",
          "Chardonnay",
          "Chardonnay",
          "Chardonnay",
          "Chardonnay"
         ],
         "xaxis": "x",
         "y": [
          1026,
          1950,
          1640,
          470,
          2440,
          782,
          5070,
          -1504,
          495,
          2632,
          1860,
          1200,
          2700,
          3600,
          -500,
          -728
         ],
         "yaxis": "y"
        },
        {
         "hovertemplate": "wineName=Tua Rita, Giusto di Notri, Toscana<br>variety=%{x}<br>mk_price_minus_bmk_price=%{y}<br>benchmarkTradePrice=%{marker.size}<extra></extra>",
         "legendgroup": "Tua Rita, Giusto di Notri, Toscana",
         "marker": {
          "color": "#FFA15A",
          "size": [
           420,
           351,
           460,
           390,
           300,
           342,
           388,
           380,
           320,
           544,
           408
          ],
          "sizemode": "area",
          "sizeref": 46.875,
          "symbol": "circle"
         },
         "mode": "markers",
         "name": "Tua Rita, Giusto di Notri, Toscana",
         "orientation": "v",
         "showlegend": true,
         "type": "scatter",
         "x": [
          "Proprietary Blend",
          "Proprietary Blend",
          "Proprietary Blend",
          "Proprietary Blend",
          "Proprietary Blend",
          "Proprietary Blend",
          "Proprietary Blend",
          "Proprietary Blend",
          "Proprietary Blend",
          "Proprietary Blend",
          "Proprietary Blend"
         ],
         "xaxis": "x",
         "y": [
          40,
          223,
          60,
          270,
          240,
          78,
          87,
          100,
          167,
          -4,
          192
         ],
         "yaxis": "y"
        },
        {
         "hovertemplate": "wineName=Chateau Calon Segur 3eme Cru Classe, Saint-Estephe<br>variety=%{x}<br>mk_price_minus_bmk_price=%{y}<br>benchmarkTradePrice=%{marker.size}<extra></extra>",
         "legendgroup": "Chateau Calon Segur 3eme Cru Classe, Saint-Estephe",
         "marker": {
          "color": "#19d3f3",
          "size": [
           682,
           950,
           760,
           1048,
           705,
           800,
           745,
           805,
           988,
           863,
           990,
           790,
           1026,
           725,
           860,
           781,
           735,
           842,
           794
          ],
          "sizemode": "area",
          "sizeref": 46.875,
          "symbol": "circle"
         },
         "mode": "markers",
         "name": "Chateau Calon Segur 3eme Cru Classe, Saint-Estephe",
         "orientation": "v",
         "showlegend": true,
         "type": "scatter",
         "x": [
          "Proprietary Blend",
          "Proprietary Blend",
          "Proprietary Blend",
          "Proprietary Blend",
          "Proprietary Blend",
          "Proprietary Blend",
          "Proprietary Blend",
          "Proprietary Blend",
          "Proprietary Blend",
          "Proprietary Blend",
          "Proprietary Blend",
          "Proprietary Blend",
          "Proprietary Blend",
          "Proprietary Blend",
          "Proprietary Blend",
          "Proprietary Blend",
          "Proprietary Blend",
          "Proprietary Blend",
          "Proprietary Blend"
         ],
         "xaxis": "x",
         "y": [
          98,
          90,
          -22,
          34,
          165,
          100,
          55,
          102,
          12,
          37,
          0,
          -40,
          -51,
          155,
          -10,
          59,
          85,
          108,
          -4
         ],
         "yaxis": "y"
        },
        {
         "hovertemplate": "wineName=Chateau Batailley 5eme Cru Classe, Pauillac<br>variety=%{x}<br>mk_price_minus_bmk_price=%{y}<br>benchmarkTradePrice=%{marker.size}<extra></extra>",
         "legendgroup": "Chateau Batailley 5eme Cru Classe, Pauillac",
         "marker": {
          "color": "#FF6692",
          "size": [
           220,
           420,
           300,
           450,
           532,
           340,
           332,
           504,
           494,
           300,
           355,
           304,
           324,
           360,
           312,
           357,
           465
          ],
          "sizemode": "area",
          "sizeref": 46.875,
          "symbol": "circle"
         },
         "mode": "markers",
         "name": "Chateau Batailley 5eme Cru Classe, Pauillac",
         "orientation": "v",
         "showlegend": true,
         "type": "scatter",
         "x": [
          "Proprietary Blend",
          "Proprietary Blend",
          "Proprietary Blend",
          "Proprietary Blend",
          "Proprietary Blend",
          "Proprietary Blend",
          "Proprietary Blend",
          "Proprietary Blend",
          "Proprietary Blend",
          "Proprietary Blend",
          "Proprietary Blend",
          "Proprietary Blend",
          "Proprietary Blend",
          "Proprietary Blend",
          "Proprietary Blend",
          "Proprietary Blend",
          "Proprietary Blend"
         ],
         "xaxis": "x",
         "y": [
          230,
          130,
          225,
          80,
          -112,
          110,
          68,
          -14,
          -4,
          100,
          45,
          -4,
          26,
          117,
          184,
          51,
          3
         ],
         "yaxis": "y"
        },
        {
         "hovertemplate": "wineName=Jacques-Frederic Mugnier, Chambolle-Musigny Premier Cru, Les Amoureuses<br>variety=%{x}<br>mk_price_minus_bmk_price=%{y}<br>benchmarkTradePrice=%{marker.size}<extra></extra>",
         "legendgroup": "Jacques-Frederic Mugnier, Chambolle-Musigny Premier Cru, Les Amoureuses",
         "marker": {
          "color": "#B6E880",
          "size": [
           18750,
           12000,
           6538,
           12850,
           13000
          ],
          "sizemode": "area",
          "sizeref": 46.875,
          "symbol": "circle"
         },
         "mode": "markers",
         "name": "Jacques-Frederic Mugnier, Chambolle-Musigny Premier Cru, Les Amoureuses",
         "orientation": "v",
         "showlegend": true,
         "type": "scatter",
         "x": [
          "Pinot Noir",
          "Pinot Noir",
          "Pinot Noir",
          "Pinot Noir",
          "Pinot Noir"
         ],
         "xaxis": "x",
         "y": [
          -3984,
          2520,
          10642,
          -448,
          4000
         ],
         "yaxis": "y"
        },
        {
         "hovertemplate": "wineName=Domaine Denis Mortet, Chambertin Grand Cru<br>variety=%{x}<br>mk_price_minus_bmk_price=%{y}<br>benchmarkTradePrice=%{marker.size}<extra></extra>",
         "legendgroup": "Domaine Denis Mortet, Chambertin Grand Cru",
         "marker": {
          "color": "#FF97FF",
          "size": [
           7200,
           4000,
           7290
          ],
          "sizemode": "area",
          "sizeref": 46.875,
          "symbol": "circle"
         },
         "mode": "markers",
         "name": "Domaine Denis Mortet, Chambertin Grand Cru",
         "orientation": "v",
         "showlegend": true,
         "type": "scatter",
         "x": [
          "Pinot Noir",
          "Pinot Noir",
          "Pinot Noir"
         ],
         "xaxis": "x",
         "y": [
          1200,
          6650,
          726
         ],
         "yaxis": "y"
        },
        {
         "hovertemplate": "wineName=Chateau Angelus Premier Grand Cru Classe B, Saint-Emilion Grand Cru<br>variety=%{x}<br>mk_price_minus_bmk_price=%{y}<br>benchmarkTradePrice=%{marker.size}<extra></extra>",
         "legendgroup": "Chateau Angelus Premier Grand Cru Classe B, Saint-Emilion Grand Cru",
         "marker": {
          "color": "#FECB52",
          "size": [
           3101,
           2610,
           3155,
           2378,
           4550,
           2650,
           2500,
           2505,
           3000,
           3350,
           2000
          ],
          "sizemode": "area",
          "sizeref": 46.875,
          "symbol": "circle"
         },
         "mode": "markers",
         "name": "Chateau Angelus Premier Grand Cru Classe B, Saint-Emilion Grand Cru",
         "orientation": "v",
         "showlegend": true,
         "type": "scatter",
         "x": [
          "Proprietary Blend",
          "Proprietary Blend",
          "Proprietary Blend",
          "Proprietary Blend",
          "Proprietary Blend",
          "Proprietary Blend",
          "Proprietary Blend",
          "Proprietary Blend",
          "Proprietary Blend",
          "Proprietary Blend",
          "Proprietary Blend"
         ],
         "xaxis": "x",
         "y": [
          499,
          363,
          145,
          442,
          -125,
          250,
          190,
          245,
          295,
          50,
          590
         ],
         "yaxis": "y"
        },
        {
         "hovertemplate": "wineName=Chateau Angelus Premier Grand Cru Classe A, Saint-Emilion Grand Cru<br>variety=%{x}<br>mk_price_minus_bmk_price=%{y}<br>benchmarkTradePrice=%{marker.size}<extra></extra>",
         "legendgroup": "Chateau Angelus Premier Grand Cru Classe A, Saint-Emilion Grand Cru",
         "marker": {
          "color": "#636efa",
          "size": [
           3605,
           2000,
           2260,
           2500,
           2844,
           2458,
           3120,
           2402
          ],
          "sizemode": "area",
          "sizeref": 46.875,
          "symbol": "circle"
         },
         "mode": "markers",
         "name": "Chateau Angelus Premier Grand Cru Classe A, Saint-Emilion Grand Cru",
         "orientation": "v",
         "showlegend": true,
         "type": "scatter",
         "x": [
          "Proprietary Blend",
          "Proprietary Blend",
          "Proprietary Blend",
          "Proprietary Blend",
          "Proprietary Blend",
          "Proprietary Blend",
          "Proprietary Blend",
          "Proprietary Blend"
         ],
         "xaxis": "x",
         "y": [
          195,
          300,
          100,
          80,
          116,
          272,
          24,
          359
         ],
         "yaxis": "y"
        }
       ],
       "layout": {
        "legend": {
         "itemsizing": "constant",
         "title": {
          "text": "wineName"
         },
         "tracegroupgap": 0
        },
        "margin": {
         "t": 60
        },
        "template": {
         "data": {
          "bar": [
           {
            "error_x": {
             "color": "#2a3f5f"
            },
            "error_y": {
             "color": "#2a3f5f"
            },
            "marker": {
             "line": {
              "color": "#E5ECF6",
              "width": 0.5
             }
            },
            "type": "bar"
           }
          ],
          "barpolar": [
           {
            "marker": {
             "line": {
              "color": "#E5ECF6",
              "width": 0.5
             }
            },
            "type": "barpolar"
           }
          ],
          "carpet": [
           {
            "aaxis": {
             "endlinecolor": "#2a3f5f",
             "gridcolor": "white",
             "linecolor": "white",
             "minorgridcolor": "white",
             "startlinecolor": "#2a3f5f"
            },
            "baxis": {
             "endlinecolor": "#2a3f5f",
             "gridcolor": "white",
             "linecolor": "white",
             "minorgridcolor": "white",
             "startlinecolor": "#2a3f5f"
            },
            "type": "carpet"
           }
          ],
          "choropleth": [
           {
            "colorbar": {
             "outlinewidth": 0,
             "ticks": ""
            },
            "type": "choropleth"
           }
          ],
          "contour": [
           {
            "colorbar": {
             "outlinewidth": 0,
             "ticks": ""
            },
            "colorscale": [
             [
              0,
              "#0d0887"
             ],
             [
              0.1111111111111111,
              "#46039f"
             ],
             [
              0.2222222222222222,
              "#7201a8"
             ],
             [
              0.3333333333333333,
              "#9c179e"
             ],
             [
              0.4444444444444444,
              "#bd3786"
             ],
             [
              0.5555555555555556,
              "#d8576b"
             ],
             [
              0.6666666666666666,
              "#ed7953"
             ],
             [
              0.7777777777777778,
              "#fb9f3a"
             ],
             [
              0.8888888888888888,
              "#fdca26"
             ],
             [
              1,
              "#f0f921"
             ]
            ],
            "type": "contour"
           }
          ],
          "contourcarpet": [
           {
            "colorbar": {
             "outlinewidth": 0,
             "ticks": ""
            },
            "type": "contourcarpet"
           }
          ],
          "heatmap": [
           {
            "colorbar": {
             "outlinewidth": 0,
             "ticks": ""
            },
            "colorscale": [
             [
              0,
              "#0d0887"
             ],
             [
              0.1111111111111111,
              "#46039f"
             ],
             [
              0.2222222222222222,
              "#7201a8"
             ],
             [
              0.3333333333333333,
              "#9c179e"
             ],
             [
              0.4444444444444444,
              "#bd3786"
             ],
             [
              0.5555555555555556,
              "#d8576b"
             ],
             [
              0.6666666666666666,
              "#ed7953"
             ],
             [
              0.7777777777777778,
              "#fb9f3a"
             ],
             [
              0.8888888888888888,
              "#fdca26"
             ],
             [
              1,
              "#f0f921"
             ]
            ],
            "type": "heatmap"
           }
          ],
          "heatmapgl": [
           {
            "colorbar": {
             "outlinewidth": 0,
             "ticks": ""
            },
            "colorscale": [
             [
              0,
              "#0d0887"
             ],
             [
              0.1111111111111111,
              "#46039f"
             ],
             [
              0.2222222222222222,
              "#7201a8"
             ],
             [
              0.3333333333333333,
              "#9c179e"
             ],
             [
              0.4444444444444444,
              "#bd3786"
             ],
             [
              0.5555555555555556,
              "#d8576b"
             ],
             [
              0.6666666666666666,
              "#ed7953"
             ],
             [
              0.7777777777777778,
              "#fb9f3a"
             ],
             [
              0.8888888888888888,
              "#fdca26"
             ],
             [
              1,
              "#f0f921"
             ]
            ],
            "type": "heatmapgl"
           }
          ],
          "histogram": [
           {
            "marker": {
             "colorbar": {
              "outlinewidth": 0,
              "ticks": ""
             }
            },
            "type": "histogram"
           }
          ],
          "histogram2d": [
           {
            "colorbar": {
             "outlinewidth": 0,
             "ticks": ""
            },
            "colorscale": [
             [
              0,
              "#0d0887"
             ],
             [
              0.1111111111111111,
              "#46039f"
             ],
             [
              0.2222222222222222,
              "#7201a8"
             ],
             [
              0.3333333333333333,
              "#9c179e"
             ],
             [
              0.4444444444444444,
              "#bd3786"
             ],
             [
              0.5555555555555556,
              "#d8576b"
             ],
             [
              0.6666666666666666,
              "#ed7953"
             ],
             [
              0.7777777777777778,
              "#fb9f3a"
             ],
             [
              0.8888888888888888,
              "#fdca26"
             ],
             [
              1,
              "#f0f921"
             ]
            ],
            "type": "histogram2d"
           }
          ],
          "histogram2dcontour": [
           {
            "colorbar": {
             "outlinewidth": 0,
             "ticks": ""
            },
            "colorscale": [
             [
              0,
              "#0d0887"
             ],
             [
              0.1111111111111111,
              "#46039f"
             ],
             [
              0.2222222222222222,
              "#7201a8"
             ],
             [
              0.3333333333333333,
              "#9c179e"
             ],
             [
              0.4444444444444444,
              "#bd3786"
             ],
             [
              0.5555555555555556,
              "#d8576b"
             ],
             [
              0.6666666666666666,
              "#ed7953"
             ],
             [
              0.7777777777777778,
              "#fb9f3a"
             ],
             [
              0.8888888888888888,
              "#fdca26"
             ],
             [
              1,
              "#f0f921"
             ]
            ],
            "type": "histogram2dcontour"
           }
          ],
          "mesh3d": [
           {
            "colorbar": {
             "outlinewidth": 0,
             "ticks": ""
            },
            "type": "mesh3d"
           }
          ],
          "parcoords": [
           {
            "line": {
             "colorbar": {
              "outlinewidth": 0,
              "ticks": ""
             }
            },
            "type": "parcoords"
           }
          ],
          "pie": [
           {
            "automargin": true,
            "type": "pie"
           }
          ],
          "scatter": [
           {
            "marker": {
             "colorbar": {
              "outlinewidth": 0,
              "ticks": ""
             }
            },
            "type": "scatter"
           }
          ],
          "scatter3d": [
           {
            "line": {
             "colorbar": {
              "outlinewidth": 0,
              "ticks": ""
             }
            },
            "marker": {
             "colorbar": {
              "outlinewidth": 0,
              "ticks": ""
             }
            },
            "type": "scatter3d"
           }
          ],
          "scattercarpet": [
           {
            "marker": {
             "colorbar": {
              "outlinewidth": 0,
              "ticks": ""
             }
            },
            "type": "scattercarpet"
           }
          ],
          "scattergeo": [
           {
            "marker": {
             "colorbar": {
              "outlinewidth": 0,
              "ticks": ""
             }
            },
            "type": "scattergeo"
           }
          ],
          "scattergl": [
           {
            "marker": {
             "colorbar": {
              "outlinewidth": 0,
              "ticks": ""
             }
            },
            "type": "scattergl"
           }
          ],
          "scattermapbox": [
           {
            "marker": {
             "colorbar": {
              "outlinewidth": 0,
              "ticks": ""
             }
            },
            "type": "scattermapbox"
           }
          ],
          "scatterpolar": [
           {
            "marker": {
             "colorbar": {
              "outlinewidth": 0,
              "ticks": ""
             }
            },
            "type": "scatterpolar"
           }
          ],
          "scatterpolargl": [
           {
            "marker": {
             "colorbar": {
              "outlinewidth": 0,
              "ticks": ""
             }
            },
            "type": "scatterpolargl"
           }
          ],
          "scatterternary": [
           {
            "marker": {
             "colorbar": {
              "outlinewidth": 0,
              "ticks": ""
             }
            },
            "type": "scatterternary"
           }
          ],
          "surface": [
           {
            "colorbar": {
             "outlinewidth": 0,
             "ticks": ""
            },
            "colorscale": [
             [
              0,
              "#0d0887"
             ],
             [
              0.1111111111111111,
              "#46039f"
             ],
             [
              0.2222222222222222,
              "#7201a8"
             ],
             [
              0.3333333333333333,
              "#9c179e"
             ],
             [
              0.4444444444444444,
              "#bd3786"
             ],
             [
              0.5555555555555556,
              "#d8576b"
             ],
             [
              0.6666666666666666,
              "#ed7953"
             ],
             [
              0.7777777777777778,
              "#fb9f3a"
             ],
             [
              0.8888888888888888,
              "#fdca26"
             ],
             [
              1,
              "#f0f921"
             ]
            ],
            "type": "surface"
           }
          ],
          "table": [
           {
            "cells": {
             "fill": {
              "color": "#EBF0F8"
             },
             "line": {
              "color": "white"
             }
            },
            "header": {
             "fill": {
              "color": "#C8D4E3"
             },
             "line": {
              "color": "white"
             }
            },
            "type": "table"
           }
          ]
         },
         "layout": {
          "annotationdefaults": {
           "arrowcolor": "#2a3f5f",
           "arrowhead": 0,
           "arrowwidth": 1
          },
          "autotypenumbers": "strict",
          "coloraxis": {
           "colorbar": {
            "outlinewidth": 0,
            "ticks": ""
           }
          },
          "colorscale": {
           "diverging": [
            [
             0,
             "#8e0152"
            ],
            [
             0.1,
             "#c51b7d"
            ],
            [
             0.2,
             "#de77ae"
            ],
            [
             0.3,
             "#f1b6da"
            ],
            [
             0.4,
             "#fde0ef"
            ],
            [
             0.5,
             "#f7f7f7"
            ],
            [
             0.6,
             "#e6f5d0"
            ],
            [
             0.7,
             "#b8e186"
            ],
            [
             0.8,
             "#7fbc41"
            ],
            [
             0.9,
             "#4d9221"
            ],
            [
             1,
             "#276419"
            ]
           ],
           "sequential": [
            [
             0,
             "#0d0887"
            ],
            [
             0.1111111111111111,
             "#46039f"
            ],
            [
             0.2222222222222222,
             "#7201a8"
            ],
            [
             0.3333333333333333,
             "#9c179e"
            ],
            [
             0.4444444444444444,
             "#bd3786"
            ],
            [
             0.5555555555555556,
             "#d8576b"
            ],
            [
             0.6666666666666666,
             "#ed7953"
            ],
            [
             0.7777777777777778,
             "#fb9f3a"
            ],
            [
             0.8888888888888888,
             "#fdca26"
            ],
            [
             1,
             "#f0f921"
            ]
           ],
           "sequentialminus": [
            [
             0,
             "#0d0887"
            ],
            [
             0.1111111111111111,
             "#46039f"
            ],
            [
             0.2222222222222222,
             "#7201a8"
            ],
            [
             0.3333333333333333,
             "#9c179e"
            ],
            [
             0.4444444444444444,
             "#bd3786"
            ],
            [
             0.5555555555555556,
             "#d8576b"
            ],
            [
             0.6666666666666666,
             "#ed7953"
            ],
            [
             0.7777777777777778,
             "#fb9f3a"
            ],
            [
             0.8888888888888888,
             "#fdca26"
            ],
            [
             1,
             "#f0f921"
            ]
           ]
          },
          "colorway": [
           "#636efa",
           "#EF553B",
           "#00cc96",
           "#ab63fa",
           "#FFA15A",
           "#19d3f3",
           "#FF6692",
           "#B6E880",
           "#FF97FF",
           "#FECB52"
          ],
          "font": {
           "color": "#2a3f5f"
          },
          "geo": {
           "bgcolor": "white",
           "lakecolor": "white",
           "landcolor": "#E5ECF6",
           "showlakes": true,
           "showland": true,
           "subunitcolor": "white"
          },
          "hoverlabel": {
           "align": "left"
          },
          "hovermode": "closest",
          "mapbox": {
           "style": "light"
          },
          "paper_bgcolor": "white",
          "plot_bgcolor": "#E5ECF6",
          "polar": {
           "angularaxis": {
            "gridcolor": "white",
            "linecolor": "white",
            "ticks": ""
           },
           "bgcolor": "#E5ECF6",
           "radialaxis": {
            "gridcolor": "white",
            "linecolor": "white",
            "ticks": ""
           }
          },
          "scene": {
           "xaxis": {
            "backgroundcolor": "#E5ECF6",
            "gridcolor": "white",
            "gridwidth": 2,
            "linecolor": "white",
            "showbackground": true,
            "ticks": "",
            "zerolinecolor": "white"
           },
           "yaxis": {
            "backgroundcolor": "#E5ECF6",
            "gridcolor": "white",
            "gridwidth": 2,
            "linecolor": "white",
            "showbackground": true,
            "ticks": "",
            "zerolinecolor": "white"
           },
           "zaxis": {
            "backgroundcolor": "#E5ECF6",
            "gridcolor": "white",
            "gridwidth": 2,
            "linecolor": "white",
            "showbackground": true,
            "ticks": "",
            "zerolinecolor": "white"
           }
          },
          "shapedefaults": {
           "line": {
            "color": "#2a3f5f"
           }
          },
          "ternary": {
           "aaxis": {
            "gridcolor": "white",
            "linecolor": "white",
            "ticks": ""
           },
           "baxis": {
            "gridcolor": "white",
            "linecolor": "white",
            "ticks": ""
           },
           "bgcolor": "#E5ECF6",
           "caxis": {
            "gridcolor": "white",
            "linecolor": "white",
            "ticks": ""
           }
          },
          "title": {
           "x": 0.05
          },
          "xaxis": {
           "automargin": true,
           "gridcolor": "white",
           "linecolor": "white",
           "ticks": "",
           "title": {
            "standoff": 15
           },
           "zerolinecolor": "white",
           "zerolinewidth": 2
          },
          "yaxis": {
           "automargin": true,
           "gridcolor": "white",
           "linecolor": "white",
           "ticks": "",
           "title": {
            "standoff": 15
           },
           "zerolinecolor": "white",
           "zerolinewidth": 2
          }
         }
        },
        "xaxis": {
         "anchor": "y",
         "domain": [
          0,
          1
         ],
         "title": {
          "text": "variety"
         }
        },
        "yaxis": {
         "anchor": "x",
         "domain": [
          0,
          1
         ],
         "title": {
          "text": "mk_price_minus_bmk_price"
         }
        }
       }
      },
      "text/html": [
       "<div>                            <div id=\"9f47cf6a-16eb-4afe-97d6-96798b958e80\" class=\"plotly-graph-div\" style=\"height:525px; width:100%;\"></div>            <script type=\"text/javascript\">                require([\"plotly\"], function(Plotly) {                    window.PLOTLYENV=window.PLOTLYENV || {};                                    if (document.getElementById(\"9f47cf6a-16eb-4afe-97d6-96798b958e80\")) {                    Plotly.newPlot(                        \"9f47cf6a-16eb-4afe-97d6-96798b958e80\",                        [{\"hovertemplate\": \"wineName=Gaja, Barbaresco<br>variety=%{x}<br>mk_price_minus_bmk_price=%{y}<br>benchmarkTradePrice=%{marker.size}<extra></extra>\", \"legendgroup\": \"Gaja, Barbaresco\", \"marker\": {\"color\": \"#636efa\", \"size\": [1356, 1180, 1300, 1145, 2220, 2190, 1340, 1440, 1352, 1300, 1260, 2554, 1408, 1276, 1300, 1330], \"sizemode\": \"area\", \"sizeref\": 46.875, \"symbol\": \"circle\"}, \"mode\": \"markers\", \"name\": \"Gaja, Barbaresco\", \"orientation\": \"v\", \"showlegend\": true, \"type\": \"scatter\", \"x\": [\"Nebbiolo\", \"Nebbiolo\", \"Nebbiolo\", \"Nebbiolo\", \"Nebbiolo\", \"Nebbiolo\", \"Nebbiolo\", \"Nebbiolo\", \"Nebbiolo\", \"Nebbiolo\", \"Nebbiolo\", \"Nebbiolo\", \"Nebbiolo\", \"Nebbiolo\", \"Nebbiolo\", \"Nebbiolo\"], \"xaxis\": \"x\", \"y\": [124, 670, 500, 451, 280, 70, 859, 360, -2, 250, 90, 318, 92, 124, -1, 425], \"yaxis\": \"y\"}, {\"hovertemplate\": \"wineName=Tignanello, Toscana<br>variety=%{x}<br>mk_price_minus_bmk_price=%{y}<br>benchmarkTradePrice=%{marker.size}<extra></extra>\", \"legendgroup\": \"Tignanello, Toscana\", \"marker\": {\"color\": \"#EF553B\", \"size\": [1204, 1150, 1378, 1238, 1072, 1170, 860, 850, 1010, 830, 1082, 1200, 860, 1180, 800, 882, 920], \"sizemode\": \"area\", \"sizeref\": 46.875, \"symbol\": \"circle\"}, \"mode\": \"markers\", \"name\": \"Tignanello, Toscana\", \"orientation\": \"v\", \"showlegend\": true, \"type\": \"scatter\", \"x\": [\"Proprietary Blend\", \"Proprietary Blend\", \"Proprietary Blend\", \"Proprietary Blend\", \"Proprietary Blend\", \"Proprietary Blend\", \"Proprietary Blend\", \"Proprietary Blend\", \"Proprietary Blend\", \"Proprietary Blend\", \"Proprietary Blend\", \"Proprietary Blend\", \"Proprietary Blend\", \"Proprietary Blend\", \"Proprietary Blend\", \"Proprietary Blend\", \"Proprietary Blend\"], \"xaxis\": \"x\", \"y\": [-94, 258, 322, 170, -48, 156, 98, 110, 90, 150, 118, 100, 140, 498, 57, 363, -50], \"yaxis\": \"y\"}, {\"hovertemplate\": \"wineName=Chateau Margaux Premier Cru Classe, Margaux<br>variety=%{x}<br>mk_price_minus_bmk_price=%{y}<br>benchmarkTradePrice=%{marker.size}<extra></extra>\", \"legendgroup\": \"Chateau Margaux Premier Cru Classe, Margaux\", \"marker\": {\"color\": \"#00cc96\", \"size\": [3800, 3700, 6116, 4400, 3480, 3880, 3520, 9844, 3684, 5922, 4116, 3525, 7086, 4800, 3690, 3560, 5238, 5150, 4160], \"sizemode\": \"area\", \"sizeref\": 46.875, \"symbol\": \"circle\"}, \"mode\": \"markers\", \"name\": \"Chateau Margaux Premier Cru Classe, Margaux\", \"orientation\": \"v\", \"showlegend\": true, \"type\": \"scatter\", \"x\": [\"Proprietary Blend\", \"Proprietary Blend\", \"Proprietary Blend\", \"Proprietary Blend\", \"Proprietary Blend\", \"Proprietary Blend\", \"Proprietary Blend\", \"Proprietary Blend\", \"Proprietary Blend\", \"Proprietary Blend\", \"Proprietary Blend\", \"Proprietary Blend\", \"Proprietary Blend\", \"Proprietary Blend\", \"Proprietary Blend\", \"Proprietary Blend\", \"Proprietary Blend\", \"Proprietary Blend\", \"Proprietary Blend\"], \"xaxis\": \"x\", \"y\": [110, 0, 134, 0, 240, 40, 180, 656, 216, 328, -290, 35, -256, 50, 68, 240, 177, 265, 660], \"yaxis\": \"y\"}, {\"hovertemplate\": \"wineName=Domaine Leflaive, Chevalier-Montrachet Grand Cru<br>variety=%{x}<br>mk_price_minus_bmk_price=%{y}<br>benchmarkTradePrice=%{marker.size}<extra></extra>\", \"legendgroup\": \"Domaine Leflaive, Chevalier-Montrachet Grand Cru\", \"marker\": {\"color\": \"#ab63fa\", \"size\": [6974, 8000, 5360, 7330, 5960, 7124, 1730, 7900, 6405, 3920, 4500, 4400, 5700, 5400, 6500, 8540], \"sizemode\": \"area\", \"sizeref\": 46.875, \"symbol\": \"circle\"}, \"mode\": \"markers\", \"name\": \"Domaine Leflaive, Chevalier-Montrachet Grand Cru\", \"orientation\": \"v\", \"showlegend\": true, \"type\": \"scatter\", \"x\": [\"Chardonnay\", \"Chardonnay\", \"Chardonnay\", \"Chardonnay\", \"Chardonnay\", \"Chardonnay\", \"Chardonnay\", \"Chardonnay\", \"Chardonnay\", \"Chardonnay\", \"Chardonnay\", \"Chardonnay\", \"Chardonnay\", \"Chardonnay\", \"Chardonnay\", \"Chardonnay\"], \"xaxis\": \"x\", \"y\": [1026, 1950, 1640, 470, 2440, 782, 5070, -1504, 495, 2632, 1860, 1200, 2700, 3600, -500, -728], \"yaxis\": \"y\"}, {\"hovertemplate\": \"wineName=Tua Rita, Giusto di Notri, Toscana<br>variety=%{x}<br>mk_price_minus_bmk_price=%{y}<br>benchmarkTradePrice=%{marker.size}<extra></extra>\", \"legendgroup\": \"Tua Rita, Giusto di Notri, Toscana\", \"marker\": {\"color\": \"#FFA15A\", \"size\": [420, 351, 460, 390, 300, 342, 388, 380, 320, 544, 408], \"sizemode\": \"area\", \"sizeref\": 46.875, \"symbol\": \"circle\"}, \"mode\": \"markers\", \"name\": \"Tua Rita, Giusto di Notri, Toscana\", \"orientation\": \"v\", \"showlegend\": true, \"type\": \"scatter\", \"x\": [\"Proprietary Blend\", \"Proprietary Blend\", \"Proprietary Blend\", \"Proprietary Blend\", \"Proprietary Blend\", \"Proprietary Blend\", \"Proprietary Blend\", \"Proprietary Blend\", \"Proprietary Blend\", \"Proprietary Blend\", \"Proprietary Blend\"], \"xaxis\": \"x\", \"y\": [40, 223, 60, 270, 240, 78, 87, 100, 167, -4, 192], \"yaxis\": \"y\"}, {\"hovertemplate\": \"wineName=Chateau Calon Segur 3eme Cru Classe, Saint-Estephe<br>variety=%{x}<br>mk_price_minus_bmk_price=%{y}<br>benchmarkTradePrice=%{marker.size}<extra></extra>\", \"legendgroup\": \"Chateau Calon Segur 3eme Cru Classe, Saint-Estephe\", \"marker\": {\"color\": \"#19d3f3\", \"size\": [682, 950, 760, 1048, 705, 800, 745, 805, 988, 863, 990, 790, 1026, 725, 860, 781, 735, 842, 794], \"sizemode\": \"area\", \"sizeref\": 46.875, \"symbol\": \"circle\"}, \"mode\": \"markers\", \"name\": \"Chateau Calon Segur 3eme Cru Classe, Saint-Estephe\", \"orientation\": \"v\", \"showlegend\": true, \"type\": \"scatter\", \"x\": [\"Proprietary Blend\", \"Proprietary Blend\", \"Proprietary Blend\", \"Proprietary Blend\", \"Proprietary Blend\", \"Proprietary Blend\", \"Proprietary Blend\", \"Proprietary Blend\", \"Proprietary Blend\", \"Proprietary Blend\", \"Proprietary Blend\", \"Proprietary Blend\", \"Proprietary Blend\", \"Proprietary Blend\", \"Proprietary Blend\", \"Proprietary Blend\", \"Proprietary Blend\", \"Proprietary Blend\", \"Proprietary Blend\"], \"xaxis\": \"x\", \"y\": [98, 90, -22, 34, 165, 100, 55, 102, 12, 37, 0, -40, -51, 155, -10, 59, 85, 108, -4], \"yaxis\": \"y\"}, {\"hovertemplate\": \"wineName=Chateau Batailley 5eme Cru Classe, Pauillac<br>variety=%{x}<br>mk_price_minus_bmk_price=%{y}<br>benchmarkTradePrice=%{marker.size}<extra></extra>\", \"legendgroup\": \"Chateau Batailley 5eme Cru Classe, Pauillac\", \"marker\": {\"color\": \"#FF6692\", \"size\": [220, 420, 300, 450, 532, 340, 332, 504, 494, 300, 355, 304, 324, 360, 312, 357, 465], \"sizemode\": \"area\", \"sizeref\": 46.875, \"symbol\": \"circle\"}, \"mode\": \"markers\", \"name\": \"Chateau Batailley 5eme Cru Classe, Pauillac\", \"orientation\": \"v\", \"showlegend\": true, \"type\": \"scatter\", \"x\": [\"Proprietary Blend\", \"Proprietary Blend\", \"Proprietary Blend\", \"Proprietary Blend\", \"Proprietary Blend\", \"Proprietary Blend\", \"Proprietary Blend\", \"Proprietary Blend\", \"Proprietary Blend\", \"Proprietary Blend\", \"Proprietary Blend\", \"Proprietary Blend\", \"Proprietary Blend\", \"Proprietary Blend\", \"Proprietary Blend\", \"Proprietary Blend\", \"Proprietary Blend\"], \"xaxis\": \"x\", \"y\": [230, 130, 225, 80, -112, 110, 68, -14, -4, 100, 45, -4, 26, 117, 184, 51, 3], \"yaxis\": \"y\"}, {\"hovertemplate\": \"wineName=Jacques-Frederic Mugnier, Chambolle-Musigny Premier Cru, Les Amoureuses<br>variety=%{x}<br>mk_price_minus_bmk_price=%{y}<br>benchmarkTradePrice=%{marker.size}<extra></extra>\", \"legendgroup\": \"Jacques-Frederic Mugnier, Chambolle-Musigny Premier Cru, Les Amoureuses\", \"marker\": {\"color\": \"#B6E880\", \"size\": [18750, 12000, 6538, 12850, 13000], \"sizemode\": \"area\", \"sizeref\": 46.875, \"symbol\": \"circle\"}, \"mode\": \"markers\", \"name\": \"Jacques-Frederic Mugnier, Chambolle-Musigny Premier Cru, Les Amoureuses\", \"orientation\": \"v\", \"showlegend\": true, \"type\": \"scatter\", \"x\": [\"Pinot Noir\", \"Pinot Noir\", \"Pinot Noir\", \"Pinot Noir\", \"Pinot Noir\"], \"xaxis\": \"x\", \"y\": [-3984, 2520, 10642, -448, 4000], \"yaxis\": \"y\"}, {\"hovertemplate\": \"wineName=Domaine Denis Mortet, Chambertin Grand Cru<br>variety=%{x}<br>mk_price_minus_bmk_price=%{y}<br>benchmarkTradePrice=%{marker.size}<extra></extra>\", \"legendgroup\": \"Domaine Denis Mortet, Chambertin Grand Cru\", \"marker\": {\"color\": \"#FF97FF\", \"size\": [7200, 4000, 7290], \"sizemode\": \"area\", \"sizeref\": 46.875, \"symbol\": \"circle\"}, \"mode\": \"markers\", \"name\": \"Domaine Denis Mortet, Chambertin Grand Cru\", \"orientation\": \"v\", \"showlegend\": true, \"type\": \"scatter\", \"x\": [\"Pinot Noir\", \"Pinot Noir\", \"Pinot Noir\"], \"xaxis\": \"x\", \"y\": [1200, 6650, 726], \"yaxis\": \"y\"}, {\"hovertemplate\": \"wineName=Chateau Angelus Premier Grand Cru Classe B, Saint-Emilion Grand Cru<br>variety=%{x}<br>mk_price_minus_bmk_price=%{y}<br>benchmarkTradePrice=%{marker.size}<extra></extra>\", \"legendgroup\": \"Chateau Angelus Premier Grand Cru Classe B, Saint-Emilion Grand Cru\", \"marker\": {\"color\": \"#FECB52\", \"size\": [3101, 2610, 3155, 2378, 4550, 2650, 2500, 2505, 3000, 3350, 2000], \"sizemode\": \"area\", \"sizeref\": 46.875, \"symbol\": \"circle\"}, \"mode\": \"markers\", \"name\": \"Chateau Angelus Premier Grand Cru Classe B, Saint-Emilion Grand Cru\", \"orientation\": \"v\", \"showlegend\": true, \"type\": \"scatter\", \"x\": [\"Proprietary Blend\", \"Proprietary Blend\", \"Proprietary Blend\", \"Proprietary Blend\", \"Proprietary Blend\", \"Proprietary Blend\", \"Proprietary Blend\", \"Proprietary Blend\", \"Proprietary Blend\", \"Proprietary Blend\", \"Proprietary Blend\"], \"xaxis\": \"x\", \"y\": [499, 363, 145, 442, -125, 250, 190, 245, 295, 50, 590], \"yaxis\": \"y\"}, {\"hovertemplate\": \"wineName=Chateau Angelus Premier Grand Cru Classe A, Saint-Emilion Grand Cru<br>variety=%{x}<br>mk_price_minus_bmk_price=%{y}<br>benchmarkTradePrice=%{marker.size}<extra></extra>\", \"legendgroup\": \"Chateau Angelus Premier Grand Cru Classe A, Saint-Emilion Grand Cru\", \"marker\": {\"color\": \"#636efa\", \"size\": [3605, 2000, 2260, 2500, 2844, 2458, 3120, 2402], \"sizemode\": \"area\", \"sizeref\": 46.875, \"symbol\": \"circle\"}, \"mode\": \"markers\", \"name\": \"Chateau Angelus Premier Grand Cru Classe A, Saint-Emilion Grand Cru\", \"orientation\": \"v\", \"showlegend\": true, \"type\": \"scatter\", \"x\": [\"Proprietary Blend\", \"Proprietary Blend\", \"Proprietary Blend\", \"Proprietary Blend\", \"Proprietary Blend\", \"Proprietary Blend\", \"Proprietary Blend\", \"Proprietary Blend\"], \"xaxis\": \"x\", \"y\": [195, 300, 100, 80, 116, 272, 24, 359], \"yaxis\": \"y\"}],                        {\"legend\": {\"itemsizing\": \"constant\", \"title\": {\"text\": \"wineName\"}, \"tracegroupgap\": 0}, \"margin\": {\"t\": 60}, \"template\": {\"data\": {\"bar\": [{\"error_x\": {\"color\": \"#2a3f5f\"}, \"error_y\": {\"color\": \"#2a3f5f\"}, \"marker\": {\"line\": {\"color\": \"#E5ECF6\", \"width\": 0.5}}, \"type\": \"bar\"}], \"barpolar\": [{\"marker\": {\"line\": {\"color\": \"#E5ECF6\", \"width\": 0.5}}, \"type\": \"barpolar\"}], \"carpet\": [{\"aaxis\": {\"endlinecolor\": \"#2a3f5f\", \"gridcolor\": \"white\", \"linecolor\": \"white\", \"minorgridcolor\": \"white\", \"startlinecolor\": \"#2a3f5f\"}, \"baxis\": {\"endlinecolor\": \"#2a3f5f\", \"gridcolor\": \"white\", \"linecolor\": \"white\", \"minorgridcolor\": \"white\", \"startlinecolor\": \"#2a3f5f\"}, \"type\": \"carpet\"}], \"choropleth\": [{\"colorbar\": {\"outlinewidth\": 0, \"ticks\": \"\"}, \"type\": \"choropleth\"}], \"contour\": [{\"colorbar\": {\"outlinewidth\": 0, \"ticks\": \"\"}, \"colorscale\": [[0.0, \"#0d0887\"], [0.1111111111111111, \"#46039f\"], [0.2222222222222222, \"#7201a8\"], [0.3333333333333333, \"#9c179e\"], [0.4444444444444444, \"#bd3786\"], [0.5555555555555556, \"#d8576b\"], [0.6666666666666666, \"#ed7953\"], [0.7777777777777778, \"#fb9f3a\"], [0.8888888888888888, \"#fdca26\"], [1.0, \"#f0f921\"]], \"type\": \"contour\"}], \"contourcarpet\": [{\"colorbar\": {\"outlinewidth\": 0, \"ticks\": \"\"}, \"type\": \"contourcarpet\"}], \"heatmap\": [{\"colorbar\": {\"outlinewidth\": 0, \"ticks\": \"\"}, \"colorscale\": [[0.0, \"#0d0887\"], [0.1111111111111111, \"#46039f\"], [0.2222222222222222, \"#7201a8\"], [0.3333333333333333, \"#9c179e\"], [0.4444444444444444, \"#bd3786\"], [0.5555555555555556, \"#d8576b\"], [0.6666666666666666, \"#ed7953\"], [0.7777777777777778, \"#fb9f3a\"], [0.8888888888888888, \"#fdca26\"], [1.0, \"#f0f921\"]], \"type\": \"heatmap\"}], \"heatmapgl\": [{\"colorbar\": {\"outlinewidth\": 0, \"ticks\": \"\"}, \"colorscale\": [[0.0, \"#0d0887\"], [0.1111111111111111, \"#46039f\"], [0.2222222222222222, \"#7201a8\"], [0.3333333333333333, \"#9c179e\"], [0.4444444444444444, \"#bd3786\"], [0.5555555555555556, \"#d8576b\"], [0.6666666666666666, \"#ed7953\"], [0.7777777777777778, \"#fb9f3a\"], [0.8888888888888888, \"#fdca26\"], [1.0, \"#f0f921\"]], \"type\": \"heatmapgl\"}], \"histogram\": [{\"marker\": {\"colorbar\": {\"outlinewidth\": 0, \"ticks\": \"\"}}, \"type\": \"histogram\"}], \"histogram2d\": [{\"colorbar\": {\"outlinewidth\": 0, \"ticks\": \"\"}, \"colorscale\": [[0.0, \"#0d0887\"], [0.1111111111111111, \"#46039f\"], [0.2222222222222222, \"#7201a8\"], [0.3333333333333333, \"#9c179e\"], [0.4444444444444444, \"#bd3786\"], [0.5555555555555556, \"#d8576b\"], [0.6666666666666666, \"#ed7953\"], [0.7777777777777778, \"#fb9f3a\"], [0.8888888888888888, \"#fdca26\"], [1.0, \"#f0f921\"]], \"type\": \"histogram2d\"}], \"histogram2dcontour\": [{\"colorbar\": {\"outlinewidth\": 0, \"ticks\": \"\"}, \"colorscale\": [[0.0, \"#0d0887\"], [0.1111111111111111, \"#46039f\"], [0.2222222222222222, \"#7201a8\"], [0.3333333333333333, \"#9c179e\"], [0.4444444444444444, \"#bd3786\"], [0.5555555555555556, \"#d8576b\"], [0.6666666666666666, \"#ed7953\"], [0.7777777777777778, \"#fb9f3a\"], [0.8888888888888888, \"#fdca26\"], [1.0, \"#f0f921\"]], \"type\": \"histogram2dcontour\"}], \"mesh3d\": [{\"colorbar\": {\"outlinewidth\": 0, \"ticks\": \"\"}, \"type\": \"mesh3d\"}], \"parcoords\": [{\"line\": {\"colorbar\": {\"outlinewidth\": 0, \"ticks\": \"\"}}, \"type\": \"parcoords\"}], \"pie\": [{\"automargin\": true, \"type\": \"pie\"}], \"scatter\": [{\"marker\": {\"colorbar\": {\"outlinewidth\": 0, \"ticks\": \"\"}}, \"type\": \"scatter\"}], \"scatter3d\": [{\"line\": {\"colorbar\": {\"outlinewidth\": 0, \"ticks\": \"\"}}, \"marker\": {\"colorbar\": {\"outlinewidth\": 0, \"ticks\": \"\"}}, \"type\": \"scatter3d\"}], \"scattercarpet\": [{\"marker\": {\"colorbar\": {\"outlinewidth\": 0, \"ticks\": \"\"}}, \"type\": \"scattercarpet\"}], \"scattergeo\": [{\"marker\": {\"colorbar\": {\"outlinewidth\": 0, \"ticks\": \"\"}}, \"type\": \"scattergeo\"}], \"scattergl\": [{\"marker\": {\"colorbar\": {\"outlinewidth\": 0, \"ticks\": \"\"}}, \"type\": \"scattergl\"}], \"scattermapbox\": [{\"marker\": {\"colorbar\": {\"outlinewidth\": 0, \"ticks\": \"\"}}, \"type\": \"scattermapbox\"}], \"scatterpolar\": [{\"marker\": {\"colorbar\": {\"outlinewidth\": 0, \"ticks\": \"\"}}, \"type\": \"scatterpolar\"}], \"scatterpolargl\": [{\"marker\": {\"colorbar\": {\"outlinewidth\": 0, \"ticks\": \"\"}}, \"type\": \"scatterpolargl\"}], \"scatterternary\": [{\"marker\": {\"colorbar\": {\"outlinewidth\": 0, \"ticks\": \"\"}}, \"type\": \"scatterternary\"}], \"surface\": [{\"colorbar\": {\"outlinewidth\": 0, \"ticks\": \"\"}, \"colorscale\": [[0.0, \"#0d0887\"], [0.1111111111111111, \"#46039f\"], [0.2222222222222222, \"#7201a8\"], [0.3333333333333333, \"#9c179e\"], [0.4444444444444444, \"#bd3786\"], [0.5555555555555556, \"#d8576b\"], [0.6666666666666666, \"#ed7953\"], [0.7777777777777778, \"#fb9f3a\"], [0.8888888888888888, \"#fdca26\"], [1.0, \"#f0f921\"]], \"type\": \"surface\"}], \"table\": [{\"cells\": {\"fill\": {\"color\": \"#EBF0F8\"}, \"line\": {\"color\": \"white\"}}, \"header\": {\"fill\": {\"color\": \"#C8D4E3\"}, \"line\": {\"color\": \"white\"}}, \"type\": \"table\"}]}, \"layout\": {\"annotationdefaults\": {\"arrowcolor\": \"#2a3f5f\", \"arrowhead\": 0, \"arrowwidth\": 1}, \"autotypenumbers\": \"strict\", \"coloraxis\": {\"colorbar\": {\"outlinewidth\": 0, \"ticks\": \"\"}}, \"colorscale\": {\"diverging\": [[0, \"#8e0152\"], [0.1, \"#c51b7d\"], [0.2, \"#de77ae\"], [0.3, \"#f1b6da\"], [0.4, \"#fde0ef\"], [0.5, \"#f7f7f7\"], [0.6, \"#e6f5d0\"], [0.7, \"#b8e186\"], [0.8, \"#7fbc41\"], [0.9, \"#4d9221\"], [1, \"#276419\"]], \"sequential\": [[0.0, \"#0d0887\"], [0.1111111111111111, \"#46039f\"], [0.2222222222222222, \"#7201a8\"], [0.3333333333333333, \"#9c179e\"], [0.4444444444444444, \"#bd3786\"], [0.5555555555555556, \"#d8576b\"], [0.6666666666666666, \"#ed7953\"], [0.7777777777777778, \"#fb9f3a\"], [0.8888888888888888, \"#fdca26\"], [1.0, \"#f0f921\"]], \"sequentialminus\": [[0.0, \"#0d0887\"], [0.1111111111111111, \"#46039f\"], [0.2222222222222222, \"#7201a8\"], [0.3333333333333333, \"#9c179e\"], [0.4444444444444444, \"#bd3786\"], [0.5555555555555556, \"#d8576b\"], [0.6666666666666666, \"#ed7953\"], [0.7777777777777778, \"#fb9f3a\"], [0.8888888888888888, \"#fdca26\"], [1.0, \"#f0f921\"]]}, \"colorway\": [\"#636efa\", \"#EF553B\", \"#00cc96\", \"#ab63fa\", \"#FFA15A\", \"#19d3f3\", \"#FF6692\", \"#B6E880\", \"#FF97FF\", \"#FECB52\"], \"font\": {\"color\": \"#2a3f5f\"}, \"geo\": {\"bgcolor\": \"white\", \"lakecolor\": \"white\", \"landcolor\": \"#E5ECF6\", \"showlakes\": true, \"showland\": true, \"subunitcolor\": \"white\"}, \"hoverlabel\": {\"align\": \"left\"}, \"hovermode\": \"closest\", \"mapbox\": {\"style\": \"light\"}, \"paper_bgcolor\": \"white\", \"plot_bgcolor\": \"#E5ECF6\", \"polar\": {\"angularaxis\": {\"gridcolor\": \"white\", \"linecolor\": \"white\", \"ticks\": \"\"}, \"bgcolor\": \"#E5ECF6\", \"radialaxis\": {\"gridcolor\": \"white\", \"linecolor\": \"white\", \"ticks\": \"\"}}, \"scene\": {\"xaxis\": {\"backgroundcolor\": \"#E5ECF6\", \"gridcolor\": \"white\", \"gridwidth\": 2, \"linecolor\": \"white\", \"showbackground\": true, \"ticks\": \"\", \"zerolinecolor\": \"white\"}, \"yaxis\": {\"backgroundcolor\": \"#E5ECF6\", \"gridcolor\": \"white\", \"gridwidth\": 2, \"linecolor\": \"white\", \"showbackground\": true, \"ticks\": \"\", \"zerolinecolor\": \"white\"}, \"zaxis\": {\"backgroundcolor\": \"#E5ECF6\", \"gridcolor\": \"white\", \"gridwidth\": 2, \"linecolor\": \"white\", \"showbackground\": true, \"ticks\": \"\", \"zerolinecolor\": \"white\"}}, \"shapedefaults\": {\"line\": {\"color\": \"#2a3f5f\"}}, \"ternary\": {\"aaxis\": {\"gridcolor\": \"white\", \"linecolor\": \"white\", \"ticks\": \"\"}, \"baxis\": {\"gridcolor\": \"white\", \"linecolor\": \"white\", \"ticks\": \"\"}, \"bgcolor\": \"#E5ECF6\", \"caxis\": {\"gridcolor\": \"white\", \"linecolor\": \"white\", \"ticks\": \"\"}}, \"title\": {\"x\": 0.05}, \"xaxis\": {\"automargin\": true, \"gridcolor\": \"white\", \"linecolor\": \"white\", \"ticks\": \"\", \"title\": {\"standoff\": 15}, \"zerolinecolor\": \"white\", \"zerolinewidth\": 2}, \"yaxis\": {\"automargin\": true, \"gridcolor\": \"white\", \"linecolor\": \"white\", \"ticks\": \"\", \"title\": {\"standoff\": 15}, \"zerolinecolor\": \"white\", \"zerolinewidth\": 2}}}, \"xaxis\": {\"anchor\": \"y\", \"domain\": [0.0, 1.0], \"title\": {\"text\": \"variety\"}}, \"yaxis\": {\"anchor\": \"x\", \"domain\": [0.0, 1.0], \"title\": {\"text\": \"mk_price_minus_bmk_price\"}}},                        {\"responsive\": true}                    ).then(function(){\n",
       "                            \n",
       "var gd = document.getElementById('9f47cf6a-16eb-4afe-97d6-96798b958e80');\n",
       "var x = new MutationObserver(function (mutations, observer) {{\n",
       "        var display = window.getComputedStyle(gd).display;\n",
       "        if (!display || display === 'none') {{\n",
       "            console.log([gd, 'removed!']);\n",
       "            Plotly.purge(gd);\n",
       "            observer.disconnect();\n",
       "        }}\n",
       "}});\n",
       "\n",
       "// Listen for the removal of the full notebook cells\n",
       "var notebookContainer = gd.closest('#notebook-container');\n",
       "if (notebookContainer) {{\n",
       "    x.observe(notebookContainer, {childList: true});\n",
       "}}\n",
       "\n",
       "// Listen for the clearing of the current output cell\n",
       "var outputEl = gd.closest('.output');\n",
       "if (outputEl) {{\n",
       "    x.observe(outputEl, {childList: true});\n",
       "}}\n",
       "\n",
       "                        })                };                });            </script>        </div>"
      ]
     },
     "metadata": {},
     "output_type": "display_data"
    }
   ],
   "source": [
    "variety = px.scatter(merge, x=\"variety\", y=\"mk_price_minus_bmk_price\", color=\"wineName\", size=\"benchmarkTradePrice\")\n",
    "variety.show()"
   ]
  },
  {
   "cell_type": "markdown",
   "metadata": {},
   "source": [
    "### Scarcity\n",
    "#### You can see from the following graph that scarcity seems to drive the biggest increase/decrease in price metric changes. Scarce wines are all dominated by the Burgundian Wines"
   ]
  },
  {
   "cell_type": "code",
   "execution_count": 336,
   "metadata": {},
   "outputs": [
    {
     "data": {
      "application/vnd.plotly.v1+json": {
       "config": {
        "plotlyServerURL": "https://plot.ly"
       },
       "data": [
        {
         "hovertemplate": "region=Piedmont<br>averageListQty=%{x}<br>mk_price_minus_bmk_price=%{y}<br>marketPrice=%{marker.size}<extra></extra>",
         "legendgroup": "Piedmont",
         "marker": {
          "color": "#636efa",
          "size": [
           1480,
           1850,
           1800,
           1596,
           2500,
           2260,
           2199,
           1800,
           1350,
           1550,
           1350,
           2872,
           1500,
           1400,
           1299,
           1755
          ],
          "sizemode": "area",
          "sizeref": 42.95,
          "symbol": "circle"
         },
         "mode": "markers",
         "name": "Piedmont",
         "orientation": "v",
         "showlegend": true,
         "type": "scatter",
         "x": [
          73,
          1,
          2,
          1,
          3,
          4,
          2,
          2,
          7,
          1,
          61,
          1,
          36,
          10,
          12,
          0
         ],
         "xaxis": "x",
         "y": [
          124,
          670,
          500,
          451,
          280,
          70,
          859,
          360,
          -2,
          250,
          90,
          318,
          92,
          124,
          -1,
          425
         ],
         "yaxis": "y"
        },
        {
         "hovertemplate": "region=Tuscany<br>averageListQty=%{x}<br>mk_price_minus_bmk_price=%{y}<br>marketPrice=%{marker.size}<extra></extra>",
         "legendgroup": "Tuscany",
         "marker": {
          "color": "#EF553B",
          "size": [
           1110,
           460,
           1408,
           574,
           520,
           660,
           540,
           1700,
           1408,
           1024,
           1326,
           958,
           960,
           1100,
           980,
           1200,
           1300,
           1000,
           1678,
           857,
           420,
           1245,
           475,
           870,
           480,
           487,
           540,
           600
          ],
          "sizemode": "area",
          "sizeref": 42.95,
          "symbol": "circle"
         },
         "mode": "markers",
         "name": "Tuscany",
         "orientation": "v",
         "showlegend": true,
         "type": "scatter",
         "x": [
          12,
          154,
          2,
          1,
          3,
          5,
          2,
          4,
          4,
          4,
          4,
          9,
          13,
          9,
          45,
          123,
          3,
          12,
          4,
          165,
          10,
          3,
          22,
          66,
          101,
          46,
          3,
          14
         ],
         "xaxis": "x",
         "y": [
          -94,
          40,
          258,
          223,
          60,
          270,
          240,
          322,
          170,
          -48,
          156,
          98,
          110,
          90,
          150,
          118,
          100,
          140,
          498,
          57,
          78,
          363,
          87,
          -50,
          100,
          167,
          -4,
          192
         ],
         "yaxis": "y"
        },
        {
         "hovertemplate": "region=Bordeaux<br>averageListQty=%{x}<br>mk_price_minus_bmk_price=%{y}<br>marketPrice=%{marker.size}<extra></extra>",
         "legendgroup": "Bordeaux",
         "marker": {
          "color": "#00cc96",
          "size": [
           3910,
           3700,
           6250,
           4400,
           3720,
           3920,
           3700,
           780,
           1040,
           738,
           10500,
           3900,
           6250,
           1082,
           870,
           900,
           3826,
           800,
           907,
           450,
           550,
           1000,
           900,
           990,
           525,
           3560,
           750,
           6830,
           975,
           530,
           880,
           850,
           4850,
           3758,
           840,
           420,
           3800,
           450,
           400,
           490,
           490,
           820,
           400,
           5415,
           400,
           300,
           950,
           350,
           477,
           5415,
           4820,
           496,
           3600,
           790,
           2973,
           3300,
           408,
           2820,
           468,
           4425,
           2900,
           2690,
           2750,
           3295,
           3400,
           2590,
           3800,
           2300,
           2360,
           2580,
           2960,
           2730,
           3144,
           2761
          ],
          "sizemode": "area",
          "sizeref": 42.95,
          "symbol": "circle"
         },
         "mode": "markers",
         "name": "Bordeaux",
         "orientation": "v",
         "showlegend": true,
         "type": "scatter",
         "x": [
          77,
          150,
          45,
          23,
          50,
          74,
          24,
          6,
          49,
          104,
          62,
          27,
          53,
          64,
          5,
          20,
          54,
          18,
          18,
          1,
          3,
          87,
          41,
          16,
          2,
          37,
          36,
          50,
          49,
          49,
          9,
          94,
          22,
          75,
          15,
          6,
          81,
          1,
          5,
          24,
          406,
          6,
          6,
          96,
          9,
          108,
          27,
          98,
          45,
          140,
          7,
          35,
          2,
          41,
          9,
          10,
          20,
          9,
          2,
          45,
          13,
          5,
          14,
          32,
          28,
          151,
          42,
          34,
          193,
          56,
          143,
          95,
          71,
          38
         ],
         "xaxis": "x",
         "y": [
          110,
          0,
          134,
          0,
          240,
          40,
          180,
          98,
          90,
          -22,
          656,
          216,
          328,
          34,
          165,
          100,
          -290,
          55,
          102,
          230,
          130,
          12,
          37,
          0,
          225,
          35,
          -40,
          -256,
          -51,
          80,
          155,
          -10,
          50,
          68,
          59,
          -112,
          240,
          110,
          68,
          -14,
          -4,
          85,
          100,
          177,
          45,
          -4,
          108,
          26,
          117,
          265,
          660,
          184,
          499,
          -4,
          363,
          145,
          51,
          442,
          3,
          -125,
          250,
          190,
          245,
          295,
          50,
          590,
          195,
          300,
          100,
          80,
          116,
          272,
          24,
          359
         ],
         "yaxis": "y"
        },
        {
         "hovertemplate": "region=Burgundy<br>averageListQty=%{x}<br>mk_price_minus_bmk_price=%{y}<br>marketPrice=%{marker.size}<extra></extra>",
         "legendgroup": "Burgundy",
         "marker": {
          "color": "#ab63fa",
          "size": [
           8000,
           9950,
           14766,
           7000,
           7800,
           14520,
           8400,
           17180,
           7906,
           8400,
           6800,
           12402,
           17000,
           10650,
           8016,
           6396,
           6900,
           6552,
           6360,
           5600,
           8400,
           9000,
           6000,
           7812
          ],
          "sizemode": "area",
          "sizeref": 42.95,
          "symbol": "circle"
         },
         "mode": "markers",
         "name": "Burgundy",
         "orientation": "v",
         "showlegend": true,
         "type": "scatter",
         "x": [
          8,
          3,
          0,
          1,
          8,
          1,
          1,
          0,
          2,
          0,
          1,
          2,
          7,
          1,
          3,
          3,
          0,
          0,
          1,
          1,
          1,
          1,
          1,
          0
         ],
         "xaxis": "x",
         "y": [
          1026,
          1950,
          -3984,
          1640,
          470,
          2520,
          2440,
          10642,
          782,
          1200,
          5070,
          -448,
          4000,
          6650,
          726,
          -1504,
          495,
          2632,
          1860,
          1200,
          2700,
          3600,
          -500,
          -728
         ],
         "yaxis": "y"
        }
       ],
       "layout": {
        "legend": {
         "itemsizing": "constant",
         "title": {
          "text": "region"
         },
         "tracegroupgap": 0
        },
        "margin": {
         "t": 60
        },
        "template": {
         "data": {
          "bar": [
           {
            "error_x": {
             "color": "#2a3f5f"
            },
            "error_y": {
             "color": "#2a3f5f"
            },
            "marker": {
             "line": {
              "color": "#E5ECF6",
              "width": 0.5
             }
            },
            "type": "bar"
           }
          ],
          "barpolar": [
           {
            "marker": {
             "line": {
              "color": "#E5ECF6",
              "width": 0.5
             }
            },
            "type": "barpolar"
           }
          ],
          "carpet": [
           {
            "aaxis": {
             "endlinecolor": "#2a3f5f",
             "gridcolor": "white",
             "linecolor": "white",
             "minorgridcolor": "white",
             "startlinecolor": "#2a3f5f"
            },
            "baxis": {
             "endlinecolor": "#2a3f5f",
             "gridcolor": "white",
             "linecolor": "white",
             "minorgridcolor": "white",
             "startlinecolor": "#2a3f5f"
            },
            "type": "carpet"
           }
          ],
          "choropleth": [
           {
            "colorbar": {
             "outlinewidth": 0,
             "ticks": ""
            },
            "type": "choropleth"
           }
          ],
          "contour": [
           {
            "colorbar": {
             "outlinewidth": 0,
             "ticks": ""
            },
            "colorscale": [
             [
              0,
              "#0d0887"
             ],
             [
              0.1111111111111111,
              "#46039f"
             ],
             [
              0.2222222222222222,
              "#7201a8"
             ],
             [
              0.3333333333333333,
              "#9c179e"
             ],
             [
              0.4444444444444444,
              "#bd3786"
             ],
             [
              0.5555555555555556,
              "#d8576b"
             ],
             [
              0.6666666666666666,
              "#ed7953"
             ],
             [
              0.7777777777777778,
              "#fb9f3a"
             ],
             [
              0.8888888888888888,
              "#fdca26"
             ],
             [
              1,
              "#f0f921"
             ]
            ],
            "type": "contour"
           }
          ],
          "contourcarpet": [
           {
            "colorbar": {
             "outlinewidth": 0,
             "ticks": ""
            },
            "type": "contourcarpet"
           }
          ],
          "heatmap": [
           {
            "colorbar": {
             "outlinewidth": 0,
             "ticks": ""
            },
            "colorscale": [
             [
              0,
              "#0d0887"
             ],
             [
              0.1111111111111111,
              "#46039f"
             ],
             [
              0.2222222222222222,
              "#7201a8"
             ],
             [
              0.3333333333333333,
              "#9c179e"
             ],
             [
              0.4444444444444444,
              "#bd3786"
             ],
             [
              0.5555555555555556,
              "#d8576b"
             ],
             [
              0.6666666666666666,
              "#ed7953"
             ],
             [
              0.7777777777777778,
              "#fb9f3a"
             ],
             [
              0.8888888888888888,
              "#fdca26"
             ],
             [
              1,
              "#f0f921"
             ]
            ],
            "type": "heatmap"
           }
          ],
          "heatmapgl": [
           {
            "colorbar": {
             "outlinewidth": 0,
             "ticks": ""
            },
            "colorscale": [
             [
              0,
              "#0d0887"
             ],
             [
              0.1111111111111111,
              "#46039f"
             ],
             [
              0.2222222222222222,
              "#7201a8"
             ],
             [
              0.3333333333333333,
              "#9c179e"
             ],
             [
              0.4444444444444444,
              "#bd3786"
             ],
             [
              0.5555555555555556,
              "#d8576b"
             ],
             [
              0.6666666666666666,
              "#ed7953"
             ],
             [
              0.7777777777777778,
              "#fb9f3a"
             ],
             [
              0.8888888888888888,
              "#fdca26"
             ],
             [
              1,
              "#f0f921"
             ]
            ],
            "type": "heatmapgl"
           }
          ],
          "histogram": [
           {
            "marker": {
             "colorbar": {
              "outlinewidth": 0,
              "ticks": ""
             }
            },
            "type": "histogram"
           }
          ],
          "histogram2d": [
           {
            "colorbar": {
             "outlinewidth": 0,
             "ticks": ""
            },
            "colorscale": [
             [
              0,
              "#0d0887"
             ],
             [
              0.1111111111111111,
              "#46039f"
             ],
             [
              0.2222222222222222,
              "#7201a8"
             ],
             [
              0.3333333333333333,
              "#9c179e"
             ],
             [
              0.4444444444444444,
              "#bd3786"
             ],
             [
              0.5555555555555556,
              "#d8576b"
             ],
             [
              0.6666666666666666,
              "#ed7953"
             ],
             [
              0.7777777777777778,
              "#fb9f3a"
             ],
             [
              0.8888888888888888,
              "#fdca26"
             ],
             [
              1,
              "#f0f921"
             ]
            ],
            "type": "histogram2d"
           }
          ],
          "histogram2dcontour": [
           {
            "colorbar": {
             "outlinewidth": 0,
             "ticks": ""
            },
            "colorscale": [
             [
              0,
              "#0d0887"
             ],
             [
              0.1111111111111111,
              "#46039f"
             ],
             [
              0.2222222222222222,
              "#7201a8"
             ],
             [
              0.3333333333333333,
              "#9c179e"
             ],
             [
              0.4444444444444444,
              "#bd3786"
             ],
             [
              0.5555555555555556,
              "#d8576b"
             ],
             [
              0.6666666666666666,
              "#ed7953"
             ],
             [
              0.7777777777777778,
              "#fb9f3a"
             ],
             [
              0.8888888888888888,
              "#fdca26"
             ],
             [
              1,
              "#f0f921"
             ]
            ],
            "type": "histogram2dcontour"
           }
          ],
          "mesh3d": [
           {
            "colorbar": {
             "outlinewidth": 0,
             "ticks": ""
            },
            "type": "mesh3d"
           }
          ],
          "parcoords": [
           {
            "line": {
             "colorbar": {
              "outlinewidth": 0,
              "ticks": ""
             }
            },
            "type": "parcoords"
           }
          ],
          "pie": [
           {
            "automargin": true,
            "type": "pie"
           }
          ],
          "scatter": [
           {
            "marker": {
             "colorbar": {
              "outlinewidth": 0,
              "ticks": ""
             }
            },
            "type": "scatter"
           }
          ],
          "scatter3d": [
           {
            "line": {
             "colorbar": {
              "outlinewidth": 0,
              "ticks": ""
             }
            },
            "marker": {
             "colorbar": {
              "outlinewidth": 0,
              "ticks": ""
             }
            },
            "type": "scatter3d"
           }
          ],
          "scattercarpet": [
           {
            "marker": {
             "colorbar": {
              "outlinewidth": 0,
              "ticks": ""
             }
            },
            "type": "scattercarpet"
           }
          ],
          "scattergeo": [
           {
            "marker": {
             "colorbar": {
              "outlinewidth": 0,
              "ticks": ""
             }
            },
            "type": "scattergeo"
           }
          ],
          "scattergl": [
           {
            "marker": {
             "colorbar": {
              "outlinewidth": 0,
              "ticks": ""
             }
            },
            "type": "scattergl"
           }
          ],
          "scattermapbox": [
           {
            "marker": {
             "colorbar": {
              "outlinewidth": 0,
              "ticks": ""
             }
            },
            "type": "scattermapbox"
           }
          ],
          "scatterpolar": [
           {
            "marker": {
             "colorbar": {
              "outlinewidth": 0,
              "ticks": ""
             }
            },
            "type": "scatterpolar"
           }
          ],
          "scatterpolargl": [
           {
            "marker": {
             "colorbar": {
              "outlinewidth": 0,
              "ticks": ""
             }
            },
            "type": "scatterpolargl"
           }
          ],
          "scatterternary": [
           {
            "marker": {
             "colorbar": {
              "outlinewidth": 0,
              "ticks": ""
             }
            },
            "type": "scatterternary"
           }
          ],
          "surface": [
           {
            "colorbar": {
             "outlinewidth": 0,
             "ticks": ""
            },
            "colorscale": [
             [
              0,
              "#0d0887"
             ],
             [
              0.1111111111111111,
              "#46039f"
             ],
             [
              0.2222222222222222,
              "#7201a8"
             ],
             [
              0.3333333333333333,
              "#9c179e"
             ],
             [
              0.4444444444444444,
              "#bd3786"
             ],
             [
              0.5555555555555556,
              "#d8576b"
             ],
             [
              0.6666666666666666,
              "#ed7953"
             ],
             [
              0.7777777777777778,
              "#fb9f3a"
             ],
             [
              0.8888888888888888,
              "#fdca26"
             ],
             [
              1,
              "#f0f921"
             ]
            ],
            "type": "surface"
           }
          ],
          "table": [
           {
            "cells": {
             "fill": {
              "color": "#EBF0F8"
             },
             "line": {
              "color": "white"
             }
            },
            "header": {
             "fill": {
              "color": "#C8D4E3"
             },
             "line": {
              "color": "white"
             }
            },
            "type": "table"
           }
          ]
         },
         "layout": {
          "annotationdefaults": {
           "arrowcolor": "#2a3f5f",
           "arrowhead": 0,
           "arrowwidth": 1
          },
          "autotypenumbers": "strict",
          "coloraxis": {
           "colorbar": {
            "outlinewidth": 0,
            "ticks": ""
           }
          },
          "colorscale": {
           "diverging": [
            [
             0,
             "#8e0152"
            ],
            [
             0.1,
             "#c51b7d"
            ],
            [
             0.2,
             "#de77ae"
            ],
            [
             0.3,
             "#f1b6da"
            ],
            [
             0.4,
             "#fde0ef"
            ],
            [
             0.5,
             "#f7f7f7"
            ],
            [
             0.6,
             "#e6f5d0"
            ],
            [
             0.7,
             "#b8e186"
            ],
            [
             0.8,
             "#7fbc41"
            ],
            [
             0.9,
             "#4d9221"
            ],
            [
             1,
             "#276419"
            ]
           ],
           "sequential": [
            [
             0,
             "#0d0887"
            ],
            [
             0.1111111111111111,
             "#46039f"
            ],
            [
             0.2222222222222222,
             "#7201a8"
            ],
            [
             0.3333333333333333,
             "#9c179e"
            ],
            [
             0.4444444444444444,
             "#bd3786"
            ],
            [
             0.5555555555555556,
             "#d8576b"
            ],
            [
             0.6666666666666666,
             "#ed7953"
            ],
            [
             0.7777777777777778,
             "#fb9f3a"
            ],
            [
             0.8888888888888888,
             "#fdca26"
            ],
            [
             1,
             "#f0f921"
            ]
           ],
           "sequentialminus": [
            [
             0,
             "#0d0887"
            ],
            [
             0.1111111111111111,
             "#46039f"
            ],
            [
             0.2222222222222222,
             "#7201a8"
            ],
            [
             0.3333333333333333,
             "#9c179e"
            ],
            [
             0.4444444444444444,
             "#bd3786"
            ],
            [
             0.5555555555555556,
             "#d8576b"
            ],
            [
             0.6666666666666666,
             "#ed7953"
            ],
            [
             0.7777777777777778,
             "#fb9f3a"
            ],
            [
             0.8888888888888888,
             "#fdca26"
            ],
            [
             1,
             "#f0f921"
            ]
           ]
          },
          "colorway": [
           "#636efa",
           "#EF553B",
           "#00cc96",
           "#ab63fa",
           "#FFA15A",
           "#19d3f3",
           "#FF6692",
           "#B6E880",
           "#FF97FF",
           "#FECB52"
          ],
          "font": {
           "color": "#2a3f5f"
          },
          "geo": {
           "bgcolor": "white",
           "lakecolor": "white",
           "landcolor": "#E5ECF6",
           "showlakes": true,
           "showland": true,
           "subunitcolor": "white"
          },
          "hoverlabel": {
           "align": "left"
          },
          "hovermode": "closest",
          "mapbox": {
           "style": "light"
          },
          "paper_bgcolor": "white",
          "plot_bgcolor": "#E5ECF6",
          "polar": {
           "angularaxis": {
            "gridcolor": "white",
            "linecolor": "white",
            "ticks": ""
           },
           "bgcolor": "#E5ECF6",
           "radialaxis": {
            "gridcolor": "white",
            "linecolor": "white",
            "ticks": ""
           }
          },
          "scene": {
           "xaxis": {
            "backgroundcolor": "#E5ECF6",
            "gridcolor": "white",
            "gridwidth": 2,
            "linecolor": "white",
            "showbackground": true,
            "ticks": "",
            "zerolinecolor": "white"
           },
           "yaxis": {
            "backgroundcolor": "#E5ECF6",
            "gridcolor": "white",
            "gridwidth": 2,
            "linecolor": "white",
            "showbackground": true,
            "ticks": "",
            "zerolinecolor": "white"
           },
           "zaxis": {
            "backgroundcolor": "#E5ECF6",
            "gridcolor": "white",
            "gridwidth": 2,
            "linecolor": "white",
            "showbackground": true,
            "ticks": "",
            "zerolinecolor": "white"
           }
          },
          "shapedefaults": {
           "line": {
            "color": "#2a3f5f"
           }
          },
          "ternary": {
           "aaxis": {
            "gridcolor": "white",
            "linecolor": "white",
            "ticks": ""
           },
           "baxis": {
            "gridcolor": "white",
            "linecolor": "white",
            "ticks": ""
           },
           "bgcolor": "#E5ECF6",
           "caxis": {
            "gridcolor": "white",
            "linecolor": "white",
            "ticks": ""
           }
          },
          "title": {
           "x": 0.05
          },
          "xaxis": {
           "automargin": true,
           "gridcolor": "white",
           "linecolor": "white",
           "ticks": "",
           "title": {
            "standoff": 15
           },
           "zerolinecolor": "white",
           "zerolinewidth": 2
          },
          "yaxis": {
           "automargin": true,
           "gridcolor": "white",
           "linecolor": "white",
           "ticks": "",
           "title": {
            "standoff": 15
           },
           "zerolinecolor": "white",
           "zerolinewidth": 2
          }
         }
        },
        "xaxis": {
         "anchor": "y",
         "domain": [
          0,
          1
         ],
         "title": {
          "text": "averageListQty"
         }
        },
        "yaxis": {
         "anchor": "x",
         "domain": [
          0,
          1
         ],
         "title": {
          "text": "mk_price_minus_bmk_price"
         }
        }
       }
      },
      "text/html": [
       "<div>                            <div id=\"4a91d894-4f46-448f-80f4-ad2d2efd1db7\" class=\"plotly-graph-div\" style=\"height:525px; width:100%;\"></div>            <script type=\"text/javascript\">                require([\"plotly\"], function(Plotly) {                    window.PLOTLYENV=window.PLOTLYENV || {};                                    if (document.getElementById(\"4a91d894-4f46-448f-80f4-ad2d2efd1db7\")) {                    Plotly.newPlot(                        \"4a91d894-4f46-448f-80f4-ad2d2efd1db7\",                        [{\"hovertemplate\": \"region=Piedmont<br>averageListQty=%{x}<br>mk_price_minus_bmk_price=%{y}<br>marketPrice=%{marker.size}<extra></extra>\", \"legendgroup\": \"Piedmont\", \"marker\": {\"color\": \"#636efa\", \"size\": [1480, 1850, 1800, 1596, 2500, 2260, 2199, 1800, 1350, 1550, 1350, 2872, 1500, 1400, 1299, 1755], \"sizemode\": \"area\", \"sizeref\": 42.95, \"symbol\": \"circle\"}, \"mode\": \"markers\", \"name\": \"Piedmont\", \"orientation\": \"v\", \"showlegend\": true, \"type\": \"scatter\", \"x\": [73, 1, 2, 1, 3, 4, 2, 2, 7, 1, 61, 1, 36, 10, 12, 0], \"xaxis\": \"x\", \"y\": [124, 670, 500, 451, 280, 70, 859, 360, -2, 250, 90, 318, 92, 124, -1, 425], \"yaxis\": \"y\"}, {\"hovertemplate\": \"region=Tuscany<br>averageListQty=%{x}<br>mk_price_minus_bmk_price=%{y}<br>marketPrice=%{marker.size}<extra></extra>\", \"legendgroup\": \"Tuscany\", \"marker\": {\"color\": \"#EF553B\", \"size\": [1110, 460, 1408, 574, 520, 660, 540, 1700, 1408, 1024, 1326, 958, 960, 1100, 980, 1200, 1300, 1000, 1678, 857, 420, 1245, 475, 870, 480, 487, 540, 600], \"sizemode\": \"area\", \"sizeref\": 42.95, \"symbol\": \"circle\"}, \"mode\": \"markers\", \"name\": \"Tuscany\", \"orientation\": \"v\", \"showlegend\": true, \"type\": \"scatter\", \"x\": [12, 154, 2, 1, 3, 5, 2, 4, 4, 4, 4, 9, 13, 9, 45, 123, 3, 12, 4, 165, 10, 3, 22, 66, 101, 46, 3, 14], \"xaxis\": \"x\", \"y\": [-94, 40, 258, 223, 60, 270, 240, 322, 170, -48, 156, 98, 110, 90, 150, 118, 100, 140, 498, 57, 78, 363, 87, -50, 100, 167, -4, 192], \"yaxis\": \"y\"}, {\"hovertemplate\": \"region=Bordeaux<br>averageListQty=%{x}<br>mk_price_minus_bmk_price=%{y}<br>marketPrice=%{marker.size}<extra></extra>\", \"legendgroup\": \"Bordeaux\", \"marker\": {\"color\": \"#00cc96\", \"size\": [3910, 3700, 6250, 4400, 3720, 3920, 3700, 780, 1040, 738, 10500, 3900, 6250, 1082, 870, 900, 3826, 800, 907, 450, 550, 1000, 900, 990, 525, 3560, 750, 6830, 975, 530, 880, 850, 4850, 3758, 840, 420, 3800, 450, 400, 490, 490, 820, 400, 5415, 400, 300, 950, 350, 477, 5415, 4820, 496, 3600, 790, 2973, 3300, 408, 2820, 468, 4425, 2900, 2690, 2750, 3295, 3400, 2590, 3800, 2300, 2360, 2580, 2960, 2730, 3144, 2761], \"sizemode\": \"area\", \"sizeref\": 42.95, \"symbol\": \"circle\"}, \"mode\": \"markers\", \"name\": \"Bordeaux\", \"orientation\": \"v\", \"showlegend\": true, \"type\": \"scatter\", \"x\": [77, 150, 45, 23, 50, 74, 24, 6, 49, 104, 62, 27, 53, 64, 5, 20, 54, 18, 18, 1, 3, 87, 41, 16, 2, 37, 36, 50, 49, 49, 9, 94, 22, 75, 15, 6, 81, 1, 5, 24, 406, 6, 6, 96, 9, 108, 27, 98, 45, 140, 7, 35, 2, 41, 9, 10, 20, 9, 2, 45, 13, 5, 14, 32, 28, 151, 42, 34, 193, 56, 143, 95, 71, 38], \"xaxis\": \"x\", \"y\": [110, 0, 134, 0, 240, 40, 180, 98, 90, -22, 656, 216, 328, 34, 165, 100, -290, 55, 102, 230, 130, 12, 37, 0, 225, 35, -40, -256, -51, 80, 155, -10, 50, 68, 59, -112, 240, 110, 68, -14, -4, 85, 100, 177, 45, -4, 108, 26, 117, 265, 660, 184, 499, -4, 363, 145, 51, 442, 3, -125, 250, 190, 245, 295, 50, 590, 195, 300, 100, 80, 116, 272, 24, 359], \"yaxis\": \"y\"}, {\"hovertemplate\": \"region=Burgundy<br>averageListQty=%{x}<br>mk_price_minus_bmk_price=%{y}<br>marketPrice=%{marker.size}<extra></extra>\", \"legendgroup\": \"Burgundy\", \"marker\": {\"color\": \"#ab63fa\", \"size\": [8000, 9950, 14766, 7000, 7800, 14520, 8400, 17180, 7906, 8400, 6800, 12402, 17000, 10650, 8016, 6396, 6900, 6552, 6360, 5600, 8400, 9000, 6000, 7812], \"sizemode\": \"area\", \"sizeref\": 42.95, \"symbol\": \"circle\"}, \"mode\": \"markers\", \"name\": \"Burgundy\", \"orientation\": \"v\", \"showlegend\": true, \"type\": \"scatter\", \"x\": [8, 3, 0, 1, 8, 1, 1, 0, 2, 0, 1, 2, 7, 1, 3, 3, 0, 0, 1, 1, 1, 1, 1, 0], \"xaxis\": \"x\", \"y\": [1026, 1950, -3984, 1640, 470, 2520, 2440, 10642, 782, 1200, 5070, -448, 4000, 6650, 726, -1504, 495, 2632, 1860, 1200, 2700, 3600, -500, -728], \"yaxis\": \"y\"}],                        {\"legend\": {\"itemsizing\": \"constant\", \"title\": {\"text\": \"region\"}, \"tracegroupgap\": 0}, \"margin\": {\"t\": 60}, \"template\": {\"data\": {\"bar\": [{\"error_x\": {\"color\": \"#2a3f5f\"}, \"error_y\": {\"color\": \"#2a3f5f\"}, \"marker\": {\"line\": {\"color\": \"#E5ECF6\", \"width\": 0.5}}, \"type\": \"bar\"}], \"barpolar\": [{\"marker\": {\"line\": {\"color\": \"#E5ECF6\", \"width\": 0.5}}, \"type\": \"barpolar\"}], \"carpet\": [{\"aaxis\": {\"endlinecolor\": \"#2a3f5f\", \"gridcolor\": \"white\", \"linecolor\": \"white\", \"minorgridcolor\": \"white\", \"startlinecolor\": \"#2a3f5f\"}, \"baxis\": {\"endlinecolor\": \"#2a3f5f\", \"gridcolor\": \"white\", \"linecolor\": \"white\", \"minorgridcolor\": \"white\", \"startlinecolor\": \"#2a3f5f\"}, \"type\": \"carpet\"}], \"choropleth\": [{\"colorbar\": {\"outlinewidth\": 0, \"ticks\": \"\"}, \"type\": \"choropleth\"}], \"contour\": [{\"colorbar\": {\"outlinewidth\": 0, \"ticks\": \"\"}, \"colorscale\": [[0.0, \"#0d0887\"], [0.1111111111111111, \"#46039f\"], [0.2222222222222222, \"#7201a8\"], [0.3333333333333333, \"#9c179e\"], [0.4444444444444444, \"#bd3786\"], [0.5555555555555556, \"#d8576b\"], [0.6666666666666666, \"#ed7953\"], [0.7777777777777778, \"#fb9f3a\"], [0.8888888888888888, \"#fdca26\"], [1.0, \"#f0f921\"]], \"type\": \"contour\"}], \"contourcarpet\": [{\"colorbar\": {\"outlinewidth\": 0, \"ticks\": \"\"}, \"type\": \"contourcarpet\"}], \"heatmap\": [{\"colorbar\": {\"outlinewidth\": 0, \"ticks\": \"\"}, \"colorscale\": [[0.0, \"#0d0887\"], [0.1111111111111111, \"#46039f\"], [0.2222222222222222, \"#7201a8\"], [0.3333333333333333, \"#9c179e\"], [0.4444444444444444, \"#bd3786\"], [0.5555555555555556, \"#d8576b\"], [0.6666666666666666, \"#ed7953\"], [0.7777777777777778, \"#fb9f3a\"], [0.8888888888888888, \"#fdca26\"], [1.0, \"#f0f921\"]], \"type\": \"heatmap\"}], \"heatmapgl\": [{\"colorbar\": {\"outlinewidth\": 0, \"ticks\": \"\"}, \"colorscale\": [[0.0, \"#0d0887\"], [0.1111111111111111, \"#46039f\"], [0.2222222222222222, \"#7201a8\"], [0.3333333333333333, \"#9c179e\"], [0.4444444444444444, \"#bd3786\"], [0.5555555555555556, \"#d8576b\"], [0.6666666666666666, \"#ed7953\"], [0.7777777777777778, \"#fb9f3a\"], [0.8888888888888888, \"#fdca26\"], [1.0, \"#f0f921\"]], \"type\": \"heatmapgl\"}], \"histogram\": [{\"marker\": {\"colorbar\": {\"outlinewidth\": 0, \"ticks\": \"\"}}, \"type\": \"histogram\"}], \"histogram2d\": [{\"colorbar\": {\"outlinewidth\": 0, \"ticks\": \"\"}, \"colorscale\": [[0.0, \"#0d0887\"], [0.1111111111111111, \"#46039f\"], [0.2222222222222222, \"#7201a8\"], [0.3333333333333333, \"#9c179e\"], [0.4444444444444444, \"#bd3786\"], [0.5555555555555556, \"#d8576b\"], [0.6666666666666666, \"#ed7953\"], [0.7777777777777778, \"#fb9f3a\"], [0.8888888888888888, \"#fdca26\"], [1.0, \"#f0f921\"]], \"type\": \"histogram2d\"}], \"histogram2dcontour\": [{\"colorbar\": {\"outlinewidth\": 0, \"ticks\": \"\"}, \"colorscale\": [[0.0, \"#0d0887\"], [0.1111111111111111, \"#46039f\"], [0.2222222222222222, \"#7201a8\"], [0.3333333333333333, \"#9c179e\"], [0.4444444444444444, \"#bd3786\"], [0.5555555555555556, \"#d8576b\"], [0.6666666666666666, \"#ed7953\"], [0.7777777777777778, \"#fb9f3a\"], [0.8888888888888888, \"#fdca26\"], [1.0, \"#f0f921\"]], \"type\": \"histogram2dcontour\"}], \"mesh3d\": [{\"colorbar\": {\"outlinewidth\": 0, \"ticks\": \"\"}, \"type\": \"mesh3d\"}], \"parcoords\": [{\"line\": {\"colorbar\": {\"outlinewidth\": 0, \"ticks\": \"\"}}, \"type\": \"parcoords\"}], \"pie\": [{\"automargin\": true, \"type\": \"pie\"}], \"scatter\": [{\"marker\": {\"colorbar\": {\"outlinewidth\": 0, \"ticks\": \"\"}}, \"type\": \"scatter\"}], \"scatter3d\": [{\"line\": {\"colorbar\": {\"outlinewidth\": 0, \"ticks\": \"\"}}, \"marker\": {\"colorbar\": {\"outlinewidth\": 0, \"ticks\": \"\"}}, \"type\": \"scatter3d\"}], \"scattercarpet\": [{\"marker\": {\"colorbar\": {\"outlinewidth\": 0, \"ticks\": \"\"}}, \"type\": \"scattercarpet\"}], \"scattergeo\": [{\"marker\": {\"colorbar\": {\"outlinewidth\": 0, \"ticks\": \"\"}}, \"type\": \"scattergeo\"}], \"scattergl\": [{\"marker\": {\"colorbar\": {\"outlinewidth\": 0, \"ticks\": \"\"}}, \"type\": \"scattergl\"}], \"scattermapbox\": [{\"marker\": {\"colorbar\": {\"outlinewidth\": 0, \"ticks\": \"\"}}, \"type\": \"scattermapbox\"}], \"scatterpolar\": [{\"marker\": {\"colorbar\": {\"outlinewidth\": 0, \"ticks\": \"\"}}, \"type\": \"scatterpolar\"}], \"scatterpolargl\": [{\"marker\": {\"colorbar\": {\"outlinewidth\": 0, \"ticks\": \"\"}}, \"type\": \"scatterpolargl\"}], \"scatterternary\": [{\"marker\": {\"colorbar\": {\"outlinewidth\": 0, \"ticks\": \"\"}}, \"type\": \"scatterternary\"}], \"surface\": [{\"colorbar\": {\"outlinewidth\": 0, \"ticks\": \"\"}, \"colorscale\": [[0.0, \"#0d0887\"], [0.1111111111111111, \"#46039f\"], [0.2222222222222222, \"#7201a8\"], [0.3333333333333333, \"#9c179e\"], [0.4444444444444444, \"#bd3786\"], [0.5555555555555556, \"#d8576b\"], [0.6666666666666666, \"#ed7953\"], [0.7777777777777778, \"#fb9f3a\"], [0.8888888888888888, \"#fdca26\"], [1.0, \"#f0f921\"]], \"type\": \"surface\"}], \"table\": [{\"cells\": {\"fill\": {\"color\": \"#EBF0F8\"}, \"line\": {\"color\": \"white\"}}, \"header\": {\"fill\": {\"color\": \"#C8D4E3\"}, \"line\": {\"color\": \"white\"}}, \"type\": \"table\"}]}, \"layout\": {\"annotationdefaults\": {\"arrowcolor\": \"#2a3f5f\", \"arrowhead\": 0, \"arrowwidth\": 1}, \"autotypenumbers\": \"strict\", \"coloraxis\": {\"colorbar\": {\"outlinewidth\": 0, \"ticks\": \"\"}}, \"colorscale\": {\"diverging\": [[0, \"#8e0152\"], [0.1, \"#c51b7d\"], [0.2, \"#de77ae\"], [0.3, \"#f1b6da\"], [0.4, \"#fde0ef\"], [0.5, \"#f7f7f7\"], [0.6, \"#e6f5d0\"], [0.7, \"#b8e186\"], [0.8, \"#7fbc41\"], [0.9, \"#4d9221\"], [1, \"#276419\"]], \"sequential\": [[0.0, \"#0d0887\"], [0.1111111111111111, \"#46039f\"], [0.2222222222222222, \"#7201a8\"], [0.3333333333333333, \"#9c179e\"], [0.4444444444444444, \"#bd3786\"], [0.5555555555555556, \"#d8576b\"], [0.6666666666666666, \"#ed7953\"], [0.7777777777777778, \"#fb9f3a\"], [0.8888888888888888, \"#fdca26\"], [1.0, \"#f0f921\"]], \"sequentialminus\": [[0.0, \"#0d0887\"], [0.1111111111111111, \"#46039f\"], [0.2222222222222222, \"#7201a8\"], [0.3333333333333333, \"#9c179e\"], [0.4444444444444444, \"#bd3786\"], [0.5555555555555556, \"#d8576b\"], [0.6666666666666666, \"#ed7953\"], [0.7777777777777778, \"#fb9f3a\"], [0.8888888888888888, \"#fdca26\"], [1.0, \"#f0f921\"]]}, \"colorway\": [\"#636efa\", \"#EF553B\", \"#00cc96\", \"#ab63fa\", \"#FFA15A\", \"#19d3f3\", \"#FF6692\", \"#B6E880\", \"#FF97FF\", \"#FECB52\"], \"font\": {\"color\": \"#2a3f5f\"}, \"geo\": {\"bgcolor\": \"white\", \"lakecolor\": \"white\", \"landcolor\": \"#E5ECF6\", \"showlakes\": true, \"showland\": true, \"subunitcolor\": \"white\"}, \"hoverlabel\": {\"align\": \"left\"}, \"hovermode\": \"closest\", \"mapbox\": {\"style\": \"light\"}, \"paper_bgcolor\": \"white\", \"plot_bgcolor\": \"#E5ECF6\", \"polar\": {\"angularaxis\": {\"gridcolor\": \"white\", \"linecolor\": \"white\", \"ticks\": \"\"}, \"bgcolor\": \"#E5ECF6\", \"radialaxis\": {\"gridcolor\": \"white\", \"linecolor\": \"white\", \"ticks\": \"\"}}, \"scene\": {\"xaxis\": {\"backgroundcolor\": \"#E5ECF6\", \"gridcolor\": \"white\", \"gridwidth\": 2, \"linecolor\": \"white\", \"showbackground\": true, \"ticks\": \"\", \"zerolinecolor\": \"white\"}, \"yaxis\": {\"backgroundcolor\": \"#E5ECF6\", \"gridcolor\": \"white\", \"gridwidth\": 2, \"linecolor\": \"white\", \"showbackground\": true, \"ticks\": \"\", \"zerolinecolor\": \"white\"}, \"zaxis\": {\"backgroundcolor\": \"#E5ECF6\", \"gridcolor\": \"white\", \"gridwidth\": 2, \"linecolor\": \"white\", \"showbackground\": true, \"ticks\": \"\", \"zerolinecolor\": \"white\"}}, \"shapedefaults\": {\"line\": {\"color\": \"#2a3f5f\"}}, \"ternary\": {\"aaxis\": {\"gridcolor\": \"white\", \"linecolor\": \"white\", \"ticks\": \"\"}, \"baxis\": {\"gridcolor\": \"white\", \"linecolor\": \"white\", \"ticks\": \"\"}, \"bgcolor\": \"#E5ECF6\", \"caxis\": {\"gridcolor\": \"white\", \"linecolor\": \"white\", \"ticks\": \"\"}}, \"title\": {\"x\": 0.05}, \"xaxis\": {\"automargin\": true, \"gridcolor\": \"white\", \"linecolor\": \"white\", \"ticks\": \"\", \"title\": {\"standoff\": 15}, \"zerolinecolor\": \"white\", \"zerolinewidth\": 2}, \"yaxis\": {\"automargin\": true, \"gridcolor\": \"white\", \"linecolor\": \"white\", \"ticks\": \"\", \"title\": {\"standoff\": 15}, \"zerolinecolor\": \"white\", \"zerolinewidth\": 2}}}, \"xaxis\": {\"anchor\": \"y\", \"domain\": [0.0, 1.0], \"title\": {\"text\": \"averageListQty\"}}, \"yaxis\": {\"anchor\": \"x\", \"domain\": [0.0, 1.0], \"title\": {\"text\": \"mk_price_minus_bmk_price\"}}},                        {\"responsive\": true}                    ).then(function(){\n",
       "                            \n",
       "var gd = document.getElementById('4a91d894-4f46-448f-80f4-ad2d2efd1db7');\n",
       "var x = new MutationObserver(function (mutations, observer) {{\n",
       "        var display = window.getComputedStyle(gd).display;\n",
       "        if (!display || display === 'none') {{\n",
       "            console.log([gd, 'removed!']);\n",
       "            Plotly.purge(gd);\n",
       "            observer.disconnect();\n",
       "        }}\n",
       "}});\n",
       "\n",
       "// Listen for the removal of the full notebook cells\n",
       "var notebookContainer = gd.closest('#notebook-container');\n",
       "if (notebookContainer) {{\n",
       "    x.observe(notebookContainer, {childList: true});\n",
       "}}\n",
       "\n",
       "// Listen for the clearing of the current output cell\n",
       "var outputEl = gd.closest('.output');\n",
       "if (outputEl) {{\n",
       "    x.observe(outputEl, {childList: true});\n",
       "}}\n",
       "\n",
       "                        })                };                });            </script>        </div>"
      ]
     },
     "metadata": {},
     "output_type": "display_data"
    }
   ],
   "source": [
    "list_quantity = px.scatter(merge, x=\"averageListQty\", y=\"mk_price_minus_bmk_price\", color=\"region\", size=\"marketPrice\")\n",
    "list_quantity.show()"
   ]
  },
  {
   "cell_type": "markdown",
   "metadata": {},
   "source": [
    "### Wine Critics/Specialists\n",
    "#### The last graph shows who the various specilists are when it comes to wine regions. Neal Martin and William Keeley are the Burgundian Specialists. Keeley critiques only Burgundies whilst Martin does some Bordeaux as well. Lisa Perrotti-Brown and Robert Parker Jr are Bordeaux Specialists. Italian Wines are more dominated by Monica Larner and Antonio Galloni."
   ]
  },
  {
   "cell_type": "code",
   "execution_count": 341,
   "metadata": {},
   "outputs": [
    {
     "data": {
      "application/vnd.plotly.v1+json": {
       "config": {
        "plotlyServerURL": "https://plot.ly"
       },
       "data": [
        {
         "hovertemplate": "region=Piedmont<br>critic_fullname=%{x}<br>mk_price_minus_bmk_price=%{y}<br>marketPrice=%{marker.size}<extra></extra>",
         "legendgroup": "Piedmont",
         "marker": {
          "color": "#636efa",
          "size": [
           1480,
           1850,
           1800,
           1596,
           2500,
           2260,
           2199,
           1800,
           1350,
           1550,
           1350,
           2872,
           1500,
           1400,
           1299,
           1755
          ],
          "sizemode": "area",
          "sizeref": 42.95,
          "symbol": "circle"
         },
         "mode": "markers",
         "name": "Piedmont",
         "orientation": "v",
         "showlegend": true,
         "type": "scatter",
         "x": [
          "Monica Larner",
          "Antonio Galloni",
          "Antonio Galloni",
          "Antonio Galloni",
          "Antonio Galloni",
          "Antonio Galloni",
          "Antonio Galloni",
          "Monica Larner",
          "Monica Larner",
          "Monica Larner",
          "Monica Larner",
          "Antonio Galloni",
          "Monica Larner",
          "Monica Larner",
          "Monica Larner",
          "Antonio Galloni"
         ],
         "xaxis": "x",
         "y": [
          124,
          670,
          500,
          451,
          280,
          70,
          859,
          360,
          -2,
          250,
          90,
          318,
          92,
          124,
          -1,
          425
         ],
         "yaxis": "y"
        },
        {
         "hovertemplate": "region=Tuscany<br>critic_fullname=%{x}<br>mk_price_minus_bmk_price=%{y}<br>marketPrice=%{marker.size}<extra></extra>",
         "legendgroup": "Tuscany",
         "marker": {
          "color": "#EF553B",
          "size": [
           1110,
           460,
           1408,
           574,
           520,
           660,
           540,
           1700,
           1408,
           1024,
           1326,
           958,
           960,
           1100,
           980,
           1200,
           1300,
           1000,
           1678,
           857,
           420,
           1245,
           475,
           870,
           480,
           487,
           540,
           600
          ],
          "sizemode": "area",
          "sizeref": 42.95,
          "symbol": "circle"
         },
         "mode": "markers",
         "name": "Tuscany",
         "orientation": "v",
         "showlegend": true,
         "type": "scatter",
         "x": [
          "Monica Larner",
          "Monica Larner",
          "Antonio Galloni",
          "Antonio Galloni",
          "Antonio Galloni",
          "Antonio Galloni",
          "Antonio Galloni",
          "Daniel Thomases",
          "Antonio Galloni",
          "Antonio Galloni",
          "Monica Larner",
          "Monica Larner",
          "Monica Larner",
          "Antonio Galloni",
          "Monica Larner",
          "Monica Larner",
          "Monica Larner",
          "Monica Larner",
          "Antonio Galloni",
          "Monica Larner",
          "Monica Larner",
          "Antonio Galloni",
          "Monica Larner",
          "Monica Larner",
          "Monica Larner",
          "Monica Larner",
          "Monica Larner",
          "Monica Larner"
         ],
         "xaxis": "x",
         "y": [
          -94,
          40,
          258,
          223,
          60,
          270,
          240,
          322,
          170,
          -48,
          156,
          98,
          110,
          90,
          150,
          118,
          100,
          140,
          498,
          57,
          78,
          363,
          87,
          -50,
          100,
          167,
          -4,
          192
         ],
         "yaxis": "y"
        },
        {
         "hovertemplate": "region=Bordeaux<br>critic_fullname=%{x}<br>mk_price_minus_bmk_price=%{y}<br>marketPrice=%{marker.size}<extra></extra>",
         "legendgroup": "Bordeaux",
         "marker": {
          "color": "#00cc96",
          "size": [
           3910,
           3700,
           6250,
           4400,
           3720,
           3920,
           3700,
           780,
           1040,
           738,
           10500,
           3900,
           6250,
           1082,
           870,
           900,
           3826,
           800,
           907,
           450,
           550,
           1000,
           900,
           990,
           525,
           3560,
           750,
           6830,
           975,
           530,
           880,
           850,
           4850,
           3758,
           840,
           420,
           3800,
           450,
           400,
           490,
           490,
           820,
           400,
           5415,
           400,
           300,
           950,
           350,
           477,
           5415,
           4820,
           496,
           3600,
           790,
           2973,
           3300,
           408,
           2820,
           468,
           4425,
           2900,
           2690,
           2750,
           3295,
           3400,
           2590,
           3800,
           2300,
           2360,
           2580,
           2960,
           2730,
           3144,
           2761
          ],
          "sizemode": "area",
          "sizeref": 42.95,
          "symbol": "circle"
         },
         "mode": "markers",
         "name": "Bordeaux",
         "orientation": "v",
         "showlegend": true,
         "type": "scatter",
         "x": [
          "Neal Martin",
          "Lisa Perrotti-Brown",
          "Robert M. Parker, Jr.",
          "Neal Martin",
          "Neal Martin",
          "Robert M. Parker, Jr.",
          "Neal Martin",
          "Neal Martin",
          "Lisa Perrotti-Brown",
          "Lisa Perrotti-Brown",
          "Lisa Perrotti-Brown",
          "Robert M. Parker, Jr.",
          "Lisa Perrotti-Brown",
          "Lisa Perrotti-Brown",
          "Robert M. Parker, Jr.",
          "Robert M. Parker, Jr.",
          "Neal Martin",
          "Robert M. Parker, Jr.",
          "Robert M. Parker, Jr.",
          "Robert M. Parker, Jr.",
          "Neal Martin",
          "Neal Martin",
          "Neal Martin",
          "Lisa Perrotti-Brown",
          "Robert M. Parker, Jr.",
          "Neal Martin",
          "Robert M. Parker, Jr.",
          "Lisa Perrotti-Brown",
          "Lisa Perrotti-Brown",
          "Neal Martin",
          "Neal Martin",
          "Lisa Perrotti-Brown",
          "Neal Martin",
          "Robert M. Parker, Jr.",
          "Neal Martin",
          "Neal Martin",
          "Neal Martin",
          "Neal Martin",
          "Robert M. Parker, Jr.",
          "Lisa Perrotti-Brown",
          "Lisa Perrotti-Brown",
          "Robert M. Parker, Jr.",
          "Robert M. Parker, Jr.",
          "Lisa Perrotti-Brown",
          "Robert M. Parker, Jr.",
          "Neal Martin",
          "Lisa Perrotti-Brown",
          "Neal Martin",
          "Neal Martin",
          "Lisa Perrotti-Brown",
          "Lisa Perrotti-Brown",
          "Neal Martin",
          "Robert M. Parker, Jr.",
          "Neal Martin",
          "Robert M. Parker, Jr.",
          "Robert M. Parker, Jr.",
          "Lisa Perrotti-Brown",
          "Robert M. Parker, Jr.",
          "Robert M. Parker, Jr.",
          "Robert M. Parker, Jr.",
          "Neal Martin",
          "Neal Martin",
          "Robert M. Parker, Jr.",
          "Lisa Perrotti-Brown",
          "Lisa Perrotti-Brown",
          "Robert M. Parker, Jr.",
          "Neal Martin",
          "Robert M. Parker, Jr.",
          "Lisa Perrotti-Brown",
          "Lisa Perrotti-Brown",
          "Lisa Perrotti-Brown",
          "Lisa Perrotti-Brown",
          "Lisa Perrotti-Brown",
          "Lisa Perrotti-Brown"
         ],
         "xaxis": "x",
         "y": [
          110,
          0,
          134,
          0,
          240,
          40,
          180,
          98,
          90,
          -22,
          656,
          216,
          328,
          34,
          165,
          100,
          -290,
          55,
          102,
          230,
          130,
          12,
          37,
          0,
          225,
          35,
          -40,
          -256,
          -51,
          80,
          155,
          -10,
          50,
          68,
          59,
          -112,
          240,
          110,
          68,
          -14,
          -4,
          85,
          100,
          177,
          45,
          -4,
          108,
          26,
          117,
          265,
          660,
          184,
          499,
          -4,
          363,
          145,
          51,
          442,
          3,
          -125,
          250,
          190,
          245,
          295,
          50,
          590,
          195,
          300,
          100,
          80,
          116,
          272,
          24,
          359
         ],
         "yaxis": "y"
        },
        {
         "hovertemplate": "region=Burgundy<br>critic_fullname=%{x}<br>mk_price_minus_bmk_price=%{y}<br>marketPrice=%{marker.size}<extra></extra>",
         "legendgroup": "Burgundy",
         "marker": {
          "color": "#ab63fa",
          "size": [
           8000,
           9950,
           14766,
           7000,
           7800,
           14520,
           8400,
           17180,
           7906,
           8400,
           6800,
           12402,
           17000,
           10650,
           8016,
           6396,
           6900,
           6552,
           6360,
           5600,
           8400,
           9000,
           6000,
           7812
          ],
          "sizemode": "area",
          "sizeref": 42.95,
          "symbol": "circle"
         },
         "mode": "markers",
         "name": "Burgundy",
         "orientation": "v",
         "showlegend": true,
         "type": "scatter",
         "x": [
          "William Kelley",
          "Neal Martin",
          "William Kelley",
          "William Kelley",
          "William Kelley",
          "Neal Martin",
          "Antonio Galloni",
          "Neal Martin",
          "Neal Martin",
          "Neal Martin",
          "William Kelley",
          "Neal Martin",
          "William Kelley",
          "Neal Martin",
          "William Kelley",
          "William Kelley",
          "William Kelley",
          "William Kelley",
          "William Kelley",
          "Neal Martin",
          "William Kelley",
          "William Kelley",
          "William Kelley",
          "William Kelley"
         ],
         "xaxis": "x",
         "y": [
          1026,
          1950,
          -3984,
          1640,
          470,
          2520,
          2440,
          10642,
          782,
          1200,
          5070,
          -448,
          4000,
          6650,
          726,
          -1504,
          495,
          2632,
          1860,
          1200,
          2700,
          3600,
          -500,
          -728
         ],
         "yaxis": "y"
        }
       ],
       "layout": {
        "legend": {
         "itemsizing": "constant",
         "title": {
          "text": "region"
         },
         "tracegroupgap": 0
        },
        "margin": {
         "t": 60
        },
        "template": {
         "data": {
          "bar": [
           {
            "error_x": {
             "color": "#2a3f5f"
            },
            "error_y": {
             "color": "#2a3f5f"
            },
            "marker": {
             "line": {
              "color": "#E5ECF6",
              "width": 0.5
             }
            },
            "type": "bar"
           }
          ],
          "barpolar": [
           {
            "marker": {
             "line": {
              "color": "#E5ECF6",
              "width": 0.5
             }
            },
            "type": "barpolar"
           }
          ],
          "carpet": [
           {
            "aaxis": {
             "endlinecolor": "#2a3f5f",
             "gridcolor": "white",
             "linecolor": "white",
             "minorgridcolor": "white",
             "startlinecolor": "#2a3f5f"
            },
            "baxis": {
             "endlinecolor": "#2a3f5f",
             "gridcolor": "white",
             "linecolor": "white",
             "minorgridcolor": "white",
             "startlinecolor": "#2a3f5f"
            },
            "type": "carpet"
           }
          ],
          "choropleth": [
           {
            "colorbar": {
             "outlinewidth": 0,
             "ticks": ""
            },
            "type": "choropleth"
           }
          ],
          "contour": [
           {
            "colorbar": {
             "outlinewidth": 0,
             "ticks": ""
            },
            "colorscale": [
             [
              0,
              "#0d0887"
             ],
             [
              0.1111111111111111,
              "#46039f"
             ],
             [
              0.2222222222222222,
              "#7201a8"
             ],
             [
              0.3333333333333333,
              "#9c179e"
             ],
             [
              0.4444444444444444,
              "#bd3786"
             ],
             [
              0.5555555555555556,
              "#d8576b"
             ],
             [
              0.6666666666666666,
              "#ed7953"
             ],
             [
              0.7777777777777778,
              "#fb9f3a"
             ],
             [
              0.8888888888888888,
              "#fdca26"
             ],
             [
              1,
              "#f0f921"
             ]
            ],
            "type": "contour"
           }
          ],
          "contourcarpet": [
           {
            "colorbar": {
             "outlinewidth": 0,
             "ticks": ""
            },
            "type": "contourcarpet"
           }
          ],
          "heatmap": [
           {
            "colorbar": {
             "outlinewidth": 0,
             "ticks": ""
            },
            "colorscale": [
             [
              0,
              "#0d0887"
             ],
             [
              0.1111111111111111,
              "#46039f"
             ],
             [
              0.2222222222222222,
              "#7201a8"
             ],
             [
              0.3333333333333333,
              "#9c179e"
             ],
             [
              0.4444444444444444,
              "#bd3786"
             ],
             [
              0.5555555555555556,
              "#d8576b"
             ],
             [
              0.6666666666666666,
              "#ed7953"
             ],
             [
              0.7777777777777778,
              "#fb9f3a"
             ],
             [
              0.8888888888888888,
              "#fdca26"
             ],
             [
              1,
              "#f0f921"
             ]
            ],
            "type": "heatmap"
           }
          ],
          "heatmapgl": [
           {
            "colorbar": {
             "outlinewidth": 0,
             "ticks": ""
            },
            "colorscale": [
             [
              0,
              "#0d0887"
             ],
             [
              0.1111111111111111,
              "#46039f"
             ],
             [
              0.2222222222222222,
              "#7201a8"
             ],
             [
              0.3333333333333333,
              "#9c179e"
             ],
             [
              0.4444444444444444,
              "#bd3786"
             ],
             [
              0.5555555555555556,
              "#d8576b"
             ],
             [
              0.6666666666666666,
              "#ed7953"
             ],
             [
              0.7777777777777778,
              "#fb9f3a"
             ],
             [
              0.8888888888888888,
              "#fdca26"
             ],
             [
              1,
              "#f0f921"
             ]
            ],
            "type": "heatmapgl"
           }
          ],
          "histogram": [
           {
            "marker": {
             "colorbar": {
              "outlinewidth": 0,
              "ticks": ""
             }
            },
            "type": "histogram"
           }
          ],
          "histogram2d": [
           {
            "colorbar": {
             "outlinewidth": 0,
             "ticks": ""
            },
            "colorscale": [
             [
              0,
              "#0d0887"
             ],
             [
              0.1111111111111111,
              "#46039f"
             ],
             [
              0.2222222222222222,
              "#7201a8"
             ],
             [
              0.3333333333333333,
              "#9c179e"
             ],
             [
              0.4444444444444444,
              "#bd3786"
             ],
             [
              0.5555555555555556,
              "#d8576b"
             ],
             [
              0.6666666666666666,
              "#ed7953"
             ],
             [
              0.7777777777777778,
              "#fb9f3a"
             ],
             [
              0.8888888888888888,
              "#fdca26"
             ],
             [
              1,
              "#f0f921"
             ]
            ],
            "type": "histogram2d"
           }
          ],
          "histogram2dcontour": [
           {
            "colorbar": {
             "outlinewidth": 0,
             "ticks": ""
            },
            "colorscale": [
             [
              0,
              "#0d0887"
             ],
             [
              0.1111111111111111,
              "#46039f"
             ],
             [
              0.2222222222222222,
              "#7201a8"
             ],
             [
              0.3333333333333333,
              "#9c179e"
             ],
             [
              0.4444444444444444,
              "#bd3786"
             ],
             [
              0.5555555555555556,
              "#d8576b"
             ],
             [
              0.6666666666666666,
              "#ed7953"
             ],
             [
              0.7777777777777778,
              "#fb9f3a"
             ],
             [
              0.8888888888888888,
              "#fdca26"
             ],
             [
              1,
              "#f0f921"
             ]
            ],
            "type": "histogram2dcontour"
           }
          ],
          "mesh3d": [
           {
            "colorbar": {
             "outlinewidth": 0,
             "ticks": ""
            },
            "type": "mesh3d"
           }
          ],
          "parcoords": [
           {
            "line": {
             "colorbar": {
              "outlinewidth": 0,
              "ticks": ""
             }
            },
            "type": "parcoords"
           }
          ],
          "pie": [
           {
            "automargin": true,
            "type": "pie"
           }
          ],
          "scatter": [
           {
            "marker": {
             "colorbar": {
              "outlinewidth": 0,
              "ticks": ""
             }
            },
            "type": "scatter"
           }
          ],
          "scatter3d": [
           {
            "line": {
             "colorbar": {
              "outlinewidth": 0,
              "ticks": ""
             }
            },
            "marker": {
             "colorbar": {
              "outlinewidth": 0,
              "ticks": ""
             }
            },
            "type": "scatter3d"
           }
          ],
          "scattercarpet": [
           {
            "marker": {
             "colorbar": {
              "outlinewidth": 0,
              "ticks": ""
             }
            },
            "type": "scattercarpet"
           }
          ],
          "scattergeo": [
           {
            "marker": {
             "colorbar": {
              "outlinewidth": 0,
              "ticks": ""
             }
            },
            "type": "scattergeo"
           }
          ],
          "scattergl": [
           {
            "marker": {
             "colorbar": {
              "outlinewidth": 0,
              "ticks": ""
             }
            },
            "type": "scattergl"
           }
          ],
          "scattermapbox": [
           {
            "marker": {
             "colorbar": {
              "outlinewidth": 0,
              "ticks": ""
             }
            },
            "type": "scattermapbox"
           }
          ],
          "scatterpolar": [
           {
            "marker": {
             "colorbar": {
              "outlinewidth": 0,
              "ticks": ""
             }
            },
            "type": "scatterpolar"
           }
          ],
          "scatterpolargl": [
           {
            "marker": {
             "colorbar": {
              "outlinewidth": 0,
              "ticks": ""
             }
            },
            "type": "scatterpolargl"
           }
          ],
          "scatterternary": [
           {
            "marker": {
             "colorbar": {
              "outlinewidth": 0,
              "ticks": ""
             }
            },
            "type": "scatterternary"
           }
          ],
          "surface": [
           {
            "colorbar": {
             "outlinewidth": 0,
             "ticks": ""
            },
            "colorscale": [
             [
              0,
              "#0d0887"
             ],
             [
              0.1111111111111111,
              "#46039f"
             ],
             [
              0.2222222222222222,
              "#7201a8"
             ],
             [
              0.3333333333333333,
              "#9c179e"
             ],
             [
              0.4444444444444444,
              "#bd3786"
             ],
             [
              0.5555555555555556,
              "#d8576b"
             ],
             [
              0.6666666666666666,
              "#ed7953"
             ],
             [
              0.7777777777777778,
              "#fb9f3a"
             ],
             [
              0.8888888888888888,
              "#fdca26"
             ],
             [
              1,
              "#f0f921"
             ]
            ],
            "type": "surface"
           }
          ],
          "table": [
           {
            "cells": {
             "fill": {
              "color": "#EBF0F8"
             },
             "line": {
              "color": "white"
             }
            },
            "header": {
             "fill": {
              "color": "#C8D4E3"
             },
             "line": {
              "color": "white"
             }
            },
            "type": "table"
           }
          ]
         },
         "layout": {
          "annotationdefaults": {
           "arrowcolor": "#2a3f5f",
           "arrowhead": 0,
           "arrowwidth": 1
          },
          "autotypenumbers": "strict",
          "coloraxis": {
           "colorbar": {
            "outlinewidth": 0,
            "ticks": ""
           }
          },
          "colorscale": {
           "diverging": [
            [
             0,
             "#8e0152"
            ],
            [
             0.1,
             "#c51b7d"
            ],
            [
             0.2,
             "#de77ae"
            ],
            [
             0.3,
             "#f1b6da"
            ],
            [
             0.4,
             "#fde0ef"
            ],
            [
             0.5,
             "#f7f7f7"
            ],
            [
             0.6,
             "#e6f5d0"
            ],
            [
             0.7,
             "#b8e186"
            ],
            [
             0.8,
             "#7fbc41"
            ],
            [
             0.9,
             "#4d9221"
            ],
            [
             1,
             "#276419"
            ]
           ],
           "sequential": [
            [
             0,
             "#0d0887"
            ],
            [
             0.1111111111111111,
             "#46039f"
            ],
            [
             0.2222222222222222,
             "#7201a8"
            ],
            [
             0.3333333333333333,
             "#9c179e"
            ],
            [
             0.4444444444444444,
             "#bd3786"
            ],
            [
             0.5555555555555556,
             "#d8576b"
            ],
            [
             0.6666666666666666,
             "#ed7953"
            ],
            [
             0.7777777777777778,
             "#fb9f3a"
            ],
            [
             0.8888888888888888,
             "#fdca26"
            ],
            [
             1,
             "#f0f921"
            ]
           ],
           "sequentialminus": [
            [
             0,
             "#0d0887"
            ],
            [
             0.1111111111111111,
             "#46039f"
            ],
            [
             0.2222222222222222,
             "#7201a8"
            ],
            [
             0.3333333333333333,
             "#9c179e"
            ],
            [
             0.4444444444444444,
             "#bd3786"
            ],
            [
             0.5555555555555556,
             "#d8576b"
            ],
            [
             0.6666666666666666,
             "#ed7953"
            ],
            [
             0.7777777777777778,
             "#fb9f3a"
            ],
            [
             0.8888888888888888,
             "#fdca26"
            ],
            [
             1,
             "#f0f921"
            ]
           ]
          },
          "colorway": [
           "#636efa",
           "#EF553B",
           "#00cc96",
           "#ab63fa",
           "#FFA15A",
           "#19d3f3",
           "#FF6692",
           "#B6E880",
           "#FF97FF",
           "#FECB52"
          ],
          "font": {
           "color": "#2a3f5f"
          },
          "geo": {
           "bgcolor": "white",
           "lakecolor": "white",
           "landcolor": "#E5ECF6",
           "showlakes": true,
           "showland": true,
           "subunitcolor": "white"
          },
          "hoverlabel": {
           "align": "left"
          },
          "hovermode": "closest",
          "mapbox": {
           "style": "light"
          },
          "paper_bgcolor": "white",
          "plot_bgcolor": "#E5ECF6",
          "polar": {
           "angularaxis": {
            "gridcolor": "white",
            "linecolor": "white",
            "ticks": ""
           },
           "bgcolor": "#E5ECF6",
           "radialaxis": {
            "gridcolor": "white",
            "linecolor": "white",
            "ticks": ""
           }
          },
          "scene": {
           "xaxis": {
            "backgroundcolor": "#E5ECF6",
            "gridcolor": "white",
            "gridwidth": 2,
            "linecolor": "white",
            "showbackground": true,
            "ticks": "",
            "zerolinecolor": "white"
           },
           "yaxis": {
            "backgroundcolor": "#E5ECF6",
            "gridcolor": "white",
            "gridwidth": 2,
            "linecolor": "white",
            "showbackground": true,
            "ticks": "",
            "zerolinecolor": "white"
           },
           "zaxis": {
            "backgroundcolor": "#E5ECF6",
            "gridcolor": "white",
            "gridwidth": 2,
            "linecolor": "white",
            "showbackground": true,
            "ticks": "",
            "zerolinecolor": "white"
           }
          },
          "shapedefaults": {
           "line": {
            "color": "#2a3f5f"
           }
          },
          "ternary": {
           "aaxis": {
            "gridcolor": "white",
            "linecolor": "white",
            "ticks": ""
           },
           "baxis": {
            "gridcolor": "white",
            "linecolor": "white",
            "ticks": ""
           },
           "bgcolor": "#E5ECF6",
           "caxis": {
            "gridcolor": "white",
            "linecolor": "white",
            "ticks": ""
           }
          },
          "title": {
           "x": 0.05
          },
          "xaxis": {
           "automargin": true,
           "gridcolor": "white",
           "linecolor": "white",
           "ticks": "",
           "title": {
            "standoff": 15
           },
           "zerolinecolor": "white",
           "zerolinewidth": 2
          },
          "yaxis": {
           "automargin": true,
           "gridcolor": "white",
           "linecolor": "white",
           "ticks": "",
           "title": {
            "standoff": 15
           },
           "zerolinecolor": "white",
           "zerolinewidth": 2
          }
         }
        },
        "xaxis": {
         "anchor": "y",
         "domain": [
          0,
          1
         ],
         "title": {
          "text": "critic_fullname"
         }
        },
        "yaxis": {
         "anchor": "x",
         "domain": [
          0,
          1
         ],
         "title": {
          "text": "mk_price_minus_bmk_price"
         }
        }
       }
      },
      "text/html": [
       "<div>                            <div id=\"5c06e0e6-3196-43d9-9eff-2a385c2d0f51\" class=\"plotly-graph-div\" style=\"height:525px; width:100%;\"></div>            <script type=\"text/javascript\">                require([\"plotly\"], function(Plotly) {                    window.PLOTLYENV=window.PLOTLYENV || {};                                    if (document.getElementById(\"5c06e0e6-3196-43d9-9eff-2a385c2d0f51\")) {                    Plotly.newPlot(                        \"5c06e0e6-3196-43d9-9eff-2a385c2d0f51\",                        [{\"hovertemplate\": \"region=Piedmont<br>critic_fullname=%{x}<br>mk_price_minus_bmk_price=%{y}<br>marketPrice=%{marker.size}<extra></extra>\", \"legendgroup\": \"Piedmont\", \"marker\": {\"color\": \"#636efa\", \"size\": [1480, 1850, 1800, 1596, 2500, 2260, 2199, 1800, 1350, 1550, 1350, 2872, 1500, 1400, 1299, 1755], \"sizemode\": \"area\", \"sizeref\": 42.95, \"symbol\": \"circle\"}, \"mode\": \"markers\", \"name\": \"Piedmont\", \"orientation\": \"v\", \"showlegend\": true, \"type\": \"scatter\", \"x\": [\"Monica Larner\", \"Antonio Galloni\", \"Antonio Galloni\", \"Antonio Galloni\", \"Antonio Galloni\", \"Antonio Galloni\", \"Antonio Galloni\", \"Monica Larner\", \"Monica Larner\", \"Monica Larner\", \"Monica Larner\", \"Antonio Galloni\", \"Monica Larner\", \"Monica Larner\", \"Monica Larner\", \"Antonio Galloni\"], \"xaxis\": \"x\", \"y\": [124, 670, 500, 451, 280, 70, 859, 360, -2, 250, 90, 318, 92, 124, -1, 425], \"yaxis\": \"y\"}, {\"hovertemplate\": \"region=Tuscany<br>critic_fullname=%{x}<br>mk_price_minus_bmk_price=%{y}<br>marketPrice=%{marker.size}<extra></extra>\", \"legendgroup\": \"Tuscany\", \"marker\": {\"color\": \"#EF553B\", \"size\": [1110, 460, 1408, 574, 520, 660, 540, 1700, 1408, 1024, 1326, 958, 960, 1100, 980, 1200, 1300, 1000, 1678, 857, 420, 1245, 475, 870, 480, 487, 540, 600], \"sizemode\": \"area\", \"sizeref\": 42.95, \"symbol\": \"circle\"}, \"mode\": \"markers\", \"name\": \"Tuscany\", \"orientation\": \"v\", \"showlegend\": true, \"type\": \"scatter\", \"x\": [\"Monica Larner\", \"Monica Larner\", \"Antonio Galloni\", \"Antonio Galloni\", \"Antonio Galloni\", \"Antonio Galloni\", \"Antonio Galloni\", \"Daniel Thomases\", \"Antonio Galloni\", \"Antonio Galloni\", \"Monica Larner\", \"Monica Larner\", \"Monica Larner\", \"Antonio Galloni\", \"Monica Larner\", \"Monica Larner\", \"Monica Larner\", \"Monica Larner\", \"Antonio Galloni\", \"Monica Larner\", \"Monica Larner\", \"Antonio Galloni\", \"Monica Larner\", \"Monica Larner\", \"Monica Larner\", \"Monica Larner\", \"Monica Larner\", \"Monica Larner\"], \"xaxis\": \"x\", \"y\": [-94, 40, 258, 223, 60, 270, 240, 322, 170, -48, 156, 98, 110, 90, 150, 118, 100, 140, 498, 57, 78, 363, 87, -50, 100, 167, -4, 192], \"yaxis\": \"y\"}, {\"hovertemplate\": \"region=Bordeaux<br>critic_fullname=%{x}<br>mk_price_minus_bmk_price=%{y}<br>marketPrice=%{marker.size}<extra></extra>\", \"legendgroup\": \"Bordeaux\", \"marker\": {\"color\": \"#00cc96\", \"size\": [3910, 3700, 6250, 4400, 3720, 3920, 3700, 780, 1040, 738, 10500, 3900, 6250, 1082, 870, 900, 3826, 800, 907, 450, 550, 1000, 900, 990, 525, 3560, 750, 6830, 975, 530, 880, 850, 4850, 3758, 840, 420, 3800, 450, 400, 490, 490, 820, 400, 5415, 400, 300, 950, 350, 477, 5415, 4820, 496, 3600, 790, 2973, 3300, 408, 2820, 468, 4425, 2900, 2690, 2750, 3295, 3400, 2590, 3800, 2300, 2360, 2580, 2960, 2730, 3144, 2761], \"sizemode\": \"area\", \"sizeref\": 42.95, \"symbol\": \"circle\"}, \"mode\": \"markers\", \"name\": \"Bordeaux\", \"orientation\": \"v\", \"showlegend\": true, \"type\": \"scatter\", \"x\": [\"Neal Martin\", \"Lisa Perrotti-Brown\", \"Robert M. Parker, Jr.\", \"Neal Martin\", \"Neal Martin\", \"Robert M. Parker, Jr.\", \"Neal Martin\", \"Neal Martin\", \"Lisa Perrotti-Brown\", \"Lisa Perrotti-Brown\", \"Lisa Perrotti-Brown\", \"Robert M. Parker, Jr.\", \"Lisa Perrotti-Brown\", \"Lisa Perrotti-Brown\", \"Robert M. Parker, Jr.\", \"Robert M. Parker, Jr.\", \"Neal Martin\", \"Robert M. Parker, Jr.\", \"Robert M. Parker, Jr.\", \"Robert M. Parker, Jr.\", \"Neal Martin\", \"Neal Martin\", \"Neal Martin\", \"Lisa Perrotti-Brown\", \"Robert M. Parker, Jr.\", \"Neal Martin\", \"Robert M. Parker, Jr.\", \"Lisa Perrotti-Brown\", \"Lisa Perrotti-Brown\", \"Neal Martin\", \"Neal Martin\", \"Lisa Perrotti-Brown\", \"Neal Martin\", \"Robert M. Parker, Jr.\", \"Neal Martin\", \"Neal Martin\", \"Neal Martin\", \"Neal Martin\", \"Robert M. Parker, Jr.\", \"Lisa Perrotti-Brown\", \"Lisa Perrotti-Brown\", \"Robert M. Parker, Jr.\", \"Robert M. Parker, Jr.\", \"Lisa Perrotti-Brown\", \"Robert M. Parker, Jr.\", \"Neal Martin\", \"Lisa Perrotti-Brown\", \"Neal Martin\", \"Neal Martin\", \"Lisa Perrotti-Brown\", \"Lisa Perrotti-Brown\", \"Neal Martin\", \"Robert M. Parker, Jr.\", \"Neal Martin\", \"Robert M. Parker, Jr.\", \"Robert M. Parker, Jr.\", \"Lisa Perrotti-Brown\", \"Robert M. Parker, Jr.\", \"Robert M. Parker, Jr.\", \"Robert M. Parker, Jr.\", \"Neal Martin\", \"Neal Martin\", \"Robert M. Parker, Jr.\", \"Lisa Perrotti-Brown\", \"Lisa Perrotti-Brown\", \"Robert M. Parker, Jr.\", \"Neal Martin\", \"Robert M. Parker, Jr.\", \"Lisa Perrotti-Brown\", \"Lisa Perrotti-Brown\", \"Lisa Perrotti-Brown\", \"Lisa Perrotti-Brown\", \"Lisa Perrotti-Brown\", \"Lisa Perrotti-Brown\"], \"xaxis\": \"x\", \"y\": [110, 0, 134, 0, 240, 40, 180, 98, 90, -22, 656, 216, 328, 34, 165, 100, -290, 55, 102, 230, 130, 12, 37, 0, 225, 35, -40, -256, -51, 80, 155, -10, 50, 68, 59, -112, 240, 110, 68, -14, -4, 85, 100, 177, 45, -4, 108, 26, 117, 265, 660, 184, 499, -4, 363, 145, 51, 442, 3, -125, 250, 190, 245, 295, 50, 590, 195, 300, 100, 80, 116, 272, 24, 359], \"yaxis\": \"y\"}, {\"hovertemplate\": \"region=Burgundy<br>critic_fullname=%{x}<br>mk_price_minus_bmk_price=%{y}<br>marketPrice=%{marker.size}<extra></extra>\", \"legendgroup\": \"Burgundy\", \"marker\": {\"color\": \"#ab63fa\", \"size\": [8000, 9950, 14766, 7000, 7800, 14520, 8400, 17180, 7906, 8400, 6800, 12402, 17000, 10650, 8016, 6396, 6900, 6552, 6360, 5600, 8400, 9000, 6000, 7812], \"sizemode\": \"area\", \"sizeref\": 42.95, \"symbol\": \"circle\"}, \"mode\": \"markers\", \"name\": \"Burgundy\", \"orientation\": \"v\", \"showlegend\": true, \"type\": \"scatter\", \"x\": [\"William Kelley\", \"Neal Martin\", \"William Kelley\", \"William Kelley\", \"William Kelley\", \"Neal Martin\", \"Antonio Galloni\", \"Neal Martin\", \"Neal Martin\", \"Neal Martin\", \"William Kelley\", \"Neal Martin\", \"William Kelley\", \"Neal Martin\", \"William Kelley\", \"William Kelley\", \"William Kelley\", \"William Kelley\", \"William Kelley\", \"Neal Martin\", \"William Kelley\", \"William Kelley\", \"William Kelley\", \"William Kelley\"], \"xaxis\": \"x\", \"y\": [1026, 1950, -3984, 1640, 470, 2520, 2440, 10642, 782, 1200, 5070, -448, 4000, 6650, 726, -1504, 495, 2632, 1860, 1200, 2700, 3600, -500, -728], \"yaxis\": \"y\"}],                        {\"legend\": {\"itemsizing\": \"constant\", \"title\": {\"text\": \"region\"}, \"tracegroupgap\": 0}, \"margin\": {\"t\": 60}, \"template\": {\"data\": {\"bar\": [{\"error_x\": {\"color\": \"#2a3f5f\"}, \"error_y\": {\"color\": \"#2a3f5f\"}, \"marker\": {\"line\": {\"color\": \"#E5ECF6\", \"width\": 0.5}}, \"type\": \"bar\"}], \"barpolar\": [{\"marker\": {\"line\": {\"color\": \"#E5ECF6\", \"width\": 0.5}}, \"type\": \"barpolar\"}], \"carpet\": [{\"aaxis\": {\"endlinecolor\": \"#2a3f5f\", \"gridcolor\": \"white\", \"linecolor\": \"white\", \"minorgridcolor\": \"white\", \"startlinecolor\": \"#2a3f5f\"}, \"baxis\": {\"endlinecolor\": \"#2a3f5f\", \"gridcolor\": \"white\", \"linecolor\": \"white\", \"minorgridcolor\": \"white\", \"startlinecolor\": \"#2a3f5f\"}, \"type\": \"carpet\"}], \"choropleth\": [{\"colorbar\": {\"outlinewidth\": 0, \"ticks\": \"\"}, \"type\": \"choropleth\"}], \"contour\": [{\"colorbar\": {\"outlinewidth\": 0, \"ticks\": \"\"}, \"colorscale\": [[0.0, \"#0d0887\"], [0.1111111111111111, \"#46039f\"], [0.2222222222222222, \"#7201a8\"], [0.3333333333333333, \"#9c179e\"], [0.4444444444444444, \"#bd3786\"], [0.5555555555555556, \"#d8576b\"], [0.6666666666666666, \"#ed7953\"], [0.7777777777777778, \"#fb9f3a\"], [0.8888888888888888, \"#fdca26\"], [1.0, \"#f0f921\"]], \"type\": \"contour\"}], \"contourcarpet\": [{\"colorbar\": {\"outlinewidth\": 0, \"ticks\": \"\"}, \"type\": \"contourcarpet\"}], \"heatmap\": [{\"colorbar\": {\"outlinewidth\": 0, \"ticks\": \"\"}, \"colorscale\": [[0.0, \"#0d0887\"], [0.1111111111111111, \"#46039f\"], [0.2222222222222222, \"#7201a8\"], [0.3333333333333333, \"#9c179e\"], [0.4444444444444444, \"#bd3786\"], [0.5555555555555556, \"#d8576b\"], [0.6666666666666666, \"#ed7953\"], [0.7777777777777778, \"#fb9f3a\"], [0.8888888888888888, \"#fdca26\"], [1.0, \"#f0f921\"]], \"type\": \"heatmap\"}], \"heatmapgl\": [{\"colorbar\": {\"outlinewidth\": 0, \"ticks\": \"\"}, \"colorscale\": [[0.0, \"#0d0887\"], [0.1111111111111111, \"#46039f\"], [0.2222222222222222, \"#7201a8\"], [0.3333333333333333, \"#9c179e\"], [0.4444444444444444, \"#bd3786\"], [0.5555555555555556, \"#d8576b\"], [0.6666666666666666, \"#ed7953\"], [0.7777777777777778, \"#fb9f3a\"], [0.8888888888888888, \"#fdca26\"], [1.0, \"#f0f921\"]], \"type\": \"heatmapgl\"}], \"histogram\": [{\"marker\": {\"colorbar\": {\"outlinewidth\": 0, \"ticks\": \"\"}}, \"type\": \"histogram\"}], \"histogram2d\": [{\"colorbar\": {\"outlinewidth\": 0, \"ticks\": \"\"}, \"colorscale\": [[0.0, \"#0d0887\"], [0.1111111111111111, \"#46039f\"], [0.2222222222222222, \"#7201a8\"], [0.3333333333333333, \"#9c179e\"], [0.4444444444444444, \"#bd3786\"], [0.5555555555555556, \"#d8576b\"], [0.6666666666666666, \"#ed7953\"], [0.7777777777777778, \"#fb9f3a\"], [0.8888888888888888, \"#fdca26\"], [1.0, \"#f0f921\"]], \"type\": \"histogram2d\"}], \"histogram2dcontour\": [{\"colorbar\": {\"outlinewidth\": 0, \"ticks\": \"\"}, \"colorscale\": [[0.0, \"#0d0887\"], [0.1111111111111111, \"#46039f\"], [0.2222222222222222, \"#7201a8\"], [0.3333333333333333, \"#9c179e\"], [0.4444444444444444, \"#bd3786\"], [0.5555555555555556, \"#d8576b\"], [0.6666666666666666, \"#ed7953\"], [0.7777777777777778, \"#fb9f3a\"], [0.8888888888888888, \"#fdca26\"], [1.0, \"#f0f921\"]], \"type\": \"histogram2dcontour\"}], \"mesh3d\": [{\"colorbar\": {\"outlinewidth\": 0, \"ticks\": \"\"}, \"type\": \"mesh3d\"}], \"parcoords\": [{\"line\": {\"colorbar\": {\"outlinewidth\": 0, \"ticks\": \"\"}}, \"type\": \"parcoords\"}], \"pie\": [{\"automargin\": true, \"type\": \"pie\"}], \"scatter\": [{\"marker\": {\"colorbar\": {\"outlinewidth\": 0, \"ticks\": \"\"}}, \"type\": \"scatter\"}], \"scatter3d\": [{\"line\": {\"colorbar\": {\"outlinewidth\": 0, \"ticks\": \"\"}}, \"marker\": {\"colorbar\": {\"outlinewidth\": 0, \"ticks\": \"\"}}, \"type\": \"scatter3d\"}], \"scattercarpet\": [{\"marker\": {\"colorbar\": {\"outlinewidth\": 0, \"ticks\": \"\"}}, \"type\": \"scattercarpet\"}], \"scattergeo\": [{\"marker\": {\"colorbar\": {\"outlinewidth\": 0, \"ticks\": \"\"}}, \"type\": \"scattergeo\"}], \"scattergl\": [{\"marker\": {\"colorbar\": {\"outlinewidth\": 0, \"ticks\": \"\"}}, \"type\": \"scattergl\"}], \"scattermapbox\": [{\"marker\": {\"colorbar\": {\"outlinewidth\": 0, \"ticks\": \"\"}}, \"type\": \"scattermapbox\"}], \"scatterpolar\": [{\"marker\": {\"colorbar\": {\"outlinewidth\": 0, \"ticks\": \"\"}}, \"type\": \"scatterpolar\"}], \"scatterpolargl\": [{\"marker\": {\"colorbar\": {\"outlinewidth\": 0, \"ticks\": \"\"}}, \"type\": \"scatterpolargl\"}], \"scatterternary\": [{\"marker\": {\"colorbar\": {\"outlinewidth\": 0, \"ticks\": \"\"}}, \"type\": \"scatterternary\"}], \"surface\": [{\"colorbar\": {\"outlinewidth\": 0, \"ticks\": \"\"}, \"colorscale\": [[0.0, \"#0d0887\"], [0.1111111111111111, \"#46039f\"], [0.2222222222222222, \"#7201a8\"], [0.3333333333333333, \"#9c179e\"], [0.4444444444444444, \"#bd3786\"], [0.5555555555555556, \"#d8576b\"], [0.6666666666666666, \"#ed7953\"], [0.7777777777777778, \"#fb9f3a\"], [0.8888888888888888, \"#fdca26\"], [1.0, \"#f0f921\"]], \"type\": \"surface\"}], \"table\": [{\"cells\": {\"fill\": {\"color\": \"#EBF0F8\"}, \"line\": {\"color\": \"white\"}}, \"header\": {\"fill\": {\"color\": \"#C8D4E3\"}, \"line\": {\"color\": \"white\"}}, \"type\": \"table\"}]}, \"layout\": {\"annotationdefaults\": {\"arrowcolor\": \"#2a3f5f\", \"arrowhead\": 0, \"arrowwidth\": 1}, \"autotypenumbers\": \"strict\", \"coloraxis\": {\"colorbar\": {\"outlinewidth\": 0, \"ticks\": \"\"}}, \"colorscale\": {\"diverging\": [[0, \"#8e0152\"], [0.1, \"#c51b7d\"], [0.2, \"#de77ae\"], [0.3, \"#f1b6da\"], [0.4, \"#fde0ef\"], [0.5, \"#f7f7f7\"], [0.6, \"#e6f5d0\"], [0.7, \"#b8e186\"], [0.8, \"#7fbc41\"], [0.9, \"#4d9221\"], [1, \"#276419\"]], \"sequential\": [[0.0, \"#0d0887\"], [0.1111111111111111, \"#46039f\"], [0.2222222222222222, \"#7201a8\"], [0.3333333333333333, \"#9c179e\"], [0.4444444444444444, \"#bd3786\"], [0.5555555555555556, \"#d8576b\"], [0.6666666666666666, \"#ed7953\"], [0.7777777777777778, \"#fb9f3a\"], [0.8888888888888888, \"#fdca26\"], [1.0, \"#f0f921\"]], \"sequentialminus\": [[0.0, \"#0d0887\"], [0.1111111111111111, \"#46039f\"], [0.2222222222222222, \"#7201a8\"], [0.3333333333333333, \"#9c179e\"], [0.4444444444444444, \"#bd3786\"], [0.5555555555555556, \"#d8576b\"], [0.6666666666666666, \"#ed7953\"], [0.7777777777777778, \"#fb9f3a\"], [0.8888888888888888, \"#fdca26\"], [1.0, \"#f0f921\"]]}, \"colorway\": [\"#636efa\", \"#EF553B\", \"#00cc96\", \"#ab63fa\", \"#FFA15A\", \"#19d3f3\", \"#FF6692\", \"#B6E880\", \"#FF97FF\", \"#FECB52\"], \"font\": {\"color\": \"#2a3f5f\"}, \"geo\": {\"bgcolor\": \"white\", \"lakecolor\": \"white\", \"landcolor\": \"#E5ECF6\", \"showlakes\": true, \"showland\": true, \"subunitcolor\": \"white\"}, \"hoverlabel\": {\"align\": \"left\"}, \"hovermode\": \"closest\", \"mapbox\": {\"style\": \"light\"}, \"paper_bgcolor\": \"white\", \"plot_bgcolor\": \"#E5ECF6\", \"polar\": {\"angularaxis\": {\"gridcolor\": \"white\", \"linecolor\": \"white\", \"ticks\": \"\"}, \"bgcolor\": \"#E5ECF6\", \"radialaxis\": {\"gridcolor\": \"white\", \"linecolor\": \"white\", \"ticks\": \"\"}}, \"scene\": {\"xaxis\": {\"backgroundcolor\": \"#E5ECF6\", \"gridcolor\": \"white\", \"gridwidth\": 2, \"linecolor\": \"white\", \"showbackground\": true, \"ticks\": \"\", \"zerolinecolor\": \"white\"}, \"yaxis\": {\"backgroundcolor\": \"#E5ECF6\", \"gridcolor\": \"white\", \"gridwidth\": 2, \"linecolor\": \"white\", \"showbackground\": true, \"ticks\": \"\", \"zerolinecolor\": \"white\"}, \"zaxis\": {\"backgroundcolor\": \"#E5ECF6\", \"gridcolor\": \"white\", \"gridwidth\": 2, \"linecolor\": \"white\", \"showbackground\": true, \"ticks\": \"\", \"zerolinecolor\": \"white\"}}, \"shapedefaults\": {\"line\": {\"color\": \"#2a3f5f\"}}, \"ternary\": {\"aaxis\": {\"gridcolor\": \"white\", \"linecolor\": \"white\", \"ticks\": \"\"}, \"baxis\": {\"gridcolor\": \"white\", \"linecolor\": \"white\", \"ticks\": \"\"}, \"bgcolor\": \"#E5ECF6\", \"caxis\": {\"gridcolor\": \"white\", \"linecolor\": \"white\", \"ticks\": \"\"}}, \"title\": {\"x\": 0.05}, \"xaxis\": {\"automargin\": true, \"gridcolor\": \"white\", \"linecolor\": \"white\", \"ticks\": \"\", \"title\": {\"standoff\": 15}, \"zerolinecolor\": \"white\", \"zerolinewidth\": 2}, \"yaxis\": {\"automargin\": true, \"gridcolor\": \"white\", \"linecolor\": \"white\", \"ticks\": \"\", \"title\": {\"standoff\": 15}, \"zerolinecolor\": \"white\", \"zerolinewidth\": 2}}}, \"xaxis\": {\"anchor\": \"y\", \"domain\": [0.0, 1.0], \"title\": {\"text\": \"critic_fullname\"}}, \"yaxis\": {\"anchor\": \"x\", \"domain\": [0.0, 1.0], \"title\": {\"text\": \"mk_price_minus_bmk_price\"}}},                        {\"responsive\": true}                    ).then(function(){\n",
       "                            \n",
       "var gd = document.getElementById('5c06e0e6-3196-43d9-9eff-2a385c2d0f51');\n",
       "var x = new MutationObserver(function (mutations, observer) {{\n",
       "        var display = window.getComputedStyle(gd).display;\n",
       "        if (!display || display === 'none') {{\n",
       "            console.log([gd, 'removed!']);\n",
       "            Plotly.purge(gd);\n",
       "            observer.disconnect();\n",
       "        }}\n",
       "}});\n",
       "\n",
       "// Listen for the removal of the full notebook cells\n",
       "var notebookContainer = gd.closest('#notebook-container');\n",
       "if (notebookContainer) {{\n",
       "    x.observe(notebookContainer, {childList: true});\n",
       "}}\n",
       "\n",
       "// Listen for the clearing of the current output cell\n",
       "var outputEl = gd.closest('.output');\n",
       "if (outputEl) {{\n",
       "    x.observe(outputEl, {childList: true});\n",
       "}}\n",
       "\n",
       "                        })                };                });            </script>        </div>"
      ]
     },
     "metadata": {},
     "output_type": "display_data"
    }
   ],
   "source": [
    "specialists = px.scatter(merge, x=\"critic_fullname\", y=\"mk_price_minus_bmk_price\", color=\"region\", size=\"marketPrice\")\n",
    "specialists.show()"
   ]
  }
 ],
 "metadata": {
  "kernelspec": {
   "display_name": "Python 3",
   "language": "python",
   "name": "python3"
  },
  "language_info": {
   "codemirror_mode": {
    "name": "ipython",
    "version": 3
   },
   "file_extension": ".py",
   "mimetype": "text/x-python",
   "name": "python",
   "nbconvert_exporter": "python",
   "pygments_lexer": "ipython3",
   "version": "3.7.3"
  }
 },
 "nbformat": 4,
 "nbformat_minor": 2
}
